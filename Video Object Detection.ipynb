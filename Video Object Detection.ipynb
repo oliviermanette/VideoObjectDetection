{
 "cells": [
  {
   "cell_type": "markdown",
   "metadata": {},
   "source": [
    "# Preamble \n",
    "L'objectif de ce document est de présenter un algorithme de détermination de l'angle d'une remorque à l'arrière d'un véhicule équipé d'une caméra vidéo.\n"
   ]
  },
  {
   "cell_type": "markdown",
   "metadata": {},
   "source": [
    "# import\n",
    "Le programme écrit en python s'appuie sur plusieurs bibliothèques existantes standard."
   ]
  },
  {
   "cell_type": "code",
   "execution_count": 1,
   "metadata": {
    "ExecuteTime": {
     "end_time": "2019-07-21T08:04:23.504832Z",
     "start_time": "2019-07-21T08:04:21.313454Z"
    }
   },
   "outputs": [
    {
     "name": "stdout",
     "output_type": "stream",
     "text": [
      "4.1.0\n"
     ]
    }
   ],
   "source": [
    "import cv2\n",
    "print(cv2.__version__)\n",
    "import matplotlib\n",
    "import matplotlib.pyplot as plt\n",
    "import numpy as np\n",
    "from numpy import pi\n",
    "import pandas as pd\n",
    "import os\n",
    "from numba import jit\n",
    "from scipy.signal import find_peaks"
   ]
  },
  {
   "cell_type": "markdown",
   "metadata": {},
   "source": [
    "# File selection"
   ]
  },
  {
   "cell_type": "code",
   "execution_count": 2,
   "metadata": {
    "ExecuteTime": {
     "end_time": "2019-07-21T08:04:23.512055Z",
     "start_time": "2019-07-21T08:04:23.507636Z"
    }
   },
   "outputs": [],
   "source": [
    "path = \"/Users/oliviermanette/Desktop/trailer detection challenge/data/P473_Arizona_Day_Asphalt_Close_To_Sunset_dry_Nominal_8300lx\"\n",
    "os.chdir(path)"
   ]
  },
  {
   "cell_type": "code",
   "execution_count": 3,
   "metadata": {
    "ExecuteTime": {
     "end_time": "2019-07-21T08:04:23.525037Z",
     "start_time": "2019-07-21T08:04:23.516274Z"
    }
   },
   "outputs": [
    {
     "data": {
      "text/plain": [
       "'/Users/oliviermanette/Desktop/trailer detection challenge/data/P473_Arizona_Day_Asphalt_Close_To_Sunset_dry_Nominal_8300lx'"
      ]
     },
     "execution_count": 3,
     "metadata": {},
     "output_type": "execute_result"
    }
   ],
   "source": [
    "pwd"
   ]
  },
  {
   "cell_type": "code",
   "execution_count": 4,
   "metadata": {
    "ExecuteTime": {
     "end_time": "2019-07-21T08:04:23.668251Z",
     "start_time": "2019-07-21T08:04:23.529168Z"
    }
   },
   "outputs": [
    {
     "name": "stdout",
     "output_type": "stream",
     "text": [
      "\u001b[1m\u001b[32mP473_Arizona_Day_Asphalt_Close_To_Sunset_dry_Nominal_8300lx.avi\u001b[m\u001b[m*\r\n",
      "\u001b[1m\u001b[32mP473_Arizona_Day_Asphalt_Close_To_Sunset_dry_Nominal_8300lx.dat_GT.csv\u001b[m\u001b[m*\r\n"
     ]
    }
   ],
   "source": [
    "ls"
   ]
  },
  {
   "cell_type": "code",
   "execution_count": 5,
   "metadata": {
    "ExecuteTime": {
     "end_time": "2019-07-21T08:04:23.675925Z",
     "start_time": "2019-07-21T08:04:23.672489Z"
    }
   },
   "outputs": [],
   "source": [
    "#fileName='W420_ES_Hi_Snow_Slush_Asphalt_28klux.avi'\n",
    "fileName = 'P473_Arizona_Day_Asphalt_Close_To_Sunset_dry_Nominal_8300lx.avi'"
   ]
  },
  {
   "cell_type": "markdown",
   "metadata": {},
   "source": [
    "# Test Video Loop"
   ]
  },
  {
   "cell_type": "code",
   "execution_count": 6,
   "metadata": {
    "ExecuteTime": {
     "end_time": "2019-07-21T08:04:29.648300Z",
     "start_time": "2019-07-21T08:04:23.678626Z"
    }
   },
   "outputs": [],
   "source": [
    "cap = cv2.VideoCapture(fileName)  # load the video\n",
    "while (cap.isOpened()):  # play the video by reading frame by frame\n",
    "    ret, frame = cap.read()\n",
    "    if ret == True:\n",
    "        # optional: do some image processing here\n",
    "        cv2.imshow('frame', frame)\n",
    "        # show the video\n",
    "        if cv2.waitKey(1) & 0xFF == ord('q'):\n",
    "            #if 0xFF == ord('q'):\n",
    "            break\n",
    "    else:\n",
    "        break\n",
    "cap.release()\n",
    "cv2.destroyAllWindows()"
   ]
  },
  {
   "cell_type": "markdown",
   "metadata": {},
   "source": [
    "# Variables globales\n",
    "Pour des raisons de lisibilité du code, l'ensemble des variables locales seront précédés du préfixe 'l' afin de les différencier des variables globales qui n'ont pas de préfixe.\n",
    "## Type de données de position"
   ]
  },
  {
   "cell_type": "code",
   "execution_count": 7,
   "metadata": {
    "ExecuteTime": {
     "end_time": "2019-07-21T08:04:29.658516Z",
     "start_time": "2019-07-21T08:04:29.651305Z"
    }
   },
   "outputs": [],
   "source": [
    "posType = np.dtype([('x', 'u1'), ('y', 'u2')])"
   ]
  },
  {
   "cell_type": "markdown",
   "metadata": {},
   "source": [
    "## Type de données de Neurones\n",
    "### Neurone sensoriel à champs récepteur"
   ]
  },
  {
   "cell_type": "code",
   "execution_count": 8,
   "metadata": {
    "ExecuteTime": {
     "end_time": "2019-07-21T08:04:29.669209Z",
     "start_time": "2019-07-21T08:04:29.662172Z"
    }
   },
   "outputs": [],
   "source": [
    "NeuronType = np.dtype([('longueur', 'u1'), ('angle', 'f4'), ('weight', 'f4'),\n",
    "                       ('precision', 'f4'), ('xPos', 'u1'), ('yPos', 'u2'),\n",
    "                       ('groupID', 'u1'), ('layer', 'f4')])"
   ]
  },
  {
   "cell_type": "markdown",
   "metadata": {},
   "source": [
    "## Taille des champs récepteurs neuronaux"
   ]
  },
  {
   "cell_type": "code",
   "execution_count": 9,
   "metadata": {
    "ExecuteTime": {
     "end_time": "2019-07-21T08:04:29.677805Z",
     "start_time": "2019-07-21T08:04:29.673367Z"
    }
   },
   "outputs": [],
   "source": [
    "tailleField = 7"
   ]
  },
  {
   "cell_type": "markdown",
   "metadata": {},
   "source": [
    "# Fonctions\n",
    "## Calcul d'un neurone champ moyen\n",
    "A partir d'une liste de neurones, il retourne le neurone moyen"
   ]
  },
  {
   "cell_type": "code",
   "execution_count": 10,
   "metadata": {
    "ExecuteTime": {
     "end_time": "2019-07-21T08:04:29.695999Z",
     "start_time": "2019-07-21T08:04:29.682707Z"
    }
   },
   "outputs": [],
   "source": [
    "def getAvgFieldNeuron(lNeuronList, typeList=NeuronType):\n",
    "    lNeurons = np.zeros(1, dtype=typeList)\n",
    "    lpNeurons = pd.DataFrame(lNeurons)\n",
    "    lpNeurons['longueur'] = int(lNeuronList.longueur[0:1])\n",
    "    lpNeurons['angle'] = float(\n",
    "        np.sum((lNeuronList.angle * lNeuronList.weight) /\n",
    "               np.sum(lNeuronList.weight)))\n",
    "    lpNeurons['weight'] = float(\n",
    "        np.sum((lNeuronList.weight * lNeuronList.weight) /\n",
    "               np.sum(lNeuronList.weight)))\n",
    "    lpNeurons['precision'] = float(\n",
    "        np.sum((lNeuronList.precision * lNeuronList.weight) /\n",
    "               np.sum(lNeuronList.weight)))\n",
    "    lpNeurons['xPos'] = np.around(\n",
    "        np.sum((lNeuronList.xPos * lNeuronList.weight)) /\n",
    "               np.sum(lNeuronList.weight))\n",
    "    lpNeurons['yPos'] = np.around(\n",
    "        np.sum((lNeuronList.yPos * lNeuronList.weight)) /\n",
    "               np.sum(lNeuronList.weight))\n",
    "    return lpNeurons"
   ]
  },
  {
   "cell_type": "markdown",
   "metadata": {},
   "source": [
    "## Matrice des directions\n",
    "Afin de faciliter le calcul des angles des pixels, une matrice de poids est générée afin d'appliquer à chaque pixel centré sur un champs récepteur un poids correspondant à l'angle d'une ligne passant par ce centre.\n",
    "Voici comment les angles sont représentés <br> <b>IMAGE</b>"
   ]
  },
  {
   "cell_type": "code",
   "execution_count": 11,
   "metadata": {
    "ExecuteTime": {
     "end_time": "2019-07-21T08:04:29.757453Z",
     "start_time": "2019-07-21T08:04:29.700545Z"
    }
   },
   "outputs": [],
   "source": [
    "@jit(nopython=True, parallel=True)\n",
    "def fillAngleMat(lSize):\n",
    "    lOutput = np.zeros((lSize, lSize))\n",
    "    lOffset = int(np.floor(lSize / 2))\n",
    "    for lX in range(0, lSize):\n",
    "        for lY in range(0, lSize):\n",
    "            if (lX - lOffset) == 0:\n",
    "                lOutput[lX, lY] = 90\n",
    "            else:\n",
    "                lOutput[lX, lY] = 0.01 + np.around(\n",
    "                    np.arctan((lY - lOffset) / (lOffset - lX)) / pi * 180, 2)\n",
    "    lOutput[lOffset, lOffset] = 0\n",
    "    return lOutput"
   ]
  },
  {
   "cell_type": "markdown",
   "metadata": {},
   "source": [
    "## Fonction d'activation des neurones\n",
    "Chaque neurone retourne une valeur comprise entre 0 et 255 qui reflète son niveau d'activation. Cette activation reflète le niveau de confiance que le neurone a sur le lien existant entre sa fonction de base et les pixels reçus dans son champs récepteur. Plus les pixels sont organisés de façon à former une ligne avec l'angle correspondant à la fonction de base du neurone et plus ce dernier sera activé. Comme on ne souhaite pas obtenir une activation de valeur infinie, on utilise donc une fonction sigmoide qui s'applique à l'écart-type des angles supposés. "
   ]
  },
  {
   "cell_type": "code",
   "execution_count": 12,
   "metadata": {
    "ExecuteTime": {
     "end_time": "2019-07-21T08:04:29.765840Z",
     "start_time": "2019-07-21T08:04:29.760015Z"
    }
   },
   "outputs": [],
   "source": [
    "@jit(nopython=True, parallel=True)\n",
    "def sigmoidActivationFctN1(lActivationVector):\n",
    "    lDenom = (1 + np.exp(0.1 * (np.abs(np.std(lActivationVector)) - 30)))\n",
    "    return 255 / lDenom"
   ]
  },
  {
   "cell_type": "markdown",
   "metadata": {},
   "source": [
    "## Création d'une liste de neurones à champs récepteurs"
   ]
  },
  {
   "cell_type": "code",
   "execution_count": 736,
   "metadata": {
    "ExecuteTime": {
     "end_time": "2019-07-21T15:21:34.012588Z",
     "start_time": "2019-07-21T15:21:33.944327Z"
    }
   },
   "outputs": [],
   "source": [
    "#@jit(nopython=True, parallel=True)\n",
    "def getNeuronActivationList(idxX,\n",
    "                            idxY,\n",
    "                            size,\n",
    "                            frameE,\n",
    "                            nbPixelPts,\n",
    "                            lNeuronType=NeuronType,\n",
    "                            lVerbose=False):\n",
    "    # Il doit y avoir un nombre minimal de pixels\n",
    "    # dans le champs récepteur du neurone\n",
    "    lCriterion = nbPixelPts >= size\n",
    "    \n",
    "    # Création d'un tableau panda de neurones\n",
    "    nbNeurons = sum(lCriterion) # taille du tableau\n",
    "    lNeurons = np.zeros(nbNeurons, dtype=lNeuronType)\n",
    "    lpNeurons = pd.DataFrame(lNeurons)\n",
    "    lpNeurons['longueur'] = size\n",
    "    \n",
    "\n",
    "    # Variable correspondant à un demi field\n",
    "    lHalfL = int(np.floor(size / 2))\n",
    "    \n",
    "    # Matrice de détermination des angles\n",
    "    lAngleMat = fillAngleMat(size)\n",
    "\n",
    "    #indices X,Y de positions des pixels entourés de pixels\n",
    "    newX = idxX[lCriterion]\n",
    "    newY = idxY[lCriterion]\n",
    "    \n",
    "    # Affichage d'Informations facilitant le debugage\n",
    "    if lVerbose:\n",
    "        print(\"size :\" + str(len(newX)))\n",
    "        print(\"newX\")\n",
    "        print(np.min(newX))\n",
    "        print(np.max(newX))\n",
    "        print(\"newY\")\n",
    "        print(np.min(newY))\n",
    "        print(np.max(newY))\n",
    "        print()\n",
    "        \n",
    "    pos = 0\n",
    "    lnPos = 0\n",
    "    for lintX in newX:\n",
    "        lintY = newY[pos]\n",
    "        if (lintX - lHalfL) < 0 or (lintY - lHalfL) < 0:\n",
    "            print(\"exceed the limit of the matrix\")\n",
    "            pos += 1\n",
    "            continue\n",
    "\n",
    "        # récupération de pixels à l'intérieur d'un champs récepteur\n",
    "        lNeuronFieldFrame = frameE[int(lintX - lHalfL):int(lintX + lHalfL + 1),\n",
    "                                   int(lintY - lHalfL):int(lintY + lHalfL +\n",
    "                                                           1)] / 255\n",
    "\n",
    "        try:\n",
    "            # Calcul de l'angle à l'aide de la Matrice de détermination\n",
    "            tmp = np.multiply(lAngleMat, lNeuronFieldFrame)\n",
    "        except:\n",
    "            print(\"error 10 : \")\n",
    "            print(\"lAngleMat\")\n",
    "            print(lAngleMat)\n",
    "            print(\"lNeuronFieldFrame\")\n",
    "            print(lNeuronFieldFrame)\n",
    "            print(\"lintX\")\n",
    "            print(lintX)\n",
    "            print(\"lintY\")\n",
    "            print(lintY)\n",
    "            print(\"lHalfL\")\n",
    "            print(lHalfL)\n",
    "            continue\n",
    "\n",
    "        lNeuronFieldValues = tmp[np.nonzero(tmp)]\n",
    "        if lVerbose:\n",
    "            print(\"lNeuronFieldFrame :\")\n",
    "            print(lNeuronFieldFrame)\n",
    "            print(\"np.multiply(lAngleMat, lNeuronFieldFrame)\")\n",
    "            print(tmp)\n",
    "            print(\"lNeuronFieldValues\")\n",
    "            print(lNeuronFieldValues)\n",
    "        if (np.mean(lNeuronFieldValues)) < 0:\n",
    "            lNeuronFieldValues[lNeuronFieldValues > 89] = -90\n",
    "        elif np.std(lNeuronFieldValues) > 45:\n",
    "            lNeuronFieldValues[lNeuronFieldValues > 89] = -90\n",
    "        if (lNeuronFieldValues.size > 0):\n",
    "            lpNeurons.loc[pos, ['angle']] = np.mean(lNeuronFieldValues)\n",
    "            lpNeurons.loc[pos, ['weight']] = sigmoidActivationFctN1(\n",
    "                lNeuronFieldValues)\n",
    "            lpNeurons.loc[pos, ['precision']] = np.std(lNeuronFieldValues)\n",
    "            lpNeurons.loc[pos, ['xPos']] = lintX\n",
    "            lpNeurons.loc[pos, ['yPos']] = lintY\n",
    "            if (np.abs(np.mean(lNeuronFieldValues)) < 90):\n",
    "                lpNeurons.loc[pos, ['layer']] = np.around(lintY +\n",
    "                    np.sin(np.around(np.mean(lNeuronFieldValues)) / 180 * np.pi) *\n",
    "                    lintX);\n",
    "            else:\n",
    "                lpNeurons.loc[pos, ['layer']] = frameE.shape[0] + lintX;\n",
    "            lnPos += 1\n",
    "        else:\n",
    "            True  #print (\"error it shouldn't be zero\")\n",
    "        pos += 1\n",
    "    if lVerbose:\n",
    "        print(\"nb de positions couvertes : \" + str(lnPos) + \" sur \" + str(pos))\n",
    "\n",
    "    return lpNeurons"
   ]
  },
  {
   "cell_type": "markdown",
   "metadata": {},
   "source": [
    "## Nombre de pixels actifs dans chaque champs récepteur\n",
    "A partir des coordonnées des centres supposés de chaque champs récepteurs et de la taille du champs récepteur, recherche sur la frame bitmap passée en paramètres, retourne un tableau contenant le nombre de pixels allumés à l'intérieur de chacun de ces champs."
   ]
  },
  {
   "cell_type": "code",
   "execution_count": 14,
   "metadata": {
    "ExecuteTime": {
     "end_time": "2019-07-21T08:04:29.825180Z",
     "start_time": "2019-07-21T08:04:29.811085Z"
    }
   },
   "outputs": [],
   "source": [
    "@jit(nopython=True, parallel=True)\n",
    "def nbPixelField(lTableX, lTableY, lFrameEdge, lintTailleField=3):\n",
    "    lIdx = 0\n",
    "    lResults = np.zeros(lTableX.size)\n",
    "    lRayon = np.floor(lintTailleField / 2)\n",
    "    lTailleMaxX = lFrameEdge.shape[0]\n",
    "    #lTailleMaxY = lFrameEdge.shape[1]\n",
    "    lHalfX = lTailleMaxX / 3\n",
    "\n",
    "    for lPosX in lTableX:\n",
    "        lPosY = lTableY[lIdx]\n",
    "        if lPosX > lHalfX and lPosX >= lRayon and (lPosX +\n",
    "                                                   lRayon) < lTailleMaxX:\n",
    "            lResults[lIdx] = np.sum(\n",
    "                lFrameEdge[int(lPosX - lRayon):int(lPosX + lRayon + 1),\n",
    "                           int(lPosY - lRayon):int(lPosY + lRayon + 1)] / 255)\n",
    "        lIdx += 1\n",
    "    return lResults"
   ]
  },
  {
   "cell_type": "code",
   "execution_count": 15,
   "metadata": {
    "ExecuteTime": {
     "end_time": "2019-07-21T08:04:29.841195Z",
     "start_time": "2019-07-21T08:04:29.829659Z"
    }
   },
   "outputs": [],
   "source": [
    "#@jit(nopython=True, parallel=True)\n",
    "def getNonZero(LImg):\n",
    "    return np.where(LImg != [0])"
   ]
  },
  {
   "cell_type": "markdown",
   "metadata": {},
   "source": [
    "## Coordonnées de la fonction de base (ligne)"
   ]
  },
  {
   "cell_type": "code",
   "execution_count": 16,
   "metadata": {
    "ExecuteTime": {
     "end_time": "2019-07-21T08:04:29.865736Z",
     "start_time": "2019-07-21T08:04:29.845139Z"
    }
   },
   "outputs": [],
   "source": [
    "def getNFCoordinate(lNeurone,lVerbose=False):\n",
    "    try:\n",
    "        lintDist = int(np.floor(lNeurone.longueur / 2))\n",
    "    except:\n",
    "        lP1 = (0, 0)\n",
    "        lP2 = (0, 0)\n",
    "        return (lP1, lP2)\n",
    "    if np.abs(lNeurone.angle) < 45:\n",
    "        lAlpha = lNeurone.angle / 180 * pi\n",
    "        lintY1 = np.around(lNeurone.yPos - lintDist * np.tan(lAlpha))\n",
    "        lintX1 = lNeurone.xPos + lintDist\n",
    "        lintY2 = np.around(lNeurone.yPos + lintDist * np.tan(lAlpha))\n",
    "        lintX2 = lNeurone.xPos - lintDist\n",
    "    else:\n",
    "        lAlpha = (90 - lNeurone.angle) / 180 * pi\n",
    "        if lVerbose:\n",
    "            print(\"Angle : \"+str(lNeurone.angle))\n",
    "            print(\"yPos = \"+str(lNeurone.yPos)+\"xPos = \"+str(lNeurone.xPos))\n",
    "        lintX1 = np.around(lNeurone.xPos - lintDist * np.tan(lAlpha))\n",
    "        lintY1 = lNeurone.yPos + lintDist\n",
    "        lintX2 = np.around(lNeurone.xPos + lintDist * np.tan(lAlpha))\n",
    "        lintY2 = lNeurone.yPos - lintDist\n",
    "    lP1 = (int(lintY1), int(lintX1))\n",
    "    lP2 = (int(lintY2), int(lintX2))\n",
    "    if lVerbose:\n",
    "        print(\"point 1: \"+str(lP1))\n",
    "        print(\"point 2: \"+str(lP2))\n",
    "        print(\"\")\n",
    "    return lP1, lP2"
   ]
  },
  {
   "cell_type": "markdown",
   "metadata": {},
   "source": [
    "## Calcule la distance entre deux points"
   ]
  },
  {
   "cell_type": "code",
   "execution_count": 17,
   "metadata": {
    "ExecuteTime": {
     "end_time": "2019-07-21T08:04:29.881021Z",
     "start_time": "2019-07-21T08:04:29.872749Z"
    }
   },
   "outputs": [],
   "source": [
    "def getDistance(lx1, ly1, lx2, ly2):\n",
    "    return np.sqrt(\n",
    "        np.power(np.abs(lx1 - lx2), 2) + np.power(np.abs(ly1 - ly2), 2))"
   ]
  },
  {
   "cell_type": "markdown",
   "metadata": {},
   "source": [
    "## Retourne les neurones les plus proches d'un point"
   ]
  },
  {
   "cell_type": "code",
   "execution_count": 18,
   "metadata": {
    "ExecuteTime": {
     "end_time": "2019-07-21T08:04:29.894238Z",
     "start_time": "2019-07-21T08:04:29.884598Z"
    }
   },
   "outputs": [],
   "source": [
    "def closestFieldNeurons(lneuronList, lposX, lposY, ldistance):\n",
    "    return lneuronList[(lneuronList.xPos >= lposX - ldistance)\n",
    "                       & (lneuronList.xPos <= lposX + ldistance) &\n",
    "                       (lneuronList.yPos >= lposY - ldistance) &\n",
    "                       (lneuronList.yPos <= lposY + ldistance)]"
   ]
  },
  {
   "cell_type": "markdown",
   "metadata": {},
   "source": [
    "## Crée un neurone avec les paramètres passés"
   ]
  },
  {
   "cell_type": "code",
   "execution_count": 19,
   "metadata": {
    "ExecuteTime": {
     "end_time": "2019-07-21T08:04:29.908656Z",
     "start_time": "2019-07-21T08:04:29.897299Z"
    }
   },
   "outputs": [],
   "source": [
    "def createNeuron(llong, langle, lXpos, lYpos, lweight=255, lprecis=0, lGroup=0, llayer=0, lNType=NeuronType):\n",
    "    lNeurons = np.zeros(1, dtype=lNType);\n",
    "    lpNeurons = pd.DataFrame(lNeurons);\n",
    "    lpNeurons['longueur'] = llong;\n",
    "    lpNeurons['angle'] = langle;\n",
    "    lpNeurons['weight'] = lweight;\n",
    "    lpNeurons['precision'] = lprecis;\n",
    "    lpNeurons['xPos'] = lXpos;\n",
    "    lpNeurons['yPos'] = lYpos;\n",
    "    lpNeurons['groupID'] = lGroup;\n",
    "    lpNeurons['layer'] = llayer;\n",
    "    return lpNeurons;"
   ]
  },
  {
   "cell_type": "markdown",
   "metadata": {},
   "source": [
    "## Dessine les fonctions de base des neurones sur un bitmap"
   ]
  },
  {
   "cell_type": "code",
   "execution_count": 547,
   "metadata": {
    "ExecuteTime": {
     "end_time": "2019-07-21T12:15:12.806092Z",
     "start_time": "2019-07-21T12:15:12.792121Z"
    }
   },
   "outputs": [],
   "source": [
    "def drawFieldNeurons(lNeuronList,\n",
    "                     lBitmap,\n",
    "                     lVerbose=False,\n",
    "                     lGroupMember=0,\n",
    "                     lLayer=0,\n",
    "                     lLayerRange=0,\n",
    "                     lAngle=0,\n",
    "                     lAngleRange=0):\n",
    "    lInitShow = 8\n",
    "    if lVerbose:\n",
    "        lInitShow = 0\n",
    "    lIndexPassOver = lInitShow\n",
    "    for index, lNeuron in lNeuronList.iterrows():\n",
    "        if lGroupMember > 0:\n",
    "            if lNeuron.groupID != lGroupMember:\n",
    "                continue\n",
    "        if lLayer != 0:\n",
    "            if (lNeuron.layer < lLayer - lLayerRange) or (\n",
    "                    lNeuron.layer > lLayer + lLayerRange):\n",
    "                continue\n",
    "        if lAngle != 0:\n",
    "            if (lNeuron.angle < lAngle - lAngleRange) or (\n",
    "                    lNeuron.angle > lAngle + lAngleRange):\n",
    "                continue\n",
    "        lCoord = getNFCoordinate(lNeuron, lVerbose)\n",
    "        if lVerbose:\n",
    "            print(lNeuron)\n",
    "            print(lCoord)\n",
    "        if lIndexPassOver > 7:\n",
    "            lIndexPassOver = lInitShow\n",
    "            try:\n",
    "                cv2.line(\n",
    "                    lBitmap,\n",
    "                    lCoord[0],\n",
    "                    lCoord[1],\n",
    "                    #        (255, 255, 255), 1)\n",
    "                    (int(lNeuron.weight), int(\n",
    "                        lNeuron.weight), int(lNeuron.weight)),\n",
    "                    1)\n",
    "            except:\n",
    "                True\n",
    "        if lVerbose:\n",
    "            lIndexPassOver += 1\n",
    "    return lBitmap"
   ]
  },
  {
   "cell_type": "markdown",
   "metadata": {
    "ExecuteTime": {
     "end_time": "2019-07-18T17:53:27.662094Z",
     "start_time": "2019-07-18T17:53:27.647097Z"
    }
   },
   "source": [
    "## Find neuronal groups\n",
    "Un groupe neuronal est un ensemble de neurone dont les champs récepteurs sont complémentaires les uns des autres. Pour faire  partie d'un champs récepteur, deux conditions doivent être réunies.\n",
    "<b>(A compléter)</b>\n",
    "### Translation\n",
    "Retourne les coordonnées d'un point translaté d'une certaine distance avec un certain angle. Cette fonction demande un angle, une distance et les coordonnées d'un point de départ. Il retourne ensuite les coordonnées après translation."
   ]
  },
  {
   "cell_type": "code",
   "execution_count": 21,
   "metadata": {
    "ExecuteTime": {
     "end_time": "2019-07-21T08:04:29.939810Z",
     "start_time": "2019-07-21T08:04:29.928673Z"
    }
   },
   "outputs": [],
   "source": [
    "#@jit(nopython=True, parallel=True)\n",
    "def moveCoordDeg(langle, lstartX, lstartY, ldistance, lVerbose=False):\n",
    "    if lVerbose:\n",
    "        ##DEBUG\n",
    "        print(\"* moveCoordDeg(\" + str(float(langle)) + \",\" +\n",
    "              str(int(lstartX)) + \",\" + str(int(lstartY)) +\n",
    "              \",\" + str(int(ldistance))+\")\")\n",
    "        ##DEBUG\n",
    "    ltipX = lstartX + ldistance * np.cos(langle / 180 * pi)\n",
    "    ltipY = lstartY - ldistance * np.sin(langle / 180 * pi)\n",
    "    if lVerbose:\n",
    "        print (\"* coord ==> (\"+str(ltipX)+\",\"+str(ltipY))\n",
    "    return ltipX, ltipY"
   ]
  },
  {
   "cell_type": "markdown",
   "metadata": {},
   "source": [
    "Effectue le même calcul que la fonction <i>moveCoordDeg </i>  mais prend comme paramètre un neurone. Il effectue la translation en prenant comme point de départ le centre du champs récepteur et effectue un déplacement de la taille de ce champs dans la direction de la fonction de base. "
   ]
  },
  {
   "cell_type": "code",
   "execution_count": 22,
   "metadata": {
    "ExecuteTime": {
     "end_time": "2019-07-21T08:04:29.952261Z",
     "start_time": "2019-07-21T08:04:29.943330Z"
    }
   },
   "outputs": [],
   "source": [
    "def getNextPosition(lneuroneMoyen, lVerbose): \n",
    "    return moveCoordDeg(float(lneuroneMoyen.angle), int(lneuroneMoyen.xPos),\n",
    "                        int(lneuroneMoyen.yPos), int(lneuroneMoyen.longueur), lVerbose)"
   ]
  },
  {
   "cell_type": "markdown",
   "metadata": {},
   "source": [
    "### Calcul des  groupes à partir d'une liste de neurones à champs récepteurs"
   ]
  },
  {
   "cell_type": "code",
   "execution_count": 23,
   "metadata": {
    "ExecuteTime": {
     "end_time": "2019-07-21T08:04:29.993954Z",
     "start_time": "2019-07-21T08:04:29.955266Z"
    }
   },
   "outputs": [],
   "source": [
    "def findGroups(lneuronList, lVerbose=False):\n",
    "    # Sélection d'un nouveau numéro de Groupe (GroupID)\n",
    "    lintCurrentGroupID = 0\n",
    "    lintNbGroups = 0\n",
    "    lIndex = 0\n",
    "\n",
    "    ##DEBUG\n",
    "    lnbNeuron = 0\n",
    "    ##DEBUG\n",
    "    # liste des neurones sans groupe\n",
    "    lNoGroupList = lneuronList[lneuronList.groupID == 0]\n",
    "\n",
    "    while lNoGroupList.shape[0] > 0:\n",
    "\n",
    "        #Sélection d'un neurone dans la liste (ceux sans groupID ou groupID=0)\n",
    "        lMoyenNeuron = lNoGroupList.iloc[0]\n",
    "        lIndex = lNoGroupList.head().index.values[0]\n",
    "\n",
    "        while True:\n",
    "            #Assignation d'un nouveau numéro de GroupID en cours\n",
    "            lintNbGroups += 1\n",
    "            lintCurrentGroupID += 1\n",
    "            if lneuronList[lneuronList.groupID ==\n",
    "                           lintCurrentGroupID].shape[0] == 0:\n",
    "                break\n",
    "\n",
    "        lneuronList.loc[lIndex, ['groupID']] = lintCurrentGroupID\n",
    "\n",
    "        #déplacement\n",
    "        lnPos = getNextPosition(lMoyenNeuron, lVerbose)\n",
    "\n",
    "        #recherche de neurones proches\n",
    "        lClosestNeurons = closestFieldNeurons(\n",
    "            lneuronList, lnPos[0], lnPos[1],\n",
    "            int(np.floor(lMoyenNeuron.longueur / 2)))\n",
    "        if lVerbose:\n",
    "            print(\"\")\n",
    "            print(\"\")\n",
    "            print(\"Coordonnées en cours : (\" + str(lnPos[0]) + \",\" +\n",
    "                  str(lnPos[1]) + \")\")\n",
    "\n",
    "            lnbNeuron += 1\n",
    "            if lClosestNeurons.shape[0] == 0:\n",
    "                print(\"Aucun neurone a proximité pour le neurone #\" +\n",
    "                      str(lnbNeuron) + \" aux coordonnées : (\" + str(lnPos[0]) +\n",
    "                      \",\" + str(lnPos[1]) + str(\") a la distance :\") +\n",
    "                      str(int(np.floor(lMoyenNeuron.longueur / 2))))\n",
    "\n",
    "            #Oui ==> retour étape 1\n",
    "            lNbFindGroup = 0\n",
    "\n",
    "        while lClosestNeurons.shape[0] != 0:\n",
    "            #recherche des groupID dans cette sous-sélection\n",
    "            if lClosestNeurons[lClosestNeurons.groupID> 0].shape[0] == 0:\n",
    "                #Non => Assigner à tous les neurones de la sous-sélection\n",
    "                #le groupID en cours => aller directement à l'étape 7\n",
    "                if lVerbose:\n",
    "                    print(\"Aucun neurone dans le groupe : \" +\n",
    "                          str(lintCurrentGroupID))\n",
    "\n",
    "                for lintIdx in lClosestNeurons.head().index.values:\n",
    "                    lneuronList.loc[lintIdx, ['groupID']] = lintCurrentGroupID\n",
    "            else:\n",
    "                #Oui\n",
    "                if lVerbose:\n",
    "                    ##DEBUG\n",
    "                    #lNbFindGroup += 1\n",
    "                    print(\"Trouvé \" + str(lClosestNeurons[\n",
    "                        lClosestNeurons.groupID > 0].shape[0]) +\n",
    "                          \" neurone(s) déja dans des groupes :\")\n",
    "                    print(\"Groupe en cours : \" + str(lintCurrentGroupID))\n",
    "\n",
    "                #Récupération de la liste de tous les groupID utilisés\n",
    "                #Sélection du groupID le plus petit\n",
    "                #(en comparant aussi avec le groupID en cours)\n",
    "                lintPreviousGroupID = lintCurrentGroupID\n",
    "                lintCurrentGroupID = np.min(\n",
    "                    lClosestNeurons[lClosestNeurons.groupID > 0].groupID)\n",
    "                if lVerbose:\n",
    "                    print(\"Change pour le groupe #\" + str(lintCurrentGroupID))\n",
    "                    print(\"-\")\n",
    "                #Assigner au neurone en cours le nouveau groupe\n",
    "                lneuronList.loc[lIndex, ['groupID']] = lintCurrentGroupID\n",
    "                #Assigner à tous les neurones de la sous-sélection ce nouveau groupID\n",
    "                for lintIdx in lClosestNeurons.head().index.values:\n",
    "                    lneuronList.loc[lintIdx, ['groupID']] = lintCurrentGroupID\n",
    "                    #remplacer dans la liste globale,\n",
    "                    #pour chaque groupID présent dans la liste par le nouveau groupID\n",
    "                    for lintGroupID in lClosestNeurons[\n",
    "                            lClosestNeurons.groupID > 0].groupID:\n",
    "                        lneuronList.loc[lneuronList.groupID == lintGroupID,\n",
    "                                        'groupID'] = lintCurrentGroupID\n",
    "                if lintPreviousGroupID == lintCurrentGroupID:\n",
    "                    #si tous les neurones\n",
    "                    if lClosestNeurons[lClosestNeurons.groupID >\n",
    "                                       0].shape[0] == lClosestNeurons[\n",
    "                                           lClosestNeurons.groupID ==\n",
    "                                           lintPreviousGroupID].shape[0]:\n",
    "                        break  # sortie de la boucle while\n",
    "            if lVerbose:\n",
    "                #Calcul du neurone Field moyen\n",
    "                print(\"Neurones trouvé :\")\n",
    "                print(lClosestNeurons)\n",
    "            lMoyenNeuron = getAvgFieldNeuron(lClosestNeurons)\n",
    "            if lVerbose:\n",
    "                print(\"neurone Moyen\")\n",
    "                print(lMoyenNeuron)\n",
    "            #déplacement\n",
    "            lnPos = getNextPosition(lMoyenNeuron, lVerbose)\n",
    "\n",
    "            #recherche de neurones proches\n",
    "            lClosestNeurons = closestFieldNeurons(\n",
    "                lneuronList, lnPos[0], lnPos[1],\n",
    "                int(np.floor(lMoyenNeuron.longueur / 2)))\n",
    "\n",
    "        lNoGroupList = lneuronList[lneuronList.groupID == 0]\n",
    "    return lneuronList"
   ]
  },
  {
   "cell_type": "markdown",
   "metadata": {},
   "source": [
    "## Get the Weighted Average of the group Angle (WAGA)"
   ]
  },
  {
   "cell_type": "code",
   "execution_count": 24,
   "metadata": {
    "ExecuteTime": {
     "end_time": "2019-07-21T08:04:30.005388Z",
     "start_time": "2019-07-21T08:04:29.997838Z"
    }
   },
   "outputs": [],
   "source": [
    "def getWAGA(lNeuronList, lGroupID):\n",
    "    lnl = lNeuronList[lNeuronList.groupID==lGroupID]\n",
    "    return float(np.sum((lnl.angle * lnl.weight) /\n",
    "               np.sum(lnl.weight)))"
   ]
  },
  {
   "cell_type": "markdown",
   "metadata": {},
   "source": [
    "## Another Better way to form a group : Line Neurons\n",
    "### Get main neurons forming a group"
   ]
  },
  {
   "cell_type": "code",
   "execution_count": 1041,
   "metadata": {
    "ExecuteTime": {
     "end_time": "2019-07-21T21:34:26.092015Z",
     "start_time": "2019-07-21T21:34:26.062843Z"
    }
   },
   "outputs": [],
   "source": [
    "def getMainNeurons(lNeuronList,\n",
    "                   Order=0,\n",
    "                   lVerbose=False,\n",
    "                   binSizeLayer=256,\n",
    "                   binSizeAngle=45):\n",
    "\n",
    "    lMargin = pd.Series([0, 0])\n",
    "    \n",
    "    ######## Histogramme des Layers dans la population de neurones ####\n",
    "    lLayerHist = (lNeuronList['layer'].pipe(lambda s: pd.Series(\n",
    "        np.histogram(s, bins=binSizeLayer))).pipe(lambda s: pd.Series(\n",
    "            s[0], index=s[1][:-1])))\n",
    "\n",
    "    lLayerHist = lLayerHist.append(lMargin)\n",
    "    lLayerHist = lMargin.append(lLayerHist)\n",
    "    \n",
    "    ######## Détection des pics des Layers les plus fréquent ############\n",
    "    peaks, ldict = find_peaks(lLayerHist, height=tailleField/2)\n",
    "\n",
    "    if lVerbose:\n",
    "        ser = lLayerHist.to_numpy()\n",
    "        plt.plot(ser)\n",
    "        plt.plot(peaks, ser[peaks], \"x\")\n",
    "        plt.plot(np.zeros_like(ser), \"--\", color=\"gray\")\n",
    "        plt.ylabel('frequency')\n",
    "        plt.show()\n",
    "        print(\"number of group found : \" + str(len(peaks)))\n",
    "\n",
    "    lidx2 = 0\n",
    "    lCurrentOrder = 0\n",
    "    while lCurrentOrder <= Order:\n",
    "        if (np.sum(ldict['peak_heights']) == 0):\n",
    "            print(\"ERROR 40 : exceed number of group found\")\n",
    "            break\n",
    "        try:\n",
    "            lidx2 = peaks[np.argmax(ldict['peak_heights'])]\n",
    "        except:\n",
    "            print(\"ERROR 30 : no neuron found\")\n",
    "            continue\n",
    "        lidx1 = np.argmax(ldict['peak_heights'])\n",
    "        #print(lidx1)\n",
    "        ldict['peak_heights'][lidx1] = 0\n",
    "        lCurrentOrder += 1\n",
    "\n",
    "    ######### Récupération de la valeur de layer correspondant au pic ##\n",
    "    lLayerPic = lLayerHist.index.values[lidx2:lidx2 + 1][0]\n",
    "    if lVerbose:\n",
    "        print(\"Layer = \" + str(lLayerPic))\n",
    "\n",
    "    ######### Récupération de la sous-population dans une certaine Layer\n",
    "    lNeuronTopLayer = lNeuronList[(lNeuronList.layer >= (lLayerPic - 5))\n",
    "                                  & (lNeuronList.layer <= (lLayerPic + 5))]\n",
    "    lAngleHist = lNeuronTopLayer['angle'].pipe(lambda s: pd.Series(\n",
    "        np.histogram(s, bins=binSizeAngle))).pipe(lambda s: pd.Series(\n",
    "            s[0], index=s[1][:-1]))\n",
    "    \n",
    "    lAngleHist = lAngleHist.append(lMargin)\n",
    "    lAngleHist = lMargin.append(lAngleHist)\n",
    "\n",
    "    ######### Detection de l'angle le plus fréquent ###################\n",
    "    peaks, ldictAngle = find_peaks(lAngleHist, height=tailleField/2)\n",
    "    if lVerbose:\n",
    "        print(\"number of ANGLE found : \" + str(len(peaks)))\n",
    "    try:\n",
    "        lidx2 = peaks[np.argmax(ldictAngle['peak_heights'])]\n",
    "    except:\n",
    "        if lVerbose:\n",
    "            print(\"ERROR 20 : no neuron found\")\n",
    "        return lNeuronTopLayer\n",
    "    lAnglePic = lAngleHist.index.values[lidx2:lidx2 + 1][0]\n",
    "\n",
    "    if lVerbose:\n",
    "        print(\"Angle = \" + str(lAnglePic))\n",
    "\n",
    "    lNeuronTopLayer = lNeuronList[(lNeuronList.layer >= (lLayerPic - 5))\n",
    "                                  & (lNeuronList.layer <= (lLayerPic + 5))\n",
    "                                  & (lNeuronList.angle >= (lAnglePic - 5))\n",
    "                                  & (lNeuronList.angle <= (lAnglePic + 5))]\n",
    "\n",
    "    if lVerbose:\n",
    "        print(\"Number of neurons in this group : \" + str(len(lNeuronTopLayer)))\n",
    "\n",
    "    return lNeuronTopLayer"
   ]
  },
  {
   "cell_type": "markdown",
   "metadata": {},
   "source": [
    "### Get Line Neuron \n",
    "In order to replace a list of smaller Field Neuron"
   ]
  },
  {
   "cell_type": "code",
   "execution_count": 1001,
   "metadata": {
    "ExecuteTime": {
     "end_time": "2019-07-21T21:13:47.891049Z",
     "start_time": "2019-07-21T21:13:47.881866Z"
    }
   },
   "outputs": [],
   "source": [
    "def getLineNeuron(lNeuronList, lGroupID=0, typeList=NeuronType):\n",
    "    lNeurons = getAvgFieldNeuron(lNeuronList, typeList)\n",
    "    lTMPx1 = np.max(lNeuronList.xPos)\n",
    "    lTMPx2 = np.min(lNeuronList.xPos)\n",
    "    lTMPy1 = np.max(lNeuronList.yPos)\n",
    "    lTMPy2 = np.min(lNeuronList.yPos)\n",
    "    lNeurons.groupID = lGroupID;\n",
    "    lNeurons.longueur = np.ceil(getDistance(lTMPx1,lTMPy1,lTMPx2,lTMPy2))\n",
    "    return lNeurons"
   ]
  },
  {
   "cell_type": "markdown",
   "metadata": {},
   "source": [
    "## Get a population of Line Number\n",
    "### Get Group Number in Field Neurons List\n",
    "Pour faire une boucle sur l'ensemble des neurones Field, il faut connaitre le nombre de groupes principaux il est possible de former."
   ]
  },
  {
   "cell_type": "code",
   "execution_count": 1049,
   "metadata": {
    "ExecuteTime": {
     "end_time": "2019-07-21T21:39:39.667608Z",
     "start_time": "2019-07-21T21:39:39.655970Z"
    }
   },
   "outputs": [],
   "source": [
    "def getGroupNumber(lNeuronList,\n",
    "                   lVerbose=False,\n",
    "                   binSizeLayer=256):   \n",
    "    \n",
    "    lMargin = pd.Series([0, 0])\n",
    "    \n",
    "    ######## Histogramme des Layers dans la population de neurones ####\n",
    "    lLayerHist = (lNeuronList['layer'].pipe(lambda s: pd.Series(\n",
    "        np.histogram(s, bins=binSizeLayer))).pipe(lambda s: pd.Series(\n",
    "            s[0], index=s[1][:-1])))\n",
    "    \n",
    "    lLayerHist = lLayerHist.append(lMargin)\n",
    "    lLayerHist = lMargin.append(lLayerHist)\n",
    "    \n",
    "    ######## Détection des pics des Layers les plus fréquent ############\n",
    "    peaks, _ = find_peaks(lLayerHist, height=tailleField/2);\n",
    "    if lVerbose:\n",
    "        print(\"Looking for \"+str(len(peaks))+ \" peaks in a loop\");\n",
    "    return len(peaks)"
   ]
  },
  {
   "cell_type": "markdown",
   "metadata": {},
   "source": [
    "### get whole population of List Neurons"
   ]
  },
  {
   "cell_type": "code",
   "execution_count": 1011,
   "metadata": {
    "ExecuteTime": {
     "end_time": "2019-07-21T21:20:50.153890Z",
     "start_time": "2019-07-21T21:20:50.134094Z"
    }
   },
   "outputs": [],
   "source": [
    "def getLineNeuronList(lNeuronList,\n",
    "                      MaxNbNeurons=0,\n",
    "                      lVerbose=False,\n",
    "                      binSizeLayer=256,\n",
    "                      binSizeAngle=45,\n",
    "                      lNeuronType=NeuronType):\n",
    "    if MaxNbNeurons == 0:\n",
    "        nbNeurons = getGroupNumber(lNeuronList, lVerbose, binSizeLayer)\n",
    "    else:\n",
    "        nbNeurons = MaxNbNeurons;\n",
    "    lNeurons = np.zeros(nbNeurons, dtype=lNeuronType)\n",
    "    lpNeurons = pd.DataFrame(lNeurons)\n",
    "\n",
    "    for lTmpI in range(0, nbNeurons):         \n",
    "        lTMPNeuronLIST = getMainNeurons(lNeuronList, lTmpI, lVerbose,binSizeLayer, binSizeAngle);\n",
    "        #lpNeurons.loc[lTmpI] \n",
    "        lTmpNeuron = getLineNeuron(lTMPNeuronLIST, lTmpI, lNeuronType);\n",
    "        lTmpNeuron = pd.DataFrame(lTmpNeuron)        \n",
    "        lpNeurons.loc[lTmpI, ['longueur']] = lTmpNeuron.longueur[0]\n",
    "        lpNeurons.loc[lTmpI, ['angle']] = lTmpNeuron.angle[0]\n",
    "        lpNeurons.loc[lTmpI, ['weight']] = lTmpNeuron.weight[0]\n",
    "        lpNeurons.loc[lTmpI, ['precision']] = lTmpNeuron.precision[0]\n",
    "        lpNeurons.loc[lTmpI, ['xPos']] = lTmpNeuron.xPos[0]\n",
    "        lpNeurons.loc[lTmpI, ['yPos']] = lTmpNeuron.yPos[0]\n",
    "        lpNeurons.loc[lTmpI, ['groupID']] = lTmpNeuron.groupID[0]\n",
    "        lpNeurons.loc[lTmpI, ['layer']] = len(lTMPNeuronLIST)#lTmpNeuron.layer[0]\n",
    "\n",
    "    return lpNeurons;"
   ]
  },
  {
   "cell_type": "markdown",
   "metadata": {},
   "source": [
    "## Get smaller frame from Line Neuron"
   ]
  },
  {
   "cell_type": "code",
   "execution_count": 1101,
   "metadata": {
    "ExecuteTime": {
     "end_time": "2019-07-21T23:27:27.923757Z",
     "start_time": "2019-07-21T23:27:27.903962Z"
    }
   },
   "outputs": [],
   "source": [
    "def getSmallerFrame(lLineNeuron, frame, lVerbose=False):\n",
    "    ((lTMPx1,lTMPy1),(lTMPx2,lTMPy2)) = getNFCoordinate(lLineNeuron)\n",
    "    if lVerbose:\n",
    "        print (((lTMPx1,lTMPy1),(lTMPx2,lTMPy2)))\n",
    "    if lTMPx1<=lTMPx2:\n",
    "        lTMPx1 = int(lTMPx1 - 2 * tailleField)\n",
    "        lTMPx2 = int(lTMPx2 + 2 * tailleField)\n",
    "    else:\n",
    "        lTMPx1 = int(lTMPx2 - 2 * tailleField)\n",
    "        lTMPx2 = int(lTMPx1 + 2 * tailleField)\n",
    "    if lTMPy2 <= lTMPy1:\n",
    "        lTMPy1 = int(lTMPy1 + 2 * tailleField)    \n",
    "        lTMPy2 = int(lTMPy2 - 2 * tailleField)\n",
    "    else:\n",
    "        lTMPy1 = int(lTMPy2 + 2 * tailleField)    \n",
    "        lTMPy2 = int(lTMPy1 - 2 * tailleField)\n",
    "    if lVerbose:\n",
    "        print (((lTMPx1,lTMPy1),(lTMPx2,lTMPy2)))\n",
    "    return frame[lTMPy2:lTMPy1,lTMPx1:lTMPx2]"
   ]
  },
  {
   "cell_type": "markdown",
   "metadata": {},
   "source": [
    "# Video Loop"
   ]
  },
  {
   "cell_type": "code",
   "execution_count": 26,
   "metadata": {
    "ExecuteTime": {
     "end_time": "2019-07-21T08:04:30.336214Z",
     "start_time": "2019-07-21T08:04:30.018752Z"
    }
   },
   "outputs": [],
   "source": [
    "kernelSize = 21  # Kernel Bluring size\n",
    "\n",
    "# Edge Detection Parameter\n",
    "parameter1 = 20\n",
    "parameter2 = 40\n",
    "intApertureSize = 1\n",
    "\n",
    "#cap = cv2.VideoCapture(0)\n",
    "cap = cv2.VideoCapture(fileName)\n",
    "lCounter = 0\n",
    "while (cap.isOpened()):\n",
    "    # Capture frame-by-frame\n",
    "    ret, Cannyframe = cap.read()\n",
    "    if ret == True:\n",
    "        # Our operations on the frame come here\n",
    "        if lCounter == 1:\n",
    "            Cannyframe = cv2.GaussianBlur(Cannyframe, (kernelSize, kernelSize), 0, 0)\n",
    "            Cannyframe = cv2.Canny(Cannyframe, parameter1, parameter2,\n",
    "                              intApertureSize)  # Canny edge detection\n",
    "            lCounter = 0\n",
    "            break\n",
    "        lCounter += 1\n",
    "\n",
    "        # Display the resulting frame\n",
    "        cv2.imshow('Edges Video', Cannyframe)\n",
    "        if cv2.waitKey(1) & 0xFF == ord('q'):  # press q to quit\n",
    "            break\n",
    "    else:\n",
    "        break\n",
    "# When everything done, release the capture\n",
    "cap.release()\n",
    "cv2.destroyAllWindows()"
   ]
  },
  {
   "cell_type": "markdown",
   "metadata": {},
   "source": [
    "# Sandbox\n",
    "## Toy data Generator"
   ]
  },
  {
   "cell_type": "code",
   "execution_count": 373,
   "metadata": {
    "ExecuteTime": {
     "end_time": "2019-07-21T11:16:10.582759Z",
     "start_time": "2019-07-21T11:16:10.524476Z"
    }
   },
   "outputs": [],
   "source": [
    "def generateToy(lType=1, lHauteur=80, lLargeur=128,lepaisseur=1):\n",
    "    lFrame = 0\n",
    "    if lType == 1:\n",
    "        lFrame = np.zeros((lHauteur, lLargeur))\n",
    "        lFrame[:, int((lLargeur-lepaisseur) / 2):int((lLargeur+lepaisseur) / 2)] = 255\n",
    "    elif lType == 2:\n",
    "        lFrame = np.zeros((lHauteur, lLargeur))\n",
    "        lFrame[int((lHauteur-lepaisseur) / 2):int((lHauteur+lepaisseur)/2), :] = 255\n",
    "    elif lType == 3:\n",
    "        lFrame = np.zeros((lHauteur, lLargeur))\n",
    "        cv2.line(lFrame, (int(lLargeur / 3), lHauteur),\n",
    "                 (int(2 * lLargeur / 3), 0), (255, 255, 255), lepaisseur)\n",
    "    elif lType == 4:\n",
    "        lFrame = np.zeros((lHauteur, lLargeur))\n",
    "        cv2.rectangle(lFrame,\n",
    "                      (int(lLargeur / 128 * 10), int(lHauteur / 80 * 30)),\n",
    "                      (int(lLargeur / 128 * 30), int(lHauteur / 80 * 50)),\n",
    "                      (255, 255, 255), lepaisseur)\n",
    "        pts = np.array([[int(lLargeur / 128 *64),\n",
    "                         int(lHauteur / 80 * 30)],\n",
    "                        [int(lLargeur / 128 * 76),\n",
    "                         int(lHauteur / 80 * 50)],\n",
    "                        [int(lLargeur / 128 * 53),\n",
    "                         int(lHauteur / 80 *50)]], np.int32)\n",
    "        ts = pts.reshape((-1, 1, 2))\n",
    "        cv2.polylines(lFrame, [pts], True, (255, 255, 255), lepaisseur)\n",
    "        cv2.circle(lFrame,\n",
    "                   (int(lLargeur / 128 * 107), int(lHauteur / 80 * 40)),\n",
    "                   int(lHauteur / 80 * 10), (255, 255, 255), lepaisseur)\n",
    "    elif lType == 5:\n",
    "        lFrame = np.zeros((lHauteur, lLargeur))\n",
    "        #createNeuron(llong, langle, lXpos, lYpos,\n",
    "        llN = int(lLargeur / 256 * 50)\n",
    "        llXTmp = int(lHauteur / 160 * 100)\n",
    "        lNeuronTest2 = createNeuron(llN, -75, llXTmp, int(lLargeur / 256 * 25))\n",
    "        drawFieldNeurons(lNeuronTest2, lFrame)\n",
    "        lNeuronTest2 = createNeuron(llN, -60, llXTmp, int(lLargeur / 256 * 75))\n",
    "        drawFieldNeurons(lNeuronTest2, lFrame) \n",
    "        lNeuronTest2 = createNeuron(llN, 0, llXTmp, int(lLargeur / 256 * 125))\n",
    "        drawFieldNeurons(lNeuronTest2, lFrame)\n",
    "        lNeuronTest2 = createNeuron(llN, 60, llXTmp, int(lLargeur / 256 * 175))\n",
    "        drawFieldNeurons(lNeuronTest2, lFrame)\n",
    "        lNeuronTest2 = createNeuron(llN, 75, llXTmp, int(lLargeur / 256 * 225))\n",
    "        drawFieldNeurons(lNeuronTest2, lFrame)\n",
    "    elif lType == 6:\n",
    "        lFrame = np.zeros((lHauteur, lLargeur))\n",
    "        #createNeuron(llong, langle, lXpos, lYpos,\n",
    "        llN = int(lLargeur / 256 * 50)\n",
    "        llXTmp = int(lHauteur / 160 * 100)\n",
    "        lNeuronTest2 = createNeuron(llN, 0, llXTmp, int(lLargeur / 256 * 25))\n",
    "        drawFieldNeurons(lNeuronTest2, lFrame)\n",
    "        lNeuronTest2 = createNeuron(llN, 0, llXTmp, int(lLargeur / 256 * 75))\n",
    "        drawFieldNeurons(lNeuronTest2, lFrame) \n",
    "        lNeuronTest2 = createNeuron(llN, 0, llXTmp, int(lLargeur / 256 * 125))\n",
    "        drawFieldNeurons(lNeuronTest2, lFrame)\n",
    "        lNeuronTest2 = createNeuron(llN, 0, llXTmp, int(lLargeur / 256 * 175))\n",
    "        drawFieldNeurons(lNeuronTest2, lFrame)\n",
    "        lNeuronTest2 = createNeuron(llN, 0, llXTmp, int(lLargeur / 256 * 225))\n",
    "        drawFieldNeurons(lNeuronTest2, lFrame)\n",
    "    elif lType == 7:\n",
    "        lFrame = np.zeros((lHauteur, lLargeur))\n",
    "        #createNeuron(llong, langle, lXpos, lYpos,\n",
    "        llN = int(lLargeur / 256 * 50)\n",
    "        llXTmp = int(lHauteur / 160 * 100)\n",
    "        lNeuronTest2 = createNeuron(llN, 5, llXTmp, int(lLargeur / 256 * 25))\n",
    "        drawFieldNeurons(lNeuronTest2, lFrame)\n",
    "        lNeuronTest2 = createNeuron(llN, 5, llXTmp, int(lLargeur / 256 * 75))\n",
    "        drawFieldNeurons(lNeuronTest2, lFrame) \n",
    "        lNeuronTest2 = createNeuron(llN, 0, llXTmp+2, int(lLargeur / 256 * 125))\n",
    "        drawFieldNeurons(lNeuronTest2, lFrame)\n",
    "        lNeuronTest2 = createNeuron(llN, 0, llXTmp+2, int(lLargeur / 256 * 175))\n",
    "        drawFieldNeurons(lNeuronTest2, lFrame)\n",
    "        lNeuronTest2 = createNeuron(llN, 0, llXTmp+2, int(lLargeur / 256 * 225))\n",
    "        drawFieldNeurons(lNeuronTest2, lFrame)\n",
    "    else:\n",
    "        lFrame = np.zeros((lHauteur, lLargeur))\n",
    "        print(\"First parameter should be between 1 to 7\")\n",
    "    return lFrame"
   ]
  },
  {
   "cell_type": "markdown",
   "metadata": {},
   "source": [
    "## Playground\n",
    "### Test 1\n",
    "#### Generate data of type 1"
   ]
  },
  {
   "cell_type": "code",
   "execution_count": 359,
   "metadata": {
    "ExecuteTime": {
     "end_time": "2019-07-21T11:12:38.924730Z",
     "start_time": "2019-07-21T11:12:38.643574Z"
    }
   },
   "outputs": [
    {
     "data": {
      "image/png": "[encoded data removed]",
      "text/plain": [
       "<Figure size 432x288 with 1 Axes>"
      ]
     },
     "metadata": {
      "needs_background": "light"
     },
     "output_type": "display_data"
    }
   ],
   "source": [
    "frame = generateToy(1,80,128,1)\n",
    "imgplot = plt.imshow(frame)"
   ]
  },
  {
   "cell_type": "markdown",
   "metadata": {},
   "source": [
    "#### Génération des neurones à champs récepteur"
   ]
  },
  {
   "cell_type": "code",
   "execution_count": 360,
   "metadata": {
    "ExecuteTime": {
     "end_time": "2019-07-21T11:12:41.208598Z",
     "start_time": "2019-07-21T11:12:40.593539Z"
    }
   },
   "outputs": [],
   "source": [
    "indices = np.where(frame != [0])\n",
    "nbPixelsAll = nbPixelField(indices[0], indices[1], frame, tailleField)\n",
    "titi = getNeuronActivationList(indices[0], indices[1], tailleField, frame,\n",
    "                               nbPixelsAll)"
   ]
  },
  {
   "cell_type": "code",
   "execution_count": 361,
   "metadata": {
    "ExecuteTime": {
     "end_time": "2019-07-21T11:12:41.859342Z",
     "start_time": "2019-07-21T11:12:41.792022Z"
    }
   },
   "outputs": [
    {
     "data": {
      "text/html": [
       "<div>\n",
       "<style scoped>\n",
       "    .dataframe tbody tr th:only-of-type {\n",
       "        vertical-align: middle;\n",
       "    }\n",
       "\n",
       "    .dataframe tbody tr th {\n",
       "        vertical-align: top;\n",
       "    }\n",
       "\n",
       "    .dataframe thead th {\n",
       "        text-align: right;\n",
       "    }\n",
       "</style>\n",
       "<table border=\"1\" class=\"dataframe\">\n",
       "  <thead>\n",
       "    <tr style=\"text-align: right;\">\n",
       "      <th></th>\n",
       "      <th>longueur</th>\n",
       "      <th>angle</th>\n",
       "      <th>weight</th>\n",
       "      <th>precision</th>\n",
       "      <th>xPos</th>\n",
       "      <th>yPos</th>\n",
       "      <th>groupID</th>\n",
       "      <th>layer</th>\n",
       "    </tr>\n",
       "  </thead>\n",
       "  <tbody>\n",
       "    <tr>\n",
       "      <th>count</th>\n",
       "      <td>50.0</td>\n",
       "      <td>5.000000e+01</td>\n",
       "      <td>50.000000</td>\n",
       "      <td>50.0</td>\n",
       "      <td>50.00000</td>\n",
       "      <td>50.0</td>\n",
       "      <td>50.0</td>\n",
       "      <td>50.0</td>\n",
       "    </tr>\n",
       "    <tr>\n",
       "      <th>mean</th>\n",
       "      <td>7.0</td>\n",
       "      <td>9.999996e-03</td>\n",
       "      <td>242.906311</td>\n",
       "      <td>0.0</td>\n",
       "      <td>51.50000</td>\n",
       "      <td>63.0</td>\n",
       "      <td>0.0</td>\n",
       "      <td>63.0</td>\n",
       "    </tr>\n",
       "    <tr>\n",
       "      <th>std</th>\n",
       "      <td>0.0</td>\n",
       "      <td>3.763112e-09</td>\n",
       "      <td>0.000092</td>\n",
       "      <td>0.0</td>\n",
       "      <td>14.57738</td>\n",
       "      <td>0.0</td>\n",
       "      <td>0.0</td>\n",
       "      <td>0.0</td>\n",
       "    </tr>\n",
       "    <tr>\n",
       "      <th>min</th>\n",
       "      <td>7.0</td>\n",
       "      <td>1.000000e-02</td>\n",
       "      <td>242.906403</td>\n",
       "      <td>0.0</td>\n",
       "      <td>27.00000</td>\n",
       "      <td>63.0</td>\n",
       "      <td>0.0</td>\n",
       "      <td>63.0</td>\n",
       "    </tr>\n",
       "    <tr>\n",
       "      <th>25%</th>\n",
       "      <td>7.0</td>\n",
       "      <td>1.000000e-02</td>\n",
       "      <td>242.906403</td>\n",
       "      <td>0.0</td>\n",
       "      <td>39.25000</td>\n",
       "      <td>63.0</td>\n",
       "      <td>0.0</td>\n",
       "      <td>63.0</td>\n",
       "    </tr>\n",
       "    <tr>\n",
       "      <th>50%</th>\n",
       "      <td>7.0</td>\n",
       "      <td>1.000000e-02</td>\n",
       "      <td>242.906403</td>\n",
       "      <td>0.0</td>\n",
       "      <td>51.50000</td>\n",
       "      <td>63.0</td>\n",
       "      <td>0.0</td>\n",
       "      <td>63.0</td>\n",
       "    </tr>\n",
       "    <tr>\n",
       "      <th>75%</th>\n",
       "      <td>7.0</td>\n",
       "      <td>1.000000e-02</td>\n",
       "      <td>242.906403</td>\n",
       "      <td>0.0</td>\n",
       "      <td>63.75000</td>\n",
       "      <td>63.0</td>\n",
       "      <td>0.0</td>\n",
       "      <td>63.0</td>\n",
       "    </tr>\n",
       "    <tr>\n",
       "      <th>max</th>\n",
       "      <td>7.0</td>\n",
       "      <td>1.000000e-02</td>\n",
       "      <td>242.906403</td>\n",
       "      <td>0.0</td>\n",
       "      <td>76.00000</td>\n",
       "      <td>63.0</td>\n",
       "      <td>0.0</td>\n",
       "      <td>63.0</td>\n",
       "    </tr>\n",
       "  </tbody>\n",
       "</table>\n",
       "</div>"
      ],
      "text/plain": [
       "       longueur         angle      weight  precision      xPos  yPos  groupID  \\\n",
       "count      50.0  5.000000e+01   50.000000       50.0  50.00000  50.0     50.0   \n",
       "mean        7.0  9.999996e-03  242.906311        0.0  51.50000  63.0      0.0   \n",
       "std         0.0  3.763112e-09    0.000092        0.0  14.57738   0.0      0.0   \n",
       "min         7.0  1.000000e-02  242.906403        0.0  27.00000  63.0      0.0   \n",
       "25%         7.0  1.000000e-02  242.906403        0.0  39.25000  63.0      0.0   \n",
       "50%         7.0  1.000000e-02  242.906403        0.0  51.50000  63.0      0.0   \n",
       "75%         7.0  1.000000e-02  242.906403        0.0  63.75000  63.0      0.0   \n",
       "max         7.0  1.000000e-02  242.906403        0.0  76.00000  63.0      0.0   \n",
       "\n",
       "       layer  \n",
       "count   50.0  \n",
       "mean    63.0  \n",
       "std      0.0  \n",
       "min     63.0  \n",
       "25%     63.0  \n",
       "50%     63.0  \n",
       "75%     63.0  \n",
       "max     63.0  "
      ]
     },
     "execution_count": 361,
     "metadata": {},
     "output_type": "execute_result"
    }
   ],
   "source": [
    "titi.describe()"
   ]
  },
  {
   "cell_type": "code",
   "execution_count": 362,
   "metadata": {
    "ExecuteTime": {
     "end_time": "2019-07-21T11:12:43.652239Z",
     "start_time": "2019-07-21T11:12:43.634890Z"
    }
   },
   "outputs": [
    {
     "data": {
      "text/html": [
       "<div>\n",
       "<style scoped>\n",
       "    .dataframe tbody tr th:only-of-type {\n",
       "        vertical-align: middle;\n",
       "    }\n",
       "\n",
       "    .dataframe tbody tr th {\n",
       "        vertical-align: top;\n",
       "    }\n",
       "\n",
       "    .dataframe thead th {\n",
       "        text-align: right;\n",
       "    }\n",
       "</style>\n",
       "<table border=\"1\" class=\"dataframe\">\n",
       "  <thead>\n",
       "    <tr style=\"text-align: right;\">\n",
       "      <th></th>\n",
       "      <th>longueur</th>\n",
       "      <th>angle</th>\n",
       "      <th>weight</th>\n",
       "      <th>precision</th>\n",
       "      <th>xPos</th>\n",
       "      <th>yPos</th>\n",
       "      <th>groupID</th>\n",
       "      <th>layer</th>\n",
       "    </tr>\n",
       "  </thead>\n",
       "  <tbody>\n",
       "    <tr>\n",
       "      <th>0</th>\n",
       "      <td>7</td>\n",
       "      <td>0.01</td>\n",
       "      <td>242.906403</td>\n",
       "      <td>0.0</td>\n",
       "      <td>27</td>\n",
       "      <td>63</td>\n",
       "      <td>0</td>\n",
       "      <td>63.0</td>\n",
       "    </tr>\n",
       "    <tr>\n",
       "      <th>1</th>\n",
       "      <td>7</td>\n",
       "      <td>0.01</td>\n",
       "      <td>242.906403</td>\n",
       "      <td>0.0</td>\n",
       "      <td>28</td>\n",
       "      <td>63</td>\n",
       "      <td>0</td>\n",
       "      <td>63.0</td>\n",
       "    </tr>\n",
       "    <tr>\n",
       "      <th>2</th>\n",
       "      <td>7</td>\n",
       "      <td>0.01</td>\n",
       "      <td>242.906403</td>\n",
       "      <td>0.0</td>\n",
       "      <td>29</td>\n",
       "      <td>63</td>\n",
       "      <td>0</td>\n",
       "      <td>63.0</td>\n",
       "    </tr>\n",
       "    <tr>\n",
       "      <th>3</th>\n",
       "      <td>7</td>\n",
       "      <td>0.01</td>\n",
       "      <td>242.906403</td>\n",
       "      <td>0.0</td>\n",
       "      <td>30</td>\n",
       "      <td>63</td>\n",
       "      <td>0</td>\n",
       "      <td>63.0</td>\n",
       "    </tr>\n",
       "  </tbody>\n",
       "</table>\n",
       "</div>"
      ],
      "text/plain": [
       "   longueur  angle      weight  precision  xPos  yPos  groupID  layer\n",
       "0         7   0.01  242.906403        0.0    27    63        0   63.0\n",
       "1         7   0.01  242.906403        0.0    28    63        0   63.0\n",
       "2         7   0.01  242.906403        0.0    29    63        0   63.0\n",
       "3         7   0.01  242.906403        0.0    30    63        0   63.0"
      ]
     },
     "execution_count": 362,
     "metadata": {},
     "output_type": "execute_result"
    }
   ],
   "source": [
    "titi[0:4]"
   ]
  },
  {
   "cell_type": "markdown",
   "metadata": {},
   "source": [
    "#### Affichage graphique du champs récepteur des neurones"
   ]
  },
  {
   "cell_type": "code",
   "execution_count": 363,
   "metadata": {
    "ExecuteTime": {
     "end_time": "2019-07-21T11:12:46.050179Z",
     "start_time": "2019-07-21T11:12:45.800738Z"
    }
   },
   "outputs": [
    {
     "data": {
      "image/png": "[encoded data removed]",
      "text/plain": [
       "<Figure size 432x288 with 1 Axes>"
      ]
     },
     "metadata": {
      "needs_background": "light"
     },
     "output_type": "display_data"
    }
   ],
   "source": [
    "testBitmap = np.zeros((frame.shape[0],frame.shape[1],3), np.uint8)\n",
    "testBitmap = drawFieldNeurons(titi, testBitmap)\n",
    "imgplot = plt.imshow(testBitmap)"
   ]
  },
  {
   "cell_type": "code",
   "execution_count": 364,
   "metadata": {
    "ExecuteTime": {
     "end_time": "2019-07-21T11:12:47.073155Z",
     "start_time": "2019-07-21T11:12:47.065906Z"
    }
   },
   "outputs": [
    {
     "data": {
      "text/plain": [
       "242"
      ]
     },
     "execution_count": 364,
     "metadata": {},
     "output_type": "execute_result"
    }
   ],
   "source": [
    "np.max(testBitmap)"
   ]
  },
  {
   "cell_type": "code",
   "execution_count": 365,
   "metadata": {
    "ExecuteTime": {
     "end_time": "2019-07-21T11:12:51.131198Z",
     "start_time": "2019-07-21T11:12:50.942514Z"
    }
   },
   "outputs": [],
   "source": [
    "lintI = 0\n",
    "while (lintI < 10):\n",
    "    cv2.imshow('FRAME', frame)\n",
    "    if cv2.waitKey(1) & 0xFF == ord('q'):  # press q to quit\n",
    "        break\n",
    "    lintI += 1"
   ]
  },
  {
   "cell_type": "markdown",
   "metadata": {},
   "source": [
    "#### Simplification des neurones"
   ]
  },
  {
   "cell_type": "code",
   "execution_count": 366,
   "metadata": {
    "ExecuteTime": {
     "end_time": "2019-07-21T11:13:28.409145Z",
     "start_time": "2019-07-21T11:13:28.398782Z"
    }
   },
   "outputs": [
    {
     "data": {
      "text/plain": [
       "2130"
      ]
     },
     "execution_count": 366,
     "metadata": {},
     "output_type": "execute_result"
    }
   ],
   "source": [
    "np.sum(titi.memory_usage())"
   ]
  },
  {
   "cell_type": "code",
   "execution_count": 367,
   "metadata": {
    "ExecuteTime": {
     "end_time": "2019-07-21T11:13:30.595877Z",
     "start_time": "2019-07-21T11:13:30.287024Z"
    }
   },
   "outputs": [
    {
     "data": {
      "text/plain": [
       "<matplotlib.axes._subplots.AxesSubplot at 0x138b4c710>"
      ]
     },
     "execution_count": 367,
     "metadata": {},
     "output_type": "execute_result"
    },
    {
     "data": {
      "image/png": "[encoded data removed]",
      "text/plain": [
       "<Figure size 432x288 with 1 Axes>"
      ]
     },
     "metadata": {
      "needs_background": "light"
     },
     "output_type": "display_data"
    }
   ],
   "source": [
    "titi.layer.hist(bins=32)"
   ]
  },
  {
   "cell_type": "code",
   "execution_count": 368,
   "metadata": {
    "ExecuteTime": {
     "end_time": "2019-07-21T11:14:26.255502Z",
     "start_time": "2019-07-21T11:14:25.921096Z"
    }
   },
   "outputs": [
    {
     "data": {
      "text/plain": [
       "<matplotlib.axes._subplots.AxesSubplot at 0x13889b400>"
      ]
     },
     "execution_count": 368,
     "metadata": {},
     "output_type": "execute_result"
    },
    {
     "data": {
      "image/png": "[encoded data removed]",
      "text/plain": [
       "<Figure size 432x288 with 1 Axes>"
      ]
     },
     "metadata": {
      "needs_background": "light"
     },
     "output_type": "display_data"
    }
   ],
   "source": [
    "toto = titi.angle*titi.layer\n",
    "toto.hist(bins=32)"
   ]
  },
  {
   "cell_type": "code",
   "execution_count": 371,
   "metadata": {
    "ExecuteTime": {
     "end_time": "2019-07-21T11:15:31.432512Z",
     "start_time": "2019-07-21T11:15:31.194384Z"
    }
   },
   "outputs": [
    {
     "data": {
      "image/png": "[encoded data removed]",
      "text/plain": [
       "<Figure size 432x288 with 1 Axes>"
      ]
     },
     "metadata": {
      "needs_background": "light"
     },
     "output_type": "display_data"
    }
   ],
   "source": [
    "testBitmap = np.zeros((frame.shape[0],frame.shape[1],3), np.uint8)\n",
    "testBitmap = drawFieldNeurons(titi, testBitmap,0,0,60,5)\n",
    "imgplot = plt.imshow(testBitmap)"
   ]
  },
  {
   "cell_type": "markdown",
   "metadata": {},
   "source": [
    "#### Génération des groupes"
   ]
  },
  {
   "cell_type": "code",
   "execution_count": 35,
   "metadata": {
    "ExecuteTime": {
     "end_time": "2019-07-21T08:04:36.321611Z",
     "start_time": "2019-07-21T08:04:35.049129Z"
    }
   },
   "outputs": [],
   "source": [
    "findGroups(titi);"
   ]
  },
  {
   "cell_type": "code",
   "execution_count": 36,
   "metadata": {
    "ExecuteTime": {
     "end_time": "2019-07-21T08:04:36.380070Z",
     "start_time": "2019-07-21T08:04:36.323611Z"
    }
   },
   "outputs": [
    {
     "data": {
      "text/html": [
       "<div>\n",
       "<style scoped>\n",
       "    .dataframe tbody tr th:only-of-type {\n",
       "        vertical-align: middle;\n",
       "    }\n",
       "\n",
       "    .dataframe tbody tr th {\n",
       "        vertical-align: top;\n",
       "    }\n",
       "\n",
       "    .dataframe thead tr th {\n",
       "        text-align: left;\n",
       "    }\n",
       "\n",
       "    .dataframe thead tr:last-of-type th {\n",
       "        text-align: right;\n",
       "    }\n",
       "</style>\n",
       "<table border=\"1\" class=\"dataframe\">\n",
       "  <thead>\n",
       "    <tr>\n",
       "      <th></th>\n",
       "      <th colspan=\"2\" halign=\"left\">longueur</th>\n",
       "      <th colspan=\"2\" halign=\"left\">angle</th>\n",
       "      <th colspan=\"2\" halign=\"left\">weight</th>\n",
       "      <th colspan=\"2\" halign=\"left\">precision</th>\n",
       "      <th colspan=\"2\" halign=\"left\">xPos</th>\n",
       "      <th colspan=\"2\" halign=\"left\">yPos</th>\n",
       "      <th colspan=\"2\" halign=\"left\">layer</th>\n",
       "    </tr>\n",
       "    <tr>\n",
       "      <th></th>\n",
       "      <th>mean</th>\n",
       "      <th>count</th>\n",
       "      <th>mean</th>\n",
       "      <th>count</th>\n",
       "      <th>mean</th>\n",
       "      <th>count</th>\n",
       "      <th>mean</th>\n",
       "      <th>count</th>\n",
       "      <th>mean</th>\n",
       "      <th>count</th>\n",
       "      <th>mean</th>\n",
       "      <th>count</th>\n",
       "      <th>mean</th>\n",
       "      <th>count</th>\n",
       "    </tr>\n",
       "    <tr>\n",
       "      <th>groupID</th>\n",
       "      <th></th>\n",
       "      <th></th>\n",
       "      <th></th>\n",
       "      <th></th>\n",
       "      <th></th>\n",
       "      <th></th>\n",
       "      <th></th>\n",
       "      <th></th>\n",
       "      <th></th>\n",
       "      <th></th>\n",
       "      <th></th>\n",
       "      <th></th>\n",
       "      <th></th>\n",
       "      <th></th>\n",
       "    </tr>\n",
       "  </thead>\n",
       "  <tbody>\n",
       "    <tr>\n",
       "      <th>1</th>\n",
       "      <td>7</td>\n",
       "      <td>50</td>\n",
       "      <td>0.01</td>\n",
       "      <td>50</td>\n",
       "      <td>242.906403</td>\n",
       "      <td>50</td>\n",
       "      <td>0.0</td>\n",
       "      <td>50</td>\n",
       "      <td>51.5</td>\n",
       "      <td>50</td>\n",
       "      <td>63</td>\n",
       "      <td>50</td>\n",
       "      <td>0.0</td>\n",
       "      <td>50</td>\n",
       "    </tr>\n",
       "  </tbody>\n",
       "</table>\n",
       "</div>"
      ],
      "text/plain": [
       "        longueur       angle            weight       precision        xPos  \\\n",
       "            mean count  mean count        mean count      mean count  mean   \n",
       "groupID                                                                      \n",
       "1              7    50  0.01    50  242.906403    50       0.0    50  51.5   \n",
       "\n",
       "              yPos       layer        \n",
       "        count mean count  mean count  \n",
       "groupID                               \n",
       "1          50   63    50   0.0    50  "
      ]
     },
     "execution_count": 36,
     "metadata": {},
     "output_type": "execute_result"
    }
   ],
   "source": [
    "titi.groupby('groupID').agg(['mean', 'count'])[0:5]"
   ]
  },
  {
   "cell_type": "code",
   "execution_count": 37,
   "metadata": {
    "ExecuteTime": {
     "end_time": "2019-07-21T08:04:36.613745Z",
     "start_time": "2019-07-21T08:04:36.383057Z"
    }
   },
   "outputs": [
    {
     "data": {
      "text/plain": [
       "<matplotlib.axes._subplots.AxesSubplot at 0x123b2c470>"
      ]
     },
     "execution_count": 37,
     "metadata": {},
     "output_type": "execute_result"
    },
    {
     "data": {
      "image/png": "[encoded data removed]",
      "text/plain": [
       "<Figure size 432x288 with 1 Axes>"
      ]
     },
     "metadata": {
      "needs_background": "light"
     },
     "output_type": "display_data"
    }
   ],
   "source": [
    "titi.groupby('groupID').size().hist()"
   ]
  },
  {
   "cell_type": "code",
   "execution_count": 38,
   "metadata": {
    "ExecuteTime": {
     "end_time": "2019-07-21T08:04:36.870580Z",
     "start_time": "2019-07-21T08:04:36.616932Z"
    }
   },
   "outputs": [
    {
     "data": {
      "text/plain": [
       "<matplotlib.axes._subplots.AxesSubplot at 0x124135a90>"
      ]
     },
     "execution_count": 38,
     "metadata": {},
     "output_type": "execute_result"
    },
    {
     "data": {
      "image/png": "[encoded data removed]",
      "text/plain": [
       "<Figure size 432x288 with 1 Axes>"
      ]
     },
     "metadata": {
      "needs_background": "light"
     },
     "output_type": "display_data"
    }
   ],
   "source": [
    "resultGroup = titi.groupby('groupID').size()\n",
    "resultGroup[resultGroup>10].hist()"
   ]
  },
  {
   "cell_type": "code",
   "execution_count": 39,
   "metadata": {
    "ExecuteTime": {
     "end_time": "2019-07-21T08:04:36.940050Z",
     "start_time": "2019-07-21T08:04:36.874390Z"
    }
   },
   "outputs": [
    {
     "data": {
      "text/html": [
       "<div>\n",
       "<style scoped>\n",
       "    .dataframe tbody tr th:only-of-type {\n",
       "        vertical-align: middle;\n",
       "    }\n",
       "\n",
       "    .dataframe tbody tr th {\n",
       "        vertical-align: top;\n",
       "    }\n",
       "\n",
       "    .dataframe thead th {\n",
       "        text-align: right;\n",
       "    }\n",
       "</style>\n",
       "<table border=\"1\" class=\"dataframe\">\n",
       "  <thead>\n",
       "    <tr style=\"text-align: right;\">\n",
       "      <th></th>\n",
       "      <th>longueur</th>\n",
       "      <th>angle</th>\n",
       "      <th>weight</th>\n",
       "      <th>precision</th>\n",
       "      <th>xPos</th>\n",
       "      <th>yPos</th>\n",
       "      <th>groupID</th>\n",
       "      <th>layer</th>\n",
       "    </tr>\n",
       "  </thead>\n",
       "  <tbody>\n",
       "    <tr>\n",
       "      <th>count</th>\n",
       "      <td>50.0</td>\n",
       "      <td>5.000000e+01</td>\n",
       "      <td>50.000000</td>\n",
       "      <td>50.0</td>\n",
       "      <td>50.00000</td>\n",
       "      <td>50.0</td>\n",
       "      <td>50.0</td>\n",
       "      <td>50.0</td>\n",
       "    </tr>\n",
       "    <tr>\n",
       "      <th>mean</th>\n",
       "      <td>7.0</td>\n",
       "      <td>9.999996e-03</td>\n",
       "      <td>242.906311</td>\n",
       "      <td>0.0</td>\n",
       "      <td>51.50000</td>\n",
       "      <td>63.0</td>\n",
       "      <td>1.0</td>\n",
       "      <td>0.0</td>\n",
       "    </tr>\n",
       "    <tr>\n",
       "      <th>std</th>\n",
       "      <td>0.0</td>\n",
       "      <td>3.763112e-09</td>\n",
       "      <td>0.000092</td>\n",
       "      <td>0.0</td>\n",
       "      <td>14.57738</td>\n",
       "      <td>0.0</td>\n",
       "      <td>0.0</td>\n",
       "      <td>0.0</td>\n",
       "    </tr>\n",
       "    <tr>\n",
       "      <th>min</th>\n",
       "      <td>7.0</td>\n",
       "      <td>1.000000e-02</td>\n",
       "      <td>242.906403</td>\n",
       "      <td>0.0</td>\n",
       "      <td>27.00000</td>\n",
       "      <td>63.0</td>\n",
       "      <td>1.0</td>\n",
       "      <td>0.0</td>\n",
       "    </tr>\n",
       "    <tr>\n",
       "      <th>25%</th>\n",
       "      <td>7.0</td>\n",
       "      <td>1.000000e-02</td>\n",
       "      <td>242.906403</td>\n",
       "      <td>0.0</td>\n",
       "      <td>39.25000</td>\n",
       "      <td>63.0</td>\n",
       "      <td>1.0</td>\n",
       "      <td>0.0</td>\n",
       "    </tr>\n",
       "    <tr>\n",
       "      <th>50%</th>\n",
       "      <td>7.0</td>\n",
       "      <td>1.000000e-02</td>\n",
       "      <td>242.906403</td>\n",
       "      <td>0.0</td>\n",
       "      <td>51.50000</td>\n",
       "      <td>63.0</td>\n",
       "      <td>1.0</td>\n",
       "      <td>0.0</td>\n",
       "    </tr>\n",
       "    <tr>\n",
       "      <th>75%</th>\n",
       "      <td>7.0</td>\n",
       "      <td>1.000000e-02</td>\n",
       "      <td>242.906403</td>\n",
       "      <td>0.0</td>\n",
       "      <td>63.75000</td>\n",
       "      <td>63.0</td>\n",
       "      <td>1.0</td>\n",
       "      <td>0.0</td>\n",
       "    </tr>\n",
       "    <tr>\n",
       "      <th>max</th>\n",
       "      <td>7.0</td>\n",
       "      <td>1.000000e-02</td>\n",
       "      <td>242.906403</td>\n",
       "      <td>0.0</td>\n",
       "      <td>76.00000</td>\n",
       "      <td>63.0</td>\n",
       "      <td>1.0</td>\n",
       "      <td>0.0</td>\n",
       "    </tr>\n",
       "  </tbody>\n",
       "</table>\n",
       "</div>"
      ],
      "text/plain": [
       "       longueur         angle      weight  precision      xPos  yPos  groupID  \\\n",
       "count      50.0  5.000000e+01   50.000000       50.0  50.00000  50.0     50.0   \n",
       "mean        7.0  9.999996e-03  242.906311        0.0  51.50000  63.0      1.0   \n",
       "std         0.0  3.763112e-09    0.000092        0.0  14.57738   0.0      0.0   \n",
       "min         7.0  1.000000e-02  242.906403        0.0  27.00000  63.0      1.0   \n",
       "25%         7.0  1.000000e-02  242.906403        0.0  39.25000  63.0      1.0   \n",
       "50%         7.0  1.000000e-02  242.906403        0.0  51.50000  63.0      1.0   \n",
       "75%         7.0  1.000000e-02  242.906403        0.0  63.75000  63.0      1.0   \n",
       "max         7.0  1.000000e-02  242.906403        0.0  76.00000  63.0      1.0   \n",
       "\n",
       "       layer  \n",
       "count   50.0  \n",
       "mean     0.0  \n",
       "std      0.0  \n",
       "min      0.0  \n",
       "25%      0.0  \n",
       "50%      0.0  \n",
       "75%      0.0  \n",
       "max      0.0  "
      ]
     },
     "execution_count": 39,
     "metadata": {},
     "output_type": "execute_result"
    }
   ],
   "source": [
    "titi.describe()"
   ]
  },
  {
   "cell_type": "code",
   "execution_count": 369,
   "metadata": {
    "ExecuteTime": {
     "end_time": "2019-07-21T11:14:50.282822Z",
     "start_time": "2019-07-21T11:14:50.258426Z"
    }
   },
   "outputs": [
    {
     "data": {
      "text/html": [
       "<div>\n",
       "<style scoped>\n",
       "    .dataframe tbody tr th:only-of-type {\n",
       "        vertical-align: middle;\n",
       "    }\n",
       "\n",
       "    .dataframe tbody tr th {\n",
       "        vertical-align: top;\n",
       "    }\n",
       "\n",
       "    .dataframe thead th {\n",
       "        text-align: right;\n",
       "    }\n",
       "</style>\n",
       "<table border=\"1\" class=\"dataframe\">\n",
       "  <thead>\n",
       "    <tr style=\"text-align: right;\">\n",
       "      <th></th>\n",
       "      <th>longueur</th>\n",
       "      <th>angle</th>\n",
       "      <th>weight</th>\n",
       "      <th>precision</th>\n",
       "      <th>xPos</th>\n",
       "      <th>yPos</th>\n",
       "      <th>groupID</th>\n",
       "      <th>layer</th>\n",
       "    </tr>\n",
       "  </thead>\n",
       "  <tbody>\n",
       "    <tr>\n",
       "      <th>0</th>\n",
       "      <td>7</td>\n",
       "      <td>0.01</td>\n",
       "      <td>242.906403</td>\n",
       "      <td>0.0</td>\n",
       "      <td>27</td>\n",
       "      <td>63</td>\n",
       "      <td>0</td>\n",
       "      <td>63.0</td>\n",
       "    </tr>\n",
       "    <tr>\n",
       "      <th>1</th>\n",
       "      <td>7</td>\n",
       "      <td>0.01</td>\n",
       "      <td>242.906403</td>\n",
       "      <td>0.0</td>\n",
       "      <td>28</td>\n",
       "      <td>63</td>\n",
       "      <td>0</td>\n",
       "      <td>63.0</td>\n",
       "    </tr>\n",
       "    <tr>\n",
       "      <th>2</th>\n",
       "      <td>7</td>\n",
       "      <td>0.01</td>\n",
       "      <td>242.906403</td>\n",
       "      <td>0.0</td>\n",
       "      <td>29</td>\n",
       "      <td>63</td>\n",
       "      <td>0</td>\n",
       "      <td>63.0</td>\n",
       "    </tr>\n",
       "    <tr>\n",
       "      <th>3</th>\n",
       "      <td>7</td>\n",
       "      <td>0.01</td>\n",
       "      <td>242.906403</td>\n",
       "      <td>0.0</td>\n",
       "      <td>30</td>\n",
       "      <td>63</td>\n",
       "      <td>0</td>\n",
       "      <td>63.0</td>\n",
       "    </tr>\n",
       "  </tbody>\n",
       "</table>\n",
       "</div>"
      ],
      "text/plain": [
       "   longueur  angle      weight  precision  xPos  yPos  groupID  layer\n",
       "0         7   0.01  242.906403        0.0    27    63        0   63.0\n",
       "1         7   0.01  242.906403        0.0    28    63        0   63.0\n",
       "2         7   0.01  242.906403        0.0    29    63        0   63.0\n",
       "3         7   0.01  242.906403        0.0    30    63        0   63.0"
      ]
     },
     "execution_count": 369,
     "metadata": {},
     "output_type": "execute_result"
    }
   ],
   "source": [
    "titi[0:4]"
   ]
  },
  {
   "cell_type": "markdown",
   "metadata": {},
   "source": [
    "### Test 2\n",
    "#### Generate data of type 2"
   ]
  },
  {
   "cell_type": "code",
   "execution_count": 42,
   "metadata": {
    "ExecuteTime": {
     "end_time": "2019-07-21T08:04:37.248928Z",
     "start_time": "2019-07-21T08:04:37.005780Z"
    }
   },
   "outputs": [
    {
     "data": {
      "image/png": "[encoded data removed]",
      "text/plain": [
       "<Figure size 432x288 with 1 Axes>"
      ]
     },
     "metadata": {
      "needs_background": "light"
     },
     "output_type": "display_data"
    }
   ],
   "source": [
    "frame = generateToy(2,80,128,1)\n",
    "imgplot = plt.imshow(frame)"
   ]
  },
  {
   "cell_type": "markdown",
   "metadata": {},
   "source": [
    "#### Génération des neurones à champs récepteur"
   ]
  },
  {
   "cell_type": "code",
   "execution_count": 43,
   "metadata": {
    "ExecuteTime": {
     "end_time": "2019-07-21T08:04:38.732748Z",
     "start_time": "2019-07-21T08:04:37.252272Z"
    },
    "scrolled": true
   },
   "outputs": [
    {
     "name": "stdout",
     "output_type": "stream",
     "text": [
      "exceed the limit of the matrix\n",
      "exceed the limit of the matrix\n",
      "exceed the limit of the matrix\n",
      "error 10 : \n",
      "lAngleMat\n",
      "[[-4.499e+01 -3.368e+01 -1.842e+01  1.000e-02  1.844e+01  3.370e+01\n",
      "   4.501e+01]\n",
      " [-5.630e+01 -4.499e+01 -2.656e+01  1.000e-02  2.658e+01  4.501e+01\n",
      "   5.632e+01]\n",
      " [-7.156e+01 -6.342e+01 -4.499e+01  1.000e-02  4.501e+01  6.344e+01\n",
      "   7.158e+01]\n",
      " [ 9.000e+01  9.000e+01  9.000e+01  0.000e+00  9.000e+01  9.000e+01\n",
      "   9.000e+01]\n",
      " [ 7.158e+01  6.344e+01  4.501e+01  1.000e-02 -4.499e+01 -6.342e+01\n",
      "  -7.156e+01]\n",
      " [ 5.632e+01  4.501e+01  2.658e+01  1.000e-02 -2.656e+01 -4.499e+01\n",
      "  -5.630e+01]\n",
      " [ 4.501e+01  3.370e+01  1.844e+01  1.000e-02 -1.842e+01 -3.368e+01\n",
      "  -4.499e+01]]\n",
      "lNeuronFieldFrame\n",
      "[[0. 0. 0. 0. 0. 0.]\n",
      " [0. 0. 0. 0. 0. 0.]\n",
      " [0. 0. 0. 0. 0. 0.]\n",
      " [1. 1. 1. 1. 1. 1.]\n",
      " [0. 0. 0. 0. 0. 0.]\n",
      " [0. 0. 0. 0. 0. 0.]\n",
      " [0. 0. 0. 0. 0. 0.]]\n",
      "lintX\n",
      "39\n",
      "lintY\n",
      "125\n",
      "offsetField\n",
      "3\n",
      "error 10 : \n",
      "lAngleMat\n",
      "[[-4.499e+01 -3.368e+01 -1.842e+01  1.000e-02  1.844e+01  3.370e+01\n",
      "   4.501e+01]\n",
      " [-5.630e+01 -4.499e+01 -2.656e+01  1.000e-02  2.658e+01  4.501e+01\n",
      "   5.632e+01]\n",
      " [-7.156e+01 -6.342e+01 -4.499e+01  1.000e-02  4.501e+01  6.344e+01\n",
      "   7.158e+01]\n",
      " [ 9.000e+01  9.000e+01  9.000e+01  0.000e+00  9.000e+01  9.000e+01\n",
      "   9.000e+01]\n",
      " [ 7.158e+01  6.344e+01  4.501e+01  1.000e-02 -4.499e+01 -6.342e+01\n",
      "  -7.156e+01]\n",
      " [ 5.632e+01  4.501e+01  2.658e+01  1.000e-02 -2.656e+01 -4.499e+01\n",
      "  -5.630e+01]\n",
      " [ 4.501e+01  3.370e+01  1.844e+01  1.000e-02 -1.842e+01 -3.368e+01\n",
      "  -4.499e+01]]\n",
      "lNeuronFieldFrame\n",
      "[[0. 0. 0. 0. 0. 0.]\n",
      " [0. 0. 0. 0. 0. 0.]\n",
      " [0. 0. 0. 0. 0. 0.]\n",
      " [1. 1. 1. 1. 1. 1.]\n",
      " [0. 0. 0. 0. 0. 0.]\n",
      " [0. 0. 0. 0. 0. 0.]\n",
      " [0. 0. 0. 0. 0. 0.]]\n",
      "lintX\n",
      "39\n",
      "lintY\n",
      "125\n",
      "offsetField\n",
      "3\n",
      "error 10 : \n",
      "lAngleMat\n",
      "[[-4.499e+01 -3.368e+01 -1.842e+01  1.000e-02  1.844e+01  3.370e+01\n",
      "   4.501e+01]\n",
      " [-5.630e+01 -4.499e+01 -2.656e+01  1.000e-02  2.658e+01  4.501e+01\n",
      "   5.632e+01]\n",
      " [-7.156e+01 -6.342e+01 -4.499e+01  1.000e-02  4.501e+01  6.344e+01\n",
      "   7.158e+01]\n",
      " [ 9.000e+01  9.000e+01  9.000e+01  0.000e+00  9.000e+01  9.000e+01\n",
      "   9.000e+01]\n",
      " [ 7.158e+01  6.344e+01  4.501e+01  1.000e-02 -4.499e+01 -6.342e+01\n",
      "  -7.156e+01]\n",
      " [ 5.632e+01  4.501e+01  2.658e+01  1.000e-02 -2.656e+01 -4.499e+01\n",
      "  -5.630e+01]\n",
      " [ 4.501e+01  3.370e+01  1.844e+01  1.000e-02 -1.842e+01 -3.368e+01\n",
      "  -4.499e+01]]\n",
      "lNeuronFieldFrame\n",
      "[[0. 0. 0. 0. 0. 0.]\n",
      " [0. 0. 0. 0. 0. 0.]\n",
      " [0. 0. 0. 0. 0. 0.]\n",
      " [1. 1. 1. 1. 1. 1.]\n",
      " [0. 0. 0. 0. 0. 0.]\n",
      " [0. 0. 0. 0. 0. 0.]\n",
      " [0. 0. 0. 0. 0. 0.]]\n",
      "lintX\n",
      "39\n",
      "lintY\n",
      "125\n",
      "offsetField\n",
      "3\n"
     ]
    }
   ],
   "source": [
    "indices = np.where(frame != [0])\n",
    "nbPixelsAll = nbPixelField(indices[0], indices[1], frame, tailleField)\n",
    "titi = getNeuronActivationList(indices[0], indices[1], tailleField, frame,\n",
    "                               nbPixelsAll)"
   ]
  },
  {
   "cell_type": "code",
   "execution_count": 44,
   "metadata": {
    "ExecuteTime": {
     "end_time": "2019-07-21T08:04:38.810300Z",
     "start_time": "2019-07-21T08:04:38.740234Z"
    },
    "scrolled": true
   },
   "outputs": [
    {
     "data": {
      "text/html": [
       "<div>\n",
       "<style scoped>\n",
       "    .dataframe tbody tr th:only-of-type {\n",
       "        vertical-align: middle;\n",
       "    }\n",
       "\n",
       "    .dataframe tbody tr th {\n",
       "        vertical-align: top;\n",
       "    }\n",
       "\n",
       "    .dataframe thead th {\n",
       "        text-align: right;\n",
       "    }\n",
       "</style>\n",
       "<table border=\"1\" class=\"dataframe\">\n",
       "  <thead>\n",
       "    <tr style=\"text-align: right;\">\n",
       "      <th></th>\n",
       "      <th>longueur</th>\n",
       "      <th>angle</th>\n",
       "      <th>weight</th>\n",
       "      <th>precision</th>\n",
       "      <th>xPos</th>\n",
       "      <th>yPos</th>\n",
       "      <th>groupID</th>\n",
       "      <th>layer</th>\n",
       "    </tr>\n",
       "  </thead>\n",
       "  <tbody>\n",
       "    <tr>\n",
       "      <th>count</th>\n",
       "      <td>128.0</td>\n",
       "      <td>128.000000</td>\n",
       "      <td>128.000000</td>\n",
       "      <td>128.0</td>\n",
       "      <td>128.000000</td>\n",
       "      <td>128.000000</td>\n",
       "      <td>128.0</td>\n",
       "      <td>128.0</td>\n",
       "    </tr>\n",
       "    <tr>\n",
       "      <th>mean</th>\n",
       "      <td>7.0</td>\n",
       "      <td>85.781250</td>\n",
       "      <td>231.520050</td>\n",
       "      <td>0.0</td>\n",
       "      <td>37.171875</td>\n",
       "      <td>60.523438</td>\n",
       "      <td>0.0</td>\n",
       "      <td>0.0</td>\n",
       "    </tr>\n",
       "    <tr>\n",
       "      <th>std</th>\n",
       "      <td>0.0</td>\n",
       "      <td>19.098122</td>\n",
       "      <td>51.545200</td>\n",
       "      <td>0.0</td>\n",
       "      <td>8.275863</td>\n",
       "      <td>37.053901</td>\n",
       "      <td>0.0</td>\n",
       "      <td>0.0</td>\n",
       "    </tr>\n",
       "    <tr>\n",
       "      <th>min</th>\n",
       "      <td>7.0</td>\n",
       "      <td>0.000000</td>\n",
       "      <td>0.000000</td>\n",
       "      <td>0.0</td>\n",
       "      <td>0.000000</td>\n",
       "      <td>0.000000</td>\n",
       "      <td>0.0</td>\n",
       "      <td>0.0</td>\n",
       "    </tr>\n",
       "    <tr>\n",
       "      <th>25%</th>\n",
       "      <td>7.0</td>\n",
       "      <td>90.000000</td>\n",
       "      <td>242.906403</td>\n",
       "      <td>0.0</td>\n",
       "      <td>39.000000</td>\n",
       "      <td>28.750000</td>\n",
       "      <td>0.0</td>\n",
       "      <td>0.0</td>\n",
       "    </tr>\n",
       "    <tr>\n",
       "      <th>50%</th>\n",
       "      <td>7.0</td>\n",
       "      <td>90.000000</td>\n",
       "      <td>242.906403</td>\n",
       "      <td>0.0</td>\n",
       "      <td>39.000000</td>\n",
       "      <td>60.500000</td>\n",
       "      <td>0.0</td>\n",
       "      <td>0.0</td>\n",
       "    </tr>\n",
       "    <tr>\n",
       "      <th>75%</th>\n",
       "      <td>7.0</td>\n",
       "      <td>90.000000</td>\n",
       "      <td>242.906403</td>\n",
       "      <td>0.0</td>\n",
       "      <td>39.000000</td>\n",
       "      <td>92.250000</td>\n",
       "      <td>0.0</td>\n",
       "      <td>0.0</td>\n",
       "    </tr>\n",
       "    <tr>\n",
       "      <th>max</th>\n",
       "      <td>7.0</td>\n",
       "      <td>90.000000</td>\n",
       "      <td>242.906403</td>\n",
       "      <td>0.0</td>\n",
       "      <td>39.000000</td>\n",
       "      <td>124.000000</td>\n",
       "      <td>0.0</td>\n",
       "      <td>0.0</td>\n",
       "    </tr>\n",
       "  </tbody>\n",
       "</table>\n",
       "</div>"
      ],
      "text/plain": [
       "       longueur       angle      weight  precision        xPos        yPos  \\\n",
       "count     128.0  128.000000  128.000000      128.0  128.000000  128.000000   \n",
       "mean        7.0   85.781250  231.520050        0.0   37.171875   60.523438   \n",
       "std         0.0   19.098122   51.545200        0.0    8.275863   37.053901   \n",
       "min         7.0    0.000000    0.000000        0.0    0.000000    0.000000   \n",
       "25%         7.0   90.000000  242.906403        0.0   39.000000   28.750000   \n",
       "50%         7.0   90.000000  242.906403        0.0   39.000000   60.500000   \n",
       "75%         7.0   90.000000  242.906403        0.0   39.000000   92.250000   \n",
       "max         7.0   90.000000  242.906403        0.0   39.000000  124.000000   \n",
       "\n",
       "       groupID  layer  \n",
       "count    128.0  128.0  \n",
       "mean       0.0    0.0  \n",
       "std        0.0    0.0  \n",
       "min        0.0    0.0  \n",
       "25%        0.0    0.0  \n",
       "50%        0.0    0.0  \n",
       "75%        0.0    0.0  \n",
       "max        0.0    0.0  "
      ]
     },
     "execution_count": 44,
     "metadata": {},
     "output_type": "execute_result"
    }
   ],
   "source": [
    "titi.describe()"
   ]
  },
  {
   "cell_type": "code",
   "execution_count": 45,
   "metadata": {
    "ExecuteTime": {
     "end_time": "2019-07-21T08:04:38.840188Z",
     "start_time": "2019-07-21T08:04:38.814313Z"
    },
    "scrolled": false
   },
   "outputs": [
    {
     "data": {
      "text/html": [
       "<div>\n",
       "<style scoped>\n",
       "    .dataframe tbody tr th:only-of-type {\n",
       "        vertical-align: middle;\n",
       "    }\n",
       "\n",
       "    .dataframe tbody tr th {\n",
       "        vertical-align: top;\n",
       "    }\n",
       "\n",
       "    .dataframe thead th {\n",
       "        text-align: right;\n",
       "    }\n",
       "</style>\n",
       "<table border=\"1\" class=\"dataframe\">\n",
       "  <thead>\n",
       "    <tr style=\"text-align: right;\">\n",
       "      <th></th>\n",
       "      <th>longueur</th>\n",
       "      <th>angle</th>\n",
       "      <th>weight</th>\n",
       "      <th>precision</th>\n",
       "      <th>xPos</th>\n",
       "      <th>yPos</th>\n",
       "      <th>groupID</th>\n",
       "      <th>layer</th>\n",
       "    </tr>\n",
       "  </thead>\n",
       "  <tbody>\n",
       "    <tr>\n",
       "      <th>0</th>\n",
       "      <td>7</td>\n",
       "      <td>0.0</td>\n",
       "      <td>0.000000</td>\n",
       "      <td>0.0</td>\n",
       "      <td>0</td>\n",
       "      <td>0</td>\n",
       "      <td>0</td>\n",
       "      <td>0.0</td>\n",
       "    </tr>\n",
       "    <tr>\n",
       "      <th>1</th>\n",
       "      <td>7</td>\n",
       "      <td>0.0</td>\n",
       "      <td>0.000000</td>\n",
       "      <td>0.0</td>\n",
       "      <td>0</td>\n",
       "      <td>0</td>\n",
       "      <td>0</td>\n",
       "      <td>0.0</td>\n",
       "    </tr>\n",
       "    <tr>\n",
       "      <th>2</th>\n",
       "      <td>7</td>\n",
       "      <td>0.0</td>\n",
       "      <td>0.000000</td>\n",
       "      <td>0.0</td>\n",
       "      <td>0</td>\n",
       "      <td>0</td>\n",
       "      <td>0</td>\n",
       "      <td>0.0</td>\n",
       "    </tr>\n",
       "    <tr>\n",
       "      <th>3</th>\n",
       "      <td>7</td>\n",
       "      <td>90.0</td>\n",
       "      <td>242.906403</td>\n",
       "      <td>0.0</td>\n",
       "      <td>39</td>\n",
       "      <td>3</td>\n",
       "      <td>0</td>\n",
       "      <td>0.0</td>\n",
       "    </tr>\n",
       "  </tbody>\n",
       "</table>\n",
       "</div>"
      ],
      "text/plain": [
       "   longueur  angle      weight  precision  xPos  yPos  groupID  layer\n",
       "0         7    0.0    0.000000        0.0     0     0        0    0.0\n",
       "1         7    0.0    0.000000        0.0     0     0        0    0.0\n",
       "2         7    0.0    0.000000        0.0     0     0        0    0.0\n",
       "3         7   90.0  242.906403        0.0    39     3        0    0.0"
      ]
     },
     "execution_count": 45,
     "metadata": {},
     "output_type": "execute_result"
    }
   ],
   "source": [
    "titi[0:4]"
   ]
  },
  {
   "cell_type": "markdown",
   "metadata": {},
   "source": [
    "#### Affichage graphique du champs récepteur des neurones"
   ]
  },
  {
   "cell_type": "code",
   "execution_count": 46,
   "metadata": {
    "ExecuteTime": {
     "end_time": "2019-07-21T08:04:39.144275Z",
     "start_time": "2019-07-21T08:04:38.843258Z"
    },
    "scrolled": true
   },
   "outputs": [
    {
     "data": {
      "image/png": "[encoded data removed]",
      "text/plain": [
       "<Figure size 432x288 with 1 Axes>"
      ]
     },
     "metadata": {
      "needs_background": "light"
     },
     "output_type": "display_data"
    }
   ],
   "source": [
    "testBitmap = np.zeros((frame.shape[0],frame.shape[1],3), np.uint8)\n",
    "testBitmap = drawFieldNeurons(titi, testBitmap)\n",
    "imgplot = plt.imshow(testBitmap)"
   ]
  },
  {
   "cell_type": "markdown",
   "metadata": {},
   "source": [
    "#### Génération des groupes"
   ]
  },
  {
   "cell_type": "code",
   "execution_count": 47,
   "metadata": {
    "ExecuteTime": {
     "end_time": "2019-07-21T08:05:06.012128Z",
     "start_time": "2019-07-21T08:04:39.146768Z"
    }
   },
   "outputs": [],
   "source": [
    "findGroups(titi);"
   ]
  },
  {
   "cell_type": "code",
   "execution_count": 48,
   "metadata": {
    "ExecuteTime": {
     "end_time": "2019-07-21T08:05:06.078296Z",
     "start_time": "2019-07-21T08:05:06.014357Z"
    },
    "scrolled": true
   },
   "outputs": [
    {
     "data": {
      "text/html": [
       "<div>\n",
       "<style scoped>\n",
       "    .dataframe tbody tr th:only-of-type {\n",
       "        vertical-align: middle;\n",
       "    }\n",
       "\n",
       "    .dataframe tbody tr th {\n",
       "        vertical-align: top;\n",
       "    }\n",
       "\n",
       "    .dataframe thead tr th {\n",
       "        text-align: left;\n",
       "    }\n",
       "\n",
       "    .dataframe thead tr:last-of-type th {\n",
       "        text-align: right;\n",
       "    }\n",
       "</style>\n",
       "<table border=\"1\" class=\"dataframe\">\n",
       "  <thead>\n",
       "    <tr>\n",
       "      <th></th>\n",
       "      <th colspan=\"2\" halign=\"left\">longueur</th>\n",
       "      <th colspan=\"2\" halign=\"left\">angle</th>\n",
       "      <th colspan=\"2\" halign=\"left\">weight</th>\n",
       "      <th colspan=\"2\" halign=\"left\">precision</th>\n",
       "      <th colspan=\"2\" halign=\"left\">xPos</th>\n",
       "      <th colspan=\"2\" halign=\"left\">yPos</th>\n",
       "      <th colspan=\"2\" halign=\"left\">layer</th>\n",
       "    </tr>\n",
       "    <tr>\n",
       "      <th></th>\n",
       "      <th>mean</th>\n",
       "      <th>count</th>\n",
       "      <th>mean</th>\n",
       "      <th>count</th>\n",
       "      <th>mean</th>\n",
       "      <th>count</th>\n",
       "      <th>mean</th>\n",
       "      <th>count</th>\n",
       "      <th>mean</th>\n",
       "      <th>count</th>\n",
       "      <th>mean</th>\n",
       "      <th>count</th>\n",
       "      <th>mean</th>\n",
       "      <th>count</th>\n",
       "    </tr>\n",
       "    <tr>\n",
       "      <th>groupID</th>\n",
       "      <th></th>\n",
       "      <th></th>\n",
       "      <th></th>\n",
       "      <th></th>\n",
       "      <th></th>\n",
       "      <th></th>\n",
       "      <th></th>\n",
       "      <th></th>\n",
       "      <th></th>\n",
       "      <th></th>\n",
       "      <th></th>\n",
       "      <th></th>\n",
       "      <th></th>\n",
       "      <th></th>\n",
       "    </tr>\n",
       "  </thead>\n",
       "  <tbody>\n",
       "    <tr>\n",
       "      <th>1</th>\n",
       "      <td>7</td>\n",
       "      <td>1</td>\n",
       "      <td>0.0</td>\n",
       "      <td>1</td>\n",
       "      <td>0.000000</td>\n",
       "      <td>1</td>\n",
       "      <td>0.0</td>\n",
       "      <td>1</td>\n",
       "      <td>0</td>\n",
       "      <td>1</td>\n",
       "      <td>0.0</td>\n",
       "      <td>1</td>\n",
       "      <td>0.0</td>\n",
       "      <td>1</td>\n",
       "    </tr>\n",
       "    <tr>\n",
       "      <th>2</th>\n",
       "      <td>7</td>\n",
       "      <td>1</td>\n",
       "      <td>0.0</td>\n",
       "      <td>1</td>\n",
       "      <td>0.000000</td>\n",
       "      <td>1</td>\n",
       "      <td>0.0</td>\n",
       "      <td>1</td>\n",
       "      <td>0</td>\n",
       "      <td>1</td>\n",
       "      <td>0.0</td>\n",
       "      <td>1</td>\n",
       "      <td>0.0</td>\n",
       "      <td>1</td>\n",
       "    </tr>\n",
       "    <tr>\n",
       "      <th>3</th>\n",
       "      <td>7</td>\n",
       "      <td>1</td>\n",
       "      <td>0.0</td>\n",
       "      <td>1</td>\n",
       "      <td>0.000000</td>\n",
       "      <td>1</td>\n",
       "      <td>0.0</td>\n",
       "      <td>1</td>\n",
       "      <td>0</td>\n",
       "      <td>1</td>\n",
       "      <td>0.0</td>\n",
       "      <td>1</td>\n",
       "      <td>0.0</td>\n",
       "      <td>1</td>\n",
       "    </tr>\n",
       "    <tr>\n",
       "      <th>4</th>\n",
       "      <td>7</td>\n",
       "      <td>122</td>\n",
       "      <td>90.0</td>\n",
       "      <td>122</td>\n",
       "      <td>242.906403</td>\n",
       "      <td>122</td>\n",
       "      <td>0.0</td>\n",
       "      <td>122</td>\n",
       "      <td>39</td>\n",
       "      <td>122</td>\n",
       "      <td>63.5</td>\n",
       "      <td>122</td>\n",
       "      <td>0.0</td>\n",
       "      <td>122</td>\n",
       "    </tr>\n",
       "    <tr>\n",
       "      <th>5</th>\n",
       "      <td>7</td>\n",
       "      <td>1</td>\n",
       "      <td>0.0</td>\n",
       "      <td>1</td>\n",
       "      <td>0.000000</td>\n",
       "      <td>1</td>\n",
       "      <td>0.0</td>\n",
       "      <td>1</td>\n",
       "      <td>0</td>\n",
       "      <td>1</td>\n",
       "      <td>0.0</td>\n",
       "      <td>1</td>\n",
       "      <td>0.0</td>\n",
       "      <td>1</td>\n",
       "    </tr>\n",
       "  </tbody>\n",
       "</table>\n",
       "</div>"
      ],
      "text/plain": [
       "        longueur       angle            weight       precision       xPos  \\\n",
       "            mean count  mean count        mean count      mean count mean   \n",
       "groupID                                                                     \n",
       "1              7     1   0.0     1    0.000000     1       0.0     1    0   \n",
       "2              7     1   0.0     1    0.000000     1       0.0     1    0   \n",
       "3              7     1   0.0     1    0.000000     1       0.0     1    0   \n",
       "4              7   122  90.0   122  242.906403   122       0.0   122   39   \n",
       "5              7     1   0.0     1    0.000000     1       0.0     1    0   \n",
       "\n",
       "               yPos       layer        \n",
       "        count  mean count  mean count  \n",
       "groupID                                \n",
       "1           1   0.0     1   0.0     1  \n",
       "2           1   0.0     1   0.0     1  \n",
       "3           1   0.0     1   0.0     1  \n",
       "4         122  63.5   122   0.0   122  \n",
       "5           1   0.0     1   0.0     1  "
      ]
     },
     "execution_count": 48,
     "metadata": {},
     "output_type": "execute_result"
    }
   ],
   "source": [
    "titi.groupby('groupID').agg(['mean', 'count'])[0:5]"
   ]
  },
  {
   "cell_type": "code",
   "execution_count": 49,
   "metadata": {
    "ExecuteTime": {
     "end_time": "2019-07-21T08:05:06.326501Z",
     "start_time": "2019-07-21T08:05:06.081727Z"
    },
    "scrolled": true
   },
   "outputs": [
    {
     "data": {
      "text/plain": [
       "<matplotlib.axes._subplots.AxesSubplot at 0x1235eb320>"
      ]
     },
     "execution_count": 49,
     "metadata": {},
     "output_type": "execute_result"
    },
    {
     "data": {
      "image/png": "[encoded data removed]",
      "text/plain": [
       "<Figure size 432x288 with 1 Axes>"
      ]
     },
     "metadata": {
      "needs_background": "light"
     },
     "output_type": "display_data"
    }
   ],
   "source": [
    "titi.groupby('groupID').size().hist()"
   ]
  },
  {
   "cell_type": "code",
   "execution_count": 50,
   "metadata": {
    "ExecuteTime": {
     "end_time": "2019-07-21T08:05:06.348961Z",
     "start_time": "2019-07-21T08:05:06.329870Z"
    }
   },
   "outputs": [
    {
     "data": {
      "text/html": [
       "<div>\n",
       "<style scoped>\n",
       "    .dataframe tbody tr th:only-of-type {\n",
       "        vertical-align: middle;\n",
       "    }\n",
       "\n",
       "    .dataframe tbody tr th {\n",
       "        vertical-align: top;\n",
       "    }\n",
       "\n",
       "    .dataframe thead th {\n",
       "        text-align: right;\n",
       "    }\n",
       "</style>\n",
       "<table border=\"1\" class=\"dataframe\">\n",
       "  <thead>\n",
       "    <tr style=\"text-align: right;\">\n",
       "      <th></th>\n",
       "      <th>longueur</th>\n",
       "      <th>angle</th>\n",
       "      <th>weight</th>\n",
       "      <th>precision</th>\n",
       "      <th>xPos</th>\n",
       "      <th>yPos</th>\n",
       "      <th>groupID</th>\n",
       "      <th>layer</th>\n",
       "    </tr>\n",
       "  </thead>\n",
       "  <tbody>\n",
       "    <tr>\n",
       "      <th>0</th>\n",
       "      <td>7</td>\n",
       "      <td>0.0</td>\n",
       "      <td>0.000000</td>\n",
       "      <td>0.0</td>\n",
       "      <td>0</td>\n",
       "      <td>0</td>\n",
       "      <td>1</td>\n",
       "      <td>0.0</td>\n",
       "    </tr>\n",
       "    <tr>\n",
       "      <th>1</th>\n",
       "      <td>7</td>\n",
       "      <td>0.0</td>\n",
       "      <td>0.000000</td>\n",
       "      <td>0.0</td>\n",
       "      <td>0</td>\n",
       "      <td>0</td>\n",
       "      <td>2</td>\n",
       "      <td>0.0</td>\n",
       "    </tr>\n",
       "    <tr>\n",
       "      <th>2</th>\n",
       "      <td>7</td>\n",
       "      <td>0.0</td>\n",
       "      <td>0.000000</td>\n",
       "      <td>0.0</td>\n",
       "      <td>0</td>\n",
       "      <td>0</td>\n",
       "      <td>3</td>\n",
       "      <td>0.0</td>\n",
       "    </tr>\n",
       "    <tr>\n",
       "      <th>3</th>\n",
       "      <td>7</td>\n",
       "      <td>90.0</td>\n",
       "      <td>242.906403</td>\n",
       "      <td>0.0</td>\n",
       "      <td>39</td>\n",
       "      <td>3</td>\n",
       "      <td>4</td>\n",
       "      <td>0.0</td>\n",
       "    </tr>\n",
       "  </tbody>\n",
       "</table>\n",
       "</div>"
      ],
      "text/plain": [
       "   longueur  angle      weight  precision  xPos  yPos  groupID  layer\n",
       "0         7    0.0    0.000000        0.0     0     0        1    0.0\n",
       "1         7    0.0    0.000000        0.0     0     0        2    0.0\n",
       "2         7    0.0    0.000000        0.0     0     0        3    0.0\n",
       "3         7   90.0  242.906403        0.0    39     3        4    0.0"
      ]
     },
     "execution_count": 50,
     "metadata": {},
     "output_type": "execute_result"
    }
   ],
   "source": [
    "titi[0:4]"
   ]
  },
  {
   "cell_type": "markdown",
   "metadata": {},
   "source": [
    "### Test 3\n",
    "#### Generate data of type 3"
   ]
  },
  {
   "cell_type": "code",
   "execution_count": 51,
   "metadata": {
    "ExecuteTime": {
     "end_time": "2019-07-21T08:05:06.616827Z",
     "start_time": "2019-07-21T08:05:06.353973Z"
    }
   },
   "outputs": [
    {
     "data": {
      "image/png": "[encoded data removed]",
      "text/plain": [
       "<Figure size 432x288 with 1 Axes>"
      ]
     },
     "metadata": {
      "needs_background": "light"
     },
     "output_type": "display_data"
    }
   ],
   "source": [
    "frame = generateToy(3,80,128,1)\n",
    "imgplot = plt.imshow(frame)"
   ]
  },
  {
   "cell_type": "markdown",
   "metadata": {},
   "source": [
    "#### Génération des neurones à champs récepteur"
   ]
  },
  {
   "cell_type": "code",
   "execution_count": 52,
   "metadata": {
    "ExecuteTime": {
     "end_time": "2019-07-21T08:05:07.094931Z",
     "start_time": "2019-07-21T08:05:06.630641Z"
    },
    "scrolled": true
   },
   "outputs": [],
   "source": [
    "indices = np.where(frame != [0])\n",
    "nbPixelsAll = nbPixelField(indices[0], indices[1], frame, tailleField)\n",
    "titi = getNeuronActivationList(indices[0], indices[1], tailleField, frame,\n",
    "                               nbPixelsAll)"
   ]
  },
  {
   "cell_type": "code",
   "execution_count": 53,
   "metadata": {
    "ExecuteTime": {
     "end_time": "2019-07-21T08:05:07.165082Z",
     "start_time": "2019-07-21T08:05:07.098967Z"
    },
    "scrolled": true
   },
   "outputs": [
    {
     "data": {
      "text/html": [
       "<div>\n",
       "<style scoped>\n",
       "    .dataframe tbody tr th:only-of-type {\n",
       "        vertical-align: middle;\n",
       "    }\n",
       "\n",
       "    .dataframe tbody tr th {\n",
       "        vertical-align: top;\n",
       "    }\n",
       "\n",
       "    .dataframe thead th {\n",
       "        text-align: right;\n",
       "    }\n",
       "</style>\n",
       "<table border=\"1\" class=\"dataframe\">\n",
       "  <thead>\n",
       "    <tr style=\"text-align: right;\">\n",
       "      <th></th>\n",
       "      <th>longueur</th>\n",
       "      <th>angle</th>\n",
       "      <th>weight</th>\n",
       "      <th>precision</th>\n",
       "      <th>xPos</th>\n",
       "      <th>yPos</th>\n",
       "      <th>groupID</th>\n",
       "      <th>layer</th>\n",
       "    </tr>\n",
       "  </thead>\n",
       "  <tbody>\n",
       "    <tr>\n",
       "      <th>count</th>\n",
       "      <td>50.0</td>\n",
       "      <td>50.000000</td>\n",
       "      <td>50.000000</td>\n",
       "      <td>50.000000</td>\n",
       "      <td>50.00000</td>\n",
       "      <td>50.000000</td>\n",
       "      <td>50.0</td>\n",
       "      <td>50.0</td>\n",
       "    </tr>\n",
       "    <tr>\n",
       "      <th>mean</th>\n",
       "      <td>7.0</td>\n",
       "      <td>26.755207</td>\n",
       "      <td>213.043991</td>\n",
       "      <td>13.634507</td>\n",
       "      <td>51.50000</td>\n",
       "      <td>56.980000</td>\n",
       "      <td>0.0</td>\n",
       "      <td>0.0</td>\n",
       "    </tr>\n",
       "    <tr>\n",
       "      <th>std</th>\n",
       "      <td>0.0</td>\n",
       "      <td>2.806284</td>\n",
       "      <td>5.832972</td>\n",
       "      <td>1.934354</td>\n",
       "      <td>14.57738</td>\n",
       "      <td>7.924362</td>\n",
       "      <td>0.0</td>\n",
       "      <td>0.0</td>\n",
       "    </tr>\n",
       "    <tr>\n",
       "      <th>min</th>\n",
       "      <td>7.0</td>\n",
       "      <td>25.053333</td>\n",
       "      <td>205.570328</td>\n",
       "      <td>7.588554</td>\n",
       "      <td>27.00000</td>\n",
       "      <td>44.000000</td>\n",
       "      <td>0.0</td>\n",
       "      <td>0.0</td>\n",
       "    </tr>\n",
       "    <tr>\n",
       "      <th>25%</th>\n",
       "      <td>7.0</td>\n",
       "      <td>25.053333</td>\n",
       "      <td>212.746216</td>\n",
       "      <td>13.835940</td>\n",
       "      <td>39.25000</td>\n",
       "      <td>50.250000</td>\n",
       "      <td>0.0</td>\n",
       "      <td>0.0</td>\n",
       "    </tr>\n",
       "    <tr>\n",
       "      <th>50%</th>\n",
       "      <td>7.0</td>\n",
       "      <td>25.053333</td>\n",
       "      <td>212.746216</td>\n",
       "      <td>13.835940</td>\n",
       "      <td>51.50000</td>\n",
       "      <td>57.000000</td>\n",
       "      <td>0.0</td>\n",
       "      <td>0.0</td>\n",
       "    </tr>\n",
       "    <tr>\n",
       "      <th>75%</th>\n",
       "      <td>7.0</td>\n",
       "      <td>27.596666</td>\n",
       "      <td>212.746216</td>\n",
       "      <td>13.835940</td>\n",
       "      <td>63.75000</td>\n",
       "      <td>63.750000</td>\n",
       "      <td>0.0</td>\n",
       "      <td>0.0</td>\n",
       "    </tr>\n",
       "    <tr>\n",
       "      <th>max</th>\n",
       "      <td>7.0</td>\n",
       "      <td>35.096668</td>\n",
       "      <td>230.490402</td>\n",
       "      <td>15.747627</td>\n",
       "      <td>76.00000</td>\n",
       "      <td>70.000000</td>\n",
       "      <td>0.0</td>\n",
       "      <td>0.0</td>\n",
       "    </tr>\n",
       "  </tbody>\n",
       "</table>\n",
       "</div>"
      ],
      "text/plain": [
       "       longueur      angle      weight  precision      xPos       yPos  \\\n",
       "count      50.0  50.000000   50.000000  50.000000  50.00000  50.000000   \n",
       "mean        7.0  26.755207  213.043991  13.634507  51.50000  56.980000   \n",
       "std         0.0   2.806284    5.832972   1.934354  14.57738   7.924362   \n",
       "min         7.0  25.053333  205.570328   7.588554  27.00000  44.000000   \n",
       "25%         7.0  25.053333  212.746216  13.835940  39.25000  50.250000   \n",
       "50%         7.0  25.053333  212.746216  13.835940  51.50000  57.000000   \n",
       "75%         7.0  27.596666  212.746216  13.835940  63.75000  63.750000   \n",
       "max         7.0  35.096668  230.490402  15.747627  76.00000  70.000000   \n",
       "\n",
       "       groupID  layer  \n",
       "count     50.0   50.0  \n",
       "mean       0.0    0.0  \n",
       "std        0.0    0.0  \n",
       "min        0.0    0.0  \n",
       "25%        0.0    0.0  \n",
       "50%        0.0    0.0  \n",
       "75%        0.0    0.0  \n",
       "max        0.0    0.0  "
      ]
     },
     "execution_count": 53,
     "metadata": {},
     "output_type": "execute_result"
    }
   ],
   "source": [
    "titi.describe()"
   ]
  },
  {
   "cell_type": "code",
   "execution_count": 54,
   "metadata": {
    "ExecuteTime": {
     "end_time": "2019-07-21T08:05:07.194317Z",
     "start_time": "2019-07-21T08:05:07.168743Z"
    },
    "scrolled": false
   },
   "outputs": [
    {
     "data": {
      "text/html": [
       "<div>\n",
       "<style scoped>\n",
       "    .dataframe tbody tr th:only-of-type {\n",
       "        vertical-align: middle;\n",
       "    }\n",
       "\n",
       "    .dataframe tbody tr th {\n",
       "        vertical-align: top;\n",
       "    }\n",
       "\n",
       "    .dataframe thead th {\n",
       "        text-align: right;\n",
       "    }\n",
       "</style>\n",
       "<table border=\"1\" class=\"dataframe\">\n",
       "  <thead>\n",
       "    <tr style=\"text-align: right;\">\n",
       "      <th></th>\n",
       "      <th>longueur</th>\n",
       "      <th>angle</th>\n",
       "      <th>weight</th>\n",
       "      <th>precision</th>\n",
       "      <th>xPos</th>\n",
       "      <th>yPos</th>\n",
       "      <th>groupID</th>\n",
       "      <th>layer</th>\n",
       "    </tr>\n",
       "  </thead>\n",
       "  <tbody>\n",
       "    <tr>\n",
       "      <th>0</th>\n",
       "      <td>7</td>\n",
       "      <td>25.053333</td>\n",
       "      <td>212.746216</td>\n",
       "      <td>13.83594</td>\n",
       "      <td>27</td>\n",
       "      <td>70</td>\n",
       "      <td>0</td>\n",
       "      <td>0.0</td>\n",
       "    </tr>\n",
       "    <tr>\n",
       "      <th>1</th>\n",
       "      <td>7</td>\n",
       "      <td>25.053333</td>\n",
       "      <td>212.746216</td>\n",
       "      <td>13.83594</td>\n",
       "      <td>28</td>\n",
       "      <td>70</td>\n",
       "      <td>0</td>\n",
       "      <td>0.0</td>\n",
       "    </tr>\n",
       "    <tr>\n",
       "      <th>2</th>\n",
       "      <td>7</td>\n",
       "      <td>25.053333</td>\n",
       "      <td>212.746216</td>\n",
       "      <td>13.83594</td>\n",
       "      <td>29</td>\n",
       "      <td>69</td>\n",
       "      <td>0</td>\n",
       "      <td>0.0</td>\n",
       "    </tr>\n",
       "    <tr>\n",
       "      <th>3</th>\n",
       "      <td>7</td>\n",
       "      <td>25.053333</td>\n",
       "      <td>212.746216</td>\n",
       "      <td>13.83594</td>\n",
       "      <td>30</td>\n",
       "      <td>69</td>\n",
       "      <td>0</td>\n",
       "      <td>0.0</td>\n",
       "    </tr>\n",
       "  </tbody>\n",
       "</table>\n",
       "</div>"
      ],
      "text/plain": [
       "   longueur      angle      weight  precision  xPos  yPos  groupID  layer\n",
       "0         7  25.053333  212.746216   13.83594    27    70        0    0.0\n",
       "1         7  25.053333  212.746216   13.83594    28    70        0    0.0\n",
       "2         7  25.053333  212.746216   13.83594    29    69        0    0.0\n",
       "3         7  25.053333  212.746216   13.83594    30    69        0    0.0"
      ]
     },
     "execution_count": 54,
     "metadata": {},
     "output_type": "execute_result"
    }
   ],
   "source": [
    "titi[0:4]"
   ]
  },
  {
   "cell_type": "markdown",
   "metadata": {},
   "source": [
    "#### Affichage graphique du champs récepteur des neurones"
   ]
  },
  {
   "cell_type": "code",
   "execution_count": 55,
   "metadata": {
    "ExecuteTime": {
     "end_time": "2019-07-21T08:05:07.448172Z",
     "start_time": "2019-07-21T08:05:07.200401Z"
    },
    "scrolled": true
   },
   "outputs": [
    {
     "data": {
      "image/png": "[encoded data removed]",
      "text/plain": [
       "<Figure size 432x288 with 1 Axes>"
      ]
     },
     "metadata": {
      "needs_background": "light"
     },
     "output_type": "display_data"
    }
   ],
   "source": [
    "testBitmap = np.zeros((frame.shape[0],frame.shape[1],3), np.uint8)\n",
    "testBitmap = drawFieldNeurons(titi, testBitmap)\n",
    "imgplot = plt.imshow(testBitmap)"
   ]
  },
  {
   "cell_type": "markdown",
   "metadata": {},
   "source": [
    "#### Génération des groupes"
   ]
  },
  {
   "cell_type": "code",
   "execution_count": 56,
   "metadata": {
    "ExecuteTime": {
     "end_time": "2019-07-21T08:05:08.616781Z",
     "start_time": "2019-07-21T08:05:07.451164Z"
    }
   },
   "outputs": [],
   "source": [
    "findGroups(titi);"
   ]
  },
  {
   "cell_type": "code",
   "execution_count": 57,
   "metadata": {
    "ExecuteTime": {
     "end_time": "2019-07-21T08:05:08.676786Z",
     "start_time": "2019-07-21T08:05:08.619361Z"
    },
    "scrolled": true
   },
   "outputs": [
    {
     "data": {
      "text/html": [
       "<div>\n",
       "<style scoped>\n",
       "    .dataframe tbody tr th:only-of-type {\n",
       "        vertical-align: middle;\n",
       "    }\n",
       "\n",
       "    .dataframe tbody tr th {\n",
       "        vertical-align: top;\n",
       "    }\n",
       "\n",
       "    .dataframe thead tr th {\n",
       "        text-align: left;\n",
       "    }\n",
       "\n",
       "    .dataframe thead tr:last-of-type th {\n",
       "        text-align: right;\n",
       "    }\n",
       "</style>\n",
       "<table border=\"1\" class=\"dataframe\">\n",
       "  <thead>\n",
       "    <tr>\n",
       "      <th></th>\n",
       "      <th colspan=\"2\" halign=\"left\">longueur</th>\n",
       "      <th colspan=\"2\" halign=\"left\">angle</th>\n",
       "      <th colspan=\"2\" halign=\"left\">weight</th>\n",
       "      <th colspan=\"2\" halign=\"left\">precision</th>\n",
       "      <th colspan=\"2\" halign=\"left\">xPos</th>\n",
       "      <th colspan=\"2\" halign=\"left\">yPos</th>\n",
       "      <th colspan=\"2\" halign=\"left\">layer</th>\n",
       "    </tr>\n",
       "    <tr>\n",
       "      <th></th>\n",
       "      <th>mean</th>\n",
       "      <th>count</th>\n",
       "      <th>mean</th>\n",
       "      <th>count</th>\n",
       "      <th>mean</th>\n",
       "      <th>count</th>\n",
       "      <th>mean</th>\n",
       "      <th>count</th>\n",
       "      <th>mean</th>\n",
       "      <th>count</th>\n",
       "      <th>mean</th>\n",
       "      <th>count</th>\n",
       "      <th>mean</th>\n",
       "      <th>count</th>\n",
       "    </tr>\n",
       "    <tr>\n",
       "      <th>groupID</th>\n",
       "      <th></th>\n",
       "      <th></th>\n",
       "      <th></th>\n",
       "      <th></th>\n",
       "      <th></th>\n",
       "      <th></th>\n",
       "      <th></th>\n",
       "      <th></th>\n",
       "      <th></th>\n",
       "      <th></th>\n",
       "      <th></th>\n",
       "      <th></th>\n",
       "      <th></th>\n",
       "      <th></th>\n",
       "    </tr>\n",
       "  </thead>\n",
       "  <tbody>\n",
       "    <tr>\n",
       "      <th>1</th>\n",
       "      <td>7</td>\n",
       "      <td>50</td>\n",
       "      <td>26.755199</td>\n",
       "      <td>50</td>\n",
       "      <td>213.044052</td>\n",
       "      <td>50</td>\n",
       "      <td>13.634507</td>\n",
       "      <td>50</td>\n",
       "      <td>51.5</td>\n",
       "      <td>50</td>\n",
       "      <td>56.98</td>\n",
       "      <td>50</td>\n",
       "      <td>0.0</td>\n",
       "      <td>50</td>\n",
       "    </tr>\n",
       "  </tbody>\n",
       "</table>\n",
       "</div>"
      ],
      "text/plain": [
       "        longueur            angle            weight        precision        \\\n",
       "            mean count       mean count        mean count       mean count   \n",
       "groupID                                                                      \n",
       "1              7    50  26.755199    50  213.044052    50  13.634507    50   \n",
       "\n",
       "         xPos         yPos       layer        \n",
       "         mean count   mean count  mean count  \n",
       "groupID                                       \n",
       "1        51.5    50  56.98    50   0.0    50  "
      ]
     },
     "execution_count": 57,
     "metadata": {},
     "output_type": "execute_result"
    }
   ],
   "source": [
    "titi.groupby('groupID').agg(['mean', 'count'])[0:5]"
   ]
  },
  {
   "cell_type": "code",
   "execution_count": 58,
   "metadata": {
    "ExecuteTime": {
     "end_time": "2019-07-21T08:05:08.908376Z",
     "start_time": "2019-07-21T08:05:08.679337Z"
    },
    "scrolled": true
   },
   "outputs": [
    {
     "data": {
      "text/plain": [
       "<matplotlib.axes._subplots.AxesSubplot at 0x123634f60>"
      ]
     },
     "execution_count": 58,
     "metadata": {},
     "output_type": "execute_result"
    },
    {
     "data": {
      "image/png": "[encoded data removed]",
      "text/plain": [
       "<Figure size 432x288 with 1 Axes>"
      ]
     },
     "metadata": {
      "needs_background": "light"
     },
     "output_type": "display_data"
    }
   ],
   "source": [
    "titi.groupby('groupID').size().hist()"
   ]
  },
  {
   "cell_type": "markdown",
   "metadata": {},
   "source": [
    "### Test 4\n",
    "#### Generate data of type 4"
   ]
  },
  {
   "cell_type": "code",
   "execution_count": 1006,
   "metadata": {
    "ExecuteTime": {
     "end_time": "2019-07-21T21:16:39.213652Z",
     "start_time": "2019-07-21T21:16:38.944038Z"
    }
   },
   "outputs": [
    {
     "data": {
      "image/png": "[encoded data removed]",
      "text/plain": [
       "<Figure size 432x288 with 1 Axes>"
      ]
     },
     "metadata": {
      "needs_background": "light"
     },
     "output_type": "display_data"
    }
   ],
   "source": [
    "frame = generateToy(4,160,256,1)\n",
    "imgplot = plt.imshow(frame)"
   ]
  },
  {
   "cell_type": "markdown",
   "metadata": {},
   "source": [
    "#### Génération des neurones à champs récepteur"
   ]
  },
  {
   "cell_type": "code",
   "execution_count": 1007,
   "metadata": {
    "ExecuteTime": {
     "end_time": "2019-07-21T21:16:46.222397Z",
     "start_time": "2019-07-21T21:16:42.307770Z"
    },
    "scrolled": true
   },
   "outputs": [],
   "source": [
    "indices = np.where(frame != [0])\n",
    "nbPixelsAll = nbPixelField(indices[0], indices[1], frame, tailleField)\n",
    "titi = getNeuronActivationList(indices[0], indices[1], tailleField, frame,\n",
    "                               nbPixelsAll)"
   ]
  },
  {
   "cell_type": "code",
   "execution_count": 739,
   "metadata": {
    "ExecuteTime": {
     "end_time": "2019-07-21T15:21:57.072490Z",
     "start_time": "2019-07-21T15:21:56.981812Z"
    },
    "scrolled": true
   },
   "outputs": [
    {
     "data": {
      "text/html": [
       "<div>\n",
       "<style scoped>\n",
       "    .dataframe tbody tr th:only-of-type {\n",
       "        vertical-align: middle;\n",
       "    }\n",
       "\n",
       "    .dataframe tbody tr th {\n",
       "        vertical-align: top;\n",
       "    }\n",
       "\n",
       "    .dataframe thead th {\n",
       "        text-align: right;\n",
       "    }\n",
       "</style>\n",
       "<table border=\"1\" class=\"dataframe\">\n",
       "  <thead>\n",
       "    <tr style=\"text-align: right;\">\n",
       "      <th></th>\n",
       "      <th>longueur</th>\n",
       "      <th>angle</th>\n",
       "      <th>weight</th>\n",
       "      <th>precision</th>\n",
       "      <th>xPos</th>\n",
       "      <th>yPos</th>\n",
       "      <th>groupID</th>\n",
       "      <th>layer</th>\n",
       "    </tr>\n",
       "  </thead>\n",
       "  <tbody>\n",
       "    <tr>\n",
       "      <th>count</th>\n",
       "      <td>398.0</td>\n",
       "      <td>398.000000</td>\n",
       "      <td>398.000000</td>\n",
       "      <td>398.000000</td>\n",
       "      <td>398.000000</td>\n",
       "      <td>398.000000</td>\n",
       "      <td>398.0</td>\n",
       "      <td>398.000000</td>\n",
       "    </tr>\n",
       "    <tr>\n",
       "      <th>mean</th>\n",
       "      <td>7.0</td>\n",
       "      <td>22.983759</td>\n",
       "      <td>214.483398</td>\n",
       "      <td>9.913938</td>\n",
       "      <td>82.311558</td>\n",
       "      <td>117.037688</td>\n",
       "      <td>0.0</td>\n",
       "      <td>161.944717</td>\n",
       "    </tr>\n",
       "    <tr>\n",
       "      <th>std</th>\n",
       "      <td>0.0</td>\n",
       "      <td>52.803646</td>\n",
       "      <td>44.123013</td>\n",
       "      <td>11.387993</td>\n",
       "      <td>15.140764</td>\n",
       "      <td>72.832620</td>\n",
       "      <td>0.0</td>\n",
       "      <td>90.397964</td>\n",
       "    </tr>\n",
       "    <tr>\n",
       "      <th>min</th>\n",
       "      <td>7.0</td>\n",
       "      <td>-86.926666</td>\n",
       "      <td>10.970448</td>\n",
       "      <td>0.000000</td>\n",
       "      <td>60.000000</td>\n",
       "      <td>20.000000</td>\n",
       "      <td>0.0</td>\n",
       "      <td>-75.000000</td>\n",
       "    </tr>\n",
       "    <tr>\n",
       "      <th>25%</th>\n",
       "      <td>7.0</td>\n",
       "      <td>-7.785227</td>\n",
       "      <td>205.570328</td>\n",
       "      <td>0.000000</td>\n",
       "      <td>67.000000</td>\n",
       "      <td>50.000000</td>\n",
       "      <td>0.0</td>\n",
       "      <td>94.000000</td>\n",
       "    </tr>\n",
       "    <tr>\n",
       "      <th>50%</th>\n",
       "      <td>7.0</td>\n",
       "      <td>13.627500</td>\n",
       "      <td>230.490402</td>\n",
       "      <td>7.588554</td>\n",
       "      <td>84.000000</td>\n",
       "      <td>120.000000</td>\n",
       "      <td>0.0</td>\n",
       "      <td>160.500000</td>\n",
       "    </tr>\n",
       "    <tr>\n",
       "      <th>75%</th>\n",
       "      <td>7.0</td>\n",
       "      <td>90.000000</td>\n",
       "      <td>242.906403</td>\n",
       "      <td>15.747627</td>\n",
       "      <td>99.000000</td>\n",
       "      <td>195.000000</td>\n",
       "      <td>0.0</td>\n",
       "      <td>260.000000</td>\n",
       "    </tr>\n",
       "    <tr>\n",
       "      <th>max</th>\n",
       "      <td>7.0</td>\n",
       "      <td>90.000000</td>\n",
       "      <td>242.906403</td>\n",
       "      <td>61.020844</td>\n",
       "      <td>100.000000</td>\n",
       "      <td>234.000000</td>\n",
       "      <td>0.0</td>\n",
       "      <td>317.000000</td>\n",
       "    </tr>\n",
       "  </tbody>\n",
       "</table>\n",
       "</div>"
      ],
      "text/plain": [
       "       longueur       angle      weight   precision        xPos        yPos  \\\n",
       "count     398.0  398.000000  398.000000  398.000000  398.000000  398.000000   \n",
       "mean        7.0   22.983759  214.483398    9.913938   82.311558  117.037688   \n",
       "std         0.0   52.803646   44.123013   11.387993   15.140764   72.832620   \n",
       "min         7.0  -86.926666   10.970448    0.000000   60.000000   20.000000   \n",
       "25%         7.0   -7.785227  205.570328    0.000000   67.000000   50.000000   \n",
       "50%         7.0   13.627500  230.490402    7.588554   84.000000  120.000000   \n",
       "75%         7.0   90.000000  242.906403   15.747627   99.000000  195.000000   \n",
       "max         7.0   90.000000  242.906403   61.020844  100.000000  234.000000   \n",
       "\n",
       "       groupID       layer  \n",
       "count    398.0  398.000000  \n",
       "mean       0.0  161.944717  \n",
       "std        0.0   90.397964  \n",
       "min        0.0  -75.000000  \n",
       "25%        0.0   94.000000  \n",
       "50%        0.0  160.500000  \n",
       "75%        0.0  260.000000  \n",
       "max        0.0  317.000000  "
      ]
     },
     "execution_count": 739,
     "metadata": {},
     "output_type": "execute_result"
    }
   ],
   "source": [
    "titi.describe()"
   ]
  },
  {
   "cell_type": "code",
   "execution_count": 740,
   "metadata": {
    "ExecuteTime": {
     "end_time": "2019-07-21T15:22:01.060965Z",
     "start_time": "2019-07-21T15:22:01.042211Z"
    },
    "scrolled": false
   },
   "outputs": [
    {
     "data": {
      "text/html": [
       "<div>\n",
       "<style scoped>\n",
       "    .dataframe tbody tr th:only-of-type {\n",
       "        vertical-align: middle;\n",
       "    }\n",
       "\n",
       "    .dataframe tbody tr th {\n",
       "        vertical-align: top;\n",
       "    }\n",
       "\n",
       "    .dataframe thead th {\n",
       "        text-align: right;\n",
       "    }\n",
       "</style>\n",
       "<table border=\"1\" class=\"dataframe\">\n",
       "  <thead>\n",
       "    <tr style=\"text-align: right;\">\n",
       "      <th></th>\n",
       "      <th>longueur</th>\n",
       "      <th>angle</th>\n",
       "      <th>weight</th>\n",
       "      <th>precision</th>\n",
       "      <th>xPos</th>\n",
       "      <th>yPos</th>\n",
       "      <th>groupID</th>\n",
       "      <th>layer</th>\n",
       "    </tr>\n",
       "  </thead>\n",
       "  <tbody>\n",
       "    <tr>\n",
       "      <th>0</th>\n",
       "      <td>7</td>\n",
       "      <td>45.005001</td>\n",
       "      <td>46.537529</td>\n",
       "      <td>44.994999</td>\n",
       "      <td>60</td>\n",
       "      <td>20</td>\n",
       "      <td>0</td>\n",
       "      <td>62.0</td>\n",
       "    </tr>\n",
       "    <tr>\n",
       "      <th>1</th>\n",
       "      <td>7</td>\n",
       "      <td>64.290001</td>\n",
       "      <td>123.892136</td>\n",
       "      <td>30.566092</td>\n",
       "      <td>60</td>\n",
       "      <td>21</td>\n",
       "      <td>0</td>\n",
       "      <td>75.0</td>\n",
       "    </tr>\n",
       "    <tr>\n",
       "      <th>2</th>\n",
       "      <td>7</td>\n",
       "      <td>74.018753</td>\n",
       "      <td>176.191147</td>\n",
       "      <td>21.954557</td>\n",
       "      <td>60</td>\n",
       "      <td>22</td>\n",
       "      <td>0</td>\n",
       "      <td>80.0</td>\n",
       "    </tr>\n",
       "    <tr>\n",
       "      <th>3</th>\n",
       "      <td>7</td>\n",
       "      <td>79.212219</td>\n",
       "      <td>202.501602</td>\n",
       "      <td>16.500349</td>\n",
       "      <td>60</td>\n",
       "      <td>23</td>\n",
       "      <td>0</td>\n",
       "      <td>82.0</td>\n",
       "    </tr>\n",
       "  </tbody>\n",
       "</table>\n",
       "</div>"
      ],
      "text/plain": [
       "   longueur      angle      weight  precision  xPos  yPos  groupID  layer\n",
       "0         7  45.005001   46.537529  44.994999    60    20        0   62.0\n",
       "1         7  64.290001  123.892136  30.566092    60    21        0   75.0\n",
       "2         7  74.018753  176.191147  21.954557    60    22        0   80.0\n",
       "3         7  79.212219  202.501602  16.500349    60    23        0   82.0"
      ]
     },
     "execution_count": 740,
     "metadata": {},
     "output_type": "execute_result"
    }
   ],
   "source": [
    "titi[0:4]"
   ]
  },
  {
   "cell_type": "markdown",
   "metadata": {},
   "source": [
    "#### Affichage graphique du champs récepteur des neurones"
   ]
  },
  {
   "cell_type": "code",
   "execution_count": 1008,
   "metadata": {
    "ExecuteTime": {
     "end_time": "2019-07-21T21:16:56.097237Z",
     "start_time": "2019-07-21T21:16:55.762353Z"
    },
    "scrolled": true
   },
   "outputs": [
    {
     "data": {
      "image/png": "[encoded data removed]",
      "text/plain": [
       "<Figure size 432x288 with 1 Axes>"
      ]
     },
     "metadata": {
      "needs_background": "light"
     },
     "output_type": "display_data"
    }
   ],
   "source": [
    "testBitmap = np.zeros((frame.shape[0],frame.shape[1],3), np.uint8)\n",
    "testBitmap = drawFieldNeurons(titi, testBitmap)\n",
    "imgplot = plt.imshow(testBitmap)"
   ]
  },
  {
   "cell_type": "markdown",
   "metadata": {},
   "source": [
    "#### Simplification\n",
    "\n",
    "##### Layer"
   ]
  },
  {
   "cell_type": "code",
   "execution_count": 871,
   "metadata": {
    "ExecuteTime": {
     "end_time": "2019-07-21T17:24:01.240456Z",
     "start_time": "2019-07-21T17:24:01.015156Z"
    }
   },
   "outputs": [
    {
     "data": {
      "image/png": "[encoded data removed]",
      "text/plain": [
       "<Figure size 432x288 with 1 Axes>"
      ]
     },
     "metadata": {
      "needs_background": "light"
     },
     "output_type": "display_data"
    }
   ],
   "source": [
    "lvhist = (titi['layer']\n",
    " .pipe(lambda s: pd.Series(np.histogram(s,  bins=256)))\n",
    " .pipe(lambda s: pd.Series(s[0], index=s[1][:-1]))\n",
    ")\n",
    "peaks,ldict = find_peaks(lvhist, height=7)\n",
    "ser = lvhist.to_numpy()\n",
    "plt.plot(ser)\n",
    "plt.plot(peaks, ser[peaks], \"x\")\n",
    "plt.plot(np.zeros_like(ser), \"--\", color=\"gray\")\n",
    "plt.ylabel('frequency')\n",
    "plt.show()"
   ]
  },
  {
   "cell_type": "code",
   "execution_count": 805,
   "metadata": {
    "ExecuteTime": {
     "end_time": "2019-07-21T16:59:03.752065Z",
     "start_time": "2019-07-21T16:59:03.747443Z"
    }
   },
   "outputs": [],
   "source": [
    "lidx2 = peaks[np.argmax(ldict['peak_heights'])]\n",
    "lLayerPic = lvhist.index.values[lidx2:lidx2+1][0]"
   ]
  },
  {
   "cell_type": "code",
   "execution_count": 872,
   "metadata": {
    "ExecuteTime": {
     "end_time": "2019-07-21T17:24:05.416653Z",
     "start_time": "2019-07-21T17:24:05.412123Z"
    }
   },
   "outputs": [],
   "source": [
    "lidx2 = peaks[3]\n",
    "lLayerPic = lvhist.index.values[lidx2:lidx2+1][0]"
   ]
  },
  {
   "cell_type": "code",
   "execution_count": 788,
   "metadata": {
    "ExecuteTime": {
     "end_time": "2019-07-21T16:35:28.618861Z",
     "start_time": "2019-07-21T16:35:28.608800Z"
    }
   },
   "outputs": [
    {
     "data": {
      "text/plain": [
       "218"
      ]
     },
     "execution_count": 788,
     "metadata": {},
     "output_type": "execute_result"
    }
   ],
   "source": [
    "lidx2"
   ]
  },
  {
   "cell_type": "code",
   "execution_count": 789,
   "metadata": {
    "ExecuteTime": {
     "end_time": "2019-07-21T16:38:13.158834Z",
     "start_time": "2019-07-21T16:38:13.149558Z"
    }
   },
   "outputs": [
    {
     "data": {
      "text/plain": [
       "8"
      ]
     },
     "execution_count": 789,
     "metadata": {},
     "output_type": "execute_result"
    }
   ],
   "source": [
    "np.argmax(ldict['peak_heights'])"
   ]
  },
  {
   "cell_type": "code",
   "execution_count": 803,
   "metadata": {
    "ExecuteTime": {
     "end_time": "2019-07-21T16:58:50.124180Z",
     "start_time": "2019-07-21T16:58:50.118302Z"
    }
   },
   "outputs": [],
   "source": [
    "ldict['peak_heights'][8]=0"
   ]
  },
  {
   "cell_type": "code",
   "execution_count": 804,
   "metadata": {
    "ExecuteTime": {
     "end_time": "2019-07-21T16:58:56.153846Z",
     "start_time": "2019-07-21T16:58:56.141344Z"
    }
   },
   "outputs": [
    {
     "data": {
      "text/plain": [
       "array([33., 33.,  7., 13., 10.,  7., 11., 33.,  0.])"
      ]
     },
     "execution_count": 804,
     "metadata": {},
     "output_type": "execute_result"
    }
   ],
   "source": [
    "ldict['peak_heights']"
   ]
  },
  {
   "cell_type": "code",
   "execution_count": 873,
   "metadata": {
    "ExecuteTime": {
     "end_time": "2019-07-21T17:24:10.146944Z",
     "start_time": "2019-07-21T17:24:09.856002Z"
    }
   },
   "outputs": [
    {
     "data": {
      "image/png": "[encoded data removed]",
      "text/plain": [
       "<Figure size 432x288 with 1 Axes>"
      ]
     },
     "metadata": {
      "needs_background": "light"
     },
     "output_type": "display_data"
    }
   ],
   "source": [
    "testBitmap = np.zeros((frame.shape[0],frame.shape[1],3), np.uint8)\n",
    "testBitmap = drawFieldNeurons(titi, testBitmap,0,0,lLayerPic,5)\n",
    "imgplot = plt.imshow(testBitmap)"
   ]
  },
  {
   "cell_type": "code",
   "execution_count": 753,
   "metadata": {
    "ExecuteTime": {
     "end_time": "2019-07-21T15:24:03.778016Z",
     "start_time": "2019-07-21T15:24:03.566080Z"
    }
   },
   "outputs": [
    {
     "data": {
      "image/png": "[encoded data removed]",
      "text/plain": [
       "<Figure size 432x288 with 1 Axes>"
      ]
     },
     "metadata": {
      "needs_background": "light"
     },
     "output_type": "display_data"
    }
   ],
   "source": [
    "plt.plot(titi.angle,titi.layer,'.')\n",
    "plt.show()"
   ]
  },
  {
   "cell_type": "code",
   "execution_count": 754,
   "metadata": {
    "ExecuteTime": {
     "end_time": "2019-07-21T15:24:27.421830Z",
     "start_time": "2019-07-21T15:24:27.214096Z"
    }
   },
   "outputs": [
    {
     "data": {
      "image/png": "[encoded data removed]",
      "text/plain": [
       "<Figure size 432x288 with 1 Axes>"
      ]
     },
     "metadata": {
      "needs_background": "light"
     },
     "output_type": "display_data"
    }
   ],
   "source": [
    "plt.plot(titi.angle[np.abs(titi.layer)<300],titi.layer[np.abs(titi.layer)<300],'.')\n",
    "plt.show()"
   ]
  },
  {
   "cell_type": "markdown",
   "metadata": {},
   "source": [
    "##### Angle"
   ]
  },
  {
   "cell_type": "code",
   "execution_count": 874,
   "metadata": {
    "ExecuteTime": {
     "end_time": "2019-07-21T17:24:20.440528Z",
     "start_time": "2019-07-21T17:24:20.174006Z"
    }
   },
   "outputs": [
    {
     "data": {
      "text/plain": [
       "<matplotlib.axes._subplots.AxesSubplot at 0x1485a0160>"
      ]
     },
     "execution_count": 874,
     "metadata": {},
     "output_type": "execute_result"
    },
    {
     "data": {
      "image/png": "[encoded data removed]",
      "text/plain": [
       "<Figure size 432x288 with 1 Axes>"
      ]
     },
     "metadata": {
      "needs_background": "light"
     },
     "output_type": "display_data"
    }
   ],
   "source": [
    "lNeuronTopLayer = titi[(titi.layer>=(lLayerPic-5)) &(titi.layer<=(lLayerPic+5))]\n",
    "lNeuronTopLayer.angle.hist()"
   ]
  },
  {
   "cell_type": "code",
   "execution_count": 877,
   "metadata": {
    "ExecuteTime": {
     "end_time": "2019-07-21T17:27:21.983696Z",
     "start_time": "2019-07-21T17:27:21.629303Z"
    },
    "scrolled": true
   },
   "outputs": [
    {
     "data": {
      "image/png": "[encoded data removed]",
      "text/plain": [
       "<Figure size 432x288 with 1 Axes>"
      ]
     },
     "metadata": {
      "needs_background": "light"
     },
     "output_type": "display_data"
    }
   ],
   "source": [
    "lvhist = (lNeuronTopLayer['angle']\n",
    " .pipe(lambda s: pd.Series(np.histogram(s,  bins=45)))\n",
    " .pipe(lambda s: pd.Series(s[0], index=s[1][:-1]))\n",
    ")\n",
    "lvhist = lvhist.append(pd.Series([0, 0]))\n",
    "ltt  = pd.Series([0, 0])\n",
    "lvhist = ltt.append(lvhist)\n",
    "peaks,ldict = find_peaks(lvhist, height=7)\n",
    "ser = lvhist.to_numpy()\n",
    "plt.plot(ser)\n",
    "plt.plot(peaks, ser[peaks], \"x\")\n",
    "plt.plot(np.zeros_like(ser), \"--\", color=\"gray\")\n",
    "plt.ylabel('frequency')\n",
    "plt.show()"
   ]
  },
  {
   "cell_type": "code",
   "execution_count": 878,
   "metadata": {
    "ExecuteTime": {
     "end_time": "2019-07-21T17:27:35.894530Z",
     "start_time": "2019-07-21T17:27:35.889644Z"
    }
   },
   "outputs": [],
   "source": [
    "lidx2 = peaks[np.argmax(ldict['peak_heights'])]\n",
    "lAnglePic = lvhist.index.values[lidx2:lidx2+1][0]"
   ]
  },
  {
   "cell_type": "code",
   "execution_count": 879,
   "metadata": {
    "ExecuteTime": {
     "end_time": "2019-07-21T17:27:38.142380Z",
     "start_time": "2019-07-21T17:27:37.837503Z"
    }
   },
   "outputs": [
    {
     "data": {
      "image/png": "[encoded data removed]",
      "text/plain": [
       "<Figure size 432x288 with 1 Axes>"
      ]
     },
     "metadata": {
      "needs_background": "light"
     },
     "output_type": "display_data"
    }
   ],
   "source": [
    "testBitmap = np.zeros((frame.shape[0],frame.shape[1],3), np.uint8)\n",
    "testBitmap = drawFieldNeurons(titi, testBitmap,0,0,lLayerPic,5,lAnglePic,5)\n",
    "imgplot = plt.imshow(testBitmap)"
   ]
  },
  {
   "cell_type": "code",
   "execution_count": 906,
   "metadata": {
    "ExecuteTime": {
     "end_time": "2019-07-21T18:17:47.996255Z",
     "start_time": "2019-07-21T18:17:47.601939Z"
    }
   },
   "outputs": [
    {
     "name": "stdout",
     "output_type": "stream",
     "text": [
      "number of group found : 9\n",
      "Layer = 154.6875\n",
      "Angle = 23.832590103149414\n",
      "Number of neurons in this group : 24\n"
     ]
    },
    {
     "data": {
      "image/png": "[encoded data removed]",
      "text/plain": [
       "<Figure size 432x288 with 1 Axes>"
      ]
     },
     "metadata": {
      "needs_background": "light"
     },
     "output_type": "display_data"
    }
   ],
   "source": [
    "lTMPNeuronList = getMainNeurons(titi,5,True)\n",
    "\n",
    "testBitmap = np.zeros((frame.shape[0],frame.shape[1],3), np.uint8)\n",
    "testBitmap = drawFieldNeurons(lTMPNeuronList, testBitmap,0,0)\n",
    "imgplot = plt.imshow(testBitmap)"
   ]
  },
  {
   "cell_type": "code",
   "execution_count": 923,
   "metadata": {
    "ExecuteTime": {
     "end_time": "2019-07-21T19:10:22.623061Z",
     "start_time": "2019-07-21T19:10:22.353915Z"
    }
   },
   "outputs": [
    {
     "data": {
      "image/png": "[encoded data removed]",
      "text/plain": [
       "<Figure size 432x288 with 1 Axes>"
      ]
     },
     "metadata": {
      "needs_background": "light"
     },
     "output_type": "display_data"
    }
   ],
   "source": [
    "testBitmap = np.zeros((frame.shape[0],frame.shape[1],3), np.uint8)\n",
    "testBitmap = drawFieldNeurons(getLineNeuron(lTMPNeuronList), testBitmap,0,0)\n",
    "imgplot = plt.imshow(testBitmap)"
   ]
  },
  {
   "cell_type": "code",
   "execution_count": 1012,
   "metadata": {
    "ExecuteTime": {
     "end_time": "2019-07-21T21:21:01.367800Z",
     "start_time": "2019-07-21T21:21:00.922526Z"
    }
   },
   "outputs": [
    {
     "name": "stdout",
     "output_type": "stream",
     "text": [
      "    longueur      angle      weight  precision   xPos   yPos  groupID  layer\n",
      "0      122.0  90.000008  242.906433   0.000000  100.0   86.0        0   68.0\n",
      "1       32.0   0.010000  242.906403   0.000000   80.0   20.0        1   33.0\n",
      "2       32.0   0.010000  242.906403   0.000000   80.0   60.0        2   33.0\n",
      "3       32.0  90.000000  242.906403   0.000000   60.0   40.0        3   33.0\n",
      "4       35.0 -27.846771  209.158417  14.790317   81.0  140.0        4   25.0\n",
      "5       30.0  26.443127  211.040039  14.289734   78.0  118.0        5   24.0\n",
      "6       36.0  25.218536  212.360291  13.938755   82.0  116.0        6   18.0\n",
      "7       38.0 -35.090321  223.318420   9.697017   77.0  138.0        7    9.0\n",
      "8       36.0  26.201864  211.336288  14.210956   81.0  117.0        8   29.0\n",
      "9       31.0  27.901203  209.065216  14.810285   77.0  118.0        9   14.0\n",
      "10      30.0  34.358009  216.859985  11.542180   74.0  120.0       10    5.0\n",
      "11      12.0  69.539948  209.999847  14.417351   98.0  221.0       11    9.0\n"
     ]
    }
   ],
   "source": [
    "lTMPNeuronList = getLineNeuronList(titi)\n",
    "print(lTMPNeuronList)"
   ]
  },
  {
   "cell_type": "code",
   "execution_count": 1013,
   "metadata": {
    "ExecuteTime": {
     "end_time": "2019-07-21T21:21:20.529688Z",
     "start_time": "2019-07-21T21:21:20.282910Z"
    }
   },
   "outputs": [
    {
     "data": {
      "image/png": "[encoded data removed]",
      "text/plain": [
       "<Figure size 432x288 with 1 Axes>"
      ]
     },
     "metadata": {
      "needs_background": "light"
     },
     "output_type": "display_data"
    }
   ],
   "source": [
    "testBitmap = np.zeros((frame.shape[0],frame.shape[1],3), np.uint8)\n",
    "testBitmap = drawFieldNeurons(lTMPNeuronList, testBitmap,0,0)\n",
    "imgplot = plt.imshow(testBitmap)"
   ]
  },
  {
   "cell_type": "markdown",
   "metadata": {},
   "source": [
    "#### Génération des groupes"
   ]
  },
  {
   "cell_type": "code",
   "execution_count": 64,
   "metadata": {
    "ExecuteTime": {
     "end_time": "2019-07-21T08:05:35.587156Z",
     "start_time": "2019-07-21T08:05:12.882980Z"
    }
   },
   "outputs": [],
   "source": [
    "findGroups(titi);"
   ]
  },
  {
   "cell_type": "code",
   "execution_count": 65,
   "metadata": {
    "ExecuteTime": {
     "end_time": "2019-07-21T08:05:35.823439Z",
     "start_time": "2019-07-21T08:05:35.589584Z"
    },
    "scrolled": true
   },
   "outputs": [
    {
     "data": {
      "text/plain": [
       "<matplotlib.axes._subplots.AxesSubplot at 0x1240b6198>"
      ]
     },
     "execution_count": 65,
     "metadata": {},
     "output_type": "execute_result"
    },
    {
     "data": {
      "image/png": "[encoded data removed]",
      "text/plain": [
       "<Figure size 432x288 with 1 Axes>"
      ]
     },
     "metadata": {
      "needs_background": "light"
     },
     "output_type": "display_data"
    }
   ],
   "source": [
    "titi.groupby('groupID').size().hist()"
   ]
  },
  {
   "cell_type": "code",
   "execution_count": 66,
   "metadata": {
    "ExecuteTime": {
     "end_time": "2019-07-21T08:05:36.061529Z",
     "start_time": "2019-07-21T08:05:35.826505Z"
    }
   },
   "outputs": [
    {
     "data": {
      "text/plain": [
       "<matplotlib.axes._subplots.AxesSubplot at 0x123c11208>"
      ]
     },
     "execution_count": 66,
     "metadata": {},
     "output_type": "execute_result"
    },
    {
     "data": {
      "image/png": "[encoded data removed]",
      "text/plain": [
       "<Figure size 432x288 with 1 Axes>"
      ]
     },
     "metadata": {
      "needs_background": "light"
     },
     "output_type": "display_data"
    }
   ],
   "source": [
    "resultGroup = titi.groupby('groupID').size()\n",
    "resultGroup[resultGroup>10].hist()"
   ]
  },
  {
   "cell_type": "code",
   "execution_count": 67,
   "metadata": {
    "ExecuteTime": {
     "end_time": "2019-07-21T08:05:36.123441Z",
     "start_time": "2019-07-21T08:05:36.064753Z"
    },
    "scrolled": true
   },
   "outputs": [
    {
     "data": {
      "text/html": [
       "<div>\n",
       "<style scoped>\n",
       "    .dataframe tbody tr th:only-of-type {\n",
       "        vertical-align: middle;\n",
       "    }\n",
       "\n",
       "    .dataframe tbody tr th {\n",
       "        vertical-align: top;\n",
       "    }\n",
       "\n",
       "    .dataframe thead tr th {\n",
       "        text-align: left;\n",
       "    }\n",
       "\n",
       "    .dataframe thead tr:last-of-type th {\n",
       "        text-align: right;\n",
       "    }\n",
       "</style>\n",
       "<table border=\"1\" class=\"dataframe\">\n",
       "  <thead>\n",
       "    <tr>\n",
       "      <th></th>\n",
       "      <th colspan=\"2\" halign=\"left\">longueur</th>\n",
       "      <th colspan=\"2\" halign=\"left\">angle</th>\n",
       "      <th colspan=\"2\" halign=\"left\">weight</th>\n",
       "      <th colspan=\"2\" halign=\"left\">precision</th>\n",
       "      <th colspan=\"2\" halign=\"left\">xPos</th>\n",
       "      <th colspan=\"2\" halign=\"left\">yPos</th>\n",
       "      <th colspan=\"2\" halign=\"left\">layer</th>\n",
       "    </tr>\n",
       "    <tr>\n",
       "      <th></th>\n",
       "      <th>mean</th>\n",
       "      <th>count</th>\n",
       "      <th>mean</th>\n",
       "      <th>count</th>\n",
       "      <th>mean</th>\n",
       "      <th>count</th>\n",
       "      <th>mean</th>\n",
       "      <th>count</th>\n",
       "      <th>mean</th>\n",
       "      <th>count</th>\n",
       "      <th>mean</th>\n",
       "      <th>count</th>\n",
       "      <th>mean</th>\n",
       "      <th>count</th>\n",
       "    </tr>\n",
       "    <tr>\n",
       "      <th>groupID</th>\n",
       "      <th></th>\n",
       "      <th></th>\n",
       "      <th></th>\n",
       "      <th></th>\n",
       "      <th></th>\n",
       "      <th></th>\n",
       "      <th></th>\n",
       "      <th></th>\n",
       "      <th></th>\n",
       "      <th></th>\n",
       "      <th></th>\n",
       "      <th></th>\n",
       "      <th></th>\n",
       "      <th></th>\n",
       "    </tr>\n",
       "  </thead>\n",
       "  <tbody>\n",
       "    <tr>\n",
       "      <th>1</th>\n",
       "      <td>7</td>\n",
       "      <td>155</td>\n",
       "      <td>40.768021</td>\n",
       "      <td>155</td>\n",
       "      <td>229.658386</td>\n",
       "      <td>155</td>\n",
       "      <td>3.791248</td>\n",
       "      <td>155</td>\n",
       "      <td>80.638710</td>\n",
       "      <td>155</td>\n",
       "      <td>39.393548</td>\n",
       "      <td>155</td>\n",
       "      <td>0.0</td>\n",
       "      <td>155</td>\n",
       "    </tr>\n",
       "    <tr>\n",
       "      <th>6</th>\n",
       "      <td>7</td>\n",
       "      <td>83</td>\n",
       "      <td>48.416748</td>\n",
       "      <td>83</td>\n",
       "      <td>211.846710</td>\n",
       "      <td>83</td>\n",
       "      <td>10.593689</td>\n",
       "      <td>83</td>\n",
       "      <td>90.156627</td>\n",
       "      <td>83</td>\n",
       "      <td>122.337349</td>\n",
       "      <td>83</td>\n",
       "      <td>0.0</td>\n",
       "      <td>83</td>\n",
       "    </tr>\n",
       "    <tr>\n",
       "      <th>9</th>\n",
       "      <td>7</td>\n",
       "      <td>41</td>\n",
       "      <td>-21.370747</td>\n",
       "      <td>41</td>\n",
       "      <td>187.712830</td>\n",
       "      <td>41</td>\n",
       "      <td>18.333818</td>\n",
       "      <td>41</td>\n",
       "      <td>80.902439</td>\n",
       "      <td>41</td>\n",
       "      <td>140.390244</td>\n",
       "      <td>41</td>\n",
       "      <td>0.0</td>\n",
       "      <td>41</td>\n",
       "    </tr>\n",
       "    <tr>\n",
       "      <th>10</th>\n",
       "      <td>7</td>\n",
       "      <td>110</td>\n",
       "      <td>0.008000</td>\n",
       "      <td>110</td>\n",
       "      <td>214.484055</td>\n",
       "      <td>110</td>\n",
       "      <td>12.641945</td>\n",
       "      <td>110</td>\n",
       "      <td>80.000000</td>\n",
       "      <td>110</td>\n",
       "      <td>214.000000</td>\n",
       "      <td>110</td>\n",
       "      <td>0.0</td>\n",
       "      <td>110</td>\n",
       "    </tr>\n",
       "  </tbody>\n",
       "</table>\n",
       "</div>"
      ],
      "text/plain": [
       "        longueur            angle            weight        precision        \\\n",
       "            mean count       mean count        mean count       mean count   \n",
       "groupID                                                                      \n",
       "1              7   155  40.768021   155  229.658386   155   3.791248   155   \n",
       "6              7    83  48.416748    83  211.846710    83  10.593689    83   \n",
       "9              7    41 -21.370747    41  187.712830    41  18.333818    41   \n",
       "10             7   110   0.008000   110  214.484055   110  12.641945   110   \n",
       "\n",
       "              xPos              yPos       layer        \n",
       "              mean count        mean count  mean count  \n",
       "groupID                                                 \n",
       "1        80.638710   155   39.393548   155   0.0   155  \n",
       "6        90.156627    83  122.337349    83   0.0    83  \n",
       "9        80.902439    41  140.390244    41   0.0    41  \n",
       "10       80.000000   110  214.000000   110   0.0   110  "
      ]
     },
     "execution_count": 67,
     "metadata": {},
     "output_type": "execute_result"
    }
   ],
   "source": [
    "titi.groupby('groupID').agg(['mean', 'count'])[resultGroup>10]"
   ]
  },
  {
   "cell_type": "code",
   "execution_count": 68,
   "metadata": {
    "ExecuteTime": {
     "end_time": "2019-07-21T08:05:36.141867Z",
     "start_time": "2019-07-21T08:05:36.126312Z"
    }
   },
   "outputs": [
    {
     "name": "stdout",
     "output_type": "stream",
     "text": [
      "1\n",
      "10\n",
      "6\n",
      "9\n",
      "2\n",
      "3\n",
      "4\n",
      "5\n",
      "7\n",
      "8\n",
      "11\n",
      "12\n",
      "13\n"
     ]
    }
   ],
   "source": [
    "for lidx, langle in titi.groupby('groupID').count().sort_values('angle', ascending=False).iterrows():\n",
    "    print (lidx)"
   ]
  },
  {
   "cell_type": "code",
   "execution_count": 69,
   "metadata": {
    "ExecuteTime": {
     "end_time": "2019-07-21T08:05:36.155752Z",
     "start_time": "2019-07-21T08:05:36.145556Z"
    }
   },
   "outputs": [
    {
     "data": {
      "text/plain": [
       "54.005035400390625"
      ]
     },
     "execution_count": 69,
     "metadata": {},
     "output_type": "execute_result"
    }
   ],
   "source": [
    "getWAGA(titi,6)"
   ]
  },
  {
   "cell_type": "code",
   "execution_count": 70,
   "metadata": {
    "ExecuteTime": {
     "end_time": "2019-07-21T08:05:36.428292Z",
     "start_time": "2019-07-21T08:05:36.158850Z"
    }
   },
   "outputs": [
    {
     "data": {
      "image/png": "[encoded data removed]",
      "text/plain": [
       "<Figure size 432x288 with 1 Axes>"
      ]
     },
     "metadata": {
      "needs_background": "light"
     },
     "output_type": "display_data"
    }
   ],
   "source": [
    "testBitmap = np.zeros((frame.shape[0],frame.shape[1],3), np.uint8)\n",
    "testBitmap = drawFieldNeurons(titi, testBitmap,0,10)\n",
    "imgplot = plt.imshow(testBitmap)"
   ]
  },
  {
   "cell_type": "markdown",
   "metadata": {},
   "source": [
    "### Test 5\n",
    "#### Generate data of type 5"
   ]
  },
  {
   "cell_type": "code",
   "execution_count": 1014,
   "metadata": {
    "ExecuteTime": {
     "end_time": "2019-07-21T21:21:35.647133Z",
     "start_time": "2019-07-21T21:21:35.291562Z"
    }
   },
   "outputs": [
    {
     "data": {
      "image/png": "[encoded data removed]",
      "text/plain": [
       "<Figure size 432x288 with 1 Axes>"
      ]
     },
     "metadata": {
      "needs_background": "light"
     },
     "output_type": "display_data"
    }
   ],
   "source": [
    "frame = generateToy(5,160,256,1)\n",
    "imgplot = plt.imshow(frame) "
   ]
  },
  {
   "cell_type": "markdown",
   "metadata": {},
   "source": [
    "#### Génération des neurones à champs récepteur"
   ]
  },
  {
   "cell_type": "code",
   "execution_count": 1015,
   "metadata": {
    "ExecuteTime": {
     "end_time": "2019-07-21T21:21:41.484541Z",
     "start_time": "2019-07-21T21:21:39.045844Z"
    },
    "scrolled": true
   },
   "outputs": [],
   "source": [
    "indices = np.where(frame != [0])\n",
    "nbPixelsAll = nbPixelField(indices[0], indices[1], frame, tailleField)\n",
    "titi = getNeuronActivationList(indices[0], indices[1], tailleField, frame,\n",
    "                               nbPixelsAll)"
   ]
  },
  {
   "cell_type": "code",
   "execution_count": 989,
   "metadata": {
    "ExecuteTime": {
     "end_time": "2019-07-21T21:01:38.372138Z",
     "start_time": "2019-07-21T21:01:38.281491Z"
    },
    "scrolled": true
   },
   "outputs": [
    {
     "data": {
      "text/html": [
       "<div>\n",
       "<style scoped>\n",
       "    .dataframe tbody tr th:only-of-type {\n",
       "        vertical-align: middle;\n",
       "    }\n",
       "\n",
       "    .dataframe tbody tr th {\n",
       "        vertical-align: top;\n",
       "    }\n",
       "\n",
       "    .dataframe thead th {\n",
       "        text-align: right;\n",
       "    }\n",
       "</style>\n",
       "<table border=\"1\" class=\"dataframe\">\n",
       "  <thead>\n",
       "    <tr style=\"text-align: right;\">\n",
       "      <th></th>\n",
       "      <th>longueur</th>\n",
       "      <th>angle</th>\n",
       "      <th>weight</th>\n",
       "      <th>precision</th>\n",
       "      <th>xPos</th>\n",
       "      <th>yPos</th>\n",
       "      <th>groupID</th>\n",
       "      <th>layer</th>\n",
       "    </tr>\n",
       "  </thead>\n",
       "  <tbody>\n",
       "    <tr>\n",
       "      <th>count</th>\n",
       "      <td>225.0</td>\n",
       "      <td>225.000000</td>\n",
       "      <td>225.000000</td>\n",
       "      <td>225.000000</td>\n",
       "      <td>225.000000</td>\n",
       "      <td>225.000000</td>\n",
       "      <td>225.0</td>\n",
       "      <td>225.00000</td>\n",
       "    </tr>\n",
       "    <tr>\n",
       "      <th>mean</th>\n",
       "      <td>7.0</td>\n",
       "      <td>0.007630</td>\n",
       "      <td>218.586960</td>\n",
       "      <td>10.958316</td>\n",
       "      <td>100.000000</td>\n",
       "      <td>125.000000</td>\n",
       "      <td>0.0</td>\n",
       "      <td>125.00000</td>\n",
       "    </tr>\n",
       "    <tr>\n",
       "      <th>std</th>\n",
       "      <td>0.0</td>\n",
       "      <td>62.412056</td>\n",
       "      <td>14.312121</td>\n",
       "      <td>5.934726</td>\n",
       "      <td>7.781044</td>\n",
       "      <td>71.818223</td>\n",
       "      <td>0.0</td>\n",
       "      <td>152.75824</td>\n",
       "    </tr>\n",
       "    <tr>\n",
       "      <th>min</th>\n",
       "      <td>7.0</td>\n",
       "      <td>-79.423332</td>\n",
       "      <td>200.650269</td>\n",
       "      <td>0.000000</td>\n",
       "      <td>78.000000</td>\n",
       "      <td>3.000000</td>\n",
       "      <td>0.0</td>\n",
       "      <td>-89.00000</td>\n",
       "    </tr>\n",
       "    <tr>\n",
       "      <th>25%</th>\n",
       "      <td>7.0</td>\n",
       "      <td>-64.948334</td>\n",
       "      <td>206.338470</td>\n",
       "      <td>10.909474</td>\n",
       "      <td>95.000000</td>\n",
       "      <td>64.000000</td>\n",
       "      <td>0.0</td>\n",
       "      <td>-19.00000</td>\n",
       "    </tr>\n",
       "    <tr>\n",
       "      <th>50%</th>\n",
       "      <td>7.0</td>\n",
       "      <td>0.010000</td>\n",
       "      <td>212.899750</td>\n",
       "      <td>13.792321</td>\n",
       "      <td>100.000000</td>\n",
       "      <td>125.000000</td>\n",
       "      <td>0.0</td>\n",
       "      <td>125.00000</td>\n",
       "    </tr>\n",
       "    <tr>\n",
       "      <th>75%</th>\n",
       "      <td>7.0</td>\n",
       "      <td>64.964996</td>\n",
       "      <td>222.082733</td>\n",
       "      <td>15.553707</td>\n",
       "      <td>105.000000</td>\n",
       "      <td>186.000000</td>\n",
       "      <td>0.0</td>\n",
       "      <td>269.00000</td>\n",
       "    </tr>\n",
       "    <tr>\n",
       "      <th>max</th>\n",
       "      <td>7.0</td>\n",
       "      <td>79.433334</td>\n",
       "      <td>242.906403</td>\n",
       "      <td>16.938763</td>\n",
       "      <td>122.000000</td>\n",
       "      <td>247.000000</td>\n",
       "      <td>0.0</td>\n",
       "      <td>339.00000</td>\n",
       "    </tr>\n",
       "  </tbody>\n",
       "</table>\n",
       "</div>"
      ],
      "text/plain": [
       "       longueur       angle      weight   precision        xPos        yPos  \\\n",
       "count     225.0  225.000000  225.000000  225.000000  225.000000  225.000000   \n",
       "mean        7.0    0.007630  218.586960   10.958316  100.000000  125.000000   \n",
       "std         0.0   62.412056   14.312121    5.934726    7.781044   71.818223   \n",
       "min         7.0  -79.423332  200.650269    0.000000   78.000000    3.000000   \n",
       "25%         7.0  -64.948334  206.338470   10.909474   95.000000   64.000000   \n",
       "50%         7.0    0.010000  212.899750   13.792321  100.000000  125.000000   \n",
       "75%         7.0   64.964996  222.082733   15.553707  105.000000  186.000000   \n",
       "max         7.0   79.433334  242.906403   16.938763  122.000000  247.000000   \n",
       "\n",
       "       groupID      layer  \n",
       "count    225.0  225.00000  \n",
       "mean       0.0  125.00000  \n",
       "std        0.0  152.75824  \n",
       "min        0.0  -89.00000  \n",
       "25%        0.0  -19.00000  \n",
       "50%        0.0  125.00000  \n",
       "75%        0.0  269.00000  \n",
       "max        0.0  339.00000  "
      ]
     },
     "execution_count": 989,
     "metadata": {},
     "output_type": "execute_result"
    }
   ],
   "source": [
    "titi.describe()"
   ]
  },
  {
   "cell_type": "code",
   "execution_count": 990,
   "metadata": {
    "ExecuteTime": {
     "end_time": "2019-07-21T21:01:41.702249Z",
     "start_time": "2019-07-21T21:01:41.568196Z"
    },
    "scrolled": false
   },
   "outputs": [
    {
     "data": {
      "text/html": [
       "<div>\n",
       "<style scoped>\n",
       "    .dataframe tbody tr th:only-of-type {\n",
       "        vertical-align: middle;\n",
       "    }\n",
       "\n",
       "    .dataframe tbody tr th {\n",
       "        vertical-align: top;\n",
       "    }\n",
       "\n",
       "    .dataframe thead tr th {\n",
       "        text-align: left;\n",
       "    }\n",
       "\n",
       "    .dataframe thead tr:last-of-type th {\n",
       "        text-align: right;\n",
       "    }\n",
       "</style>\n",
       "<table border=\"1\" class=\"dataframe\">\n",
       "  <thead>\n",
       "    <tr>\n",
       "      <th></th>\n",
       "      <th colspan=\"2\" halign=\"left\">longueur</th>\n",
       "      <th colspan=\"2\" halign=\"left\">weight</th>\n",
       "      <th colspan=\"2\" halign=\"left\">precision</th>\n",
       "      <th colspan=\"2\" halign=\"left\">xPos</th>\n",
       "      <th colspan=\"2\" halign=\"left\">yPos</th>\n",
       "      <th colspan=\"2\" halign=\"left\">groupID</th>\n",
       "      <th colspan=\"2\" halign=\"left\">layer</th>\n",
       "    </tr>\n",
       "    <tr>\n",
       "      <th></th>\n",
       "      <th>mean</th>\n",
       "      <th>count</th>\n",
       "      <th>mean</th>\n",
       "      <th>count</th>\n",
       "      <th>mean</th>\n",
       "      <th>count</th>\n",
       "      <th>mean</th>\n",
       "      <th>count</th>\n",
       "      <th>mean</th>\n",
       "      <th>count</th>\n",
       "      <th>mean</th>\n",
       "      <th>count</th>\n",
       "      <th>mean</th>\n",
       "      <th>count</th>\n",
       "    </tr>\n",
       "    <tr>\n",
       "      <th>angle</th>\n",
       "      <th></th>\n",
       "      <th></th>\n",
       "      <th></th>\n",
       "      <th></th>\n",
       "      <th></th>\n",
       "      <th></th>\n",
       "      <th></th>\n",
       "      <th></th>\n",
       "      <th></th>\n",
       "      <th></th>\n",
       "      <th></th>\n",
       "      <th></th>\n",
       "      <th></th>\n",
       "      <th></th>\n",
       "    </tr>\n",
       "  </thead>\n",
       "  <tbody>\n",
       "    <tr>\n",
       "      <th>-79.423332</th>\n",
       "      <td>7</td>\n",
       "      <td>16</td>\n",
       "      <td>222.054947</td>\n",
       "      <td>16</td>\n",
       "      <td>10.919160</td>\n",
       "      <td>16</td>\n",
       "      <td>100</td>\n",
       "      <td>16</td>\n",
       "      <td>25</td>\n",
       "      <td>16</td>\n",
       "      <td>0</td>\n",
       "      <td>16</td>\n",
       "      <td>-73.000000</td>\n",
       "      <td>16</td>\n",
       "    </tr>\n",
       "    <tr>\n",
       "      <th>-74.995003</th>\n",
       "      <td>7</td>\n",
       "      <td>14</td>\n",
       "      <td>200.650269</td>\n",
       "      <td>14</td>\n",
       "      <td>16.938763</td>\n",
       "      <td>14</td>\n",
       "      <td>100</td>\n",
       "      <td>14</td>\n",
       "      <td>25</td>\n",
       "      <td>14</td>\n",
       "      <td>0</td>\n",
       "      <td>14</td>\n",
       "      <td>-71.642860</td>\n",
       "      <td>14</td>\n",
       "    </tr>\n",
       "    <tr>\n",
       "      <th>-74.993332</th>\n",
       "      <td>7</td>\n",
       "      <td>5</td>\n",
       "      <td>221.475922</td>\n",
       "      <td>5</td>\n",
       "      <td>11.119500</td>\n",
       "      <td>5</td>\n",
       "      <td>100</td>\n",
       "      <td>5</td>\n",
       "      <td>25</td>\n",
       "      <td>5</td>\n",
       "      <td>0</td>\n",
       "      <td>5</td>\n",
       "      <td>-71.800003</td>\n",
       "      <td>5</td>\n",
       "    </tr>\n",
       "    <tr>\n",
       "      <th>-71.921669</th>\n",
       "      <td>7</td>\n",
       "      <td>10</td>\n",
       "      <td>206.338470</td>\n",
       "      <td>10</td>\n",
       "      <td>15.553707</td>\n",
       "      <td>10</td>\n",
       "      <td>100</td>\n",
       "      <td>10</td>\n",
       "      <td>25</td>\n",
       "      <td>10</td>\n",
       "      <td>0</td>\n",
       "      <td>10</td>\n",
       "      <td>-70.000000</td>\n",
       "      <td>10</td>\n",
       "    </tr>\n",
       "    <tr>\n",
       "      <th>-64.948334</th>\n",
       "      <td>7</td>\n",
       "      <td>20</td>\n",
       "      <td>212.735580</td>\n",
       "      <td>20</td>\n",
       "      <td>13.838958</td>\n",
       "      <td>20</td>\n",
       "      <td>100</td>\n",
       "      <td>20</td>\n",
       "      <td>75</td>\n",
       "      <td>20</td>\n",
       "      <td>0</td>\n",
       "      <td>20</td>\n",
       "      <td>-15.700000</td>\n",
       "      <td>20</td>\n",
       "    </tr>\n",
       "    <tr>\n",
       "      <th>-62.404999</th>\n",
       "      <td>7</td>\n",
       "      <td>10</td>\n",
       "      <td>212.899750</td>\n",
       "      <td>10</td>\n",
       "      <td>13.792321</td>\n",
       "      <td>10</td>\n",
       "      <td>100</td>\n",
       "      <td>10</td>\n",
       "      <td>75</td>\n",
       "      <td>10</td>\n",
       "      <td>0</td>\n",
       "      <td>10</td>\n",
       "      <td>-13.200000</td>\n",
       "      <td>10</td>\n",
       "    </tr>\n",
       "    <tr>\n",
       "      <th>-61.876667</th>\n",
       "      <td>7</td>\n",
       "      <td>10</td>\n",
       "      <td>205.558472</td>\n",
       "      <td>10</td>\n",
       "      <td>15.750603</td>\n",
       "      <td>10</td>\n",
       "      <td>100</td>\n",
       "      <td>10</td>\n",
       "      <td>75</td>\n",
       "      <td>10</td>\n",
       "      <td>0</td>\n",
       "      <td>10</td>\n",
       "      <td>-13.200000</td>\n",
       "      <td>10</td>\n",
       "    </tr>\n",
       "    <tr>\n",
       "      <th>-54.903332</th>\n",
       "      <td>7</td>\n",
       "      <td>5</td>\n",
       "      <td>230.490402</td>\n",
       "      <td>5</td>\n",
       "      <td>7.588554</td>\n",
       "      <td>5</td>\n",
       "      <td>100</td>\n",
       "      <td>5</td>\n",
       "      <td>75</td>\n",
       "      <td>5</td>\n",
       "      <td>0</td>\n",
       "      <td>5</td>\n",
       "      <td>-7.000000</td>\n",
       "      <td>5</td>\n",
       "    </tr>\n",
       "    <tr>\n",
       "      <th>0.010000</th>\n",
       "      <td>7</td>\n",
       "      <td>45</td>\n",
       "      <td>242.906403</td>\n",
       "      <td>45</td>\n",
       "      <td>0.000000</td>\n",
       "      <td>45</td>\n",
       "      <td>100</td>\n",
       "      <td>45</td>\n",
       "      <td>125</td>\n",
       "      <td>45</td>\n",
       "      <td>0</td>\n",
       "      <td>45</td>\n",
       "      <td>125.000000</td>\n",
       "      <td>45</td>\n",
       "    </tr>\n",
       "    <tr>\n",
       "      <th>54.923332</th>\n",
       "      <td>7</td>\n",
       "      <td>5</td>\n",
       "      <td>230.490402</td>\n",
       "      <td>5</td>\n",
       "      <td>7.588554</td>\n",
       "      <td>5</td>\n",
       "      <td>100</td>\n",
       "      <td>5</td>\n",
       "      <td>175</td>\n",
       "      <td>5</td>\n",
       "      <td>0</td>\n",
       "      <td>5</td>\n",
       "      <td>257.000000</td>\n",
       "      <td>5</td>\n",
       "    </tr>\n",
       "    <tr>\n",
       "      <th>61.893333</th>\n",
       "      <td>7</td>\n",
       "      <td>10</td>\n",
       "      <td>205.582184</td>\n",
       "      <td>10</td>\n",
       "      <td>15.744652</td>\n",
       "      <td>10</td>\n",
       "      <td>100</td>\n",
       "      <td>10</td>\n",
       "      <td>175</td>\n",
       "      <td>10</td>\n",
       "      <td>0</td>\n",
       "      <td>10</td>\n",
       "      <td>263.200012</td>\n",
       "      <td>10</td>\n",
       "    </tr>\n",
       "    <tr>\n",
       "      <th>62.421665</th>\n",
       "      <td>7</td>\n",
       "      <td>10</td>\n",
       "      <td>212.923187</td>\n",
       "      <td>10</td>\n",
       "      <td>13.785652</td>\n",
       "      <td>10</td>\n",
       "      <td>100</td>\n",
       "      <td>10</td>\n",
       "      <td>175</td>\n",
       "      <td>10</td>\n",
       "      <td>0</td>\n",
       "      <td>10</td>\n",
       "      <td>263.200012</td>\n",
       "      <td>10</td>\n",
       "    </tr>\n",
       "    <tr>\n",
       "      <th>64.964996</th>\n",
       "      <td>7</td>\n",
       "      <td>20</td>\n",
       "      <td>212.756851</td>\n",
       "      <td>20</td>\n",
       "      <td>13.832924</td>\n",
       "      <td>20</td>\n",
       "      <td>100</td>\n",
       "      <td>20</td>\n",
       "      <td>175</td>\n",
       "      <td>20</td>\n",
       "      <td>0</td>\n",
       "      <td>20</td>\n",
       "      <td>265.700012</td>\n",
       "      <td>20</td>\n",
       "    </tr>\n",
       "    <tr>\n",
       "      <th>71.934998</th>\n",
       "      <td>7</td>\n",
       "      <td>10</td>\n",
       "      <td>206.368973</td>\n",
       "      <td>10</td>\n",
       "      <td>15.545959</td>\n",
       "      <td>10</td>\n",
       "      <td>100</td>\n",
       "      <td>10</td>\n",
       "      <td>225</td>\n",
       "      <td>10</td>\n",
       "      <td>0</td>\n",
       "      <td>10</td>\n",
       "      <td>320.000000</td>\n",
       "      <td>10</td>\n",
       "    </tr>\n",
       "    <tr>\n",
       "      <th>75.004997</th>\n",
       "      <td>7</td>\n",
       "      <td>14</td>\n",
       "      <td>200.688141</td>\n",
       "      <td>14</td>\n",
       "      <td>16.929905</td>\n",
       "      <td>14</td>\n",
       "      <td>100</td>\n",
       "      <td>14</td>\n",
       "      <td>225</td>\n",
       "      <td>14</td>\n",
       "      <td>0</td>\n",
       "      <td>14</td>\n",
       "      <td>321.642853</td>\n",
       "      <td>14</td>\n",
       "    </tr>\n",
       "    <tr>\n",
       "      <th>75.006668</th>\n",
       "      <td>7</td>\n",
       "      <td>5</td>\n",
       "      <td>221.502106</td>\n",
       "      <td>5</td>\n",
       "      <td>11.110503</td>\n",
       "      <td>5</td>\n",
       "      <td>100</td>\n",
       "      <td>5</td>\n",
       "      <td>225</td>\n",
       "      <td>5</td>\n",
       "      <td>0</td>\n",
       "      <td>5</td>\n",
       "      <td>321.799988</td>\n",
       "      <td>5</td>\n",
       "    </tr>\n",
       "    <tr>\n",
       "      <th>79.433334</th>\n",
       "      <td>7</td>\n",
       "      <td>16</td>\n",
       "      <td>222.082733</td>\n",
       "      <td>16</td>\n",
       "      <td>10.909474</td>\n",
       "      <td>16</td>\n",
       "      <td>100</td>\n",
       "      <td>16</td>\n",
       "      <td>225</td>\n",
       "      <td>16</td>\n",
       "      <td>0</td>\n",
       "      <td>16</td>\n",
       "      <td>323.000000</td>\n",
       "      <td>16</td>\n",
       "    </tr>\n",
       "  </tbody>\n",
       "</table>\n",
       "</div>"
      ],
      "text/plain": [
       "           longueur            weight        precision       xPos       yPos  \\\n",
       "               mean count        mean count       mean count mean count mean   \n",
       "angle                                                                          \n",
       "-79.423332        7    16  222.054947    16  10.919160    16  100    16   25   \n",
       "-74.995003        7    14  200.650269    14  16.938763    14  100    14   25   \n",
       "-74.993332        7     5  221.475922     5  11.119500     5  100     5   25   \n",
       "-71.921669        7    10  206.338470    10  15.553707    10  100    10   25   \n",
       "-64.948334        7    20  212.735580    20  13.838958    20  100    20   75   \n",
       "-62.404999        7    10  212.899750    10  13.792321    10  100    10   75   \n",
       "-61.876667        7    10  205.558472    10  15.750603    10  100    10   75   \n",
       "-54.903332        7     5  230.490402     5   7.588554     5  100     5   75   \n",
       " 0.010000         7    45  242.906403    45   0.000000    45  100    45  125   \n",
       " 54.923332        7     5  230.490402     5   7.588554     5  100     5  175   \n",
       " 61.893333        7    10  205.582184    10  15.744652    10  100    10  175   \n",
       " 62.421665        7    10  212.923187    10  13.785652    10  100    10  175   \n",
       " 64.964996        7    20  212.756851    20  13.832924    20  100    20  175   \n",
       " 71.934998        7    10  206.368973    10  15.545959    10  100    10  225   \n",
       " 75.004997        7    14  200.688141    14  16.929905    14  100    14  225   \n",
       " 75.006668        7     5  221.502106     5  11.110503     5  100     5  225   \n",
       " 79.433334        7    16  222.082733    16  10.909474    16  100    16  225   \n",
       "\n",
       "                 groupID             layer        \n",
       "           count    mean count        mean count  \n",
       "angle                                             \n",
       "-79.423332    16       0    16  -73.000000    16  \n",
       "-74.995003    14       0    14  -71.642860    14  \n",
       "-74.993332     5       0     5  -71.800003     5  \n",
       "-71.921669    10       0    10  -70.000000    10  \n",
       "-64.948334    20       0    20  -15.700000    20  \n",
       "-62.404999    10       0    10  -13.200000    10  \n",
       "-61.876667    10       0    10  -13.200000    10  \n",
       "-54.903332     5       0     5   -7.000000     5  \n",
       " 0.010000     45       0    45  125.000000    45  \n",
       " 54.923332     5       0     5  257.000000     5  \n",
       " 61.893333    10       0    10  263.200012    10  \n",
       " 62.421665    10       0    10  263.200012    10  \n",
       " 64.964996    20       0    20  265.700012    20  \n",
       " 71.934998    10       0    10  320.000000    10  \n",
       " 75.004997    14       0    14  321.642853    14  \n",
       " 75.006668     5       0     5  321.799988     5  \n",
       " 79.433334    16       0    16  323.000000    16  "
      ]
     },
     "execution_count": 990,
     "metadata": {},
     "output_type": "execute_result"
    }
   ],
   "source": [
    "titi.groupby('angle').agg(['mean', 'count'])"
   ]
  },
  {
   "cell_type": "markdown",
   "metadata": {},
   "source": [
    "#### Affichage graphique du champs récepteur des neurones"
   ]
  },
  {
   "cell_type": "code",
   "execution_count": 991,
   "metadata": {
    "ExecuteTime": {
     "end_time": "2019-07-21T21:01:58.091972Z",
     "start_time": "2019-07-21T21:01:57.763231Z"
    },
    "scrolled": true
   },
   "outputs": [
    {
     "data": {
      "image/png": "[encoded data removed]",
      "text/plain": [
       "<Figure size 432x288 with 1 Axes>"
      ]
     },
     "metadata": {
      "needs_background": "light"
     },
     "output_type": "display_data"
    }
   ],
   "source": [
    "testBitmap = np.zeros((frame.shape[0],frame.shape[1],3), np.uint8)\n",
    "testBitmap = drawFieldNeurons(titi, testBitmap)\n",
    "imgplot = plt.imshow(testBitmap)"
   ]
  },
  {
   "cell_type": "markdown",
   "metadata": {},
   "source": [
    "#### Simplification"
   ]
  },
  {
   "cell_type": "code",
   "execution_count": 350,
   "metadata": {
    "ExecuteTime": {
     "end_time": "2019-07-21T09:49:48.875633Z",
     "start_time": "2019-07-21T09:49:48.477211Z"
    }
   },
   "outputs": [
    {
     "data": {
      "text/plain": [
       "<matplotlib.axes._subplots.AxesSubplot at 0x13d36db70>"
      ]
     },
     "execution_count": 350,
     "metadata": {},
     "output_type": "execute_result"
    },
    {
     "data": {
      "image/png": "[encoded data removed]",
      "text/plain": [
       "<Figure size 432x288 with 1 Axes>"
      ]
     },
     "metadata": {
      "needs_background": "light"
     },
     "output_type": "display_data"
    }
   ],
   "source": [
    "titi.layer.hist(bins=64)"
   ]
  },
  {
   "cell_type": "code",
   "execution_count": 351,
   "metadata": {
    "ExecuteTime": {
     "end_time": "2019-07-21T09:49:56.707129Z",
     "start_time": "2019-07-21T09:49:56.305600Z"
    }
   },
   "outputs": [
    {
     "data": {
      "text/plain": [
       "<matplotlib.axes._subplots.AxesSubplot at 0x13873d8d0>"
      ]
     },
     "execution_count": 351,
     "metadata": {},
     "output_type": "execute_result"
    },
    {
     "data": {
      "image/png": "[encoded data removed]",
      "text/plain": [
       "<Figure size 432x288 with 1 Axes>"
      ]
     },
     "metadata": {
      "needs_background": "light"
     },
     "output_type": "display_data"
    }
   ],
   "source": [
    "titi.angle.hist(bins=64)"
   ]
  },
  {
   "cell_type": "code",
   "execution_count": 358,
   "metadata": {
    "ExecuteTime": {
     "end_time": "2019-07-21T09:58:53.596662Z",
     "start_time": "2019-07-21T09:58:53.177290Z"
    }
   },
   "outputs": [
    {
     "data": {
      "text/plain": [
       "<matplotlib.axes._subplots.AxesSubplot at 0x132f938d0>"
      ]
     },
     "execution_count": 358,
     "metadata": {},
     "output_type": "execute_result"
    },
    {
     "data": {
      "image/png": "[encoded data removed]",
      "text/plain": [
       "<Figure size 432x288 with 1 Axes>"
      ]
     },
     "metadata": {
      "needs_background": "light"
     },
     "output_type": "display_data"
    }
   ],
   "source": [
    "toto = titi.angle*titi.layer\n",
    "toto.hist(bins=64)"
   ]
  },
  {
   "cell_type": "code",
   "execution_count": 357,
   "metadata": {
    "ExecuteTime": {
     "end_time": "2019-07-21T09:51:58.976908Z",
     "start_time": "2019-07-21T09:51:58.720489Z"
    }
   },
   "outputs": [
    {
     "data": {
      "image/png": "[encoded data removed]",
      "text/plain": [
       "<Figure size 432x288 with 1 Axes>"
      ]
     },
     "metadata": {
      "needs_background": "light"
     },
     "output_type": "display_data"
    }
   ],
   "source": [
    "testBitmap = np.zeros((frame.shape[0],frame.shape[1],3), np.uint8)\n",
    "testBitmap = drawFieldNeurons(titi, testBitmap,0,0,-1300,500)\n",
    "imgplot = plt.imshow(testBitmap)"
   ]
  },
  {
   "cell_type": "code",
   "execution_count": 1016,
   "metadata": {
    "ExecuteTime": {
     "end_time": "2019-07-21T21:21:54.092458Z",
     "start_time": "2019-07-21T21:21:53.487492Z"
    }
   },
   "outputs": [
    {
     "name": "stdout",
     "output_type": "stream",
     "text": [
      "    longueur      angle      weight  precision   xPos   yPos  groupID  layer\n",
      "0       44.0   0.010000  242.906418   0.000000  100.0  125.0        0   45.0\n",
      "1       21.0 -63.718891  211.018433  14.295782   92.0   62.0        1   16.0\n",
      "2       27.0 -63.571716  211.229126  14.239388  105.0   84.0        2   18.0\n",
      "3       23.0 -63.398216  211.039276  14.289854  108.0   88.0        3   16.0\n",
      "4       17.0  63.374771  210.805298  14.352083  108.0  160.0        4   14.0\n",
      "5       27.0  63.422943  210.698242  14.380709  106.0  164.0        5   20.0\n",
      "6       19.0  63.481728  210.936493  14.317164   94.0  186.0        6   15.0\n",
      "7       12.0 -77.298416  213.945831  13.203558   95.0    9.0        7   10.0\n",
      "8       12.0 -76.050049  210.933609  14.085155   96.0   11.0        8   12.0\n",
      "9       16.0 -75.738243  210.586517  14.196074   98.0   17.0        9   13.0\n",
      "10      14.0 -75.466759  211.779099  13.874500  100.0   23.0       10   14.0\n",
      "11      25.0 -63.398216  211.039276  14.289854   95.0   66.0       11   16.0\n",
      "12      27.0 -63.459579  210.557312  14.418523  101.0   77.0       12   19.0\n",
      "13      23.0  63.414871  211.061829  14.283645  102.0  171.0       13   16.0\n",
      "14      27.0  63.422943  210.698227  14.380709   96.0  182.0       14   20.0\n",
      "15      17.0  75.512573  212.618927  13.642852  101.0  223.0       15   13.0\n",
      "16      14.0  75.743736  212.217712  13.739805   99.0  229.0       16   13.0\n",
      "17      16.0  75.955055  212.178986  13.743472   97.0  237.0       17   15.0\n",
      "18      12.0  76.438049  212.744278  13.575361   96.0  240.0       18   12.0\n"
     ]
    }
   ],
   "source": [
    "lTMPNeuronList = getLineNeuronList(titi,0)\n",
    "print(lTMPNeuronList)"
   ]
  },
  {
   "cell_type": "code",
   "execution_count": 1017,
   "metadata": {
    "ExecuteTime": {
     "end_time": "2019-07-21T21:22:46.935351Z",
     "start_time": "2019-07-21T21:22:46.703550Z"
    }
   },
   "outputs": [
    {
     "data": {
      "image/png": "[encoded data removed]",
      "text/plain": [
       "<Figure size 432x288 with 1 Axes>"
      ]
     },
     "metadata": {
      "needs_background": "light"
     },
     "output_type": "display_data"
    }
   ],
   "source": [
    "testBitmap = np.zeros((frame.shape[0],frame.shape[1],3), np.uint8)\n",
    "testBitmap = drawFieldNeurons(lTMPNeuronList, testBitmap,0,0)\n",
    "imgplot = plt.imshow(testBitmap)"
   ]
  },
  {
   "cell_type": "markdown",
   "metadata": {},
   "source": [
    "#### Génération des groupes"
   ]
  },
  {
   "cell_type": "code",
   "execution_count": 76,
   "metadata": {
    "ExecuteTime": {
     "end_time": "2019-07-21T08:05:41.126450Z",
     "start_time": "2019-07-21T08:05:37.935017Z"
    }
   },
   "outputs": [],
   "source": [
    "findGroups(titi);"
   ]
  },
  {
   "cell_type": "code",
   "execution_count": 77,
   "metadata": {
    "ExecuteTime": {
     "end_time": "2019-07-21T08:05:41.366608Z",
     "start_time": "2019-07-21T08:05:41.128568Z"
    },
    "scrolled": true
   },
   "outputs": [
    {
     "data": {
      "text/plain": [
       "<matplotlib.axes._subplots.AxesSubplot at 0x1239cac50>"
      ]
     },
     "execution_count": 77,
     "metadata": {},
     "output_type": "execute_result"
    },
    {
     "data": {
      "image/png": "[encoded data removed]",
      "text/plain": [
       "<Figure size 432x288 with 1 Axes>"
      ]
     },
     "metadata": {
      "needs_background": "light"
     },
     "output_type": "display_data"
    }
   ],
   "source": [
    "titi.groupby('groupID').size().hist()"
   ]
  },
  {
   "cell_type": "code",
   "execution_count": 78,
   "metadata": {
    "ExecuteTime": {
     "end_time": "2019-07-21T08:05:41.606622Z",
     "start_time": "2019-07-21T08:05:41.369806Z"
    }
   },
   "outputs": [
    {
     "data": {
      "text/plain": [
       "<matplotlib.axes._subplots.AxesSubplot at 0x1235a3cc0>"
      ]
     },
     "execution_count": 78,
     "metadata": {},
     "output_type": "execute_result"
    },
    {
     "data": {
      "image/png": "[encoded data removed]",
      "text/plain": [
       "<Figure size 432x288 with 1 Axes>"
      ]
     },
     "metadata": {
      "needs_background": "light"
     },
     "output_type": "display_data"
    }
   ],
   "source": [
    "resultGroup = titi.groupby('groupID').size()\n",
    "resultGroup[resultGroup>10].hist()"
   ]
  },
  {
   "cell_type": "code",
   "execution_count": 79,
   "metadata": {
    "ExecuteTime": {
     "end_time": "2019-07-21T08:05:41.667577Z",
     "start_time": "2019-07-21T08:05:41.609630Z"
    },
    "scrolled": true
   },
   "outputs": [
    {
     "data": {
      "text/html": [
       "<div>\n",
       "<style scoped>\n",
       "    .dataframe tbody tr th:only-of-type {\n",
       "        vertical-align: middle;\n",
       "    }\n",
       "\n",
       "    .dataframe tbody tr th {\n",
       "        vertical-align: top;\n",
       "    }\n",
       "\n",
       "    .dataframe thead tr th {\n",
       "        text-align: left;\n",
       "    }\n",
       "\n",
       "    .dataframe thead tr:last-of-type th {\n",
       "        text-align: right;\n",
       "    }\n",
       "</style>\n",
       "<table border=\"1\" class=\"dataframe\">\n",
       "  <thead>\n",
       "    <tr>\n",
       "      <th></th>\n",
       "      <th colspan=\"2\" halign=\"left\">longueur</th>\n",
       "      <th colspan=\"2\" halign=\"left\">angle</th>\n",
       "      <th colspan=\"2\" halign=\"left\">weight</th>\n",
       "      <th colspan=\"2\" halign=\"left\">precision</th>\n",
       "      <th colspan=\"2\" halign=\"left\">xPos</th>\n",
       "      <th colspan=\"2\" halign=\"left\">yPos</th>\n",
       "      <th colspan=\"2\" halign=\"left\">layer</th>\n",
       "    </tr>\n",
       "    <tr>\n",
       "      <th></th>\n",
       "      <th>mean</th>\n",
       "      <th>count</th>\n",
       "      <th>mean</th>\n",
       "      <th>count</th>\n",
       "      <th>mean</th>\n",
       "      <th>count</th>\n",
       "      <th>mean</th>\n",
       "      <th>count</th>\n",
       "      <th>mean</th>\n",
       "      <th>count</th>\n",
       "      <th>mean</th>\n",
       "      <th>count</th>\n",
       "      <th>mean</th>\n",
       "      <th>count</th>\n",
       "    </tr>\n",
       "    <tr>\n",
       "      <th>groupID</th>\n",
       "      <th></th>\n",
       "      <th></th>\n",
       "      <th></th>\n",
       "      <th></th>\n",
       "      <th></th>\n",
       "      <th></th>\n",
       "      <th></th>\n",
       "      <th></th>\n",
       "      <th></th>\n",
       "      <th></th>\n",
       "      <th></th>\n",
       "      <th></th>\n",
       "      <th></th>\n",
       "      <th></th>\n",
       "    </tr>\n",
       "  </thead>\n",
       "  <tbody>\n",
       "    <tr>\n",
       "      <th>1</th>\n",
       "      <td>7</td>\n",
       "      <td>19</td>\n",
       "      <td>0.010000</td>\n",
       "      <td>19</td>\n",
       "      <td>242.906403</td>\n",
       "      <td>19</td>\n",
       "      <td>0.000000</td>\n",
       "      <td>19</td>\n",
       "      <td>50.000000</td>\n",
       "      <td>19</td>\n",
       "      <td>62.000000</td>\n",
       "      <td>19</td>\n",
       "      <td>0.0</td>\n",
       "      <td>19</td>\n",
       "    </tr>\n",
       "    <tr>\n",
       "      <th>2</th>\n",
       "      <td>7</td>\n",
       "      <td>19</td>\n",
       "      <td>-61.589123</td>\n",
       "      <td>19</td>\n",
       "      <td>213.324356</td>\n",
       "      <td>19</td>\n",
       "      <td>13.441002</td>\n",
       "      <td>19</td>\n",
       "      <td>49.947368</td>\n",
       "      <td>19</td>\n",
       "      <td>37.000000</td>\n",
       "      <td>19</td>\n",
       "      <td>0.0</td>\n",
       "      <td>19</td>\n",
       "    </tr>\n",
       "    <tr>\n",
       "      <th>3</th>\n",
       "      <td>7</td>\n",
       "      <td>18</td>\n",
       "      <td>61.419720</td>\n",
       "      <td>18</td>\n",
       "      <td>213.376328</td>\n",
       "      <td>18</td>\n",
       "      <td>13.413681</td>\n",
       "      <td>18</td>\n",
       "      <td>49.777778</td>\n",
       "      <td>18</td>\n",
       "      <td>87.444444</td>\n",
       "      <td>18</td>\n",
       "      <td>0.0</td>\n",
       "      <td>18</td>\n",
       "    </tr>\n",
       "    <tr>\n",
       "      <th>4</th>\n",
       "      <td>7</td>\n",
       "      <td>19</td>\n",
       "      <td>-77.325699</td>\n",
       "      <td>19</td>\n",
       "      <td>211.915894</td>\n",
       "      <td>19</td>\n",
       "      <td>13.770551</td>\n",
       "      <td>19</td>\n",
       "      <td>49.894737</td>\n",
       "      <td>19</td>\n",
       "      <td>12.000000</td>\n",
       "      <td>19</td>\n",
       "      <td>0.0</td>\n",
       "      <td>19</td>\n",
       "    </tr>\n",
       "    <tr>\n",
       "      <th>5</th>\n",
       "      <td>7</td>\n",
       "      <td>19</td>\n",
       "      <td>77.335701</td>\n",
       "      <td>19</td>\n",
       "      <td>211.948456</td>\n",
       "      <td>19</td>\n",
       "      <td>13.761257</td>\n",
       "      <td>19</td>\n",
       "      <td>50.105263</td>\n",
       "      <td>19</td>\n",
       "      <td>112.000000</td>\n",
       "      <td>19</td>\n",
       "      <td>0.0</td>\n",
       "      <td>19</td>\n",
       "    </tr>\n",
       "  </tbody>\n",
       "</table>\n",
       "</div>"
      ],
      "text/plain": [
       "        longueur            angle            weight        precision        \\\n",
       "            mean count       mean count        mean count       mean count   \n",
       "groupID                                                                      \n",
       "1              7    19   0.010000    19  242.906403    19   0.000000    19   \n",
       "2              7    19 -61.589123    19  213.324356    19  13.441002    19   \n",
       "3              7    18  61.419720    18  213.376328    18  13.413681    18   \n",
       "4              7    19 -77.325699    19  211.915894    19  13.770551    19   \n",
       "5              7    19  77.335701    19  211.948456    19  13.761257    19   \n",
       "\n",
       "              xPos              yPos       layer        \n",
       "              mean count        mean count  mean count  \n",
       "groupID                                                 \n",
       "1        50.000000    19   62.000000    19   0.0    19  \n",
       "2        49.947368    19   37.000000    19   0.0    19  \n",
       "3        49.777778    18   87.444444    18   0.0    18  \n",
       "4        49.894737    19   12.000000    19   0.0    19  \n",
       "5        50.105263    19  112.000000    19   0.0    19  "
      ]
     },
     "execution_count": 79,
     "metadata": {},
     "output_type": "execute_result"
    }
   ],
   "source": [
    "titi.groupby('groupID').agg(['mean', 'count'])[resultGroup>10]"
   ]
  },
  {
   "cell_type": "code",
   "execution_count": 80,
   "metadata": {
    "ExecuteTime": {
     "end_time": "2019-07-21T08:05:41.901480Z",
     "start_time": "2019-07-21T08:05:41.670825Z"
    }
   },
   "outputs": [
    {
     "data": {
      "image/png": "[encoded data removed]",
      "text/plain": [
       "<Figure size 432x288 with 1 Axes>"
      ]
     },
     "metadata": {
      "needs_background": "light"
     },
     "output_type": "display_data"
    }
   ],
   "source": [
    "testBitmap = np.zeros((frame.shape[0],frame.shape[1],3), np.uint8)\n",
    "testBitmap = drawFieldNeurons(titi, testBitmap,0,5)\n",
    "imgplot = plt.imshow(testBitmap)"
   ]
  },
  {
   "cell_type": "code",
   "execution_count": 81,
   "metadata": {
    "ExecuteTime": {
     "end_time": "2019-07-21T08:05:41.912834Z",
     "start_time": "2019-07-21T08:05:41.904413Z"
    }
   },
   "outputs": [
    {
     "data": {
      "text/plain": [
       "77.44712829589844"
      ]
     },
     "execution_count": 81,
     "metadata": {},
     "output_type": "execute_result"
    }
   ],
   "source": [
    "getWAGA(titi,5)"
   ]
  },
  {
   "cell_type": "markdown",
   "metadata": {},
   "source": [
    "### Test 6\n",
    "#### Generate data of type 6"
   ]
  },
  {
   "cell_type": "code",
   "execution_count": 1056,
   "metadata": {
    "ExecuteTime": {
     "end_time": "2019-07-21T21:41:44.304244Z",
     "start_time": "2019-07-21T21:41:44.039177Z"
    }
   },
   "outputs": [
    {
     "data": {
      "image/png": "[encoded data removed]",
      "text/plain": [
       "<Figure size 432x288 with 1 Axes>"
      ]
     },
     "metadata": {
      "needs_background": "light"
     },
     "output_type": "display_data"
    }
   ],
   "source": [
    "frame = generateToy(6,160,256,1)\n",
    "imgplot = plt.imshow(frame) "
   ]
  },
  {
   "cell_type": "markdown",
   "metadata": {},
   "source": [
    "#### Génération des neurones à champs récepteur"
   ]
  },
  {
   "cell_type": "code",
   "execution_count": 1057,
   "metadata": {
    "ExecuteTime": {
     "end_time": "2019-07-21T21:41:50.801459Z",
     "start_time": "2019-07-21T21:41:48.528832Z"
    },
    "scrolled": true
   },
   "outputs": [],
   "source": [
    "indices = np.where(frame != [0])\n",
    "nbPixelsAll = nbPixelField(indices[0], indices[1], frame, tailleField)\n",
    "titi = getNeuronActivationList(indices[0], indices[1], tailleField, frame,\n",
    "                               nbPixelsAll)"
   ]
  },
  {
   "cell_type": "code",
   "execution_count": 1058,
   "metadata": {
    "ExecuteTime": {
     "end_time": "2019-07-21T21:41:52.055596Z",
     "start_time": "2019-07-21T21:41:51.998248Z"
    },
    "scrolled": false
   },
   "outputs": [
    {
     "data": {
      "text/html": [
       "<div>\n",
       "<style scoped>\n",
       "    .dataframe tbody tr th:only-of-type {\n",
       "        vertical-align: middle;\n",
       "    }\n",
       "\n",
       "    .dataframe tbody tr th {\n",
       "        vertical-align: top;\n",
       "    }\n",
       "\n",
       "    .dataframe thead tr th {\n",
       "        text-align: left;\n",
       "    }\n",
       "\n",
       "    .dataframe thead tr:last-of-type th {\n",
       "        text-align: right;\n",
       "    }\n",
       "</style>\n",
       "<table border=\"1\" class=\"dataframe\">\n",
       "  <thead>\n",
       "    <tr>\n",
       "      <th></th>\n",
       "      <th colspan=\"2\" halign=\"left\">longueur</th>\n",
       "      <th colspan=\"2\" halign=\"left\">weight</th>\n",
       "      <th colspan=\"2\" halign=\"left\">precision</th>\n",
       "      <th colspan=\"2\" halign=\"left\">xPos</th>\n",
       "      <th colspan=\"2\" halign=\"left\">yPos</th>\n",
       "      <th colspan=\"2\" halign=\"left\">groupID</th>\n",
       "      <th colspan=\"2\" halign=\"left\">layer</th>\n",
       "    </tr>\n",
       "    <tr>\n",
       "      <th></th>\n",
       "      <th>mean</th>\n",
       "      <th>count</th>\n",
       "      <th>mean</th>\n",
       "      <th>count</th>\n",
       "      <th>mean</th>\n",
       "      <th>count</th>\n",
       "      <th>mean</th>\n",
       "      <th>count</th>\n",
       "      <th>mean</th>\n",
       "      <th>count</th>\n",
       "      <th>mean</th>\n",
       "      <th>count</th>\n",
       "      <th>mean</th>\n",
       "      <th>count</th>\n",
       "    </tr>\n",
       "    <tr>\n",
       "      <th>angle</th>\n",
       "      <th></th>\n",
       "      <th></th>\n",
       "      <th></th>\n",
       "      <th></th>\n",
       "      <th></th>\n",
       "      <th></th>\n",
       "      <th></th>\n",
       "      <th></th>\n",
       "      <th></th>\n",
       "      <th></th>\n",
       "      <th></th>\n",
       "      <th></th>\n",
       "      <th></th>\n",
       "      <th></th>\n",
       "    </tr>\n",
       "  </thead>\n",
       "  <tbody>\n",
       "    <tr>\n",
       "      <th>0.01</th>\n",
       "      <td>7</td>\n",
       "      <td>225</td>\n",
       "      <td>242.906403</td>\n",
       "      <td>225</td>\n",
       "      <td>0.0</td>\n",
       "      <td>225</td>\n",
       "      <td>100</td>\n",
       "      <td>225</td>\n",
       "      <td>125</td>\n",
       "      <td>225</td>\n",
       "      <td>0</td>\n",
       "      <td>225</td>\n",
       "      <td>125.0</td>\n",
       "      <td>225</td>\n",
       "    </tr>\n",
       "  </tbody>\n",
       "</table>\n",
       "</div>"
      ],
      "text/plain": [
       "      longueur            weight       precision       xPos       yPos        \\\n",
       "          mean count        mean count      mean count mean count mean count   \n",
       "angle                                                                          \n",
       "0.01         7   225  242.906403   225       0.0   225  100   225  125   225   \n",
       "\n",
       "      groupID        layer        \n",
       "         mean count   mean count  \n",
       "angle                             \n",
       "0.01        0   225  125.0   225  "
      ]
     },
     "execution_count": 1058,
     "metadata": {},
     "output_type": "execute_result"
    }
   ],
   "source": [
    "titi.groupby('angle').agg(['mean', 'count'])"
   ]
  },
  {
   "cell_type": "markdown",
   "metadata": {},
   "source": [
    "#### Affichage graphique du champs récepteur des neurones"
   ]
  },
  {
   "cell_type": "code",
   "execution_count": 1059,
   "metadata": {
    "ExecuteTime": {
     "end_time": "2019-07-21T21:41:57.346580Z",
     "start_time": "2019-07-21T21:41:57.078733Z"
    },
    "scrolled": true
   },
   "outputs": [
    {
     "data": {
      "image/png": "[encoded data removed]",
      "text/plain": [
       "<Figure size 432x288 with 1 Axes>"
      ]
     },
     "metadata": {
      "needs_background": "light"
     },
     "output_type": "display_data"
    }
   ],
   "source": [
    "testBitmap = np.zeros((frame.shape[0],frame.shape[1],3), np.uint8)\n",
    "testBitmap = drawFieldNeurons(titi, testBitmap)\n",
    "imgplot = plt.imshow(testBitmap)"
   ]
  },
  {
   "cell_type": "markdown",
   "metadata": {},
   "source": [
    "#### Génération des groupes"
   ]
  },
  {
   "cell_type": "code",
   "execution_count": 1060,
   "metadata": {
    "ExecuteTime": {
     "end_time": "2019-07-21T21:42:06.447425Z",
     "start_time": "2019-07-21T21:42:00.934528Z"
    }
   },
   "outputs": [],
   "source": [
    "findGroups(titi);"
   ]
  },
  {
   "cell_type": "code",
   "execution_count": 1061,
   "metadata": {
    "ExecuteTime": {
     "end_time": "2019-07-21T21:42:07.828436Z",
     "start_time": "2019-07-21T21:42:07.575339Z"
    },
    "scrolled": true
   },
   "outputs": [
    {
     "data": {
      "text/plain": [
       "<matplotlib.axes._subplots.AxesSubplot at 0x1462d9b38>"
      ]
     },
     "execution_count": 1061,
     "metadata": {},
     "output_type": "execute_result"
    },
    {
     "data": {
      "image/png": "[encoded data removed]",
      "text/plain": [
       "<Figure size 432x288 with 1 Axes>"
      ]
     },
     "metadata": {
      "needs_background": "light"
     },
     "output_type": "display_data"
    }
   ],
   "source": [
    "titi.groupby('groupID').size().hist()"
   ]
  },
  {
   "cell_type": "code",
   "execution_count": 1062,
   "metadata": {
    "ExecuteTime": {
     "end_time": "2019-07-21T21:42:09.284367Z",
     "start_time": "2019-07-21T21:42:09.047546Z"
    }
   },
   "outputs": [
    {
     "data": {
      "text/plain": [
       "<matplotlib.axes._subplots.AxesSubplot at 0x14630d2b0>"
      ]
     },
     "execution_count": 1062,
     "metadata": {},
     "output_type": "execute_result"
    },
    {
     "data": {
      "image/png": "[encoded data removed]",
      "text/plain": [
       "<Figure size 432x288 with 1 Axes>"
      ]
     },
     "metadata": {
      "needs_background": "light"
     },
     "output_type": "display_data"
    }
   ],
   "source": [
    "resultGroup = titi.groupby('groupID').size()\n",
    "resultGroup[resultGroup>10].hist()"
   ]
  },
  {
   "cell_type": "code",
   "execution_count": 1063,
   "metadata": {
    "ExecuteTime": {
     "end_time": "2019-07-21T21:42:11.554097Z",
     "start_time": "2019-07-21T21:42:11.490915Z"
    },
    "scrolled": true
   },
   "outputs": [
    {
     "data": {
      "text/html": [
       "<div>\n",
       "<style scoped>\n",
       "    .dataframe tbody tr th:only-of-type {\n",
       "        vertical-align: middle;\n",
       "    }\n",
       "\n",
       "    .dataframe tbody tr th {\n",
       "        vertical-align: top;\n",
       "    }\n",
       "\n",
       "    .dataframe thead tr th {\n",
       "        text-align: left;\n",
       "    }\n",
       "\n",
       "    .dataframe thead tr:last-of-type th {\n",
       "        text-align: right;\n",
       "    }\n",
       "</style>\n",
       "<table border=\"1\" class=\"dataframe\">\n",
       "  <thead>\n",
       "    <tr>\n",
       "      <th></th>\n",
       "      <th colspan=\"2\" halign=\"left\">longueur</th>\n",
       "      <th colspan=\"2\" halign=\"left\">angle</th>\n",
       "      <th colspan=\"2\" halign=\"left\">weight</th>\n",
       "      <th colspan=\"2\" halign=\"left\">precision</th>\n",
       "      <th colspan=\"2\" halign=\"left\">xPos</th>\n",
       "      <th colspan=\"2\" halign=\"left\">yPos</th>\n",
       "      <th colspan=\"2\" halign=\"left\">layer</th>\n",
       "    </tr>\n",
       "    <tr>\n",
       "      <th></th>\n",
       "      <th>mean</th>\n",
       "      <th>count</th>\n",
       "      <th>mean</th>\n",
       "      <th>count</th>\n",
       "      <th>mean</th>\n",
       "      <th>count</th>\n",
       "      <th>mean</th>\n",
       "      <th>count</th>\n",
       "      <th>mean</th>\n",
       "      <th>count</th>\n",
       "      <th>mean</th>\n",
       "      <th>count</th>\n",
       "      <th>mean</th>\n",
       "      <th>count</th>\n",
       "    </tr>\n",
       "    <tr>\n",
       "      <th>groupID</th>\n",
       "      <th></th>\n",
       "      <th></th>\n",
       "      <th></th>\n",
       "      <th></th>\n",
       "      <th></th>\n",
       "      <th></th>\n",
       "      <th></th>\n",
       "      <th></th>\n",
       "      <th></th>\n",
       "      <th></th>\n",
       "      <th></th>\n",
       "      <th></th>\n",
       "      <th></th>\n",
       "      <th></th>\n",
       "    </tr>\n",
       "  </thead>\n",
       "  <tbody>\n",
       "    <tr>\n",
       "      <th>1</th>\n",
       "      <td>7</td>\n",
       "      <td>44</td>\n",
       "      <td>0.01</td>\n",
       "      <td>44</td>\n",
       "      <td>242.906403</td>\n",
       "      <td>44</td>\n",
       "      <td>0.0</td>\n",
       "      <td>44</td>\n",
       "      <td>99.5</td>\n",
       "      <td>44</td>\n",
       "      <td>25</td>\n",
       "      <td>44</td>\n",
       "      <td>25.0</td>\n",
       "      <td>44</td>\n",
       "    </tr>\n",
       "    <tr>\n",
       "      <th>2</th>\n",
       "      <td>7</td>\n",
       "      <td>44</td>\n",
       "      <td>0.01</td>\n",
       "      <td>44</td>\n",
       "      <td>242.906403</td>\n",
       "      <td>44</td>\n",
       "      <td>0.0</td>\n",
       "      <td>44</td>\n",
       "      <td>99.5</td>\n",
       "      <td>44</td>\n",
       "      <td>75</td>\n",
       "      <td>44</td>\n",
       "      <td>75.0</td>\n",
       "      <td>44</td>\n",
       "    </tr>\n",
       "    <tr>\n",
       "      <th>3</th>\n",
       "      <td>7</td>\n",
       "      <td>44</td>\n",
       "      <td>0.01</td>\n",
       "      <td>44</td>\n",
       "      <td>242.906403</td>\n",
       "      <td>44</td>\n",
       "      <td>0.0</td>\n",
       "      <td>44</td>\n",
       "      <td>99.5</td>\n",
       "      <td>44</td>\n",
       "      <td>125</td>\n",
       "      <td>44</td>\n",
       "      <td>125.0</td>\n",
       "      <td>44</td>\n",
       "    </tr>\n",
       "    <tr>\n",
       "      <th>4</th>\n",
       "      <td>7</td>\n",
       "      <td>44</td>\n",
       "      <td>0.01</td>\n",
       "      <td>44</td>\n",
       "      <td>242.906403</td>\n",
       "      <td>44</td>\n",
       "      <td>0.0</td>\n",
       "      <td>44</td>\n",
       "      <td>99.5</td>\n",
       "      <td>44</td>\n",
       "      <td>175</td>\n",
       "      <td>44</td>\n",
       "      <td>175.0</td>\n",
       "      <td>44</td>\n",
       "    </tr>\n",
       "    <tr>\n",
       "      <th>5</th>\n",
       "      <td>7</td>\n",
       "      <td>44</td>\n",
       "      <td>0.01</td>\n",
       "      <td>44</td>\n",
       "      <td>242.906403</td>\n",
       "      <td>44</td>\n",
       "      <td>0.0</td>\n",
       "      <td>44</td>\n",
       "      <td>99.5</td>\n",
       "      <td>44</td>\n",
       "      <td>225</td>\n",
       "      <td>44</td>\n",
       "      <td>225.0</td>\n",
       "      <td>44</td>\n",
       "    </tr>\n",
       "  </tbody>\n",
       "</table>\n",
       "</div>"
      ],
      "text/plain": [
       "        longueur       angle            weight       precision        xPos  \\\n",
       "            mean count  mean count        mean count      mean count  mean   \n",
       "groupID                                                                      \n",
       "1              7    44  0.01    44  242.906403    44       0.0    44  99.5   \n",
       "2              7    44  0.01    44  242.906403    44       0.0    44  99.5   \n",
       "3              7    44  0.01    44  242.906403    44       0.0    44  99.5   \n",
       "4              7    44  0.01    44  242.906403    44       0.0    44  99.5   \n",
       "5              7    44  0.01    44  242.906403    44       0.0    44  99.5   \n",
       "\n",
       "              yPos        layer        \n",
       "        count mean count   mean count  \n",
       "groupID                                \n",
       "1          44   25    44   25.0    44  \n",
       "2          44   75    44   75.0    44  \n",
       "3          44  125    44  125.0    44  \n",
       "4          44  175    44  175.0    44  \n",
       "5          44  225    44  225.0    44  "
      ]
     },
     "execution_count": 1063,
     "metadata": {},
     "output_type": "execute_result"
    }
   ],
   "source": [
    "titi.groupby('groupID').agg(['mean', 'count'])[resultGroup>10]"
   ]
  },
  {
   "cell_type": "markdown",
   "metadata": {},
   "source": [
    "#### Simplification"
   ]
  },
  {
   "cell_type": "code",
   "execution_count": 1064,
   "metadata": {
    "ExecuteTime": {
     "end_time": "2019-07-21T21:42:19.137499Z",
     "start_time": "2019-07-21T21:42:18.947333Z"
    }
   },
   "outputs": [
    {
     "name": "stdout",
     "output_type": "stream",
     "text": [
      "   longueur  angle      weight  precision   xPos   yPos  groupID  layer\n",
      "0      44.0   0.01  242.906418        0.0  100.0   25.0        0   45.0\n",
      "1      44.0   0.01  242.906418        0.0  100.0   75.0        1   45.0\n",
      "2      44.0   0.01  242.906418        0.0  100.0  125.0        2   45.0\n",
      "3      44.0   0.01  242.906418        0.0  100.0  175.0        3   45.0\n",
      "4      44.0   0.01  242.906418        0.0  100.0  225.0        4   45.0\n"
     ]
    }
   ],
   "source": [
    "lTMPNeuronList = getLineNeuronList(titi,0)\n",
    "print(lTMPNeuronList)"
   ]
  },
  {
   "cell_type": "code",
   "execution_count": 1065,
   "metadata": {
    "ExecuteTime": {
     "end_time": "2019-07-21T21:42:38.105724Z",
     "start_time": "2019-07-21T21:42:37.881725Z"
    }
   },
   "outputs": [
    {
     "data": {
      "image/png": "[encoded data removed]",
      "text/plain": [
       "<Figure size 432x288 with 1 Axes>"
      ]
     },
     "metadata": {
      "needs_background": "light"
     },
     "output_type": "display_data"
    }
   ],
   "source": [
    "testBitmap = np.zeros((frame.shape[0],frame.shape[1],3), np.uint8)\n",
    "testBitmap = drawFieldNeurons(lTMPNeuronList, testBitmap,0,0)\n",
    "imgplot = plt.imshow(testBitmap)"
   ]
  },
  {
   "cell_type": "markdown",
   "metadata": {},
   "source": [
    "### Test 7\n",
    "#### Generate data of type 7"
   ]
  },
  {
   "cell_type": "code",
   "execution_count": 1066,
   "metadata": {
    "ExecuteTime": {
     "end_time": "2019-07-21T21:42:54.673895Z",
     "start_time": "2019-07-21T21:42:54.408118Z"
    }
   },
   "outputs": [
    {
     "data": {
      "image/png": "[encoded data removed]",
      "text/plain": [
       "<Figure size 432x288 with 1 Axes>"
      ]
     },
     "metadata": {
      "needs_background": "light"
     },
     "output_type": "display_data"
    }
   ],
   "source": [
    "frame = generateToy(7,160,256,1)\n",
    "imgplot = plt.imshow(frame) "
   ]
  },
  {
   "cell_type": "markdown",
   "metadata": {},
   "source": [
    "#### Génération des neurones à champs récepteur"
   ]
  },
  {
   "cell_type": "code",
   "execution_count": 1067,
   "metadata": {
    "ExecuteTime": {
     "end_time": "2019-07-21T21:43:04.274493Z",
     "start_time": "2019-07-21T21:43:02.016158Z"
    },
    "scrolled": true
   },
   "outputs": [],
   "source": [
    "indices = np.where(frame != [0])\n",
    "nbPixelsAll = nbPixelField(indices[0], indices[1], frame, tailleField)\n",
    "titi = getNeuronActivationList(indices[0], indices[1], tailleField, frame,\n",
    "                               nbPixelsAll)"
   ]
  },
  {
   "cell_type": "code",
   "execution_count": 1068,
   "metadata": {
    "ExecuteTime": {
     "end_time": "2019-07-21T21:43:05.771645Z",
     "start_time": "2019-07-21T21:43:05.715145Z"
    },
    "scrolled": false
   },
   "outputs": [
    {
     "data": {
      "text/html": [
       "<div>\n",
       "<style scoped>\n",
       "    .dataframe tbody tr th:only-of-type {\n",
       "        vertical-align: middle;\n",
       "    }\n",
       "\n",
       "    .dataframe tbody tr th {\n",
       "        vertical-align: top;\n",
       "    }\n",
       "\n",
       "    .dataframe thead tr th {\n",
       "        text-align: left;\n",
       "    }\n",
       "\n",
       "    .dataframe thead tr:last-of-type th {\n",
       "        text-align: right;\n",
       "    }\n",
       "</style>\n",
       "<table border=\"1\" class=\"dataframe\">\n",
       "  <thead>\n",
       "    <tr>\n",
       "      <th></th>\n",
       "      <th colspan=\"2\" halign=\"left\">longueur</th>\n",
       "      <th colspan=\"2\" halign=\"left\">weight</th>\n",
       "      <th colspan=\"2\" halign=\"left\">precision</th>\n",
       "      <th colspan=\"2\" halign=\"left\">xPos</th>\n",
       "      <th colspan=\"2\" halign=\"left\">yPos</th>\n",
       "      <th colspan=\"2\" halign=\"left\">groupID</th>\n",
       "      <th colspan=\"2\" halign=\"left\">layer</th>\n",
       "    </tr>\n",
       "    <tr>\n",
       "      <th></th>\n",
       "      <th>mean</th>\n",
       "      <th>count</th>\n",
       "      <th>mean</th>\n",
       "      <th>count</th>\n",
       "      <th>mean</th>\n",
       "      <th>count</th>\n",
       "      <th>mean</th>\n",
       "      <th>count</th>\n",
       "      <th>mean</th>\n",
       "      <th>count</th>\n",
       "      <th>mean</th>\n",
       "      <th>count</th>\n",
       "      <th>mean</th>\n",
       "      <th>count</th>\n",
       "    </tr>\n",
       "    <tr>\n",
       "      <th>angle</th>\n",
       "      <th></th>\n",
       "      <th></th>\n",
       "      <th></th>\n",
       "      <th></th>\n",
       "      <th></th>\n",
       "      <th></th>\n",
       "      <th></th>\n",
       "      <th></th>\n",
       "      <th></th>\n",
       "      <th></th>\n",
       "      <th></th>\n",
       "      <th></th>\n",
       "      <th></th>\n",
       "      <th></th>\n",
       "    </tr>\n",
       "  </thead>\n",
       "  <tbody>\n",
       "    <tr>\n",
       "      <th>0.010000</th>\n",
       "      <td>7</td>\n",
       "      <td>177</td>\n",
       "      <td>242.906403</td>\n",
       "      <td>177</td>\n",
       "      <td>0.000000</td>\n",
       "      <td>177</td>\n",
       "      <td>101.525424</td>\n",
       "      <td>177</td>\n",
       "      <td>145.338983</td>\n",
       "      <td>177</td>\n",
       "      <td>0</td>\n",
       "      <td>177</td>\n",
       "      <td>145.338989</td>\n",
       "      <td>177</td>\n",
       "    </tr>\n",
       "    <tr>\n",
       "      <th>3.081667</th>\n",
       "      <td>7</td>\n",
       "      <td>16</td>\n",
       "      <td>232.039963</td>\n",
       "      <td>16</td>\n",
       "      <td>6.868455</td>\n",
       "      <td>16</td>\n",
       "      <td>100.000000</td>\n",
       "      <td>16</td>\n",
       "      <td>50.000000</td>\n",
       "      <td>16</td>\n",
       "      <td>0</td>\n",
       "      <td>16</td>\n",
       "      <td>55.125000</td>\n",
       "      <td>16</td>\n",
       "    </tr>\n",
       "    <tr>\n",
       "      <th>7.510000</th>\n",
       "      <td>7</td>\n",
       "      <td>16</td>\n",
       "      <td>222.213516</td>\n",
       "      <td>16</td>\n",
       "      <td>10.863776</td>\n",
       "      <td>16</td>\n",
       "      <td>100.000000</td>\n",
       "      <td>16</td>\n",
       "      <td>50.000000</td>\n",
       "      <td>16</td>\n",
       "      <td>0</td>\n",
       "      <td>16</td>\n",
       "      <td>64.000000</td>\n",
       "      <td>16</td>\n",
       "    </tr>\n",
       "    <tr>\n",
       "      <th>15.010000</th>\n",
       "      <td>7</td>\n",
       "      <td>16</td>\n",
       "      <td>200.669205</td>\n",
       "      <td>16</td>\n",
       "      <td>16.934334</td>\n",
       "      <td>16</td>\n",
       "      <td>100.000000</td>\n",
       "      <td>16</td>\n",
       "      <td>50.000000</td>\n",
       "      <td>16</td>\n",
       "      <td>0</td>\n",
       "      <td>16</td>\n",
       "      <td>75.875000</td>\n",
       "      <td>16</td>\n",
       "    </tr>\n",
       "  </tbody>\n",
       "</table>\n",
       "</div>"
      ],
      "text/plain": [
       "          longueur            weight        precision              xPos        \\\n",
       "              mean count        mean count       mean count        mean count   \n",
       "angle                                                                           \n",
       "0.010000         7   177  242.906403   177   0.000000   177  101.525424   177   \n",
       "3.081667         7    16  232.039963    16   6.868455    16  100.000000    16   \n",
       "7.510000         7    16  222.213516    16  10.863776    16  100.000000    16   \n",
       "15.010000        7    16  200.669205    16  16.934334    16  100.000000    16   \n",
       "\n",
       "                 yPos       groupID             layer        \n",
       "                 mean count    mean count        mean count  \n",
       "angle                                                        \n",
       "0.010000   145.338983   177       0   177  145.338989   177  \n",
       "3.081667    50.000000    16       0    16   55.125000    16  \n",
       "7.510000    50.000000    16       0    16   64.000000    16  \n",
       "15.010000   50.000000    16       0    16   75.875000    16  "
      ]
     },
     "execution_count": 1068,
     "metadata": {},
     "output_type": "execute_result"
    }
   ],
   "source": [
    "titi.groupby('angle').agg(['mean', 'count'])"
   ]
  },
  {
   "cell_type": "markdown",
   "metadata": {},
   "source": [
    "#### Affichage graphique du champs récepteur des neurones"
   ]
  },
  {
   "cell_type": "code",
   "execution_count": 1069,
   "metadata": {
    "ExecuteTime": {
     "end_time": "2019-07-21T21:43:14.892670Z",
     "start_time": "2019-07-21T21:43:14.625681Z"
    },
    "scrolled": true
   },
   "outputs": [
    {
     "data": {
      "image/png": "[encoded data removed]",
      "text/plain": [
       "<Figure size 432x288 with 1 Axes>"
      ]
     },
     "metadata": {
      "needs_background": "light"
     },
     "output_type": "display_data"
    }
   ],
   "source": [
    "testBitmap = np.zeros((frame.shape[0],frame.shape[1],3), np.uint8)\n",
    "testBitmap = drawFieldNeurons(titi, testBitmap)\n",
    "imgplot = plt.imshow(testBitmap)"
   ]
  },
  {
   "cell_type": "markdown",
   "metadata": {},
   "source": [
    "#### Génération des groupes"
   ]
  },
  {
   "cell_type": "code",
   "execution_count": 1070,
   "metadata": {
    "ExecuteTime": {
     "end_time": "2019-07-21T21:43:28.360946Z",
     "start_time": "2019-07-21T21:43:23.086576Z"
    }
   },
   "outputs": [],
   "source": [
    "findGroups(titi);"
   ]
  },
  {
   "cell_type": "code",
   "execution_count": 1071,
   "metadata": {
    "ExecuteTime": {
     "end_time": "2019-07-21T21:43:29.699567Z",
     "start_time": "2019-07-21T21:43:29.452444Z"
    },
    "scrolled": true
   },
   "outputs": [
    {
     "data": {
      "text/plain": [
       "<matplotlib.axes._subplots.AxesSubplot at 0x148c575f8>"
      ]
     },
     "execution_count": 1071,
     "metadata": {},
     "output_type": "execute_result"
    },
    {
     "data": {
      "image/png": "[encoded data removed]",
      "text/plain": [
       "<Figure size 432x288 with 1 Axes>"
      ]
     },
     "metadata": {
      "needs_background": "light"
     },
     "output_type": "display_data"
    }
   ],
   "source": [
    "titi.groupby('groupID').size().hist()"
   ]
  },
  {
   "cell_type": "code",
   "execution_count": 1072,
   "metadata": {
    "ExecuteTime": {
     "end_time": "2019-07-21T21:43:31.162685Z",
     "start_time": "2019-07-21T21:43:30.932640Z"
    }
   },
   "outputs": [
    {
     "data": {
      "text/plain": [
       "<matplotlib.axes._subplots.AxesSubplot at 0x14771fb70>"
      ]
     },
     "execution_count": 1072,
     "metadata": {},
     "output_type": "execute_result"
    },
    {
     "data": {
      "image/png": "[encoded data removed]",
      "text/plain": [
       "<Figure size 432x288 with 1 Axes>"
      ]
     },
     "metadata": {
      "needs_background": "light"
     },
     "output_type": "display_data"
    }
   ],
   "source": [
    "resultGroup = titi.groupby('groupID').size()\n",
    "resultGroup[resultGroup>10].hist()"
   ]
  },
  {
   "cell_type": "code",
   "execution_count": 1073,
   "metadata": {
    "ExecuteTime": {
     "end_time": "2019-07-21T21:43:34.045614Z",
     "start_time": "2019-07-21T21:43:33.984887Z"
    },
    "scrolled": true
   },
   "outputs": [
    {
     "data": {
      "text/html": [
       "<div>\n",
       "<style scoped>\n",
       "    .dataframe tbody tr th:only-of-type {\n",
       "        vertical-align: middle;\n",
       "    }\n",
       "\n",
       "    .dataframe tbody tr th {\n",
       "        vertical-align: top;\n",
       "    }\n",
       "\n",
       "    .dataframe thead tr th {\n",
       "        text-align: left;\n",
       "    }\n",
       "\n",
       "    .dataframe thead tr:last-of-type th {\n",
       "        text-align: right;\n",
       "    }\n",
       "</style>\n",
       "<table border=\"1\" class=\"dataframe\">\n",
       "  <thead>\n",
       "    <tr>\n",
       "      <th></th>\n",
       "      <th colspan=\"2\" halign=\"left\">longueur</th>\n",
       "      <th colspan=\"2\" halign=\"left\">angle</th>\n",
       "      <th colspan=\"2\" halign=\"left\">weight</th>\n",
       "      <th colspan=\"2\" halign=\"left\">precision</th>\n",
       "      <th colspan=\"2\" halign=\"left\">xPos</th>\n",
       "      <th colspan=\"2\" halign=\"left\">yPos</th>\n",
       "      <th colspan=\"2\" halign=\"left\">layer</th>\n",
       "    </tr>\n",
       "    <tr>\n",
       "      <th></th>\n",
       "      <th>mean</th>\n",
       "      <th>count</th>\n",
       "      <th>mean</th>\n",
       "      <th>count</th>\n",
       "      <th>mean</th>\n",
       "      <th>count</th>\n",
       "      <th>mean</th>\n",
       "      <th>count</th>\n",
       "      <th>mean</th>\n",
       "      <th>count</th>\n",
       "      <th>mean</th>\n",
       "      <th>count</th>\n",
       "      <th>mean</th>\n",
       "      <th>count</th>\n",
       "    </tr>\n",
       "    <tr>\n",
       "      <th>groupID</th>\n",
       "      <th></th>\n",
       "      <th></th>\n",
       "      <th></th>\n",
       "      <th></th>\n",
       "      <th></th>\n",
       "      <th></th>\n",
       "      <th></th>\n",
       "      <th></th>\n",
       "      <th></th>\n",
       "      <th></th>\n",
       "      <th></th>\n",
       "      <th></th>\n",
       "      <th></th>\n",
       "      <th></th>\n",
       "    </tr>\n",
       "  </thead>\n",
       "  <tbody>\n",
       "    <tr>\n",
       "      <th>1</th>\n",
       "      <td>7</td>\n",
       "      <td>44</td>\n",
       "      <td>4.488939</td>\n",
       "      <td>44</td>\n",
       "      <td>229.959152</td>\n",
       "      <td>44</td>\n",
       "      <td>6.056108</td>\n",
       "      <td>44</td>\n",
       "      <td>99.545455</td>\n",
       "      <td>44</td>\n",
       "      <td>25.045455</td>\n",
       "      <td>44</td>\n",
       "      <td>32.840908</td>\n",
       "      <td>44</td>\n",
       "    </tr>\n",
       "    <tr>\n",
       "      <th>2</th>\n",
       "      <td>7</td>\n",
       "      <td>44</td>\n",
       "      <td>4.488939</td>\n",
       "      <td>44</td>\n",
       "      <td>229.959152</td>\n",
       "      <td>44</td>\n",
       "      <td>6.056108</td>\n",
       "      <td>44</td>\n",
       "      <td>99.545455</td>\n",
       "      <td>44</td>\n",
       "      <td>75.045455</td>\n",
       "      <td>44</td>\n",
       "      <td>82.840912</td>\n",
       "      <td>44</td>\n",
       "    </tr>\n",
       "    <tr>\n",
       "      <th>3</th>\n",
       "      <td>7</td>\n",
       "      <td>44</td>\n",
       "      <td>0.010000</td>\n",
       "      <td>44</td>\n",
       "      <td>242.906403</td>\n",
       "      <td>44</td>\n",
       "      <td>0.000000</td>\n",
       "      <td>44</td>\n",
       "      <td>101.500000</td>\n",
       "      <td>44</td>\n",
       "      <td>125.000000</td>\n",
       "      <td>44</td>\n",
       "      <td>125.000000</td>\n",
       "      <td>44</td>\n",
       "    </tr>\n",
       "    <tr>\n",
       "      <th>4</th>\n",
       "      <td>7</td>\n",
       "      <td>44</td>\n",
       "      <td>0.010000</td>\n",
       "      <td>44</td>\n",
       "      <td>242.906403</td>\n",
       "      <td>44</td>\n",
       "      <td>0.000000</td>\n",
       "      <td>44</td>\n",
       "      <td>101.500000</td>\n",
       "      <td>44</td>\n",
       "      <td>175.000000</td>\n",
       "      <td>44</td>\n",
       "      <td>175.000000</td>\n",
       "      <td>44</td>\n",
       "    </tr>\n",
       "    <tr>\n",
       "      <th>5</th>\n",
       "      <td>7</td>\n",
       "      <td>44</td>\n",
       "      <td>0.010000</td>\n",
       "      <td>44</td>\n",
       "      <td>242.906403</td>\n",
       "      <td>44</td>\n",
       "      <td>0.000000</td>\n",
       "      <td>44</td>\n",
       "      <td>101.500000</td>\n",
       "      <td>44</td>\n",
       "      <td>225.000000</td>\n",
       "      <td>44</td>\n",
       "      <td>225.000000</td>\n",
       "      <td>44</td>\n",
       "    </tr>\n",
       "  </tbody>\n",
       "</table>\n",
       "</div>"
      ],
      "text/plain": [
       "        longueur           angle            weight       precision        \\\n",
       "            mean count      mean count        mean count      mean count   \n",
       "groupID                                                                    \n",
       "1              7    44  4.488939    44  229.959152    44  6.056108    44   \n",
       "2              7    44  4.488939    44  229.959152    44  6.056108    44   \n",
       "3              7    44  0.010000    44  242.906403    44  0.000000    44   \n",
       "4              7    44  0.010000    44  242.906403    44  0.000000    44   \n",
       "5              7    44  0.010000    44  242.906403    44  0.000000    44   \n",
       "\n",
       "               xPos              yPos             layer        \n",
       "               mean count        mean count        mean count  \n",
       "groupID                                                        \n",
       "1         99.545455    44   25.045455    44   32.840908    44  \n",
       "2         99.545455    44   75.045455    44   82.840912    44  \n",
       "3        101.500000    44  125.000000    44  125.000000    44  \n",
       "4        101.500000    44  175.000000    44  175.000000    44  \n",
       "5        101.500000    44  225.000000    44  225.000000    44  "
      ]
     },
     "execution_count": 1073,
     "metadata": {},
     "output_type": "execute_result"
    }
   ],
   "source": [
    "titi.groupby('groupID').agg(['mean', 'count'])[resultGroup>10]"
   ]
  },
  {
   "cell_type": "code",
   "execution_count": 1074,
   "metadata": {
    "ExecuteTime": {
     "end_time": "2019-07-21T21:43:41.305845Z",
     "start_time": "2019-07-21T21:43:41.296067Z"
    }
   },
   "outputs": [
    {
     "data": {
      "text/plain": [
       "4.1064300537109375"
      ]
     },
     "execution_count": 1074,
     "metadata": {},
     "output_type": "execute_result"
    }
   ],
   "source": [
    "getWAGA(titi,2)"
   ]
  },
  {
   "cell_type": "markdown",
   "metadata": {},
   "source": [
    "#### Simplification"
   ]
  },
  {
   "cell_type": "code",
   "execution_count": 1075,
   "metadata": {
    "ExecuteTime": {
     "end_time": "2019-07-21T21:45:23.408901Z",
     "start_time": "2019-07-21T21:45:23.112436Z"
    }
   },
   "outputs": [
    {
     "name": "stdout",
     "output_type": "stream",
     "text": [
      "   longueur     angle      weight  precision   xPos   yPos  groupID  layer\n",
      "0      44.0  0.010000  242.906418   0.000000  102.0  125.0        0   45.0\n",
      "1      44.0  0.010000  242.906418   0.000000  102.0  175.0        1   45.0\n",
      "2      44.0  0.010000  242.906418   0.000000  102.0  225.0        2   45.0\n",
      "3      45.0  0.143647  242.433670   0.298844  101.0   25.0        3   22.0\n",
      "4      45.0  0.143647  242.433670   0.298844  101.0   75.0        4   22.0\n",
      "5      45.0  0.668604  240.576492   1.472683  101.0   75.0        5   27.0\n",
      "6      44.0  1.094646  239.069321   2.425342   96.0   25.0        6   22.0\n",
      "7      44.0  1.094646  239.069321   2.425342   96.0   75.0        7   22.0\n"
     ]
    }
   ],
   "source": [
    "lTMPNeuronList = getLineNeuronList(titi,0)\n",
    "print(lTMPNeuronList)"
   ]
  },
  {
   "cell_type": "code",
   "execution_count": 1076,
   "metadata": {
    "ExecuteTime": {
     "end_time": "2019-07-21T21:45:47.413074Z",
     "start_time": "2019-07-21T21:45:47.185175Z"
    }
   },
   "outputs": [
    {
     "data": {
      "image/png": "[encoded data removed]",
      "text/plain": [
       "<Figure size 432x288 with 1 Axes>"
      ]
     },
     "metadata": {
      "needs_background": "light"
     },
     "output_type": "display_data"
    }
   ],
   "source": [
    "testBitmap = np.zeros((frame.shape[0],frame.shape[1],3), np.uint8)\n",
    "testBitmap = drawFieldNeurons(lTMPNeuronList, testBitmap,0,0)\n",
    "imgplot = plt.imshow(testBitmap)"
   ]
  },
  {
   "cell_type": "code",
   "execution_count": 1106,
   "metadata": {
    "ExecuteTime": {
     "end_time": "2019-07-21T23:32:34.846678Z",
     "start_time": "2019-07-21T23:32:34.286521Z"
    }
   },
   "outputs": [
    {
     "data": {
      "image/png": "[encoded data removed]",
      "text/plain": [
       "<Figure size 432x288 with 1 Axes>"
      ]
     },
     "metadata": {
      "needs_background": "light"
     },
     "output_type": "display_data"
    }
   ],
   "source": [
    "miniFrame = getSmallerFrame(lTMPNeuronList.loc[4], frame);\n",
    "imgplot = plt.imshow(miniFrame)"
   ]
  },
  {
   "cell_type": "code",
   "execution_count": 1108,
   "metadata": {
    "ExecuteTime": {
     "end_time": "2019-07-21T23:34:19.082618Z",
     "start_time": "2019-07-21T23:34:18.343526Z"
    },
    "scrolled": true
   },
   "outputs": [],
   "source": [
    "indices = np.where(miniFrame != [0])\n",
    "nbPixelsAll = nbPixelField(indices[0], indices[1], miniFrame, tailleField)\n",
    "titi = getNeuronActivationList(indices[0], indices[1], tailleField, miniFrame,\n",
    "                               nbPixelsAll)"
   ]
  },
  {
   "cell_type": "code",
   "execution_count": 1109,
   "metadata": {
    "ExecuteTime": {
     "end_time": "2019-07-21T23:35:08.271490Z",
     "start_time": "2019-07-21T23:35:08.126977Z"
    }
   },
   "outputs": [
    {
     "data": {
      "text/html": [
       "<div>\n",
       "<style scoped>\n",
       "    .dataframe tbody tr th:only-of-type {\n",
       "        vertical-align: middle;\n",
       "    }\n",
       "\n",
       "    .dataframe tbody tr th {\n",
       "        vertical-align: top;\n",
       "    }\n",
       "\n",
       "    .dataframe thead tr th {\n",
       "        text-align: left;\n",
       "    }\n",
       "\n",
       "    .dataframe thead tr:last-of-type th {\n",
       "        text-align: right;\n",
       "    }\n",
       "</style>\n",
       "<table border=\"1\" class=\"dataframe\">\n",
       "  <thead>\n",
       "    <tr>\n",
       "      <th></th>\n",
       "      <th colspan=\"2\" halign=\"left\">longueur</th>\n",
       "      <th colspan=\"2\" halign=\"left\">weight</th>\n",
       "      <th colspan=\"2\" halign=\"left\">precision</th>\n",
       "      <th colspan=\"2\" halign=\"left\">xPos</th>\n",
       "      <th colspan=\"2\" halign=\"left\">yPos</th>\n",
       "      <th colspan=\"2\" halign=\"left\">groupID</th>\n",
       "      <th colspan=\"2\" halign=\"left\">layer</th>\n",
       "    </tr>\n",
       "    <tr>\n",
       "      <th></th>\n",
       "      <th>mean</th>\n",
       "      <th>count</th>\n",
       "      <th>mean</th>\n",
       "      <th>count</th>\n",
       "      <th>mean</th>\n",
       "      <th>count</th>\n",
       "      <th>mean</th>\n",
       "      <th>count</th>\n",
       "      <th>mean</th>\n",
       "      <th>count</th>\n",
       "      <th>mean</th>\n",
       "      <th>count</th>\n",
       "      <th>mean</th>\n",
       "      <th>count</th>\n",
       "    </tr>\n",
       "    <tr>\n",
       "      <th>angle</th>\n",
       "      <th></th>\n",
       "      <th></th>\n",
       "      <th></th>\n",
       "      <th></th>\n",
       "      <th></th>\n",
       "      <th></th>\n",
       "      <th></th>\n",
       "      <th></th>\n",
       "      <th></th>\n",
       "      <th></th>\n",
       "      <th></th>\n",
       "      <th></th>\n",
       "      <th></th>\n",
       "      <th></th>\n",
       "    </tr>\n",
       "  </thead>\n",
       "  <tbody>\n",
       "    <tr>\n",
       "      <th>0.010000</th>\n",
       "      <td>7</td>\n",
       "      <td>15</td>\n",
       "      <td>242.906403</td>\n",
       "      <td>15</td>\n",
       "      <td>0.000000</td>\n",
       "      <td>15</td>\n",
       "      <td>40.800000</td>\n",
       "      <td>15</td>\n",
       "      <td>13.533333</td>\n",
       "      <td>15</td>\n",
       "      <td>0</td>\n",
       "      <td>15</td>\n",
       "      <td>13.533334</td>\n",
       "      <td>15</td>\n",
       "    </tr>\n",
       "    <tr>\n",
       "      <th>3.081667</th>\n",
       "      <td>7</td>\n",
       "      <td>6</td>\n",
       "      <td>232.039963</td>\n",
       "      <td>6</td>\n",
       "      <td>6.868455</td>\n",
       "      <td>6</td>\n",
       "      <td>41.166667</td>\n",
       "      <td>6</td>\n",
       "      <td>13.500000</td>\n",
       "      <td>6</td>\n",
       "      <td>0</td>\n",
       "      <td>6</td>\n",
       "      <td>15.666667</td>\n",
       "      <td>6</td>\n",
       "    </tr>\n",
       "    <tr>\n",
       "      <th>7.510000</th>\n",
       "      <td>7</td>\n",
       "      <td>6</td>\n",
       "      <td>222.213516</td>\n",
       "      <td>6</td>\n",
       "      <td>10.863776</td>\n",
       "      <td>6</td>\n",
       "      <td>41.166667</td>\n",
       "      <td>6</td>\n",
       "      <td>13.500000</td>\n",
       "      <td>6</td>\n",
       "      <td>0</td>\n",
       "      <td>6</td>\n",
       "      <td>19.333334</td>\n",
       "      <td>6</td>\n",
       "    </tr>\n",
       "    <tr>\n",
       "      <th>15.010000</th>\n",
       "      <td>7</td>\n",
       "      <td>6</td>\n",
       "      <td>200.669205</td>\n",
       "      <td>6</td>\n",
       "      <td>16.934334</td>\n",
       "      <td>6</td>\n",
       "      <td>41.166667</td>\n",
       "      <td>6</td>\n",
       "      <td>13.500000</td>\n",
       "      <td>6</td>\n",
       "      <td>0</td>\n",
       "      <td>6</td>\n",
       "      <td>24.333334</td>\n",
       "      <td>6</td>\n",
       "    </tr>\n",
       "  </tbody>\n",
       "</table>\n",
       "</div>"
      ],
      "text/plain": [
       "          longueur            weight        precision             xPos        \\\n",
       "              mean count        mean count       mean count       mean count   \n",
       "angle                                                                          \n",
       "0.010000         7    15  242.906403    15   0.000000    15  40.800000    15   \n",
       "3.081667         7     6  232.039963     6   6.868455     6  41.166667     6   \n",
       "7.510000         7     6  222.213516     6  10.863776     6  41.166667     6   \n",
       "15.010000        7     6  200.669205     6  16.934334     6  41.166667     6   \n",
       "\n",
       "                yPos       groupID            layer        \n",
       "                mean count    mean count       mean count  \n",
       "angle                                                      \n",
       "0.010000   13.533333    15       0    15  13.533334    15  \n",
       "3.081667   13.500000     6       0     6  15.666667     6  \n",
       "7.510000   13.500000     6       0     6  19.333334     6  \n",
       "15.010000  13.500000     6       0     6  24.333334     6  "
      ]
     },
     "execution_count": 1109,
     "metadata": {},
     "output_type": "execute_result"
    }
   ],
   "source": [
    "titi.groupby('angle').agg(['mean', 'count'])"
   ]
  },
  {
   "cell_type": "code",
   "execution_count": 1110,
   "metadata": {
    "ExecuteTime": {
     "end_time": "2019-07-21T23:35:42.514458Z",
     "start_time": "2019-07-21T23:35:42.493685Z"
    }
   },
   "outputs": [
    {
     "data": {
      "text/plain": [
       "4.279876232147217"
      ]
     },
     "execution_count": 1110,
     "metadata": {},
     "output_type": "execute_result"
    }
   ],
   "source": [
    "getWAGA(titi,0)"
   ]
  },
  {
   "cell_type": "code",
   "execution_count": 1111,
   "metadata": {
    "ExecuteTime": {
     "end_time": "2019-07-21T23:37:21.386189Z",
     "start_time": "2019-07-21T23:37:21.204609Z"
    }
   },
   "outputs": [
    {
     "name": "stdout",
     "output_type": "stream",
     "text": [
      "   longueur     angle      weight  precision  xPos  yPos  groupID  layer\n",
      "0      33.0  0.859213  239.902222   1.898898  41.0  14.0        0   21.0\n",
      "1      33.0  0.859213  239.902222   1.898898  41.0  14.0        1   21.0\n",
      "2      33.0  0.859213  239.902222   1.898898  41.0  14.0        2   21.0\n"
     ]
    }
   ],
   "source": [
    "lTMPNeuronList = getLineNeuronList(titi,0)\n",
    "print(lTMPNeuronList)"
   ]
  },
  {
   "cell_type": "markdown",
   "metadata": {},
   "source": [
    "### Test 8 : video frame\n",
    "#### Get Video frame"
   ]
  },
  {
   "cell_type": "code",
   "execution_count": 99,
   "metadata": {
    "ExecuteTime": {
     "end_time": "2019-07-21T08:05:52.693489Z",
     "start_time": "2019-07-21T08:05:52.390466Z"
    }
   },
   "outputs": [
    {
     "data": {
      "image/png": "[encoded data removed]",
      "text/plain": [
       "<Figure size 432x288 with 1 Axes>"
      ]
     },
     "metadata": {
      "needs_background": "light"
     },
     "output_type": "display_data"
    }
   ],
   "source": [
    "frame = Cannyframe\n",
    "imgplot = plt.imshow(frame)"
   ]
  },
  {
   "cell_type": "markdown",
   "metadata": {},
   "source": [
    "#### Génération des neurones à champs récepteur"
   ]
  },
  {
   "cell_type": "code",
   "execution_count": 100,
   "metadata": {
    "ExecuteTime": {
     "end_time": "2019-07-21T08:06:46.888284Z",
     "start_time": "2019-07-21T08:05:52.696605Z"
    },
    "scrolled": true
   },
   "outputs": [],
   "source": [
    "indices = np.where(frame != [0])\n",
    "nbPixelsAll = nbPixelField(indices[0], indices[1], frame, tailleField)\n",
    "titi = getNeuronActivationList(indices[0], indices[1], tailleField, frame,\n",
    "                               nbPixelsAll)"
   ]
  },
  {
   "cell_type": "code",
   "execution_count": 101,
   "metadata": {
    "ExecuteTime": {
     "end_time": "2019-07-21T08:06:46.957785Z",
     "start_time": "2019-07-21T08:06:46.891067Z"
    },
    "scrolled": true
   },
   "outputs": [
    {
     "data": {
      "text/html": [
       "<div>\n",
       "<style scoped>\n",
       "    .dataframe tbody tr th:only-of-type {\n",
       "        vertical-align: middle;\n",
       "    }\n",
       "\n",
       "    .dataframe tbody tr th {\n",
       "        vertical-align: top;\n",
       "    }\n",
       "\n",
       "    .dataframe thead th {\n",
       "        text-align: right;\n",
       "    }\n",
       "</style>\n",
       "<table border=\"1\" class=\"dataframe\">\n",
       "  <thead>\n",
       "    <tr style=\"text-align: right;\">\n",
       "      <th></th>\n",
       "      <th>longueur</th>\n",
       "      <th>angle</th>\n",
       "      <th>weight</th>\n",
       "      <th>precision</th>\n",
       "      <th>xPos</th>\n",
       "      <th>yPos</th>\n",
       "      <th>groupID</th>\n",
       "      <th>layer</th>\n",
       "    </tr>\n",
       "  </thead>\n",
       "  <tbody>\n",
       "    <tr>\n",
       "      <th>count</th>\n",
       "      <td>6452.0</td>\n",
       "      <td>6452.000000</td>\n",
       "      <td>6452.000000</td>\n",
       "      <td>6452.000000</td>\n",
       "      <td>6452.000000</td>\n",
       "      <td>6452.000000</td>\n",
       "      <td>6452.0</td>\n",
       "      <td>6452.0</td>\n",
       "    </tr>\n",
       "    <tr>\n",
       "      <th>mean</th>\n",
       "      <td>7.0</td>\n",
       "      <td>4.998969</td>\n",
       "      <td>157.106003</td>\n",
       "      <td>24.906563</td>\n",
       "      <td>445.457688</td>\n",
       "      <td>650.464197</td>\n",
       "      <td>0.0</td>\n",
       "      <td>0.0</td>\n",
       "    </tr>\n",
       "    <tr>\n",
       "      <th>std</th>\n",
       "      <td>0.0</td>\n",
       "      <td>50.678619</td>\n",
       "      <td>72.648529</td>\n",
       "      <td>16.812843</td>\n",
       "      <td>153.752807</td>\n",
       "      <td>297.094736</td>\n",
       "      <td>0.0</td>\n",
       "      <td>0.0</td>\n",
       "    </tr>\n",
       "    <tr>\n",
       "      <th>min</th>\n",
       "      <td>7.0</td>\n",
       "      <td>-87.365715</td>\n",
       "      <td>2.718763</td>\n",
       "      <td>0.000000</td>\n",
       "      <td>267.000000</td>\n",
       "      <td>39.000000</td>\n",
       "      <td>0.0</td>\n",
       "      <td>0.0</td>\n",
       "    </tr>\n",
       "    <tr>\n",
       "      <th>25%</th>\n",
       "      <td>7.0</td>\n",
       "      <td>-34.992499</td>\n",
       "      <td>120.865974</td>\n",
       "      <td>14.346698</td>\n",
       "      <td>325.000000</td>\n",
       "      <td>523.000000</td>\n",
       "      <td>0.0</td>\n",
       "      <td>0.0</td>\n",
       "    </tr>\n",
       "    <tr>\n",
       "      <th>50%</th>\n",
       "      <td>7.0</td>\n",
       "      <td>0.010000</td>\n",
       "      <td>182.490227</td>\n",
       "      <td>20.770247</td>\n",
       "      <td>388.500000</td>\n",
       "      <td>653.000000</td>\n",
       "      <td>0.0</td>\n",
       "      <td>0.0</td>\n",
       "    </tr>\n",
       "    <tr>\n",
       "      <th>75%</th>\n",
       "      <td>7.0</td>\n",
       "      <td>48.726250</td>\n",
       "      <td>210.914810</td>\n",
       "      <td>31.041572</td>\n",
       "      <td>549.000000</td>\n",
       "      <td>789.000000</td>\n",
       "      <td>0.0</td>\n",
       "      <td>0.0</td>\n",
       "    </tr>\n",
       "    <tr>\n",
       "      <th>max</th>\n",
       "      <td>7.0</td>\n",
       "      <td>90.000000</td>\n",
       "      <td>242.906403</td>\n",
       "      <td>75.303673</td>\n",
       "      <td>784.000000</td>\n",
       "      <td>1246.000000</td>\n",
       "      <td>0.0</td>\n",
       "      <td>0.0</td>\n",
       "    </tr>\n",
       "  </tbody>\n",
       "</table>\n",
       "</div>"
      ],
      "text/plain": [
       "       longueur        angle       weight    precision         xPos  \\\n",
       "count    6452.0  6452.000000  6452.000000  6452.000000  6452.000000   \n",
       "mean        7.0     4.998969   157.106003    24.906563   445.457688   \n",
       "std         0.0    50.678619    72.648529    16.812843   153.752807   \n",
       "min         7.0   -87.365715     2.718763     0.000000   267.000000   \n",
       "25%         7.0   -34.992499   120.865974    14.346698   325.000000   \n",
       "50%         7.0     0.010000   182.490227    20.770247   388.500000   \n",
       "75%         7.0    48.726250   210.914810    31.041572   549.000000   \n",
       "max         7.0    90.000000   242.906403    75.303673   784.000000   \n",
       "\n",
       "              yPos  groupID   layer  \n",
       "count  6452.000000   6452.0  6452.0  \n",
       "mean    650.464197      0.0     0.0  \n",
       "std     297.094736      0.0     0.0  \n",
       "min      39.000000      0.0     0.0  \n",
       "25%     523.000000      0.0     0.0  \n",
       "50%     653.000000      0.0     0.0  \n",
       "75%     789.000000      0.0     0.0  \n",
       "max    1246.000000      0.0     0.0  "
      ]
     },
     "execution_count": 101,
     "metadata": {},
     "output_type": "execute_result"
    }
   ],
   "source": [
    "titi.describe()"
   ]
  },
  {
   "cell_type": "code",
   "execution_count": 102,
   "metadata": {
    "ExecuteTime": {
     "end_time": "2019-07-21T08:06:46.982173Z",
     "start_time": "2019-07-21T08:06:46.960785Z"
    },
    "scrolled": false
   },
   "outputs": [
    {
     "data": {
      "text/html": [
       "<div>\n",
       "<style scoped>\n",
       "    .dataframe tbody tr th:only-of-type {\n",
       "        vertical-align: middle;\n",
       "    }\n",
       "\n",
       "    .dataframe tbody tr th {\n",
       "        vertical-align: top;\n",
       "    }\n",
       "\n",
       "    .dataframe thead th {\n",
       "        text-align: right;\n",
       "    }\n",
       "</style>\n",
       "<table border=\"1\" class=\"dataframe\">\n",
       "  <thead>\n",
       "    <tr style=\"text-align: right;\">\n",
       "      <th></th>\n",
       "      <th>longueur</th>\n",
       "      <th>angle</th>\n",
       "      <th>weight</th>\n",
       "      <th>precision</th>\n",
       "      <th>xPos</th>\n",
       "      <th>yPos</th>\n",
       "      <th>groupID</th>\n",
       "      <th>layer</th>\n",
       "    </tr>\n",
       "  </thead>\n",
       "  <tbody>\n",
       "    <tr>\n",
       "      <th>0</th>\n",
       "      <td>7</td>\n",
       "      <td>-14.990000</td>\n",
       "      <td>200.669205</td>\n",
       "      <td>16.934334</td>\n",
       "      <td>267</td>\n",
       "      <td>82</td>\n",
       "      <td>0</td>\n",
       "      <td>0.0</td>\n",
       "    </tr>\n",
       "    <tr>\n",
       "      <th>1</th>\n",
       "      <td>7</td>\n",
       "      <td>-21.908571</td>\n",
       "      <td>169.895966</td>\n",
       "      <td>23.086880</td>\n",
       "      <td>267</td>\n",
       "      <td>180</td>\n",
       "      <td>0</td>\n",
       "      <td>0.0</td>\n",
       "    </tr>\n",
       "    <tr>\n",
       "      <th>2</th>\n",
       "      <td>7</td>\n",
       "      <td>-40.563332</td>\n",
       "      <td>112.282188</td>\n",
       "      <td>32.398540</td>\n",
       "      <td>267</td>\n",
       "      <td>191</td>\n",
       "      <td>0</td>\n",
       "      <td>0.0</td>\n",
       "    </tr>\n",
       "    <tr>\n",
       "      <th>3</th>\n",
       "      <td>7</td>\n",
       "      <td>23.696667</td>\n",
       "      <td>157.390488</td>\n",
       "      <td>25.222450</td>\n",
       "      <td>267</td>\n",
       "      <td>281</td>\n",
       "      <td>0</td>\n",
       "      <td>0.0</td>\n",
       "    </tr>\n",
       "  </tbody>\n",
       "</table>\n",
       "</div>"
      ],
      "text/plain": [
       "   longueur      angle      weight  precision  xPos  yPos  groupID  layer\n",
       "0         7 -14.990000  200.669205  16.934334   267    82        0    0.0\n",
       "1         7 -21.908571  169.895966  23.086880   267   180        0    0.0\n",
       "2         7 -40.563332  112.282188  32.398540   267   191        0    0.0\n",
       "3         7  23.696667  157.390488  25.222450   267   281        0    0.0"
      ]
     },
     "execution_count": 102,
     "metadata": {},
     "output_type": "execute_result"
    }
   ],
   "source": [
    "titi[0:4]"
   ]
  },
  {
   "cell_type": "markdown",
   "metadata": {},
   "source": [
    "#### Affichage graphique du champs récepteur des neurones"
   ]
  },
  {
   "cell_type": "code",
   "execution_count": 103,
   "metadata": {
    "ExecuteTime": {
     "end_time": "2019-07-21T08:06:49.151468Z",
     "start_time": "2019-07-21T08:06:46.984989Z"
    },
    "scrolled": true
   },
   "outputs": [
    {
     "data": {
      "image/png": "[encoded data removed]",
      "text/plain": [
       "<Figure size 432x288 with 1 Axes>"
      ]
     },
     "metadata": {
      "needs_background": "light"
     },
     "output_type": "display_data"
    }
   ],
   "source": [
    "testBitmap = np.zeros((frame.shape[0],frame.shape[1],3), np.uint8)\n",
    "testBitmap = drawFieldNeurons(titi, testBitmap)\n",
    "imgplot = plt.imshow(testBitmap)"
   ]
  },
  {
   "cell_type": "code",
   "execution_count": 104,
   "metadata": {
    "ExecuteTime": {
     "end_time": "2019-07-21T08:06:49.281019Z",
     "start_time": "2019-07-21T08:06:49.154353Z"
    },
    "scrolled": true
   },
   "outputs": [],
   "source": [
    "lintI = 0\n",
    "while (lintI < 10):\n",
    "    cv2.imshow('testBitmap', testBitmap)\n",
    "    if cv2.waitKey(1) & 0xFF == ord('q'): # press q to quit\n",
    "        break\n",
    "    lintI += 1"
   ]
  },
  {
   "cell_type": "markdown",
   "metadata": {},
   "source": [
    "##### Affichage de la frame :\n",
    "\n",
    "![Edge detection frame image, with the Canny Algorithm](frame01.png)\n",
    "\n",
    "##### Affichage des champs récepteurs des neurones\n",
    "\n",
    "![NeuronField Image : Le niveau de gris correspond au niveau d'activation du neurone](neuronField01.png)\n"
   ]
  },
  {
   "cell_type": "markdown",
   "metadata": {},
   "source": [
    "#### Génération des groupes"
   ]
  },
  {
   "cell_type": "code",
   "execution_count": 105,
   "metadata": {
    "ExecuteTime": {
     "end_time": "2019-07-21T08:10:47.503262Z",
     "start_time": "2019-07-21T08:06:49.283615Z"
    }
   },
   "outputs": [],
   "source": [
    "findGroups(titi);"
   ]
  },
  {
   "cell_type": "code",
   "execution_count": 106,
   "metadata": {
    "ExecuteTime": {
     "end_time": "2019-07-21T08:10:47.732046Z",
     "start_time": "2019-07-21T08:10:47.505734Z"
    },
    "scrolled": true
   },
   "outputs": [
    {
     "data": {
      "text/plain": [
       "<matplotlib.axes._subplots.AxesSubplot at 0x129411320>"
      ]
     },
     "execution_count": 106,
     "metadata": {},
     "output_type": "execute_result"
    },
    {
     "data": {
      "image/png": "[encoded data removed]",
      "text/plain": [
       "<Figure size 432x288 with 1 Axes>"
      ]
     },
     "metadata": {
      "needs_background": "light"
     },
     "output_type": "display_data"
    }
   ],
   "source": [
    "titi.groupby('groupID').size().hist()"
   ]
  },
  {
   "cell_type": "code",
   "execution_count": 107,
   "metadata": {
    "ExecuteTime": {
     "end_time": "2019-07-21T08:10:47.954599Z",
     "start_time": "2019-07-21T08:10:47.734812Z"
    }
   },
   "outputs": [
    {
     "data": {
      "text/plain": [
       "<matplotlib.axes._subplots.AxesSubplot at 0x124023be0>"
      ]
     },
     "execution_count": 107,
     "metadata": {},
     "output_type": "execute_result"
    },
    {
     "data": {
      "image/png": "[encoded data removed]",
      "text/plain": [
       "<Figure size 432x288 with 1 Axes>"
      ]
     },
     "metadata": {
      "needs_background": "light"
     },
     "output_type": "display_data"
    }
   ],
   "source": [
    "resultGroup = titi.groupby('groupID').size()\n",
    "resultGroup[resultGroup>10].hist()"
   ]
  },
  {
   "cell_type": "code",
   "execution_count": 108,
   "metadata": {
    "ExecuteTime": {
     "end_time": "2019-07-21T08:10:48.017805Z",
     "start_time": "2019-07-21T08:10:47.957488Z"
    },
    "scrolled": true
   },
   "outputs": [
    {
     "data": {
      "text/html": [
       "<div>\n",
       "<style scoped>\n",
       "    .dataframe tbody tr th:only-of-type {\n",
       "        vertical-align: middle;\n",
       "    }\n",
       "\n",
       "    .dataframe tbody tr th {\n",
       "        vertical-align: top;\n",
       "    }\n",
       "\n",
       "    .dataframe thead tr th {\n",
       "        text-align: left;\n",
       "    }\n",
       "\n",
       "    .dataframe thead tr:last-of-type th {\n",
       "        text-align: right;\n",
       "    }\n",
       "</style>\n",
       "<table border=\"1\" class=\"dataframe\">\n",
       "  <thead>\n",
       "    <tr>\n",
       "      <th></th>\n",
       "      <th colspan=\"2\" halign=\"left\">longueur</th>\n",
       "      <th colspan=\"2\" halign=\"left\">angle</th>\n",
       "      <th colspan=\"2\" halign=\"left\">weight</th>\n",
       "      <th colspan=\"2\" halign=\"left\">precision</th>\n",
       "      <th colspan=\"2\" halign=\"left\">xPos</th>\n",
       "      <th colspan=\"2\" halign=\"left\">yPos</th>\n",
       "      <th colspan=\"2\" halign=\"left\">layer</th>\n",
       "    </tr>\n",
       "    <tr>\n",
       "      <th></th>\n",
       "      <th>mean</th>\n",
       "      <th>count</th>\n",
       "      <th>mean</th>\n",
       "      <th>count</th>\n",
       "      <th>mean</th>\n",
       "      <th>count</th>\n",
       "      <th>mean</th>\n",
       "      <th>count</th>\n",
       "      <th>mean</th>\n",
       "      <th>count</th>\n",
       "      <th>mean</th>\n",
       "      <th>count</th>\n",
       "      <th>mean</th>\n",
       "      <th>count</th>\n",
       "    </tr>\n",
       "    <tr>\n",
       "      <th>groupID</th>\n",
       "      <th></th>\n",
       "      <th></th>\n",
       "      <th></th>\n",
       "      <th></th>\n",
       "      <th></th>\n",
       "      <th></th>\n",
       "      <th></th>\n",
       "      <th></th>\n",
       "      <th></th>\n",
       "      <th></th>\n",
       "      <th></th>\n",
       "      <th></th>\n",
       "      <th></th>\n",
       "      <th></th>\n",
       "    </tr>\n",
       "  </thead>\n",
       "  <tbody>\n",
       "    <tr>\n",
       "      <th>136</th>\n",
       "      <td>7</td>\n",
       "      <td>497</td>\n",
       "      <td>26.611830</td>\n",
       "      <td>497</td>\n",
       "      <td>174.087921</td>\n",
       "      <td>497</td>\n",
       "      <td>19.788208</td>\n",
       "      <td>497</td>\n",
       "      <td>361.372233</td>\n",
       "      <td>497</td>\n",
       "      <td>574.227364</td>\n",
       "      <td>497</td>\n",
       "      <td>0.0</td>\n",
       "      <td>497</td>\n",
       "    </tr>\n",
       "    <tr>\n",
       "      <th>201</th>\n",
       "      <td>7</td>\n",
       "      <td>151</td>\n",
       "      <td>12.489170</td>\n",
       "      <td>151</td>\n",
       "      <td>182.971664</td>\n",
       "      <td>151</td>\n",
       "      <td>18.340914</td>\n",
       "      <td>151</td>\n",
       "      <td>354.079470</td>\n",
       "      <td>151</td>\n",
       "      <td>765.158940</td>\n",
       "      <td>151</td>\n",
       "      <td>0.0</td>\n",
       "      <td>151</td>\n",
       "    </tr>\n",
       "    <tr>\n",
       "      <th>203</th>\n",
       "      <td>7</td>\n",
       "      <td>149</td>\n",
       "      <td>-15.760202</td>\n",
       "      <td>149</td>\n",
       "      <td>174.091461</td>\n",
       "      <td>149</td>\n",
       "      <td>21.210890</td>\n",
       "      <td>149</td>\n",
       "      <td>406.140940</td>\n",
       "      <td>149</td>\n",
       "      <td>59.134228</td>\n",
       "      <td>149</td>\n",
       "      <td>0.0</td>\n",
       "      <td>149</td>\n",
       "    </tr>\n",
       "    <tr>\n",
       "      <th>211</th>\n",
       "      <td>7</td>\n",
       "      <td>152</td>\n",
       "      <td>18.596670</td>\n",
       "      <td>152</td>\n",
       "      <td>175.904434</td>\n",
       "      <td>152</td>\n",
       "      <td>21.124544</td>\n",
       "      <td>152</td>\n",
       "      <td>407.828947</td>\n",
       "      <td>152</td>\n",
       "      <td>1226.342105</td>\n",
       "      <td>152</td>\n",
       "      <td>0.0</td>\n",
       "      <td>152</td>\n",
       "    </tr>\n",
       "    <tr>\n",
       "      <th>443</th>\n",
       "      <td>7</td>\n",
       "      <td>181</td>\n",
       "      <td>63.175495</td>\n",
       "      <td>181</td>\n",
       "      <td>197.623657</td>\n",
       "      <td>181</td>\n",
       "      <td>15.064166</td>\n",
       "      <td>181</td>\n",
       "      <td>691.972376</td>\n",
       "      <td>181</td>\n",
       "      <td>731.281768</td>\n",
       "      <td>181</td>\n",
       "      <td>0.0</td>\n",
       "      <td>181</td>\n",
       "    </tr>\n",
       "  </tbody>\n",
       "</table>\n",
       "</div>"
      ],
      "text/plain": [
       "        longueur            angle            weight        precision        \\\n",
       "            mean count       mean count        mean count       mean count   \n",
       "groupID                                                                      \n",
       "136            7   497  26.611830   497  174.087921   497  19.788208   497   \n",
       "201            7   151  12.489170   151  182.971664   151  18.340914   151   \n",
       "203            7   149 -15.760202   149  174.091461   149  21.210890   149   \n",
       "211            7   152  18.596670   152  175.904434   152  21.124544   152   \n",
       "443            7   181  63.175495   181  197.623657   181  15.064166   181   \n",
       "\n",
       "               xPos               yPos       layer        \n",
       "               mean count         mean count  mean count  \n",
       "groupID                                                   \n",
       "136      361.372233   497   574.227364   497   0.0   497  \n",
       "201      354.079470   151   765.158940   151   0.0   151  \n",
       "203      406.140940   149    59.134228   149   0.0   149  \n",
       "211      407.828947   152  1226.342105   152   0.0   152  \n",
       "443      691.972376   181   731.281768   181   0.0   181  "
      ]
     },
     "execution_count": 108,
     "metadata": {},
     "output_type": "execute_result"
    }
   ],
   "source": [
    "titi.groupby('groupID').agg(['mean', 'count'])[resultGroup>130]"
   ]
  },
  {
   "cell_type": "markdown",
   "metadata": {},
   "source": [
    "# Errors list"
   ]
  },
  {
   "cell_type": "markdown",
   "metadata": {},
   "source": [
    "## Error 10\n",
    "Problème dans la fonction [getNeuronActivationList](#Création-d'une-liste-de-neurones-à-champs-récepteurs)\n",
    "\n",
    "\n"
   ]
  },
  {
   "cell_type": "code",
   "execution_count": null,
   "metadata": {},
   "outputs": [],
   "source": []
  }
 ],
 "metadata": {
  "kernelspec": {
   "display_name": "Python 3",
   "language": "python",
   "name": "python3"
  },
  "language_info": {
   "codemirror_mode": {
    "name": "ipython",
    "version": 3
   },
   "file_extension": ".py",
   "mimetype": "text/x-python",
   "name": "python",
   "nbconvert_exporter": "python",
   "pygments_lexer": "ipython3",
   "version": "3.7.3"
  },
  "toc": {
   "base_numbering": 1,
   "nav_menu": {},
   "number_sections": true,
   "sideBar": true,
   "skip_h1_title": false,
   "title_cell": "Table of Contents",
   "title_sidebar": "Contents",
   "toc_cell": false,
   "toc_position": {
    "height": "calc(100% - 180px)",
    "left": "10px",
    "top": "150px",
    "width": "384px"
   },
   "toc_section_display": true,
   "toc_window_display": true
  },
  "varInspector": {
   "cols": {
    "lenName": 16,
    "lenType": 16,
    "lenVar": 40
   },
   "kernels_config": {
    "python": {
     "delete_cmd_postfix": "",
     "delete_cmd_prefix": "del ",
     "library": "var_list.py",
     "varRefreshCmd": "print(var_dic_list())"
    },
    "r": {
     "delete_cmd_postfix": ") ",
     "delete_cmd_prefix": "rm(",
     "library": "var_list.r",
     "varRefreshCmd": "cat(var_dic_list()) "
    }
   },
   "types_to_exclude": [
    "module",
    "function",
    "builtin_function_or_method",
    "instance",
    "_Feature"
   ],
   "window_display": false
  }
 },
 "nbformat": 4,
 "nbformat_minor": 2
}
