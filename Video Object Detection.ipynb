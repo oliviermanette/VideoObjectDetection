{
 "cells": [
  {
   "cell_type": "markdown",
   "metadata": {},
   "source": [
    "# Preamble \n",
    "L'objectif de ce document est de présenter un algorithme de détermination de l'angle d'une remorque à l'arrière d'un véhicule équipé d'une caméra vidéo.\n"
   ]
  },
  {
   "cell_type": "markdown",
   "metadata": {},
   "source": [
    "# import\n",
    "Le programme écrit en python s'appuie sur plusieurs bibliothèques existantes standard."
   ]
  },
  {
   "cell_type": "code",
   "execution_count": 1,
   "metadata": {
    "ExecuteTime": {
     "end_time": "2019-07-22T16:46:23.753545Z",
     "start_time": "2019-07-22T16:46:20.830098Z"
    }
   },
   "outputs": [
    {
     "name": "stdout",
     "output_type": "stream",
     "text": [
      "4.1.0\n"
     ]
    }
   ],
   "source": [
    "import cv2\n",
    "print(cv2.__version__)\n",
    "import matplotlib\n",
    "import matplotlib.pyplot as plt\n",
    "import numpy as np\n",
    "from numpy import pi\n",
    "import pandas as pd\n",
    "import os\n",
    "from numba import jit\n",
    "from scipy.signal import find_peaks"
   ]
  },
  {
   "cell_type": "markdown",
   "metadata": {},
   "source": [
    "# File selection"
   ]
  },
  {
   "cell_type": "code",
   "execution_count": 2,
   "metadata": {
    "ExecuteTime": {
     "end_time": "2019-07-22T16:46:23.763798Z",
     "start_time": "2019-07-22T16:46:23.757007Z"
    }
   },
   "outputs": [],
   "source": [
    "path = \"/Users/oliviermanette/Desktop/trailer detection challenge/data/P473_Arizona_Day_Asphalt_Close_To_Sunset_dry_Nominal_8300lx\"\n",
    "os.chdir(path)"
   ]
  },
  {
   "cell_type": "code",
   "execution_count": null,
   "metadata": {
    "ExecuteTime": {
     "start_time": "2019-07-22T16:46:20.838Z"
    }
   },
   "outputs": [
    {
     "data": {
      "text/plain": [
       "'/Users/oliviermanette/Desktop/trailer detection challenge/data/P473_Arizona_Day_Asphalt_Close_To_Sunset_dry_Nominal_8300lx'"
      ]
     },
     "execution_count": 3,
     "metadata": {},
     "output_type": "execute_result"
    }
   ],
   "source": [
    "pwd"
   ]
  },
  {
   "cell_type": "code",
   "execution_count": null,
   "metadata": {
    "ExecuteTime": {
     "start_time": "2019-07-22T16:46:20.847Z"
    }
   },
   "outputs": [
    {
     "name": "stdout",
     "output_type": "stream",
     "text": [
      "\u001b[1m\u001b[32mP473_Arizona_Day_Asphalt_Close_To_Sunset_dry_Nominal_8300lx.avi\u001b[m\u001b[m*\r\n",
      "\u001b[1m\u001b[32mP473_Arizona_Day_Asphalt_Close_To_Sunset_dry_Nominal_8300lx.dat_GT.csv\u001b[m\u001b[m*\r\n"
     ]
    }
   ],
   "source": [
    "ls"
   ]
  },
  {
   "cell_type": "code",
   "execution_count": null,
   "metadata": {
    "ExecuteTime": {
     "start_time": "2019-07-22T16:46:20.855Z"
    }
   },
   "outputs": [],
   "source": [
    "#fileName='W420_ES_Hi_Snow_Slush_Asphalt_28klux.avi'\n",
    "fileName = 'P473_Arizona_Day_Asphalt_Close_To_Sunset_dry_Nominal_8300lx.avi'"
   ]
  },
  {
   "cell_type": "markdown",
   "metadata": {},
   "source": [
    "# Test Video Loop"
   ]
  },
  {
   "cell_type": "code",
   "execution_count": null,
   "metadata": {
    "ExecuteTime": {
     "start_time": "2019-07-22T16:46:20.864Z"
    }
   },
   "outputs": [],
   "source": [
    "cap = cv2.VideoCapture(fileName)  # load the video\n",
    "while (cap.isOpened()):  # play the video by reading frame by frame\n",
    "    ret, frame = cap.read()\n",
    "    if ret == True:\n",
    "        # optional: do some image processing here\n",
    "        cv2.imshow('frame', frame)\n",
    "        # show the video\n",
    "        if cv2.waitKey(1) & 0xFF == ord('q'):\n",
    "            #if 0xFF == ord('q'):\n",
    "            break\n",
    "    else:\n",
    "        break\n",
    "cap.release()\n",
    "cv2.destroyAllWindows()"
   ]
  },
  {
   "cell_type": "markdown",
   "metadata": {},
   "source": [
    "# Variables globales\n",
    "Pour des raisons de lisibilité du code, l'ensemble des variables locales seront précédés du préfixe 'l' afin de les différencier des variables globales qui n'ont pas de préfixe.\n",
    "## Type de données de position"
   ]
  },
  {
   "cell_type": "code",
   "execution_count": null,
   "metadata": {
    "ExecuteTime": {
     "start_time": "2019-07-22T16:46:20.874Z"
    }
   },
   "outputs": [],
   "source": [
    "posType = np.dtype([('x', 'u1'), ('y', 'u2')])"
   ]
  },
  {
   "cell_type": "markdown",
   "metadata": {},
   "source": [
    "## Type de données de Neurones\n",
    "### Neurone sensoriel à champs récepteur"
   ]
  },
  {
   "cell_type": "code",
   "execution_count": null,
   "metadata": {
    "ExecuteTime": {
     "start_time": "2019-07-22T16:46:20.883Z"
    }
   },
   "outputs": [],
   "source": [
    "NeuronType = np.dtype([('longueur', 'u1'), ('angle', 'f4'), ('weight', 'f4'),\n",
    "                       ('precision', 'f4'), ('xPos', 'u1'), ('yPos', 'u2'),\n",
    "                       ('groupID', 'u1'), ('layer', 'f4')])"
   ]
  },
  {
   "cell_type": "code",
   "execution_count": null,
   "metadata": {
    "ExecuteTime": {
     "start_time": "2019-07-22T16:46:20.891Z"
    }
   },
   "outputs": [],
   "source": [
    "moveType = np.dtype([('longueur', 'u1'), ('angle', 'f4'), ('weight', 'f4'),\n",
    "                        ('xPos', 'u1'), ('yPos', 'u2')])"
   ]
  },
  {
   "cell_type": "markdown",
   "metadata": {},
   "source": [
    "## Taille des champs récepteurs neuronaux"
   ]
  },
  {
   "cell_type": "code",
   "execution_count": null,
   "metadata": {
    "ExecuteTime": {
     "start_time": "2019-07-22T16:46:20.898Z"
    }
   },
   "outputs": [],
   "source": [
    "tailleField = 7"
   ]
  },
  {
   "cell_type": "code",
   "execution_count": null,
   "metadata": {
    "ExecuteTime": {
     "start_time": "2019-07-22T16:46:20.906Z"
    }
   },
   "outputs": [],
   "source": [
    "NOPIXELVALUE = 999"
   ]
  },
  {
   "cell_type": "markdown",
   "metadata": {},
   "source": [
    "# Fonctions\n",
    "## Calcul d'un neurone champ moyen\n",
    "A partir d'une liste de neurones, il retourne le neurone moyen"
   ]
  },
  {
   "cell_type": "code",
   "execution_count": null,
   "metadata": {
    "ExecuteTime": {
     "start_time": "2019-07-22T16:46:20.914Z"
    }
   },
   "outputs": [],
   "source": [
    "@jit(nopython=True, parallel=True)\n",
    "def getAvgFieldNeuron(lNeuronList, typeList=NeuronType):\n",
    "    lNeurons = np.zeros(1, dtype=typeList)\n",
    "    lpNeurons = pd.DataFrame(lNeurons)\n",
    "    lpNeurons['longueur'] = int(lNeuronList.longueur[0:1])\n",
    "    lpNeurons['angle'] = float(\n",
    "        np.sum((lNeuronList.angle * lNeuronList.weight) /\n",
    "               np.sum(lNeuronList.weight)))\n",
    "    lpNeurons['weight'] = float(\n",
    "        np.sum((lNeuronList.weight * lNeuronList.weight) /\n",
    "               np.sum(lNeuronList.weight)))\n",
    "    lpNeurons['precision'] = float(\n",
    "        np.sum((lNeuronList.precision * lNeuronList.weight) /\n",
    "               np.sum(lNeuronList.weight)))\n",
    "    lpNeurons['xPos'] = np.around(\n",
    "        np.sum((lNeuronList.xPos * lNeuronList.weight)) /\n",
    "               np.sum(lNeuronList.weight))\n",
    "    lpNeurons['yPos'] = np.around(\n",
    "        np.sum((lNeuronList.yPos * lNeuronList.weight)) /\n",
    "               np.sum(lNeuronList.weight))\n",
    "    return lpNeurons"
   ]
  },
  {
   "cell_type": "markdown",
   "metadata": {},
   "source": [
    "## Matrice des directions\n",
    "Afin de faciliter le calcul des angles des pixels, une matrice de poids est générée afin d'appliquer à chaque pixel centré sur un champs récepteur un poids correspondant à l'angle d'une ligne passant par ce centre.\n",
    "Voici comment les angles sont représentés <br> <b>IMAGE</b>"
   ]
  },
  {
   "cell_type": "code",
   "execution_count": null,
   "metadata": {
    "ExecuteTime": {
     "start_time": "2019-07-22T16:46:20.922Z"
    }
   },
   "outputs": [],
   "source": [
    "@jit(nopython=True, parallel=True)\n",
    "def fillAngleMat(lSize):\n",
    "    lOutput = np.zeros((lSize, lSize))\n",
    "    lOffset = int(np.floor(lSize / 2))\n",
    "    for lX in range(0, lSize):\n",
    "        for lY in range(0, lSize):\n",
    "            if (lX - lOffset) == 0:\n",
    "                lOutput[lX, lY] = 90\n",
    "            else:\n",
    "                lOutput[lX, lY] = 0.01 + np.around(\n",
    "                    np.arctan((lY - lOffset) / (lOffset - lX)) / pi * 180, 2)\n",
    "    lOutput[lOffset, lOffset] = 0\n",
    "    return lOutput"
   ]
  },
  {
   "cell_type": "markdown",
   "metadata": {},
   "source": [
    "## Fonction d'activation des neurones\n",
    "Chaque neurone retourne une valeur comprise entre 0 et 255 qui reflète son niveau d'activation. Cette activation reflète le niveau de confiance que le neurone a sur le lien existant entre sa fonction de base et les pixels reçus dans son champs récepteur. Plus les pixels sont organisés de façon à former une ligne avec l'angle correspondant à la fonction de base du neurone et plus ce dernier sera activé. Comme on ne souhaite pas obtenir une activation de valeur infinie, on utilise donc une fonction sigmoide qui s'applique à l'écart-type des angles supposés. "
   ]
  },
  {
   "cell_type": "code",
   "execution_count": null,
   "metadata": {
    "ExecuteTime": {
     "start_time": "2019-07-22T16:46:20.930Z"
    }
   },
   "outputs": [],
   "source": [
    "@jit(nopython=True, parallel=True)\n",
    "def sigmoidActivationFctN1(lActivationVector):\n",
    "    lDenom = (1 + np.exp(0.1 * (np.abs(np.std(lActivationVector)) - 30)))\n",
    "    return 255 / lDenom"
   ]
  },
  {
   "cell_type": "markdown",
   "metadata": {},
   "source": [
    "## Création d'une liste de neurones à champs récepteurs"
   ]
  },
  {
   "cell_type": "code",
   "execution_count": null,
   "metadata": {
    "ExecuteTime": {
     "start_time": "2019-07-22T16:46:20.938Z"
    }
   },
   "outputs": [],
   "source": [
    "@jit(nopython=True, parallel=True)\n",
    "def getNeuronActivationList(idxX,\n",
    "                            idxY,\n",
    "                            size,\n",
    "                            frameE,\n",
    "                            nbPixelPts,\n",
    "                            lNeuronType=NeuronType,\n",
    "                            lVerbose=False):\n",
    "    # Il doit y avoir un nombre minimal de pixels\n",
    "    # dans le champs récepteur du neurone\n",
    "    lCriterion = nbPixelPts >= size\n",
    "    \n",
    "    # Création d'un tableau panda de neurones\n",
    "    nbNeurons = sum(lCriterion) # taille du tableau\n",
    "    lNeurons = np.zeros(nbNeurons, dtype=lNeuronType)\n",
    "    lpNeurons = pd.DataFrame(lNeurons)\n",
    "    lpNeurons['longueur'] = size\n",
    "    \n",
    "\n",
    "    # Variable correspondant à un demi field\n",
    "    lHalfL = int(np.floor(size / 2))\n",
    "    \n",
    "    # Matrice de détermination des angles\n",
    "    lAngleMat = fillAngleMat(size)\n",
    "\n",
    "    #indices X,Y de positions des pixels entourés de pixels\n",
    "    newX = idxX[lCriterion]\n",
    "    newY = idxY[lCriterion]\n",
    "    \n",
    "    # Affichage d'Informations facilitant le debugage\n",
    "    if lVerbose:\n",
    "        print(\"size :\" + str(len(newX)))\n",
    "        print(\"newX\")\n",
    "        print(np.min(newX))\n",
    "        print(np.max(newX))\n",
    "        print(\"newY\")\n",
    "        print(np.min(newY))\n",
    "        print(np.max(newY))\n",
    "        print()\n",
    "        \n",
    "    pos = 0\n",
    "    lnPos = 0\n",
    "    for lintX in newX:\n",
    "        lintY = newY[pos]\n",
    "        if (lintX - lHalfL) < 0 or (lintY - lHalfL) < 0:\n",
    "            print(\"exceed the limit of the matrix\")\n",
    "            pos += 1\n",
    "            continue\n",
    "\n",
    "        # récupération de pixels à l'intérieur d'un champs récepteur\n",
    "        lNeuronFieldFrame = frameE[int(lintX - lHalfL):int(lintX + lHalfL + 1),\n",
    "                                   int(lintY - lHalfL):int(lintY + lHalfL +\n",
    "                                                           1)] / 255\n",
    "\n",
    "        try:\n",
    "            # Calcul de l'angle à l'aide de la Matrice de détermination\n",
    "            tmp = np.multiply(lAngleMat, lNeuronFieldFrame)\n",
    "        except:\n",
    "            print(\"error 10 : \")\n",
    "            print(\"lAngleMat\")\n",
    "            print(lAngleMat)\n",
    "            print(\"lNeuronFieldFrame\")\n",
    "            print(lNeuronFieldFrame)\n",
    "            print(\"lintX\")\n",
    "            print(lintX)\n",
    "            print(\"lintY\")\n",
    "            print(lintY)\n",
    "            print(\"lHalfL\")\n",
    "            print(lHalfL)\n",
    "            continue\n",
    "\n",
    "        lNeuronFieldValues = tmp[np.nonzero(tmp)]\n",
    "        if lVerbose:\n",
    "            print(\"lNeuronFieldFrame :\")\n",
    "            print(lNeuronFieldFrame)\n",
    "            print(\"np.multiply(lAngleMat, lNeuronFieldFrame)\")\n",
    "            print(tmp)\n",
    "            print(\"lNeuronFieldValues\")\n",
    "            print(lNeuronFieldValues)\n",
    "        if (np.mean(lNeuronFieldValues)) < 0:\n",
    "            lNeuronFieldValues[lNeuronFieldValues > 89] = -90\n",
    "        elif np.std(lNeuronFieldValues) > 45:\n",
    "            lNeuronFieldValues[lNeuronFieldValues > 89] = -90\n",
    "        if (lNeuronFieldValues.size > 0):\n",
    "            lpNeurons.loc[pos, ['angle']] = np.mean(lNeuronFieldValues)\n",
    "            lpNeurons.loc[pos, ['weight']] = sigmoidActivationFctN1(\n",
    "                lNeuronFieldValues)\n",
    "            lpNeurons.loc[pos, ['precision']] = np.std(lNeuronFieldValues)\n",
    "            lpNeurons.loc[pos, ['xPos']] = lintX\n",
    "            lpNeurons.loc[pos, ['yPos']] = lintY\n",
    "            if (np.abs(np.mean(lNeuronFieldValues)) < 90):\n",
    "                lpNeurons.loc[pos, ['layer']] = np.around(lintY +\n",
    "                    np.sin(np.around(np.mean(lNeuronFieldValues)) / 180 * np.pi) *\n",
    "                    lintX);\n",
    "            else:\n",
    "                lpNeurons.loc[pos, ['layer']] = frameE.shape[0] + lintX;\n",
    "            lnPos += 1\n",
    "        else:\n",
    "            True  #print (\"error it shouldn't be zero\")\n",
    "        pos += 1\n",
    "    if lVerbose:\n",
    "        print(\"nb de positions couvertes : \" + str(lnPos) + \" sur \" + str(pos))\n",
    "\n",
    "    return lpNeurons"
   ]
  },
  {
   "cell_type": "code",
   "execution_count": null,
   "metadata": {
    "ExecuteTime": {
     "start_time": "2019-07-22T16:46:20.946Z"
    }
   },
   "outputs": [],
   "source": [
    "@jit(nopython=True, parallel=True)\n",
    "def getFieldNeuronPopulation(lframe,\n",
    "                             lintTailleField=tailleField,\n",
    "                             typeList=NeuronType,\n",
    "                             lVerbose=False):\n",
    "\n",
    "    indices = np.where(lframe != [0])\n",
    "\n",
    "    lTmpNbPixels = nbPixelField(indices[0], indices[1], lframe,\n",
    "                                lintTailleField)\n",
    "\n",
    "    return getNeuronActivationList(indices[0], indices[1], lintTailleField,\n",
    "                                   lframe, lTmpNbPixels, typeList, lVerbose)"
   ]
  },
  {
   "cell_type": "markdown",
   "metadata": {},
   "source": [
    "## Nombre de pixels actifs dans chaque champs récepteur\n",
    "A partir des coordonnées des centres supposés de chaque champs récepteurs et de la taille du champs récepteur, recherche sur la frame bitmap passée en paramètres, retourne un tableau contenant le nombre de pixels allumés à l'intérieur de chacun de ces champs."
   ]
  },
  {
   "cell_type": "code",
   "execution_count": null,
   "metadata": {
    "ExecuteTime": {
     "start_time": "2019-07-22T16:46:20.955Z"
    }
   },
   "outputs": [],
   "source": [
    "@jit(nopython=True, parallel=True)\n",
    "def nbPixelField(lTableX, lTableY, lFrameEdge, lintTailleField=tailleField):\n",
    "    lIdx = 0\n",
    "    lResults = np.zeros(lTableX.size)\n",
    "    lRayon = np.floor(lintTailleField / 2)\n",
    "    lTailleMaxX = lFrameEdge.shape[0]\n",
    "    #lTailleMaxY = lFrameEdge.shape[1]\n",
    "    lHalfX = lTailleMaxX / 3\n",
    "\n",
    "    for lPosX in lTableX:\n",
    "        lPosY = lTableY[lIdx]\n",
    "        if lPosX > lHalfX and lPosX >= lRayon and (lPosX +\n",
    "                                                   lRayon) < lTailleMaxX:\n",
    "            lResults[lIdx] = np.sum(\n",
    "                lFrameEdge[int(lPosX - lRayon):int(lPosX + lRayon + 1),\n",
    "                           int(lPosY - lRayon):int(lPosY + lRayon + 1)] / 255)\n",
    "        lIdx += 1\n",
    "    return lResults"
   ]
  },
  {
   "cell_type": "code",
   "execution_count": null,
   "metadata": {
    "ExecuteTime": {
     "start_time": "2019-07-22T16:46:20.964Z"
    }
   },
   "outputs": [],
   "source": [
    "@jit(nopython=True, parallel=True)\n",
    "def getNonZero(LImg):\n",
    "    return np.where(LImg != [0])"
   ]
  },
  {
   "cell_type": "markdown",
   "metadata": {},
   "source": [
    "## Coordonnées de la fonction de base (ligne)"
   ]
  },
  {
   "cell_type": "code",
   "execution_count": null,
   "metadata": {
    "ExecuteTime": {
     "start_time": "2019-07-22T16:46:20.973Z"
    }
   },
   "outputs": [],
   "source": [
    "@jit(nopython=True, parallel=True)\n",
    "def getNFCoordinate(lNeurone,lVerbose=False):\n",
    "    try:\n",
    "        lintDist = int(np.floor(lNeurone.longueur / 2))\n",
    "    except:\n",
    "        lP1 = (0, 0)\n",
    "        lP2 = (0, 0)\n",
    "        return (lP1, lP2)\n",
    "    if np.abs(lNeurone.angle) < 45:\n",
    "        lAlpha = lNeurone.angle / 180 * pi\n",
    "        lintY1 = np.around(lNeurone.yPos - lintDist * np.tan(lAlpha))\n",
    "        lintX1 = lNeurone.xPos + lintDist\n",
    "        lintY2 = np.around(lNeurone.yPos + lintDist * np.tan(lAlpha))\n",
    "        lintX2 = lNeurone.xPos - lintDist\n",
    "    else:\n",
    "        lAlpha = (90 - lNeurone.angle) / 180 * pi\n",
    "        if lVerbose:\n",
    "            print(\"Angle : \"+str(lNeurone.angle))\n",
    "            print(\"yPos = \"+str(lNeurone.yPos)+\"xPos = \"+str(lNeurone.xPos))\n",
    "        lintX1 = np.around(lNeurone.xPos - lintDist * np.tan(lAlpha))\n",
    "        lintY1 = lNeurone.yPos + lintDist\n",
    "        lintX2 = np.around(lNeurone.xPos + lintDist * np.tan(lAlpha))\n",
    "        lintY2 = lNeurone.yPos - lintDist\n",
    "    lP1 = (int(lintY1), int(lintX1))\n",
    "    lP2 = (int(lintY2), int(lintX2))\n",
    "    if lVerbose:\n",
    "        print(\"point 1: \"+str(lP1))\n",
    "        print(\"point 2: \"+str(lP2))\n",
    "        print(\"\")\n",
    "    return lP1, lP2"
   ]
  },
  {
   "cell_type": "markdown",
   "metadata": {},
   "source": [
    "## Calcule la distance entre deux points"
   ]
  },
  {
   "cell_type": "code",
   "execution_count": null,
   "metadata": {
    "ExecuteTime": {
     "start_time": "2019-07-22T16:46:20.982Z"
    }
   },
   "outputs": [],
   "source": [
    "@jit(nopython=True, parallel=True)\n",
    "def getDistance(lx1, ly1, lx2, ly2):\n",
    "    return np.sqrt(\n",
    "        np.power(np.abs(lx1 - lx2), 2) + np.power(np.abs(ly1 - ly2), 2))"
   ]
  },
  {
   "cell_type": "markdown",
   "metadata": {},
   "source": [
    "## Retourne les neurones les plus proches d'un point"
   ]
  },
  {
   "cell_type": "code",
   "execution_count": null,
   "metadata": {
    "ExecuteTime": {
     "start_time": "2019-07-22T16:46:20.992Z"
    }
   },
   "outputs": [],
   "source": [
    "@jit(nopython=True, parallel=True)\n",
    "def closestFieldNeurons(lneuronList, lposX, lposY, ldistance):\n",
    "    return lneuronList[(lneuronList.xPos >= lposX - ldistance)\n",
    "                       & (lneuronList.xPos <= lposX + ldistance) &\n",
    "                       (lneuronList.yPos >= lposY - ldistance) &\n",
    "                       (lneuronList.yPos <= lposY + ldistance)]"
   ]
  },
  {
   "cell_type": "markdown",
   "metadata": {},
   "source": [
    "## Crée un neurone avec les paramètres passés"
   ]
  },
  {
   "cell_type": "code",
   "execution_count": null,
   "metadata": {
    "ExecuteTime": {
     "start_time": "2019-07-22T16:46:21.001Z"
    }
   },
   "outputs": [],
   "source": [
    "@jit(nopython=True, parallel=True)\n",
    "def createNeuron(llong, langle, lXpos, lYpos, lweight=255, lprecis=0, lGroup=0, llayer=0, lNType=NeuronType):\n",
    "    lNeurons = np.zeros(1, dtype=lNType);\n",
    "    lpNeurons = pd.DataFrame(lNeurons);\n",
    "    lpNeurons['longueur'] = llong;\n",
    "    lpNeurons['angle'] = langle;\n",
    "    lpNeurons['weight'] = lweight;\n",
    "    lpNeurons['precision'] = lprecis;\n",
    "    lpNeurons['xPos'] = lXpos;\n",
    "    lpNeurons['yPos'] = lYpos;\n",
    "    lpNeurons['groupID'] = lGroup;\n",
    "    lpNeurons['layer'] = llayer;\n",
    "    return lpNeurons;"
   ]
  },
  {
   "cell_type": "markdown",
   "metadata": {},
   "source": [
    "## Dessine les fonctions de base des neurones sur un bitmap"
   ]
  },
  {
   "cell_type": "code",
   "execution_count": null,
   "metadata": {
    "ExecuteTime": {
     "start_time": "2019-07-22T16:46:21.011Z"
    }
   },
   "outputs": [],
   "source": [
    "@jit(nopython=True, parallel=True)\n",
    "def drawFieldNeurons(lNeuronList,\n",
    "                     lBitmap,\n",
    "                     lVerbose=False,\n",
    "                     lGroupMember=0,\n",
    "                     lLayer=0,\n",
    "                     lLayerRange=0,\n",
    "                     lAngle=0,\n",
    "                     lAngleRange=0):\n",
    "    lInitShow = 8\n",
    "    if lVerbose:\n",
    "        print (\"WARNING 50 : In Verbose Mode all data are not displayed on frame!\");\n",
    "        lInitShow = 0\n",
    "    lIndexPassOver = lInitShow\n",
    "    for _, lNeuron in lNeuronList.iterrows():\n",
    "        if lGroupMember > 0:\n",
    "            if lNeuron.groupID != lGroupMember:\n",
    "                continue\n",
    "        if lLayer != 0:\n",
    "            if (lNeuron.layer < lLayer - lLayerRange) or (\n",
    "                    lNeuron.layer > lLayer + lLayerRange):\n",
    "                continue\n",
    "        if lAngle != 0:\n",
    "            if (lNeuron.angle < lAngle - lAngleRange) or (\n",
    "                    lNeuron.angle > lAngle + lAngleRange):\n",
    "                continue\n",
    "        lCoord = getNFCoordinate(lNeuron, lVerbose)\n",
    "        if lVerbose:\n",
    "            print(\"Neuron : \"+str(lNeuron));\n",
    "            print(\"Coordonnées : \"+str(lCoord));\n",
    "        if lIndexPassOver > 7:\n",
    "            lIndexPassOver = lInitShow\n",
    "            try:\n",
    "                cv2.line(\n",
    "                    lBitmap,\n",
    "                    lCoord[0],\n",
    "                    lCoord[1],\n",
    "                    #        (255, 255, 255), 1)\n",
    "                    (int(lNeuron.weight), int(\n",
    "                        lNeuron.weight), int(lNeuron.weight)),\n",
    "                    1)\n",
    "            except:\n",
    "                True\n",
    "        if lVerbose:\n",
    "            lIndexPassOver += 1\n",
    "    return lBitmap"
   ]
  },
  {
   "cell_type": "markdown",
   "metadata": {
    "ExecuteTime": {
     "end_time": "2019-07-18T17:53:27.662094Z",
     "start_time": "2019-07-18T17:53:27.647097Z"
    }
   },
   "source": [
    "## Find neuronal groups\n",
    "Un groupe neuronal est un ensemble de neurone dont les champs récepteurs sont complémentaires les uns des autres. Pour faire  partie d'un champs récepteur, deux conditions doivent être réunies.\n",
    "<b>(A compléter)</b>\n",
    "### Translation\n",
    "Retourne les coordonnées d'un point translaté d'une certaine distance avec un certain angle. Cette fonction demande un angle, une distance et les coordonnées d'un point de départ. Il retourne ensuite les coordonnées après translation."
   ]
  },
  {
   "cell_type": "code",
   "execution_count": null,
   "metadata": {
    "ExecuteTime": {
     "start_time": "2019-07-22T16:46:21.021Z"
    }
   },
   "outputs": [],
   "source": [
    "@jit(nopython=True, parallel=True)\n",
    "def moveCoordDeg(langle, lstartX, lstartY, ldistance, lVerbose=False):\n",
    "    if lVerbose:\n",
    "        ##DEBUG\n",
    "        print(\"* moveCoordDeg(\" + str(float(langle)) + \",\" +\n",
    "              str(int(lstartX)) + \",\" + str(int(lstartY)) +\n",
    "              \",\" + str(int(ldistance))+\")\")\n",
    "        ##DEBUG\n",
    "    ltipX = lstartX + ldistance * np.cos(langle / 180 * pi)\n",
    "    ltipY = lstartY - ldistance * np.sin(langle / 180 * pi)\n",
    "    if lVerbose:\n",
    "        print (\"* coord ==> (\"+str(ltipX)+\",\"+str(ltipY))\n",
    "    return ltipX, ltipY"
   ]
  },
  {
   "cell_type": "markdown",
   "metadata": {},
   "source": [
    "Effectue le même calcul que la fonction <i>moveCoordDeg </i>  mais prend comme paramètre un neurone. Il effectue la translation en prenant comme point de départ le centre du champs récepteur et effectue un déplacement de la taille de ce champs dans la direction de la fonction de base. "
   ]
  },
  {
   "cell_type": "code",
   "execution_count": null,
   "metadata": {
    "ExecuteTime": {
     "start_time": "2019-07-22T16:46:21.031Z"
    }
   },
   "outputs": [],
   "source": [
    "@jit(nopython=True, parallel=True)\n",
    "def getNextPosition(lneuroneMoyen, lVerbose): \n",
    "    return moveCoordDeg(float(lneuroneMoyen.angle), int(lneuroneMoyen.xPos),\n",
    "                        int(lneuroneMoyen.yPos), int(lneuroneMoyen.longueur), lVerbose)"
   ]
  },
  {
   "cell_type": "markdown",
   "metadata": {},
   "source": [
    "### Calcul des  groupes à partir d'une liste de neurones à champs récepteurs"
   ]
  },
  {
   "cell_type": "code",
   "execution_count": null,
   "metadata": {
    "ExecuteTime": {
     "start_time": "2019-07-22T16:46:21.042Z"
    }
   },
   "outputs": [],
   "source": [
    "@jit(nopython=True, parallel=True)\n",
    "def findGroups(lneuronList, lVerbose=False):\n",
    "    # Sélection d'un nouveau numéro de Groupe (GroupID)\n",
    "    lintCurrentGroupID = 0\n",
    "    lintNbGroups = 0\n",
    "    lIndex = 0\n",
    "\n",
    "    ##DEBUG\n",
    "    lnbNeuron = 0\n",
    "    ##DEBUG\n",
    "    # liste des neurones sans groupe\n",
    "    lNoGroupList = lneuronList[lneuronList.groupID == 0]\n",
    "\n",
    "    while lNoGroupList.shape[0] > 0:\n",
    "\n",
    "        #Sélection d'un neurone dans la liste (ceux sans groupID ou groupID=0)\n",
    "        lMoyenNeuron = lNoGroupList.iloc[0]\n",
    "        lIndex = lNoGroupList.head().index.values[0]\n",
    "\n",
    "        while True:\n",
    "            #Assignation d'un nouveau numéro de GroupID en cours\n",
    "            lintNbGroups += 1\n",
    "            lintCurrentGroupID += 1\n",
    "            if lneuronList[lneuronList.groupID ==\n",
    "                           lintCurrentGroupID].shape[0] == 0:\n",
    "                break\n",
    "\n",
    "        lneuronList.loc[lIndex, ['groupID']] = lintCurrentGroupID\n",
    "\n",
    "        #déplacement\n",
    "        lnPos = getNextPosition(lMoyenNeuron, lVerbose)\n",
    "\n",
    "        #recherche de neurones proches\n",
    "        lClosestNeurons = closestFieldNeurons(\n",
    "            lneuronList, lnPos[0], lnPos[1],\n",
    "            int(np.floor(lMoyenNeuron.longueur / 2)))\n",
    "        if lVerbose:\n",
    "            print(\"\")\n",
    "            print(\"\")\n",
    "            print(\"Coordonnées en cours : (\" + str(lnPos[0]) + \",\" +\n",
    "                  str(lnPos[1]) + \")\")\n",
    "\n",
    "            lnbNeuron += 1\n",
    "            if lClosestNeurons.shape[0] == 0:\n",
    "                print(\"Aucun neurone a proximité pour le neurone #\" +\n",
    "                      str(lnbNeuron) + \" aux coordonnées : (\" + str(lnPos[0]) +\n",
    "                      \",\" + str(lnPos[1]) + str(\") a la distance :\") +\n",
    "                      str(int(np.floor(lMoyenNeuron.longueur / 2))))\n",
    "\n",
    "            #Oui ==> retour étape 1\n",
    "            lNbFindGroup = 0\n",
    "\n",
    "        while lClosestNeurons.shape[0] != 0:\n",
    "            #recherche des groupID dans cette sous-sélection\n",
    "            if lClosestNeurons[lClosestNeurons.groupID> 0].shape[0] == 0:\n",
    "                #Non => Assigner à tous les neurones de la sous-sélection\n",
    "                #le groupID en cours => aller directement à l'étape 7\n",
    "                if lVerbose:\n",
    "                    print(\"Aucun neurone dans le groupe : \" +\n",
    "                          str(lintCurrentGroupID))\n",
    "\n",
    "                for lintIdx in lClosestNeurons.head().index.values:\n",
    "                    lneuronList.loc[lintIdx, ['groupID']] = lintCurrentGroupID\n",
    "            else:\n",
    "                #Oui\n",
    "                if lVerbose:\n",
    "                    ##DEBUG\n",
    "                    #lNbFindGroup += 1\n",
    "                    print(\"Trouvé \" + str(lClosestNeurons[\n",
    "                        lClosestNeurons.groupID > 0].shape[0]) +\n",
    "                          \" neurone(s) déja dans des groupes :\")\n",
    "                    print(\"Groupe en cours : \" + str(lintCurrentGroupID))\n",
    "\n",
    "                #Récupération de la liste de tous les groupID utilisés\n",
    "                #Sélection du groupID le plus petit\n",
    "                #(en comparant aussi avec le groupID en cours)\n",
    "                lintPreviousGroupID = lintCurrentGroupID\n",
    "                lintCurrentGroupID = np.min(\n",
    "                    lClosestNeurons[lClosestNeurons.groupID > 0].groupID)\n",
    "                if lVerbose:\n",
    "                    print(\"Change pour le groupe #\" + str(lintCurrentGroupID))\n",
    "                    print(\"-\")\n",
    "                #Assigner au neurone en cours le nouveau groupe\n",
    "                lneuronList.loc[lIndex, ['groupID']] = lintCurrentGroupID\n",
    "                #Assigner à tous les neurones de la sous-sélection ce nouveau groupID\n",
    "                for lintIdx in lClosestNeurons.head().index.values:\n",
    "                    lneuronList.loc[lintIdx, ['groupID']] = lintCurrentGroupID\n",
    "                    #remplacer dans la liste globale,\n",
    "                    #pour chaque groupID présent dans la liste par le nouveau groupID\n",
    "                    for lintGroupID in lClosestNeurons[\n",
    "                            lClosestNeurons.groupID > 0].groupID:\n",
    "                        lneuronList.loc[lneuronList.groupID == lintGroupID,\n",
    "                                        'groupID'] = lintCurrentGroupID\n",
    "                if lintPreviousGroupID == lintCurrentGroupID:\n",
    "                    #si tous les neurones\n",
    "                    if lClosestNeurons[lClosestNeurons.groupID >\n",
    "                                       0].shape[0] == lClosestNeurons[\n",
    "                                           lClosestNeurons.groupID ==\n",
    "                                           lintPreviousGroupID].shape[0]:\n",
    "                        break  # sortie de la boucle while\n",
    "            if lVerbose:\n",
    "                #Calcul du neurone Field moyen\n",
    "                print(\"Neurones trouvé :\")\n",
    "                print(lClosestNeurons)\n",
    "            lMoyenNeuron = getAvgFieldNeuron(lClosestNeurons)\n",
    "            if lVerbose:\n",
    "                print(\"neurone Moyen\")\n",
    "                print(lMoyenNeuron)\n",
    "            #déplacement\n",
    "            lnPos = getNextPosition(lMoyenNeuron, lVerbose)\n",
    "\n",
    "            #recherche de neurones proches\n",
    "            lClosestNeurons = closestFieldNeurons(\n",
    "                lneuronList, lnPos[0], lnPos[1],\n",
    "                int(np.floor(lMoyenNeuron.longueur / 2)))\n",
    "\n",
    "        lNoGroupList = lneuronList[lneuronList.groupID == 0]\n",
    "    return lneuronList"
   ]
  },
  {
   "cell_type": "markdown",
   "metadata": {},
   "source": [
    "## Get the Weighted Average of the group Angle (WAGA)"
   ]
  },
  {
   "cell_type": "code",
   "execution_count": null,
   "metadata": {
    "ExecuteTime": {
     "start_time": "2019-07-22T16:46:21.052Z"
    }
   },
   "outputs": [],
   "source": [
    "@jit(nopython=True, parallel=True)\n",
    "def getWAGA(lNeuronList, lGroupID):\n",
    "    lnl = lNeuronList[lNeuronList.groupID==lGroupID]\n",
    "    return float(np.sum((lnl.angle * lnl.weight) /\n",
    "               np.sum(lnl.weight)))"
   ]
  },
  {
   "cell_type": "markdown",
   "metadata": {},
   "source": [
    "## Another Better way to form a group : Line Neurons\n",
    "### Get main neurons forming a group"
   ]
  },
  {
   "cell_type": "code",
   "execution_count": null,
   "metadata": {
    "ExecuteTime": {
     "start_time": "2019-07-22T16:46:21.062Z"
    }
   },
   "outputs": [],
   "source": [
    "@jit(nopython=True, parallel=True)\n",
    "def getMainNeurons(lNeuronList,\n",
    "                   Order=0,\n",
    "                   lVerbose=False,\n",
    "                   binSizeLayer=256,\n",
    "                   binSizeAngle=45,\n",
    "                  lLargeurSeuil=10):\n",
    "\n",
    "    lMargin = pd.Series([0, 0])\n",
    "    \n",
    "    ######## Histogramme des Layers dans la population de neurones ####\n",
    "    lLayerHist = (lNeuronList['layer'].pipe(lambda s: pd.Series(\n",
    "        np.histogram(s, bins=binSizeLayer))).pipe(lambda s: pd.Series(\n",
    "            s[0], index=s[1][:-1])))\n",
    "\n",
    "    lLayerHist = lLayerHist.append(lMargin)\n",
    "    lLayerHist = lMargin.append(lLayerHist)\n",
    "    \n",
    "    ######## Détection des pics des Layers les plus fréquents ########\n",
    "    peaks, ldict = find_peaks(lLayerHist, height=tailleField/2)\n",
    "\n",
    "    if lVerbose:\n",
    "        ser = lLayerHist.to_numpy()\n",
    "        plt.plot(ser)\n",
    "        plt.plot(peaks, ser[peaks], \"x\")\n",
    "        plt.plot(np.zeros_like(ser), \"--\", color=\"gray\")\n",
    "        plt.ylabel('frequency')\n",
    "        plt.show()\n",
    "        print(\"number of group found : \" + str(len(peaks)))\n",
    "\n",
    "    lidx2 = 0\n",
    "    lCurrentOrder = 0\n",
    "    while lCurrentOrder <= Order:\n",
    "        if (np.sum(ldict['peak_heights']) == 0):\n",
    "            print(\"ERROR 40 : exceed number of group found\")\n",
    "            return lNeuronList, lNeuronList\n",
    "        try:\n",
    "            lidx2 = peaks[np.argmax(ldict['peak_heights'])]\n",
    "        except:\n",
    "            print(\"ERROR 30 : no neuron found\")\n",
    "            continue\n",
    "        lidx1 = np.argmax(ldict['peak_heights'])\n",
    "        if lVerbose:\n",
    "            print(\"Order = \"+str(Order)+\" & CurrentOrder =  \"+str(lCurrentOrder))\n",
    "            print(\"np.argmax(ldict['peak_heights']) -> \"+str(lidx1));\n",
    "            print(\"list of peaks : \"+str(peaks));\n",
    "            print(\"height of peaks : \"+str(ldict['peak_heights']));\n",
    "        ldict['peak_heights'][lidx1] = 0\n",
    "        lCurrentOrder += 1\n",
    "\n",
    "    ######### Récupération de la valeur de layer correspondant au pic ##\n",
    "    lLayerPic = lLayerHist.index.values[lidx2:lidx2 + 1][0]\n",
    "    if lVerbose:\n",
    "        print(\"Layer = \" + str(lLayerPic))\n",
    "\n",
    "    ######### Récupération de la sous-population dans une certaine Layer\n",
    "    lNeuronTopLayer = lNeuronList[(lNeuronList.layer >= (lLayerPic - lLargeurSeuil))\n",
    "                                  & (lNeuronList.layer <= (lLayerPic + lLargeurSeuil))]\n",
    "    lAngleHist = lNeuronTopLayer['angle'].pipe(lambda s: pd.Series(\n",
    "        np.histogram(s, bins=binSizeAngle))).pipe(lambda s: pd.Series(\n",
    "            s[0], index=s[1][:-1]))\n",
    "    \n",
    "    lAngleHist = lAngleHist.append(lMargin)\n",
    "    lAngleHist = lMargin.append(lAngleHist)\n",
    "\n",
    "    ######### Detection de l'angle le plus fréquent ###################\n",
    "    peaks, ldictAngle = find_peaks(lAngleHist, height=tailleField/2)\n",
    "    if lVerbose:\n",
    "        print(\"number of ANGLE found : \" + str(len(peaks)))\n",
    "    try:\n",
    "        lidx2 = peaks[np.argmax(ldictAngle['peak_heights'])]\n",
    "    except:\n",
    "        if lVerbose:\n",
    "            print(\"ERROR 20 : no neuron found\")\n",
    "        return lNeuronTopLayer\n",
    "    lAnglePic = lAngleHist.index.values[lidx2:lidx2 + 1][0]\n",
    "\n",
    "    if lVerbose:\n",
    "        print(\"Angle = \" + str(lAnglePic))\n",
    "\n",
    "    lNeuronTopLayer = lNeuronList[(lNeuronList.layer >= (lLayerPic - lLargeurSeuil))\n",
    "                                  & (lNeuronList.layer <= (lLayerPic + lLargeurSeuil))\n",
    "                                  & (lNeuronList.angle >= (lAnglePic - lLargeurSeuil))\n",
    "                                  & (lNeuronList.angle <= (lAnglePic + lLargeurSeuil))];\n",
    "    LNLIndex = lNeuronList[(lNeuronList.layer >= (lLayerPic - lLargeurSeuil))\n",
    "                                  & (lNeuronList.layer <= (lLayerPic + lLargeurSeuil))\n",
    "                                  & (lNeuronList.angle >= (lAnglePic - lLargeurSeuil))\n",
    "                                  & (lNeuronList.angle <= (lAnglePic + lLargeurSeuil))].index;\n",
    "    LNL2 = lNeuronList.drop(LNLIndex);\n",
    "\n",
    "    if lVerbose:\n",
    "        print(\"Number of neurons in this group : \" + str(len(lNeuronTopLayer)))\n",
    "\n",
    "    return lNeuronTopLayer,LNL2"
   ]
  },
  {
   "cell_type": "markdown",
   "metadata": {},
   "source": [
    "### Get Line Neuron \n",
    "In order to replace a list of smaller Field Neuron"
   ]
  },
  {
   "cell_type": "code",
   "execution_count": null,
   "metadata": {
    "ExecuteTime": {
     "start_time": "2019-07-22T16:46:21.072Z"
    }
   },
   "outputs": [],
   "source": [
    "@jit(nopython=True, parallel=True)\n",
    "def getLineNeuron(lNeuronList, lGroupID=0, typeList=NeuronType):\n",
    "    lNeurons = getAvgFieldNeuron(lNeuronList, typeList)\n",
    "    lTMPx1 = np.max(lNeuronList.xPos)\n",
    "    lTMPx2 = np.min(lNeuronList.xPos)\n",
    "    lTMPy1 = np.max(lNeuronList.yPos)\n",
    "    lTMPy2 = np.min(lNeuronList.yPos)\n",
    "    lNeurons.groupID = lGroupID;\n",
    "    lNeurons.longueur = np.ceil(getDistance(lTMPx1,lTMPy1,lTMPx2,lTMPy2))\n",
    "    return lNeurons"
   ]
  },
  {
   "cell_type": "markdown",
   "metadata": {},
   "source": [
    "## Get a population of Line Number\n",
    "### Get Group Number in Field Neurons List\n",
    "Pour faire une boucle sur l'ensemble des neurones Field, il faut connaitre le nombre de groupes principaux il est possible de former."
   ]
  },
  {
   "cell_type": "code",
   "execution_count": null,
   "metadata": {
    "ExecuteTime": {
     "start_time": "2019-07-22T16:46:21.083Z"
    }
   },
   "outputs": [],
   "source": [
    "@jit(nopython=True, parallel=True)\n",
    "def getGroupNumber(lNeuronList,\n",
    "                   lVerbose=False,\n",
    "                   binSizeLayer=256):   \n",
    "    \n",
    "    lMargin = pd.Series([0, 0])\n",
    "    \n",
    "    ######## Histogramme des Layers dans la population de neurones ####\n",
    "    lLayerHist = (lNeuronList['layer'].pipe(lambda s: pd.Series(\n",
    "        np.histogram(s, bins=binSizeLayer))).pipe(lambda s: pd.Series(\n",
    "            s[0], index=s[1][:-1])))\n",
    "    \n",
    "    lLayerHist = lLayerHist.append(lMargin)\n",
    "    lLayerHist = lMargin.append(lLayerHist)\n",
    "    \n",
    "    ######## Détection des pics des Layers les plus fréquent ############\n",
    "    peaks, _ = find_peaks(lLayerHist, height=tailleField/2);\n",
    "    if lVerbose:\n",
    "        print(\"Looking for \"+str(len(peaks))+ \" peaks in a loop\");\n",
    "    return len(peaks)"
   ]
  },
  {
   "cell_type": "markdown",
   "metadata": {},
   "source": [
    "### get whole population of List Neurons"
   ]
  },
  {
   "cell_type": "code",
   "execution_count": null,
   "metadata": {
    "ExecuteTime": {
     "start_time": "2019-07-22T16:46:21.093Z"
    }
   },
   "outputs": [],
   "source": [
    "@jit(nopython=True, parallel=True)\n",
    "def getLineNeuronList(lNeuronList,\n",
    "                      MaxNbNeurons=0,\n",
    "                      lVerbose=False,\n",
    "                      binSizeLayer=256,\n",
    "                      binSizeAngle=45,\n",
    "                      lNeuronType=NeuronType):\n",
    "    if MaxNbNeurons == 0:\n",
    "        nbNeurons = getGroupNumber(lNeuronList, lVerbose, binSizeLayer)\n",
    "    else:\n",
    "        nbNeurons = MaxNbNeurons;\n",
    "    lNeurons = np.zeros(nbNeurons, dtype=lNeuronType)\n",
    "    lpNeurons = pd.DataFrame(lNeurons)\n",
    "\n",
    "    LTMPNeurons = lNeuronList\n",
    "    for lTmpI in range(0, nbNeurons):         \n",
    "        lTMPNeuronLIST, LTMPNeurons = getMainNeurons(LTMPNeurons, 0, lVerbose,binSizeLayer, binSizeAngle);\n",
    "        \n",
    "        lTmpNeuron = getLineNeuron(lTMPNeuronLIST, lTmpI, lNeuronType);\n",
    "        lTmpNeuron = pd.DataFrame(lTmpNeuron) \n",
    "        if lVerbose:\n",
    "            print(getWAGA(lTMPNeuronLIST,0))\n",
    "        lpNeurons.loc[lTmpI, ['longueur']] = lTmpNeuron.longueur[0]\n",
    "        lpNeurons.loc[lTmpI, ['angle']] = lTmpNeuron.angle[0]\n",
    "        lpNeurons.loc[lTmpI, ['weight']] = lTmpNeuron.weight[0]\n",
    "        lpNeurons.loc[lTmpI, ['precision']] = lTmpNeuron.precision[0]\n",
    "        lpNeurons.loc[lTmpI, ['xPos']] = lTmpNeuron.xPos[0]\n",
    "        lpNeurons.loc[lTmpI, ['yPos']] = lTmpNeuron.yPos[0]\n",
    "        lpNeurons.loc[lTmpI, ['groupID']] = lTmpNeuron.groupID[0]\n",
    "        lpNeurons.loc[lTmpI, ['layer']] = len(lTMPNeuronLIST)#lTmpNeuron.layer[0]\n",
    "\n",
    "    return lpNeurons;"
   ]
  },
  {
   "cell_type": "markdown",
   "metadata": {},
   "source": [
    "## Get smaller frame from Line Neuron"
   ]
  },
  {
   "cell_type": "code",
   "execution_count": null,
   "metadata": {
    "ExecuteTime": {
     "start_time": "2019-07-22T16:46:21.103Z"
    }
   },
   "outputs": [],
   "source": [
    "@jit(nopython=True, parallel=True)\n",
    "def getSmallerFrame(lLineNeuron, frame, lRessert= False, lVerbose=False):\n",
    "    ((lTMPx1,lTMPy1),(lTMPx2,lTMPy2)) = getNFCoordinate(lLineNeuron)\n",
    "    if lVerbose:\n",
    "        print (((lTMPx1,lTMPy1),(lTMPx2,lTMPy2)))\n",
    "    if lRessert:\n",
    "        lMargin = 0.5;\n",
    "    else:\n",
    "        lMargin = 2 * tailleField\n",
    "    if lTMPx1<=lTMPx2:\n",
    "        lTMPx1 = int(lTMPx1 - lMargin)\n",
    "        lTMPx2 = int(lTMPx2 + lMargin)\n",
    "    else:\n",
    "        lTMPx1 = int(lTMPx2 - lMargin)\n",
    "        lTMPx2 = int(lTMPx1 + lMargin)\n",
    "    if lTMPy2 <= lTMPy1:\n",
    "        lTMPy1 = int(lTMPy1 + lMargin)    \n",
    "        lTMPy2 = int(lTMPy2 - lMargin)\n",
    "    else:\n",
    "        lTMPy1 = int(lTMPy2 + lMargin)    \n",
    "        lTMPy2 = int(lTMPy1 - lMargin)\n",
    "    if lVerbose:\n",
    "        print (((lTMPx1,lTMPy1),(lTMPx2,lTMPy2)))\n",
    "    return frame[lTMPy2:lTMPy1,lTMPx1:lTMPx2]"
   ]
  },
  {
   "cell_type": "markdown",
   "metadata": {},
   "source": [
    "## Get the errors\n",
    "\n",
    "Une erreur est l'écart existant entre une frame originale et sa reconstruction à partir de neurones Field ou Line. Afin de calculer l'erreur, il faut faire la différence entre la frame originale et la frame reconstruite. La somme des neurones restants constituent l'erreur brut. Mais cette erreur est encore plus pertinente si elle est relative au nombre total de pixels que la frame possédait initialement. On obtient ainsi une valeur flottante comprise entre 0 et 1 si l'erreur est inférieur à la frame originale voire supérieure à 1 si la reconstruction empire la situation.\n"
   ]
  },
  {
   "cell_type": "code",
   "execution_count": null,
   "metadata": {
    "ExecuteTime": {
     "start_time": "2019-07-22T16:46:21.112Z"
    }
   },
   "outputs": [],
   "source": [
    "@jit(nopython=True, parallel=True)\n",
    "def getNeuroneReceptiveField(lmnFrame, lNeuron, lVerbose=False):\n",
    "    lBitmapNN = np.zeros((lmnFrame.shape[0],lmnFrame.shape[1]))\n",
    "    \n",
    "    lTMPNeuronMini = lNeuron;\n",
    "    lTMPNeuronMini.xPos = int(np.floor(lmnFrame.shape[0]/2))\n",
    "    lTMPNeuronMini.yPos = int(np.floor(lmnFrame.shape[1]/2))\n",
    "    \n",
    "    lBitmapNN = drawFieldNeurons(lTMPNeuronMini, lBitmapNN,0,0)\n",
    "    lBitmapNN[lBitmapNN>0]=1\n",
    "    return lBitmapNN"
   ]
  },
  {
   "cell_type": "code",
   "execution_count": null,
   "metadata": {
    "ExecuteTime": {
     "start_time": "2019-07-22T16:46:21.122Z"
    }
   },
   "outputs": [],
   "source": [
    "@jit(nopython=True, parallel=True)\n",
    "def getError(frameBase, frameTest, lVerbose=False):\n",
    "    lOrigBase = np.sum(frameBase)\n",
    "    lBrutError = np.sum(np.abs(frameBase - frameTest))\n",
    "\n",
    "    if lOrigBase != 0:\n",
    "        lRelativeError = lBrutError / lOrigBase\n",
    "    else:\n",
    "        lRelativeError = NOPIXELVALUE\n",
    "        if lVerbose:\n",
    "            print(\n",
    "            \"WARNING 60 : No pixel in the original frame at these coordinates\"\n",
    "            )\n",
    "\n",
    "    if lVerbose:\n",
    "        print(lTMPNeuronMini.xPos)\n",
    "        print(lTMPNeuronMini.yPos)\n",
    "        print(lOrigBase)\n",
    "        print(np.sum(frameTest))\n",
    "        print(lBrutError)\n",
    "        print(lRelativeError)\n",
    "    return lRelativeError"
   ]
  },
  {
   "cell_type": "markdown",
   "metadata": {},
   "source": [
    "### Get Mini Error\n",
    "L'erreur mini est celle entre la reconstruction donnée par <b>un neurone unique </b> et une mini frame originale, correspondant juste au field de ce neurone. Le field d'un neurone field est carré de dimension impaire pour avoir un pixel au centre. Tandis que le champs de perception d'un neurone ligne est rectangulaire car il correspond à la combinaison des champs de plusieurs neurones fields alignés."
   ]
  },
  {
   "cell_type": "code",
   "execution_count": null,
   "metadata": {
    "ExecuteTime": {
     "start_time": "2019-07-22T16:46:21.132Z"
    }
   },
   "outputs": [],
   "source": [
    "@jit(nopython=True, parallel=True)\n",
    "def getMiniError(lmnFrame, lNeuron, lVerbose=False):\n",
    "\n",
    "    lBitmapNN = getNeuroneReceptiveField(lmnFrame, lNeuron, lVerbose)\n",
    "    lmnFrame[lmnFrame > 0] = 1\n",
    "\n",
    "    return getError(lmnFrame, lBitmapNN, lVerbose)"
   ]
  },
  {
   "cell_type": "markdown",
   "metadata": {},
   "source": [
    "## Raffinage des neurones Lignes\n",
    "\n",
    "L'algorithme de détermination des neurones lignes est rapide et efficace. La contrepartie c'est qu'il peut faire des erreurs. Pour réduire ce problème, un algorithme de vérification est proposé. Cette vérification est plus approfondie mais elle profite de l'avantage du faible nombre de neurones lignes par rapport au nombre de neurones field pour être plus efficace.\n"
   ]
  },
  {
   "cell_type": "code",
   "execution_count": null,
   "metadata": {
    "ExecuteTime": {
     "start_time": "2019-07-22T16:46:21.142Z"
    }
   },
   "outputs": [],
   "source": [
    "@jit(nopython=True, parallel=True)\n",
    "def checkNeuronLineList(lNeuronLineList, OriginalFrame, lVerbose=False):\n",
    "    lTmpNList = lNeuronLineList\n",
    "    for index, lLNeuron in lTmpNList.iterrows():\n",
    "        lMiniFrame = getSmallerFrame(lLNeuron, OriginalFrame,0,lVerbose)\n",
    "        \n",
    "        lLNeuron = pd.DataFrame(lLNeuron).T;\n",
    "        lRError1 = getMiniError(lMiniFrame, lLNeuron, lVerbose);\n",
    "        \n",
    "        if lVerbose:\n",
    "            print(index);\n",
    "            print(lLNeuron);\n",
    "            print(lRError1);\n",
    "        if (lRError1==NOPIXELVALUE):\n",
    "            lTmpNList = lTmpNList.drop(index);\n",
    "            continue\n",
    "\n",
    "        lTmpIdx = np.where(lMiniFrame != [0])\n",
    "        lnbPixels = nbPixelField(lTmpIdx[0], lTmpIdx[1], lMiniFrame,\n",
    "                                   tailleField)\n",
    "        lTmpFieldNeuronList = getNeuronActivationList(lTmpIdx[0], lTmpIdx[1],\n",
    "                                                      tailleField, lMiniFrame,\n",
    "                                                      lnbPixels)\n",
    "        lNewAngle = getWAGA(lTmpFieldNeuronList,0)\n",
    "        \n",
    "        lLNeuron.angle = lNewAngle        \n",
    "        lRError2 = getMiniError(lMiniFrame, lLNeuron, lVerbose)\n",
    "        \n",
    "        if lVerbose:\n",
    "            print(lLNeuron)\n",
    "            print(lRError2)\n",
    "        if (lRError1>lRError2):\n",
    "            lTmpNList.loc[index, ['angle']] = lNewAngle\n",
    "    return lTmpNList"
   ]
  },
  {
   "cell_type": "markdown",
   "metadata": {},
   "source": [
    "## Masque pour les frames\n",
    "\n",
    "Permet d'ignorer les neurones fields ou pixels non directement impliqués, le masque est utile car du fait de la réalisation des matrices dans l'architecture d'un ordinateur, il est complexe de créer des matrices obliques pour regarder un rectangle oblique. Ce n'est pas impossible, mais nécessite des calculs de rotation et de translation afin de déterminer les correspondances. Une alternative moins couteuse sur le plan computationnel est de conserver l'orientation d'origine. L'inconvénient c'est que se retrouvent inclus des pixels qui ne devraient pas l'être au niveau des coins. Or ces coins peuvent avoir une taille plus importante que la zone réellement utile. Surtout dans des angles aux alentours de 45°. La manière la plus simple est donc d'utiliser un masque qui ne va conserver que la zone utile et supprimer les pixels indésirables."
   ]
  },
  {
   "cell_type": "code",
   "execution_count": null,
   "metadata": {
    "ExecuteTime": {
     "start_time": "2019-07-22T16:46:21.151Z"
    }
   },
   "outputs": [],
   "source": [
    "@jit(nopython=True, parallel=True)\n",
    "def getMask(lFrame, lMargin, lVerbose=False):\n",
    "    lBitMapMask = np.zeros((lFrame.shape[0],lFrame.shape[1]))\n",
    "    lTmpIdx = np.where(lFrame != [0])\n",
    "    if lVerbose:\n",
    "        print(\"taille de l'index : \"+str(len(lTmpIdx[0])))\n",
    "    for i in range(0, len(lTmpIdx[0])):\n",
    "        if lVerbose:\n",
    "            print(\n",
    "                str(lTmpIdx[0][i] - lMargin) + \":\" + str(lTmpIdx[0][i] + lMargin))\n",
    "            print(\n",
    "                str(lTmpIdx[1][i] - lMargin) + \":\" + str(lTmpIdx[1][i] + lMargin))\n",
    "        try:\n",
    "            if lVerbose:\n",
    "                print(lBitMapMask[lTmpIdx[0][i] - lMargin:lTmpIdx[0][i] +\n",
    "                            lMargin, lTmpIdx[1][i] - lMargin:lTmpIdx[1][i] +\n",
    "                            lMargin])\n",
    "            lBitMapMask[lTmpIdx[0][i] - lMargin:lTmpIdx[0][i] +\n",
    "                        lMargin, lTmpIdx[1][i] - lMargin:lTmpIdx[1][i] +\n",
    "                        lMargin] = 1\n",
    "        except:\n",
    "            continue\n",
    "    return lBitMapMask"
   ]
  },
  {
   "cell_type": "markdown",
   "metadata": {},
   "source": [
    "## Tableau des déplacements"
   ]
  },
  {
   "cell_type": "code",
   "execution_count": null,
   "metadata": {
    "ExecuteTime": {
     "start_time": "2019-07-22T16:46:21.160Z"
    }
   },
   "outputs": [],
   "source": [
    "@jit(nopython=True, parallel=True)\n",
    "def getVariation(lnewFrame,\n",
    "                 lLineNeuronList,\n",
    "                 lMoveTable,\n",
    "                 lVerbose=False,\n",
    "                 lMargin=tailleField\n",
    "                 ):\n",
    "\n",
    "    for i in range(0, len(lLineNeuronList)):\n",
    "\n",
    "        # 0 : modifier le neurone pour\n",
    "        # obtenir la nouvelle position et orientation\n",
    "        # à partir du tableau des déplacements lMoveTable\n",
    "        # ++++> TODO\n",
    "\n",
    "        # 1 : obtenir une mini Frame\n",
    "        lMiniFrame0 = getSmallerFrame(lLineNeuronList.loc[i], lnewFrame)\n",
    "\n",
    "        # 2 : le champs récepteur du neurone Ligne en cours\n",
    "        currentLineNeuron = pd.DataFrame(lLineNeuronList.loc[i]).T\n",
    "        lNeuronRF = getNeuroneReceptiveField(lMiniFrame0, currentLineNeuron)\n",
    "\n",
    "        # 3 : Calculer le masque à partir du champs récepteur\n",
    "        lCurrentMask = getMask(lNeuronRF, lMargin)\n",
    "\n",
    "        # 4 : Appliquer le masque\n",
    "        lMiniFrame0 = np.multiply(lMiniFrame0, lMiniFrame0)\n",
    "        # rationaliser les données\n",
    "        lMiniFrame0[lMiniFrame0 > 0] = 255\n",
    "\n",
    "        # 5 : Obtenir une population de neurones Field Points à l'intérieur du Field Ligne\n",
    "        lCurrentFNPop = getFieldNeuronPopulation(lMiniFrame0)\n",
    "\n",
    "        # 6 : Obtenir le neurone field moyen\n",
    "        # qui nous donne les orientations et positions\n",
    "        lCurrentAfN = getAvgFieldNeuron(lCurrentFNPop)\n",
    "\n",
    "        lMoveTable.loc[i, 'angle'] += lCurrentAfN.angle.to_numpy(\n",
    "        ) - currentLineNeuron.angle.to_numpy()\n",
    "        \n",
    "        lMoveTable.loc[i, 'weight'] += lCurrentAfN.weight.to_numpy(\n",
    "        ) - currentLineNeuron.weight.to_numpy()\n",
    "        \n",
    "        lMoveTable.loc[i, 'xPos'] += lCurrentAfN.xPos.to_numpy(\n",
    "        ) - currentLineNeuron.xPos.to_numpy()\n",
    "        \n",
    "        lMoveTable.loc[0, 'yPos'] += lCurrentAfN.yPos.to_numpy(\n",
    "        ) - currentLineNeuron.yPos.to_numpy()\n",
    "\n",
    "    return lMoveTable"
   ]
  },
  {
   "cell_type": "markdown",
   "metadata": {},
   "source": [
    "# Video Loop"
   ]
  },
  {
   "cell_type": "code",
   "execution_count": null,
   "metadata": {
    "ExecuteTime": {
     "start_time": "2019-07-22T16:46:21.169Z"
    }
   },
   "outputs": [],
   "source": [
    "kernelSize = 21  # Kernel Bluring size\n",
    "\n",
    "# Edge Detection Parameter\n",
    "parameter1 = 20\n",
    "parameter2 = 40\n",
    "intApertureSize = 1\n",
    "\n",
    "#cap = cv2.VideoCapture(0)\n",
    "cap = cv2.VideoCapture(fileName)\n",
    "lCounter = 0\n",
    "while (cap.isOpened()):\n",
    "    # Capture frame-by-frame\n",
    "    ret, Cannyframe = cap.read()\n",
    "    if ret == True:\n",
    "        # Our operations on the frame come here\n",
    "        if lCounter == 1:\n",
    "            Cannyframe = cv2.GaussianBlur(Cannyframe, (kernelSize, kernelSize), 0, 0)\n",
    "            Cannyframe = cv2.Canny(Cannyframe, parameter1, parameter2,\n",
    "                              intApertureSize)  # Canny edge detection\n",
    "            lCounter = 0\n",
    "            break\n",
    "        lCounter += 1\n",
    "\n",
    "        # Display the resulting frame\n",
    "        cv2.imshow('Edges Video', Cannyframe)\n",
    "        if cv2.waitKey(1) & 0xFF == ord('q'):  # press q to quit\n",
    "            break\n",
    "    else:\n",
    "        break\n",
    "# When everything done, release the capture\n",
    "cap.release()\n",
    "cv2.destroyAllWindows()"
   ]
  },
  {
   "cell_type": "markdown",
   "metadata": {},
   "source": [
    "# Sandbox\n",
    "## Toy data Generator"
   ]
  },
  {
   "cell_type": "code",
   "execution_count": null,
   "metadata": {
    "ExecuteTime": {
     "start_time": "2019-07-22T16:46:21.178Z"
    }
   },
   "outputs": [],
   "source": [
    "def generateToy(lType=1, lHauteur=80, lLargeur=128,lepaisseur=1):\n",
    "    lFrame = 0\n",
    "    if lType == 1:\n",
    "        lFrame = np.zeros((lHauteur, lLargeur))\n",
    "        lFrame[:, int((lLargeur-lepaisseur) / 2):int((lLargeur+lepaisseur) / 2)] = 255\n",
    "    elif lType == 2:\n",
    "        lFrame = np.zeros((lHauteur, lLargeur))\n",
    "        lFrame[int((lHauteur-lepaisseur) / 2):int((lHauteur+lepaisseur)/2), :] = 255\n",
    "    elif lType == 3:\n",
    "        lFrame = np.zeros((lHauteur, lLargeur))\n",
    "        cv2.line(lFrame, (int(lLargeur / 3), lHauteur),\n",
    "                 (int(2 * lLargeur / 3), 0), (255, 255, 255), lepaisseur)\n",
    "    elif lType == 4:\n",
    "        lFrame = np.zeros((lHauteur, lLargeur))\n",
    "        cv2.rectangle(lFrame,\n",
    "                      (int(lLargeur / 128 * 10), int(lHauteur / 80 * 30)),\n",
    "                      (int(lLargeur / 128 * 30), int(lHauteur / 80 * 50)),\n",
    "                      (255, 255, 255), lepaisseur)\n",
    "        pts = np.array([[int(lLargeur / 128 *64),\n",
    "                         int(lHauteur / 80 * 30)],\n",
    "                        [int(lLargeur / 128 * 76),\n",
    "                         int(lHauteur / 80 * 50)],\n",
    "                        [int(lLargeur / 128 * 53),\n",
    "                         int(lHauteur / 80 *50)]], np.int32)\n",
    "        ts = pts.reshape((-1, 1, 2))\n",
    "        cv2.polylines(lFrame, [pts], True, (255, 255, 255), lepaisseur)\n",
    "        cv2.circle(lFrame,\n",
    "                   (int(lLargeur / 128 * 107), int(lHauteur / 80 * 40)),\n",
    "                   int(lHauteur / 80 * 10), (255, 255, 255), lepaisseur)\n",
    "    elif lType == 5:\n",
    "        lFrame = np.zeros((lHauteur, lLargeur))\n",
    "        #createNeuron(llong, langle, lXpos, lYpos,\n",
    "        llN = int(lLargeur / 256 * 50)\n",
    "        llXTmp = int(lHauteur / 160 * 100)\n",
    "        lNeuronTest2 = createNeuron(llN, -75, llXTmp, int(lLargeur / 256 * 25))\n",
    "        drawFieldNeurons(lNeuronTest2, lFrame)\n",
    "        lNeuronTest2 = createNeuron(llN, -60, llXTmp, int(lLargeur / 256 * 75))\n",
    "        drawFieldNeurons(lNeuronTest2, lFrame) \n",
    "        lNeuronTest2 = createNeuron(llN, 0, llXTmp, int(lLargeur / 256 * 125))\n",
    "        drawFieldNeurons(lNeuronTest2, lFrame)\n",
    "        lNeuronTest2 = createNeuron(llN, 60, llXTmp, int(lLargeur / 256 * 175))\n",
    "        drawFieldNeurons(lNeuronTest2, lFrame)\n",
    "        lNeuronTest2 = createNeuron(llN, 75, llXTmp, int(lLargeur / 256 * 225))\n",
    "        drawFieldNeurons(lNeuronTest2, lFrame)\n",
    "    elif lType == 6:\n",
    "        lFrame = np.zeros((lHauteur, lLargeur))\n",
    "        #createNeuron(llong, langle, lXpos, lYpos,\n",
    "        llN = int(lLargeur / 256 * 50)\n",
    "        llXTmp = int(lHauteur / 160 * 100)\n",
    "        lNeuronTest2 = createNeuron(llN, 0, llXTmp, int(lLargeur / 256 * 25))\n",
    "        drawFieldNeurons(lNeuronTest2, lFrame)\n",
    "        lNeuronTest2 = createNeuron(llN, 0, llXTmp, int(lLargeur / 256 * 75))\n",
    "        drawFieldNeurons(lNeuronTest2, lFrame) \n",
    "        lNeuronTest2 = createNeuron(llN, 0, llXTmp, int(lLargeur / 256 * 125))\n",
    "        drawFieldNeurons(lNeuronTest2, lFrame)\n",
    "        lNeuronTest2 = createNeuron(llN, 0, llXTmp, int(lLargeur / 256 * 175))\n",
    "        drawFieldNeurons(lNeuronTest2, lFrame)\n",
    "        lNeuronTest2 = createNeuron(llN, 0, llXTmp, int(lLargeur / 256 * 225))\n",
    "        drawFieldNeurons(lNeuronTest2, lFrame)\n",
    "    elif lType == 7:\n",
    "        lFrame = np.zeros((lHauteur, lLargeur))\n",
    "        #createNeuron(llong, langle, lXpos, lYpos,\n",
    "        llN = int(lLargeur / 256 * 50)\n",
    "        llXTmp = int(lHauteur / 160 * 100)\n",
    "        lNeuronTest2 = createNeuron(llN, 5, llXTmp, int(lLargeur / 256 * 25))\n",
    "        drawFieldNeurons(lNeuronTest2, lFrame)\n",
    "        lNeuronTest2 = createNeuron(llN, 5, llXTmp, int(lLargeur / 256 * 75))\n",
    "        drawFieldNeurons(lNeuronTest2, lFrame) \n",
    "        lNeuronTest2 = createNeuron(llN, 0, llXTmp+2, int(lLargeur / 256 * 125))\n",
    "        drawFieldNeurons(lNeuronTest2, lFrame)\n",
    "        lNeuronTest2 = createNeuron(llN, 0, llXTmp+2, int(lLargeur / 256 * 175))\n",
    "        drawFieldNeurons(lNeuronTest2, lFrame)\n",
    "        lNeuronTest2 = createNeuron(llN, 0, llXTmp+2, int(lLargeur / 256 * 225))\n",
    "        drawFieldNeurons(lNeuronTest2, lFrame)\n",
    "    else:\n",
    "        lFrame = np.zeros((lHauteur, lLargeur))\n",
    "        print(\"First parameter should be between 1 to 7\")\n",
    "    return lFrame"
   ]
  },
  {
   "cell_type": "markdown",
   "metadata": {},
   "source": [
    "## Playground\n",
    "### Test 1\n",
    "#### Generate data of type 1"
   ]
  },
  {
   "cell_type": "code",
   "execution_count": null,
   "metadata": {
    "ExecuteTime": {
     "start_time": "2019-07-22T16:46:21.186Z"
    }
   },
   "outputs": [],
   "source": [
    "frame = generateToy(1,80,128,1)\n",
    "imgplot = plt.imshow(frame)"
   ]
  },
  {
   "cell_type": "markdown",
   "metadata": {},
   "source": [
    "#### Génération des neurones à champs récepteur"
   ]
  },
  {
   "cell_type": "code",
   "execution_count": null,
   "metadata": {
    "ExecuteTime": {
     "start_time": "2019-07-22T16:46:21.195Z"
    }
   },
   "outputs": [],
   "source": [
    "indices = np.where(frame != [0])\n",
    "nbPixelsAll = nbPixelField(indices[0], indices[1], frame, tailleField)\n",
    "titi = getNeuronActivationList(indices[0], indices[1], tailleField, frame,\n",
    "                               nbPixelsAll)"
   ]
  },
  {
   "cell_type": "code",
   "execution_count": null,
   "metadata": {
    "ExecuteTime": {
     "start_time": "2019-07-22T16:46:21.203Z"
    }
   },
   "outputs": [],
   "source": [
    "titi.describe()"
   ]
  },
  {
   "cell_type": "code",
   "execution_count": null,
   "metadata": {
    "ExecuteTime": {
     "start_time": "2019-07-22T16:46:21.212Z"
    }
   },
   "outputs": [],
   "source": [
    "titi[0:4]"
   ]
  },
  {
   "cell_type": "markdown",
   "metadata": {},
   "source": [
    "#### Affichage graphique du champs récepteur des neurones"
   ]
  },
  {
   "cell_type": "code",
   "execution_count": null,
   "metadata": {
    "ExecuteTime": {
     "start_time": "2019-07-22T16:46:21.219Z"
    }
   },
   "outputs": [],
   "source": [
    "testBitmap = np.zeros((frame.shape[0],frame.shape[1],3), np.uint8)\n",
    "testBitmap = drawFieldNeurons(titi, testBitmap)\n",
    "imgplot = plt.imshow(testBitmap)"
   ]
  },
  {
   "cell_type": "code",
   "execution_count": null,
   "metadata": {
    "ExecuteTime": {
     "start_time": "2019-07-22T16:46:21.227Z"
    }
   },
   "outputs": [],
   "source": [
    "np.max(testBitmap)"
   ]
  },
  {
   "cell_type": "code",
   "execution_count": null,
   "metadata": {
    "ExecuteTime": {
     "start_time": "2019-07-22T16:46:21.234Z"
    }
   },
   "outputs": [],
   "source": [
    "lintI = 0\n",
    "while (lintI < 10):\n",
    "    cv2.imshow('FRAME', frame)\n",
    "    if cv2.waitKey(1) & 0xFF == ord('q'):  # press q to quit\n",
    "        break\n",
    "    lintI += 1"
   ]
  },
  {
   "cell_type": "markdown",
   "metadata": {},
   "source": [
    "#### Simplification des neurones"
   ]
  },
  {
   "cell_type": "code",
   "execution_count": null,
   "metadata": {
    "ExecuteTime": {
     "start_time": "2019-07-22T16:46:21.242Z"
    }
   },
   "outputs": [],
   "source": [
    "np.sum(titi.memory_usage())"
   ]
  },
  {
   "cell_type": "code",
   "execution_count": null,
   "metadata": {
    "ExecuteTime": {
     "start_time": "2019-07-22T16:46:21.249Z"
    }
   },
   "outputs": [],
   "source": [
    "titi.layer.hist(bins=32)"
   ]
  },
  {
   "cell_type": "code",
   "execution_count": null,
   "metadata": {
    "ExecuteTime": {
     "start_time": "2019-07-22T16:46:21.257Z"
    }
   },
   "outputs": [],
   "source": [
    "toto = titi.angle*titi.layer\n",
    "toto.hist(bins=32)"
   ]
  },
  {
   "cell_type": "code",
   "execution_count": null,
   "metadata": {
    "ExecuteTime": {
     "start_time": "2019-07-22T16:46:21.264Z"
    }
   },
   "outputs": [],
   "source": [
    "testBitmap = np.zeros((frame.shape[0],frame.shape[1],3), np.uint8)\n",
    "testBitmap = drawFieldNeurons(titi, testBitmap,0,0,60,5)\n",
    "imgplot = plt.imshow(testBitmap)"
   ]
  },
  {
   "cell_type": "markdown",
   "metadata": {},
   "source": [
    "#### Génération des groupes"
   ]
  },
  {
   "cell_type": "code",
   "execution_count": null,
   "metadata": {
    "ExecuteTime": {
     "start_time": "2019-07-22T16:46:21.272Z"
    }
   },
   "outputs": [],
   "source": [
    "findGroups(titi);"
   ]
  },
  {
   "cell_type": "code",
   "execution_count": null,
   "metadata": {
    "ExecuteTime": {
     "start_time": "2019-07-22T16:46:21.279Z"
    }
   },
   "outputs": [],
   "source": [
    "titi.groupby('groupID').agg(['mean', 'count'])[0:5]"
   ]
  },
  {
   "cell_type": "code",
   "execution_count": null,
   "metadata": {
    "ExecuteTime": {
     "start_time": "2019-07-22T16:46:21.286Z"
    }
   },
   "outputs": [],
   "source": [
    "titi.groupby('groupID').size().hist()"
   ]
  },
  {
   "cell_type": "code",
   "execution_count": null,
   "metadata": {
    "ExecuteTime": {
     "start_time": "2019-07-22T16:46:21.293Z"
    }
   },
   "outputs": [],
   "source": [
    "resultGroup = titi.groupby('groupID').size()\n",
    "resultGroup[resultGroup>10].hist()"
   ]
  },
  {
   "cell_type": "code",
   "execution_count": null,
   "metadata": {
    "ExecuteTime": {
     "start_time": "2019-07-22T16:46:21.300Z"
    }
   },
   "outputs": [],
   "source": [
    "titi.describe()"
   ]
  },
  {
   "cell_type": "code",
   "execution_count": null,
   "metadata": {
    "ExecuteTime": {
     "start_time": "2019-07-22T16:46:21.307Z"
    }
   },
   "outputs": [],
   "source": [
    "titi[0:4]"
   ]
  },
  {
   "cell_type": "markdown",
   "metadata": {},
   "source": [
    "### Test 2\n",
    "#### Generate data of type 2"
   ]
  },
  {
   "cell_type": "code",
   "execution_count": null,
   "metadata": {
    "ExecuteTime": {
     "start_time": "2019-07-22T16:46:21.315Z"
    }
   },
   "outputs": [],
   "source": [
    "frame = generateToy(2,80,128,1)\n",
    "imgplot = plt.imshow(frame)"
   ]
  },
  {
   "cell_type": "markdown",
   "metadata": {},
   "source": [
    "#### Génération des neurones à champs récepteur"
   ]
  },
  {
   "cell_type": "code",
   "execution_count": null,
   "metadata": {
    "ExecuteTime": {
     "start_time": "2019-07-22T16:46:21.323Z"
    },
    "scrolled": true
   },
   "outputs": [],
   "source": [
    "indices = np.where(frame != [0])\n",
    "nbPixelsAll = nbPixelField(indices[0], indices[1], frame, tailleField)\n",
    "titi = getNeuronActivationList(indices[0], indices[1], tailleField, frame,\n",
    "                               nbPixelsAll)"
   ]
  },
  {
   "cell_type": "code",
   "execution_count": null,
   "metadata": {
    "ExecuteTime": {
     "start_time": "2019-07-22T16:46:21.331Z"
    },
    "scrolled": true
   },
   "outputs": [],
   "source": [
    "titi.describe()"
   ]
  },
  {
   "cell_type": "code",
   "execution_count": null,
   "metadata": {
    "ExecuteTime": {
     "start_time": "2019-07-22T16:46:21.340Z"
    },
    "scrolled": false
   },
   "outputs": [],
   "source": [
    "titi[0:4]"
   ]
  },
  {
   "cell_type": "markdown",
   "metadata": {},
   "source": [
    "#### Affichage graphique du champs récepteur des neurones"
   ]
  },
  {
   "cell_type": "code",
   "execution_count": null,
   "metadata": {
    "ExecuteTime": {
     "start_time": "2019-07-22T16:46:21.348Z"
    },
    "scrolled": true
   },
   "outputs": [],
   "source": [
    "testBitmap = np.zeros((frame.shape[0],frame.shape[1],3), np.uint8)\n",
    "testBitmap = drawFieldNeurons(titi, testBitmap)\n",
    "imgplot = plt.imshow(testBitmap)"
   ]
  },
  {
   "cell_type": "markdown",
   "metadata": {},
   "source": [
    "#### Génération des groupes"
   ]
  },
  {
   "cell_type": "code",
   "execution_count": null,
   "metadata": {
    "ExecuteTime": {
     "start_time": "2019-07-22T16:46:21.357Z"
    }
   },
   "outputs": [],
   "source": [
    "findGroups(titi);"
   ]
  },
  {
   "cell_type": "code",
   "execution_count": null,
   "metadata": {
    "ExecuteTime": {
     "start_time": "2019-07-22T16:46:21.368Z"
    },
    "scrolled": true
   },
   "outputs": [],
   "source": [
    "titi.groupby('groupID').agg(['mean', 'count'])[0:5]"
   ]
  },
  {
   "cell_type": "code",
   "execution_count": null,
   "metadata": {
    "ExecuteTime": {
     "start_time": "2019-07-22T16:46:21.375Z"
    },
    "scrolled": true
   },
   "outputs": [],
   "source": [
    "titi.groupby('groupID').size().hist()"
   ]
  },
  {
   "cell_type": "code",
   "execution_count": null,
   "metadata": {
    "ExecuteTime": {
     "start_time": "2019-07-22T16:46:21.382Z"
    }
   },
   "outputs": [],
   "source": [
    "titi[0:4]"
   ]
  },
  {
   "cell_type": "markdown",
   "metadata": {},
   "source": [
    "### Test 3\n",
    "#### Generate data of type 3"
   ]
  },
  {
   "cell_type": "code",
   "execution_count": null,
   "metadata": {
    "ExecuteTime": {
     "start_time": "2019-07-22T16:46:21.390Z"
    }
   },
   "outputs": [],
   "source": [
    "frame = generateToy(3,80,128,1)\n",
    "imgplot = plt.imshow(frame)"
   ]
  },
  {
   "cell_type": "markdown",
   "metadata": {},
   "source": [
    "#### Génération des neurones à champs récepteur"
   ]
  },
  {
   "cell_type": "code",
   "execution_count": null,
   "metadata": {
    "ExecuteTime": {
     "start_time": "2019-07-22T16:46:21.398Z"
    },
    "scrolled": true
   },
   "outputs": [],
   "source": [
    "indices = np.where(frame != [0])\n",
    "nbPixelsAll = nbPixelField(indices[0], indices[1], frame, tailleField)\n",
    "titi = getNeuronActivationList(indices[0], indices[1], tailleField, frame,\n",
    "                               nbPixelsAll)"
   ]
  },
  {
   "cell_type": "code",
   "execution_count": null,
   "metadata": {
    "ExecuteTime": {
     "start_time": "2019-07-22T16:46:21.405Z"
    },
    "scrolled": true
   },
   "outputs": [],
   "source": [
    "titi.describe()"
   ]
  },
  {
   "cell_type": "code",
   "execution_count": null,
   "metadata": {
    "ExecuteTime": {
     "start_time": "2019-07-22T16:46:21.415Z"
    },
    "scrolled": false
   },
   "outputs": [],
   "source": [
    "titi[0:4]"
   ]
  },
  {
   "cell_type": "markdown",
   "metadata": {},
   "source": [
    "#### Affichage graphique du champs récepteur des neurones"
   ]
  },
  {
   "cell_type": "code",
   "execution_count": null,
   "metadata": {
    "ExecuteTime": {
     "start_time": "2019-07-22T16:46:21.423Z"
    },
    "scrolled": true
   },
   "outputs": [],
   "source": [
    "testBitmap = np.zeros((frame.shape[0],frame.shape[1],3), np.uint8)\n",
    "testBitmap = drawFieldNeurons(titi, testBitmap)\n",
    "imgplot = plt.imshow(testBitmap)"
   ]
  },
  {
   "cell_type": "markdown",
   "metadata": {},
   "source": [
    "#### Génération des groupes"
   ]
  },
  {
   "cell_type": "code",
   "execution_count": null,
   "metadata": {
    "ExecuteTime": {
     "start_time": "2019-07-22T16:46:21.431Z"
    }
   },
   "outputs": [],
   "source": [
    "findGroups(titi);"
   ]
  },
  {
   "cell_type": "code",
   "execution_count": null,
   "metadata": {
    "ExecuteTime": {
     "start_time": "2019-07-22T16:46:21.438Z"
    },
    "scrolled": true
   },
   "outputs": [],
   "source": [
    "titi.groupby('groupID').agg(['mean', 'count'])[0:5]"
   ]
  },
  {
   "cell_type": "code",
   "execution_count": null,
   "metadata": {
    "ExecuteTime": {
     "start_time": "2019-07-22T16:46:21.445Z"
    },
    "scrolled": true
   },
   "outputs": [],
   "source": [
    "titi.groupby('groupID').size().hist()"
   ]
  },
  {
   "cell_type": "markdown",
   "metadata": {},
   "source": [
    "### Test 4\n",
    "#### Generate data of type 4"
   ]
  },
  {
   "cell_type": "code",
   "execution_count": null,
   "metadata": {
    "ExecuteTime": {
     "start_time": "2019-07-22T16:46:21.453Z"
    }
   },
   "outputs": [],
   "source": [
    "frame = generateToy(4,160,256,1)\n",
    "imgplot = plt.imshow(frame)"
   ]
  },
  {
   "cell_type": "markdown",
   "metadata": {},
   "source": [
    "#### Génération des neurones à champs récepteur"
   ]
  },
  {
   "cell_type": "code",
   "execution_count": null,
   "metadata": {
    "ExecuteTime": {
     "start_time": "2019-07-22T16:46:21.460Z"
    },
    "scrolled": true
   },
   "outputs": [],
   "source": [
    "indices = np.where(frame != [0])\n",
    "nbPixelsAll = nbPixelField(indices[0], indices[1], frame, tailleField)\n",
    "titi = getNeuronActivationList(indices[0], indices[1], tailleField, frame,\n",
    "                               nbPixelsAll)"
   ]
  },
  {
   "cell_type": "code",
   "execution_count": null,
   "metadata": {
    "ExecuteTime": {
     "start_time": "2019-07-22T16:46:21.468Z"
    },
    "scrolled": true
   },
   "outputs": [],
   "source": [
    "titi.describe()"
   ]
  },
  {
   "cell_type": "code",
   "execution_count": null,
   "metadata": {
    "ExecuteTime": {
     "start_time": "2019-07-22T16:46:21.476Z"
    },
    "scrolled": false
   },
   "outputs": [],
   "source": [
    "titi[0:4]"
   ]
  },
  {
   "cell_type": "markdown",
   "metadata": {},
   "source": [
    "#### Affichage graphique du champs récepteur des neurones"
   ]
  },
  {
   "cell_type": "code",
   "execution_count": null,
   "metadata": {
    "ExecuteTime": {
     "start_time": "2019-07-22T16:46:21.484Z"
    },
    "scrolled": true
   },
   "outputs": [],
   "source": [
    "testBitmap = np.zeros((frame.shape[0],frame.shape[1],3), np.uint8)\n",
    "testBitmap = drawFieldNeurons(titi, testBitmap)\n",
    "imgplot = plt.imshow(testBitmap)"
   ]
  },
  {
   "cell_type": "markdown",
   "metadata": {},
   "source": [
    "#### Simplification\n",
    "\n",
    "##### Layer"
   ]
  },
  {
   "cell_type": "code",
   "execution_count": null,
   "metadata": {
    "ExecuteTime": {
     "start_time": "2019-07-22T16:46:21.494Z"
    }
   },
   "outputs": [],
   "source": [
    "lvhist = (titi['layer']\n",
    " .pipe(lambda s: pd.Series(np.histogram(s,  bins=256)))\n",
    " .pipe(lambda s: pd.Series(s[0], index=s[1][:-1]))\n",
    ")\n",
    "peaks,ldict = find_peaks(lvhist, height=7)\n",
    "ser = lvhist.to_numpy()\n",
    "plt.plot(ser)\n",
    "plt.plot(peaks, ser[peaks], \"x\")\n",
    "plt.plot(np.zeros_like(ser), \"--\", color=\"gray\")\n",
    "plt.ylabel('frequency')\n",
    "plt.show()"
   ]
  },
  {
   "cell_type": "code",
   "execution_count": null,
   "metadata": {
    "ExecuteTime": {
     "start_time": "2019-07-22T16:46:21.502Z"
    }
   },
   "outputs": [],
   "source": [
    "lidx2 = peaks[np.argmax(ldict['peak_heights'])]\n",
    "lLayerPic = lvhist.index.values[lidx2:lidx2+1][0]"
   ]
  },
  {
   "cell_type": "code",
   "execution_count": null,
   "metadata": {
    "ExecuteTime": {
     "start_time": "2019-07-22T16:46:21.510Z"
    }
   },
   "outputs": [],
   "source": [
    "lidx2 = peaks[3]\n",
    "lLayerPic = lvhist.index.values[lidx2:lidx2+1][0]"
   ]
  },
  {
   "cell_type": "code",
   "execution_count": null,
   "metadata": {
    "ExecuteTime": {
     "start_time": "2019-07-22T16:46:21.518Z"
    }
   },
   "outputs": [],
   "source": [
    "lidx2"
   ]
  },
  {
   "cell_type": "code",
   "execution_count": null,
   "metadata": {
    "ExecuteTime": {
     "start_time": "2019-07-22T16:46:21.527Z"
    }
   },
   "outputs": [],
   "source": [
    "np.argmax(ldict['peak_heights'])"
   ]
  },
  {
   "cell_type": "code",
   "execution_count": null,
   "metadata": {
    "ExecuteTime": {
     "start_time": "2019-07-22T16:46:21.534Z"
    }
   },
   "outputs": [],
   "source": [
    "ldict['peak_heights'][8]=0"
   ]
  },
  {
   "cell_type": "code",
   "execution_count": null,
   "metadata": {
    "ExecuteTime": {
     "start_time": "2019-07-22T16:46:21.542Z"
    }
   },
   "outputs": [],
   "source": [
    "ldict['peak_heights']"
   ]
  },
  {
   "cell_type": "code",
   "execution_count": null,
   "metadata": {
    "ExecuteTime": {
     "start_time": "2019-07-22T16:46:21.551Z"
    }
   },
   "outputs": [],
   "source": [
    "testBitmap = np.zeros((frame.shape[0],frame.shape[1],3), np.uint8)\n",
    "testBitmap = drawFieldNeurons(titi, testBitmap,0,0,lLayerPic,5)\n",
    "imgplot = plt.imshow(testBitmap)"
   ]
  },
  {
   "cell_type": "code",
   "execution_count": null,
   "metadata": {
    "ExecuteTime": {
     "start_time": "2019-07-22T16:46:21.559Z"
    }
   },
   "outputs": [],
   "source": [
    "plt.plot(titi.angle,titi.layer,'.')\n",
    "plt.show()"
   ]
  },
  {
   "cell_type": "code",
   "execution_count": null,
   "metadata": {
    "ExecuteTime": {
     "start_time": "2019-07-22T16:46:21.567Z"
    }
   },
   "outputs": [],
   "source": [
    "plt.plot(titi.angle[np.abs(titi.layer)<300],titi.layer[np.abs(titi.layer)<300],'.')\n",
    "plt.show()"
   ]
  },
  {
   "cell_type": "markdown",
   "metadata": {},
   "source": [
    "##### Angle"
   ]
  },
  {
   "cell_type": "code",
   "execution_count": null,
   "metadata": {
    "ExecuteTime": {
     "start_time": "2019-07-22T16:46:21.577Z"
    }
   },
   "outputs": [],
   "source": [
    "lNeuronTopLayer = titi[(titi.layer>=(lLayerPic-5)) &(titi.layer<=(lLayerPic+5))]\n",
    "lNeuronTopLayer.angle.hist()"
   ]
  },
  {
   "cell_type": "code",
   "execution_count": null,
   "metadata": {
    "ExecuteTime": {
     "start_time": "2019-07-22T16:46:21.585Z"
    },
    "scrolled": true
   },
   "outputs": [],
   "source": [
    "lvhist = (lNeuronTopLayer['angle']\n",
    " .pipe(lambda s: pd.Series(np.histogram(s,  bins=45)))\n",
    " .pipe(lambda s: pd.Series(s[0], index=s[1][:-1]))\n",
    ")\n",
    "lvhist = lvhist.append(pd.Series([0, 0]))\n",
    "ltt  = pd.Series([0, 0])\n",
    "lvhist = ltt.append(lvhist)\n",
    "peaks,ldict = find_peaks(lvhist, height=7)\n",
    "ser = lvhist.to_numpy()\n",
    "plt.plot(ser)\n",
    "plt.plot(peaks, ser[peaks], \"x\")\n",
    "plt.plot(np.zeros_like(ser), \"--\", color=\"gray\")\n",
    "plt.ylabel('frequency')\n",
    "plt.show()"
   ]
  },
  {
   "cell_type": "code",
   "execution_count": null,
   "metadata": {
    "ExecuteTime": {
     "start_time": "2019-07-22T16:46:21.593Z"
    }
   },
   "outputs": [],
   "source": [
    "lidx2 = peaks[np.argmax(ldict['peak_heights'])]\n",
    "lAnglePic = lvhist.index.values[lidx2:lidx2+1][0]"
   ]
  },
  {
   "cell_type": "code",
   "execution_count": null,
   "metadata": {
    "ExecuteTime": {
     "start_time": "2019-07-22T16:46:21.601Z"
    }
   },
   "outputs": [],
   "source": [
    "testBitmap = np.zeros((frame.shape[0],frame.shape[1],3), np.uint8)\n",
    "testBitmap = drawFieldNeurons(titi, testBitmap,0,0,lLayerPic,5,lAnglePic,5)\n",
    "imgplot = plt.imshow(testBitmap)"
   ]
  },
  {
   "cell_type": "code",
   "execution_count": null,
   "metadata": {
    "ExecuteTime": {
     "start_time": "2019-07-22T16:46:21.609Z"
    }
   },
   "outputs": [],
   "source": [
    "lTMPNeuronList = getMainNeurons(titi,5,True)\n",
    "\n",
    "testBitmap = np.zeros((frame.shape[0],frame.shape[1],3), np.uint8)\n",
    "testBitmap = drawFieldNeurons(lTMPNeuronList, testBitmap,0,0)\n",
    "imgplot = plt.imshow(testBitmap)"
   ]
  },
  {
   "cell_type": "code",
   "execution_count": null,
   "metadata": {
    "ExecuteTime": {
     "start_time": "2019-07-22T16:46:21.617Z"
    }
   },
   "outputs": [],
   "source": [
    "testBitmap = np.zeros((frame.shape[0],frame.shape[1],3), np.uint8)\n",
    "testBitmap = drawFieldNeurons(getLineNeuron(lTMPNeuronList), testBitmap,0,0)\n",
    "imgplot = plt.imshow(testBitmap)"
   ]
  },
  {
   "cell_type": "code",
   "execution_count": null,
   "metadata": {
    "ExecuteTime": {
     "start_time": "2019-07-22T16:46:21.625Z"
    }
   },
   "outputs": [],
   "source": [
    "lTMPNeuronList = getLineNeuronList(titi)\n",
    "print(lTMPNeuronList)"
   ]
  },
  {
   "cell_type": "code",
   "execution_count": null,
   "metadata": {
    "ExecuteTime": {
     "start_time": "2019-07-22T16:46:21.632Z"
    }
   },
   "outputs": [],
   "source": [
    "testBitmap = np.zeros((frame.shape[0],frame.shape[1],3), np.uint8)\n",
    "testBitmap = drawFieldNeurons(lTMPNeuronList, testBitmap,0,0)\n",
    "imgplot = plt.imshow(testBitmap)"
   ]
  },
  {
   "cell_type": "markdown",
   "metadata": {},
   "source": [
    "#### Génération des groupes"
   ]
  },
  {
   "cell_type": "code",
   "execution_count": null,
   "metadata": {
    "ExecuteTime": {
     "start_time": "2019-07-22T16:46:21.640Z"
    }
   },
   "outputs": [],
   "source": [
    "findGroups(titi);"
   ]
  },
  {
   "cell_type": "code",
   "execution_count": null,
   "metadata": {
    "ExecuteTime": {
     "start_time": "2019-07-22T16:46:21.647Z"
    },
    "scrolled": true
   },
   "outputs": [],
   "source": [
    "titi.groupby('groupID').size().hist()"
   ]
  },
  {
   "cell_type": "code",
   "execution_count": null,
   "metadata": {
    "ExecuteTime": {
     "start_time": "2019-07-22T16:46:21.654Z"
    }
   },
   "outputs": [],
   "source": [
    "resultGroup = titi.groupby('groupID').size()\n",
    "resultGroup[resultGroup>10].hist()"
   ]
  },
  {
   "cell_type": "code",
   "execution_count": null,
   "metadata": {
    "ExecuteTime": {
     "start_time": "2019-07-22T16:46:21.662Z"
    },
    "scrolled": true
   },
   "outputs": [],
   "source": [
    "titi.groupby('groupID').agg(['mean', 'count'])[resultGroup>10]"
   ]
  },
  {
   "cell_type": "code",
   "execution_count": null,
   "metadata": {
    "ExecuteTime": {
     "start_time": "2019-07-22T16:46:21.670Z"
    }
   },
   "outputs": [],
   "source": [
    "for lidx, langle in titi.groupby('groupID').count().sort_values('angle', ascending=False).iterrows():\n",
    "    print (lidx)"
   ]
  },
  {
   "cell_type": "code",
   "execution_count": null,
   "metadata": {
    "ExecuteTime": {
     "start_time": "2019-07-22T16:46:21.677Z"
    }
   },
   "outputs": [],
   "source": [
    "getWAGA(titi,6)"
   ]
  },
  {
   "cell_type": "code",
   "execution_count": null,
   "metadata": {
    "ExecuteTime": {
     "start_time": "2019-07-22T16:46:21.685Z"
    }
   },
   "outputs": [],
   "source": [
    "testBitmap = np.zeros((frame.shape[0],frame.shape[1],3), np.uint8)\n",
    "testBitmap = drawFieldNeurons(titi, testBitmap,0,10)\n",
    "imgplot = plt.imshow(testBitmap)"
   ]
  },
  {
   "cell_type": "markdown",
   "metadata": {},
   "source": [
    "### Test 5\n",
    "#### Generate data of type 5"
   ]
  },
  {
   "cell_type": "code",
   "execution_count": null,
   "metadata": {
    "ExecuteTime": {
     "start_time": "2019-07-22T16:46:21.695Z"
    }
   },
   "outputs": [],
   "source": [
    "frame = generateToy(5,160,256,1)\n",
    "imgplot = plt.imshow(frame) "
   ]
  },
  {
   "cell_type": "markdown",
   "metadata": {},
   "source": [
    "#### Génération des neurones à champs récepteur"
   ]
  },
  {
   "cell_type": "code",
   "execution_count": null,
   "metadata": {
    "ExecuteTime": {
     "start_time": "2019-07-22T16:46:21.704Z"
    },
    "scrolled": true
   },
   "outputs": [],
   "source": [
    "indices = np.where(frame != [0])\n",
    "nbPixelsAll = nbPixelField(indices[0], indices[1], frame, tailleField)\n",
    "titi = getNeuronActivationList(indices[0], indices[1], tailleField, frame,\n",
    "                               nbPixelsAll)"
   ]
  },
  {
   "cell_type": "code",
   "execution_count": null,
   "metadata": {
    "ExecuteTime": {
     "start_time": "2019-07-22T16:46:21.714Z"
    },
    "scrolled": true
   },
   "outputs": [],
   "source": [
    "titi.describe()"
   ]
  },
  {
   "cell_type": "code",
   "execution_count": null,
   "metadata": {
    "ExecuteTime": {
     "start_time": "2019-07-22T16:46:21.724Z"
    },
    "scrolled": false
   },
   "outputs": [],
   "source": [
    "titi.groupby('angle').agg(['mean', 'count'])"
   ]
  },
  {
   "cell_type": "markdown",
   "metadata": {},
   "source": [
    "#### Affichage graphique du champs récepteur des neurones"
   ]
  },
  {
   "cell_type": "code",
   "execution_count": null,
   "metadata": {
    "ExecuteTime": {
     "start_time": "2019-07-22T16:46:21.734Z"
    },
    "scrolled": true
   },
   "outputs": [],
   "source": [
    "testBitmap = np.zeros((frame.shape[0],frame.shape[1],3), np.uint8)\n",
    "testBitmap = drawFieldNeurons(titi, testBitmap)\n",
    "imgplot = plt.imshow(testBitmap)"
   ]
  },
  {
   "cell_type": "markdown",
   "metadata": {},
   "source": [
    "#### Simplification"
   ]
  },
  {
   "cell_type": "code",
   "execution_count": null,
   "metadata": {
    "ExecuteTime": {
     "start_time": "2019-07-22T16:46:21.743Z"
    }
   },
   "outputs": [],
   "source": [
    "titi.layer.hist(bins=64)"
   ]
  },
  {
   "cell_type": "code",
   "execution_count": null,
   "metadata": {
    "ExecuteTime": {
     "start_time": "2019-07-22T16:46:21.752Z"
    }
   },
   "outputs": [],
   "source": [
    "titi.angle.hist(bins=64)"
   ]
  },
  {
   "cell_type": "code",
   "execution_count": null,
   "metadata": {
    "ExecuteTime": {
     "start_time": "2019-07-22T16:46:21.760Z"
    }
   },
   "outputs": [],
   "source": [
    "toto = titi.angle*titi.layer\n",
    "toto.hist(bins=64)"
   ]
  },
  {
   "cell_type": "code",
   "execution_count": null,
   "metadata": {
    "ExecuteTime": {
     "start_time": "2019-07-22T16:46:21.767Z"
    }
   },
   "outputs": [],
   "source": [
    "testBitmap = np.zeros((frame.shape[0],frame.shape[1],3), np.uint8)\n",
    "testBitmap = drawFieldNeurons(titi, testBitmap,0,0,-1300,500)\n",
    "imgplot = plt.imshow(testBitmap)"
   ]
  },
  {
   "cell_type": "code",
   "execution_count": null,
   "metadata": {
    "ExecuteTime": {
     "start_time": "2019-07-22T16:46:21.776Z"
    }
   },
   "outputs": [],
   "source": [
    "lTMPNeuronList = getLineNeuronList(titi,0)\n",
    "print(lTMPNeuronList)"
   ]
  },
  {
   "cell_type": "code",
   "execution_count": null,
   "metadata": {
    "ExecuteTime": {
     "start_time": "2019-07-22T16:46:21.784Z"
    }
   },
   "outputs": [],
   "source": [
    "testBitmap = np.zeros((frame.shape[0],frame.shape[1],3), np.uint8)\n",
    "testBitmap = drawFieldNeurons(lTMPNeuronList, testBitmap,0,0)\n",
    "imgplot = plt.imshow(testBitmap)"
   ]
  },
  {
   "cell_type": "markdown",
   "metadata": {},
   "source": [
    "#### Génération des groupes"
   ]
  },
  {
   "cell_type": "code",
   "execution_count": null,
   "metadata": {
    "ExecuteTime": {
     "start_time": "2019-07-22T16:46:21.794Z"
    }
   },
   "outputs": [],
   "source": [
    "findGroups(titi);"
   ]
  },
  {
   "cell_type": "code",
   "execution_count": null,
   "metadata": {
    "ExecuteTime": {
     "start_time": "2019-07-22T16:46:21.804Z"
    },
    "scrolled": true
   },
   "outputs": [],
   "source": [
    "titi.groupby('groupID').size().hist()"
   ]
  },
  {
   "cell_type": "code",
   "execution_count": null,
   "metadata": {
    "ExecuteTime": {
     "start_time": "2019-07-22T16:46:21.813Z"
    }
   },
   "outputs": [],
   "source": [
    "resultGroup = titi.groupby('groupID').size()\n",
    "resultGroup[resultGroup>10].hist()"
   ]
  },
  {
   "cell_type": "code",
   "execution_count": null,
   "metadata": {
    "ExecuteTime": {
     "start_time": "2019-07-22T16:46:21.823Z"
    },
    "scrolled": true
   },
   "outputs": [],
   "source": [
    "titi.groupby('groupID').agg(['mean', 'count'])[resultGroup>10]"
   ]
  },
  {
   "cell_type": "code",
   "execution_count": null,
   "metadata": {
    "ExecuteTime": {
     "start_time": "2019-07-22T16:46:21.831Z"
    }
   },
   "outputs": [],
   "source": [
    "testBitmap = np.zeros((frame.shape[0],frame.shape[1],3), np.uint8)\n",
    "testBitmap = drawFieldNeurons(titi, testBitmap,0,5)\n",
    "imgplot = plt.imshow(testBitmap)"
   ]
  },
  {
   "cell_type": "code",
   "execution_count": null,
   "metadata": {
    "ExecuteTime": {
     "start_time": "2019-07-22T16:46:21.840Z"
    }
   },
   "outputs": [],
   "source": [
    "getWAGA(titi,5)"
   ]
  },
  {
   "cell_type": "markdown",
   "metadata": {},
   "source": [
    "### Test 6\n",
    "#### Generate data of type 6"
   ]
  },
  {
   "cell_type": "code",
   "execution_count": null,
   "metadata": {
    "ExecuteTime": {
     "start_time": "2019-07-22T16:46:21.849Z"
    },
    "scrolled": true
   },
   "outputs": [],
   "source": [
    "frame = generateToy(6,160,256,1)\n",
    "imgplot = plt.imshow(frame) "
   ]
  },
  {
   "cell_type": "markdown",
   "metadata": {},
   "source": [
    "#### Génération des neurones à champs récepteur"
   ]
  },
  {
   "cell_type": "code",
   "execution_count": null,
   "metadata": {
    "ExecuteTime": {
     "start_time": "2019-07-22T16:46:21.858Z"
    },
    "scrolled": true
   },
   "outputs": [],
   "source": [
    "indices = np.where(frame != [0])\n",
    "nbPixelsAll = nbPixelField(indices[0], indices[1], frame, tailleField)\n",
    "titi = getNeuronActivationList(indices[0], indices[1], tailleField, frame,\n",
    "                               nbPixelsAll)"
   ]
  },
  {
   "cell_type": "code",
   "execution_count": null,
   "metadata": {
    "ExecuteTime": {
     "start_time": "2019-07-22T16:46:21.866Z"
    },
    "scrolled": true
   },
   "outputs": [],
   "source": [
    "titi.groupby('angle').agg(['mean', 'count'])"
   ]
  },
  {
   "cell_type": "markdown",
   "metadata": {},
   "source": [
    "#### Affichage graphique du champs récepteur des neurones"
   ]
  },
  {
   "cell_type": "code",
   "execution_count": null,
   "metadata": {
    "ExecuteTime": {
     "start_time": "2019-07-22T16:46:21.874Z"
    },
    "scrolled": true
   },
   "outputs": [],
   "source": [
    "testBitmap = np.zeros((frame.shape[0],frame.shape[1],3), np.uint8)\n",
    "testBitmap = drawFieldNeurons(titi, testBitmap)\n",
    "imgplot = plt.imshow(testBitmap)"
   ]
  },
  {
   "cell_type": "markdown",
   "metadata": {},
   "source": [
    "#### Génération des groupes"
   ]
  },
  {
   "cell_type": "code",
   "execution_count": null,
   "metadata": {
    "ExecuteTime": {
     "start_time": "2019-07-22T16:46:21.883Z"
    }
   },
   "outputs": [],
   "source": [
    "findGroups(titi);"
   ]
  },
  {
   "cell_type": "code",
   "execution_count": null,
   "metadata": {
    "ExecuteTime": {
     "start_time": "2019-07-22T16:46:21.892Z"
    },
    "scrolled": true
   },
   "outputs": [],
   "source": [
    "titi.groupby('groupID').size().hist()"
   ]
  },
  {
   "cell_type": "code",
   "execution_count": null,
   "metadata": {
    "ExecuteTime": {
     "start_time": "2019-07-22T16:46:21.902Z"
    }
   },
   "outputs": [],
   "source": [
    "resultGroup = titi.groupby('groupID').size()\n",
    "resultGroup[resultGroup>10].hist()"
   ]
  },
  {
   "cell_type": "code",
   "execution_count": null,
   "metadata": {
    "ExecuteTime": {
     "start_time": "2019-07-22T16:46:21.913Z"
    },
    "scrolled": true
   },
   "outputs": [],
   "source": [
    "titi.groupby('groupID').agg(['mean', 'count'])[resultGroup>10]"
   ]
  },
  {
   "cell_type": "markdown",
   "metadata": {},
   "source": [
    "#### Simplification"
   ]
  },
  {
   "cell_type": "code",
   "execution_count": null,
   "metadata": {
    "ExecuteTime": {
     "start_time": "2019-07-22T16:46:21.925Z"
    }
   },
   "outputs": [],
   "source": [
    "lTMPNeuronList = getLineNeuronList(titi,0)\n",
    "print(lTMPNeuronList)"
   ]
  },
  {
   "cell_type": "code",
   "execution_count": null,
   "metadata": {
    "ExecuteTime": {
     "start_time": "2019-07-22T16:46:21.935Z"
    }
   },
   "outputs": [],
   "source": [
    "testBitmap = np.zeros((frame.shape[0],frame.shape[1],3), np.uint8)\n",
    "testBitmap = drawFieldNeurons(lTMPNeuronList, testBitmap,0,0)\n",
    "imgplot = plt.imshow(testBitmap)"
   ]
  },
  {
   "cell_type": "markdown",
   "metadata": {},
   "source": [
    "### Test 7\n",
    "#### Generate data of type 7"
   ]
  },
  {
   "cell_type": "code",
   "execution_count": null,
   "metadata": {
    "ExecuteTime": {
     "start_time": "2019-07-22T16:46:21.946Z"
    }
   },
   "outputs": [],
   "source": [
    "frame = generateToy(7,160,256,1)\n",
    "imgplot = plt.imshow(frame) "
   ]
  },
  {
   "cell_type": "markdown",
   "metadata": {},
   "source": [
    "#### Génération des neurones à champs récepteur"
   ]
  },
  {
   "cell_type": "code",
   "execution_count": null,
   "metadata": {
    "ExecuteTime": {
     "start_time": "2019-07-22T16:46:21.958Z"
    },
    "scrolled": true
   },
   "outputs": [],
   "source": [
    "indices = np.where(frame != [0])\n",
    "nbPixelsAll = nbPixelField(indices[0], indices[1], frame, tailleField)\n",
    "titi = getNeuronActivationList(indices[0], indices[1], tailleField, frame,\n",
    "                               nbPixelsAll)"
   ]
  },
  {
   "cell_type": "code",
   "execution_count": null,
   "metadata": {
    "ExecuteTime": {
     "start_time": "2019-07-22T16:46:21.969Z"
    },
    "scrolled": false
   },
   "outputs": [],
   "source": [
    "titi.groupby('angle').agg(['mean', 'count'])"
   ]
  },
  {
   "cell_type": "markdown",
   "metadata": {},
   "source": [
    "#### Affichage graphique du champs récepteur des neurones"
   ]
  },
  {
   "cell_type": "code",
   "execution_count": null,
   "metadata": {
    "ExecuteTime": {
     "start_time": "2019-07-22T16:46:21.980Z"
    },
    "scrolled": true
   },
   "outputs": [],
   "source": [
    "testBitmap = np.zeros((frame.shape[0],frame.shape[1],3), np.uint8)\n",
    "testBitmap = drawFieldNeurons(titi, testBitmap)\n",
    "imgplot = plt.imshow(testBitmap)"
   ]
  },
  {
   "cell_type": "markdown",
   "metadata": {},
   "source": [
    "#### Génération des groupes"
   ]
  },
  {
   "cell_type": "code",
   "execution_count": null,
   "metadata": {
    "ExecuteTime": {
     "start_time": "2019-07-22T16:46:21.991Z"
    }
   },
   "outputs": [],
   "source": [
    "findGroups(titi);"
   ]
  },
  {
   "cell_type": "code",
   "execution_count": null,
   "metadata": {
    "ExecuteTime": {
     "start_time": "2019-07-22T16:46:22.000Z"
    },
    "scrolled": true
   },
   "outputs": [],
   "source": [
    "titi.groupby('groupID').size().hist()"
   ]
  },
  {
   "cell_type": "code",
   "execution_count": null,
   "metadata": {
    "ExecuteTime": {
     "start_time": "2019-07-22T16:46:22.009Z"
    }
   },
   "outputs": [],
   "source": [
    "resultGroup = titi.groupby('groupID').size()\n",
    "resultGroup[resultGroup>10].hist()"
   ]
  },
  {
   "cell_type": "code",
   "execution_count": null,
   "metadata": {
    "ExecuteTime": {
     "start_time": "2019-07-22T16:46:22.018Z"
    },
    "scrolled": true
   },
   "outputs": [],
   "source": [
    "titi.groupby('groupID').agg(['mean', 'count'])[resultGroup>10]"
   ]
  },
  {
   "cell_type": "code",
   "execution_count": null,
   "metadata": {
    "ExecuteTime": {
     "start_time": "2019-07-22T16:46:22.028Z"
    }
   },
   "outputs": [],
   "source": [
    "getWAGA(titi,1)"
   ]
  },
  {
   "cell_type": "markdown",
   "metadata": {},
   "source": [
    "#### Simplification"
   ]
  },
  {
   "cell_type": "code",
   "execution_count": null,
   "metadata": {
    "ExecuteTime": {
     "start_time": "2019-07-22T16:46:22.038Z"
    }
   },
   "outputs": [],
   "source": [
    "lTMPNeuronList = getLineNeuronList(titi,0)\n",
    "print(lTMPNeuronList)"
   ]
  },
  {
   "cell_type": "code",
   "execution_count": null,
   "metadata": {
    "ExecuteTime": {
     "start_time": "2019-07-22T16:46:22.048Z"
    }
   },
   "outputs": [],
   "source": [
    "testBitmap = np.zeros((frame.shape[0],frame.shape[1],3), np.uint8)\n",
    "testBitmap = drawFieldNeurons(lTMPNeuronList, testBitmap,0,0)\n",
    "imgplot = plt.imshow(testBitmap)"
   ]
  },
  {
   "cell_type": "markdown",
   "metadata": {},
   "source": [
    "##### Comment l'algorithme de raffinage de la population de neurones Lignes fonctionne :"
   ]
  },
  {
   "cell_type": "code",
   "execution_count": null,
   "metadata": {
    "ExecuteTime": {
     "start_time": "2019-07-22T16:46:22.059Z"
    }
   },
   "outputs": [],
   "source": [
    "miniFrame = getSmallerFrame(lTMPNeuronList.loc[4], frame,0,True);\n",
    "imgplot = plt.imshow(miniFrame)"
   ]
  },
  {
   "cell_type": "code",
   "execution_count": null,
   "metadata": {
    "ExecuteTime": {
     "start_time": "2019-07-22T16:46:22.070Z"
    }
   },
   "outputs": [],
   "source": [
    "imgplot = plt.imshow(getMask(miniFrame,3))"
   ]
  },
  {
   "cell_type": "code",
   "execution_count": null,
   "metadata": {
    "ExecuteTime": {
     "start_time": "2019-07-22T16:46:22.080Z"
    }
   },
   "outputs": [],
   "source": [
    "pd.DataFrame(lTMPNeuronList.loc[4]).T"
   ]
  },
  {
   "cell_type": "code",
   "execution_count": null,
   "metadata": {
    "ExecuteTime": {
     "start_time": "2019-07-22T16:46:22.090Z"
    }
   },
   "outputs": [],
   "source": [
    "testBitmapNN = np.zeros((miniFrame.shape[0],miniFrame.shape[1]))\n",
    "#testBitmapNN = np.zeros((miniFrame.shape[0],miniFrame.shape[1],3), np.uint8)\n",
    "lTMPNeuronMini = pd.DataFrame(lTMPNeuronList.loc[4]).T\n",
    "lTMPNeuronMini.xPos = int(np.floor(miniFrame.shape[0]/2))\n",
    "#print(lTMPNeuronMini.xPos)\n",
    "lTMPNeuronMini.yPos = int(np.floor(miniFrame.shape[1]/2))\n",
    "#print(lTMPNeuronMini.yPos)\n",
    "testBitmapNN = drawFieldNeurons(lTMPNeuronMini, testBitmapNN,0,0)\n",
    "testBitmapNN[testBitmapNN>0]=255\n",
    "imgplot = plt.imshow(testBitmapNN)\n",
    "lOrigBase = np.sum(miniFrame/255)\n",
    "print(lOrigBase)\n",
    "print(np.sum(testBitmapNN/255))\n",
    "lBrutError = np.sum(np.abs((miniFrame/255)-(testBitmapNN/255)));\n",
    "print(lBrutError)\n",
    "lRelativeError = lBrutError/lOrigBase;\n",
    "print(lRelativeError)"
   ]
  },
  {
   "cell_type": "code",
   "execution_count": null,
   "metadata": {
    "ExecuteTime": {
     "start_time": "2019-07-22T16:46:22.100Z"
    }
   },
   "outputs": [],
   "source": [
    "lTmpError = np.abs((miniFrame/255)-(testBitmapNN/255))\n",
    "print(np.sum(lTmpError))\n",
    "imgplot = plt.imshow(lTmpError)  "
   ]
  },
  {
   "cell_type": "code",
   "execution_count": null,
   "metadata": {
    "ExecuteTime": {
     "start_time": "2019-07-22T16:46:22.109Z"
    }
   },
   "outputs": [],
   "source": [
    "getMiniError(miniFrame, pd.DataFrame(lTMPNeuronList.loc[4]).T)"
   ]
  },
  {
   "cell_type": "markdown",
   "metadata": {},
   "source": [
    "##### Raffinage\n",
    "Obtention d'une nouvelle variable globale <b>LineNeuronPop</b>"
   ]
  },
  {
   "cell_type": "code",
   "execution_count": null,
   "metadata": {
    "ExecuteTime": {
     "start_time": "2019-07-22T16:46:22.118Z"
    }
   },
   "outputs": [],
   "source": [
    "LineNeuronPop =  checkNeuronLineList(lTMPNeuronList, frame)"
   ]
  },
  {
   "cell_type": "markdown",
   "metadata": {},
   "source": [
    "##### Affichage du résultat "
   ]
  },
  {
   "cell_type": "code",
   "execution_count": null,
   "metadata": {
    "ExecuteTime": {
     "start_time": "2019-07-22T16:46:22.127Z"
    }
   },
   "outputs": [],
   "source": [
    "testBitmap = np.zeros((frame.shape[0],frame.shape[1],3), np.uint8)\n",
    "testBitmap = drawFieldNeurons(LineNeuronPop, testBitmap,0,0)\n",
    "imgplot = plt.imshow(testBitmap)"
   ]
  },
  {
   "cell_type": "markdown",
   "metadata": {},
   "source": [
    "### Test 8 : Two Small video Frame\n",
    "\n",
    "#### Get the first frame"
   ]
  },
  {
   "cell_type": "code",
   "execution_count": null,
   "metadata": {
    "ExecuteTime": {
     "start_time": "2019-07-22T16:46:22.136Z"
    },
    "scrolled": true
   },
   "outputs": [],
   "source": [
    "frame1 = generateToy(6,160,256,1)\n",
    "imgplot = plt.imshow(frame1) "
   ]
  },
  {
   "cell_type": "markdown",
   "metadata": {},
   "source": [
    "#### Génération des neurones à champs récepteur"
   ]
  },
  {
   "cell_type": "code",
   "execution_count": null,
   "metadata": {
    "ExecuteTime": {
     "start_time": "2019-07-22T16:46:22.147Z"
    },
    "scrolled": true
   },
   "outputs": [],
   "source": [
    "titi = getFieldNeuronPopulation(frame1)"
   ]
  },
  {
   "cell_type": "code",
   "execution_count": null,
   "metadata": {
    "ExecuteTime": {
     "start_time": "2019-07-22T16:46:22.158Z"
    },
    "scrolled": true
   },
   "outputs": [],
   "source": [
    "titi.groupby('angle').agg(['mean', 'count'])"
   ]
  },
  {
   "cell_type": "markdown",
   "metadata": {},
   "source": [
    "#### Affichage graphique du champs récepteur des neurones"
   ]
  },
  {
   "cell_type": "code",
   "execution_count": null,
   "metadata": {
    "ExecuteTime": {
     "start_time": "2019-07-22T16:46:22.168Z"
    },
    "scrolled": true
   },
   "outputs": [],
   "source": [
    "testBitmap = np.zeros((frame.shape[0],frame.shape[1],3), np.uint8)\n",
    "testBitmap = drawFieldNeurons(titi, testBitmap)\n",
    "imgplot = plt.imshow(testBitmap)"
   ]
  },
  {
   "cell_type": "markdown",
   "metadata": {
    "ExecuteTime": {
     "start_time": "2019-07-22T16:46:22.229Z"
    }
   },
   "source": [
    "#### Simplification"
   ]
  },
  {
   "cell_type": "code",
   "execution_count": null,
   "metadata": {
    "ExecuteTime": {
     "start_time": "2019-07-22T16:46:22.179Z"
    }
   },
   "outputs": [],
   "source": [
    "lTMPNeuronList = getLineNeuronList(titi,0)\n",
    "print(lTMPNeuronList)"
   ]
  },
  {
   "cell_type": "code",
   "execution_count": null,
   "metadata": {
    "ExecuteTime": {
     "start_time": "2019-07-22T16:46:22.188Z"
    }
   },
   "outputs": [],
   "source": [
    "testBitmap = np.zeros((frame1.shape[0],frame1.shape[1],3), np.uint8)\n",
    "testBitmap = drawFieldNeurons(lTMPNeuronList, testBitmap,0,0)\n",
    "imgplot = plt.imshow(testBitmap)"
   ]
  },
  {
   "cell_type": "markdown",
   "metadata": {},
   "source": [
    "##### Raffinage\n",
    "Obtention d'une nouvelle variable globale <b>LineNeuronPop</b>"
   ]
  },
  {
   "cell_type": "code",
   "execution_count": null,
   "metadata": {
    "ExecuteTime": {
     "start_time": "2019-07-22T16:46:22.199Z"
    }
   },
   "outputs": [],
   "source": [
    "LineNeuronPop =  checkNeuronLineList(lTMPNeuronList, frame1)\n",
    "print(LineNeuronPop)"
   ]
  },
  {
   "cell_type": "markdown",
   "metadata": {},
   "source": [
    "##### Affichage du résultat "
   ]
  },
  {
   "cell_type": "code",
   "execution_count": null,
   "metadata": {
    "ExecuteTime": {
     "start_time": "2019-07-22T16:46:22.209Z"
    }
   },
   "outputs": [],
   "source": [
    "testBitmap = np.zeros((frame1.shape[0],frame1.shape[1],3), np.uint8)\n",
    "testBitmap = drawFieldNeurons(LineNeuronPop, testBitmap,0,0)\n",
    "imgplot = plt.imshow(testBitmap)"
   ]
  },
  {
   "cell_type": "markdown",
   "metadata": {
    "ExecuteTime": {
     "end_time": "2019-07-22T14:50:13.745771Z",
     "start_time": "2019-07-22T14:50:13.727782Z"
    }
   },
   "source": [
    "##### Création du tableau de stockage des mouvements"
   ]
  },
  {
   "cell_type": "code",
   "execution_count": null,
   "metadata": {
    "ExecuteTime": {
     "start_time": "2019-07-22T16:46:22.219Z"
    }
   },
   "outputs": [],
   "source": [
    "lMoves = np.zeros(len(LineNeuronPop), dtype=moveType)\n",
    "lpMoves = pd.DataFrame(lMoves)"
   ]
  },
  {
   "cell_type": "code",
   "execution_count": null,
   "metadata": {
    "ExecuteTime": {
     "start_time": "2019-07-22T16:46:22.229Z"
    }
   },
   "outputs": [],
   "source": [
    "lpMoves"
   ]
  },
  {
   "cell_type": "markdown",
   "metadata": {},
   "source": [
    "#### Get the Second Frame"
   ]
  },
  {
   "cell_type": "code",
   "execution_count": null,
   "metadata": {
    "ExecuteTime": {
     "start_time": "2019-07-22T16:46:22.242Z"
    },
    "scrolled": true
   },
   "outputs": [],
   "source": [
    "frame2 = generateToy(7,160,256,1)\n",
    "imgplot = plt.imshow(frame2) "
   ]
  },
  {
   "cell_type": "markdown",
   "metadata": {},
   "source": [
    "##### petite frame"
   ]
  },
  {
   "cell_type": "code",
   "execution_count": null,
   "metadata": {
    "ExecuteTime": {
     "start_time": "2019-07-22T16:46:22.253Z"
    }
   },
   "outputs": [],
   "source": [
    "\n",
    "lMiniFrame0 = getSmallerFrame(LineNeuronPop.loc[0], frame2)\n",
    "plt.imshow(lMiniFrame0)"
   ]
  },
  {
   "cell_type": "code",
   "execution_count": null,
   "metadata": {
    "ExecuteTime": {
     "start_time": "2019-07-22T16:46:22.263Z"
    }
   },
   "outputs": [],
   "source": [
    "#getNeuroneReceptiveField(lmnFrame, lNeuron, lVerbose=False)\n",
    "currentLineNeuron = pd.DataFrame(LineNeuronPop.loc[0]).T\n",
    "lNeuronRF = getNeuroneReceptiveField(lMiniFrame0,currentLineNeuron)\n",
    "plt.imshow(lNeuronRF)"
   ]
  },
  {
   "cell_type": "code",
   "execution_count": null,
   "metadata": {
    "ExecuteTime": {
     "start_time": "2019-07-22T16:46:22.272Z"
    }
   },
   "outputs": [],
   "source": [
    "lCurrentMask = getMask(lNeuronRF,3)\n",
    "plt.imshow(lCurrentMask)"
   ]
  },
  {
   "cell_type": "code",
   "execution_count": null,
   "metadata": {
    "ExecuteTime": {
     "start_time": "2019-07-22T16:46:22.282Z"
    }
   },
   "outputs": [],
   "source": [
    "lMiniFrame0 = np.multiply(lMiniFrame0,lMiniFrame0)\n",
    "plt.imshow(lMiniFrame0)"
   ]
  },
  {
   "cell_type": "code",
   "execution_count": null,
   "metadata": {
    "ExecuteTime": {
     "start_time": "2019-07-22T16:46:22.293Z"
    }
   },
   "outputs": [],
   "source": [
    "lMiniFrame0[lMiniFrame0>0]=255"
   ]
  },
  {
   "cell_type": "code",
   "execution_count": null,
   "metadata": {
    "ExecuteTime": {
     "start_time": "2019-07-22T16:46:22.303Z"
    }
   },
   "outputs": [],
   "source": [
    "np.max(lMiniFrame0)"
   ]
  },
  {
   "cell_type": "code",
   "execution_count": null,
   "metadata": {
    "ExecuteTime": {
     "start_time": "2019-07-22T16:46:22.314Z"
    }
   },
   "outputs": [],
   "source": [
    "lCurrentFNPop = getFieldNeuronPopulation(lMiniFrame0)"
   ]
  },
  {
   "cell_type": "code",
   "execution_count": null,
   "metadata": {
    "ExecuteTime": {
     "start_time": "2019-07-22T16:46:22.327Z"
    }
   },
   "outputs": [],
   "source": [
    "lCurrentFNPop.groupby('angle').agg(['mean', 'count'])"
   ]
  },
  {
   "cell_type": "code",
   "execution_count": null,
   "metadata": {
    "ExecuteTime": {
     "start_time": "2019-07-22T16:46:22.337Z"
    }
   },
   "outputs": [],
   "source": [
    "lCurrentAfN = getAvgFieldNeuron(lCurrentFNPop)"
   ]
  },
  {
   "cell_type": "code",
   "execution_count": null,
   "metadata": {
    "ExecuteTime": {
     "start_time": "2019-07-22T16:46:22.348Z"
    }
   },
   "outputs": [],
   "source": [
    "lCurrentAfN"
   ]
  },
  {
   "cell_type": "code",
   "execution_count": null,
   "metadata": {
    "ExecuteTime": {
     "start_time": "2019-07-22T16:46:22.357Z"
    }
   },
   "outputs": [],
   "source": [
    "currentLineNeuron"
   ]
  },
  {
   "cell_type": "code",
   "execution_count": null,
   "metadata": {
    "ExecuteTime": {
     "start_time": "2019-07-22T16:46:22.367Z"
    }
   },
   "outputs": [],
   "source": [
    "len(LineNeuronPop)"
   ]
  },
  {
   "cell_type": "code",
   "execution_count": null,
   "metadata": {
    "ExecuteTime": {
     "start_time": "2019-07-22T16:46:22.376Z"
    }
   },
   "outputs": [],
   "source": [
    "lpMoves.loc[0,'angle']=lCurrentAfN.angle.to_numpy() - currentLineNeuron.angle.to_numpy()\n",
    "lpMoves.loc[0,'weight']=lCurrentAfN.weight.to_numpy() - currentLineNeuron.weight.to_numpy()\n",
    "lpMoves.loc[0,'xPos']=lCurrentAfN.xPos.to_numpy() - currentLineNeuron.xPos.to_numpy()\n",
    "lpMoves.loc[0,'yPos']=lCurrentAfN.yPos.to_numpy() - currentLineNeuron.yPos.to_numpy()"
   ]
  },
  {
   "cell_type": "code",
   "execution_count": null,
   "metadata": {
    "ExecuteTime": {
     "start_time": "2019-07-22T16:46:22.385Z"
    }
   },
   "outputs": [],
   "source": [
    "lpMoves.loc[0,'angle']"
   ]
  },
  {
   "cell_type": "code",
   "execution_count": null,
   "metadata": {},
   "outputs": [],
   "source": []
  },
  {
   "cell_type": "code",
   "execution_count": null,
   "metadata": {
    "ExecuteTime": {
     "start_time": "2019-07-22T16:46:22.399Z"
    }
   },
   "outputs": [],
   "source": [
    "lMoves = np.zeros(len(LineNeuronPop), dtype=moveType)\n",
    "lpMoves = pd.DataFrame(lMoves)\n",
    "getVariation(frame2,LineNeuronPop,lpMoves)"
   ]
  },
  {
   "cell_type": "markdown",
   "metadata": {},
   "source": [
    "### Test 9 : video frame\n",
    "#### Get Video frame"
   ]
  },
  {
   "cell_type": "code",
   "execution_count": null,
   "metadata": {
    "ExecuteTime": {
     "start_time": "2019-07-22T16:46:22.409Z"
    }
   },
   "outputs": [],
   "source": [
    "frame = Cannyframe\n",
    "imgplot = plt.imshow(frame)"
   ]
  },
  {
   "cell_type": "markdown",
   "metadata": {},
   "source": [
    "#### Génération des neurones à champs récepteur"
   ]
  },
  {
   "cell_type": "code",
   "execution_count": null,
   "metadata": {
    "ExecuteTime": {
     "start_time": "2019-07-22T16:46:22.419Z"
    },
    "scrolled": true
   },
   "outputs": [],
   "source": [
    "indices = np.where(frame != [0])\n",
    "nbPixelsAll = nbPixelField(indices[0], indices[1], frame, tailleField)\n",
    "titi = getNeuronActivationList(indices[0], indices[1], tailleField, frame,\n",
    "                               nbPixelsAll)"
   ]
  },
  {
   "cell_type": "code",
   "execution_count": null,
   "metadata": {
    "ExecuteTime": {
     "start_time": "2019-07-22T16:46:22.429Z"
    },
    "scrolled": true
   },
   "outputs": [],
   "source": [
    "titi.describe()"
   ]
  },
  {
   "cell_type": "code",
   "execution_count": null,
   "metadata": {
    "ExecuteTime": {
     "start_time": "2019-07-22T16:46:22.439Z"
    },
    "scrolled": false
   },
   "outputs": [],
   "source": [
    "titi[0:4]"
   ]
  },
  {
   "cell_type": "markdown",
   "metadata": {},
   "source": [
    "#### Affichage graphique du champs récepteur des neurones"
   ]
  },
  {
   "cell_type": "code",
   "execution_count": null,
   "metadata": {
    "ExecuteTime": {
     "start_time": "2019-07-22T16:46:22.448Z"
    },
    "scrolled": true
   },
   "outputs": [],
   "source": [
    "testBitmap = np.zeros((frame.shape[0],frame.shape[1],3), np.uint8)\n",
    "testBitmap = drawFieldNeurons(titi, testBitmap)\n",
    "imgplot = plt.imshow(testBitmap)"
   ]
  },
  {
   "cell_type": "code",
   "execution_count": null,
   "metadata": {
    "ExecuteTime": {
     "start_time": "2019-07-22T16:46:22.457Z"
    },
    "scrolled": true
   },
   "outputs": [],
   "source": [
    "lintI = 0\n",
    "while (lintI < 10):\n",
    "    cv2.imshow('testBitmap', testBitmap)\n",
    "    if cv2.waitKey(1) & 0xFF == ord('q'): # press q to quit\n",
    "        break\n",
    "    lintI += 1"
   ]
  },
  {
   "cell_type": "markdown",
   "metadata": {},
   "source": [
    "##### Affichage de la frame :\n",
    "\n",
    "![Edge detection frame image, with the Canny Algorithm](frame01.png)\n",
    "\n",
    "##### Affichage des champs récepteurs des neurones\n",
    "\n",
    "![NeuronField Image : Le niveau de gris correspond au niveau d'activation du neurone](neuronField01.png)\n"
   ]
  },
  {
   "cell_type": "markdown",
   "metadata": {},
   "source": [
    "#### Génération des groupes"
   ]
  },
  {
   "cell_type": "code",
   "execution_count": null,
   "metadata": {
    "ExecuteTime": {
     "start_time": "2019-07-22T16:46:22.468Z"
    }
   },
   "outputs": [],
   "source": [
    "findGroups(titi);"
   ]
  },
  {
   "cell_type": "code",
   "execution_count": null,
   "metadata": {
    "ExecuteTime": {
     "start_time": "2019-07-22T16:46:22.478Z"
    },
    "scrolled": true
   },
   "outputs": [],
   "source": [
    "titi.groupby('groupID').size().hist()"
   ]
  },
  {
   "cell_type": "code",
   "execution_count": null,
   "metadata": {
    "ExecuteTime": {
     "start_time": "2019-07-22T16:46:22.486Z"
    }
   },
   "outputs": [],
   "source": [
    "resultGroup = titi.groupby('groupID').size()\n",
    "resultGroup[resultGroup>10].hist()"
   ]
  },
  {
   "cell_type": "code",
   "execution_count": null,
   "metadata": {
    "ExecuteTime": {
     "start_time": "2019-07-22T16:46:22.497Z"
    },
    "scrolled": true
   },
   "outputs": [],
   "source": [
    "titi.groupby('groupID').agg(['mean', 'count'])[resultGroup>130]"
   ]
  },
  {
   "cell_type": "markdown",
   "metadata": {},
   "source": [
    "# Warning list"
   ]
  },
  {
   "cell_type": "markdown",
   "metadata": {},
   "source": [
    "## Warning 10\n",
    "Problème dans la fonction [getNeuronActivationList](#Création-d'une-liste-de-neurones-à-champs-récepteurs)\n",
    "\n",
    "## Warning 20\n",
    "\n",
    "## Warning 30\n",
    "\n",
    "## Warning 40\n",
    "\n",
    "## Warning 50\n",
    "\n",
    "## Warning 60\n",
    "\n"
   ]
  },
  {
   "cell_type": "code",
   "execution_count": null,
   "metadata": {},
   "outputs": [],
   "source": []
  }
 ],
 "metadata": {
  "kernelspec": {
   "display_name": "Python 3",
   "language": "python",
   "name": "python3"
  },
  "language_info": {
   "codemirror_mode": {
    "name": "ipython",
    "version": 3
   },
   "file_extension": ".py",
   "mimetype": "text/x-python",
   "name": "python",
   "nbconvert_exporter": "python",
   "pygments_lexer": "ipython3",
   "version": "3.7.3"
  },
  "toc": {
   "base_numbering": 1,
   "nav_menu": {},
   "number_sections": true,
   "sideBar": true,
   "skip_h1_title": false,
   "title_cell": "Table of Contents",
   "title_sidebar": "Contents",
   "toc_cell": false,
   "toc_position": {
    "height": "calc(100% - 180px)",
    "left": "10px",
    "top": "150px",
    "width": "448px"
   },
   "toc_section_display": true,
   "toc_window_display": true
  },
  "varInspector": {
   "cols": {
    "lenName": 16,
    "lenType": 16,
    "lenVar": 40
   },
   "kernels_config": {
    "python": {
     "delete_cmd_postfix": "",
     "delete_cmd_prefix": "del ",
     "library": "var_list.py",
     "varRefreshCmd": "print(var_dic_list())"
    },
    "r": {
     "delete_cmd_postfix": ") ",
     "delete_cmd_prefix": "rm(",
     "library": "var_list.r",
     "varRefreshCmd": "cat(var_dic_list()) "
    }
   },
   "types_to_exclude": [
    "module",
    "function",
    "builtin_function_or_method",
    "instance",
    "_Feature"
   ],
   "window_display": false
  }
 },
 "nbformat": 4,
 "nbformat_minor": 2
}
