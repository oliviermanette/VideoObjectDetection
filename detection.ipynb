{
 "cells": [
  {
   "cell_type": "markdown",
   "metadata": {},
   "source": [
    "% Video Object Detection #\n",
    "# import"
   ]
  },
  {
   "cell_type": "code",
   "execution_count": 1,
   "metadata": {
    "ExecuteTime": {
     "end_time": "2019-07-19T23:40:19.184875Z",
     "start_time": "2019-07-19T23:40:16.915161Z"
    }
   },
   "outputs": [
    {
     "name": "stdout",
     "output_type": "stream",
     "text": [
      "4.1.0\n"
     ]
    }
   ],
   "source": [
    "import cv2\n",
    "print(cv2.__version__)\n",
    "import matplotlib\n",
    "import matplotlib.pyplot as plt\n",
    "import numpy as np\n",
    "from numpy import pi\n",
    "import pandas as pd\n",
    "import os\n",
    "from numba import jit"
   ]
  },
  {
   "cell_type": "markdown",
   "metadata": {},
   "source": [
    "# File selection"
   ]
  },
  {
   "cell_type": "code",
   "execution_count": 2,
   "metadata": {
    "ExecuteTime": {
     "end_time": "2019-07-19T23:40:19.233974Z",
     "start_time": "2019-07-19T23:40:19.227449Z"
    }
   },
   "outputs": [],
   "source": [
    "path = \"/Users/oliviermanette/Desktop/trailer detection challenge/data/P473_Arizona_Day_Asphalt_Close_To_Sunset_dry_Nominal_8300lx\"\n",
    "os.chdir(path)"
   ]
  },
  {
   "cell_type": "code",
   "execution_count": 3,
   "metadata": {
    "ExecuteTime": {
     "end_time": "2019-07-19T23:40:19.295092Z",
     "start_time": "2019-07-19T23:40:19.277729Z"
    }
   },
   "outputs": [
    {
     "data": {
      "text/plain": [
       "'/Users/oliviermanette/Desktop/trailer detection challenge/data/P473_Arizona_Day_Asphalt_Close_To_Sunset_dry_Nominal_8300lx'"
      ]
     },
     "execution_count": 3,
     "metadata": {},
     "output_type": "execute_result"
    }
   ],
   "source": [
    "pwd"
   ]
  },
  {
   "cell_type": "code",
   "execution_count": 4,
   "metadata": {
    "ExecuteTime": {
     "end_time": "2019-07-19T23:40:19.453591Z",
     "start_time": "2019-07-19T23:40:19.299524Z"
    }
   },
   "outputs": [
    {
     "name": "stdout",
     "output_type": "stream",
     "text": [
      "\u001b[1m\u001b[32mP473_Arizona_Day_Asphalt_Close_To_Sunset_dry_Nominal_8300lx.avi\u001b[m\u001b[m*\r\n",
      "\u001b[1m\u001b[32mP473_Arizona_Day_Asphalt_Close_To_Sunset_dry_Nominal_8300lx.dat_GT.csv\u001b[m\u001b[m*\r\n"
     ]
    }
   ],
   "source": [
    "ls"
   ]
  },
  {
   "cell_type": "code",
   "execution_count": 5,
   "metadata": {
    "ExecuteTime": {
     "end_time": "2019-07-19T23:40:19.460504Z",
     "start_time": "2019-07-19T23:40:19.456834Z"
    }
   },
   "outputs": [],
   "source": [
    "#fileName='W420_ES_Hi_Snow_Slush_Asphalt_28klux.avi'\n",
    "fileName = 'P473_Arizona_Day_Asphalt_Close_To_Sunset_dry_Nominal_8300lx.avi'"
   ]
  },
  {
   "cell_type": "markdown",
   "metadata": {},
   "source": [
    "# Test Video Loop"
   ]
  },
  {
   "cell_type": "code",
   "execution_count": 6,
   "metadata": {
    "ExecuteTime": {
     "end_time": "2019-07-19T23:40:32.693396Z",
     "start_time": "2019-07-19T23:40:19.464174Z"
    }
   },
   "outputs": [],
   "source": [
    "cap = cv2.VideoCapture(fileName)  # load the video\n",
    "while (cap.isOpened()):  # play the video by reading frame by frame\n",
    "    ret, frame = cap.read()\n",
    "    if ret == True:\n",
    "        # optional: do some image processing here\n",
    "        cv2.imshow('frame', frame)\n",
    "        # show the video\n",
    "        if cv2.waitKey(1) & 0xFF == ord('q'):\n",
    "            #if 0xFF == ord('q'):\n",
    "            break\n",
    "    else:\n",
    "        break\n",
    "cap.release()\n",
    "cv2.destroyAllWindows()"
   ]
  },
  {
   "cell_type": "markdown",
   "metadata": {},
   "source": [
    "# Variables globales\n",
    "Pour des raisons de lisibilité du code, l'ensemble des variables locales seront précédés du préfixe 'l' afin de les différencier des variables globales qui n'ont pas de préfixe.\n",
    "## Type de données de position"
   ]
  },
  {
   "cell_type": "code",
   "execution_count": 7,
   "metadata": {
    "ExecuteTime": {
     "end_time": "2019-07-19T23:40:32.706617Z",
     "start_time": "2019-07-19T23:40:32.700167Z"
    }
   },
   "outputs": [],
   "source": [
    "posType = np.dtype([('x', 'u1'), ('y', 'u2')])"
   ]
  },
  {
   "cell_type": "markdown",
   "metadata": {},
   "source": [
    "## Type de données de Neurones"
   ]
  },
  {
   "cell_type": "code",
   "execution_count": 8,
   "metadata": {
    "ExecuteTime": {
     "end_time": "2019-07-19T23:40:32.718126Z",
     "start_time": "2019-07-19T23:40:32.711186Z"
    }
   },
   "outputs": [],
   "source": [
    "NeuronType = np.dtype([('longueur', 'u1'), ('angle', 'f4'), ('weight', 'f4'),\n",
    "                       ('precision', 'f4'), ('xPos', 'u1'), ('yPos', 'u2'),\n",
    "                       ('group', 'u1'), ('layer', 'u1')])"
   ]
  },
  {
   "cell_type": "markdown",
   "metadata": {},
   "source": [
    "## Taille des champs récepteurs neuronaux"
   ]
  },
  {
   "cell_type": "code",
   "execution_count": 9,
   "metadata": {
    "ExecuteTime": {
     "end_time": "2019-07-19T23:40:32.728069Z",
     "start_time": "2019-07-19T23:40:32.722875Z"
    }
   },
   "outputs": [],
   "source": [
    "tailleField = 7"
   ]
  },
  {
   "cell_type": "markdown",
   "metadata": {},
   "source": [
    "# Fonctions\n",
    "## Calcul d'un neurone champ moyen\n",
    "A partir d'une liste de neurones, il retourne le neurone moyen"
   ]
  },
  {
   "cell_type": "code",
   "execution_count": 10,
   "metadata": {
    "ExecuteTime": {
     "end_time": "2019-07-19T23:40:32.748966Z",
     "start_time": "2019-07-19T23:40:32.731894Z"
    }
   },
   "outputs": [],
   "source": [
    "def getAvgFieldNeuron(lNeuronList, typeList=NeuronType):\n",
    "    lNeurons = np.zeros(1, dtype=typeList)\n",
    "    lpNeurons = pd.DataFrame(lNeurons)\n",
    "    lpNeurons['longueur'] = int(lNeuronList.longueur[0:1])\n",
    "    lpNeurons['angle'] = float(\n",
    "        np.sum((lNeuronList.angle * lNeuronList.weight) /\n",
    "               np.sum(lNeuronList.weight)))\n",
    "    lpNeurons['weight'] = float(\n",
    "        np.sum((lNeuronList.weight * lNeuronList.weight) /\n",
    "               np.sum(lNeuronList.weight)))\n",
    "    lpNeurons['precision'] = float(\n",
    "        np.sum((lNeuronList.precision * lNeuronList.weight) /\n",
    "               np.sum(lNeuronList.weight)))\n",
    "    lpNeurons['xPos'] = np.around(\n",
    "        np.sum((lNeuronList.xPos * lNeuronList.weight)) /\n",
    "               np.sum(lNeuronList.weight))\n",
    "    lpNeurons['yPos'] = np.around(\n",
    "        np.sum((lNeuronList.yPos * lNeuronList.weight)) /\n",
    "               np.sum(lNeuronList.weight))\n",
    "    return lpNeurons"
   ]
  },
  {
   "cell_type": "markdown",
   "metadata": {},
   "source": [
    "## Matrice des directions\n",
    "Afin de faciliter le calcul des angles des pixels, une matrice de poids est générée afin d'appliquer à chaque pixel centré sur un champs récepteur un poids correspondant à l'angle d'une ligne passant par ce centre.\n",
    "Voici comment les angles sont représentés <br> <b>IMAGE</b>"
   ]
  },
  {
   "cell_type": "code",
   "execution_count": 11,
   "metadata": {
    "ExecuteTime": {
     "end_time": "2019-07-19T23:40:33.032263Z",
     "start_time": "2019-07-19T23:40:32.752231Z"
    }
   },
   "outputs": [],
   "source": [
    "@jit(nopython=True, parallel=True)\n",
    "def fillAngleMat(lSize):\n",
    "    lOutput = np.zeros((lSize, lSize))\n",
    "    lOffset = int(np.floor(lSize / 2))\n",
    "    for lX in range(0, lSize):\n",
    "        for lY in range(0, lSize):\n",
    "            if (lX - lOffset) == 0:\n",
    "                lOutput[lX, lY] = 90\n",
    "            else:\n",
    "                lOutput[lX, lY] = 0.01 + np.around(\n",
    "                    np.arctan((lY - lOffset) / (lOffset - lX)) / pi * 180, 2)\n",
    "    lOutput[lOffset, lOffset] = 0\n",
    "    return lOutput"
   ]
  },
  {
   "cell_type": "markdown",
   "metadata": {},
   "source": [
    "## Fonction d'activation des neurones\n",
    "Chaque neurone retourne une valeur comprise entre 0 et 255 qui reflète son niveau d'activation. Cette activation reflète le niveau de confiance que le neurone a sur le lien existant entre sa fonction de base et les pixels reçus dans son champs récepteur. Plus les pixels sont organisés de façon à former une ligne avec l'angle correspondant à la fonction de base du neurone et plus ce dernier sera activé. Comme on ne souhaite pas obtenir une activation de valeur infinie, on utilise donc une fonction sigmoide qui s'applique à l'écart-type des angles supposés. "
   ]
  },
  {
   "cell_type": "code",
   "execution_count": 12,
   "metadata": {
    "ExecuteTime": {
     "end_time": "2019-07-19T23:40:33.050471Z",
     "start_time": "2019-07-19T23:40:33.037893Z"
    }
   },
   "outputs": [],
   "source": [
    "@jit(nopython=True, parallel=True)\n",
    "def sigmoidActivationFctN1(lActivationVector):\n",
    "    lDenom = (1 + np.exp(0.1 * (np.abs(np.std(lActivationVector)) - 30)))\n",
    "    return 255 / lDenom"
   ]
  },
  {
   "cell_type": "markdown",
   "metadata": {},
   "source": [
    "## Création d'une liste de neurones à champs récepteurs"
   ]
  },
  {
   "cell_type": "code",
   "execution_count": 13,
   "metadata": {
    "ExecuteTime": {
     "end_time": "2019-07-19T23:40:33.082875Z",
     "start_time": "2019-07-19T23:40:33.054836Z"
    }
   },
   "outputs": [],
   "source": [
    "#@jit(nopython=True, parallel=True)\n",
    "def getNeuronActivationList(idxX, idxY, size, frameE, nbPixelPts, layer=1, lVerbose=False):\n",
    "    #commencer par créer le tableau de neurones\n",
    "    lNeuronType = np.dtype([('longueur', 'u1'), ('angle', 'f4'),\n",
    "                            ('weight', 'f4'), ('precision', 'f4'),\n",
    "                            ('xPos', 'u1'), ('yPos', 'u2'), ('group', 'u1')])\n",
    "    lCriterion = nbPixelPts >= size\n",
    "\n",
    "    nbNeurons = sum(lCriterion)\n",
    "    lNeurons = np.zeros(nbNeurons, dtype=lNeuronType)\n",
    "    lpNeurons = pd.DataFrame(lNeurons)\n",
    "    lpNeurons['longueur'] = size\n",
    "    lpNeurons['layer'] = layer\n",
    "\n",
    "    offsetField = int(np.floor(size / 2))\n",
    "    lAngleMat = fillAngleMat(size)\n",
    "\n",
    "    newX = idxX[lCriterion]\n",
    "    newY = idxY[lCriterion]\n",
    "    if lVerbose:\n",
    "        print(\"size :\" + str(len(newX)))\n",
    "\n",
    "        print(\"newX\")\n",
    "        print(np.min(newX))\n",
    "        print(np.max(newX))\n",
    "        print(\"newY\")\n",
    "        print(np.min(newY))\n",
    "        print(np.max(newY))\n",
    "        print()\n",
    "    pos = 0\n",
    "    lnPos = 0\n",
    "    for lintX in newX:\n",
    "        lintY = newY[pos]\n",
    "        if (lintX - offsetField)<0 or (lintY - offsetField)<0:\n",
    "            print(\"exceed the limit of the matrix\")\n",
    "            pos += 1\n",
    "            continue\n",
    "        \n",
    "        lNeuronFieldFrame = frameE[\n",
    "            int(lintX - offsetField):int(lintX + offsetField + 1),\n",
    "            int(lintY - offsetField):int(lintY + offsetField + 1)] / 255\n",
    "\n",
    "        try:\n",
    "            tmp = np.multiply(lAngleMat, lNeuronFieldFrame)\n",
    "        except:\n",
    "            print(\"error 10 : \")\n",
    "            print(\"lAngleMat\")\n",
    "            print(lAngleMat)\n",
    "            print(\"lNeuronFieldFrame\")\n",
    "            print(lNeuronFieldFrame)\n",
    "            print(\"lintX\")\n",
    "            print(lintX)\n",
    "            print(\"lintY\")\n",
    "            print(lintY)\n",
    "            print(\"offsetField\")\n",
    "            print(offsetField)\n",
    "            continue\n",
    "\n",
    "        lNeuronFieldValues = tmp[np.nonzero(tmp)]\n",
    "        if (lNeuronFieldValues.size > 0):\n",
    "            lpNeurons.loc[pos, ['angle']] = np.mean(lNeuronFieldValues)\n",
    "            lpNeurons.loc[pos, ['weight']] = sigmoidActivationFctN1(\n",
    "                lNeuronFieldValues)\n",
    "            lpNeurons.loc[pos, ['precision']] = np.std(lNeuronFieldValues)\n",
    "            lpNeurons.loc[pos, ['xPos']] = lintX\n",
    "            lpNeurons.loc[pos, ['yPos']] = lintY\n",
    "\n",
    "            lnPos += 1\n",
    "        else:\n",
    "            True  #print (\"error it shouldn't be zero\")\n",
    "        pos += 1\n",
    "    if lVerbose:\n",
    "        print(\"nb de positions couvertes : \" + str(lnPos) + \" sur \" + str(pos))\n",
    "\n",
    "    return lpNeurons"
   ]
  },
  {
   "cell_type": "markdown",
   "metadata": {},
   "source": [
    "## Nombre de pixels actifs dans chaque champs récepteur\n",
    "A partir des coordonnées des centres supposés de chaque champs récepteurs et de la taille du champs récepteur, recherche sur la frame bitmap passée en paramètres, retourne un tableau contenant le nombre de pixels allumés à l'intérieur de chacun de ces champs."
   ]
  },
  {
   "cell_type": "code",
   "execution_count": 14,
   "metadata": {
    "ExecuteTime": {
     "end_time": "2019-07-19T23:40:33.098877Z",
     "start_time": "2019-07-19T23:40:33.087751Z"
    }
   },
   "outputs": [],
   "source": [
    "@jit(nopython=True, parallel=True)\n",
    "def nbPixelField(lTableX, lTableY, lFrameEdge, lintTailleField=3):\n",
    "    lIdx = 0\n",
    "    lResults = np.zeros(lTableX.size)\n",
    "    lRayon = np.floor(lintTailleField / 2)\n",
    "    lTailleMaxX = lFrameEdge.shape[0]\n",
    "    #lTailleMaxY = lFrameEdge.shape[1]\n",
    "    lHalfX = lTailleMaxX / 3\n",
    "\n",
    "    for lPosX in lTableX:\n",
    "        lPosY = lTableY[lIdx]\n",
    "        if lPosX > lHalfX and lPosX >= lRayon and (lPosX +\n",
    "                                                   lRayon) < lTailleMaxX:\n",
    "            lResults[lIdx] = np.sum(\n",
    "                lFrameEdge[int(lPosX - lRayon):int(lPosX + lRayon + 1),\n",
    "                           int(lPosY - lRayon):int(lPosY + lRayon + 1)] / 255)\n",
    "        lIdx += 1\n",
    "    return lResults"
   ]
  },
  {
   "cell_type": "code",
   "execution_count": 15,
   "metadata": {
    "ExecuteTime": {
     "end_time": "2019-07-19T23:40:33.120273Z",
     "start_time": "2019-07-19T23:40:33.107973Z"
    }
   },
   "outputs": [],
   "source": [
    "#@jit(nopython=True, parallel=True)\n",
    "def getNonZero(LImg):\n",
    "    return np.where(LImg != [0])"
   ]
  },
  {
   "cell_type": "markdown",
   "metadata": {},
   "source": [
    "## Coordonnées de la fonction de base (ligne)"
   ]
  },
  {
   "cell_type": "code",
   "execution_count": 16,
   "metadata": {
    "ExecuteTime": {
     "end_time": "2019-07-19T23:40:33.141872Z",
     "start_time": "2019-07-19T23:40:33.125436Z"
    }
   },
   "outputs": [],
   "source": [
    "def getNFCoordinate(lNeurone):\n",
    "    try:\n",
    "        lintDist = int(np.floor(lNeurone.longueur / 2))\n",
    "    except:\n",
    "        lP1 = (0, 0)\n",
    "        lP2 = (0, 0)\n",
    "        return (lP1, lP2)\n",
    "    if np.abs(lNeurone.angle) < 45:\n",
    "        lAlpha = lNeurone.angle / 180 * pi\n",
    "        lintX1 = np.around(lNeurone.xPos - lintDist * np.tan(lAlpha))\n",
    "        lintY1 = lNeurone.yPos + lintDist\n",
    "        lintX2 = np.around(lNeurone.xPos + lintDist * np.tan(lAlpha))\n",
    "        lintY2 = lNeurone.yPos - lintDist\n",
    "    else:\n",
    "        lAlpha = (90 - lNeurone.angle) / 180 * pi\n",
    "        #print(\"yPos = \"+str(lNeurone.yPos)+\"xPos = \"+str(lNeurone.xPos))\n",
    "        lintY1 = np.around(lNeurone.yPos - lintDist * np.tan(lAlpha))\n",
    "        lintX1 = lNeurone.xPos - lintDist\n",
    "        lintY2 = np.around(lNeurone.yPos + lintDist * np.tan(lAlpha))\n",
    "        lintX2 = lNeurone.xPos + lintDist\n",
    "    lP1 = (int(lintY1), int(lintX1))\n",
    "    lP2 = (int(lintY2), int(lintX2))\n",
    "    return lP1, lP2"
   ]
  },
  {
   "cell_type": "code",
   "execution_count": 17,
   "metadata": {
    "ExecuteTime": {
     "end_time": "2019-07-19T23:40:33.163297Z",
     "start_time": "2019-07-19T23:40:33.148543Z"
    }
   },
   "outputs": [
    {
     "data": {
      "text/plain": [
       "0.0"
      ]
     },
     "execution_count": 17,
     "metadata": {},
     "output_type": "execute_result"
    }
   ],
   "source": [
    "np.tan(0)"
   ]
  },
  {
   "cell_type": "markdown",
   "metadata": {},
   "source": [
    "## Calcule la distance entre deux points"
   ]
  },
  {
   "cell_type": "code",
   "execution_count": 18,
   "metadata": {
    "ExecuteTime": {
     "end_time": "2019-07-19T23:40:33.173739Z",
     "start_time": "2019-07-19T23:40:33.167473Z"
    }
   },
   "outputs": [],
   "source": [
    "def getDistance(lx1, ly1, lx2, ly2):\n",
    "    return np.sqrt(\n",
    "        np.power(np.abs(lx1 - lx2), 2) + np.power(np.abs(ly1 - ly2), 2))"
   ]
  },
  {
   "cell_type": "markdown",
   "metadata": {},
   "source": [
    "## Retourne les neurones les plus proches d'un point"
   ]
  },
  {
   "cell_type": "code",
   "execution_count": 19,
   "metadata": {
    "ExecuteTime": {
     "end_time": "2019-07-19T23:40:33.193157Z",
     "start_time": "2019-07-19T23:40:33.177931Z"
    }
   },
   "outputs": [],
   "source": [
    "def closestFieldNeurons(lneuronList, lposX, lposY, ldistance):\n",
    "\n",
    "    return lneuronList[(lneuronList.xPos >= lposX - ldistance)\n",
    "                       & (lneuronList.xPos <= lposX + ldistance) &\n",
    "                       (lneuronList.yPos >= lposY - ldistance) &\n",
    "                       (lneuronList.yPos <= lposY + ldistance)]"
   ]
  },
  {
   "cell_type": "markdown",
   "metadata": {},
   "source": [
    "## Dessine les fonctions de base des neurones sur un bitmap"
   ]
  },
  {
   "cell_type": "code",
   "execution_count": 20,
   "metadata": {
    "ExecuteTime": {
     "end_time": "2019-07-19T23:40:33.212063Z",
     "start_time": "2019-07-19T23:40:33.196264Z"
    }
   },
   "outputs": [],
   "source": [
    "def drawFieldNeurons(lNeuronList, lBitmap, lVerbose=False):\n",
    "    for index, lNeuron in lNeuronList.iterrows():\n",
    "        #for lNeuron in lNeuronList:\n",
    "        lCoord = getNFCoordinate(lNeuron)\n",
    "        if lVerbose:\n",
    "            print(lNeuron)\n",
    "            print(lCoord)\n",
    "        try:\n",
    "            cv2.line(lBitmap, lCoord[0], lCoord[1], (int(\n",
    "                lNeuron.weight), int(lNeuron.weight), int(lNeuron.weight)), 1)\n",
    "        except:\n",
    "            True\n",
    "    return lBitmap"
   ]
  },
  {
   "cell_type": "markdown",
   "metadata": {
    "ExecuteTime": {
     "end_time": "2019-07-18T17:53:27.662094Z",
     "start_time": "2019-07-18T17:53:27.647097Z"
    }
   },
   "source": [
    "## Find neuronal groups\n",
    "Un groupe neuronal est un ensemble de neurone dont les champs récepteurs sont complémentaires les uns des autres. Pour faire  partie d'un champs récepteur, deux conditions doivent être réunies.\n",
    "<b>(A compléter)</b>\n",
    "### Translation\n",
    "Retourne les coordonnées d'un point translaté d'une certaine distance avec un certain angle. Cette fonction demande un angle, une distance et les coordonnées d'un point de départ. Il retourne ensuite les coordonnées après translation."
   ]
  },
  {
   "cell_type": "code",
   "execution_count": 21,
   "metadata": {
    "ExecuteTime": {
     "end_time": "2019-07-19T23:40:33.234608Z",
     "start_time": "2019-07-19T23:40:33.224049Z"
    }
   },
   "outputs": [],
   "source": [
    "#@jit(nopython=True, parallel=True)\n",
    "def moveCoordDeg(langle, lstartX, lstartY, ldistance, lVerbose=False):\n",
    "    if lVerbose:\n",
    "        ##DEBUG\n",
    "        print(\"* moveCoordDeg(\" + str(float(langle)) + \",\" +\n",
    "              str(int(lstartX)) + \",\" + str(int(lstartY)) +\n",
    "              \",\" + str(int(ldistance))+\")\")\n",
    "        ##DEBUG\n",
    "    ltipX = lstartX + ldistance * np.cos(langle / 180 * pi)\n",
    "    ltipY = lstartY - ldistance * np.sin(langle / 180 * pi)\n",
    "    if lVerbose:\n",
    "        print (\"* coord ==> (\"+str(ltipX)+\",\"+str(ltipY))\n",
    "    return ltipX, ltipY"
   ]
  },
  {
   "cell_type": "markdown",
   "metadata": {},
   "source": [
    "Effectue le même calcul que la fonction <i>moveCoordDeg </i>  mais prend comme paramètre un neurone. Il effectue la translation en prenant comme point de départ le centre du champs récepteur et effectue un déplacement de la taille de ce champs dans la direction de la fonction de base. "
   ]
  },
  {
   "cell_type": "code",
   "execution_count": 22,
   "metadata": {
    "ExecuteTime": {
     "end_time": "2019-07-19T23:40:33.248416Z",
     "start_time": "2019-07-19T23:40:33.240499Z"
    }
   },
   "outputs": [],
   "source": [
    "def getNextPosition(lneuroneMoyen, lVerbose): \n",
    "    return moveCoordDeg(float(lneuroneMoyen.angle), int(lneuroneMoyen.xPos),\n",
    "                        int(lneuroneMoyen.yPos), int(lneuroneMoyen.longueur), lVerbose)"
   ]
  },
  {
   "cell_type": "markdown",
   "metadata": {},
   "source": [
    "### Calcul des  groupes à partir d'une liste de neurones à champs récepteurs"
   ]
  },
  {
   "cell_type": "code",
   "execution_count": 23,
   "metadata": {
    "ExecuteTime": {
     "end_time": "2019-07-19T23:40:33.300605Z",
     "start_time": "2019-07-19T23:40:33.258593Z"
    }
   },
   "outputs": [],
   "source": [
    "def findGroups(lneuronList, lVerbose=False):\n",
    "    # Sélection d'un nouveau numéro de Groupe (GroupID)\n",
    "    lintCurrentGroupID = 0\n",
    "    lintNbGroups = 0\n",
    "    lIndex = 0\n",
    "\n",
    "    ##DEBUG\n",
    "    lnbNeuron = 0\n",
    "    ##DEBUG\n",
    "    # liste des neurones sans groupe\n",
    "    lNoGroupList = lneuronList[lneuronList.group == 0]\n",
    "\n",
    "    while lNoGroupList.shape[0] > 0:\n",
    "\n",
    "        #Sélection d'un neurone dans la liste (ceux sans groupID ou groupID=0)\n",
    "        lMoyenNeuron = lNoGroupList.iloc[0]\n",
    "        lIndex = lNoGroupList.head().index.values[0]\n",
    "\n",
    "        while True:\n",
    "            #Assignation d'un nouveau numéro de GroupID en cours\n",
    "            lintNbGroups += 1\n",
    "            lintCurrentGroupID += 1\n",
    "            if lneuronList[lneuronList.group ==\n",
    "                           lintCurrentGroupID].shape[0] == 0:\n",
    "                break\n",
    "\n",
    "        lneuronList.loc[lIndex, ['group']] = lintCurrentGroupID\n",
    "\n",
    "        #déplacement\n",
    "        lnPos = getNextPosition(lMoyenNeuron, lVerbose)\n",
    "\n",
    "        #recherche de neurones proches\n",
    "        lClosestNeurons = closestFieldNeurons(\n",
    "            lneuronList, lnPos[0], lnPos[1],\n",
    "            int(np.floor(lMoyenNeuron.longueur / 2)))\n",
    "        if lVerbose:\n",
    "            print(\"\")\n",
    "            print(\"\")\n",
    "            print(\"Coordonnées en cours : (\" + str(lnPos[0]) + \",\" +\n",
    "                  str(lnPos[1]) + \")\")\n",
    "\n",
    "            lnbNeuron += 1\n",
    "            if lClosestNeurons.shape[0] == 0:\n",
    "                print(\"Aucun neurone a proximité pour le neurone #\" +\n",
    "                      str(lnbNeuron) + \" aux coordonnées : (\" + str(lnPos[0]) +\n",
    "                      \",\" + str(lnPos[1]) + str(\") a la distance :\") +\n",
    "                      str(int(np.floor(lMoyenNeuron.longueur / 2))))\n",
    "\n",
    "            #Oui ==> retour étape 1\n",
    "            lNbFindGroup = 0\n",
    "\n",
    "        while lClosestNeurons.shape[0] != 0:\n",
    "            #recherche des groupID dans cette sous-sélection\n",
    "            if lClosestNeurons[lClosestNeurons.group > 0].shape[0] == 0:\n",
    "                #Non => Assigner à tous les neurones de la sous-sélection\n",
    "                #le groupID en cours => aller directement à l'étape 7\n",
    "                if lVerbose:\n",
    "                    print(\"Aucun neurone dans le groupe : \" +\n",
    "                          str(lintCurrentGroupID))\n",
    "\n",
    "                for lintIdx in lClosestNeurons.head().index.values:\n",
    "                    lneuronList.loc[lintIdx, ['group']] = lintCurrentGroupID\n",
    "            else:\n",
    "                #Oui\n",
    "                if lVerbose:\n",
    "                    ##DEBUG\n",
    "                    #lNbFindGroup += 1\n",
    "                    print(\"Trouvé \" + str(lClosestNeurons[\n",
    "                        lClosestNeurons.group > 0].shape[0]) +\n",
    "                          \" neurone(s) déja dans des groupes :\")\n",
    "                    print(\"Groupe en cours : \" + str(lintCurrentGroupID))\n",
    "\n",
    "                #Récupération de la liste de tous les groupID utilisés\n",
    "                #Sélection du groupID le plus petit\n",
    "                #(en comparant aussi avec le groupID en cours)\n",
    "                lintPreviousGroupID = lintCurrentGroupID\n",
    "                lintCurrentGroupID = np.min(\n",
    "                    lClosestNeurons[lClosestNeurons.group > 0].group)\n",
    "                if lVerbose:\n",
    "                    print(\"Change pour le groupe #\" + str(lintCurrentGroupID))\n",
    "                    print(\"-\")\n",
    "                #Assigner au neurone en cours le nouveau groupe\n",
    "                lneuronList.loc[lIndex, ['group']] = lintCurrentGroupID\n",
    "                #Assigner à tous les neurones de la sous-sélection ce nouveau groupID\n",
    "                for lintIdx in lClosestNeurons.head().index.values:\n",
    "                    lneuronList.loc[lintIdx, ['group']] = lintCurrentGroupID\n",
    "                    #remplacer dans la liste globale,\n",
    "                    #pour chaque groupID présent dans la liste par le nouveau groupID\n",
    "                    for lintGroupID in lClosestNeurons[\n",
    "                            lClosestNeurons.group > 0].group:\n",
    "                        lneuronList.loc[lneuronList.group == lintGroupID,\n",
    "                                        'group'] = lintCurrentGroupID\n",
    "                if lintPreviousGroupID == lintCurrentGroupID:\n",
    "                    #si tous les neurones\n",
    "                    if lClosestNeurons[lClosestNeurons.group >\n",
    "                                       0].shape[0] == lClosestNeurons[\n",
    "                                           lClosestNeurons.group ==\n",
    "                                           lintPreviousGroupID].shape[0]:\n",
    "                        break  # sortie de la boucle while\n",
    "            if lVerbose:\n",
    "                #Calcul du neurone Field moyen\n",
    "                print(\"Neurones trouvé :\")\n",
    "                print(lClosestNeurons)\n",
    "            lMoyenNeuron = getAvgFieldNeuron(lClosestNeurons)\n",
    "            if lVerbose:\n",
    "                print(\"neurone Moyen\")\n",
    "                print(lMoyenNeuron)\n",
    "            #déplacement\n",
    "            lnPos = getNextPosition(lMoyenNeuron, lVerbose)\n",
    "\n",
    "            #recherche de neurones proches\n",
    "            lClosestNeurons = closestFieldNeurons(\n",
    "                lneuronList, lnPos[0], lnPos[1],\n",
    "                int(np.floor(lMoyenNeuron.longueur / 2)))\n",
    "\n",
    "        lNoGroupList = lneuronList[lneuronList.group == 0]\n",
    "    return lneuronList"
   ]
  },
  {
   "cell_type": "markdown",
   "metadata": {},
   "source": [
    "# Video Loop"
   ]
  },
  {
   "cell_type": "code",
   "execution_count": 24,
   "metadata": {
    "ExecuteTime": {
     "end_time": "2019-07-19T23:40:35.897902Z",
     "start_time": "2019-07-19T23:40:33.311216Z"
    }
   },
   "outputs": [],
   "source": [
    "kernelSize = 21  # Kernel Bluring size\n",
    "\n",
    "# Edge Detection Parameter\n",
    "parameter1 = 20\n",
    "parameter2 = 40\n",
    "intApertureSize = 1\n",
    "\n",
    "#cap = cv2.VideoCapture(0)\n",
    "cap = cv2.VideoCapture(fileName)\n",
    "lCounter = 0\n",
    "while (cap.isOpened()):\n",
    "    # Capture frame-by-frame\n",
    "    ret, frame = cap.read()\n",
    "    if ret == True:\n",
    "        # Our operations on the frame come here\n",
    "        if lCounter == 1:\n",
    "            frame = cv2.GaussianBlur(frame, (kernelSize, kernelSize), 0, 0)\n",
    "            frame = cv2.Canny(frame, parameter1, parameter2,\n",
    "                              intApertureSize)  # Canny edge detection\n",
    "            lCounter = 0\n",
    "        lCounter += 1\n",
    "\n",
    "        indices = np.where(frame != [0])\n",
    "        # Display the resulting frame\n",
    "        cv2.imshow('Edges Video', frame)\n",
    "        if cv2.waitKey(1) & 0xFF == ord('q'):  # press q to quit\n",
    "            break\n",
    "    else:\n",
    "        break\n",
    "# When everything done, release the capture\n",
    "cap.release()\n",
    "cv2.destroyAllWindows()"
   ]
  },
  {
   "cell_type": "markdown",
   "metadata": {},
   "source": [
    "# Sandbox\n",
    "## Toy data Generator"
   ]
  },
  {
   "cell_type": "code",
   "execution_count": 25,
   "metadata": {
    "ExecuteTime": {
     "end_time": "2019-07-19T23:40:35.929199Z",
     "start_time": "2019-07-19T23:40:35.901409Z"
    }
   },
   "outputs": [],
   "source": [
    "def generateToy(lType=1, lHauteur=80, lLargeur=128,lepaisseur=1):\n",
    "    lFrame = 0\n",
    "    if lType == 1:\n",
    "        lFrame = np.zeros((lHauteur, lLargeur))\n",
    "        lFrame[:, int((lLargeur-lepaisseur) / 2):int((lLargeur+lepaisseur) / 2)] = 255\n",
    "    elif lType == 2:\n",
    "        lFrame = np.zeros((lHauteur, lLargeur))\n",
    "        lFrame[int((lHauteur-lepaisseur) / 2):int((lHauteur+lepaisseur)/2), :] = 255\n",
    "    elif lType == 3:\n",
    "        lFrame = np.zeros((lHauteur, lLargeur))\n",
    "        cv2.line(lFrame, (int(lLargeur / 3), lHauteur),\n",
    "                 (int(2 * lLargeur / 3), 0), (255, 255, 255), lepaisseur)\n",
    "    elif lType == 4:\n",
    "        lFrame = np.zeros((lHauteur, lLargeur))\n",
    "        cv2.rectangle(lFrame,\n",
    "                      (int(lLargeur / 128 * 10), int(lHauteur / 80 * 30)),\n",
    "                      (int(lLargeur / 128 * 30), int(lHauteur / 80 * 50)),\n",
    "                      (255, 255, 255), lepaisseur)\n",
    "        pts = np.array([[int(lLargeur / 128 *64),\n",
    "                         int(lHauteur / 80 * 30)],\n",
    "                        [int(lLargeur / 128 * 76),\n",
    "                         int(lHauteur / 80 * 50)],\n",
    "                        [int(lLargeur / 128 * 53),\n",
    "                         int(lHauteur / 80 *50)]], np.int32)\n",
    "        ts = pts.reshape((-1, 1, 2))\n",
    "        cv2.polylines(lFrame, [pts], True, (255, 255, 255), lepaisseur)\n",
    "        cv2.circle(lFrame,\n",
    "                   (int(lLargeur / 128 * 107), int(lHauteur / 80 * 40)),\n",
    "                   int(lHauteur / 80 * 10), (255, 255, 255), lepaisseur)\n",
    "    else:\n",
    "        lFrame = np.zeros((lHauteur, lLargeur))\n",
    "        print(\"First parameter should be between 1 to 4\")\n",
    "    return lFrame"
   ]
  },
  {
   "cell_type": "markdown",
   "metadata": {},
   "source": [
    "## Playground\n",
    "### Test 1\n",
    "#### Generate data of type 1"
   ]
  },
  {
   "cell_type": "code",
   "execution_count": 26,
   "metadata": {
    "ExecuteTime": {
     "end_time": "2019-07-19T23:40:36.445535Z",
     "start_time": "2019-07-19T23:40:35.935982Z"
    }
   },
   "outputs": [
    {
     "data": {
      "image/png": "[encoded data removed]",
      "text/plain": [
       "<Figure size 432x288 with 1 Axes>"
      ]
     },
     "metadata": {
      "needs_background": "light"
     },
     "output_type": "display_data"
    }
   ],
   "source": [
    "frame = generateToy(1,80,128,1)\n",
    "imgplot = plt.imshow(frame)"
   ]
  },
  {
   "cell_type": "markdown",
   "metadata": {},
   "source": [
    "#### Génération des neurones à champs récepteur"
   ]
  },
  {
   "cell_type": "code",
   "execution_count": 27,
   "metadata": {
    "ExecuteTime": {
     "end_time": "2019-07-19T23:40:41.219075Z",
     "start_time": "2019-07-19T23:40:36.449096Z"
    }
   },
   "outputs": [],
   "source": [
    "indices = np.where(frame != [0])\n",
    "nbPixelsAll = nbPixelField(indices[0], indices[1], frame, tailleField)\n",
    "titi = getNeuronActivationList(indices[0], indices[1], tailleField, frame,\n",
    "                               nbPixelsAll)"
   ]
  },
  {
   "cell_type": "code",
   "execution_count": 28,
   "metadata": {
    "ExecuteTime": {
     "end_time": "2019-07-19T23:40:41.317454Z",
     "start_time": "2019-07-19T23:40:41.222090Z"
    }
   },
   "outputs": [
    {
     "data": {
      "text/html": [
       "<div>\n",
       "<style scoped>\n",
       "    .dataframe tbody tr th:only-of-type {\n",
       "        vertical-align: middle;\n",
       "    }\n",
       "\n",
       "    .dataframe tbody tr th {\n",
       "        vertical-align: top;\n",
       "    }\n",
       "\n",
       "    .dataframe thead th {\n",
       "        text-align: right;\n",
       "    }\n",
       "</style>\n",
       "<table border=\"1\" class=\"dataframe\">\n",
       "  <thead>\n",
       "    <tr style=\"text-align: right;\">\n",
       "      <th></th>\n",
       "      <th>longueur</th>\n",
       "      <th>angle</th>\n",
       "      <th>weight</th>\n",
       "      <th>precision</th>\n",
       "      <th>xPos</th>\n",
       "      <th>yPos</th>\n",
       "      <th>group</th>\n",
       "      <th>layer</th>\n",
       "    </tr>\n",
       "  </thead>\n",
       "  <tbody>\n",
       "    <tr>\n",
       "      <th>count</th>\n",
       "      <td>50.0</td>\n",
       "      <td>5.000000e+01</td>\n",
       "      <td>50.000000</td>\n",
       "      <td>50.0</td>\n",
       "      <td>50.00000</td>\n",
       "      <td>50.0</td>\n",
       "      <td>50.0</td>\n",
       "      <td>50.0</td>\n",
       "    </tr>\n",
       "    <tr>\n",
       "      <th>mean</th>\n",
       "      <td>7.0</td>\n",
       "      <td>9.999996e-03</td>\n",
       "      <td>242.906311</td>\n",
       "      <td>0.0</td>\n",
       "      <td>51.50000</td>\n",
       "      <td>63.0</td>\n",
       "      <td>0.0</td>\n",
       "      <td>1.0</td>\n",
       "    </tr>\n",
       "    <tr>\n",
       "      <th>std</th>\n",
       "      <td>0.0</td>\n",
       "      <td>3.763112e-09</td>\n",
       "      <td>0.000092</td>\n",
       "      <td>0.0</td>\n",
       "      <td>14.57738</td>\n",
       "      <td>0.0</td>\n",
       "      <td>0.0</td>\n",
       "      <td>0.0</td>\n",
       "    </tr>\n",
       "    <tr>\n",
       "      <th>min</th>\n",
       "      <td>7.0</td>\n",
       "      <td>1.000000e-02</td>\n",
       "      <td>242.906403</td>\n",
       "      <td>0.0</td>\n",
       "      <td>27.00000</td>\n",
       "      <td>63.0</td>\n",
       "      <td>0.0</td>\n",
       "      <td>1.0</td>\n",
       "    </tr>\n",
       "    <tr>\n",
       "      <th>25%</th>\n",
       "      <td>7.0</td>\n",
       "      <td>1.000000e-02</td>\n",
       "      <td>242.906403</td>\n",
       "      <td>0.0</td>\n",
       "      <td>39.25000</td>\n",
       "      <td>63.0</td>\n",
       "      <td>0.0</td>\n",
       "      <td>1.0</td>\n",
       "    </tr>\n",
       "    <tr>\n",
       "      <th>50%</th>\n",
       "      <td>7.0</td>\n",
       "      <td>1.000000e-02</td>\n",
       "      <td>242.906403</td>\n",
       "      <td>0.0</td>\n",
       "      <td>51.50000</td>\n",
       "      <td>63.0</td>\n",
       "      <td>0.0</td>\n",
       "      <td>1.0</td>\n",
       "    </tr>\n",
       "    <tr>\n",
       "      <th>75%</th>\n",
       "      <td>7.0</td>\n",
       "      <td>1.000000e-02</td>\n",
       "      <td>242.906403</td>\n",
       "      <td>0.0</td>\n",
       "      <td>63.75000</td>\n",
       "      <td>63.0</td>\n",
       "      <td>0.0</td>\n",
       "      <td>1.0</td>\n",
       "    </tr>\n",
       "    <tr>\n",
       "      <th>max</th>\n",
       "      <td>7.0</td>\n",
       "      <td>1.000000e-02</td>\n",
       "      <td>242.906403</td>\n",
       "      <td>0.0</td>\n",
       "      <td>76.00000</td>\n",
       "      <td>63.0</td>\n",
       "      <td>0.0</td>\n",
       "      <td>1.0</td>\n",
       "    </tr>\n",
       "  </tbody>\n",
       "</table>\n",
       "</div>"
      ],
      "text/plain": [
       "       longueur         angle      weight  precision      xPos  yPos  group  \\\n",
       "count      50.0  5.000000e+01   50.000000       50.0  50.00000  50.0   50.0   \n",
       "mean        7.0  9.999996e-03  242.906311        0.0  51.50000  63.0    0.0   \n",
       "std         0.0  3.763112e-09    0.000092        0.0  14.57738   0.0    0.0   \n",
       "min         7.0  1.000000e-02  242.906403        0.0  27.00000  63.0    0.0   \n",
       "25%         7.0  1.000000e-02  242.906403        0.0  39.25000  63.0    0.0   \n",
       "50%         7.0  1.000000e-02  242.906403        0.0  51.50000  63.0    0.0   \n",
       "75%         7.0  1.000000e-02  242.906403        0.0  63.75000  63.0    0.0   \n",
       "max         7.0  1.000000e-02  242.906403        0.0  76.00000  63.0    0.0   \n",
       "\n",
       "       layer  \n",
       "count   50.0  \n",
       "mean     1.0  \n",
       "std      0.0  \n",
       "min      1.0  \n",
       "25%      1.0  \n",
       "50%      1.0  \n",
       "75%      1.0  \n",
       "max      1.0  "
      ]
     },
     "execution_count": 28,
     "metadata": {},
     "output_type": "execute_result"
    }
   ],
   "source": [
    "titi.describe()"
   ]
  },
  {
   "cell_type": "code",
   "execution_count": 29,
   "metadata": {
    "ExecuteTime": {
     "end_time": "2019-07-19T23:40:41.345875Z",
     "start_time": "2019-07-19T23:40:41.324627Z"
    }
   },
   "outputs": [
    {
     "data": {
      "text/html": [
       "<div>\n",
       "<style scoped>\n",
       "    .dataframe tbody tr th:only-of-type {\n",
       "        vertical-align: middle;\n",
       "    }\n",
       "\n",
       "    .dataframe tbody tr th {\n",
       "        vertical-align: top;\n",
       "    }\n",
       "\n",
       "    .dataframe thead th {\n",
       "        text-align: right;\n",
       "    }\n",
       "</style>\n",
       "<table border=\"1\" class=\"dataframe\">\n",
       "  <thead>\n",
       "    <tr style=\"text-align: right;\">\n",
       "      <th></th>\n",
       "      <th>longueur</th>\n",
       "      <th>angle</th>\n",
       "      <th>weight</th>\n",
       "      <th>precision</th>\n",
       "      <th>xPos</th>\n",
       "      <th>yPos</th>\n",
       "      <th>group</th>\n",
       "      <th>layer</th>\n",
       "    </tr>\n",
       "  </thead>\n",
       "  <tbody>\n",
       "    <tr>\n",
       "      <th>0</th>\n",
       "      <td>7</td>\n",
       "      <td>0.01</td>\n",
       "      <td>242.906403</td>\n",
       "      <td>0.0</td>\n",
       "      <td>27</td>\n",
       "      <td>63</td>\n",
       "      <td>0</td>\n",
       "      <td>1</td>\n",
       "    </tr>\n",
       "    <tr>\n",
       "      <th>1</th>\n",
       "      <td>7</td>\n",
       "      <td>0.01</td>\n",
       "      <td>242.906403</td>\n",
       "      <td>0.0</td>\n",
       "      <td>28</td>\n",
       "      <td>63</td>\n",
       "      <td>0</td>\n",
       "      <td>1</td>\n",
       "    </tr>\n",
       "    <tr>\n",
       "      <th>2</th>\n",
       "      <td>7</td>\n",
       "      <td>0.01</td>\n",
       "      <td>242.906403</td>\n",
       "      <td>0.0</td>\n",
       "      <td>29</td>\n",
       "      <td>63</td>\n",
       "      <td>0</td>\n",
       "      <td>1</td>\n",
       "    </tr>\n",
       "    <tr>\n",
       "      <th>3</th>\n",
       "      <td>7</td>\n",
       "      <td>0.01</td>\n",
       "      <td>242.906403</td>\n",
       "      <td>0.0</td>\n",
       "      <td>30</td>\n",
       "      <td>63</td>\n",
       "      <td>0</td>\n",
       "      <td>1</td>\n",
       "    </tr>\n",
       "  </tbody>\n",
       "</table>\n",
       "</div>"
      ],
      "text/plain": [
       "   longueur  angle      weight  precision  xPos  yPos  group  layer\n",
       "0         7   0.01  242.906403        0.0    27    63      0      1\n",
       "1         7   0.01  242.906403        0.0    28    63      0      1\n",
       "2         7   0.01  242.906403        0.0    29    63      0      1\n",
       "3         7   0.01  242.906403        0.0    30    63      0      1"
      ]
     },
     "execution_count": 29,
     "metadata": {},
     "output_type": "execute_result"
    }
   ],
   "source": [
    "titi[0:4]"
   ]
  },
  {
   "cell_type": "markdown",
   "metadata": {},
   "source": [
    "#### Affichage graphique du champs récepteur des neurones"
   ]
  },
  {
   "cell_type": "code",
   "execution_count": 30,
   "metadata": {
    "ExecuteTime": {
     "end_time": "2019-07-19T23:40:41.595357Z",
     "start_time": "2019-07-19T23:40:41.350842Z"
    }
   },
   "outputs": [
    {
     "data": {
      "image/png": "[encoded data removed]",
      "text/plain": [
       "<Figure size 432x288 with 1 Axes>"
      ]
     },
     "metadata": {
      "needs_background": "light"
     },
     "output_type": "display_data"
    }
   ],
   "source": [
    "testBitmap = np.zeros((frame.shape[0],frame.shape[1],3), np.uint8)\n",
    "testBitmap = drawFieldNeurons(titi, testBitmap)\n",
    "imgplot = plt.imshow(testBitmap)"
   ]
  },
  {
   "cell_type": "code",
   "execution_count": 31,
   "metadata": {
    "ExecuteTime": {
     "end_time": "2019-07-19T23:40:41.610758Z",
     "start_time": "2019-07-19T23:40:41.599658Z"
    }
   },
   "outputs": [
    {
     "data": {
      "text/plain": [
       "242"
      ]
     },
     "execution_count": 31,
     "metadata": {},
     "output_type": "execute_result"
    }
   ],
   "source": [
    "np.max(testBitmap)"
   ]
  },
  {
   "cell_type": "code",
   "execution_count": 32,
   "metadata": {
    "ExecuteTime": {
     "end_time": "2019-07-19T23:40:41.708974Z",
     "start_time": "2019-07-19T23:40:41.615539Z"
    }
   },
   "outputs": [],
   "source": [
    "lintI = 0\n",
    "while (lintI < 10):\n",
    "    cv2.imshow('FRAME', frame)\n",
    "    if cv2.waitKey(1) & 0xFF == ord('q'):  # press q to quit\n",
    "        break\n",
    "    lintI += 1"
   ]
  },
  {
   "cell_type": "markdown",
   "metadata": {},
   "source": [
    "#### Génération des groupes"
   ]
  },
  {
   "cell_type": "code",
   "execution_count": 33,
   "metadata": {
    "ExecuteTime": {
     "end_time": "2019-07-19T23:40:42.774332Z",
     "start_time": "2019-07-19T23:40:41.711651Z"
    }
   },
   "outputs": [],
   "source": [
    "findGroups(titi);"
   ]
  },
  {
   "cell_type": "code",
   "execution_count": 34,
   "metadata": {
    "ExecuteTime": {
     "end_time": "2019-07-19T23:40:42.843737Z",
     "start_time": "2019-07-19T23:40:42.776464Z"
    }
   },
   "outputs": [
    {
     "data": {
      "text/html": [
       "<div>\n",
       "<style scoped>\n",
       "    .dataframe tbody tr th:only-of-type {\n",
       "        vertical-align: middle;\n",
       "    }\n",
       "\n",
       "    .dataframe tbody tr th {\n",
       "        vertical-align: top;\n",
       "    }\n",
       "\n",
       "    .dataframe thead tr th {\n",
       "        text-align: left;\n",
       "    }\n",
       "\n",
       "    .dataframe thead tr:last-of-type th {\n",
       "        text-align: right;\n",
       "    }\n",
       "</style>\n",
       "<table border=\"1\" class=\"dataframe\">\n",
       "  <thead>\n",
       "    <tr>\n",
       "      <th></th>\n",
       "      <th colspan=\"2\" halign=\"left\">longueur</th>\n",
       "      <th colspan=\"2\" halign=\"left\">angle</th>\n",
       "      <th colspan=\"2\" halign=\"left\">weight</th>\n",
       "      <th colspan=\"2\" halign=\"left\">precision</th>\n",
       "      <th colspan=\"2\" halign=\"left\">xPos</th>\n",
       "      <th colspan=\"2\" halign=\"left\">yPos</th>\n",
       "      <th colspan=\"2\" halign=\"left\">layer</th>\n",
       "    </tr>\n",
       "    <tr>\n",
       "      <th></th>\n",
       "      <th>mean</th>\n",
       "      <th>count</th>\n",
       "      <th>mean</th>\n",
       "      <th>count</th>\n",
       "      <th>mean</th>\n",
       "      <th>count</th>\n",
       "      <th>mean</th>\n",
       "      <th>count</th>\n",
       "      <th>mean</th>\n",
       "      <th>count</th>\n",
       "      <th>mean</th>\n",
       "      <th>count</th>\n",
       "      <th>mean</th>\n",
       "      <th>count</th>\n",
       "    </tr>\n",
       "    <tr>\n",
       "      <th>group</th>\n",
       "      <th></th>\n",
       "      <th></th>\n",
       "      <th></th>\n",
       "      <th></th>\n",
       "      <th></th>\n",
       "      <th></th>\n",
       "      <th></th>\n",
       "      <th></th>\n",
       "      <th></th>\n",
       "      <th></th>\n",
       "      <th></th>\n",
       "      <th></th>\n",
       "      <th></th>\n",
       "      <th></th>\n",
       "    </tr>\n",
       "  </thead>\n",
       "  <tbody>\n",
       "    <tr>\n",
       "      <th>1</th>\n",
       "      <td>7</td>\n",
       "      <td>50</td>\n",
       "      <td>0.01</td>\n",
       "      <td>50</td>\n",
       "      <td>242.906403</td>\n",
       "      <td>50</td>\n",
       "      <td>0.0</td>\n",
       "      <td>50</td>\n",
       "      <td>51.5</td>\n",
       "      <td>50</td>\n",
       "      <td>63</td>\n",
       "      <td>50</td>\n",
       "      <td>1</td>\n",
       "      <td>50</td>\n",
       "    </tr>\n",
       "  </tbody>\n",
       "</table>\n",
       "</div>"
      ],
      "text/plain": [
       "      longueur       angle            weight       precision        xPos  \\\n",
       "          mean count  mean count        mean count      mean count  mean   \n",
       "group                                                                      \n",
       "1            7    50  0.01    50  242.906403    50       0.0    50  51.5   \n",
       "\n",
       "            yPos       layer        \n",
       "      count mean count  mean count  \n",
       "group                               \n",
       "1        50   63    50     1    50  "
      ]
     },
     "execution_count": 34,
     "metadata": {},
     "output_type": "execute_result"
    }
   ],
   "source": [
    "titi.groupby('group').agg(['mean', 'count'])[0:5]"
   ]
  },
  {
   "cell_type": "code",
   "execution_count": 35,
   "metadata": {
    "ExecuteTime": {
     "end_time": "2019-07-19T23:40:43.056623Z",
     "start_time": "2019-07-19T23:40:42.846611Z"
    }
   },
   "outputs": [
    {
     "data": {
      "text/plain": [
       "<matplotlib.axes._subplots.AxesSubplot at 0x129d06eb8>"
      ]
     },
     "execution_count": 35,
     "metadata": {},
     "output_type": "execute_result"
    },
    {
     "data": {
      "image/png": "[encoded data removed]",
      "text/plain": [
       "<Figure size 432x288 with 1 Axes>"
      ]
     },
     "metadata": {
      "needs_background": "light"
     },
     "output_type": "display_data"
    }
   ],
   "source": [
    "titi.groupby('group').size().hist()"
   ]
  },
  {
   "cell_type": "code",
   "execution_count": 36,
   "metadata": {
    "ExecuteTime": {
     "end_time": "2019-07-19T23:40:43.300902Z",
     "start_time": "2019-07-19T23:40:43.059825Z"
    }
   },
   "outputs": [
    {
     "data": {
      "text/plain": [
       "<matplotlib.axes._subplots.AxesSubplot at 0x129925d68>"
      ]
     },
     "execution_count": 36,
     "metadata": {},
     "output_type": "execute_result"
    },
    {
     "data": {
      "image/png": "[encoded data removed]",
      "text/plain": [
       "<Figure size 432x288 with 1 Axes>"
      ]
     },
     "metadata": {
      "needs_background": "light"
     },
     "output_type": "display_data"
    }
   ],
   "source": [
    "resultGroup = titi.groupby('group').size()\n",
    "resultGroup[resultGroup>10].hist()"
   ]
  },
  {
   "cell_type": "code",
   "execution_count": 37,
   "metadata": {
    "ExecuteTime": {
     "end_time": "2019-07-19T23:40:43.368144Z",
     "start_time": "2019-07-19T23:40:43.303923Z"
    }
   },
   "outputs": [
    {
     "data": {
      "text/html": [
       "<div>\n",
       "<style scoped>\n",
       "    .dataframe tbody tr th:only-of-type {\n",
       "        vertical-align: middle;\n",
       "    }\n",
       "\n",
       "    .dataframe tbody tr th {\n",
       "        vertical-align: top;\n",
       "    }\n",
       "\n",
       "    .dataframe thead th {\n",
       "        text-align: right;\n",
       "    }\n",
       "</style>\n",
       "<table border=\"1\" class=\"dataframe\">\n",
       "  <thead>\n",
       "    <tr style=\"text-align: right;\">\n",
       "      <th></th>\n",
       "      <th>longueur</th>\n",
       "      <th>angle</th>\n",
       "      <th>weight</th>\n",
       "      <th>precision</th>\n",
       "      <th>xPos</th>\n",
       "      <th>yPos</th>\n",
       "      <th>group</th>\n",
       "      <th>layer</th>\n",
       "    </tr>\n",
       "  </thead>\n",
       "  <tbody>\n",
       "    <tr>\n",
       "      <th>count</th>\n",
       "      <td>50.0</td>\n",
       "      <td>5.000000e+01</td>\n",
       "      <td>50.000000</td>\n",
       "      <td>50.0</td>\n",
       "      <td>50.00000</td>\n",
       "      <td>50.0</td>\n",
       "      <td>50.0</td>\n",
       "      <td>50.0</td>\n",
       "    </tr>\n",
       "    <tr>\n",
       "      <th>mean</th>\n",
       "      <td>7.0</td>\n",
       "      <td>9.999996e-03</td>\n",
       "      <td>242.906311</td>\n",
       "      <td>0.0</td>\n",
       "      <td>51.50000</td>\n",
       "      <td>63.0</td>\n",
       "      <td>1.0</td>\n",
       "      <td>1.0</td>\n",
       "    </tr>\n",
       "    <tr>\n",
       "      <th>std</th>\n",
       "      <td>0.0</td>\n",
       "      <td>3.763112e-09</td>\n",
       "      <td>0.000092</td>\n",
       "      <td>0.0</td>\n",
       "      <td>14.57738</td>\n",
       "      <td>0.0</td>\n",
       "      <td>0.0</td>\n",
       "      <td>0.0</td>\n",
       "    </tr>\n",
       "    <tr>\n",
       "      <th>min</th>\n",
       "      <td>7.0</td>\n",
       "      <td>1.000000e-02</td>\n",
       "      <td>242.906403</td>\n",
       "      <td>0.0</td>\n",
       "      <td>27.00000</td>\n",
       "      <td>63.0</td>\n",
       "      <td>1.0</td>\n",
       "      <td>1.0</td>\n",
       "    </tr>\n",
       "    <tr>\n",
       "      <th>25%</th>\n",
       "      <td>7.0</td>\n",
       "      <td>1.000000e-02</td>\n",
       "      <td>242.906403</td>\n",
       "      <td>0.0</td>\n",
       "      <td>39.25000</td>\n",
       "      <td>63.0</td>\n",
       "      <td>1.0</td>\n",
       "      <td>1.0</td>\n",
       "    </tr>\n",
       "    <tr>\n",
       "      <th>50%</th>\n",
       "      <td>7.0</td>\n",
       "      <td>1.000000e-02</td>\n",
       "      <td>242.906403</td>\n",
       "      <td>0.0</td>\n",
       "      <td>51.50000</td>\n",
       "      <td>63.0</td>\n",
       "      <td>1.0</td>\n",
       "      <td>1.0</td>\n",
       "    </tr>\n",
       "    <tr>\n",
       "      <th>75%</th>\n",
       "      <td>7.0</td>\n",
       "      <td>1.000000e-02</td>\n",
       "      <td>242.906403</td>\n",
       "      <td>0.0</td>\n",
       "      <td>63.75000</td>\n",
       "      <td>63.0</td>\n",
       "      <td>1.0</td>\n",
       "      <td>1.0</td>\n",
       "    </tr>\n",
       "    <tr>\n",
       "      <th>max</th>\n",
       "      <td>7.0</td>\n",
       "      <td>1.000000e-02</td>\n",
       "      <td>242.906403</td>\n",
       "      <td>0.0</td>\n",
       "      <td>76.00000</td>\n",
       "      <td>63.0</td>\n",
       "      <td>1.0</td>\n",
       "      <td>1.0</td>\n",
       "    </tr>\n",
       "  </tbody>\n",
       "</table>\n",
       "</div>"
      ],
      "text/plain": [
       "       longueur         angle      weight  precision      xPos  yPos  group  \\\n",
       "count      50.0  5.000000e+01   50.000000       50.0  50.00000  50.0   50.0   \n",
       "mean        7.0  9.999996e-03  242.906311        0.0  51.50000  63.0    1.0   \n",
       "std         0.0  3.763112e-09    0.000092        0.0  14.57738   0.0    0.0   \n",
       "min         7.0  1.000000e-02  242.906403        0.0  27.00000  63.0    1.0   \n",
       "25%         7.0  1.000000e-02  242.906403        0.0  39.25000  63.0    1.0   \n",
       "50%         7.0  1.000000e-02  242.906403        0.0  51.50000  63.0    1.0   \n",
       "75%         7.0  1.000000e-02  242.906403        0.0  63.75000  63.0    1.0   \n",
       "max         7.0  1.000000e-02  242.906403        0.0  76.00000  63.0    1.0   \n",
       "\n",
       "       layer  \n",
       "count   50.0  \n",
       "mean     1.0  \n",
       "std      0.0  \n",
       "min      1.0  \n",
       "25%      1.0  \n",
       "50%      1.0  \n",
       "75%      1.0  \n",
       "max      1.0  "
      ]
     },
     "execution_count": 37,
     "metadata": {},
     "output_type": "execute_result"
    }
   ],
   "source": [
    "titi.describe()"
   ]
  },
  {
   "cell_type": "code",
   "execution_count": 38,
   "metadata": {
    "ExecuteTime": {
     "end_time": "2019-07-19T23:40:43.392157Z",
     "start_time": "2019-07-19T23:40:43.371356Z"
    }
   },
   "outputs": [
    {
     "data": {
      "text/html": [
       "<div>\n",
       "<style scoped>\n",
       "    .dataframe tbody tr th:only-of-type {\n",
       "        vertical-align: middle;\n",
       "    }\n",
       "\n",
       "    .dataframe tbody tr th {\n",
       "        vertical-align: top;\n",
       "    }\n",
       "\n",
       "    .dataframe thead th {\n",
       "        text-align: right;\n",
       "    }\n",
       "</style>\n",
       "<table border=\"1\" class=\"dataframe\">\n",
       "  <thead>\n",
       "    <tr style=\"text-align: right;\">\n",
       "      <th></th>\n",
       "      <th>longueur</th>\n",
       "      <th>angle</th>\n",
       "      <th>weight</th>\n",
       "      <th>precision</th>\n",
       "      <th>xPos</th>\n",
       "      <th>yPos</th>\n",
       "      <th>group</th>\n",
       "      <th>layer</th>\n",
       "    </tr>\n",
       "  </thead>\n",
       "  <tbody>\n",
       "    <tr>\n",
       "      <th>0</th>\n",
       "      <td>7</td>\n",
       "      <td>0.01</td>\n",
       "      <td>242.906403</td>\n",
       "      <td>0.0</td>\n",
       "      <td>27</td>\n",
       "      <td>63</td>\n",
       "      <td>1</td>\n",
       "      <td>1</td>\n",
       "    </tr>\n",
       "    <tr>\n",
       "      <th>1</th>\n",
       "      <td>7</td>\n",
       "      <td>0.01</td>\n",
       "      <td>242.906403</td>\n",
       "      <td>0.0</td>\n",
       "      <td>28</td>\n",
       "      <td>63</td>\n",
       "      <td>1</td>\n",
       "      <td>1</td>\n",
       "    </tr>\n",
       "    <tr>\n",
       "      <th>2</th>\n",
       "      <td>7</td>\n",
       "      <td>0.01</td>\n",
       "      <td>242.906403</td>\n",
       "      <td>0.0</td>\n",
       "      <td>29</td>\n",
       "      <td>63</td>\n",
       "      <td>1</td>\n",
       "      <td>1</td>\n",
       "    </tr>\n",
       "    <tr>\n",
       "      <th>3</th>\n",
       "      <td>7</td>\n",
       "      <td>0.01</td>\n",
       "      <td>242.906403</td>\n",
       "      <td>0.0</td>\n",
       "      <td>30</td>\n",
       "      <td>63</td>\n",
       "      <td>1</td>\n",
       "      <td>1</td>\n",
       "    </tr>\n",
       "  </tbody>\n",
       "</table>\n",
       "</div>"
      ],
      "text/plain": [
       "   longueur  angle      weight  precision  xPos  yPos  group  layer\n",
       "0         7   0.01  242.906403        0.0    27    63      1      1\n",
       "1         7   0.01  242.906403        0.0    28    63      1      1\n",
       "2         7   0.01  242.906403        0.0    29    63      1      1\n",
       "3         7   0.01  242.906403        0.0    30    63      1      1"
      ]
     },
     "execution_count": 38,
     "metadata": {},
     "output_type": "execute_result"
    }
   ],
   "source": [
    "titi[0:4]"
   ]
  },
  {
   "cell_type": "markdown",
   "metadata": {},
   "source": [
    "### Test 2\n",
    "#### Generate data of type 2"
   ]
  },
  {
   "cell_type": "code",
   "execution_count": 39,
   "metadata": {
    "ExecuteTime": {
     "end_time": "2019-07-19T23:40:43.609639Z",
     "start_time": "2019-07-19T23:40:43.397459Z"
    }
   },
   "outputs": [
    {
     "data": {
      "image/png": "[encoded data removed]",
      "text/plain": [
       "<Figure size 432x288 with 1 Axes>"
      ]
     },
     "metadata": {
      "needs_background": "light"
     },
     "output_type": "display_data"
    }
   ],
   "source": [
    "frame = generateToy(2,80,128,1)\n",
    "imgplot = plt.imshow(frame)"
   ]
  },
  {
   "cell_type": "markdown",
   "metadata": {},
   "source": [
    "#### Génération des neurones à champs récepteur"
   ]
  },
  {
   "cell_type": "code",
   "execution_count": 40,
   "metadata": {
    "ExecuteTime": {
     "end_time": "2019-07-19T23:40:44.826564Z",
     "start_time": "2019-07-19T23:40:43.612683Z"
    },
    "scrolled": true
   },
   "outputs": [
    {
     "name": "stdout",
     "output_type": "stream",
     "text": [
      "exceed the limit of the matrix\n",
      "exceed the limit of the matrix\n",
      "exceed the limit of the matrix\n",
      "error 10 : \n",
      "lAngleMat\n",
      "[[-4.499e+01 -3.368e+01 -1.842e+01  1.000e-02  1.844e+01  3.370e+01\n",
      "   4.501e+01]\n",
      " [-5.630e+01 -4.499e+01 -2.656e+01  1.000e-02  2.658e+01  4.501e+01\n",
      "   5.632e+01]\n",
      " [-7.156e+01 -6.342e+01 -4.499e+01  1.000e-02  4.501e+01  6.344e+01\n",
      "   7.158e+01]\n",
      " [ 9.000e+01  9.000e+01  9.000e+01  0.000e+00  9.000e+01  9.000e+01\n",
      "   9.000e+01]\n",
      " [ 7.158e+01  6.344e+01  4.501e+01  1.000e-02 -4.499e+01 -6.342e+01\n",
      "  -7.156e+01]\n",
      " [ 5.632e+01  4.501e+01  2.658e+01  1.000e-02 -2.656e+01 -4.499e+01\n",
      "  -5.630e+01]\n",
      " [ 4.501e+01  3.370e+01  1.844e+01  1.000e-02 -1.842e+01 -3.368e+01\n",
      "  -4.499e+01]]\n",
      "lNeuronFieldFrame\n",
      "[[0. 0. 0. 0. 0. 0.]\n",
      " [0. 0. 0. 0. 0. 0.]\n",
      " [0. 0. 0. 0. 0. 0.]\n",
      " [1. 1. 1. 1. 1. 1.]\n",
      " [0. 0. 0. 0. 0. 0.]\n",
      " [0. 0. 0. 0. 0. 0.]\n",
      " [0. 0. 0. 0. 0. 0.]]\n",
      "lintX\n",
      "39\n",
      "lintY\n",
      "125\n",
      "offsetField\n",
      "3\n",
      "error 10 : \n",
      "lAngleMat\n",
      "[[-4.499e+01 -3.368e+01 -1.842e+01  1.000e-02  1.844e+01  3.370e+01\n",
      "   4.501e+01]\n",
      " [-5.630e+01 -4.499e+01 -2.656e+01  1.000e-02  2.658e+01  4.501e+01\n",
      "   5.632e+01]\n",
      " [-7.156e+01 -6.342e+01 -4.499e+01  1.000e-02  4.501e+01  6.344e+01\n",
      "   7.158e+01]\n",
      " [ 9.000e+01  9.000e+01  9.000e+01  0.000e+00  9.000e+01  9.000e+01\n",
      "   9.000e+01]\n",
      " [ 7.158e+01  6.344e+01  4.501e+01  1.000e-02 -4.499e+01 -6.342e+01\n",
      "  -7.156e+01]\n",
      " [ 5.632e+01  4.501e+01  2.658e+01  1.000e-02 -2.656e+01 -4.499e+01\n",
      "  -5.630e+01]\n",
      " [ 4.501e+01  3.370e+01  1.844e+01  1.000e-02 -1.842e+01 -3.368e+01\n",
      "  -4.499e+01]]\n",
      "lNeuronFieldFrame\n",
      "[[0. 0. 0. 0. 0. 0.]\n",
      " [0. 0. 0. 0. 0. 0.]\n",
      " [0. 0. 0. 0. 0. 0.]\n",
      " [1. 1. 1. 1. 1. 1.]\n",
      " [0. 0. 0. 0. 0. 0.]\n",
      " [0. 0. 0. 0. 0. 0.]\n",
      " [0. 0. 0. 0. 0. 0.]]\n",
      "lintX\n",
      "39\n",
      "lintY\n",
      "125\n",
      "offsetField\n",
      "3\n",
      "error 10 : \n",
      "lAngleMat\n",
      "[[-4.499e+01 -3.368e+01 -1.842e+01  1.000e-02  1.844e+01  3.370e+01\n",
      "   4.501e+01]\n",
      " [-5.630e+01 -4.499e+01 -2.656e+01  1.000e-02  2.658e+01  4.501e+01\n",
      "   5.632e+01]\n",
      " [-7.156e+01 -6.342e+01 -4.499e+01  1.000e-02  4.501e+01  6.344e+01\n",
      "   7.158e+01]\n",
      " [ 9.000e+01  9.000e+01  9.000e+01  0.000e+00  9.000e+01  9.000e+01\n",
      "   9.000e+01]\n",
      " [ 7.158e+01  6.344e+01  4.501e+01  1.000e-02 -4.499e+01 -6.342e+01\n",
      "  -7.156e+01]\n",
      " [ 5.632e+01  4.501e+01  2.658e+01  1.000e-02 -2.656e+01 -4.499e+01\n",
      "  -5.630e+01]\n",
      " [ 4.501e+01  3.370e+01  1.844e+01  1.000e-02 -1.842e+01 -3.368e+01\n",
      "  -4.499e+01]]\n",
      "lNeuronFieldFrame\n",
      "[[0. 0. 0. 0. 0. 0.]\n",
      " [0. 0. 0. 0. 0. 0.]\n",
      " [0. 0. 0. 0. 0. 0.]\n",
      " [1. 1. 1. 1. 1. 1.]\n",
      " [0. 0. 0. 0. 0. 0.]\n",
      " [0. 0. 0. 0. 0. 0.]\n",
      " [0. 0. 0. 0. 0. 0.]]\n",
      "lintX\n",
      "39\n",
      "lintY\n",
      "125\n",
      "offsetField\n",
      "3\n"
     ]
    }
   ],
   "source": [
    "indices = np.where(frame != [0])\n",
    "nbPixelsAll = nbPixelField(indices[0], indices[1], frame, tailleField)\n",
    "titi = getNeuronActivationList(indices[0], indices[1], tailleField, frame,\n",
    "                               nbPixelsAll)"
   ]
  },
  {
   "cell_type": "code",
   "execution_count": 41,
   "metadata": {
    "ExecuteTime": {
     "end_time": "2019-07-19T23:40:44.900234Z",
     "start_time": "2019-07-19T23:40:44.830386Z"
    },
    "scrolled": true
   },
   "outputs": [
    {
     "data": {
      "text/html": [
       "<div>\n",
       "<style scoped>\n",
       "    .dataframe tbody tr th:only-of-type {\n",
       "        vertical-align: middle;\n",
       "    }\n",
       "\n",
       "    .dataframe tbody tr th {\n",
       "        vertical-align: top;\n",
       "    }\n",
       "\n",
       "    .dataframe thead th {\n",
       "        text-align: right;\n",
       "    }\n",
       "</style>\n",
       "<table border=\"1\" class=\"dataframe\">\n",
       "  <thead>\n",
       "    <tr style=\"text-align: right;\">\n",
       "      <th></th>\n",
       "      <th>longueur</th>\n",
       "      <th>angle</th>\n",
       "      <th>weight</th>\n",
       "      <th>precision</th>\n",
       "      <th>xPos</th>\n",
       "      <th>yPos</th>\n",
       "      <th>group</th>\n",
       "      <th>layer</th>\n",
       "    </tr>\n",
       "  </thead>\n",
       "  <tbody>\n",
       "    <tr>\n",
       "      <th>count</th>\n",
       "      <td>128.0</td>\n",
       "      <td>128.000000</td>\n",
       "      <td>128.000000</td>\n",
       "      <td>128.0</td>\n",
       "      <td>128.000000</td>\n",
       "      <td>128.000000</td>\n",
       "      <td>128.0</td>\n",
       "      <td>128.0</td>\n",
       "    </tr>\n",
       "    <tr>\n",
       "      <th>mean</th>\n",
       "      <td>7.0</td>\n",
       "      <td>85.781250</td>\n",
       "      <td>231.520050</td>\n",
       "      <td>0.0</td>\n",
       "      <td>37.171875</td>\n",
       "      <td>60.523438</td>\n",
       "      <td>0.0</td>\n",
       "      <td>1.0</td>\n",
       "    </tr>\n",
       "    <tr>\n",
       "      <th>std</th>\n",
       "      <td>0.0</td>\n",
       "      <td>19.098122</td>\n",
       "      <td>51.545200</td>\n",
       "      <td>0.0</td>\n",
       "      <td>8.275863</td>\n",
       "      <td>37.053901</td>\n",
       "      <td>0.0</td>\n",
       "      <td>0.0</td>\n",
       "    </tr>\n",
       "    <tr>\n",
       "      <th>min</th>\n",
       "      <td>7.0</td>\n",
       "      <td>0.000000</td>\n",
       "      <td>0.000000</td>\n",
       "      <td>0.0</td>\n",
       "      <td>0.000000</td>\n",
       "      <td>0.000000</td>\n",
       "      <td>0.0</td>\n",
       "      <td>1.0</td>\n",
       "    </tr>\n",
       "    <tr>\n",
       "      <th>25%</th>\n",
       "      <td>7.0</td>\n",
       "      <td>90.000000</td>\n",
       "      <td>242.906403</td>\n",
       "      <td>0.0</td>\n",
       "      <td>39.000000</td>\n",
       "      <td>28.750000</td>\n",
       "      <td>0.0</td>\n",
       "      <td>1.0</td>\n",
       "    </tr>\n",
       "    <tr>\n",
       "      <th>50%</th>\n",
       "      <td>7.0</td>\n",
       "      <td>90.000000</td>\n",
       "      <td>242.906403</td>\n",
       "      <td>0.0</td>\n",
       "      <td>39.000000</td>\n",
       "      <td>60.500000</td>\n",
       "      <td>0.0</td>\n",
       "      <td>1.0</td>\n",
       "    </tr>\n",
       "    <tr>\n",
       "      <th>75%</th>\n",
       "      <td>7.0</td>\n",
       "      <td>90.000000</td>\n",
       "      <td>242.906403</td>\n",
       "      <td>0.0</td>\n",
       "      <td>39.000000</td>\n",
       "      <td>92.250000</td>\n",
       "      <td>0.0</td>\n",
       "      <td>1.0</td>\n",
       "    </tr>\n",
       "    <tr>\n",
       "      <th>max</th>\n",
       "      <td>7.0</td>\n",
       "      <td>90.000000</td>\n",
       "      <td>242.906403</td>\n",
       "      <td>0.0</td>\n",
       "      <td>39.000000</td>\n",
       "      <td>124.000000</td>\n",
       "      <td>0.0</td>\n",
       "      <td>1.0</td>\n",
       "    </tr>\n",
       "  </tbody>\n",
       "</table>\n",
       "</div>"
      ],
      "text/plain": [
       "       longueur       angle      weight  precision        xPos        yPos  \\\n",
       "count     128.0  128.000000  128.000000      128.0  128.000000  128.000000   \n",
       "mean        7.0   85.781250  231.520050        0.0   37.171875   60.523438   \n",
       "std         0.0   19.098122   51.545200        0.0    8.275863   37.053901   \n",
       "min         7.0    0.000000    0.000000        0.0    0.000000    0.000000   \n",
       "25%         7.0   90.000000  242.906403        0.0   39.000000   28.750000   \n",
       "50%         7.0   90.000000  242.906403        0.0   39.000000   60.500000   \n",
       "75%         7.0   90.000000  242.906403        0.0   39.000000   92.250000   \n",
       "max         7.0   90.000000  242.906403        0.0   39.000000  124.000000   \n",
       "\n",
       "       group  layer  \n",
       "count  128.0  128.0  \n",
       "mean     0.0    1.0  \n",
       "std      0.0    0.0  \n",
       "min      0.0    1.0  \n",
       "25%      0.0    1.0  \n",
       "50%      0.0    1.0  \n",
       "75%      0.0    1.0  \n",
       "max      0.0    1.0  "
      ]
     },
     "execution_count": 41,
     "metadata": {},
     "output_type": "execute_result"
    }
   ],
   "source": [
    "titi.describe()"
   ]
  },
  {
   "cell_type": "code",
   "execution_count": 42,
   "metadata": {
    "ExecuteTime": {
     "end_time": "2019-07-19T23:40:44.932386Z",
     "start_time": "2019-07-19T23:40:44.904188Z"
    },
    "scrolled": false
   },
   "outputs": [
    {
     "data": {
      "text/html": [
       "<div>\n",
       "<style scoped>\n",
       "    .dataframe tbody tr th:only-of-type {\n",
       "        vertical-align: middle;\n",
       "    }\n",
       "\n",
       "    .dataframe tbody tr th {\n",
       "        vertical-align: top;\n",
       "    }\n",
       "\n",
       "    .dataframe thead th {\n",
       "        text-align: right;\n",
       "    }\n",
       "</style>\n",
       "<table border=\"1\" class=\"dataframe\">\n",
       "  <thead>\n",
       "    <tr style=\"text-align: right;\">\n",
       "      <th></th>\n",
       "      <th>longueur</th>\n",
       "      <th>angle</th>\n",
       "      <th>weight</th>\n",
       "      <th>precision</th>\n",
       "      <th>xPos</th>\n",
       "      <th>yPos</th>\n",
       "      <th>group</th>\n",
       "      <th>layer</th>\n",
       "    </tr>\n",
       "  </thead>\n",
       "  <tbody>\n",
       "    <tr>\n",
       "      <th>0</th>\n",
       "      <td>7</td>\n",
       "      <td>0.0</td>\n",
       "      <td>0.000000</td>\n",
       "      <td>0.0</td>\n",
       "      <td>0</td>\n",
       "      <td>0</td>\n",
       "      <td>0</td>\n",
       "      <td>1</td>\n",
       "    </tr>\n",
       "    <tr>\n",
       "      <th>1</th>\n",
       "      <td>7</td>\n",
       "      <td>0.0</td>\n",
       "      <td>0.000000</td>\n",
       "      <td>0.0</td>\n",
       "      <td>0</td>\n",
       "      <td>0</td>\n",
       "      <td>0</td>\n",
       "      <td>1</td>\n",
       "    </tr>\n",
       "    <tr>\n",
       "      <th>2</th>\n",
       "      <td>7</td>\n",
       "      <td>0.0</td>\n",
       "      <td>0.000000</td>\n",
       "      <td>0.0</td>\n",
       "      <td>0</td>\n",
       "      <td>0</td>\n",
       "      <td>0</td>\n",
       "      <td>1</td>\n",
       "    </tr>\n",
       "    <tr>\n",
       "      <th>3</th>\n",
       "      <td>7</td>\n",
       "      <td>90.0</td>\n",
       "      <td>242.906403</td>\n",
       "      <td>0.0</td>\n",
       "      <td>39</td>\n",
       "      <td>3</td>\n",
       "      <td>0</td>\n",
       "      <td>1</td>\n",
       "    </tr>\n",
       "  </tbody>\n",
       "</table>\n",
       "</div>"
      ],
      "text/plain": [
       "   longueur  angle      weight  precision  xPos  yPos  group  layer\n",
       "0         7    0.0    0.000000        0.0     0     0      0      1\n",
       "1         7    0.0    0.000000        0.0     0     0      0      1\n",
       "2         7    0.0    0.000000        0.0     0     0      0      1\n",
       "3         7   90.0  242.906403        0.0    39     3      0      1"
      ]
     },
     "execution_count": 42,
     "metadata": {},
     "output_type": "execute_result"
    }
   ],
   "source": [
    "titi[0:4]"
   ]
  },
  {
   "cell_type": "markdown",
   "metadata": {},
   "source": [
    "#### Affichage graphique du champs récepteur des neurones"
   ]
  },
  {
   "cell_type": "code",
   "execution_count": 43,
   "metadata": {
    "ExecuteTime": {
     "end_time": "2019-07-19T23:40:45.197450Z",
     "start_time": "2019-07-19T23:40:44.936028Z"
    },
    "scrolled": true
   },
   "outputs": [
    {
     "data": {
      "image/png": "[encoded data removed]",
      "text/plain": [
       "<Figure size 432x288 with 1 Axes>"
      ]
     },
     "metadata": {
      "needs_background": "light"
     },
     "output_type": "display_data"
    }
   ],
   "source": [
    "testBitmap = np.zeros((frame.shape[0],frame.shape[1],3), np.uint8)\n",
    "testBitmap = drawFieldNeurons(titi, testBitmap)\n",
    "imgplot = plt.imshow(testBitmap)"
   ]
  },
  {
   "cell_type": "markdown",
   "metadata": {},
   "source": [
    "#### Génération des groupes"
   ]
  },
  {
   "cell_type": "code",
   "execution_count": 44,
   "metadata": {
    "ExecuteTime": {
     "end_time": "2019-07-19T23:41:21.020410Z",
     "start_time": "2019-07-19T23:40:45.202198Z"
    }
   },
   "outputs": [],
   "source": [
    "findGroups(titi);"
   ]
  },
  {
   "cell_type": "code",
   "execution_count": 45,
   "metadata": {
    "ExecuteTime": {
     "end_time": "2019-07-19T23:41:21.098444Z",
     "start_time": "2019-07-19T23:41:21.026795Z"
    },
    "scrolled": true
   },
   "outputs": [
    {
     "data": {
      "text/html": [
       "<div>\n",
       "<style scoped>\n",
       "    .dataframe tbody tr th:only-of-type {\n",
       "        vertical-align: middle;\n",
       "    }\n",
       "\n",
       "    .dataframe tbody tr th {\n",
       "        vertical-align: top;\n",
       "    }\n",
       "\n",
       "    .dataframe thead tr th {\n",
       "        text-align: left;\n",
       "    }\n",
       "\n",
       "    .dataframe thead tr:last-of-type th {\n",
       "        text-align: right;\n",
       "    }\n",
       "</style>\n",
       "<table border=\"1\" class=\"dataframe\">\n",
       "  <thead>\n",
       "    <tr>\n",
       "      <th></th>\n",
       "      <th colspan=\"2\" halign=\"left\">longueur</th>\n",
       "      <th colspan=\"2\" halign=\"left\">angle</th>\n",
       "      <th colspan=\"2\" halign=\"left\">weight</th>\n",
       "      <th colspan=\"2\" halign=\"left\">precision</th>\n",
       "      <th colspan=\"2\" halign=\"left\">xPos</th>\n",
       "      <th colspan=\"2\" halign=\"left\">yPos</th>\n",
       "      <th colspan=\"2\" halign=\"left\">layer</th>\n",
       "    </tr>\n",
       "    <tr>\n",
       "      <th></th>\n",
       "      <th>mean</th>\n",
       "      <th>count</th>\n",
       "      <th>mean</th>\n",
       "      <th>count</th>\n",
       "      <th>mean</th>\n",
       "      <th>count</th>\n",
       "      <th>mean</th>\n",
       "      <th>count</th>\n",
       "      <th>mean</th>\n",
       "      <th>count</th>\n",
       "      <th>mean</th>\n",
       "      <th>count</th>\n",
       "      <th>mean</th>\n",
       "      <th>count</th>\n",
       "    </tr>\n",
       "    <tr>\n",
       "      <th>group</th>\n",
       "      <th></th>\n",
       "      <th></th>\n",
       "      <th></th>\n",
       "      <th></th>\n",
       "      <th></th>\n",
       "      <th></th>\n",
       "      <th></th>\n",
       "      <th></th>\n",
       "      <th></th>\n",
       "      <th></th>\n",
       "      <th></th>\n",
       "      <th></th>\n",
       "      <th></th>\n",
       "      <th></th>\n",
       "    </tr>\n",
       "  </thead>\n",
       "  <tbody>\n",
       "    <tr>\n",
       "      <th>1</th>\n",
       "      <td>7</td>\n",
       "      <td>1</td>\n",
       "      <td>0.0</td>\n",
       "      <td>1</td>\n",
       "      <td>0.000000</td>\n",
       "      <td>1</td>\n",
       "      <td>0.0</td>\n",
       "      <td>1</td>\n",
       "      <td>0</td>\n",
       "      <td>1</td>\n",
       "      <td>0.0</td>\n",
       "      <td>1</td>\n",
       "      <td>1</td>\n",
       "      <td>1</td>\n",
       "    </tr>\n",
       "    <tr>\n",
       "      <th>2</th>\n",
       "      <td>7</td>\n",
       "      <td>1</td>\n",
       "      <td>0.0</td>\n",
       "      <td>1</td>\n",
       "      <td>0.000000</td>\n",
       "      <td>1</td>\n",
       "      <td>0.0</td>\n",
       "      <td>1</td>\n",
       "      <td>0</td>\n",
       "      <td>1</td>\n",
       "      <td>0.0</td>\n",
       "      <td>1</td>\n",
       "      <td>1</td>\n",
       "      <td>1</td>\n",
       "    </tr>\n",
       "    <tr>\n",
       "      <th>3</th>\n",
       "      <td>7</td>\n",
       "      <td>1</td>\n",
       "      <td>0.0</td>\n",
       "      <td>1</td>\n",
       "      <td>0.000000</td>\n",
       "      <td>1</td>\n",
       "      <td>0.0</td>\n",
       "      <td>1</td>\n",
       "      <td>0</td>\n",
       "      <td>1</td>\n",
       "      <td>0.0</td>\n",
       "      <td>1</td>\n",
       "      <td>1</td>\n",
       "      <td>1</td>\n",
       "    </tr>\n",
       "    <tr>\n",
       "      <th>4</th>\n",
       "      <td>7</td>\n",
       "      <td>122</td>\n",
       "      <td>90.0</td>\n",
       "      <td>122</td>\n",
       "      <td>242.906403</td>\n",
       "      <td>122</td>\n",
       "      <td>0.0</td>\n",
       "      <td>122</td>\n",
       "      <td>39</td>\n",
       "      <td>122</td>\n",
       "      <td>63.5</td>\n",
       "      <td>122</td>\n",
       "      <td>1</td>\n",
       "      <td>122</td>\n",
       "    </tr>\n",
       "    <tr>\n",
       "      <th>5</th>\n",
       "      <td>7</td>\n",
       "      <td>1</td>\n",
       "      <td>0.0</td>\n",
       "      <td>1</td>\n",
       "      <td>0.000000</td>\n",
       "      <td>1</td>\n",
       "      <td>0.0</td>\n",
       "      <td>1</td>\n",
       "      <td>0</td>\n",
       "      <td>1</td>\n",
       "      <td>0.0</td>\n",
       "      <td>1</td>\n",
       "      <td>1</td>\n",
       "      <td>1</td>\n",
       "    </tr>\n",
       "  </tbody>\n",
       "</table>\n",
       "</div>"
      ],
      "text/plain": [
       "      longueur       angle            weight       precision       xPos        \\\n",
       "          mean count  mean count        mean count      mean count mean count   \n",
       "group                                                                           \n",
       "1            7     1   0.0     1    0.000000     1       0.0     1    0     1   \n",
       "2            7     1   0.0     1    0.000000     1       0.0     1    0     1   \n",
       "3            7     1   0.0     1    0.000000     1       0.0     1    0     1   \n",
       "4            7   122  90.0   122  242.906403   122       0.0   122   39   122   \n",
       "5            7     1   0.0     1    0.000000     1       0.0     1    0     1   \n",
       "\n",
       "       yPos       layer        \n",
       "       mean count  mean count  \n",
       "group                          \n",
       "1       0.0     1     1     1  \n",
       "2       0.0     1     1     1  \n",
       "3       0.0     1     1     1  \n",
       "4      63.5   122     1   122  \n",
       "5       0.0     1     1     1  "
      ]
     },
     "execution_count": 45,
     "metadata": {},
     "output_type": "execute_result"
    }
   ],
   "source": [
    "titi.groupby('group').agg(['mean', 'count'])[0:5]"
   ]
  },
  {
   "cell_type": "code",
   "execution_count": 46,
   "metadata": {
    "ExecuteTime": {
     "end_time": "2019-07-19T23:41:21.370091Z",
     "start_time": "2019-07-19T23:41:21.102017Z"
    },
    "scrolled": true
   },
   "outputs": [
    {
     "data": {
      "text/plain": [
       "<matplotlib.axes._subplots.AxesSubplot at 0x1298fb4a8>"
      ]
     },
     "execution_count": 46,
     "metadata": {},
     "output_type": "execute_result"
    },
    {
     "data": {
      "image/png": "[encoded data removed]",
      "text/plain": [
       "<Figure size 432x288 with 1 Axes>"
      ]
     },
     "metadata": {
      "needs_background": "light"
     },
     "output_type": "display_data"
    }
   ],
   "source": [
    "titi.groupby('group').size().hist()"
   ]
  },
  {
   "cell_type": "code",
   "execution_count": 47,
   "metadata": {
    "ExecuteTime": {
     "end_time": "2019-07-19T23:41:21.390520Z",
     "start_time": "2019-07-19T23:41:21.373235Z"
    }
   },
   "outputs": [
    {
     "data": {
      "text/html": [
       "<div>\n",
       "<style scoped>\n",
       "    .dataframe tbody tr th:only-of-type {\n",
       "        vertical-align: middle;\n",
       "    }\n",
       "\n",
       "    .dataframe tbody tr th {\n",
       "        vertical-align: top;\n",
       "    }\n",
       "\n",
       "    .dataframe thead th {\n",
       "        text-align: right;\n",
       "    }\n",
       "</style>\n",
       "<table border=\"1\" class=\"dataframe\">\n",
       "  <thead>\n",
       "    <tr style=\"text-align: right;\">\n",
       "      <th></th>\n",
       "      <th>longueur</th>\n",
       "      <th>angle</th>\n",
       "      <th>weight</th>\n",
       "      <th>precision</th>\n",
       "      <th>xPos</th>\n",
       "      <th>yPos</th>\n",
       "      <th>group</th>\n",
       "      <th>layer</th>\n",
       "    </tr>\n",
       "  </thead>\n",
       "  <tbody>\n",
       "    <tr>\n",
       "      <th>0</th>\n",
       "      <td>7</td>\n",
       "      <td>0.0</td>\n",
       "      <td>0.000000</td>\n",
       "      <td>0.0</td>\n",
       "      <td>0</td>\n",
       "      <td>0</td>\n",
       "      <td>1</td>\n",
       "      <td>1</td>\n",
       "    </tr>\n",
       "    <tr>\n",
       "      <th>1</th>\n",
       "      <td>7</td>\n",
       "      <td>0.0</td>\n",
       "      <td>0.000000</td>\n",
       "      <td>0.0</td>\n",
       "      <td>0</td>\n",
       "      <td>0</td>\n",
       "      <td>2</td>\n",
       "      <td>1</td>\n",
       "    </tr>\n",
       "    <tr>\n",
       "      <th>2</th>\n",
       "      <td>7</td>\n",
       "      <td>0.0</td>\n",
       "      <td>0.000000</td>\n",
       "      <td>0.0</td>\n",
       "      <td>0</td>\n",
       "      <td>0</td>\n",
       "      <td>3</td>\n",
       "      <td>1</td>\n",
       "    </tr>\n",
       "    <tr>\n",
       "      <th>3</th>\n",
       "      <td>7</td>\n",
       "      <td>90.0</td>\n",
       "      <td>242.906403</td>\n",
       "      <td>0.0</td>\n",
       "      <td>39</td>\n",
       "      <td>3</td>\n",
       "      <td>4</td>\n",
       "      <td>1</td>\n",
       "    </tr>\n",
       "  </tbody>\n",
       "</table>\n",
       "</div>"
      ],
      "text/plain": [
       "   longueur  angle      weight  precision  xPos  yPos  group  layer\n",
       "0         7    0.0    0.000000        0.0     0     0      1      1\n",
       "1         7    0.0    0.000000        0.0     0     0      2      1\n",
       "2         7    0.0    0.000000        0.0     0     0      3      1\n",
       "3         7   90.0  242.906403        0.0    39     3      4      1"
      ]
     },
     "execution_count": 47,
     "metadata": {},
     "output_type": "execute_result"
    }
   ],
   "source": [
    "titi[0:4]"
   ]
  },
  {
   "cell_type": "markdown",
   "metadata": {},
   "source": [
    "### Test 3\n",
    "#### Generate data of type 3"
   ]
  },
  {
   "cell_type": "code",
   "execution_count": 48,
   "metadata": {
    "ExecuteTime": {
     "end_time": "2019-07-19T23:41:21.640937Z",
     "start_time": "2019-07-19T23:41:21.393695Z"
    }
   },
   "outputs": [
    {
     "data": {
      "image/png": "[encoded data removed]",
      "text/plain": [
       "<Figure size 432x288 with 1 Axes>"
      ]
     },
     "metadata": {
      "needs_background": "light"
     },
     "output_type": "display_data"
    }
   ],
   "source": [
    "frame = generateToy(3,80,128,1)\n",
    "imgplot = plt.imshow(frame)"
   ]
  },
  {
   "cell_type": "markdown",
   "metadata": {},
   "source": [
    "#### Génération des neurones à champs récepteur"
   ]
  },
  {
   "cell_type": "code",
   "execution_count": 49,
   "metadata": {
    "ExecuteTime": {
     "end_time": "2019-07-19T23:41:22.183193Z",
     "start_time": "2019-07-19T23:41:21.643887Z"
    },
    "scrolled": true
   },
   "outputs": [],
   "source": [
    "indices = np.where(frame != [0])\n",
    "nbPixelsAll = nbPixelField(indices[0], indices[1], frame, tailleField)\n",
    "titi = getNeuronActivationList(indices[0], indices[1], tailleField, frame,\n",
    "                               nbPixelsAll)"
   ]
  },
  {
   "cell_type": "code",
   "execution_count": 50,
   "metadata": {
    "ExecuteTime": {
     "end_time": "2019-07-19T23:41:22.249552Z",
     "start_time": "2019-07-19T23:41:22.185988Z"
    },
    "scrolled": true
   },
   "outputs": [
    {
     "data": {
      "text/html": [
       "<div>\n",
       "<style scoped>\n",
       "    .dataframe tbody tr th:only-of-type {\n",
       "        vertical-align: middle;\n",
       "    }\n",
       "\n",
       "    .dataframe tbody tr th {\n",
       "        vertical-align: top;\n",
       "    }\n",
       "\n",
       "    .dataframe thead th {\n",
       "        text-align: right;\n",
       "    }\n",
       "</style>\n",
       "<table border=\"1\" class=\"dataframe\">\n",
       "  <thead>\n",
       "    <tr style=\"text-align: right;\">\n",
       "      <th></th>\n",
       "      <th>longueur</th>\n",
       "      <th>angle</th>\n",
       "      <th>weight</th>\n",
       "      <th>precision</th>\n",
       "      <th>xPos</th>\n",
       "      <th>yPos</th>\n",
       "      <th>group</th>\n",
       "      <th>layer</th>\n",
       "    </tr>\n",
       "  </thead>\n",
       "  <tbody>\n",
       "    <tr>\n",
       "      <th>count</th>\n",
       "      <td>50.0</td>\n",
       "      <td>50.000000</td>\n",
       "      <td>50.000000</td>\n",
       "      <td>50.000000</td>\n",
       "      <td>50.00000</td>\n",
       "      <td>50.000000</td>\n",
       "      <td>50.0</td>\n",
       "      <td>50.0</td>\n",
       "    </tr>\n",
       "    <tr>\n",
       "      <th>mean</th>\n",
       "      <td>7.0</td>\n",
       "      <td>26.755207</td>\n",
       "      <td>213.043991</td>\n",
       "      <td>13.634507</td>\n",
       "      <td>51.50000</td>\n",
       "      <td>56.980000</td>\n",
       "      <td>0.0</td>\n",
       "      <td>1.0</td>\n",
       "    </tr>\n",
       "    <tr>\n",
       "      <th>std</th>\n",
       "      <td>0.0</td>\n",
       "      <td>2.806284</td>\n",
       "      <td>5.832972</td>\n",
       "      <td>1.934354</td>\n",
       "      <td>14.57738</td>\n",
       "      <td>7.924362</td>\n",
       "      <td>0.0</td>\n",
       "      <td>0.0</td>\n",
       "    </tr>\n",
       "    <tr>\n",
       "      <th>min</th>\n",
       "      <td>7.0</td>\n",
       "      <td>25.053333</td>\n",
       "      <td>205.570328</td>\n",
       "      <td>7.588554</td>\n",
       "      <td>27.00000</td>\n",
       "      <td>44.000000</td>\n",
       "      <td>0.0</td>\n",
       "      <td>1.0</td>\n",
       "    </tr>\n",
       "    <tr>\n",
       "      <th>25%</th>\n",
       "      <td>7.0</td>\n",
       "      <td>25.053333</td>\n",
       "      <td>212.746216</td>\n",
       "      <td>13.835940</td>\n",
       "      <td>39.25000</td>\n",
       "      <td>50.250000</td>\n",
       "      <td>0.0</td>\n",
       "      <td>1.0</td>\n",
       "    </tr>\n",
       "    <tr>\n",
       "      <th>50%</th>\n",
       "      <td>7.0</td>\n",
       "      <td>25.053333</td>\n",
       "      <td>212.746216</td>\n",
       "      <td>13.835940</td>\n",
       "      <td>51.50000</td>\n",
       "      <td>57.000000</td>\n",
       "      <td>0.0</td>\n",
       "      <td>1.0</td>\n",
       "    </tr>\n",
       "    <tr>\n",
       "      <th>75%</th>\n",
       "      <td>7.0</td>\n",
       "      <td>27.596666</td>\n",
       "      <td>212.746216</td>\n",
       "      <td>13.835940</td>\n",
       "      <td>63.75000</td>\n",
       "      <td>63.750000</td>\n",
       "      <td>0.0</td>\n",
       "      <td>1.0</td>\n",
       "    </tr>\n",
       "    <tr>\n",
       "      <th>max</th>\n",
       "      <td>7.0</td>\n",
       "      <td>35.096668</td>\n",
       "      <td>230.490402</td>\n",
       "      <td>15.747627</td>\n",
       "      <td>76.00000</td>\n",
       "      <td>70.000000</td>\n",
       "      <td>0.0</td>\n",
       "      <td>1.0</td>\n",
       "    </tr>\n",
       "  </tbody>\n",
       "</table>\n",
       "</div>"
      ],
      "text/plain": [
       "       longueur      angle      weight  precision      xPos       yPos  group  \\\n",
       "count      50.0  50.000000   50.000000  50.000000  50.00000  50.000000   50.0   \n",
       "mean        7.0  26.755207  213.043991  13.634507  51.50000  56.980000    0.0   \n",
       "std         0.0   2.806284    5.832972   1.934354  14.57738   7.924362    0.0   \n",
       "min         7.0  25.053333  205.570328   7.588554  27.00000  44.000000    0.0   \n",
       "25%         7.0  25.053333  212.746216  13.835940  39.25000  50.250000    0.0   \n",
       "50%         7.0  25.053333  212.746216  13.835940  51.50000  57.000000    0.0   \n",
       "75%         7.0  27.596666  212.746216  13.835940  63.75000  63.750000    0.0   \n",
       "max         7.0  35.096668  230.490402  15.747627  76.00000  70.000000    0.0   \n",
       "\n",
       "       layer  \n",
       "count   50.0  \n",
       "mean     1.0  \n",
       "std      0.0  \n",
       "min      1.0  \n",
       "25%      1.0  \n",
       "50%      1.0  \n",
       "75%      1.0  \n",
       "max      1.0  "
      ]
     },
     "execution_count": 50,
     "metadata": {},
     "output_type": "execute_result"
    }
   ],
   "source": [
    "titi.describe()"
   ]
  },
  {
   "cell_type": "code",
   "execution_count": 51,
   "metadata": {
    "ExecuteTime": {
     "end_time": "2019-07-19T23:41:22.272939Z",
     "start_time": "2019-07-19T23:41:22.252735Z"
    },
    "scrolled": false
   },
   "outputs": [
    {
     "data": {
      "text/html": [
       "<div>\n",
       "<style scoped>\n",
       "    .dataframe tbody tr th:only-of-type {\n",
       "        vertical-align: middle;\n",
       "    }\n",
       "\n",
       "    .dataframe tbody tr th {\n",
       "        vertical-align: top;\n",
       "    }\n",
       "\n",
       "    .dataframe thead th {\n",
       "        text-align: right;\n",
       "    }\n",
       "</style>\n",
       "<table border=\"1\" class=\"dataframe\">\n",
       "  <thead>\n",
       "    <tr style=\"text-align: right;\">\n",
       "      <th></th>\n",
       "      <th>longueur</th>\n",
       "      <th>angle</th>\n",
       "      <th>weight</th>\n",
       "      <th>precision</th>\n",
       "      <th>xPos</th>\n",
       "      <th>yPos</th>\n",
       "      <th>group</th>\n",
       "      <th>layer</th>\n",
       "    </tr>\n",
       "  </thead>\n",
       "  <tbody>\n",
       "    <tr>\n",
       "      <th>0</th>\n",
       "      <td>7</td>\n",
       "      <td>25.053333</td>\n",
       "      <td>212.746216</td>\n",
       "      <td>13.83594</td>\n",
       "      <td>27</td>\n",
       "      <td>70</td>\n",
       "      <td>0</td>\n",
       "      <td>1</td>\n",
       "    </tr>\n",
       "    <tr>\n",
       "      <th>1</th>\n",
       "      <td>7</td>\n",
       "      <td>25.053333</td>\n",
       "      <td>212.746216</td>\n",
       "      <td>13.83594</td>\n",
       "      <td>28</td>\n",
       "      <td>70</td>\n",
       "      <td>0</td>\n",
       "      <td>1</td>\n",
       "    </tr>\n",
       "    <tr>\n",
       "      <th>2</th>\n",
       "      <td>7</td>\n",
       "      <td>25.053333</td>\n",
       "      <td>212.746216</td>\n",
       "      <td>13.83594</td>\n",
       "      <td>29</td>\n",
       "      <td>69</td>\n",
       "      <td>0</td>\n",
       "      <td>1</td>\n",
       "    </tr>\n",
       "    <tr>\n",
       "      <th>3</th>\n",
       "      <td>7</td>\n",
       "      <td>25.053333</td>\n",
       "      <td>212.746216</td>\n",
       "      <td>13.83594</td>\n",
       "      <td>30</td>\n",
       "      <td>69</td>\n",
       "      <td>0</td>\n",
       "      <td>1</td>\n",
       "    </tr>\n",
       "  </tbody>\n",
       "</table>\n",
       "</div>"
      ],
      "text/plain": [
       "   longueur      angle      weight  precision  xPos  yPos  group  layer\n",
       "0         7  25.053333  212.746216   13.83594    27    70      0      1\n",
       "1         7  25.053333  212.746216   13.83594    28    70      0      1\n",
       "2         7  25.053333  212.746216   13.83594    29    69      0      1\n",
       "3         7  25.053333  212.746216   13.83594    30    69      0      1"
      ]
     },
     "execution_count": 51,
     "metadata": {},
     "output_type": "execute_result"
    }
   ],
   "source": [
    "titi[0:4]"
   ]
  },
  {
   "cell_type": "markdown",
   "metadata": {},
   "source": [
    "#### Affichage graphique du champs récepteur des neurones"
   ]
  },
  {
   "cell_type": "code",
   "execution_count": 52,
   "metadata": {
    "ExecuteTime": {
     "end_time": "2019-07-19T23:41:22.508999Z",
     "start_time": "2019-07-19T23:41:22.276262Z"
    },
    "scrolled": true
   },
   "outputs": [
    {
     "data": {
      "image/png": "[encoded data removed]",
      "text/plain": [
       "<Figure size 432x288 with 1 Axes>"
      ]
     },
     "metadata": {
      "needs_background": "light"
     },
     "output_type": "display_data"
    }
   ],
   "source": [
    "testBitmap = np.zeros((frame.shape[0],frame.shape[1],3), np.uint8)\n",
    "testBitmap = drawFieldNeurons(titi, testBitmap)\n",
    "imgplot = plt.imshow(testBitmap)"
   ]
  },
  {
   "cell_type": "markdown",
   "metadata": {},
   "source": [
    "#### Génération des groupes"
   ]
  },
  {
   "cell_type": "code",
   "execution_count": 54,
   "metadata": {
    "ExecuteTime": {
     "end_time": "2019-07-19T23:41:23.716232Z",
     "start_time": "2019-07-19T23:41:22.544013Z"
    }
   },
   "outputs": [
    {
     "name": "stdout",
     "output_type": "stream",
     "text": [
      "* moveCoordDeg(25.053333282470703,27,70,7)\n",
      "* coord ==> (33.341398027196526,67.03576804877419\n",
      "\n",
      "\n",
      "Coordonnées en cours : (33.341398027196526,67.03576804877419)\n",
      "Aucun neurone dans le groupe : 1\n",
      "Neurones trouvé :\n",
      "   longueur      angle      weight  precision  xPos  yPos  group  layer\n",
      "4         7  27.596666  212.911469  13.788987    31    68      0      1\n",
      "5         7  28.125000  205.570328  15.747627    32    68      0      1\n",
      "6         7  35.096668  230.490402   7.588554    33    67      0      1\n",
      "7         7  28.125000  205.570328  15.747627    34    66      0      1\n",
      "8         7  27.596666  212.911469  13.788987    35    66      0      1\n",
      "9         7  25.053333  212.746216  13.835940    36    65      0      1\n",
      "neurone Moyen\n",
      "   longueur      angle      weight  precision  xPos  yPos  group  layer\n",
      "0         7  28.694008  213.691345  13.309473  33.0  67.0      0      0\n",
      "* moveCoordDeg(28.694007873535156,33,67,7)\n",
      "* coord ==> (39.140374672626514,63.639077674243744\n",
      "Aucun neurone dans le groupe : 1\n",
      "Neurones trouvé :\n",
      "    longueur      angle      weight  precision  xPos  yPos  group  layer\n",
      "10         7  25.053333  212.746216   13.83594    37    65      0      1\n",
      "11         7  25.053333  212.746216   13.83594    38    64      0      1\n",
      "12         7  25.053333  212.746216   13.83594    39    64      0      1\n",
      "13         7  25.053333  212.746216   13.83594    40    63      0      1\n",
      "14         7  25.053333  212.746216   13.83594    41    63      0      1\n",
      "15         7  25.053333  212.746216   13.83594    42    62      0      1\n",
      "neurone Moyen\n",
      "   longueur      angle      weight  precision  xPos  yPos  group  layer\n",
      "0         7  25.053335  212.746216   13.83594  40.0  64.0      0      0\n",
      "* moveCoordDeg(25.053335189819336,40,64,7)\n",
      "* coord ==> (46.34139792851868,61.03576783767213\n",
      "Aucun neurone dans le groupe : 1\n",
      "Neurones trouvé :\n",
      "    longueur      angle      weight  precision  xPos  yPos  group  layer\n",
      "17         7  27.596666  212.911469  13.788987    44    61      0      1\n",
      "18         7  28.125000  205.570328  15.747627    45    61      0      1\n",
      "19         7  35.096668  230.490402   7.588554    46    60      0      1\n",
      "20         7  28.125000  205.570328  15.747627    47    59      0      1\n",
      "21         7  27.596666  212.911469  13.788987    48    59      0      1\n",
      "neurone Moyen\n",
      "   longueur      angle    weight  precision  xPos  yPos  group  layer\n",
      "0         7  29.419601  213.8797  13.204546  46.0  60.0      0      0\n",
      "* moveCoordDeg(29.419601440429688,46,60,7)\n",
      "* coord ==> (52.09732072052266,56.56158757111876\n",
      "Aucun neurone dans le groupe : 1\n",
      "Neurones trouvé :\n",
      "    longueur      angle      weight  precision  xPos  yPos  group  layer\n",
      "23         7  25.053333  212.746216  13.835940    50    58      0      1\n",
      "24         7  25.053333  212.746216  13.835940    51    57      0      1\n",
      "25         7  25.053333  212.746216  13.835940    52    57      0      1\n",
      "26         7  25.053333  212.746216  13.835940    53    56      0      1\n",
      "27         7  25.053333  212.746216  13.835940    54    56      0      1\n",
      "28         7  27.596666  212.911469  13.788987    55    55      0      1\n",
      "neurone Moyen\n",
      "   longueur      angle      weight  precision  xPos  yPos  group  layer\n",
      "0         7  25.477495  212.773773   13.82811  53.0  56.0      0      0\n",
      "* moveCoordDeg(25.477495193481445,53,56,7)\n",
      "* coord ==> (59.319280185039844,52.988904195651884\n",
      "Aucun neurone dans le groupe : 1\n",
      "Neurones trouvé :\n",
      "    longueur      angle      weight  precision  xPos  yPos  group  layer\n",
      "30         7  35.096668  230.490402   7.588554    57    54      0      1\n",
      "31         7  28.125000  205.570328  15.747627    58    53      0      1\n",
      "32         7  27.596666  212.911469  13.788987    59    53      0      1\n",
      "33         7  25.053333  212.746216  13.835940    60    52      0      1\n",
      "34         7  25.053333  212.746216  13.835940    61    52      0      1\n",
      "35         7  25.053333  212.746216  13.835940    62    51      0      1\n",
      "neurone Moyen\n",
      "   longueur      angle      weight  precision  xPos  yPos  group  layer\n",
      "0         7  27.762945  214.804855  13.014806  59.0  53.0      0      0\n",
      "* moveCoordDeg(27.7629451751709,59,53,7)\n",
      "* coord ==> (65.19417691078718,49.73929878739695\n",
      "Aucun neurone dans le groupe : 1\n",
      "Neurones trouvé :\n",
      "    longueur      angle      weight  precision  xPos  yPos  group  layer\n",
      "36         7  25.053333  212.746216  13.835940    63    51      0      1\n",
      "37         7  25.053333  212.746216  13.835940    64    50      0      1\n",
      "38         7  25.053333  212.746216  13.835940    65    50      0      1\n",
      "39         7  27.596666  212.911469  13.788987    66    49      0      1\n",
      "40         7  28.125000  205.570328  15.747627    67    49      0      1\n",
      "41         7  35.096668  230.490402   7.588554    68    48      0      1\n",
      "neurone Moyen\n",
      "   longueur      angle      weight  precision  xPos  yPos  group  layer\n",
      "0         7  27.762945  214.804855  13.014806  66.0  49.0      0      0\n",
      "* moveCoordDeg(27.7629451751709,66,49,7)\n",
      "* coord ==> (72.19417691078718,45.73929878739695\n",
      "Aucun neurone dans le groupe : 1\n",
      "Neurones trouvé :\n",
      "    longueur      angle      weight  precision  xPos  yPos  group  layer\n",
      "43         7  27.596666  212.911469  13.788987    70    47      0      1\n",
      "44         7  25.053333  212.746216  13.835940    71    46      0      1\n",
      "45         7  25.053333  212.746216  13.835940    72    46      0      1\n",
      "46         7  25.053333  212.746216  13.835940    73    45      0      1\n",
      "47         7  25.053333  212.746216  13.835940    74    45      0      1\n",
      "48         7  25.053333  212.746216  13.835940    75    44      0      1\n",
      "neurone Moyen\n",
      "   longueur      angle      weight  precision  xPos  yPos  group  layer\n",
      "0         7  25.477495  212.773758   13.82811  72.0  46.0      0      0\n",
      "* moveCoordDeg(25.477495193481445,72,46,7)\n",
      "* coord ==> (78.31928018503984,42.988904195651884\n",
      "Aucun neurone dans le groupe : 1\n",
      "Neurones trouvé :\n",
      "    longueur      angle      weight  precision  xPos  yPos  group  layer\n",
      "49         7  25.053333  212.746216   13.83594    76    44      0      1\n",
      "neurone Moyen\n",
      "   longueur      angle      weight  precision  xPos  yPos  group  layer\n",
      "0         7  25.053333  212.746216   13.83594  76.0  44.0      0      0\n",
      "* moveCoordDeg(25.053333282470703,76,44,7)\n",
      "* coord ==> (82.34139802719653,41.03576804877418\n",
      "* moveCoordDeg(25.053333282470703,28,70,7)\n",
      "* coord ==> (34.341398027196526,67.03576804877419\n",
      "\n",
      "\n",
      "Coordonnées en cours : (34.341398027196526,67.03576804877419)\n",
      "Trouvé 5 neurone(s) déja dans des groupes :\n",
      "Groupe en cours : 2\n",
      "Change pour le groupe #1\n",
      "-\n",
      "Neurones trouvé :\n",
      "    longueur      angle      weight  precision  xPos  yPos  group  layer\n",
      "5          7  28.125000  205.570328  15.747627    32    68      1      1\n",
      "6          7  35.096668  230.490402   7.588554    33    67      1      1\n",
      "7          7  28.125000  205.570328  15.747627    34    66      1      1\n",
      "8          7  27.596666  212.911469  13.788987    35    66      1      1\n",
      "9          7  25.053333  212.746216  13.835940    36    65      0      1\n",
      "10         7  25.053333  212.746216  13.835940    37    65      1      1\n",
      "neurone Moyen\n",
      "   longueur      angle      weight  precision  xPos  yPos  group  layer\n",
      "0         7  28.271437  213.663971  13.317215  34.0  66.0      0      0\n",
      "* moveCoordDeg(28.27143669128418,34,66,7)\n",
      "* coord ==> (40.16499511835045,62.68445552122805\n",
      "Trouvé 4 neurone(s) déja dans des groupes :\n",
      "Groupe en cours : 1\n",
      "Change pour le groupe #1\n",
      "-\n",
      "* moveCoordDeg(25.053333282470703,29,69,7)\n",
      "* coord ==> (35.341398027196526,66.03576804877419\n",
      "\n",
      "\n",
      "Coordonnées en cours : (35.341398027196526,66.03576804877419)\n",
      "Trouvé 6 neurone(s) déja dans des groupes :\n",
      "Groupe en cours : 2\n",
      "Change pour le groupe #1\n",
      "-\n",
      "Neurones trouvé :\n",
      "    longueur      angle      weight  precision  xPos  yPos  group  layer\n",
      "6          7  35.096668  230.490402   7.588554    33    67      1      1\n",
      "7          7  28.125000  205.570328  15.747627    34    66      1      1\n",
      "8          7  27.596666  212.911469  13.788987    35    66      1      1\n",
      "9          7  25.053333  212.746216  13.835940    36    65      1      1\n",
      "10         7  25.053333  212.746216  13.835940    37    65      1      1\n",
      "11         7  25.053333  212.746216  13.835940    38    64      1      1\n",
      "neurone Moyen\n",
      "   longueur      angle      weight  precision  xPos  yPos  group  layer\n",
      "0         7  27.762945  214.804855  13.014806  35.0  66.0      0      0\n",
      "* moveCoordDeg(27.7629451751709,35,66,7)\n",
      "* coord ==> (41.19417691078718,62.73929878739695\n",
      "Trouvé 5 neurone(s) déja dans des groupes :\n",
      "Groupe en cours : 1\n",
      "Change pour le groupe #1\n",
      "-\n",
      "* moveCoordDeg(25.053333282470703,30,69,7)\n",
      "* coord ==> (36.341398027196526,66.03576804877419\n"
     ]
    },
    {
     "name": "stdout",
     "output_type": "stream",
     "text": [
      "\n",
      "\n",
      "Coordonnées en cours : (36.341398027196526,66.03576804877419)\n",
      "Trouvé 6 neurone(s) déja dans des groupes :\n",
      "Groupe en cours : 2\n",
      "Change pour le groupe #1\n",
      "-\n",
      "Neurones trouvé :\n",
      "    longueur      angle      weight  precision  xPos  yPos  group  layer\n",
      "7          7  28.125000  205.570328  15.747627    34    66      1      1\n",
      "8          7  27.596666  212.911469  13.788987    35    66      1      1\n",
      "9          7  25.053333  212.746216  13.835940    36    65      1      1\n",
      "10         7  25.053333  212.746216  13.835940    37    65      1      1\n",
      "11         7  25.053333  212.746216  13.835940    38    64      1      1\n",
      "12         7  25.053333  212.746216  13.835940    39    64      1      1\n",
      "neurone Moyen\n",
      "   longueur      angle      weight  precision  xPos  yPos  group  layer\n",
      "0         7  25.977303  211.611908  14.137632  37.0  65.0      0      0\n",
      "* moveCoordDeg(25.97730255126953,37,65,7)\n",
      "* coord ==> (43.29277344080863,61.93389458389744\n",
      "Trouvé 6 neurone(s) déja dans des groupes :\n",
      "Groupe en cours : 1\n",
      "Change pour le groupe #1\n",
      "-\n",
      "* moveCoordDeg(25.053333282470703,49,58,7)\n",
      "* coord ==> (55.341398027196526,55.03576804877418\n",
      "\n",
      "\n",
      "Coordonnées en cours : (55.341398027196526,55.03576804877418)\n",
      "Trouvé 4 neurone(s) déja dans des groupes :\n",
      "Groupe en cours : 2\n",
      "Change pour le groupe #1\n",
      "-\n",
      "Neurones trouvé :\n",
      "    longueur      angle      weight  precision  xPos  yPos  group  layer\n",
      "26         7  25.053333  212.746216  13.835940    53    56      1      1\n",
      "27         7  25.053333  212.746216  13.835940    54    56      1      1\n",
      "28         7  27.596666  212.911469  13.788987    55    55      0      1\n",
      "29         7  28.125000  205.570328  15.747627    56    55      0      1\n",
      "30         7  35.096668  230.490402   7.588554    57    54      1      1\n",
      "31         7  28.125000  205.570328  15.747627    58    53      1      1\n",
      "neurone Moyen\n",
      "   longueur      angle      weight  precision  xPos  yPos  group  layer\n",
      "0         7  28.271439  213.663971  13.317216  56.0  55.0      0      0\n",
      "* moveCoordDeg(28.271438598632812,56,55,7)\n",
      "* coord ==> (62.16499500797758,51.68445531599836\n",
      "Trouvé 5 neurone(s) déja dans des groupes :\n",
      "Groupe en cours : 1\n",
      "Change pour le groupe #1\n",
      "-\n",
      "* moveCoordDeg(35.0966682434082,68,48,7)\n",
      "* coord ==> (73.72728206867272,43.97529627104554\n",
      "\n",
      "\n",
      "Coordonnées en cours : (73.72728206867272,43.97529627104554)\n",
      "Trouvé 5 neurone(s) déja dans des groupes :\n",
      "Groupe en cours : 2\n",
      "Change pour le groupe #1\n",
      "-\n",
      "Neurones trouvé :\n",
      "    longueur      angle      weight  precision  xPos  yPos  group  layer\n",
      "44         7  25.053333  212.746216   13.83594    71    46      1      1\n",
      "45         7  25.053333  212.746216   13.83594    72    46      1      1\n",
      "46         7  25.053333  212.746216   13.83594    73    45      1      1\n",
      "47         7  25.053333  212.746216   13.83594    74    45      1      1\n",
      "48         7  25.053333  212.746216   13.83594    75    44      0      1\n",
      "49         7  25.053333  212.746216   13.83594    76    44      1      1\n",
      "neurone Moyen\n",
      "   longueur      angle      weight  precision  xPos  yPos  group  layer\n",
      "0         7  25.053335  212.746216   13.83594  74.0  45.0      0      0\n",
      "* moveCoordDeg(25.053335189819336,74,45,7)\n",
      "* coord ==> (80.34139792851869,42.03576783767213\n",
      "* moveCoordDeg(28.125,69,47,7)\n",
      "* coord ==> (75.17344885043849,43.70022284221802\n",
      "\n",
      "\n",
      "Coordonnées en cours : (75.17344885043849,43.70022284221802)\n",
      "Trouvé 4 neurone(s) déja dans des groupes :\n",
      "Groupe en cours : 2\n",
      "Change pour le groupe #1\n",
      "-\n",
      "Neurones trouvé :\n",
      "    longueur      angle      weight  precision  xPos  yPos  group  layer\n",
      "46         7  25.053333  212.746216   13.83594    73    45      1      1\n",
      "47         7  25.053333  212.746216   13.83594    74    45      1      1\n",
      "48         7  25.053333  212.746216   13.83594    75    44      1      1\n",
      "49         7  25.053333  212.746216   13.83594    76    44      1      1\n",
      "neurone Moyen\n",
      "   longueur      angle      weight  precision  xPos  yPos  group  layer\n",
      "0         7  25.053333  212.746216   13.83594  74.0  44.0      0      0\n",
      "* moveCoordDeg(25.053333282470703,74,44,7)\n",
      "* coord ==> (80.34139802719653,41.03576804877418\n"
     ]
    }
   ],
   "source": [
    "findGroups(titi,True);"
   ]
  },
  {
   "cell_type": "code",
   "execution_count": 55,
   "metadata": {
    "ExecuteTime": {
     "end_time": "2019-07-19T23:41:23.976016Z",
     "start_time": "2019-07-19T23:41:23.718975Z"
    },
    "scrolled": true
   },
   "outputs": [
    {
     "data": {
      "text/html": [
       "<div>\n",
       "<style scoped>\n",
       "    .dataframe tbody tr th:only-of-type {\n",
       "        vertical-align: middle;\n",
       "    }\n",
       "\n",
       "    .dataframe tbody tr th {\n",
       "        vertical-align: top;\n",
       "    }\n",
       "\n",
       "    .dataframe thead tr th {\n",
       "        text-align: left;\n",
       "    }\n",
       "\n",
       "    .dataframe thead tr:last-of-type th {\n",
       "        text-align: right;\n",
       "    }\n",
       "</style>\n",
       "<table border=\"1\" class=\"dataframe\">\n",
       "  <thead>\n",
       "    <tr>\n",
       "      <th></th>\n",
       "      <th colspan=\"2\" halign=\"left\">longueur</th>\n",
       "      <th colspan=\"2\" halign=\"left\">angle</th>\n",
       "      <th colspan=\"2\" halign=\"left\">weight</th>\n",
       "      <th colspan=\"2\" halign=\"left\">precision</th>\n",
       "      <th colspan=\"2\" halign=\"left\">xPos</th>\n",
       "      <th colspan=\"2\" halign=\"left\">yPos</th>\n",
       "      <th colspan=\"2\" halign=\"left\">layer</th>\n",
       "    </tr>\n",
       "    <tr>\n",
       "      <th></th>\n",
       "      <th>mean</th>\n",
       "      <th>count</th>\n",
       "      <th>mean</th>\n",
       "      <th>count</th>\n",
       "      <th>mean</th>\n",
       "      <th>count</th>\n",
       "      <th>mean</th>\n",
       "      <th>count</th>\n",
       "      <th>mean</th>\n",
       "      <th>count</th>\n",
       "      <th>mean</th>\n",
       "      <th>count</th>\n",
       "      <th>mean</th>\n",
       "      <th>count</th>\n",
       "    </tr>\n",
       "    <tr>\n",
       "      <th>group</th>\n",
       "      <th></th>\n",
       "      <th></th>\n",
       "      <th></th>\n",
       "      <th></th>\n",
       "      <th></th>\n",
       "      <th></th>\n",
       "      <th></th>\n",
       "      <th></th>\n",
       "      <th></th>\n",
       "      <th></th>\n",
       "      <th></th>\n",
       "      <th></th>\n",
       "      <th></th>\n",
       "      <th></th>\n",
       "    </tr>\n",
       "  </thead>\n",
       "  <tbody>\n",
       "    <tr>\n",
       "      <th>1</th>\n",
       "      <td>7</td>\n",
       "      <td>50</td>\n",
       "      <td>26.755199</td>\n",
       "      <td>50</td>\n",
       "      <td>213.044052</td>\n",
       "      <td>50</td>\n",
       "      <td>13.634507</td>\n",
       "      <td>50</td>\n",
       "      <td>51.5</td>\n",
       "      <td>50</td>\n",
       "      <td>56.98</td>\n",
       "      <td>50</td>\n",
       "      <td>1</td>\n",
       "      <td>50</td>\n",
       "    </tr>\n",
       "  </tbody>\n",
       "</table>\n",
       "</div>"
      ],
      "text/plain": [
       "      longueur            angle            weight        precision        \\\n",
       "          mean count       mean count        mean count       mean count   \n",
       "group                                                                      \n",
       "1            7    50  26.755199    50  213.044052    50  13.634507    50   \n",
       "\n",
       "       xPos         yPos       layer        \n",
       "       mean count   mean count  mean count  \n",
       "group                                       \n",
       "1      51.5    50  56.98    50     1    50  "
      ]
     },
     "execution_count": 55,
     "metadata": {},
     "output_type": "execute_result"
    }
   ],
   "source": [
    "titi.groupby('group').agg(['mean', 'count'])[0:5]"
   ]
  },
  {
   "cell_type": "code",
   "execution_count": 56,
   "metadata": {
    "ExecuteTime": {
     "end_time": "2019-07-19T23:41:24.218470Z",
     "start_time": "2019-07-19T23:41:23.981026Z"
    },
    "scrolled": true
   },
   "outputs": [
    {
     "data": {
      "text/plain": [
       "<matplotlib.axes._subplots.AxesSubplot at 0x129d04588>"
      ]
     },
     "execution_count": 56,
     "metadata": {},
     "output_type": "execute_result"
    },
    {
     "data": {
      "image/png": "[encoded data removed]",
      "text/plain": [
       "<Figure size 432x288 with 1 Axes>"
      ]
     },
     "metadata": {
      "needs_background": "light"
     },
     "output_type": "display_data"
    }
   ],
   "source": [
    "titi.groupby('group').size().hist()"
   ]
  },
  {
   "cell_type": "markdown",
   "metadata": {},
   "source": [
    "# Errors list"
   ]
  },
  {
   "cell_type": "markdown",
   "metadata": {},
   "source": [
    "## Error 10\n",
    "Problème dans la fonction [getNeuronActivationList](#Création-d'une-liste-de-neurones-à-champs-récepteurs)\n",
    "\n",
    "\n"
   ]
  },
  {
   "cell_type": "code",
   "execution_count": null,
   "metadata": {},
   "outputs": [],
   "source": []
  }
 ],
 "metadata": {
  "kernelspec": {
   "display_name": "Python 3",
   "language": "python",
   "name": "python3"
  },
  "language_info": {
   "codemirror_mode": {
    "name": "ipython",
    "version": 3
   },
   "file_extension": ".py",
   "mimetype": "text/x-python",
   "name": "python",
   "nbconvert_exporter": "python",
   "pygments_lexer": "ipython3",
   "version": "3.7.3"
  },
  "toc": {
   "base_numbering": 1,
   "nav_menu": {},
   "number_sections": true,
   "sideBar": true,
   "skip_h1_title": false,
   "title_cell": "Table of Contents",
   "title_sidebar": "Contents",
   "toc_cell": false,
   "toc_position": {
    "height": "calc(100% - 180px)",
    "left": "10px",
    "top": "150px",
    "width": "384px"
   },
   "toc_section_display": true,
   "toc_window_display": true
  },
  "varInspector": {
   "cols": {
    "lenName": 16,
    "lenType": 16,
    "lenVar": 40
   },
   "kernels_config": {
    "python": {
     "delete_cmd_postfix": "",
     "delete_cmd_prefix": "del ",
     "library": "var_list.py",
     "varRefreshCmd": "print(var_dic_list())"
    },
    "r": {
     "delete_cmd_postfix": ") ",
     "delete_cmd_prefix": "rm(",
     "library": "var_list.r",
     "varRefreshCmd": "cat(var_dic_list()) "
    }
   },
   "types_to_exclude": [
    "module",
    "function",
    "builtin_function_or_method",
    "instance",
    "_Feature"
   ],
   "window_display": false
  }
 },
 "nbformat": 4,
 "nbformat_minor": 2
}
