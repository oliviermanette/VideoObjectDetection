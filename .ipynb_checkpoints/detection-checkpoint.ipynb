{
 "cells": [
  {
   "cell_type": "markdown",
   "metadata": {},
   "source": [
    "% Video Object Detection #\n",
    "# import"
   ]
  },
  {
   "cell_type": "code",
   "execution_count": 1,
   "metadata": {
    "ExecuteTime": {
     "end_time": "2019-07-18T17:39:52.457565Z",
     "start_time": "2019-07-18T17:39:49.398692Z"
    }
   },
   "outputs": [
    {
     "name": "stdout",
     "output_type": "stream",
     "text": [
      "4.1.0\n"
     ]
    }
   ],
   "source": [
    "import cv2\n",
    "print(cv2.__version__)\n",
    "import matplotlib\n",
    "import matplotlib.pyplot as plt\n",
    "import numpy as np\n",
    "import pandas as pd\n",
    "import os\n",
    "from numba import jit"
   ]
  },
  {
   "cell_type": "markdown",
   "metadata": {},
   "source": [
    "# File selection"
   ]
  },
  {
   "cell_type": "code",
   "execution_count": 2,
   "metadata": {
    "ExecuteTime": {
     "end_time": "2019-07-18T17:39:52.467168Z",
     "start_time": "2019-07-18T17:39:52.460820Z"
    }
   },
   "outputs": [],
   "source": [
    "path = \"/Users/oliviermanette/Desktop/trailer detection challenge/data/P473_Arizona_Day_Asphalt_Close_To_Sunset_dry_Nominal_8300lx\"\n",
    "os.chdir(path)"
   ]
  },
  {
   "cell_type": "code",
   "execution_count": 3,
   "metadata": {
    "ExecuteTime": {
     "end_time": "2019-07-18T17:39:52.490234Z",
     "start_time": "2019-07-18T17:39:52.475778Z"
    }
   },
   "outputs": [
    {
     "data": {
      "text/plain": [
       "'/Users/oliviermanette/Desktop/trailer detection challenge/data/P473_Arizona_Day_Asphalt_Close_To_Sunset_dry_Nominal_8300lx'"
      ]
     },
     "execution_count": 3,
     "metadata": {},
     "output_type": "execute_result"
    }
   ],
   "source": [
    "pwd"
   ]
  },
  {
   "cell_type": "code",
   "execution_count": 4,
   "metadata": {
    "ExecuteTime": {
     "end_time": "2019-07-18T17:39:52.642831Z",
     "start_time": "2019-07-18T17:39:52.494588Z"
    }
   },
   "outputs": [
    {
     "name": "stdout",
     "output_type": "stream",
     "text": [
      "\u001b[1m\u001b[32mP473_Arizona_Day_Asphalt_Close_To_Sunset_dry_Nominal_8300lx.avi\u001b[m\u001b[m*\r\n",
      "\u001b[1m\u001b[32mP473_Arizona_Day_Asphalt_Close_To_Sunset_dry_Nominal_8300lx.dat_GT.csv\u001b[m\u001b[m*\r\n"
     ]
    }
   ],
   "source": [
    "ls"
   ]
  },
  {
   "cell_type": "code",
   "execution_count": 5,
   "metadata": {
    "ExecuteTime": {
     "end_time": "2019-07-18T17:39:52.660730Z",
     "start_time": "2019-07-18T17:39:52.647460Z"
    }
   },
   "outputs": [],
   "source": [
    "#fileName='W420_ES_Hi_Snow_Slush_Asphalt_28klux.avi'\n",
    "fileName='P473_Arizona_Day_Asphalt_Close_To_Sunset_dry_Nominal_8300lx.avi'"
   ]
  },
  {
   "cell_type": "markdown",
   "metadata": {},
   "source": [
    "# Test Video Loop"
   ]
  },
  {
   "cell_type": "code",
   "execution_count": 6,
   "metadata": {
    "ExecuteTime": {
     "end_time": "2019-07-18T17:40:00.925567Z",
     "start_time": "2019-07-18T17:39:52.664869Z"
    }
   },
   "outputs": [],
   "source": [
    "cap = cv2.VideoCapture(fileName)  # load the video\n",
    "while (cap.isOpened()):  # play the video by reading frame by frame\n",
    "    ret, frame = cap.read()\n",
    "    if ret == True:\n",
    "        # optional: do some image processing here\n",
    "        cv2.imshow('frame', frame)\n",
    "        # show the video\n",
    "        if cv2.waitKey(1) & 0xFF == ord('q'):\n",
    "            #if 0xFF == ord('q'):\n",
    "            break\n",
    "    else:\n",
    "        break\n",
    "cap.release()\n",
    "cv2.destroyAllWindows()"
   ]
  },
  {
   "cell_type": "markdown",
   "metadata": {},
   "source": [
    "# Variables globales\n",
    "Pour des raisons de lisibilité du code, l'ensemble des variables locales seront précédés du préfixe 'l' afin de les différencier des variables globales qui n'ont pas de préfixe.\n",
    "## Type de données de position"
   ]
  },
  {
   "cell_type": "code",
   "execution_count": 81,
   "metadata": {
    "ExecuteTime": {
     "end_time": "2019-07-18T18:29:29.403505Z",
     "start_time": "2019-07-18T18:29:29.397921Z"
    }
   },
   "outputs": [],
   "source": [
    "posType = np.dtype([('x', 'u1'), ('y', 'u2')])"
   ]
  },
  {
   "cell_type": "markdown",
   "metadata": {},
   "source": [
    "## Type de données de Neurones"
   ]
  },
  {
   "cell_type": "code",
   "execution_count": 7,
   "metadata": {
    "ExecuteTime": {
     "end_time": "2019-07-18T17:40:00.945690Z",
     "start_time": "2019-07-18T17:40:00.934946Z"
    }
   },
   "outputs": [],
   "source": [
    "NeuronType = np.dtype([('longueur', 'u1'), ('angle', 'f4'), ('weight', 'f4'),\n",
    "                        ('precision', 'f4'), ('xPos', 'u1'), ('yPos', 'u2'),\n",
    "                        ('group', 'u1'), ('layer', 'u1')])"
   ]
  },
  {
   "cell_type": "markdown",
   "metadata": {},
   "source": [
    "## Taille des champs récepteurs neuronaux"
   ]
  },
  {
   "cell_type": "code",
   "execution_count": 80,
   "metadata": {
    "ExecuteTime": {
     "end_time": "2019-07-18T18:27:44.240643Z",
     "start_time": "2019-07-18T18:27:44.223340Z"
    }
   },
   "outputs": [],
   "source": [
    "tailleField = 7"
   ]
  },
  {
   "cell_type": "markdown",
   "metadata": {},
   "source": [
    "# Fonctions\n",
    "## Calcul d'un neurone champ moyen\n",
    "A partir d'une liste de neurones, il retourne le neurone moyen"
   ]
  },
  {
   "cell_type": "code",
   "execution_count": 82,
   "metadata": {
    "ExecuteTime": {
     "end_time": "2019-07-18T19:06:50.688256Z",
     "start_time": "2019-07-18T19:06:50.625579Z"
    }
   },
   "outputs": [],
   "source": [
    "def getAvgFieldNeuron(lNeuronList, typeList=NeuronType):\n",
    "    lNeurons = np.zeros(1, dtype=typeList)\n",
    "    lpNeurons = pd.DataFrame(lNeurons)\n",
    "    lpNeurons['longueur'] = int(lNeuronList.longueur[0:1])\n",
    "    lpNeurons['angle'] = float(\n",
    "        np.sum((lNeuronList.angle * lNeuronList.weight) / np.sum(lNeuronList.weight)))\n",
    "    lpNeurons['weight'] = float(\n",
    "        np.sum((lNeuronList.weight * lNeuronList.weight) / np.sum(lNeuronList.weight)))\n",
    "    lpNeurons['precision'] = float(\n",
    "        np.sum((lNeuronList.precision * lNeuronList.weight) / np.sum(lNeuronList.weight)))\n",
    "    lpNeurons['xPos'] = int(\n",
    "        np.sum((lNeuronList.xPos * lNeuronList.weight) / np.sum(lNeuronList.weight)))\n",
    "    lpNeurons['yPos'] = int(\n",
    "        np.sum((lNeuronList.yPos * lNeuronList.weight) / np.sum(lNeuronList.weight)))\n",
    "    return lpNeurons"
   ]
  },
  {
   "cell_type": "markdown",
   "metadata": {},
   "source": [
    "## Matrice des directions"
   ]
  },
  {
   "cell_type": "code",
   "execution_count": 9,
   "metadata": {
    "ExecuteTime": {
     "end_time": "2019-07-18T17:40:01.244268Z",
     "start_time": "2019-07-18T17:40:00.978762Z"
    }
   },
   "outputs": [],
   "source": [
    "@jit(nopython=True, parallel=True)\n",
    "def fillAngleMat(lSize):\n",
    "    lOutput = np.zeros((lSize, lSize))\n",
    "    lOffset = int(np.floor(lSize / 2))\n",
    "    for lX in range(0, lSize):\n",
    "        for lY in range(0, lSize):\n",
    "            if (lX - lOffset) == 0:\n",
    "                lOutput[lX, lY] = 90\n",
    "            else:\n",
    "                lOutput[lX, lY] = np.around(\n",
    "                    np.arctan((lY - lOffset) / (lOffset - lX)) / pi * 180, 2)\n",
    "    lOutput[lOffset, lOffset] = 0\n",
    "    return lOutput"
   ]
  },
  {
   "cell_type": "markdown",
   "metadata": {},
   "source": [
    "## Fonction d'activation des neurones\n",
    "Chaque neurone retourne une valeur comprise entre 0 et 255 qui reflète son niveau d'activation. Cette activation reflète le niveau de confiance que le neurone a sur le lien existant entre sa fonction de base et les pixels reçus dans son champs récepteur. Plus les pixels sont organisés de façon à former une ligne avec l'angle correspondant à la fonction de base du neurone et plus ce dernier sera activé. Comme on ne souhaite pas obtenir une activation de valeur infinie, on utilise donc une fonction sigmoide qui s'applique à l'écart-type des angles supposés. "
   ]
  },
  {
   "cell_type": "code",
   "execution_count": 10,
   "metadata": {
    "ExecuteTime": {
     "end_time": "2019-07-18T17:40:01.256174Z",
     "start_time": "2019-07-18T17:40:01.247065Z"
    }
   },
   "outputs": [],
   "source": [
    "@jit(nopython=True, parallel=True)\n",
    "def sigmoidActivationFctN1(activationVector):\n",
    "    lDenom = (1 + np.exp(0.1 * (np.abs(np.std(activationVector)) - 30)))\n",
    "    return 255 / lDenom"
   ]
  },
  {
   "cell_type": "markdown",
   "metadata": {},
   "source": [
    "## Création d'une liste de neurones à champs récepteurs"
   ]
  },
  {
   "cell_type": "code",
   "execution_count": 11,
   "metadata": {
    "ExecuteTime": {
     "end_time": "2019-07-18T17:40:01.279768Z",
     "start_time": "2019-07-18T17:40:01.259542Z"
    }
   },
   "outputs": [],
   "source": [
    "#@jit(nopython=True, parallel=True)\n",
    "def getNeuronActivationList(idxX, idxY, size, frameE, nbPixelPts, layer=1):\n",
    "    #commencer par créer le tableau de neurones\n",
    "    lNeuronType = np.dtype([('longueur', 'u1'), ('angle', 'f4'),\n",
    "                            ('weight', 'f4'), ('precision', 'f4'),\n",
    "                            ('xPos', 'u1'), ('yPos', 'u2'), ('group', 'u1')])\n",
    "\n",
    "    lCriterion = nbPixelPts > size\n",
    "\n",
    "    nbNeurons = sum(lCriterion)\n",
    "    lNeurons = np.zeros(nbNeurons, dtype=lNeuronType)\n",
    "    lpNeurons = pd.DataFrame(lNeurons)\n",
    "    lpNeurons['longueur'] = size\n",
    "    lpNeurons['layer'] = layer\n",
    "\n",
    "    offsetField = int(np.floor(size / 2))\n",
    "    lAngleMat = fillAngleMat(size)\n",
    "\n",
    "    newX = idxX[lCriterion]\n",
    "    newY = idxY[lCriterion]\n",
    "    print(\"size :\" + str(len(newX)))\n",
    "\n",
    "    print(\"newX\")\n",
    "    print(np.min(newX))\n",
    "    print(np.max(newX))\n",
    "    print(\"newY\")\n",
    "    print(np.min(newY))\n",
    "    print(np.max(newY))\n",
    "    print()\n",
    "    pos = 0\n",
    "    lnPos = 0\n",
    "    for lintX in newX:\n",
    "        lintY = newY[pos]\n",
    "\n",
    "        lNeuronFieldFrame = frameE[\n",
    "            int(lintX - offsetField):int(lintX + offsetField + 1),\n",
    "            int(lintY - offsetField):int(lintY + offsetField + 1)] / 255\n",
    "\n",
    "        tmp = np.multiply(lAngleMat, lNeuronFieldFrame)\n",
    "\n",
    "        lNeuronFieldValues = tmp[np.nonzero(tmp)]\n",
    "        if (lNeuronFieldValues.size > 0):\n",
    "            lpNeurons.loc[pos, ['angle']] = np.mean(lNeuronFieldValues)\n",
    "            lpNeurons.loc[pos, ['weight']] = sigmoidActivationFctN1(\n",
    "                lNeuronFieldValues)\n",
    "            lpNeurons.loc[pos, ['precision']] = np.std(lNeuronFieldValues)\n",
    "            lpNeurons.loc[pos, ['xPos']] = lintX\n",
    "            lpNeurons.loc[pos, ['yPos']] = lintY\n",
    "\n",
    "            lnPos += 1\n",
    "        else:\n",
    "            True  #print (\"error it shouldn't be zero\")\n",
    "        pos += 1\n",
    "    print(\"nb de positions couvertes : \" + str(lnPos) + \" sur \" + str(pos))\n",
    "\n",
    "    return lpNeurons\n",
    "    #return idxY"
   ]
  },
  {
   "cell_type": "markdown",
   "metadata": {},
   "source": [
    "## Nombre de pixels actifs dans chaque champs récepteur\n",
    "A partir des coordonnées des centres supposés de chaque champs récepteurs et de la taille du champs récepteur, recherche sur la frame bitmap passée en paramètres, retourne un tableau contenant le nombre de pixels allumés à l'intérieur de chacun de ces champs."
   ]
  },
  {
   "cell_type": "code",
   "execution_count": 12,
   "metadata": {
    "ExecuteTime": {
     "end_time": "2019-07-18T17:40:01.301343Z",
     "start_time": "2019-07-18T17:40:01.283772Z"
    }
   },
   "outputs": [],
   "source": [
    "@jit(nopython=True, parallel=True)\n",
    "def nbPixelField(tableX, tableY, frameEdge, lintTailleField=3):\n",
    "    idx = 0\n",
    "    results = np.zeros(tableX.size)\n",
    "    rayon = np.floor(lintTailleField / 2)\n",
    "    tailleMaxX = frameEdge.shape[0]\n",
    "    tailleMaxY = frameEdge.shape[1]\n",
    "    halfX = tailleMaxX / 3\n",
    "\n",
    "    for posX in tableX:\n",
    "        posY = tableY[idx]\n",
    "        if posX > halfX and posX >= rayon and (posX + rayon) < tailleMaxX:\n",
    "            results[idx] = np.sum(\n",
    "                frameEdge[int(posX - rayon):int(posX + rayon + 1),\n",
    "                          int(posY - rayon):int(posY + rayon + 1)] / 255)\n",
    "        idx += 1  #tailleField\n",
    "    return results"
   ]
  },
  {
   "cell_type": "code",
   "execution_count": 13,
   "metadata": {
    "ExecuteTime": {
     "end_time": "2019-07-18T17:40:01.313272Z",
     "start_time": "2019-07-18T17:40:01.305016Z"
    }
   },
   "outputs": [],
   "source": [
    "#@jit(nopython=True, parallel=True)\n",
    "def getNonZero(img):\n",
    "    return np.where(img != [0])"
   ]
  },
  {
   "cell_type": "markdown",
   "metadata": {},
   "source": [
    "## Retourne les coordonnées du centre d'un champs récepteur neuronal"
   ]
  },
  {
   "cell_type": "code",
   "execution_count": 14,
   "metadata": {
    "ExecuteTime": {
     "end_time": "2019-07-18T17:40:01.335280Z",
     "start_time": "2019-07-18T17:40:01.320983Z"
    }
   },
   "outputs": [],
   "source": [
    "def getNFCoordinate(lNeurone):\n",
    "    try:\n",
    "        lintDist = int(np.floor(lNeurone.longueur / 2))\n",
    "    except:\n",
    "        P1 = (0, 0)\n",
    "        P2 = (0, 0)\n",
    "        return (P1, P2)\n",
    "    if np.abs(lNeurone.angle / 180 * np.pi) < 45:\n",
    "        lAlpha = lNeurone.angle / 180 * pi\n",
    "        lintX1 = np.around(lNeurone.xPos - lintDist * np.tan(lAlpha))\n",
    "        lintY1 = lNeurone.yPos + lintDist\n",
    "        lintX2 = np.around(lNeurone.xPos + lintDist * np.tan(lAlpha))\n",
    "        lintY2 = lNeurone.yPos - lintDist\n",
    "    else:\n",
    "        lAlpha = 90 - lNeurone.angle / 180 * pi\n",
    "        lintY1 = np.around(lNeurone.yPos - lintDist * np.tan(lAlpha))\n",
    "        lintX1 = lNeurone.xPos - lintDist\n",
    "        lintY2 = np.around(lNeurone.yPos + lintDist * np.tan(lAlpha))\n",
    "        lintX1 = lNeurone.xPos + lintDist\n",
    "    P1 = (int(lintY1), int(lintX1))\n",
    "    P2 = (int(lintY2), int(lintX2))\n",
    "    return P1, P2"
   ]
  },
  {
   "cell_type": "markdown",
   "metadata": {},
   "source": [
    "## Calcule la distance entre deux points"
   ]
  },
  {
   "cell_type": "code",
   "execution_count": 15,
   "metadata": {
    "ExecuteTime": {
     "end_time": "2019-07-18T17:40:01.352175Z",
     "start_time": "2019-07-18T17:40:01.344417Z"
    }
   },
   "outputs": [],
   "source": [
    "def getDistance(x1, y1, x2, y2):\n",
    "    return np.sqrt(np.power(np.abs(x1 - x2), 2) + np.power(np.abs(y1 - y2), 2))"
   ]
  },
  {
   "cell_type": "markdown",
   "metadata": {},
   "source": [
    "## Retourne les neurones les plus proches d'un point"
   ]
  },
  {
   "cell_type": "code",
   "execution_count": 16,
   "metadata": {
    "ExecuteTime": {
     "end_time": "2019-07-18T17:40:01.364829Z",
     "start_time": "2019-07-18T17:40:01.355096Z"
    }
   },
   "outputs": [],
   "source": [
    "def closestFieldNeurons(neuronList, posX, posY, distance):\n",
    "    return neuronList[(neuronList.xPos > posX - distance)\n",
    "                      & (neuronList.xPos < posX + distance) &\n",
    "                      (neuronList.yPos > posY - distance) &\n",
    "                      (neuronList.yPos < posY + distance)]"
   ]
  },
  {
   "cell_type": "markdown",
   "metadata": {},
   "source": [
    "## Ajoute les fonctions de base des neurones à champs récepteur sur un bitmap"
   ]
  },
  {
   "cell_type": "code",
   "execution_count": 17,
   "metadata": {
    "ExecuteTime": {
     "end_time": "2019-07-18T17:40:01.377804Z",
     "start_time": "2019-07-18T17:40:01.369726Z"
    }
   },
   "outputs": [],
   "source": [
    "def drawFieldNeurons(lNeuronList, lBitmap):\n",
    "    for index, lNeuron in lNeuronList.iterrows():\n",
    "        #for lNeuron in lNeuronList:\n",
    "        lCoord = getNFCoordinate(lNeuron)\n",
    "        #print(lNeuron)\n",
    "        try:\n",
    "            cv2.line(lBitmap, lCoord[0], lCoord[1], (int(\n",
    "                lNeuron.weight), int(lNeuron.weight), int(lNeuron.weight)), 3)\n",
    "        except:\n",
    "            True\n",
    "    return lBitmap"
   ]
  },
  {
   "cell_type": "markdown",
   "metadata": {
    "ExecuteTime": {
     "end_time": "2019-07-18T17:53:27.662094Z",
     "start_time": "2019-07-18T17:53:27.647097Z"
    }
   },
   "source": [
    "## Find neuronal groups\n",
    "Un groupe neuronal est un ensemble de neurone dont les champs récepteurs sont complémentaires les uns des autres. Pour faire  partie d'un champs récepteur, deux conditions doivent être réunies.\n",
    "<b>(A compléter)</b>\n",
    "### Translation\n",
    "Retourne les coordonnées d'un point translaté d'une certaine distance avec un certain angle. Cette fonction demande un angle, une distance et les coordonnées d'un point de départ. Il retourne ensuite les coordonnées après translation."
   ]
  },
  {
   "cell_type": "code",
   "execution_count": 18,
   "metadata": {
    "ExecuteTime": {
     "end_time": "2019-07-18T17:40:01.392399Z",
     "start_time": "2019-07-18T17:40:01.385315Z"
    }
   },
   "outputs": [],
   "source": [
    "#@jit(nopython=True, parallel=True)\n",
    "def moveCoordDeg(angle, startX, startY, distance):\n",
    "    tipX = startX + distance * np.sin(angle / 180 * pi)\n",
    "    tipY = startY - distance * np.cos(angle / 180 * pi)\n",
    "    return tipX, tipY"
   ]
  },
  {
   "cell_type": "markdown",
   "metadata": {},
   "source": [
    "Effectue le même calcul que la fonction <i>moveCoordDeg </i>  mais prend comme paramètre un neurone. Il effectue la translation en prenant comme point de départ le centre du champs récepteur et effectue un déplacement de la taille de ce champs dans la direction de la fonction de base. "
   ]
  },
  {
   "cell_type": "code",
   "execution_count": 19,
   "metadata": {
    "ExecuteTime": {
     "end_time": "2019-07-18T17:40:01.409587Z",
     "start_time": "2019-07-18T17:40:01.398053Z"
    }
   },
   "outputs": [],
   "source": [
    "def getNextPosition(neuroneMoyen):\n",
    "    return moveCoordDeg(float(neuroneMoyen.angle), int(neuroneMoyen.xPos),\n",
    "                        int(neuroneMoyen.yPos), int(neuroneMoyen.longueur))"
   ]
  },
  {
   "cell_type": "markdown",
   "metadata": {},
   "source": [
    "### Calcul des  groupes à partir d'une liste de neurones à champs récepteurs"
   ]
  },
  {
   "cell_type": "code",
   "execution_count": 20,
   "metadata": {
    "ExecuteTime": {
     "end_time": "2019-07-18T17:40:01.442298Z",
     "start_time": "2019-07-18T17:40:01.417811Z"
    }
   },
   "outputs": [],
   "source": [
    "def findGroups(neuronList):\n",
    "    # Sélection d'un nouveau numéro de Groupe (GroupID)\n",
    "    lintCurrentGroupID = 0\n",
    "    lintNbGroups = 0\n",
    "    lIndex = 0\n",
    "\n",
    "    # liste des neurones sans groupe\n",
    "    lNoGroupList = neuronList[neuronList.group == 0]\n",
    "\n",
    "    while lNoGroupList.shape[0] > 0:\n",
    "\n",
    "        #Sélection d'un neurone dans la liste (ceux sans groupID ou groupID=0)\n",
    "        lMoyenNeuron = lNoGroupList.iloc[0]\n",
    "        lIndex = lNoGroupList.head().index.values[0]\n",
    "\n",
    "        while True:\n",
    "            #Assignation d'un nouveau numéro de GroupID en cours\n",
    "            lintNbGroups += 1\n",
    "            lintCurrentGroupID += 1\n",
    "            if neuronList[neuronList.group ==\n",
    "                          lintCurrentGroupID].shape[0] == 0:\n",
    "                break\n",
    "\n",
    "        neuronList.loc[lIndex, ['group']] = lintCurrentGroupID\n",
    "\n",
    "        #déplacement\n",
    "        lnPos = getNextPosition(lMoyenNeuron)\n",
    "\n",
    "        #recherche de neurones proches\n",
    "        lClosestNeurons = closestFieldNeurons(\n",
    "            neuronList, lnPos[0], lnPos[1],\n",
    "            int(np.floor(lMoyenNeuron.longueur / 2)))\n",
    "\n",
    "        #Oui ==> retour étape 1\n",
    "        while lClosestNeurons.shape[0] != 0:\n",
    "            #recherche des groupID dans cette sous-sélection\n",
    "            if lClosestNeurons[lClosestNeurons.group > 0].shape[0] == 0:\n",
    "                #Non => Assigner à tous les neurones de la sous-sélection le groupID en cours => aller directement à l'étape 7\n",
    "                for lintIdx in lClosestNeurons.head().index.values:\n",
    "                    neuronList.loc[lintIdx, ['group']] = lintCurrentGroupID\n",
    "            else:\n",
    "                #Oui\n",
    "                #Récupération de la liste de tous les groupID utilisés\n",
    "                #Sélection du groupID le plus petit (en comparant aussi avec le groupID en cours)\n",
    "                lintPreviousGroupID = lintCurrentGroupID\n",
    "                lintCurrentGroupID = np.min(\n",
    "                    lClosestNeurons[lClosestNeurons.group > 0].group)\n",
    "                #Assigner à tous les neurones de la sous-sélection ce nouveau groupID\n",
    "                for lintIdx in lClosestNeurons.head().index.values:\n",
    "                    neuronList.loc[lintIdx, ['group']] = lintCurrentGroupID\n",
    "                    #remplacer dans la liste globale, pour chaque groupID présent dans la liste par le nouveau groupID\n",
    "                    for lintGroupID in lClosestNeurons[\n",
    "                            lClosestNeurons.group > 0].group:\n",
    "                        neuronList.loc[neuronList.group == lintGroupID,\n",
    "                                       'group'] = lintCurrentGroupID\n",
    "                if lintPreviousGroupID == lintCurrentGroupID:\n",
    "                    #si tous les neurones\n",
    "                    if lClosestNeurons[lClosestNeurons.group >\n",
    "                                       0].shape[0] == lClosestNeurons[\n",
    "                                           lClosestNeurons.group ==\n",
    "                                           lintPreviousGroupID].shape[0]:\n",
    "                        break  # sortie de la boucle while\n",
    "            #Calcul du neurone Field moyen\n",
    "            lMoyenNeuron = getAvgFieldNeuron(lClosestNeurons)\n",
    "            #déplacement\n",
    "            lnPos = getNextPosition(lMoyenNeuron)\n",
    "\n",
    "            #recherche de neurones proches\n",
    "            lClosestNeurons = closestFieldNeurons(\n",
    "                neuronList, lnPos[0], lnPos[1],\n",
    "                int(np.floor(lMoyenNeuron.longueur / 2)))\n",
    "\n",
    "        lNoGroupList = neuronList[neuronList.group == 0]\n",
    "    return neuronList"
   ]
  },
  {
   "cell_type": "markdown",
   "metadata": {},
   "source": [
    "# Video Loop"
   ]
  },
  {
   "cell_type": "code",
   "execution_count": 21,
   "metadata": {
    "ExecuteTime": {
     "end_time": "2019-07-18T17:40:04.205997Z",
     "start_time": "2019-07-18T17:40:01.446568Z"
    }
   },
   "outputs": [],
   "source": [
    "kernelSize=21   # Kernel Bluring size \n",
    "\n",
    "# Edge Detection Parameter\n",
    "parameter1=20\n",
    "parameter2=40\n",
    "intApertureSize=1\n",
    "\n",
    "#cap = cv2.VideoCapture(0)\n",
    "cap = cv2.VideoCapture(fileName)\n",
    "lCounter=0\n",
    "while(cap.isOpened()):\n",
    "    # Capture frame-by-frame\n",
    "    ret, frame = cap.read()    \n",
    "    if ret==True:\n",
    "        # Our operations on the frame come here\n",
    "        if lCounter==1:\n",
    "            frame = cv2.GaussianBlur(frame, (kernelSize,kernelSize), 0, 0)\n",
    "            frame = cv2.Canny(frame,parameter1,parameter2,intApertureSize)  # Canny edge detection\n",
    "            lCounter = 0\n",
    "        lCounter += 1;\n",
    "        #frame = cv2.Laplacian(frame,cv2.CV_64F) # Laplacian edge detection\n",
    "        #frame = cv2.Sobel(frame,cv2.CV_64F,1,0,ksize=kernelSize) # X-direction Sobel edge detection\n",
    "        #frame = cv2.Sobel(frame,cv2.CV_64F,0,1,ksize=kernelSize) # Y-direction Sobel edge detection\n",
    "        #frame[0:10,10]=255\n",
    "        indices = np.where(frame != [0])\n",
    "        # Display the resulting frame\n",
    "        cv2.imshow('Canny',frame)\n",
    "        if cv2.waitKey(1) & 0xFF == ord('q'):  # press q to quit\n",
    "            break\n",
    "    else:\n",
    "        break\n",
    "# When everything done, release the capture\n",
    "cap.release()\n",
    "cv2.destroyAllWindows()"
   ]
  },
  {
   "cell_type": "markdown",
   "metadata": {},
   "source": [
    "# Sandbox"
   ]
  },
  {
   "cell_type": "code",
   "execution_count": 22,
   "metadata": {
    "ExecuteTime": {
     "end_time": "2019-07-18T17:40:04.228385Z",
     "start_time": "2019-07-18T17:40:04.212839Z"
    }
   },
   "outputs": [
    {
     "data": {
      "text/plain": [
       "(800, 1280)"
      ]
     },
     "execution_count": 22,
     "metadata": {},
     "output_type": "execute_result"
    }
   ],
   "source": [
    "frame.shape"
   ]
  },
  {
   "cell_type": "code",
   "execution_count": 23,
   "metadata": {
    "ExecuteTime": {
     "end_time": "2019-07-18T17:40:04.249588Z",
     "start_time": "2019-07-18T17:40:04.236643Z"
    }
   },
   "outputs": [
    {
     "data": {
      "text/plain": [
       "255"
      ]
     },
     "execution_count": 23,
     "metadata": {},
     "output_type": "execute_result"
    }
   ],
   "source": [
    "frame.max()"
   ]
  },
  {
   "cell_type": "code",
   "execution_count": 24,
   "metadata": {
    "ExecuteTime": {
     "end_time": "2019-07-18T17:40:04.279511Z",
     "start_time": "2019-07-18T17:40:04.256848Z"
    }
   },
   "outputs": [],
   "source": [
    "indices = np.where(frame != [0])"
   ]
  },
  {
   "cell_type": "code",
   "execution_count": 25,
   "metadata": {
    "ExecuteTime": {
     "end_time": "2019-07-18T17:40:04.298566Z",
     "start_time": "2019-07-18T17:40:04.284459Z"
    }
   },
   "outputs": [],
   "source": [
    "tata =  getNonZero(frame)"
   ]
  },
  {
   "cell_type": "code",
   "execution_count": 26,
   "metadata": {
    "ExecuteTime": {
     "end_time": "2019-07-18T17:40:04.311521Z",
     "start_time": "2019-07-18T17:40:04.305332Z"
    }
   },
   "outputs": [],
   "source": [
    "coordinates = zip(indices[0], indices[1])"
   ]
  },
  {
   "cell_type": "code",
   "execution_count": 27,
   "metadata": {
    "ExecuteTime": {
     "end_time": "2019-07-18T17:40:04.329235Z",
     "start_time": "2019-07-18T17:40:04.317069Z"
    }
   },
   "outputs": [
    {
     "data": {
      "text/plain": [
       "9373"
      ]
     },
     "execution_count": 27,
     "metadata": {},
     "output_type": "execute_result"
    }
   ],
   "source": [
    "indices[1].size"
   ]
  },
  {
   "cell_type": "code",
   "execution_count": 28,
   "metadata": {
    "ExecuteTime": {
     "end_time": "2019-07-18T17:40:04.349784Z",
     "start_time": "2019-07-18T17:40:04.334593Z"
    }
   },
   "outputs": [
    {
     "data": {
      "text/plain": [
       "array([147, 150, 151, 145, 146, 148, 142, 143, 144, 149, 150, 140, 141,\n",
       "       136, 137, 138, 139, 151, 134, 135, 151, 134, 151, 134, 153, 133,\n",
       "       153, 132, 133, 152, 132, 152, 131, 151, 131, 151, 130, 151, 130,\n",
       "       149, 151, 130, 150, 129, 151, 129, 151, 129, 151, 129, 151, 128,\n",
       "       152, 129, 151, 129, 151, 153, 129, 152, 128, 151, 129, 129, 151,\n",
       "       152, 150, 151, 130, 131, 149, 150, 131, 143, 144, 145, 149, 139,\n",
       "       142, 148, 132, 133, 134, 135, 136, 137, 138, 140, 141, 146, 133,\n",
       "       629, 630, 631, 632, 633, 634, 635, 627, 628])"
      ]
     },
     "execution_count": 28,
     "metadata": {},
     "output_type": "execute_result"
    }
   ],
   "source": [
    "indices[1][0:100]"
   ]
  },
  {
   "cell_type": "code",
   "execution_count": 29,
   "metadata": {
    "ExecuteTime": {
     "end_time": "2019-07-18T17:40:04.723287Z",
     "start_time": "2019-07-18T17:40:04.354230Z"
    }
   },
   "outputs": [
    {
     "data": {
      "image/png": "[encoded data removed]",
      "text/plain": [
       "<Figure size 432x288 with 1 Axes>"
      ]
     },
     "metadata": {
      "needs_background": "light"
     },
     "output_type": "display_data"
    }
   ],
   "source": [
    "fig, ax = plt.subplots()\n",
    "#s = pow(0.75,t)\n",
    "ax.plot(indices[1][0:300],indices[0][0:300])\n",
    "#ax.set(xlabel='time (s)', ylabel='voltage (mV)',\n",
    "#       title='About as simple as it gets, folks')\n",
    "ax.grid()\n",
    "\n",
    "#fig.savefig(\"test.png\")\n",
    "plt.show()"
   ]
  },
  {
   "cell_type": "code",
   "execution_count": 30,
   "metadata": {
    "ExecuteTime": {
     "end_time": "2019-07-18T17:40:04.742629Z",
     "start_time": "2019-07-18T17:40:04.728355Z"
    }
   },
   "outputs": [
    {
     "name": "stdout",
     "output_type": "stream",
     "text": [
      "[78 78 78 79 79 79 80 80 80 80 80 81 81 82 82 82 82 82 83 83 83 84 84 85\n",
      " 85 86 86 87 87 87],[147 150 151 145 146 148 142 143 144 149 150 140 141 136 137 138 139 151\n",
      " 134 135 151 134 151 134 153 133 153 132 133 152]\n"
     ]
    }
   ],
   "source": [
    "print(str(indices[0][0:30])+','+str(indices[1][0:30]))"
   ]
  },
  {
   "cell_type": "code",
   "execution_count": 31,
   "metadata": {
    "ExecuteTime": {
     "end_time": "2019-07-18T17:40:06.192376Z",
     "start_time": "2019-07-18T17:40:04.745852Z"
    }
   },
   "outputs": [
    {
     "data": {
      "text/plain": [
       "999"
      ]
     },
     "execution_count": 31,
     "metadata": {},
     "output_type": "execute_result"
    }
   ],
   "source": [
    "tailleField = 3;#must be odd\n",
    "nbPixelsAll = nbPixelField(indices[0], indices[1], frame, tailleField);\n",
    "toto = nbPixelsAll > tailleField\n",
    "sum(toto)"
   ]
  },
  {
   "cell_type": "code",
   "execution_count": 32,
   "metadata": {
    "ExecuteTime": {
     "end_time": "2019-07-18T17:40:06.218645Z",
     "start_time": "2019-07-18T17:40:06.195197Z"
    }
   },
   "outputs": [
    {
     "data": {
      "text/plain": [
       "array([0., 0., 0., ..., 3., 3., 2.])"
      ]
     },
     "execution_count": 32,
     "metadata": {},
     "output_type": "execute_result"
    }
   ],
   "source": [
    "nbPixelsAll"
   ]
  },
  {
   "cell_type": "code",
   "execution_count": 33,
   "metadata": {
    "ExecuteTime": {
     "end_time": "2019-07-18T17:40:06.233944Z",
     "start_time": "2019-07-18T17:40:06.221865Z"
    }
   },
   "outputs": [
    {
     "data": {
      "text/plain": [
       "17.0"
      ]
     },
     "execution_count": 33,
     "metadata": {},
     "output_type": "execute_result"
    }
   ],
   "source": [
    "from numpy import pi\n",
    "5-4*np.tan(np.arctan(-3/1))"
   ]
  },
  {
   "cell_type": "code",
   "execution_count": 34,
   "metadata": {
    "ExecuteTime": {
     "end_time": "2019-07-18T17:40:06.249472Z",
     "start_time": "2019-07-18T17:40:06.236998Z"
    }
   },
   "outputs": [
    {
     "data": {
      "text/plain": [
       "15.666666666666666"
      ]
     },
     "execution_count": 34,
     "metadata": {},
     "output_type": "execute_result"
    }
   ],
   "source": [
    "13-4*np.tan(np.arctan(-2/3))"
   ]
  },
  {
   "cell_type": "code",
   "execution_count": 35,
   "metadata": {
    "ExecuteTime": {
     "end_time": "2019-07-18T17:40:06.905767Z",
     "start_time": "2019-07-18T17:40:06.253332Z"
    }
   },
   "outputs": [],
   "source": [
    "angleMat = fillAngleMat(7)"
   ]
  },
  {
   "cell_type": "code",
   "execution_count": 36,
   "metadata": {
    "ExecuteTime": {
     "end_time": "2019-07-18T17:40:06.918124Z",
     "start_time": "2019-07-18T17:40:06.908691Z"
    }
   },
   "outputs": [
    {
     "data": {
      "text/plain": [
       "array([[-45., -34., -18.,   0.,  18.,  34.,  45.],\n",
       "       [-56., -45., -27.,   0.,  27.,  45.,  56.],\n",
       "       [-72., -63., -45.,   0.,  45.,  63.,  72.],\n",
       "       [ 90.,  90.,  90.,   0.,  90.,  90.,  90.],\n",
       "       [ 72.,  63.,  45.,  -0., -45., -63., -72.],\n",
       "       [ 56.,  45.,  27.,  -0., -27., -45., -56.],\n",
       "       [ 45.,  34.,  18.,  -0., -18., -34., -45.]])"
      ]
     },
     "execution_count": 36,
     "metadata": {},
     "output_type": "execute_result"
    }
   ],
   "source": [
    "np.around(angleMat)"
   ]
  },
  {
   "cell_type": "code",
   "execution_count": 37,
   "metadata": {
    "ExecuteTime": {
     "end_time": "2019-07-18T17:40:06.932687Z",
     "start_time": "2019-07-18T17:40:06.923201Z"
    }
   },
   "outputs": [],
   "source": [
    "posX=indices[0][257]\n",
    "posY=indices[1][257]\n",
    "titi = frame[int(posX - tailleField):int(posX + tailleField + 1),\n",
    "                        int(posY - tailleField):int(posY + tailleField + 1)]/255"
   ]
  },
  {
   "cell_type": "code",
   "execution_count": 38,
   "metadata": {
    "ExecuteTime": {
     "end_time": "2019-07-18T17:40:06.950685Z",
     "start_time": "2019-07-18T17:40:06.937721Z"
    }
   },
   "outputs": [
    {
     "data": {
      "text/plain": [
       "2.179999999999999"
      ]
     },
     "execution_count": 38,
     "metadata": {},
     "output_type": "execute_result"
    }
   ],
   "source": [
    "test = np.multiply(angleMat,titi)\n",
    "test2 = test[np.nonzero(test)]\n",
    "np.mean(test2)"
   ]
  },
  {
   "cell_type": "code",
   "execution_count": 39,
   "metadata": {
    "ExecuteTime": {
     "end_time": "2019-07-18T17:40:06.969114Z",
     "start_time": "2019-07-18T17:40:06.955576Z"
    }
   },
   "outputs": [
    {
     "data": {
      "text/plain": [
       "array([[ -0.  ,  -0.  ,  -0.  ,   0.  ,   0.  ,   0.  ,   0.  ],\n",
       "       [-56.31,  -0.  ,  -0.  ,   0.  ,   0.  ,   0.  ,   0.  ],\n",
       "       [-71.57, -63.43, -45.  ,   0.  ,   0.  ,   0.  ,  71.57],\n",
       "       [  0.  ,   0.  ,   0.  ,   0.  ,  90.  ,  90.  ,   0.  ],\n",
       "       [  0.  ,   0.  ,   0.  ,  -0.  ,  -0.  ,  -0.  ,  -0.  ],\n",
       "       [  0.  ,   0.  ,   0.  ,  -0.  ,  -0.  ,  -0.  ,  -0.  ],\n",
       "       [  0.  ,   0.  ,   0.  ,  -0.  ,  -0.  ,  -0.  ,  -0.  ]])"
      ]
     },
     "execution_count": 39,
     "metadata": {},
     "output_type": "execute_result"
    }
   ],
   "source": [
    "test"
   ]
  },
  {
   "cell_type": "code",
   "execution_count": 40,
   "metadata": {
    "ExecuteTime": {
     "end_time": "2019-07-18T17:40:06.981422Z",
     "start_time": "2019-07-18T17:40:06.973319Z"
    }
   },
   "outputs": [
    {
     "data": {
      "text/plain": [
       "array([[0., 0., 0., 0., 0., 0., 0.],\n",
       "       [1., 0., 0., 0., 0., 0., 0.],\n",
       "       [1., 1., 1., 0., 0., 0., 1.],\n",
       "       [0., 0., 0., 1., 1., 1., 0.],\n",
       "       [0., 0., 0., 0., 0., 0., 0.],\n",
       "       [0., 0., 0., 0., 0., 0., 0.],\n",
       "       [0., 0., 0., 0., 0., 0., 0.]])"
      ]
     },
     "execution_count": 40,
     "metadata": {},
     "output_type": "execute_result"
    }
   ],
   "source": [
    "titi"
   ]
  },
  {
   "cell_type": "code",
   "execution_count": 41,
   "metadata": {
    "ExecuteTime": {
     "end_time": "2019-07-18T17:40:06.997817Z",
     "start_time": "2019-07-18T17:40:06.985606Z"
    }
   },
   "outputs": [
    {
     "data": {
      "text/plain": [
       "4.018509838601157"
      ]
     },
     "execution_count": 41,
     "metadata": {},
     "output_type": "execute_result"
    }
   ],
   "source": [
    "255/(1+np.exp(0.1*(np.abs(np.std(test2))-30)))"
   ]
  },
  {
   "cell_type": "code",
   "execution_count": 42,
   "metadata": {
    "ExecuteTime": {
     "end_time": "2019-07-18T17:40:07.927969Z",
     "start_time": "2019-07-18T17:40:07.003668Z"
    }
   },
   "outputs": [
    {
     "data": {
      "text/plain": [
       "4.018509838601157"
      ]
     },
     "execution_count": 42,
     "metadata": {},
     "output_type": "execute_result"
    }
   ],
   "source": [
    "sigmoidActivationFctN1(test2)"
   ]
  },
  {
   "cell_type": "code",
   "execution_count": 43,
   "metadata": {
    "ExecuteTime": {
     "end_time": "2019-07-18T17:40:07.939908Z",
     "start_time": "2019-07-18T17:40:07.930511Z"
    }
   },
   "outputs": [
    {
     "data": {
      "text/plain": [
       "71.3446804504122"
      ]
     },
     "execution_count": 43,
     "metadata": {},
     "output_type": "execute_result"
    }
   ],
   "source": [
    "np.std(test2)"
   ]
  },
  {
   "cell_type": "code",
   "execution_count": 44,
   "metadata": {
    "ExecuteTime": {
     "end_time": "2019-07-18T17:40:07.949835Z",
     "start_time": "2019-07-18T17:40:07.944206Z"
    }
   },
   "outputs": [],
   "source": [
    "neuronList = np.zeros(1144,dtype=NeuronType)"
   ]
  },
  {
   "cell_type": "code",
   "execution_count": 45,
   "metadata": {
    "ExecuteTime": {
     "end_time": "2019-07-18T17:40:08.013202Z",
     "start_time": "2019-07-18T17:40:07.967609Z"
    }
   },
   "outputs": [
    {
     "data": {
      "text/plain": [
       "array([(0, 0., 0., 0., 0, 0, 0, 0), (0, 0., 0., 0., 0, 0, 0, 0),\n",
       "       (0, 0., 0., 0., 0, 0, 0, 0), ..., (0, 0., 0., 0., 0, 0, 0, 0),\n",
       "       (0, 0., 0., 0., 0, 0, 0, 0), (0, 0., 0., 0., 0, 0, 0, 0)],\n",
       "      dtype=[('longueur', 'u1'), ('angle', '<f4'), ('weight', '<f4'), ('precision', '<f4'), ('xPos', 'u1'), ('yPos', '<u2'), ('group', 'u1'), ('layer', 'u1')])"
      ]
     },
     "execution_count": 45,
     "metadata": {},
     "output_type": "execute_result"
    }
   ],
   "source": [
    "neuronList"
   ]
  },
  {
   "cell_type": "code",
   "execution_count": 46,
   "metadata": {
    "ExecuteTime": {
     "end_time": "2019-07-18T17:40:08.025604Z",
     "start_time": "2019-07-18T17:40:08.016452Z"
    }
   },
   "outputs": [
    {
     "data": {
      "text/plain": [
       "1144"
      ]
     },
     "execution_count": 46,
     "metadata": {},
     "output_type": "execute_result"
    }
   ],
   "source": [
    "neuronList.size"
   ]
  },
  {
   "cell_type": "code",
   "execution_count": 47,
   "metadata": {
    "ExecuteTime": {
     "end_time": "2019-07-18T17:40:08.042399Z",
     "start_time": "2019-07-18T17:40:08.028493Z"
    }
   },
   "outputs": [
    {
     "data": {
      "text/plain": [
       "()"
      ]
     },
     "execution_count": 47,
     "metadata": {},
     "output_type": "execute_result"
    }
   ],
   "source": [
    "neuronList[0].shape"
   ]
  },
  {
   "cell_type": "code",
   "execution_count": 48,
   "metadata": {
    "ExecuteTime": {
     "end_time": "2019-07-18T17:40:08.065279Z",
     "start_time": "2019-07-18T17:40:08.046668Z"
    }
   },
   "outputs": [],
   "source": [
    "pNeurons = pd.DataFrame(neuronList)"
   ]
  },
  {
   "cell_type": "code",
   "execution_count": 49,
   "metadata": {
    "ExecuteTime": {
     "end_time": "2019-07-18T17:40:08.104510Z",
     "start_time": "2019-07-18T17:40:08.068859Z"
    }
   },
   "outputs": [
    {
     "data": {
      "text/html": [
       "<div>\n",
       "<style scoped>\n",
       "    .dataframe tbody tr th:only-of-type {\n",
       "        vertical-align: middle;\n",
       "    }\n",
       "\n",
       "    .dataframe tbody tr th {\n",
       "        vertical-align: top;\n",
       "    }\n",
       "\n",
       "    .dataframe thead th {\n",
       "        text-align: right;\n",
       "    }\n",
       "</style>\n",
       "<table border=\"1\" class=\"dataframe\">\n",
       "  <thead>\n",
       "    <tr style=\"text-align: right;\">\n",
       "      <th></th>\n",
       "      <th>longueur</th>\n",
       "      <th>angle</th>\n",
       "      <th>weight</th>\n",
       "      <th>precision</th>\n",
       "      <th>xPos</th>\n",
       "      <th>yPos</th>\n",
       "      <th>group</th>\n",
       "      <th>layer</th>\n",
       "    </tr>\n",
       "  </thead>\n",
       "  <tbody>\n",
       "    <tr>\n",
       "      <th>0</th>\n",
       "      <td>0</td>\n",
       "      <td>0.0</td>\n",
       "      <td>0.0</td>\n",
       "      <td>0.0</td>\n",
       "      <td>0</td>\n",
       "      <td>0</td>\n",
       "      <td>0</td>\n",
       "      <td>0</td>\n",
       "    </tr>\n",
       "    <tr>\n",
       "      <th>1</th>\n",
       "      <td>0</td>\n",
       "      <td>0.0</td>\n",
       "      <td>0.0</td>\n",
       "      <td>0.0</td>\n",
       "      <td>0</td>\n",
       "      <td>0</td>\n",
       "      <td>0</td>\n",
       "      <td>0</td>\n",
       "    </tr>\n",
       "    <tr>\n",
       "      <th>2</th>\n",
       "      <td>0</td>\n",
       "      <td>0.0</td>\n",
       "      <td>0.0</td>\n",
       "      <td>0.0</td>\n",
       "      <td>0</td>\n",
       "      <td>0</td>\n",
       "      <td>0</td>\n",
       "      <td>0</td>\n",
       "    </tr>\n",
       "    <tr>\n",
       "      <th>3</th>\n",
       "      <td>0</td>\n",
       "      <td>0.0</td>\n",
       "      <td>0.0</td>\n",
       "      <td>0.0</td>\n",
       "      <td>0</td>\n",
       "      <td>0</td>\n",
       "      <td>0</td>\n",
       "      <td>0</td>\n",
       "    </tr>\n",
       "    <tr>\n",
       "      <th>4</th>\n",
       "      <td>0</td>\n",
       "      <td>0.0</td>\n",
       "      <td>0.0</td>\n",
       "      <td>0.0</td>\n",
       "      <td>0</td>\n",
       "      <td>0</td>\n",
       "      <td>0</td>\n",
       "      <td>0</td>\n",
       "    </tr>\n",
       "  </tbody>\n",
       "</table>\n",
       "</div>"
      ],
      "text/plain": [
       "   longueur  angle  weight  precision  xPos  yPos  group  layer\n",
       "0         0    0.0     0.0        0.0     0     0      0      0\n",
       "1         0    0.0     0.0        0.0     0     0      0      0\n",
       "2         0    0.0     0.0        0.0     0     0      0      0\n",
       "3         0    0.0     0.0        0.0     0     0      0      0\n",
       "4         0    0.0     0.0        0.0     0     0      0      0"
      ]
     },
     "execution_count": 49,
     "metadata": {},
     "output_type": "execute_result"
    }
   ],
   "source": [
    "pNeurons.head()"
   ]
  },
  {
   "cell_type": "code",
   "execution_count": 50,
   "metadata": {
    "ExecuteTime": {
     "end_time": "2019-07-18T17:40:08.117028Z",
     "start_time": "2019-07-18T17:40:08.108061Z"
    }
   },
   "outputs": [
    {
     "data": {
      "text/plain": [
       "0    0\n",
       "1    0\n",
       "2    0\n",
       "3    0\n",
       "4    0\n",
       "Name: longueur, dtype: uint8"
      ]
     },
     "execution_count": 50,
     "metadata": {},
     "output_type": "execute_result"
    }
   ],
   "source": [
    "pNeurons['longueur'].head()"
   ]
  },
  {
   "cell_type": "code",
   "execution_count": 51,
   "metadata": {
    "ExecuteTime": {
     "end_time": "2019-07-18T17:40:08.137437Z",
     "start_time": "2019-07-18T17:40:08.119848Z"
    }
   },
   "outputs": [
    {
     "data": {
      "text/html": [
       "<div>\n",
       "<style scoped>\n",
       "    .dataframe tbody tr th:only-of-type {\n",
       "        vertical-align: middle;\n",
       "    }\n",
       "\n",
       "    .dataframe tbody tr th {\n",
       "        vertical-align: top;\n",
       "    }\n",
       "\n",
       "    .dataframe thead th {\n",
       "        text-align: right;\n",
       "    }\n",
       "</style>\n",
       "<table border=\"1\" class=\"dataframe\">\n",
       "  <thead>\n",
       "    <tr style=\"text-align: right;\">\n",
       "      <th></th>\n",
       "      <th>angle</th>\n",
       "      <th>weight</th>\n",
       "    </tr>\n",
       "  </thead>\n",
       "  <tbody>\n",
       "    <tr>\n",
       "      <th>1</th>\n",
       "      <td>0.0</td>\n",
       "      <td>0.0</td>\n",
       "    </tr>\n",
       "    <tr>\n",
       "      <th>2</th>\n",
       "      <td>0.0</td>\n",
       "      <td>0.0</td>\n",
       "    </tr>\n",
       "    <tr>\n",
       "      <th>3</th>\n",
       "      <td>0.0</td>\n",
       "      <td>0.0</td>\n",
       "    </tr>\n",
       "  </tbody>\n",
       "</table>\n",
       "</div>"
      ],
      "text/plain": [
       "   angle  weight\n",
       "1    0.0     0.0\n",
       "2    0.0     0.0\n",
       "3    0.0     0.0"
      ]
     },
     "execution_count": 51,
     "metadata": {},
     "output_type": "execute_result"
    }
   ],
   "source": [
    "pNeurons.loc[1:3,['angle','weight']]"
   ]
  },
  {
   "cell_type": "code",
   "execution_count": 52,
   "metadata": {
    "ExecuteTime": {
     "end_time": "2019-07-18T17:40:08.149129Z",
     "start_time": "2019-07-18T17:40:08.140997Z"
    }
   },
   "outputs": [],
   "source": [
    "pNeurons.loc[1,['angle']]=28.34"
   ]
  },
  {
   "cell_type": "code",
   "execution_count": 53,
   "metadata": {
    "ExecuteTime": {
     "end_time": "2019-07-18T17:40:08.158368Z",
     "start_time": "2019-07-18T17:40:08.152367Z"
    }
   },
   "outputs": [],
   "source": [
    "pNeurons['longueur'] = tailleField"
   ]
  },
  {
   "cell_type": "code",
   "execution_count": 54,
   "metadata": {
    "ExecuteTime": {
     "end_time": "2019-07-18T17:40:08.179388Z",
     "start_time": "2019-07-18T17:40:08.161163Z"
    }
   },
   "outputs": [
    {
     "data": {
      "text/html": [
       "<div>\n",
       "<style scoped>\n",
       "    .dataframe tbody tr th:only-of-type {\n",
       "        vertical-align: middle;\n",
       "    }\n",
       "\n",
       "    .dataframe tbody tr th {\n",
       "        vertical-align: top;\n",
       "    }\n",
       "\n",
       "    .dataframe thead th {\n",
       "        text-align: right;\n",
       "    }\n",
       "</style>\n",
       "<table border=\"1\" class=\"dataframe\">\n",
       "  <thead>\n",
       "    <tr style=\"text-align: right;\">\n",
       "      <th></th>\n",
       "      <th>longueur</th>\n",
       "      <th>angle</th>\n",
       "      <th>weight</th>\n",
       "      <th>precision</th>\n",
       "      <th>xPos</th>\n",
       "      <th>yPos</th>\n",
       "      <th>group</th>\n",
       "      <th>layer</th>\n",
       "    </tr>\n",
       "  </thead>\n",
       "  <tbody>\n",
       "    <tr>\n",
       "      <th>0</th>\n",
       "      <td>3</td>\n",
       "      <td>0.00</td>\n",
       "      <td>0.0</td>\n",
       "      <td>0.0</td>\n",
       "      <td>0</td>\n",
       "      <td>0</td>\n",
       "      <td>0</td>\n",
       "      <td>0</td>\n",
       "    </tr>\n",
       "    <tr>\n",
       "      <th>1</th>\n",
       "      <td>3</td>\n",
       "      <td>28.34</td>\n",
       "      <td>0.0</td>\n",
       "      <td>0.0</td>\n",
       "      <td>0</td>\n",
       "      <td>0</td>\n",
       "      <td>0</td>\n",
       "      <td>0</td>\n",
       "    </tr>\n",
       "    <tr>\n",
       "      <th>2</th>\n",
       "      <td>3</td>\n",
       "      <td>0.00</td>\n",
       "      <td>0.0</td>\n",
       "      <td>0.0</td>\n",
       "      <td>0</td>\n",
       "      <td>0</td>\n",
       "      <td>0</td>\n",
       "      <td>0</td>\n",
       "    </tr>\n",
       "    <tr>\n",
       "      <th>3</th>\n",
       "      <td>3</td>\n",
       "      <td>0.00</td>\n",
       "      <td>0.0</td>\n",
       "      <td>0.0</td>\n",
       "      <td>0</td>\n",
       "      <td>0</td>\n",
       "      <td>0</td>\n",
       "      <td>0</td>\n",
       "    </tr>\n",
       "    <tr>\n",
       "      <th>4</th>\n",
       "      <td>3</td>\n",
       "      <td>0.00</td>\n",
       "      <td>0.0</td>\n",
       "      <td>0.0</td>\n",
       "      <td>0</td>\n",
       "      <td>0</td>\n",
       "      <td>0</td>\n",
       "      <td>0</td>\n",
       "    </tr>\n",
       "  </tbody>\n",
       "</table>\n",
       "</div>"
      ],
      "text/plain": [
       "   longueur  angle  weight  precision  xPos  yPos  group  layer\n",
       "0         3   0.00     0.0        0.0     0     0      0      0\n",
       "1         3  28.34     0.0        0.0     0     0      0      0\n",
       "2         3   0.00     0.0        0.0     0     0      0      0\n",
       "3         3   0.00     0.0        0.0     0     0      0      0\n",
       "4         3   0.00     0.0        0.0     0     0      0      0"
      ]
     },
     "execution_count": 54,
     "metadata": {},
     "output_type": "execute_result"
    }
   ],
   "source": [
    "pNeurons.head()"
   ]
  },
  {
   "cell_type": "code",
   "execution_count": 55,
   "metadata": {
    "ExecuteTime": {
     "end_time": "2019-07-18T17:40:08.522137Z",
     "start_time": "2019-07-18T17:40:08.182299Z"
    }
   },
   "outputs": [
    {
     "name": "stdout",
     "output_type": "stream",
     "text": [
      "(9373,)\n",
      "9373\n",
      "1515\n",
      "1515\n",
      "1515\n",
      "result0 :\n",
      "401\n",
      "780\n",
      "result1 :\n",
      "56\n",
      "1230\n"
     ]
    }
   ],
   "source": [
    "\n",
    "nbPixelsAll = nbPixelField(indices[0], indices[1], frame, tailleField);\n",
    "lCriterion = nbPixelsAll > tailleField\n",
    "print(lCriterion.shape)\n",
    "print(len(indices[0]))\n",
    "print(np.sum(lCriterion))\n",
    "resultIndicesCriterionO = indices[0][lCriterion]\n",
    "print(len(resultIndicesCriterionO))\n",
    "resultIndicesCriterion1 = indices[1][lCriterion]\n",
    "print(len(resultIndicesCriterion1))\n",
    "print(\"result0 :\")\n",
    "print(np.min(resultIndicesCriterionO))\n",
    "print(np.max(resultIndicesCriterionO))\n",
    "print(\"result1 :\")\n",
    "print(np.min(resultIndicesCriterion1))\n",
    "print(np.max(resultIndicesCriterion1))"
   ]
  },
  {
   "cell_type": "code",
   "execution_count": 56,
   "metadata": {
    "ExecuteTime": {
     "end_time": "2019-07-18T17:40:08.532524Z",
     "start_time": "2019-07-18T17:40:08.524584Z"
    }
   },
   "outputs": [
    {
     "name": "stdout",
     "output_type": "stream",
     "text": [
      "[[0 0 0 0 0 0 0]\n",
      " [0 0 0 0 0 0 0]\n",
      " [0 0 0 0 0 0 0]\n",
      " [0 0 0 0 0 0 0]\n",
      " [0 0 0 0 0 0 0]\n",
      " [0 0 0 0 0 0 0]\n",
      " [0 0 0 0 0 0 0]]\n"
     ]
    }
   ],
   "source": [
    "print(frame[(778-3):(778+3+1),(1246-3):(1246+3+1)])"
   ]
  },
  {
   "cell_type": "code",
   "execution_count": 57,
   "metadata": {
    "ExecuteTime": {
     "end_time": "2019-07-18T17:40:21.524054Z",
     "start_time": "2019-07-18T17:40:08.535221Z"
    }
   },
   "outputs": [
    {
     "name": "stdout",
     "output_type": "stream",
     "text": [
      "indice 0\n",
      "78\n",
      "784\n",
      "indice 1\n",
      "17\n",
      "1249\n",
      "size :1515\n",
      "newX\n",
      "401\n",
      "780\n",
      "newY\n",
      "56\n",
      "1230\n",
      "\n",
      "nb de positions couvertes : 1515 sur 1515\n"
     ]
    }
   ],
   "source": [
    "tailleField = 7\n",
    "indices = np.where(frame != [0])\n",
    "nbPixelsAll = nbPixelField(indices[0], indices[1], frame, tailleField);\n",
    "print(\"indice 0\")\n",
    "print(np.min(indices[0]))\n",
    "print(np.max(indices[0]))\n",
    "print(\"indice 1\")\n",
    "print(np.min(indices[1]))\n",
    "print(np.max(indices[1]))\n",
    "titi = getNeuronActivationList(indices[0], indices[1], tailleField, frame,\n",
    "                        nbPixelsAll)"
   ]
  },
  {
   "cell_type": "code",
   "execution_count": 58,
   "metadata": {
    "ExecuteTime": {
     "end_time": "2019-07-18T17:40:21.586627Z",
     "start_time": "2019-07-18T17:40:21.527073Z"
    }
   },
   "outputs": [
    {
     "data": {
      "text/html": [
       "<div>\n",
       "<style scoped>\n",
       "    .dataframe tbody tr th:only-of-type {\n",
       "        vertical-align: middle;\n",
       "    }\n",
       "\n",
       "    .dataframe tbody tr th {\n",
       "        vertical-align: top;\n",
       "    }\n",
       "\n",
       "    .dataframe thead th {\n",
       "        text-align: right;\n",
       "    }\n",
       "</style>\n",
       "<table border=\"1\" class=\"dataframe\">\n",
       "  <thead>\n",
       "    <tr style=\"text-align: right;\">\n",
       "      <th></th>\n",
       "      <th>longueur</th>\n",
       "      <th>angle</th>\n",
       "      <th>weight</th>\n",
       "      <th>precision</th>\n",
       "      <th>xPos</th>\n",
       "      <th>yPos</th>\n",
       "      <th>group</th>\n",
       "      <th>layer</th>\n",
       "    </tr>\n",
       "  </thead>\n",
       "  <tbody>\n",
       "    <tr>\n",
       "      <th>count</th>\n",
       "      <td>1515.0</td>\n",
       "      <td>1515.000000</td>\n",
       "      <td>1515.000000</td>\n",
       "      <td>1515.000000</td>\n",
       "      <td>1515.000000</td>\n",
       "      <td>1515.000000</td>\n",
       "      <td>1515.0</td>\n",
       "      <td>1515.0</td>\n",
       "    </tr>\n",
       "    <tr>\n",
       "      <th>mean</th>\n",
       "      <td>7.0</td>\n",
       "      <td>29.927622</td>\n",
       "      <td>134.548584</td>\n",
       "      <td>30.581026</td>\n",
       "      <td>578.699010</td>\n",
       "      <td>593.918152</td>\n",
       "      <td>0.0</td>\n",
       "      <td>1.0</td>\n",
       "    </tr>\n",
       "    <tr>\n",
       "      <th>std</th>\n",
       "      <td>0.0</td>\n",
       "      <td>33.965427</td>\n",
       "      <td>86.172958</td>\n",
       "      <td>19.807312</td>\n",
       "      <td>123.133523</td>\n",
       "      <td>286.638927</td>\n",
       "      <td>0.0</td>\n",
       "      <td>0.0</td>\n",
       "    </tr>\n",
       "    <tr>\n",
       "      <th>min</th>\n",
       "      <td>7.0</td>\n",
       "      <td>-55.677143</td>\n",
       "      <td>1.950733</td>\n",
       "      <td>0.000000</td>\n",
       "      <td>401.000000</td>\n",
       "      <td>56.000000</td>\n",
       "      <td>0.0</td>\n",
       "      <td>1.0</td>\n",
       "    </tr>\n",
       "    <tr>\n",
       "      <th>25%</th>\n",
       "      <td>7.0</td>\n",
       "      <td>3.071667</td>\n",
       "      <td>33.061687</td>\n",
       "      <td>14.824060</td>\n",
       "      <td>457.000000</td>\n",
       "      <td>460.000000</td>\n",
       "      <td>0.0</td>\n",
       "      <td>1.0</td>\n",
       "    </tr>\n",
       "    <tr>\n",
       "      <th>50%</th>\n",
       "      <td>7.0</td>\n",
       "      <td>42.367142</td>\n",
       "      <td>179.661392</td>\n",
       "      <td>21.309187</td>\n",
       "      <td>553.000000</td>\n",
       "      <td>623.000000</td>\n",
       "      <td>0.0</td>\n",
       "      <td>1.0</td>\n",
       "    </tr>\n",
       "    <tr>\n",
       "      <th>75%</th>\n",
       "      <td>7.0</td>\n",
       "      <td>56.951166</td>\n",
       "      <td>209.146645</td>\n",
       "      <td>49.040255</td>\n",
       "      <td>698.000000</td>\n",
       "      <td>723.000000</td>\n",
       "      <td>0.0</td>\n",
       "      <td>1.0</td>\n",
       "    </tr>\n",
       "    <tr>\n",
       "      <th>max</th>\n",
       "      <td>7.0</td>\n",
       "      <td>90.000000</td>\n",
       "      <td>242.906403</td>\n",
       "      <td>78.653786</td>\n",
       "      <td>780.000000</td>\n",
       "      <td>1230.000000</td>\n",
       "      <td>0.0</td>\n",
       "      <td>1.0</td>\n",
       "    </tr>\n",
       "  </tbody>\n",
       "</table>\n",
       "</div>"
      ],
      "text/plain": [
       "       longueur        angle       weight    precision         xPos  \\\n",
       "count    1515.0  1515.000000  1515.000000  1515.000000  1515.000000   \n",
       "mean        7.0    29.927622   134.548584    30.581026   578.699010   \n",
       "std         0.0    33.965427    86.172958    19.807312   123.133523   \n",
       "min         7.0   -55.677143     1.950733     0.000000   401.000000   \n",
       "25%         7.0     3.071667    33.061687    14.824060   457.000000   \n",
       "50%         7.0    42.367142   179.661392    21.309187   553.000000   \n",
       "75%         7.0    56.951166   209.146645    49.040255   698.000000   \n",
       "max         7.0    90.000000   242.906403    78.653786   780.000000   \n",
       "\n",
       "              yPos   group   layer  \n",
       "count  1515.000000  1515.0  1515.0  \n",
       "mean    593.918152     0.0     1.0  \n",
       "std     286.638927     0.0     0.0  \n",
       "min      56.000000     0.0     1.0  \n",
       "25%     460.000000     0.0     1.0  \n",
       "50%     623.000000     0.0     1.0  \n",
       "75%     723.000000     0.0     1.0  \n",
       "max    1230.000000     0.0     1.0  "
      ]
     },
     "execution_count": 58,
     "metadata": {},
     "output_type": "execute_result"
    }
   ],
   "source": [
    "titi.describe()"
   ]
  },
  {
   "cell_type": "code",
   "execution_count": 59,
   "metadata": {
    "ExecuteTime": {
     "end_time": "2019-07-18T17:40:22.432261Z",
     "start_time": "2019-07-18T17:40:21.589908Z"
    }
   },
   "outputs": [
    {
     "data": {
      "image/png": "[encoded data removed]",
      "text/plain": [
       "<Figure size 432x288 with 1 Axes>"
      ]
     },
     "metadata": {
      "needs_background": "light"
     },
     "output_type": "display_data"
    }
   ],
   "source": [
    "testBitmap = np.zeros(frame.shape)\n",
    "testBitmap = drawFieldNeurons(titi,testBitmap)\n",
    "imgplot = plt.imshow(testBitmap)"
   ]
  },
  {
   "cell_type": "code",
   "execution_count": 60,
   "metadata": {
    "ExecuteTime": {
     "end_time": "2019-07-18T17:40:24.702043Z",
     "start_time": "2019-07-18T17:40:22.435052Z"
    }
   },
   "outputs": [],
   "source": [
    "while(1):\n",
    "    cv2.imshow('Canny',frame)\n",
    "    if cv2.waitKey(1) & 0xFF == ord('q'):  # press q to quit\n",
    "            break"
   ]
  },
  {
   "cell_type": "code",
   "execution_count": 61,
   "metadata": {
    "ExecuteTime": {
     "end_time": "2019-07-18T17:40:24.956463Z",
     "start_time": "2019-07-18T17:40:24.704642Z"
    }
   },
   "outputs": [
    {
     "data": {
      "image/png": "[encoded data removed]",
      "text/plain": [
       "<Figure size 432x288 with 1 Axes>"
      ]
     },
     "metadata": {
      "needs_background": "light"
     },
     "output_type": "display_data"
    }
   ],
   "source": [
    "imgplot = plt.imshow(frame)"
   ]
  },
  {
   "cell_type": "code",
   "execution_count": 62,
   "metadata": {
    "ExecuteTime": {
     "end_time": "2019-07-18T17:40:24.968961Z",
     "start_time": "2019-07-18T17:40:24.959337Z"
    }
   },
   "outputs": [
    {
     "data": {
      "text/plain": [
       "784"
      ]
     },
     "execution_count": 62,
     "metadata": {},
     "output_type": "execute_result"
    }
   ],
   "source": [
    "np.max(indices[0])"
   ]
  },
  {
   "cell_type": "code",
   "execution_count": 63,
   "metadata": {
    "ExecuteTime": {
     "end_time": "2019-07-18T17:40:24.982061Z",
     "start_time": "2019-07-18T17:40:24.972705Z"
    }
   },
   "outputs": [
    {
     "data": {
      "text/plain": [
       "14.0"
      ]
     },
     "execution_count": 63,
     "metadata": {},
     "output_type": "execute_result"
    }
   ],
   "source": [
    "np.max(nbPixelsAll)"
   ]
  },
  {
   "cell_type": "code",
   "execution_count": 64,
   "metadata": {
    "ExecuteTime": {
     "end_time": "2019-07-18T17:40:25.005598Z",
     "start_time": "2019-07-18T17:40:24.985426Z"
    }
   },
   "outputs": [
    {
     "data": {
      "text/html": [
       "<div>\n",
       "<style scoped>\n",
       "    .dataframe tbody tr th:only-of-type {\n",
       "        vertical-align: middle;\n",
       "    }\n",
       "\n",
       "    .dataframe tbody tr th {\n",
       "        vertical-align: top;\n",
       "    }\n",
       "\n",
       "    .dataframe thead th {\n",
       "        text-align: right;\n",
       "    }\n",
       "</style>\n",
       "<table border=\"1\" class=\"dataframe\">\n",
       "  <thead>\n",
       "    <tr style=\"text-align: right;\">\n",
       "      <th></th>\n",
       "      <th>longueur</th>\n",
       "      <th>angle</th>\n",
       "      <th>weight</th>\n",
       "      <th>precision</th>\n",
       "      <th>xPos</th>\n",
       "      <th>yPos</th>\n",
       "      <th>group</th>\n",
       "      <th>layer</th>\n",
       "    </tr>\n",
       "  </thead>\n",
       "  <tbody>\n",
       "    <tr>\n",
       "      <th>0</th>\n",
       "      <td>7</td>\n",
       "      <td>-14.110000</td>\n",
       "      <td>21.038452</td>\n",
       "      <td>54.088051</td>\n",
       "      <td>401</td>\n",
       "      <td>72</td>\n",
       "      <td>0</td>\n",
       "      <td>1</td>\n",
       "    </tr>\n",
       "    <tr>\n",
       "      <th>1</th>\n",
       "      <td>7</td>\n",
       "      <td>-19.285715</td>\n",
       "      <td>42.362766</td>\n",
       "      <td>46.133179</td>\n",
       "      <td>401</td>\n",
       "      <td>73</td>\n",
       "      <td>0</td>\n",
       "      <td>1</td>\n",
       "    </tr>\n",
       "    <tr>\n",
       "      <th>2</th>\n",
       "      <td>7</td>\n",
       "      <td>58.060001</td>\n",
       "      <td>211.724838</td>\n",
       "      <td>14.122912</td>\n",
       "      <td>401</td>\n",
       "      <td>85</td>\n",
       "      <td>0</td>\n",
       "      <td>1</td>\n",
       "    </tr>\n",
       "    <tr>\n",
       "      <th>3</th>\n",
       "      <td>7</td>\n",
       "      <td>57.513332</td>\n",
       "      <td>210.000854</td>\n",
       "      <td>14.595321</td>\n",
       "      <td>401</td>\n",
       "      <td>86</td>\n",
       "      <td>0</td>\n",
       "      <td>1</td>\n",
       "    </tr>\n",
       "  </tbody>\n",
       "</table>\n",
       "</div>"
      ],
      "text/plain": [
       "   longueur      angle      weight  precision  xPos  yPos  group  layer\n",
       "0         7 -14.110000   21.038452  54.088051   401    72      0      1\n",
       "1         7 -19.285715   42.362766  46.133179   401    73      0      1\n",
       "2         7  58.060001  211.724838  14.122912   401    85      0      1\n",
       "3         7  57.513332  210.000854  14.595321   401    86      0      1"
      ]
     },
     "execution_count": 64,
     "metadata": {},
     "output_type": "execute_result"
    }
   ],
   "source": [
    "titi[0:4]"
   ]
  },
  {
   "cell_type": "code",
   "execution_count": 65,
   "metadata": {
    "ExecuteTime": {
     "end_time": "2019-07-18T17:40:25.020999Z",
     "start_time": "2019-07-18T17:40:25.009073Z"
    }
   },
   "outputs": [
    {
     "data": {
      "text/plain": [
       "(13.535533905932738, 6.464466094067262)"
      ]
     },
     "execution_count": 65,
     "metadata": {},
     "output_type": "execute_result"
    }
   ],
   "source": [
    "moveCoordDeg(45,10,10,5)"
   ]
  },
  {
   "cell_type": "code",
   "execution_count": 66,
   "metadata": {
    "ExecuteTime": {
     "end_time": "2019-07-18T17:41:23.207537Z",
     "start_time": "2019-07-18T17:40:25.025059Z"
    }
   },
   "outputs": [
    {
     "data": {
      "text/html": [
       "<div>\n",
       "<style scoped>\n",
       "    .dataframe tbody tr th:only-of-type {\n",
       "        vertical-align: middle;\n",
       "    }\n",
       "\n",
       "    .dataframe tbody tr th {\n",
       "        vertical-align: top;\n",
       "    }\n",
       "\n",
       "    .dataframe thead th {\n",
       "        text-align: right;\n",
       "    }\n",
       "</style>\n",
       "<table border=\"1\" class=\"dataframe\">\n",
       "  <thead>\n",
       "    <tr style=\"text-align: right;\">\n",
       "      <th></th>\n",
       "      <th>longueur</th>\n",
       "      <th>angle</th>\n",
       "      <th>weight</th>\n",
       "      <th>precision</th>\n",
       "      <th>xPos</th>\n",
       "      <th>yPos</th>\n",
       "      <th>group</th>\n",
       "      <th>layer</th>\n",
       "    </tr>\n",
       "  </thead>\n",
       "  <tbody>\n",
       "    <tr>\n",
       "      <th>0</th>\n",
       "      <td>7</td>\n",
       "      <td>-14.110000</td>\n",
       "      <td>21.038452</td>\n",
       "      <td>54.088051</td>\n",
       "      <td>401</td>\n",
       "      <td>72</td>\n",
       "      <td>1</td>\n",
       "      <td>1</td>\n",
       "    </tr>\n",
       "    <tr>\n",
       "      <th>1</th>\n",
       "      <td>7</td>\n",
       "      <td>-19.285715</td>\n",
       "      <td>42.362766</td>\n",
       "      <td>46.133179</td>\n",
       "      <td>401</td>\n",
       "      <td>73</td>\n",
       "      <td>1</td>\n",
       "      <td>1</td>\n",
       "    </tr>\n",
       "    <tr>\n",
       "      <th>2</th>\n",
       "      <td>7</td>\n",
       "      <td>58.060001</td>\n",
       "      <td>211.724838</td>\n",
       "      <td>14.122912</td>\n",
       "      <td>401</td>\n",
       "      <td>85</td>\n",
       "      <td>3</td>\n",
       "      <td>1</td>\n",
       "    </tr>\n",
       "    <tr>\n",
       "      <th>3</th>\n",
       "      <td>7</td>\n",
       "      <td>57.513332</td>\n",
       "      <td>210.000854</td>\n",
       "      <td>14.595321</td>\n",
       "      <td>401</td>\n",
       "      <td>86</td>\n",
       "      <td>4</td>\n",
       "      <td>1</td>\n",
       "    </tr>\n",
       "    <tr>\n",
       "      <th>4</th>\n",
       "      <td>7</td>\n",
       "      <td>53.608570</td>\n",
       "      <td>165.218674</td>\n",
       "      <td>23.901072</td>\n",
       "      <td>401</td>\n",
       "      <td>205</td>\n",
       "      <td>5</td>\n",
       "      <td>1</td>\n",
       "    </tr>\n",
       "    <tr>\n",
       "      <th>5</th>\n",
       "      <td>7</td>\n",
       "      <td>59.561111</td>\n",
       "      <td>198.477539</td>\n",
       "      <td>17.439621</td>\n",
       "      <td>401</td>\n",
       "      <td>206</td>\n",
       "      <td>6</td>\n",
       "      <td>1</td>\n",
       "    </tr>\n",
       "    <tr>\n",
       "      <th>6</th>\n",
       "      <td>7</td>\n",
       "      <td>64.285713</td>\n",
       "      <td>187.353317</td>\n",
       "      <td>19.813021</td>\n",
       "      <td>401</td>\n",
       "      <td>207</td>\n",
       "      <td>7</td>\n",
       "      <td>1</td>\n",
       "    </tr>\n",
       "    <tr>\n",
       "      <th>7</th>\n",
       "      <td>7</td>\n",
       "      <td>55.756248</td>\n",
       "      <td>226.026016</td>\n",
       "      <td>9.457481</td>\n",
       "      <td>401</td>\n",
       "      <td>223</td>\n",
       "      <td>8</td>\n",
       "      <td>1</td>\n",
       "    </tr>\n",
       "    <tr>\n",
       "      <th>8</th>\n",
       "      <td>7</td>\n",
       "      <td>20.302856</td>\n",
       "      <td>16.944448</td>\n",
       "      <td>56.425640</td>\n",
       "      <td>401</td>\n",
       "      <td>562</td>\n",
       "      <td>9</td>\n",
       "      <td>1</td>\n",
       "    </tr>\n",
       "    <tr>\n",
       "      <th>9</th>\n",
       "      <td>7</td>\n",
       "      <td>15.490000</td>\n",
       "      <td>13.673920</td>\n",
       "      <td>58.706589</td>\n",
       "      <td>401</td>\n",
       "      <td>563</td>\n",
       "      <td>10</td>\n",
       "      <td>1</td>\n",
       "    </tr>\n",
       "    <tr>\n",
       "      <th>10</th>\n",
       "      <td>7</td>\n",
       "      <td>40.392502</td>\n",
       "      <td>229.608414</td>\n",
       "      <td>7.980424</td>\n",
       "      <td>401</td>\n",
       "      <td>797</td>\n",
       "      <td>11</td>\n",
       "      <td>1</td>\n",
       "    </tr>\n",
       "    <tr>\n",
       "      <th>11</th>\n",
       "      <td>7</td>\n",
       "      <td>-16.356667</td>\n",
       "      <td>28.694563</td>\n",
       "      <td>50.651779</td>\n",
       "      <td>402</td>\n",
       "      <td>73</td>\n",
       "      <td>1</td>\n",
       "      <td>1</td>\n",
       "    </tr>\n",
       "    <tr>\n",
       "      <th>12</th>\n",
       "      <td>7</td>\n",
       "      <td>-34.639999</td>\n",
       "      <td>34.410900</td>\n",
       "      <td>48.579285</td>\n",
       "      <td>402</td>\n",
       "      <td>74</td>\n",
       "      <td>13</td>\n",
       "      <td>1</td>\n",
       "    </tr>\n",
       "    <tr>\n",
       "      <th>13</th>\n",
       "      <td>7</td>\n",
       "      <td>67.006248</td>\n",
       "      <td>208.213287</td>\n",
       "      <td>15.070362</td>\n",
       "      <td>402</td>\n",
       "      <td>83</td>\n",
       "      <td>14</td>\n",
       "      <td>1</td>\n",
       "    </tr>\n",
       "    <tr>\n",
       "      <th>14</th>\n",
       "      <td>7</td>\n",
       "      <td>63.304443</td>\n",
       "      <td>201.135040</td>\n",
       "      <td>16.825037</td>\n",
       "      <td>402</td>\n",
       "      <td>84</td>\n",
       "      <td>15</td>\n",
       "      <td>1</td>\n",
       "    </tr>\n",
       "    <tr>\n",
       "      <th>15</th>\n",
       "      <td>7</td>\n",
       "      <td>59.571251</td>\n",
       "      <td>178.042679</td>\n",
       "      <td>21.612276</td>\n",
       "      <td>402</td>\n",
       "      <td>85</td>\n",
       "      <td>16</td>\n",
       "      <td>1</td>\n",
       "    </tr>\n",
       "    <tr>\n",
       "      <th>16</th>\n",
       "      <td>7</td>\n",
       "      <td>54.208889</td>\n",
       "      <td>197.949036</td>\n",
       "      <td>17.559353</td>\n",
       "      <td>402</td>\n",
       "      <td>204</td>\n",
       "      <td>17</td>\n",
       "      <td>1</td>\n",
       "    </tr>\n",
       "    <tr>\n",
       "      <th>17</th>\n",
       "      <td>7</td>\n",
       "      <td>58.310001</td>\n",
       "      <td>208.170868</td>\n",
       "      <td>15.081461</td>\n",
       "      <td>402</td>\n",
       "      <td>205</td>\n",
       "      <td>18</td>\n",
       "      <td>1</td>\n",
       "    </tr>\n",
       "    <tr>\n",
       "      <th>18</th>\n",
       "      <td>7</td>\n",
       "      <td>65.448570</td>\n",
       "      <td>161.844803</td>\n",
       "      <td>24.476290</td>\n",
       "      <td>402</td>\n",
       "      <td>220</td>\n",
       "      <td>19</td>\n",
       "      <td>1</td>\n",
       "    </tr>\n",
       "    <tr>\n",
       "      <th>19</th>\n",
       "      <td>7</td>\n",
       "      <td>67.006248</td>\n",
       "      <td>192.758163</td>\n",
       "      <td>18.695911</td>\n",
       "      <td>402</td>\n",
       "      <td>221</td>\n",
       "      <td>20</td>\n",
       "      <td>1</td>\n",
       "    </tr>\n",
       "    <tr>\n",
       "      <th>20</th>\n",
       "      <td>7</td>\n",
       "      <td>67.006248</td>\n",
       "      <td>192.758163</td>\n",
       "      <td>18.695911</td>\n",
       "      <td>402</td>\n",
       "      <td>222</td>\n",
       "      <td>21</td>\n",
       "      <td>1</td>\n",
       "    </tr>\n",
       "    <tr>\n",
       "      <th>21</th>\n",
       "      <td>7</td>\n",
       "      <td>65.448570</td>\n",
       "      <td>161.844803</td>\n",
       "      <td>24.476290</td>\n",
       "      <td>402</td>\n",
       "      <td>223</td>\n",
       "      <td>22</td>\n",
       "      <td>1</td>\n",
       "    </tr>\n",
       "    <tr>\n",
       "      <th>22</th>\n",
       "      <td>7</td>\n",
       "      <td>51.428570</td>\n",
       "      <td>24.898960</td>\n",
       "      <td>52.236923</td>\n",
       "      <td>402</td>\n",
       "      <td>559</td>\n",
       "      <td>10</td>\n",
       "      <td>1</td>\n",
       "    </tr>\n",
       "    <tr>\n",
       "      <th>23</th>\n",
       "      <td>7</td>\n",
       "      <td>39.375000</td>\n",
       "      <td>9.533246</td>\n",
       "      <td>62.483761</td>\n",
       "      <td>402</td>\n",
       "      <td>560</td>\n",
       "      <td>23</td>\n",
       "      <td>1</td>\n",
       "    </tr>\n",
       "    <tr>\n",
       "      <th>24</th>\n",
       "      <td>7</td>\n",
       "      <td>22.500000</td>\n",
       "      <td>7.009454</td>\n",
       "      <td>65.661308</td>\n",
       "      <td>402</td>\n",
       "      <td>561</td>\n",
       "      <td>24</td>\n",
       "      <td>1</td>\n",
       "    </tr>\n",
       "    <tr>\n",
       "      <th>25</th>\n",
       "      <td>7</td>\n",
       "      <td>54.061428</td>\n",
       "      <td>21.936510</td>\n",
       "      <td>53.631584</td>\n",
       "      <td>402</td>\n",
       "      <td>566</td>\n",
       "      <td>25</td>\n",
       "      <td>1</td>\n",
       "    </tr>\n",
       "    <tr>\n",
       "      <th>26</th>\n",
       "      <td>7</td>\n",
       "      <td>57.857143</td>\n",
       "      <td>47.196831</td>\n",
       "      <td>44.822647</td>\n",
       "      <td>402</td>\n",
       "      <td>624</td>\n",
       "      <td>26</td>\n",
       "      <td>1</td>\n",
       "    </tr>\n",
       "    <tr>\n",
       "      <th>27</th>\n",
       "      <td>7</td>\n",
       "      <td>54.061428</td>\n",
       "      <td>21.936510</td>\n",
       "      <td>53.631584</td>\n",
       "      <td>402</td>\n",
       "      <td>625</td>\n",
       "      <td>27</td>\n",
       "      <td>1</td>\n",
       "    </tr>\n",
       "    <tr>\n",
       "      <th>28</th>\n",
       "      <td>7</td>\n",
       "      <td>55.224285</td>\n",
       "      <td>28.032522</td>\n",
       "      <td>50.914413</td>\n",
       "      <td>402</td>\n",
       "      <td>626</td>\n",
       "      <td>28</td>\n",
       "      <td>1</td>\n",
       "    </tr>\n",
       "    <tr>\n",
       "      <th>29</th>\n",
       "      <td>7</td>\n",
       "      <td>39.384998</td>\n",
       "      <td>216.244278</td>\n",
       "      <td>12.808699</td>\n",
       "      <td>402</td>\n",
       "      <td>796</td>\n",
       "      <td>29</td>\n",
       "      <td>1</td>\n",
       "    </tr>\n",
       "    <tr>\n",
       "      <th>...</th>\n",
       "      <td>...</td>\n",
       "      <td>...</td>\n",
       "      <td>...</td>\n",
       "      <td>...</td>\n",
       "      <td>...</td>\n",
       "      <td>...</td>\n",
       "      <td>...</td>\n",
       "      <td>...</td>\n",
       "    </tr>\n",
       "    <tr>\n",
       "      <th>1485</th>\n",
       "      <td>7</td>\n",
       "      <td>53.562729</td>\n",
       "      <td>169.146408</td>\n",
       "      <td>23.218788</td>\n",
       "      <td>764</td>\n",
       "      <td>775</td>\n",
       "      <td>673</td>\n",
       "      <td>1</td>\n",
       "    </tr>\n",
       "    <tr>\n",
       "      <th>1486</th>\n",
       "      <td>7</td>\n",
       "      <td>48.795715</td>\n",
       "      <td>196.049194</td>\n",
       "      <td>17.983376</td>\n",
       "      <td>765</td>\n",
       "      <td>465</td>\n",
       "      <td>650</td>\n",
       "      <td>1</td>\n",
       "    </tr>\n",
       "    <tr>\n",
       "      <th>1487</th>\n",
       "      <td>7</td>\n",
       "      <td>51.428570</td>\n",
       "      <td>188.733917</td>\n",
       "      <td>19.533401</td>\n",
       "      <td>765</td>\n",
       "      <td>466</td>\n",
       "      <td>650</td>\n",
       "      <td>1</td>\n",
       "    </tr>\n",
       "    <tr>\n",
       "      <th>1488</th>\n",
       "      <td>7</td>\n",
       "      <td>30.556250</td>\n",
       "      <td>25.178288</td>\n",
       "      <td>52.113220</td>\n",
       "      <td>765</td>\n",
       "      <td>772</td>\n",
       "      <td>707</td>\n",
       "      <td>1</td>\n",
       "    </tr>\n",
       "    <tr>\n",
       "      <th>1489</th>\n",
       "      <td>7</td>\n",
       "      <td>33.342999</td>\n",
       "      <td>78.144646</td>\n",
       "      <td>38.167706</td>\n",
       "      <td>765</td>\n",
       "      <td>773</td>\n",
       "      <td>673</td>\n",
       "      <td>1</td>\n",
       "    </tr>\n",
       "    <tr>\n",
       "      <th>1490</th>\n",
       "      <td>7</td>\n",
       "      <td>55.571667</td>\n",
       "      <td>201.227356</td>\n",
       "      <td>16.803293</td>\n",
       "      <td>766</td>\n",
       "      <td>464</td>\n",
       "      <td>650</td>\n",
       "      <td>1</td>\n",
       "    </tr>\n",
       "    <tr>\n",
       "      <th>1491</th>\n",
       "      <td>7</td>\n",
       "      <td>50.615002</td>\n",
       "      <td>181.352921</td>\n",
       "      <td>20.988396</td>\n",
       "      <td>766</td>\n",
       "      <td>465</td>\n",
       "      <td>650</td>\n",
       "      <td>1</td>\n",
       "    </tr>\n",
       "    <tr>\n",
       "      <th>1492</th>\n",
       "      <td>7</td>\n",
       "      <td>36.181252</td>\n",
       "      <td>62.389664</td>\n",
       "      <td>41.272694</td>\n",
       "      <td>766</td>\n",
       "      <td>772</td>\n",
       "      <td>708</td>\n",
       "      <td>1</td>\n",
       "    </tr>\n",
       "    <tr>\n",
       "      <th>1493</th>\n",
       "      <td>7</td>\n",
       "      <td>16.875000</td>\n",
       "      <td>22.513260</td>\n",
       "      <td>53.347286</td>\n",
       "      <td>766</td>\n",
       "      <td>774</td>\n",
       "      <td>673</td>\n",
       "      <td>1</td>\n",
       "    </tr>\n",
       "    <tr>\n",
       "      <th>1494</th>\n",
       "      <td>7</td>\n",
       "      <td>61.884998</td>\n",
       "      <td>170.948883</td>\n",
       "      <td>22.900606</td>\n",
       "      <td>766</td>\n",
       "      <td>788</td>\n",
       "      <td>706</td>\n",
       "      <td>1</td>\n",
       "    </tr>\n",
       "    <tr>\n",
       "      <th>1495</th>\n",
       "      <td>7</td>\n",
       "      <td>65.901428</td>\n",
       "      <td>197.820389</td>\n",
       "      <td>17.588381</td>\n",
       "      <td>766</td>\n",
       "      <td>789</td>\n",
       "      <td>706</td>\n",
       "      <td>1</td>\n",
       "    </tr>\n",
       "    <tr>\n",
       "      <th>1496</th>\n",
       "      <td>7</td>\n",
       "      <td>55.853748</td>\n",
       "      <td>169.633820</td>\n",
       "      <td>23.133080</td>\n",
       "      <td>767</td>\n",
       "      <td>771</td>\n",
       "      <td>673</td>\n",
       "      <td>1</td>\n",
       "    </tr>\n",
       "    <tr>\n",
       "      <th>1497</th>\n",
       "      <td>7</td>\n",
       "      <td>52.445713</td>\n",
       "      <td>145.295685</td>\n",
       "      <td>27.190178</td>\n",
       "      <td>767</td>\n",
       "      <td>772</td>\n",
       "      <td>673</td>\n",
       "      <td>1</td>\n",
       "    </tr>\n",
       "    <tr>\n",
       "      <th>1498</th>\n",
       "      <td>7</td>\n",
       "      <td>6.428571</td>\n",
       "      <td>14.967848</td>\n",
       "      <td>57.748684</td>\n",
       "      <td>767</td>\n",
       "      <td>774</td>\n",
       "      <td>709</td>\n",
       "      <td>1</td>\n",
       "    </tr>\n",
       "    <tr>\n",
       "      <th>1499</th>\n",
       "      <td>7</td>\n",
       "      <td>56.250000</td>\n",
       "      <td>65.300484</td>\n",
       "      <td>40.664417</td>\n",
       "      <td>767</td>\n",
       "      <td>786</td>\n",
       "      <td>706</td>\n",
       "      <td>1</td>\n",
       "    </tr>\n",
       "    <tr>\n",
       "      <th>1500</th>\n",
       "      <td>7</td>\n",
       "      <td>70.571663</td>\n",
       "      <td>205.066269</td>\n",
       "      <td>15.873636</td>\n",
       "      <td>767</td>\n",
       "      <td>787</td>\n",
       "      <td>706</td>\n",
       "      <td>1</td>\n",
       "    </tr>\n",
       "    <tr>\n",
       "      <th>1501</th>\n",
       "      <td>7</td>\n",
       "      <td>68.856667</td>\n",
       "      <td>193.809845</td>\n",
       "      <td>18.471088</td>\n",
       "      <td>767</td>\n",
       "      <td>788</td>\n",
       "      <td>706</td>\n",
       "      <td>1</td>\n",
       "    </tr>\n",
       "    <tr>\n",
       "      <th>1502</th>\n",
       "      <td>7</td>\n",
       "      <td>26.711250</td>\n",
       "      <td>4.257048</td>\n",
       "      <td>70.758522</td>\n",
       "      <td>768</td>\n",
       "      <td>784</td>\n",
       "      <td>710</td>\n",
       "      <td>1</td>\n",
       "    </tr>\n",
       "    <tr>\n",
       "      <th>1503</th>\n",
       "      <td>7</td>\n",
       "      <td>54.342499</td>\n",
       "      <td>29.935907</td>\n",
       "      <td>50.173264</td>\n",
       "      <td>768</td>\n",
       "      <td>785</td>\n",
       "      <td>711</td>\n",
       "      <td>1</td>\n",
       "    </tr>\n",
       "    <tr>\n",
       "      <th>1504</th>\n",
       "      <td>7</td>\n",
       "      <td>41.928333</td>\n",
       "      <td>44.569134</td>\n",
       "      <td>45.521156</td>\n",
       "      <td>768</td>\n",
       "      <td>787</td>\n",
       "      <td>712</td>\n",
       "      <td>1</td>\n",
       "    </tr>\n",
       "    <tr>\n",
       "      <th>1505</th>\n",
       "      <td>7</td>\n",
       "      <td>65.901428</td>\n",
       "      <td>180.261963</td>\n",
       "      <td>21.195782</td>\n",
       "      <td>776</td>\n",
       "      <td>801</td>\n",
       "      <td>713</td>\n",
       "      <td>1</td>\n",
       "    </tr>\n",
       "    <tr>\n",
       "      <th>1506</th>\n",
       "      <td>7</td>\n",
       "      <td>54.342499</td>\n",
       "      <td>224.353333</td>\n",
       "      <td>10.093019</td>\n",
       "      <td>777</td>\n",
       "      <td>800</td>\n",
       "      <td>714</td>\n",
       "      <td>1</td>\n",
       "    </tr>\n",
       "    <tr>\n",
       "      <th>1507</th>\n",
       "      <td>7</td>\n",
       "      <td>59.472858</td>\n",
       "      <td>193.389725</td>\n",
       "      <td>18.561214</td>\n",
       "      <td>778</td>\n",
       "      <td>798</td>\n",
       "      <td>715</td>\n",
       "      <td>1</td>\n",
       "    </tr>\n",
       "    <tr>\n",
       "      <th>1508</th>\n",
       "      <td>7</td>\n",
       "      <td>57.663750</td>\n",
       "      <td>206.651169</td>\n",
       "      <td>15.474097</td>\n",
       "      <td>778</td>\n",
       "      <td>799</td>\n",
       "      <td>716</td>\n",
       "      <td>1</td>\n",
       "    </tr>\n",
       "    <tr>\n",
       "      <th>1509</th>\n",
       "      <td>7</td>\n",
       "      <td>55.360001</td>\n",
       "      <td>37.344028</td>\n",
       "      <td>47.627426</td>\n",
       "      <td>779</td>\n",
       "      <td>795</td>\n",
       "      <td>717</td>\n",
       "      <td>1</td>\n",
       "    </tr>\n",
       "    <tr>\n",
       "      <th>1510</th>\n",
       "      <td>7</td>\n",
       "      <td>61.875000</td>\n",
       "      <td>59.868324</td>\n",
       "      <td>41.815269</td>\n",
       "      <td>779</td>\n",
       "      <td>796</td>\n",
       "      <td>718</td>\n",
       "      <td>1</td>\n",
       "    </tr>\n",
       "    <tr>\n",
       "      <th>1511</th>\n",
       "      <td>7</td>\n",
       "      <td>72.330002</td>\n",
       "      <td>200.441238</td>\n",
       "      <td>16.987574</td>\n",
       "      <td>779</td>\n",
       "      <td>797</td>\n",
       "      <td>719</td>\n",
       "      <td>1</td>\n",
       "    </tr>\n",
       "    <tr>\n",
       "      <th>1512</th>\n",
       "      <td>7</td>\n",
       "      <td>64.285713</td>\n",
       "      <td>174.467499</td>\n",
       "      <td>22.269224</td>\n",
       "      <td>779</td>\n",
       "      <td>798</td>\n",
       "      <td>720</td>\n",
       "      <td>1</td>\n",
       "    </tr>\n",
       "    <tr>\n",
       "      <th>1513</th>\n",
       "      <td>7</td>\n",
       "      <td>68.534286</td>\n",
       "      <td>206.469620</td>\n",
       "      <td>15.520367</td>\n",
       "      <td>780</td>\n",
       "      <td>794</td>\n",
       "      <td>713</td>\n",
       "      <td>1</td>\n",
       "    </tr>\n",
       "    <tr>\n",
       "      <th>1514</th>\n",
       "      <td>7</td>\n",
       "      <td>20.448572</td>\n",
       "      <td>28.540234</td>\n",
       "      <td>50.712524</td>\n",
       "      <td>780</td>\n",
       "      <td>797</td>\n",
       "      <td>713</td>\n",
       "      <td>1</td>\n",
       "    </tr>\n",
       "  </tbody>\n",
       "</table>\n",
       "<p>1515 rows × 8 columns</p>\n",
       "</div>"
      ],
      "text/plain": [
       "      longueur      angle      weight  precision  xPos  yPos  group  layer\n",
       "0            7 -14.110000   21.038452  54.088051   401    72      1      1\n",
       "1            7 -19.285715   42.362766  46.133179   401    73      1      1\n",
       "2            7  58.060001  211.724838  14.122912   401    85      3      1\n",
       "3            7  57.513332  210.000854  14.595321   401    86      4      1\n",
       "4            7  53.608570  165.218674  23.901072   401   205      5      1\n",
       "5            7  59.561111  198.477539  17.439621   401   206      6      1\n",
       "6            7  64.285713  187.353317  19.813021   401   207      7      1\n",
       "7            7  55.756248  226.026016   9.457481   401   223      8      1\n",
       "8            7  20.302856   16.944448  56.425640   401   562      9      1\n",
       "9            7  15.490000   13.673920  58.706589   401   563     10      1\n",
       "10           7  40.392502  229.608414   7.980424   401   797     11      1\n",
       "11           7 -16.356667   28.694563  50.651779   402    73      1      1\n",
       "12           7 -34.639999   34.410900  48.579285   402    74     13      1\n",
       "13           7  67.006248  208.213287  15.070362   402    83     14      1\n",
       "14           7  63.304443  201.135040  16.825037   402    84     15      1\n",
       "15           7  59.571251  178.042679  21.612276   402    85     16      1\n",
       "16           7  54.208889  197.949036  17.559353   402   204     17      1\n",
       "17           7  58.310001  208.170868  15.081461   402   205     18      1\n",
       "18           7  65.448570  161.844803  24.476290   402   220     19      1\n",
       "19           7  67.006248  192.758163  18.695911   402   221     20      1\n",
       "20           7  67.006248  192.758163  18.695911   402   222     21      1\n",
       "21           7  65.448570  161.844803  24.476290   402   223     22      1\n",
       "22           7  51.428570   24.898960  52.236923   402   559     10      1\n",
       "23           7  39.375000    9.533246  62.483761   402   560     23      1\n",
       "24           7  22.500000    7.009454  65.661308   402   561     24      1\n",
       "25           7  54.061428   21.936510  53.631584   402   566     25      1\n",
       "26           7  57.857143   47.196831  44.822647   402   624     26      1\n",
       "27           7  54.061428   21.936510  53.631584   402   625     27      1\n",
       "28           7  55.224285   28.032522  50.914413   402   626     28      1\n",
       "29           7  39.384998  216.244278  12.808699   402   796     29      1\n",
       "...        ...        ...         ...        ...   ...   ...    ...    ...\n",
       "1485         7  53.562729  169.146408  23.218788   764   775    673      1\n",
       "1486         7  48.795715  196.049194  17.983376   765   465    650      1\n",
       "1487         7  51.428570  188.733917  19.533401   765   466    650      1\n",
       "1488         7  30.556250   25.178288  52.113220   765   772    707      1\n",
       "1489         7  33.342999   78.144646  38.167706   765   773    673      1\n",
       "1490         7  55.571667  201.227356  16.803293   766   464    650      1\n",
       "1491         7  50.615002  181.352921  20.988396   766   465    650      1\n",
       "1492         7  36.181252   62.389664  41.272694   766   772    708      1\n",
       "1493         7  16.875000   22.513260  53.347286   766   774    673      1\n",
       "1494         7  61.884998  170.948883  22.900606   766   788    706      1\n",
       "1495         7  65.901428  197.820389  17.588381   766   789    706      1\n",
       "1496         7  55.853748  169.633820  23.133080   767   771    673      1\n",
       "1497         7  52.445713  145.295685  27.190178   767   772    673      1\n",
       "1498         7   6.428571   14.967848  57.748684   767   774    709      1\n",
       "1499         7  56.250000   65.300484  40.664417   767   786    706      1\n",
       "1500         7  70.571663  205.066269  15.873636   767   787    706      1\n",
       "1501         7  68.856667  193.809845  18.471088   767   788    706      1\n",
       "1502         7  26.711250    4.257048  70.758522   768   784    710      1\n",
       "1503         7  54.342499   29.935907  50.173264   768   785    711      1\n",
       "1504         7  41.928333   44.569134  45.521156   768   787    712      1\n",
       "1505         7  65.901428  180.261963  21.195782   776   801    713      1\n",
       "1506         7  54.342499  224.353333  10.093019   777   800    714      1\n",
       "1507         7  59.472858  193.389725  18.561214   778   798    715      1\n",
       "1508         7  57.663750  206.651169  15.474097   778   799    716      1\n",
       "1509         7  55.360001   37.344028  47.627426   779   795    717      1\n",
       "1510         7  61.875000   59.868324  41.815269   779   796    718      1\n",
       "1511         7  72.330002  200.441238  16.987574   779   797    719      1\n",
       "1512         7  64.285713  174.467499  22.269224   779   798    720      1\n",
       "1513         7  68.534286  206.469620  15.520367   780   794    713      1\n",
       "1514         7  20.448572   28.540234  50.712524   780   797    713      1\n",
       "\n",
       "[1515 rows x 8 columns]"
      ]
     },
     "execution_count": 66,
     "metadata": {},
     "output_type": "execute_result"
    }
   ],
   "source": [
    "findGroups(titi)"
   ]
  },
  {
   "cell_type": "code",
   "execution_count": 67,
   "metadata": {
    "ExecuteTime": {
     "end_time": "2019-07-18T17:41:23.256833Z",
     "start_time": "2019-07-18T17:41:23.222888Z"
    }
   },
   "outputs": [
    {
     "data": {
      "text/html": [
       "<div>\n",
       "<style scoped>\n",
       "    .dataframe tbody tr th:only-of-type {\n",
       "        vertical-align: middle;\n",
       "    }\n",
       "\n",
       "    .dataframe tbody tr th {\n",
       "        vertical-align: top;\n",
       "    }\n",
       "\n",
       "    .dataframe thead th {\n",
       "        text-align: right;\n",
       "    }\n",
       "</style>\n",
       "<table border=\"1\" class=\"dataframe\">\n",
       "  <thead>\n",
       "    <tr style=\"text-align: right;\">\n",
       "      <th></th>\n",
       "      <th>longueur</th>\n",
       "      <th>angle</th>\n",
       "      <th>weight</th>\n",
       "      <th>precision</th>\n",
       "      <th>xPos</th>\n",
       "      <th>yPos</th>\n",
       "      <th>group</th>\n",
       "      <th>layer</th>\n",
       "    </tr>\n",
       "  </thead>\n",
       "  <tbody>\n",
       "    <tr>\n",
       "      <th>1506</th>\n",
       "      <td>7</td>\n",
       "      <td>54.342499</td>\n",
       "      <td>224.353333</td>\n",
       "      <td>10.093019</td>\n",
       "      <td>777</td>\n",
       "      <td>800</td>\n",
       "      <td>714</td>\n",
       "      <td>1</td>\n",
       "    </tr>\n",
       "    <tr>\n",
       "      <th>1507</th>\n",
       "      <td>7</td>\n",
       "      <td>59.472858</td>\n",
       "      <td>193.389725</td>\n",
       "      <td>18.561214</td>\n",
       "      <td>778</td>\n",
       "      <td>798</td>\n",
       "      <td>715</td>\n",
       "      <td>1</td>\n",
       "    </tr>\n",
       "    <tr>\n",
       "      <th>1508</th>\n",
       "      <td>7</td>\n",
       "      <td>57.663750</td>\n",
       "      <td>206.651169</td>\n",
       "      <td>15.474097</td>\n",
       "      <td>778</td>\n",
       "      <td>799</td>\n",
       "      <td>716</td>\n",
       "      <td>1</td>\n",
       "    </tr>\n",
       "    <tr>\n",
       "      <th>1511</th>\n",
       "      <td>7</td>\n",
       "      <td>72.330002</td>\n",
       "      <td>200.441238</td>\n",
       "      <td>16.987574</td>\n",
       "      <td>779</td>\n",
       "      <td>797</td>\n",
       "      <td>719</td>\n",
       "      <td>1</td>\n",
       "    </tr>\n",
       "    <tr>\n",
       "      <th>1512</th>\n",
       "      <td>7</td>\n",
       "      <td>64.285713</td>\n",
       "      <td>174.467499</td>\n",
       "      <td>22.269224</td>\n",
       "      <td>779</td>\n",
       "      <td>798</td>\n",
       "      <td>720</td>\n",
       "      <td>1</td>\n",
       "    </tr>\n",
       "    <tr>\n",
       "      <th>1514</th>\n",
       "      <td>7</td>\n",
       "      <td>20.448572</td>\n",
       "      <td>28.540234</td>\n",
       "      <td>50.712524</td>\n",
       "      <td>780</td>\n",
       "      <td>797</td>\n",
       "      <td>713</td>\n",
       "      <td>1</td>\n",
       "    </tr>\n",
       "  </tbody>\n",
       "</table>\n",
       "</div>"
      ],
      "text/plain": [
       "      longueur      angle      weight  precision  xPos  yPos  group  layer\n",
       "1506         7  54.342499  224.353333  10.093019   777   800    714      1\n",
       "1507         7  59.472858  193.389725  18.561214   778   798    715      1\n",
       "1508         7  57.663750  206.651169  15.474097   778   799    716      1\n",
       "1511         7  72.330002  200.441238  16.987574   779   797    719      1\n",
       "1512         7  64.285713  174.467499  22.269224   779   798    720      1\n",
       "1514         7  20.448572   28.540234  50.712524   780   797    713      1"
      ]
     },
     "execution_count": 67,
     "metadata": {},
     "output_type": "execute_result"
    }
   ],
   "source": [
    "titi[(titi.xPos>779-3)&(titi.xPos<779+3)&(titi.yPos>799-3)&(titi.yPos<799+3)]"
   ]
  },
  {
   "cell_type": "code",
   "execution_count": 68,
   "metadata": {
    "ExecuteTime": {
     "end_time": "2019-07-18T17:41:23.394693Z",
     "start_time": "2019-07-18T17:41:23.269035Z"
    }
   },
   "outputs": [
    {
     "data": {
      "text/html": [
       "<div>\n",
       "<style scoped>\n",
       "    .dataframe tbody tr th:only-of-type {\n",
       "        vertical-align: middle;\n",
       "    }\n",
       "\n",
       "    .dataframe tbody tr th {\n",
       "        vertical-align: top;\n",
       "    }\n",
       "\n",
       "    .dataframe thead tr th {\n",
       "        text-align: left;\n",
       "    }\n",
       "\n",
       "    .dataframe thead tr:last-of-type th {\n",
       "        text-align: right;\n",
       "    }\n",
       "</style>\n",
       "<table border=\"1\" class=\"dataframe\">\n",
       "  <thead>\n",
       "    <tr>\n",
       "      <th></th>\n",
       "      <th colspan=\"2\" halign=\"left\">longueur</th>\n",
       "      <th colspan=\"2\" halign=\"left\">angle</th>\n",
       "      <th colspan=\"2\" halign=\"left\">weight</th>\n",
       "      <th colspan=\"2\" halign=\"left\">precision</th>\n",
       "      <th colspan=\"2\" halign=\"left\">xPos</th>\n",
       "      <th colspan=\"2\" halign=\"left\">yPos</th>\n",
       "      <th colspan=\"2\" halign=\"left\">layer</th>\n",
       "    </tr>\n",
       "    <tr>\n",
       "      <th></th>\n",
       "      <th>mean</th>\n",
       "      <th>count</th>\n",
       "      <th>mean</th>\n",
       "      <th>count</th>\n",
       "      <th>mean</th>\n",
       "      <th>count</th>\n",
       "      <th>mean</th>\n",
       "      <th>count</th>\n",
       "      <th>mean</th>\n",
       "      <th>count</th>\n",
       "      <th>mean</th>\n",
       "      <th>count</th>\n",
       "      <th>mean</th>\n",
       "      <th>count</th>\n",
       "    </tr>\n",
       "    <tr>\n",
       "      <th>group</th>\n",
       "      <th></th>\n",
       "      <th></th>\n",
       "      <th></th>\n",
       "      <th></th>\n",
       "      <th></th>\n",
       "      <th></th>\n",
       "      <th></th>\n",
       "      <th></th>\n",
       "      <th></th>\n",
       "      <th></th>\n",
       "      <th></th>\n",
       "      <th></th>\n",
       "      <th></th>\n",
       "      <th></th>\n",
       "    </tr>\n",
       "  </thead>\n",
       "  <tbody>\n",
       "    <tr>\n",
       "      <th>1</th>\n",
       "      <td>7</td>\n",
       "      <td>3</td>\n",
       "      <td>-16.584127</td>\n",
       "      <td>3</td>\n",
       "      <td>30.698593</td>\n",
       "      <td>3</td>\n",
       "      <td>50.291004</td>\n",
       "      <td>3</td>\n",
       "      <td>401.333333</td>\n",
       "      <td>3</td>\n",
       "      <td>72.666667</td>\n",
       "      <td>3</td>\n",
       "      <td>1</td>\n",
       "      <td>3</td>\n",
       "    </tr>\n",
       "    <tr>\n",
       "      <th>2</th>\n",
       "      <td>7</td>\n",
       "      <td>1</td>\n",
       "      <td>68.534286</td>\n",
       "      <td>1</td>\n",
       "      <td>206.469620</td>\n",
       "      <td>1</td>\n",
       "      <td>15.520367</td>\n",
       "      <td>1</td>\n",
       "      <td>403.000000</td>\n",
       "      <td>1</td>\n",
       "      <td>81.000000</td>\n",
       "      <td>1</td>\n",
       "      <td>1</td>\n",
       "      <td>1</td>\n",
       "    </tr>\n",
       "    <tr>\n",
       "      <th>3</th>\n",
       "      <td>7</td>\n",
       "      <td>3</td>\n",
       "      <td>45.041550</td>\n",
       "      <td>3</td>\n",
       "      <td>86.994301</td>\n",
       "      <td>3</td>\n",
       "      <td>41.027340</td>\n",
       "      <td>3</td>\n",
       "      <td>403.000000</td>\n",
       "      <td>3</td>\n",
       "      <td>81.333333</td>\n",
       "      <td>3</td>\n",
       "      <td>1</td>\n",
       "      <td>3</td>\n",
       "    </tr>\n",
       "    <tr>\n",
       "      <th>4</th>\n",
       "      <td>7</td>\n",
       "      <td>1</td>\n",
       "      <td>57.513332</td>\n",
       "      <td>1</td>\n",
       "      <td>210.000854</td>\n",
       "      <td>1</td>\n",
       "      <td>14.595321</td>\n",
       "      <td>1</td>\n",
       "      <td>401.000000</td>\n",
       "      <td>1</td>\n",
       "      <td>86.000000</td>\n",
       "      <td>1</td>\n",
       "      <td>1</td>\n",
       "      <td>1</td>\n",
       "    </tr>\n",
       "    <tr>\n",
       "      <th>5</th>\n",
       "      <td>7</td>\n",
       "      <td>83</td>\n",
       "      <td>50.694473</td>\n",
       "      <td>83</td>\n",
       "      <td>189.651169</td>\n",
       "      <td>83</td>\n",
       "      <td>18.722481</td>\n",
       "      <td>83</td>\n",
       "      <td>423.614458</td>\n",
       "      <td>83</td>\n",
       "      <td>174.493976</td>\n",
       "      <td>83</td>\n",
       "      <td>1</td>\n",
       "      <td>83</td>\n",
       "    </tr>\n",
       "    <tr>\n",
       "      <th>6</th>\n",
       "      <td>7</td>\n",
       "      <td>1</td>\n",
       "      <td>59.561111</td>\n",
       "      <td>1</td>\n",
       "      <td>198.477539</td>\n",
       "      <td>1</td>\n",
       "      <td>17.439621</td>\n",
       "      <td>1</td>\n",
       "      <td>401.000000</td>\n",
       "      <td>1</td>\n",
       "      <td>206.000000</td>\n",
       "      <td>1</td>\n",
       "      <td>1</td>\n",
       "      <td>1</td>\n",
       "    </tr>\n",
       "    <tr>\n",
       "      <th>7</th>\n",
       "      <td>7</td>\n",
       "      <td>1</td>\n",
       "      <td>64.285713</td>\n",
       "      <td>1</td>\n",
       "      <td>187.353317</td>\n",
       "      <td>1</td>\n",
       "      <td>19.813021</td>\n",
       "      <td>1</td>\n",
       "      <td>401.000000</td>\n",
       "      <td>1</td>\n",
       "      <td>207.000000</td>\n",
       "      <td>1</td>\n",
       "      <td>1</td>\n",
       "      <td>1</td>\n",
       "    </tr>\n",
       "    <tr>\n",
       "      <th>8</th>\n",
       "      <td>7</td>\n",
       "      <td>84</td>\n",
       "      <td>49.810238</td>\n",
       "      <td>84</td>\n",
       "      <td>176.023453</td>\n",
       "      <td>84</td>\n",
       "      <td>21.717052</td>\n",
       "      <td>84</td>\n",
       "      <td>427.428571</td>\n",
       "      <td>84</td>\n",
       "      <td>186.321429</td>\n",
       "      <td>84</td>\n",
       "      <td>1</td>\n",
       "      <td>84</td>\n",
       "    </tr>\n",
       "    <tr>\n",
       "      <th>9</th>\n",
       "      <td>7</td>\n",
       "      <td>1</td>\n",
       "      <td>20.302856</td>\n",
       "      <td>1</td>\n",
       "      <td>16.944448</td>\n",
       "      <td>1</td>\n",
       "      <td>56.425640</td>\n",
       "      <td>1</td>\n",
       "      <td>401.000000</td>\n",
       "      <td>1</td>\n",
       "      <td>562.000000</td>\n",
       "      <td>1</td>\n",
       "      <td>1</td>\n",
       "      <td>1</td>\n",
       "    </tr>\n",
       "    <tr>\n",
       "      <th>10</th>\n",
       "      <td>7</td>\n",
       "      <td>2</td>\n",
       "      <td>33.459286</td>\n",
       "      <td>2</td>\n",
       "      <td>19.286440</td>\n",
       "      <td>2</td>\n",
       "      <td>55.471756</td>\n",
       "      <td>2</td>\n",
       "      <td>401.500000</td>\n",
       "      <td>2</td>\n",
       "      <td>561.000000</td>\n",
       "      <td>2</td>\n",
       "      <td>1</td>\n",
       "      <td>2</td>\n",
       "    </tr>\n",
       "    <tr>\n",
       "      <th>11</th>\n",
       "      <td>7</td>\n",
       "      <td>3</td>\n",
       "      <td>55.594643</td>\n",
       "      <td>3</td>\n",
       "      <td>216.942535</td>\n",
       "      <td>3</td>\n",
       "      <td>12.240467</td>\n",
       "      <td>3</td>\n",
       "      <td>403.000000</td>\n",
       "      <td>3</td>\n",
       "      <td>794.666667</td>\n",
       "      <td>3</td>\n",
       "      <td>1</td>\n",
       "      <td>3</td>\n",
       "    </tr>\n",
       "    <tr>\n",
       "      <th>12</th>\n",
       "      <td>7</td>\n",
       "      <td>1</td>\n",
       "      <td>68.913750</td>\n",
       "      <td>1</td>\n",
       "      <td>210.158768</td>\n",
       "      <td>1</td>\n",
       "      <td>14.552647</td>\n",
       "      <td>1</td>\n",
       "      <td>403.000000</td>\n",
       "      <td>1</td>\n",
       "      <td>82.000000</td>\n",
       "      <td>1</td>\n",
       "      <td>1</td>\n",
       "      <td>1</td>\n",
       "    </tr>\n",
       "    <tr>\n",
       "      <th>13</th>\n",
       "      <td>7</td>\n",
       "      <td>1</td>\n",
       "      <td>-34.639999</td>\n",
       "      <td>1</td>\n",
       "      <td>34.410900</td>\n",
       "      <td>1</td>\n",
       "      <td>48.579285</td>\n",
       "      <td>1</td>\n",
       "      <td>402.000000</td>\n",
       "      <td>1</td>\n",
       "      <td>74.000000</td>\n",
       "      <td>1</td>\n",
       "      <td>1</td>\n",
       "      <td>1</td>\n",
       "    </tr>\n",
       "    <tr>\n",
       "      <th>14</th>\n",
       "      <td>7</td>\n",
       "      <td>1</td>\n",
       "      <td>67.006248</td>\n",
       "      <td>1</td>\n",
       "      <td>208.213287</td>\n",
       "      <td>1</td>\n",
       "      <td>15.070362</td>\n",
       "      <td>1</td>\n",
       "      <td>402.000000</td>\n",
       "      <td>1</td>\n",
       "      <td>83.000000</td>\n",
       "      <td>1</td>\n",
       "      <td>1</td>\n",
       "      <td>1</td>\n",
       "    </tr>\n",
       "    <tr>\n",
       "      <th>15</th>\n",
       "      <td>7</td>\n",
       "      <td>1</td>\n",
       "      <td>63.304443</td>\n",
       "      <td>1</td>\n",
       "      <td>201.135040</td>\n",
       "      <td>1</td>\n",
       "      <td>16.825037</td>\n",
       "      <td>1</td>\n",
       "      <td>402.000000</td>\n",
       "      <td>1</td>\n",
       "      <td>84.000000</td>\n",
       "      <td>1</td>\n",
       "      <td>1</td>\n",
       "      <td>1</td>\n",
       "    </tr>\n",
       "    <tr>\n",
       "      <th>16</th>\n",
       "      <td>7</td>\n",
       "      <td>1</td>\n",
       "      <td>59.571251</td>\n",
       "      <td>1</td>\n",
       "      <td>178.042679</td>\n",
       "      <td>1</td>\n",
       "      <td>21.612276</td>\n",
       "      <td>1</td>\n",
       "      <td>402.000000</td>\n",
       "      <td>1</td>\n",
       "      <td>85.000000</td>\n",
       "      <td>1</td>\n",
       "      <td>1</td>\n",
       "      <td>1</td>\n",
       "    </tr>\n",
       "    <tr>\n",
       "      <th>17</th>\n",
       "      <td>7</td>\n",
       "      <td>1</td>\n",
       "      <td>54.208889</td>\n",
       "      <td>1</td>\n",
       "      <td>197.949036</td>\n",
       "      <td>1</td>\n",
       "      <td>17.559353</td>\n",
       "      <td>1</td>\n",
       "      <td>402.000000</td>\n",
       "      <td>1</td>\n",
       "      <td>204.000000</td>\n",
       "      <td>1</td>\n",
       "      <td>1</td>\n",
       "      <td>1</td>\n",
       "    </tr>\n",
       "    <tr>\n",
       "      <th>18</th>\n",
       "      <td>7</td>\n",
       "      <td>1</td>\n",
       "      <td>58.310001</td>\n",
       "      <td>1</td>\n",
       "      <td>208.170868</td>\n",
       "      <td>1</td>\n",
       "      <td>15.081461</td>\n",
       "      <td>1</td>\n",
       "      <td>402.000000</td>\n",
       "      <td>1</td>\n",
       "      <td>205.000000</td>\n",
       "      <td>1</td>\n",
       "      <td>1</td>\n",
       "      <td>1</td>\n",
       "    </tr>\n",
       "    <tr>\n",
       "      <th>19</th>\n",
       "      <td>7</td>\n",
       "      <td>1</td>\n",
       "      <td>65.448570</td>\n",
       "      <td>1</td>\n",
       "      <td>161.844803</td>\n",
       "      <td>1</td>\n",
       "      <td>24.476290</td>\n",
       "      <td>1</td>\n",
       "      <td>402.000000</td>\n",
       "      <td>1</td>\n",
       "      <td>220.000000</td>\n",
       "      <td>1</td>\n",
       "      <td>1</td>\n",
       "      <td>1</td>\n",
       "    </tr>\n",
       "    <tr>\n",
       "      <th>20</th>\n",
       "      <td>7</td>\n",
       "      <td>1</td>\n",
       "      <td>67.006248</td>\n",
       "      <td>1</td>\n",
       "      <td>192.758163</td>\n",
       "      <td>1</td>\n",
       "      <td>18.695911</td>\n",
       "      <td>1</td>\n",
       "      <td>402.000000</td>\n",
       "      <td>1</td>\n",
       "      <td>221.000000</td>\n",
       "      <td>1</td>\n",
       "      <td>1</td>\n",
       "      <td>1</td>\n",
       "    </tr>\n",
       "    <tr>\n",
       "      <th>21</th>\n",
       "      <td>7</td>\n",
       "      <td>1</td>\n",
       "      <td>67.006248</td>\n",
       "      <td>1</td>\n",
       "      <td>192.758163</td>\n",
       "      <td>1</td>\n",
       "      <td>18.695911</td>\n",
       "      <td>1</td>\n",
       "      <td>402.000000</td>\n",
       "      <td>1</td>\n",
       "      <td>222.000000</td>\n",
       "      <td>1</td>\n",
       "      <td>1</td>\n",
       "      <td>1</td>\n",
       "    </tr>\n",
       "    <tr>\n",
       "      <th>22</th>\n",
       "      <td>7</td>\n",
       "      <td>1</td>\n",
       "      <td>65.448570</td>\n",
       "      <td>1</td>\n",
       "      <td>161.844803</td>\n",
       "      <td>1</td>\n",
       "      <td>24.476290</td>\n",
       "      <td>1</td>\n",
       "      <td>402.000000</td>\n",
       "      <td>1</td>\n",
       "      <td>223.000000</td>\n",
       "      <td>1</td>\n",
       "      <td>1</td>\n",
       "      <td>1</td>\n",
       "    </tr>\n",
       "    <tr>\n",
       "      <th>23</th>\n",
       "      <td>7</td>\n",
       "      <td>1</td>\n",
       "      <td>39.375000</td>\n",
       "      <td>1</td>\n",
       "      <td>9.533246</td>\n",
       "      <td>1</td>\n",
       "      <td>62.483761</td>\n",
       "      <td>1</td>\n",
       "      <td>402.000000</td>\n",
       "      <td>1</td>\n",
       "      <td>560.000000</td>\n",
       "      <td>1</td>\n",
       "      <td>1</td>\n",
       "      <td>1</td>\n",
       "    </tr>\n",
       "    <tr>\n",
       "      <th>24</th>\n",
       "      <td>7</td>\n",
       "      <td>1</td>\n",
       "      <td>22.500000</td>\n",
       "      <td>1</td>\n",
       "      <td>7.009454</td>\n",
       "      <td>1</td>\n",
       "      <td>65.661308</td>\n",
       "      <td>1</td>\n",
       "      <td>402.000000</td>\n",
       "      <td>1</td>\n",
       "      <td>561.000000</td>\n",
       "      <td>1</td>\n",
       "      <td>1</td>\n",
       "      <td>1</td>\n",
       "    </tr>\n",
       "    <tr>\n",
       "      <th>25</th>\n",
       "      <td>7</td>\n",
       "      <td>1</td>\n",
       "      <td>54.061428</td>\n",
       "      <td>1</td>\n",
       "      <td>21.936510</td>\n",
       "      <td>1</td>\n",
       "      <td>53.631584</td>\n",
       "      <td>1</td>\n",
       "      <td>402.000000</td>\n",
       "      <td>1</td>\n",
       "      <td>566.000000</td>\n",
       "      <td>1</td>\n",
       "      <td>1</td>\n",
       "      <td>1</td>\n",
       "    </tr>\n",
       "    <tr>\n",
       "      <th>26</th>\n",
       "      <td>7</td>\n",
       "      <td>1</td>\n",
       "      <td>57.857143</td>\n",
       "      <td>1</td>\n",
       "      <td>47.196831</td>\n",
       "      <td>1</td>\n",
       "      <td>44.822647</td>\n",
       "      <td>1</td>\n",
       "      <td>402.000000</td>\n",
       "      <td>1</td>\n",
       "      <td>624.000000</td>\n",
       "      <td>1</td>\n",
       "      <td>1</td>\n",
       "      <td>1</td>\n",
       "    </tr>\n",
       "    <tr>\n",
       "      <th>27</th>\n",
       "      <td>7</td>\n",
       "      <td>1</td>\n",
       "      <td>54.061428</td>\n",
       "      <td>1</td>\n",
       "      <td>21.936510</td>\n",
       "      <td>1</td>\n",
       "      <td>53.631584</td>\n",
       "      <td>1</td>\n",
       "      <td>402.000000</td>\n",
       "      <td>1</td>\n",
       "      <td>625.000000</td>\n",
       "      <td>1</td>\n",
       "      <td>1</td>\n",
       "      <td>1</td>\n",
       "    </tr>\n",
       "    <tr>\n",
       "      <th>28</th>\n",
       "      <td>7</td>\n",
       "      <td>1</td>\n",
       "      <td>55.224285</td>\n",
       "      <td>1</td>\n",
       "      <td>28.032522</td>\n",
       "      <td>1</td>\n",
       "      <td>50.914413</td>\n",
       "      <td>1</td>\n",
       "      <td>402.000000</td>\n",
       "      <td>1</td>\n",
       "      <td>626.000000</td>\n",
       "      <td>1</td>\n",
       "      <td>1</td>\n",
       "      <td>1</td>\n",
       "    </tr>\n",
       "    <tr>\n",
       "      <th>29</th>\n",
       "      <td>7</td>\n",
       "      <td>1</td>\n",
       "      <td>39.384998</td>\n",
       "      <td>1</td>\n",
       "      <td>216.244278</td>\n",
       "      <td>1</td>\n",
       "      <td>12.808699</td>\n",
       "      <td>1</td>\n",
       "      <td>402.000000</td>\n",
       "      <td>1</td>\n",
       "      <td>796.000000</td>\n",
       "      <td>1</td>\n",
       "      <td>1</td>\n",
       "      <td>1</td>\n",
       "    </tr>\n",
       "    <tr>\n",
       "      <th>30</th>\n",
       "      <td>7</td>\n",
       "      <td>1</td>\n",
       "      <td>27.107500</td>\n",
       "      <td>1</td>\n",
       "      <td>222.248306</td>\n",
       "      <td>1</td>\n",
       "      <td>10.851595</td>\n",
       "      <td>1</td>\n",
       "      <td>402.000000</td>\n",
       "      <td>1</td>\n",
       "      <td>1230.000000</td>\n",
       "      <td>1</td>\n",
       "      <td>1</td>\n",
       "      <td>1</td>\n",
       "    </tr>\n",
       "    <tr>\n",
       "      <th>...</th>\n",
       "      <td>...</td>\n",
       "      <td>...</td>\n",
       "      <td>...</td>\n",
       "      <td>...</td>\n",
       "      <td>...</td>\n",
       "      <td>...</td>\n",
       "      <td>...</td>\n",
       "      <td>...</td>\n",
       "      <td>...</td>\n",
       "      <td>...</td>\n",
       "      <td>...</td>\n",
       "      <td>...</td>\n",
       "      <td>...</td>\n",
       "      <td>...</td>\n",
       "    </tr>\n",
       "    <tr>\n",
       "      <th>691</th>\n",
       "      <td>7</td>\n",
       "      <td>1</td>\n",
       "      <td>-32.373333</td>\n",
       "      <td>1</td>\n",
       "      <td>222.146988</td>\n",
       "      <td>1</td>\n",
       "      <td>10.887039</td>\n",
       "      <td>1</td>\n",
       "      <td>755.000000</td>\n",
       "      <td>1</td>\n",
       "      <td>516.000000</td>\n",
       "      <td>1</td>\n",
       "      <td>1</td>\n",
       "      <td>1</td>\n",
       "    </tr>\n",
       "    <tr>\n",
       "      <th>692</th>\n",
       "      <td>7</td>\n",
       "      <td>1</td>\n",
       "      <td>33.737999</td>\n",
       "      <td>1</td>\n",
       "      <td>115.601807</td>\n",
       "      <td>1</td>\n",
       "      <td>31.871830</td>\n",
       "      <td>1</td>\n",
       "      <td>755.000000</td>\n",
       "      <td>1</td>\n",
       "      <td>787.000000</td>\n",
       "      <td>1</td>\n",
       "      <td>1</td>\n",
       "      <td>1</td>\n",
       "    </tr>\n",
       "    <tr>\n",
       "      <th>693</th>\n",
       "      <td>7</td>\n",
       "      <td>1</td>\n",
       "      <td>64.285713</td>\n",
       "      <td>1</td>\n",
       "      <td>209.610550</td>\n",
       "      <td>1</td>\n",
       "      <td>14.700283</td>\n",
       "      <td>1</td>\n",
       "      <td>759.000000</td>\n",
       "      <td>1</td>\n",
       "      <td>870.000000</td>\n",
       "      <td>1</td>\n",
       "      <td>1</td>\n",
       "      <td>1</td>\n",
       "    </tr>\n",
       "    <tr>\n",
       "      <th>694</th>\n",
       "      <td>7</td>\n",
       "      <td>1</td>\n",
       "      <td>63.721428</td>\n",
       "      <td>1</td>\n",
       "      <td>215.068512</td>\n",
       "      <td>1</td>\n",
       "      <td>13.162086</td>\n",
       "      <td>1</td>\n",
       "      <td>759.000000</td>\n",
       "      <td>1</td>\n",
       "      <td>871.000000</td>\n",
       "      <td>1</td>\n",
       "      <td>1</td>\n",
       "      <td>1</td>\n",
       "    </tr>\n",
       "    <tr>\n",
       "      <th>695</th>\n",
       "      <td>7</td>\n",
       "      <td>1</td>\n",
       "      <td>-30.658333</td>\n",
       "      <td>1</td>\n",
       "      <td>229.017227</td>\n",
       "      <td>1</td>\n",
       "      <td>8.236367</td>\n",
       "      <td>1</td>\n",
       "      <td>760.000000</td>\n",
       "      <td>1</td>\n",
       "      <td>518.000000</td>\n",
       "      <td>1</td>\n",
       "      <td>1</td>\n",
       "      <td>1</td>\n",
       "    </tr>\n",
       "    <tr>\n",
       "      <th>696</th>\n",
       "      <td>7</td>\n",
       "      <td>1</td>\n",
       "      <td>-2.632857</td>\n",
       "      <td>1</td>\n",
       "      <td>21.514002</td>\n",
       "      <td>1</td>\n",
       "      <td>53.844181</td>\n",
       "      <td>1</td>\n",
       "      <td>760.000000</td>\n",
       "      <td>1</td>\n",
       "      <td>792.000000</td>\n",
       "      <td>1</td>\n",
       "      <td>1</td>\n",
       "      <td>1</td>\n",
       "    </tr>\n",
       "    <tr>\n",
       "      <th>697</th>\n",
       "      <td>7</td>\n",
       "      <td>1</td>\n",
       "      <td>55.224285</td>\n",
       "      <td>1</td>\n",
       "      <td>28.032522</td>\n",
       "      <td>1</td>\n",
       "      <td>50.914413</td>\n",
       "      <td>1</td>\n",
       "      <td>760.000000</td>\n",
       "      <td>1</td>\n",
       "      <td>866.000000</td>\n",
       "      <td>1</td>\n",
       "      <td>1</td>\n",
       "      <td>1</td>\n",
       "    </tr>\n",
       "    <tr>\n",
       "      <th>698</th>\n",
       "      <td>7</td>\n",
       "      <td>1</td>\n",
       "      <td>61.652859</td>\n",
       "      <td>1</td>\n",
       "      <td>47.678165</td>\n",
       "      <td>1</td>\n",
       "      <td>44.697987</td>\n",
       "      <td>1</td>\n",
       "      <td>760.000000</td>\n",
       "      <td>1</td>\n",
       "      <td>867.000000</td>\n",
       "      <td>1</td>\n",
       "      <td>1</td>\n",
       "      <td>1</td>\n",
       "    </tr>\n",
       "    <tr>\n",
       "      <th>699</th>\n",
       "      <td>7</td>\n",
       "      <td>1</td>\n",
       "      <td>79.428337</td>\n",
       "      <td>1</td>\n",
       "      <td>222.068848</td>\n",
       "      <td>1</td>\n",
       "      <td>10.914317</td>\n",
       "      <td>1</td>\n",
       "      <td>760.000000</td>\n",
       "      <td>1</td>\n",
       "      <td>868.000000</td>\n",
       "      <td>1</td>\n",
       "      <td>1</td>\n",
       "      <td>1</td>\n",
       "    </tr>\n",
       "    <tr>\n",
       "      <th>700</th>\n",
       "      <td>7</td>\n",
       "      <td>1</td>\n",
       "      <td>68.534286</td>\n",
       "      <td>1</td>\n",
       "      <td>188.829575</td>\n",
       "      <td>1</td>\n",
       "      <td>19.513887</td>\n",
       "      <td>1</td>\n",
       "      <td>760.000000</td>\n",
       "      <td>1</td>\n",
       "      <td>869.000000</td>\n",
       "      <td>1</td>\n",
       "      <td>1</td>\n",
       "      <td>1</td>\n",
       "    </tr>\n",
       "    <tr>\n",
       "      <th>701</th>\n",
       "      <td>7</td>\n",
       "      <td>1</td>\n",
       "      <td>-33.730000</td>\n",
       "      <td>1</td>\n",
       "      <td>225.964462</td>\n",
       "      <td>1</td>\n",
       "      <td>9.481425</td>\n",
       "      <td>1</td>\n",
       "      <td>761.000000</td>\n",
       "      <td>1</td>\n",
       "      <td>518.000000</td>\n",
       "      <td>1</td>\n",
       "      <td>1</td>\n",
       "      <td>1</td>\n",
       "    </tr>\n",
       "    <tr>\n",
       "      <th>702</th>\n",
       "      <td>7</td>\n",
       "      <td>1</td>\n",
       "      <td>-4.428333</td>\n",
       "      <td>1</td>\n",
       "      <td>61.198547</td>\n",
       "      <td>1</td>\n",
       "      <td>41.527107</td>\n",
       "      <td>1</td>\n",
       "      <td>761.000000</td>\n",
       "      <td>1</td>\n",
       "      <td>793.000000</td>\n",
       "      <td>1</td>\n",
       "      <td>1</td>\n",
       "      <td>1</td>\n",
       "    </tr>\n",
       "    <tr>\n",
       "      <th>703</th>\n",
       "      <td>7</td>\n",
       "      <td>1</td>\n",
       "      <td>77.142860</td>\n",
       "      <td>1</td>\n",
       "      <td>202.363434</td>\n",
       "      <td>1</td>\n",
       "      <td>16.533459</td>\n",
       "      <td>1</td>\n",
       "      <td>761.000000</td>\n",
       "      <td>1</td>\n",
       "      <td>865.000000</td>\n",
       "      <td>1</td>\n",
       "      <td>1</td>\n",
       "      <td>1</td>\n",
       "    </tr>\n",
       "    <tr>\n",
       "      <th>704</th>\n",
       "      <td>7</td>\n",
       "      <td>1</td>\n",
       "      <td>21.313334</td>\n",
       "      <td>1</td>\n",
       "      <td>18.056919</td>\n",
       "      <td>1</td>\n",
       "      <td>55.742908</td>\n",
       "      <td>1</td>\n",
       "      <td>761.000000</td>\n",
       "      <td>1</td>\n",
       "      <td>868.000000</td>\n",
       "      <td>1</td>\n",
       "      <td>1</td>\n",
       "      <td>1</td>\n",
       "    </tr>\n",
       "    <tr>\n",
       "      <th>705</th>\n",
       "      <td>7</td>\n",
       "      <td>1</td>\n",
       "      <td>5.314000</td>\n",
       "      <td>1</td>\n",
       "      <td>132.956497</td>\n",
       "      <td>1</td>\n",
       "      <td>29.143555</td>\n",
       "      <td>1</td>\n",
       "      <td>762.000000</td>\n",
       "      <td>1</td>\n",
       "      <td>793.000000</td>\n",
       "      <td>1</td>\n",
       "      <td>1</td>\n",
       "      <td>1</td>\n",
       "    </tr>\n",
       "    <tr>\n",
       "      <th>706</th>\n",
       "      <td>7</td>\n",
       "      <td>6</td>\n",
       "      <td>57.189545</td>\n",
       "      <td>6</td>\n",
       "      <td>166.328964</td>\n",
       "      <td>6</td>\n",
       "      <td>23.238663</td>\n",
       "      <td>6</td>\n",
       "      <td>766.000000</td>\n",
       "      <td>6</td>\n",
       "      <td>788.500000</td>\n",
       "      <td>6</td>\n",
       "      <td>1</td>\n",
       "      <td>6</td>\n",
       "    </tr>\n",
       "    <tr>\n",
       "      <th>707</th>\n",
       "      <td>7</td>\n",
       "      <td>1</td>\n",
       "      <td>30.556250</td>\n",
       "      <td>1</td>\n",
       "      <td>25.178288</td>\n",
       "      <td>1</td>\n",
       "      <td>52.113220</td>\n",
       "      <td>1</td>\n",
       "      <td>765.000000</td>\n",
       "      <td>1</td>\n",
       "      <td>772.000000</td>\n",
       "      <td>1</td>\n",
       "      <td>1</td>\n",
       "      <td>1</td>\n",
       "    </tr>\n",
       "    <tr>\n",
       "      <th>708</th>\n",
       "      <td>7</td>\n",
       "      <td>1</td>\n",
       "      <td>36.181252</td>\n",
       "      <td>1</td>\n",
       "      <td>62.389664</td>\n",
       "      <td>1</td>\n",
       "      <td>41.272694</td>\n",
       "      <td>1</td>\n",
       "      <td>766.000000</td>\n",
       "      <td>1</td>\n",
       "      <td>772.000000</td>\n",
       "      <td>1</td>\n",
       "      <td>1</td>\n",
       "      <td>1</td>\n",
       "    </tr>\n",
       "    <tr>\n",
       "      <th>709</th>\n",
       "      <td>7</td>\n",
       "      <td>1</td>\n",
       "      <td>6.428571</td>\n",
       "      <td>1</td>\n",
       "      <td>14.967848</td>\n",
       "      <td>1</td>\n",
       "      <td>57.748684</td>\n",
       "      <td>1</td>\n",
       "      <td>767.000000</td>\n",
       "      <td>1</td>\n",
       "      <td>774.000000</td>\n",
       "      <td>1</td>\n",
       "      <td>1</td>\n",
       "      <td>1</td>\n",
       "    </tr>\n",
       "    <tr>\n",
       "      <th>710</th>\n",
       "      <td>7</td>\n",
       "      <td>1</td>\n",
       "      <td>26.711250</td>\n",
       "      <td>1</td>\n",
       "      <td>4.257048</td>\n",
       "      <td>1</td>\n",
       "      <td>70.758522</td>\n",
       "      <td>1</td>\n",
       "      <td>768.000000</td>\n",
       "      <td>1</td>\n",
       "      <td>784.000000</td>\n",
       "      <td>1</td>\n",
       "      <td>1</td>\n",
       "      <td>1</td>\n",
       "    </tr>\n",
       "    <tr>\n",
       "      <th>711</th>\n",
       "      <td>7</td>\n",
       "      <td>1</td>\n",
       "      <td>54.342499</td>\n",
       "      <td>1</td>\n",
       "      <td>29.935907</td>\n",
       "      <td>1</td>\n",
       "      <td>50.173264</td>\n",
       "      <td>1</td>\n",
       "      <td>768.000000</td>\n",
       "      <td>1</td>\n",
       "      <td>785.000000</td>\n",
       "      <td>1</td>\n",
       "      <td>1</td>\n",
       "      <td>1</td>\n",
       "    </tr>\n",
       "    <tr>\n",
       "      <th>712</th>\n",
       "      <td>7</td>\n",
       "      <td>1</td>\n",
       "      <td>41.928333</td>\n",
       "      <td>1</td>\n",
       "      <td>44.569134</td>\n",
       "      <td>1</td>\n",
       "      <td>45.521156</td>\n",
       "      <td>1</td>\n",
       "      <td>768.000000</td>\n",
       "      <td>1</td>\n",
       "      <td>787.000000</td>\n",
       "      <td>1</td>\n",
       "      <td>1</td>\n",
       "      <td>1</td>\n",
       "    </tr>\n",
       "    <tr>\n",
       "      <th>713</th>\n",
       "      <td>7</td>\n",
       "      <td>3</td>\n",
       "      <td>51.628098</td>\n",
       "      <td>3</td>\n",
       "      <td>138.423935</td>\n",
       "      <td>3</td>\n",
       "      <td>29.142891</td>\n",
       "      <td>3</td>\n",
       "      <td>778.666667</td>\n",
       "      <td>3</td>\n",
       "      <td>797.333333</td>\n",
       "      <td>3</td>\n",
       "      <td>1</td>\n",
       "      <td>3</td>\n",
       "    </tr>\n",
       "    <tr>\n",
       "      <th>714</th>\n",
       "      <td>7</td>\n",
       "      <td>1</td>\n",
       "      <td>54.342499</td>\n",
       "      <td>1</td>\n",
       "      <td>224.353333</td>\n",
       "      <td>1</td>\n",
       "      <td>10.093019</td>\n",
       "      <td>1</td>\n",
       "      <td>777.000000</td>\n",
       "      <td>1</td>\n",
       "      <td>800.000000</td>\n",
       "      <td>1</td>\n",
       "      <td>1</td>\n",
       "      <td>1</td>\n",
       "    </tr>\n",
       "    <tr>\n",
       "      <th>715</th>\n",
       "      <td>7</td>\n",
       "      <td>1</td>\n",
       "      <td>59.472858</td>\n",
       "      <td>1</td>\n",
       "      <td>193.389725</td>\n",
       "      <td>1</td>\n",
       "      <td>18.561214</td>\n",
       "      <td>1</td>\n",
       "      <td>778.000000</td>\n",
       "      <td>1</td>\n",
       "      <td>798.000000</td>\n",
       "      <td>1</td>\n",
       "      <td>1</td>\n",
       "      <td>1</td>\n",
       "    </tr>\n",
       "    <tr>\n",
       "      <th>716</th>\n",
       "      <td>7</td>\n",
       "      <td>1</td>\n",
       "      <td>57.663750</td>\n",
       "      <td>1</td>\n",
       "      <td>206.651169</td>\n",
       "      <td>1</td>\n",
       "      <td>15.474097</td>\n",
       "      <td>1</td>\n",
       "      <td>778.000000</td>\n",
       "      <td>1</td>\n",
       "      <td>799.000000</td>\n",
       "      <td>1</td>\n",
       "      <td>1</td>\n",
       "      <td>1</td>\n",
       "    </tr>\n",
       "    <tr>\n",
       "      <th>717</th>\n",
       "      <td>7</td>\n",
       "      <td>1</td>\n",
       "      <td>55.360001</td>\n",
       "      <td>1</td>\n",
       "      <td>37.344028</td>\n",
       "      <td>1</td>\n",
       "      <td>47.627426</td>\n",
       "      <td>1</td>\n",
       "      <td>779.000000</td>\n",
       "      <td>1</td>\n",
       "      <td>795.000000</td>\n",
       "      <td>1</td>\n",
       "      <td>1</td>\n",
       "      <td>1</td>\n",
       "    </tr>\n",
       "    <tr>\n",
       "      <th>718</th>\n",
       "      <td>7</td>\n",
       "      <td>1</td>\n",
       "      <td>61.875000</td>\n",
       "      <td>1</td>\n",
       "      <td>59.868324</td>\n",
       "      <td>1</td>\n",
       "      <td>41.815269</td>\n",
       "      <td>1</td>\n",
       "      <td>779.000000</td>\n",
       "      <td>1</td>\n",
       "      <td>796.000000</td>\n",
       "      <td>1</td>\n",
       "      <td>1</td>\n",
       "      <td>1</td>\n",
       "    </tr>\n",
       "    <tr>\n",
       "      <th>719</th>\n",
       "      <td>7</td>\n",
       "      <td>1</td>\n",
       "      <td>72.330002</td>\n",
       "      <td>1</td>\n",
       "      <td>200.441238</td>\n",
       "      <td>1</td>\n",
       "      <td>16.987574</td>\n",
       "      <td>1</td>\n",
       "      <td>779.000000</td>\n",
       "      <td>1</td>\n",
       "      <td>797.000000</td>\n",
       "      <td>1</td>\n",
       "      <td>1</td>\n",
       "      <td>1</td>\n",
       "    </tr>\n",
       "    <tr>\n",
       "      <th>720</th>\n",
       "      <td>7</td>\n",
       "      <td>1</td>\n",
       "      <td>64.285713</td>\n",
       "      <td>1</td>\n",
       "      <td>174.467499</td>\n",
       "      <td>1</td>\n",
       "      <td>22.269224</td>\n",
       "      <td>1</td>\n",
       "      <td>779.000000</td>\n",
       "      <td>1</td>\n",
       "      <td>798.000000</td>\n",
       "      <td>1</td>\n",
       "      <td>1</td>\n",
       "      <td>1</td>\n",
       "    </tr>\n",
       "  </tbody>\n",
       "</table>\n",
       "<p>719 rows × 14 columns</p>\n",
       "</div>"
      ],
      "text/plain": [
       "      longueur            angle            weight        precision        \\\n",
       "          mean count       mean count        mean count       mean count   \n",
       "group                                                                      \n",
       "1            7     3 -16.584127     3   30.698593     3  50.291004     3   \n",
       "2            7     1  68.534286     1  206.469620     1  15.520367     1   \n",
       "3            7     3  45.041550     3   86.994301     3  41.027340     3   \n",
       "4            7     1  57.513332     1  210.000854     1  14.595321     1   \n",
       "5            7    83  50.694473    83  189.651169    83  18.722481    83   \n",
       "6            7     1  59.561111     1  198.477539     1  17.439621     1   \n",
       "7            7     1  64.285713     1  187.353317     1  19.813021     1   \n",
       "8            7    84  49.810238    84  176.023453    84  21.717052    84   \n",
       "9            7     1  20.302856     1   16.944448     1  56.425640     1   \n",
       "10           7     2  33.459286     2   19.286440     2  55.471756     2   \n",
       "11           7     3  55.594643     3  216.942535     3  12.240467     3   \n",
       "12           7     1  68.913750     1  210.158768     1  14.552647     1   \n",
       "13           7     1 -34.639999     1   34.410900     1  48.579285     1   \n",
       "14           7     1  67.006248     1  208.213287     1  15.070362     1   \n",
       "15           7     1  63.304443     1  201.135040     1  16.825037     1   \n",
       "16           7     1  59.571251     1  178.042679     1  21.612276     1   \n",
       "17           7     1  54.208889     1  197.949036     1  17.559353     1   \n",
       "18           7     1  58.310001     1  208.170868     1  15.081461     1   \n",
       "19           7     1  65.448570     1  161.844803     1  24.476290     1   \n",
       "20           7     1  67.006248     1  192.758163     1  18.695911     1   \n",
       "21           7     1  67.006248     1  192.758163     1  18.695911     1   \n",
       "22           7     1  65.448570     1  161.844803     1  24.476290     1   \n",
       "23           7     1  39.375000     1    9.533246     1  62.483761     1   \n",
       "24           7     1  22.500000     1    7.009454     1  65.661308     1   \n",
       "25           7     1  54.061428     1   21.936510     1  53.631584     1   \n",
       "26           7     1  57.857143     1   47.196831     1  44.822647     1   \n",
       "27           7     1  54.061428     1   21.936510     1  53.631584     1   \n",
       "28           7     1  55.224285     1   28.032522     1  50.914413     1   \n",
       "29           7     1  39.384998     1  216.244278     1  12.808699     1   \n",
       "30           7     1  27.107500     1  222.248306     1  10.851595     1   \n",
       "...        ...   ...        ...   ...         ...   ...        ...   ...   \n",
       "691          7     1 -32.373333     1  222.146988     1  10.887039     1   \n",
       "692          7     1  33.737999     1  115.601807     1  31.871830     1   \n",
       "693          7     1  64.285713     1  209.610550     1  14.700283     1   \n",
       "694          7     1  63.721428     1  215.068512     1  13.162086     1   \n",
       "695          7     1 -30.658333     1  229.017227     1   8.236367     1   \n",
       "696          7     1  -2.632857     1   21.514002     1  53.844181     1   \n",
       "697          7     1  55.224285     1   28.032522     1  50.914413     1   \n",
       "698          7     1  61.652859     1   47.678165     1  44.697987     1   \n",
       "699          7     1  79.428337     1  222.068848     1  10.914317     1   \n",
       "700          7     1  68.534286     1  188.829575     1  19.513887     1   \n",
       "701          7     1 -33.730000     1  225.964462     1   9.481425     1   \n",
       "702          7     1  -4.428333     1   61.198547     1  41.527107     1   \n",
       "703          7     1  77.142860     1  202.363434     1  16.533459     1   \n",
       "704          7     1  21.313334     1   18.056919     1  55.742908     1   \n",
       "705          7     1   5.314000     1  132.956497     1  29.143555     1   \n",
       "706          7     6  57.189545     6  166.328964     6  23.238663     6   \n",
       "707          7     1  30.556250     1   25.178288     1  52.113220     1   \n",
       "708          7     1  36.181252     1   62.389664     1  41.272694     1   \n",
       "709          7     1   6.428571     1   14.967848     1  57.748684     1   \n",
       "710          7     1  26.711250     1    4.257048     1  70.758522     1   \n",
       "711          7     1  54.342499     1   29.935907     1  50.173264     1   \n",
       "712          7     1  41.928333     1   44.569134     1  45.521156     1   \n",
       "713          7     3  51.628098     3  138.423935     3  29.142891     3   \n",
       "714          7     1  54.342499     1  224.353333     1  10.093019     1   \n",
       "715          7     1  59.472858     1  193.389725     1  18.561214     1   \n",
       "716          7     1  57.663750     1  206.651169     1  15.474097     1   \n",
       "717          7     1  55.360001     1   37.344028     1  47.627426     1   \n",
       "718          7     1  61.875000     1   59.868324     1  41.815269     1   \n",
       "719          7     1  72.330002     1  200.441238     1  16.987574     1   \n",
       "720          7     1  64.285713     1  174.467499     1  22.269224     1   \n",
       "\n",
       "             xPos               yPos       layer        \n",
       "             mean count         mean count  mean count  \n",
       "group                                                   \n",
       "1      401.333333     3    72.666667     3     1     3  \n",
       "2      403.000000     1    81.000000     1     1     1  \n",
       "3      403.000000     3    81.333333     3     1     3  \n",
       "4      401.000000     1    86.000000     1     1     1  \n",
       "5      423.614458    83   174.493976    83     1    83  \n",
       "6      401.000000     1   206.000000     1     1     1  \n",
       "7      401.000000     1   207.000000     1     1     1  \n",
       "8      427.428571    84   186.321429    84     1    84  \n",
       "9      401.000000     1   562.000000     1     1     1  \n",
       "10     401.500000     2   561.000000     2     1     2  \n",
       "11     403.000000     3   794.666667     3     1     3  \n",
       "12     403.000000     1    82.000000     1     1     1  \n",
       "13     402.000000     1    74.000000     1     1     1  \n",
       "14     402.000000     1    83.000000     1     1     1  \n",
       "15     402.000000     1    84.000000     1     1     1  \n",
       "16     402.000000     1    85.000000     1     1     1  \n",
       "17     402.000000     1   204.000000     1     1     1  \n",
       "18     402.000000     1   205.000000     1     1     1  \n",
       "19     402.000000     1   220.000000     1     1     1  \n",
       "20     402.000000     1   221.000000     1     1     1  \n",
       "21     402.000000     1   222.000000     1     1     1  \n",
       "22     402.000000     1   223.000000     1     1     1  \n",
       "23     402.000000     1   560.000000     1     1     1  \n",
       "24     402.000000     1   561.000000     1     1     1  \n",
       "25     402.000000     1   566.000000     1     1     1  \n",
       "26     402.000000     1   624.000000     1     1     1  \n",
       "27     402.000000     1   625.000000     1     1     1  \n",
       "28     402.000000     1   626.000000     1     1     1  \n",
       "29     402.000000     1   796.000000     1     1     1  \n",
       "30     402.000000     1  1230.000000     1     1     1  \n",
       "...           ...   ...          ...   ...   ...   ...  \n",
       "691    755.000000     1   516.000000     1     1     1  \n",
       "692    755.000000     1   787.000000     1     1     1  \n",
       "693    759.000000     1   870.000000     1     1     1  \n",
       "694    759.000000     1   871.000000     1     1     1  \n",
       "695    760.000000     1   518.000000     1     1     1  \n",
       "696    760.000000     1   792.000000     1     1     1  \n",
       "697    760.000000     1   866.000000     1     1     1  \n",
       "698    760.000000     1   867.000000     1     1     1  \n",
       "699    760.000000     1   868.000000     1     1     1  \n",
       "700    760.000000     1   869.000000     1     1     1  \n",
       "701    761.000000     1   518.000000     1     1     1  \n",
       "702    761.000000     1   793.000000     1     1     1  \n",
       "703    761.000000     1   865.000000     1     1     1  \n",
       "704    761.000000     1   868.000000     1     1     1  \n",
       "705    762.000000     1   793.000000     1     1     1  \n",
       "706    766.000000     6   788.500000     6     1     6  \n",
       "707    765.000000     1   772.000000     1     1     1  \n",
       "708    766.000000     1   772.000000     1     1     1  \n",
       "709    767.000000     1   774.000000     1     1     1  \n",
       "710    768.000000     1   784.000000     1     1     1  \n",
       "711    768.000000     1   785.000000     1     1     1  \n",
       "712    768.000000     1   787.000000     1     1     1  \n",
       "713    778.666667     3   797.333333     3     1     3  \n",
       "714    777.000000     1   800.000000     1     1     1  \n",
       "715    778.000000     1   798.000000     1     1     1  \n",
       "716    778.000000     1   799.000000     1     1     1  \n",
       "717    779.000000     1   795.000000     1     1     1  \n",
       "718    779.000000     1   796.000000     1     1     1  \n",
       "719    779.000000     1   797.000000     1     1     1  \n",
       "720    779.000000     1   798.000000     1     1     1  \n",
       "\n",
       "[719 rows x 14 columns]"
      ]
     },
     "execution_count": 68,
     "metadata": {},
     "output_type": "execute_result"
    }
   ],
   "source": [
    "titi.groupby('group').agg(['mean', 'count'])"
   ]
  },
  {
   "cell_type": "code",
   "execution_count": 69,
   "metadata": {
    "ExecuteTime": {
     "end_time": "2019-07-18T17:41:23.417527Z",
     "start_time": "2019-07-18T17:41:23.397727Z"
    }
   },
   "outputs": [
    {
     "data": {
      "text/html": [
       "<div>\n",
       "<style scoped>\n",
       "    .dataframe tbody tr th:only-of-type {\n",
       "        vertical-align: middle;\n",
       "    }\n",
       "\n",
       "    .dataframe tbody tr th {\n",
       "        vertical-align: top;\n",
       "    }\n",
       "\n",
       "    .dataframe thead th {\n",
       "        text-align: right;\n",
       "    }\n",
       "</style>\n",
       "<table border=\"1\" class=\"dataframe\">\n",
       "  <thead>\n",
       "    <tr style=\"text-align: right;\">\n",
       "      <th></th>\n",
       "      <th>longueur</th>\n",
       "      <th>angle</th>\n",
       "      <th>weight</th>\n",
       "      <th>precision</th>\n",
       "      <th>xPos</th>\n",
       "      <th>yPos</th>\n",
       "      <th>group</th>\n",
       "      <th>layer</th>\n",
       "    </tr>\n",
       "  </thead>\n",
       "  <tbody>\n",
       "    <tr>\n",
       "      <th>1506</th>\n",
       "      <td>7</td>\n",
       "      <td>54.342499</td>\n",
       "      <td>224.353333</td>\n",
       "      <td>10.093019</td>\n",
       "      <td>777</td>\n",
       "      <td>800</td>\n",
       "      <td>714</td>\n",
       "      <td>1</td>\n",
       "    </tr>\n",
       "    <tr>\n",
       "      <th>1507</th>\n",
       "      <td>7</td>\n",
       "      <td>59.472858</td>\n",
       "      <td>193.389725</td>\n",
       "      <td>18.561214</td>\n",
       "      <td>778</td>\n",
       "      <td>798</td>\n",
       "      <td>715</td>\n",
       "      <td>1</td>\n",
       "    </tr>\n",
       "    <tr>\n",
       "      <th>1508</th>\n",
       "      <td>7</td>\n",
       "      <td>57.663750</td>\n",
       "      <td>206.651169</td>\n",
       "      <td>15.474097</td>\n",
       "      <td>778</td>\n",
       "      <td>799</td>\n",
       "      <td>716</td>\n",
       "      <td>1</td>\n",
       "    </tr>\n",
       "    <tr>\n",
       "      <th>1511</th>\n",
       "      <td>7</td>\n",
       "      <td>72.330002</td>\n",
       "      <td>200.441238</td>\n",
       "      <td>16.987574</td>\n",
       "      <td>779</td>\n",
       "      <td>797</td>\n",
       "      <td>719</td>\n",
       "      <td>1</td>\n",
       "    </tr>\n",
       "    <tr>\n",
       "      <th>1512</th>\n",
       "      <td>7</td>\n",
       "      <td>64.285713</td>\n",
       "      <td>174.467499</td>\n",
       "      <td>22.269224</td>\n",
       "      <td>779</td>\n",
       "      <td>798</td>\n",
       "      <td>720</td>\n",
       "      <td>1</td>\n",
       "    </tr>\n",
       "    <tr>\n",
       "      <th>1514</th>\n",
       "      <td>7</td>\n",
       "      <td>20.448572</td>\n",
       "      <td>28.540234</td>\n",
       "      <td>50.712524</td>\n",
       "      <td>780</td>\n",
       "      <td>797</td>\n",
       "      <td>713</td>\n",
       "      <td>1</td>\n",
       "    </tr>\n",
       "  </tbody>\n",
       "</table>\n",
       "</div>"
      ],
      "text/plain": [
       "      longueur      angle      weight  precision  xPos  yPos  group  layer\n",
       "1506         7  54.342499  224.353333  10.093019   777   800    714      1\n",
       "1507         7  59.472858  193.389725  18.561214   778   798    715      1\n",
       "1508         7  57.663750  206.651169  15.474097   778   799    716      1\n",
       "1511         7  72.330002  200.441238  16.987574   779   797    719      1\n",
       "1512         7  64.285713  174.467499  22.269224   779   798    720      1\n",
       "1514         7  20.448572   28.540234  50.712524   780   797    713      1"
      ]
     },
     "execution_count": 69,
     "metadata": {},
     "output_type": "execute_result"
    }
   ],
   "source": [
    "closestFieldNeurons(titi, 779, 799, 3)"
   ]
  },
  {
   "cell_type": "code",
   "execution_count": 70,
   "metadata": {
    "ExecuteTime": {
     "end_time": "2019-07-18T17:41:23.737297Z",
     "start_time": "2019-07-18T17:41:23.420390Z"
    }
   },
   "outputs": [
    {
     "data": {
      "text/plain": [
       "<matplotlib.axes._subplots.AxesSubplot at 0x124125cc0>"
      ]
     },
     "execution_count": 70,
     "metadata": {},
     "output_type": "execute_result"
    },
    {
     "data": {
      "image/png": "[encoded data removed]",
      "text/plain": [
       "<Figure size 432x288 with 1 Axes>"
      ]
     },
     "metadata": {
      "needs_background": "light"
     },
     "output_type": "display_data"
    }
   ],
   "source": [
    "titi.groupby('group').size().hist()"
   ]
  },
  {
   "cell_type": "code",
   "execution_count": 71,
   "metadata": {
    "ExecuteTime": {
     "end_time": "2019-07-18T17:41:23.748075Z",
     "start_time": "2019-07-18T17:41:23.741520Z"
    }
   },
   "outputs": [],
   "source": [
    "resultGroup = titi.groupby('group').size()"
   ]
  },
  {
   "cell_type": "code",
   "execution_count": 72,
   "metadata": {
    "ExecuteTime": {
     "end_time": "2019-07-18T17:41:23.766348Z",
     "start_time": "2019-07-18T17:41:23.751547Z"
    }
   },
   "outputs": [
    {
     "data": {
      "text/plain": [
       "group\n",
       "5      83\n",
       "8      84\n",
       "70     12\n",
       "170    17\n",
       "187    28\n",
       "204    13\n",
       "230    25\n",
       "244    18\n",
       "251    22\n",
       "254    18\n",
       "267    19\n",
       "285    19\n",
       "289    22\n",
       "380    11\n",
       "387    13\n",
       "417    19\n",
       "439    11\n",
       "545    21\n",
       "579    60\n",
       "637    22\n",
       "650    40\n",
       "651    25\n",
       "673    25\n",
       "dtype: int64"
      ]
     },
     "execution_count": 72,
     "metadata": {},
     "output_type": "execute_result"
    }
   ],
   "source": [
    "resultGroup[resultGroup>10]"
   ]
  },
  {
   "cell_type": "code",
   "execution_count": 73,
   "metadata": {
    "ExecuteTime": {
     "end_time": "2019-07-18T17:41:24.666791Z",
     "start_time": "2019-07-18T17:41:23.769755Z"
    }
   },
   "outputs": [
    {
     "data": {
      "image/png": "[encoded data removed]",
      "text/plain": [
       "<Figure size 432x288 with 1 Axes>"
      ]
     },
     "metadata": {
      "needs_background": "light"
     },
     "output_type": "display_data"
    }
   ],
   "source": [
    "testBitmap = np.zeros(frame.shape)\n",
    "testBitmap = drawFieldNeurons(titi,testBitmap)\n",
    "imgplot = plt.imshow(testBitmap)"
   ]
  },
  {
   "cell_type": "code",
   "execution_count": 78,
   "metadata": {
    "ExecuteTime": {
     "end_time": "2019-07-18T17:45:34.929581Z",
     "start_time": "2019-07-18T17:45:34.757052Z"
    }
   },
   "outputs": [],
   "source": [
    "lintI = 0\n",
    "while (lintI < 10):\n",
    "    cv2.imshow('Canny', testBitmap)\n",
    "    if cv2.waitKey(1) & 0xFF == ord('q'):  # press q to quit\n",
    "        break\n",
    "    lintI += 1"
   ]
  },
  {
   "cell_type": "code",
   "execution_count": 76,
   "metadata": {
    "ExecuteTime": {
     "end_time": "2019-07-18T17:44:08.591894Z",
     "start_time": "2019-07-18T17:44:08.517103Z"
    }
   },
   "outputs": [
    {
     "data": {
      "text/html": [
       "<div>\n",
       "<style scoped>\n",
       "    .dataframe tbody tr th:only-of-type {\n",
       "        vertical-align: middle;\n",
       "    }\n",
       "\n",
       "    .dataframe tbody tr th {\n",
       "        vertical-align: top;\n",
       "    }\n",
       "\n",
       "    .dataframe thead th {\n",
       "        text-align: right;\n",
       "    }\n",
       "</style>\n",
       "<table border=\"1\" class=\"dataframe\">\n",
       "  <thead>\n",
       "    <tr style=\"text-align: right;\">\n",
       "      <th></th>\n",
       "      <th>longueur</th>\n",
       "      <th>angle</th>\n",
       "      <th>weight</th>\n",
       "      <th>precision</th>\n",
       "      <th>xPos</th>\n",
       "      <th>yPos</th>\n",
       "      <th>group</th>\n",
       "      <th>layer</th>\n",
       "    </tr>\n",
       "  </thead>\n",
       "  <tbody>\n",
       "    <tr>\n",
       "      <th>count</th>\n",
       "      <td>1515.0</td>\n",
       "      <td>1515.000000</td>\n",
       "      <td>1515.000000</td>\n",
       "      <td>1515.000000</td>\n",
       "      <td>1515.000000</td>\n",
       "      <td>1515.000000</td>\n",
       "      <td>1515.000000</td>\n",
       "      <td>1515.0</td>\n",
       "    </tr>\n",
       "    <tr>\n",
       "      <th>mean</th>\n",
       "      <td>7.0</td>\n",
       "      <td>29.927622</td>\n",
       "      <td>134.548584</td>\n",
       "      <td>30.581026</td>\n",
       "      <td>578.699010</td>\n",
       "      <td>593.918152</td>\n",
       "      <td>339.048845</td>\n",
       "      <td>1.0</td>\n",
       "    </tr>\n",
       "    <tr>\n",
       "      <th>std</th>\n",
       "      <td>0.0</td>\n",
       "      <td>33.965427</td>\n",
       "      <td>86.172958</td>\n",
       "      <td>19.807312</td>\n",
       "      <td>123.133523</td>\n",
       "      <td>286.638927</td>\n",
       "      <td>223.527925</td>\n",
       "      <td>0.0</td>\n",
       "    </tr>\n",
       "    <tr>\n",
       "      <th>min</th>\n",
       "      <td>7.0</td>\n",
       "      <td>-55.677143</td>\n",
       "      <td>1.950733</td>\n",
       "      <td>0.000000</td>\n",
       "      <td>401.000000</td>\n",
       "      <td>56.000000</td>\n",
       "      <td>1.000000</td>\n",
       "      <td>1.0</td>\n",
       "    </tr>\n",
       "    <tr>\n",
       "      <th>25%</th>\n",
       "      <td>7.0</td>\n",
       "      <td>3.071667</td>\n",
       "      <td>33.061687</td>\n",
       "      <td>14.824060</td>\n",
       "      <td>457.000000</td>\n",
       "      <td>460.000000</td>\n",
       "      <td>164.500000</td>\n",
       "      <td>1.0</td>\n",
       "    </tr>\n",
       "    <tr>\n",
       "      <th>50%</th>\n",
       "      <td>7.0</td>\n",
       "      <td>42.367142</td>\n",
       "      <td>179.661392</td>\n",
       "      <td>21.309187</td>\n",
       "      <td>553.000000</td>\n",
       "      <td>623.000000</td>\n",
       "      <td>317.000000</td>\n",
       "      <td>1.0</td>\n",
       "    </tr>\n",
       "    <tr>\n",
       "      <th>75%</th>\n",
       "      <td>7.0</td>\n",
       "      <td>56.951166</td>\n",
       "      <td>209.146645</td>\n",
       "      <td>49.040255</td>\n",
       "      <td>698.000000</td>\n",
       "      <td>723.000000</td>\n",
       "      <td>551.500000</td>\n",
       "      <td>1.0</td>\n",
       "    </tr>\n",
       "    <tr>\n",
       "      <th>max</th>\n",
       "      <td>7.0</td>\n",
       "      <td>90.000000</td>\n",
       "      <td>242.906403</td>\n",
       "      <td>78.653786</td>\n",
       "      <td>780.000000</td>\n",
       "      <td>1230.000000</td>\n",
       "      <td>720.000000</td>\n",
       "      <td>1.0</td>\n",
       "    </tr>\n",
       "  </tbody>\n",
       "</table>\n",
       "</div>"
      ],
      "text/plain": [
       "       longueur        angle       weight    precision         xPos  \\\n",
       "count    1515.0  1515.000000  1515.000000  1515.000000  1515.000000   \n",
       "mean        7.0    29.927622   134.548584    30.581026   578.699010   \n",
       "std         0.0    33.965427    86.172958    19.807312   123.133523   \n",
       "min         7.0   -55.677143     1.950733     0.000000   401.000000   \n",
       "25%         7.0     3.071667    33.061687    14.824060   457.000000   \n",
       "50%         7.0    42.367142   179.661392    21.309187   553.000000   \n",
       "75%         7.0    56.951166   209.146645    49.040255   698.000000   \n",
       "max         7.0    90.000000   242.906403    78.653786   780.000000   \n",
       "\n",
       "              yPos        group   layer  \n",
       "count  1515.000000  1515.000000  1515.0  \n",
       "mean    593.918152   339.048845     1.0  \n",
       "std     286.638927   223.527925     0.0  \n",
       "min      56.000000     1.000000     1.0  \n",
       "25%     460.000000   164.500000     1.0  \n",
       "50%     623.000000   317.000000     1.0  \n",
       "75%     723.000000   551.500000     1.0  \n",
       "max    1230.000000   720.000000     1.0  "
      ]
     },
     "execution_count": 76,
     "metadata": {},
     "output_type": "execute_result"
    }
   ],
   "source": [
    "titi.describe()"
   ]
  },
  {
   "cell_type": "code",
   "execution_count": null,
   "metadata": {},
   "outputs": [],
   "source": []
  }
 ],
 "metadata": {
  "kernelspec": {
   "display_name": "Python 3",
   "language": "python",
   "name": "python3"
  },
  "language_info": {
   "codemirror_mode": {
    "name": "ipython",
    "version": 3
   },
   "file_extension": ".py",
   "mimetype": "text/x-python",
   "name": "python",
   "nbconvert_exporter": "python",
   "pygments_lexer": "ipython3",
   "version": "3.7.3"
  },
  "toc": {
   "base_numbering": 1,
   "nav_menu": {},
   "number_sections": true,
   "sideBar": true,
   "skip_h1_title": false,
   "title_cell": "Table of Contents",
   "title_sidebar": "Contents",
   "toc_cell": false,
   "toc_position": {},
   "toc_section_display": true,
   "toc_window_display": true
  },
  "varInspector": {
   "cols": {
    "lenName": 16,
    "lenType": 16,
    "lenVar": 40
   },
   "kernels_config": {
    "python": {
     "delete_cmd_postfix": "",
     "delete_cmd_prefix": "del ",
     "library": "var_list.py",
     "varRefreshCmd": "print(var_dic_list())"
    },
    "r": {
     "delete_cmd_postfix": ") ",
     "delete_cmd_prefix": "rm(",
     "library": "var_list.r",
     "varRefreshCmd": "cat(var_dic_list()) "
    }
   },
   "types_to_exclude": [
    "module",
    "function",
    "builtin_function_or_method",
    "instance",
    "_Feature"
   ],
   "window_display": false
  }
 },
 "nbformat": 4,
 "nbformat_minor": 2
}
