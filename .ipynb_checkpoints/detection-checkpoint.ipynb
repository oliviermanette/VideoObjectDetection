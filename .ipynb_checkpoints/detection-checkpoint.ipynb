{
 "cells": [
  {
   "cell_type": "code",
   "execution_count": 1,
   "metadata": {
    "ExecuteTime": {
     "end_time": "2019-07-18T14:25:19.390176Z",
     "start_time": "2019-07-18T14:25:18.166455Z"
    }
   },
   "outputs": [],
   "source": [
    "import cv2\n",
    "print(cv2.__version__)\n",
    "import matplotlib\n",
    "import matplotlib.pyplot as plt\n",
    "import numpy as np\n",
    "import os\n",
    "from numba import jit"
   ]
  },
  {
   "cell_type": "code",
   "execution_count": 4,
   "metadata": {
    "ExecuteTime": {
     "end_time": "2019-07-18T14:25:19.434041Z",
     "start_time": "2019-07-18T14:25:19.427061Z"
    }
   },
   "outputs": [],
   "source": [
    "path = \"/Users/oliviermanette/Desktop/trailer detection challenge/data/P473_Arizona_Day_Asphalt_Close_To_Sunset_dry_Nominal_8300lx\"\n",
    "os.chdir(path)\n",
    "#cd \"/Users/oliviermanette/OneDrive\\ -\\ FLod.aero/challenge_9934207_training/P473_Arizona_Day_Asphalt_Close_To_Sunset_dry_Nominal_8300lx\"\n",
    "#cd \"\\Users\\oliviermanette\\\""
   ]
  },
  {
   "cell_type": "code",
   "execution_count": 5,
   "metadata": {
    "ExecuteTime": {
     "end_time": "2019-07-18T14:25:19.483137Z",
     "start_time": "2019-07-18T14:25:19.437614Z"
    }
   },
   "outputs": [
    {
     "data": {
      "text/plain": [
       "'/Users/oliviermanette/Desktop/trailer detection challenge/data/P473_Arizona_Day_Asphalt_Close_To_Sunset_dry_Nominal_8300lx'"
      ]
     },
     "execution_count": 5,
     "metadata": {},
     "output_type": "execute_result"
    }
   ],
   "source": [
    "pwd"
   ]
  },
  {
   "cell_type": "code",
   "execution_count": 6,
   "metadata": {
    "ExecuteTime": {
     "end_time": "2019-07-18T14:25:19.665994Z",
     "start_time": "2019-07-18T14:25:19.488243Z"
    }
   },
   "outputs": [
    {
     "name": "stdout",
     "output_type": "stream",
     "text": [
      "\u001b[1m\u001b[32mP473_Arizona_Day_Asphalt_Close_To_Sunset_dry_Nominal_8300lx.avi\u001b[m\u001b[m*\r\n",
      "\u001b[1m\u001b[32mP473_Arizona_Day_Asphalt_Close_To_Sunset_dry_Nominal_8300lx.dat_GT.csv\u001b[m\u001b[m*\r\n"
     ]
    }
   ],
   "source": [
    "ls"
   ]
  },
  {
   "cell_type": "code",
   "execution_count": 7,
   "metadata": {
    "ExecuteTime": {
     "end_time": "2019-07-18T14:25:19.678075Z",
     "start_time": "2019-07-18T14:25:19.673752Z"
    }
   },
   "outputs": [],
   "source": [
    "#fileName='W420_ES_Hi_Snow_Slush_Asphalt_28klux.avi'\n",
    "fileName='P473_Arizona_Day_Asphalt_Close_To_Sunset_dry_Nominal_8300lx.avi'"
   ]
  },
  {
   "cell_type": "code",
   "execution_count": 8,
   "metadata": {
    "ExecuteTime": {
     "end_time": "2019-07-18T14:26:28.631319Z",
     "start_time": "2019-07-18T14:25:19.683653Z"
    }
   },
   "outputs": [],
   "source": [
    "cap = cv2.VideoCapture(fileName)  # load the video\n",
    "while (cap.isOpened()):  # play the video by reading frame by frame\n",
    "    ret, frame = cap.read()\n",
    "    if ret == True:\n",
    "        # optional: do some image processing here\n",
    "        cv2.imshow('frame', frame)\n",
    "        # show the video\n",
    "        if cv2.waitKey(1) & 0xFF == ord('q'):\n",
    "            #if 0xFF == ord('q'):\n",
    "            break\n",
    "    else:\n",
    "        break\n",
    "cap.release()\n",
    "cv2.destroyAllWindows()"
   ]
  },
  {
   "cell_type": "code",
   "execution_count": 46,
   "metadata": {
    "ExecuteTime": {
     "end_time": "2019-07-18T14:26:53.989788Z",
     "start_time": "2019-07-18T14:26:53.982265Z"
    }
   },
   "outputs": [],
   "source": [
    "posType = np.dtype([('x', 'u1'), ('y', 'u2')])\n",
    "\n",
    "lNeuronType = np.dtype([('longueur', 'u1'), ('angle', 'f4'), ('weight', 'f4'),\n",
    "                        ('precision', 'f4'), ('xPos', 'u1'), ('yPos', 'u2'),\n",
    "                        ('group', 'u1'), ('layer', 'u1')])"
   ]
  },
  {
   "cell_type": "code",
   "execution_count": null,
   "metadata": {
    "ExecuteTime": {
     "end_time": "2019-07-18T14:27:09.227762Z",
     "start_time": "2019-07-18T14:25:18.802Z"
    }
   },
   "outputs": [],
   "source": [
    "def getAvgFieldNeuron(neuronList, typeList=lNeuronType):\n",
    "    lNeurons = np.zeros(1, dtype=typeList)\n",
    "    lpNeurons = pd.DataFrame(lNeurons)\n",
    "    lpNeurons['longueur'] = int(neuronList.longueur[0:1])\n",
    "    lpNeurons['angle'] = float(\n",
    "        np.sum((closest.angle * closest.weight) / np.sum(closest.weight)))\n",
    "    lpNeurons['weight'] = float(\n",
    "        np.sum((closest.weight * closest.weight) / np.sum(closest.weight)))\n",
    "    lpNeurons['precision'] = float(\n",
    "        np.sum((closest.precision * closest.weight) / np.sum(closest.weight)))\n",
    "    lpNeurons['xPos'] = int(\n",
    "        np.sum((closest.xPos * closest.weight) / np.sum(closest.weight)))\n",
    "    lpNeurons['yPos'] = int(\n",
    "        np.sum((closest.yPos * closest.weight) / np.sum(closest.weight)))\n",
    "    return lpNeurons"
   ]
  },
  {
   "cell_type": "code",
   "execution_count": 34,
   "metadata": {
    "ExecuteTime": {
     "end_time": "2019-07-18T14:26:52.252959Z",
     "start_time": "2019-07-18T14:26:52.239665Z"
    }
   },
   "outputs": [],
   "source": [
    "@jit(nopython=True, parallel=True)\n",
    "def fillAngleMat(size):\n",
    "    output = np.zeros((size, size))\n",
    "    offset = int(np.floor(size / 2))\n",
    "    for x in range(0, size):\n",
    "        for y in range(0, size):\n",
    "            if (x - offset) == 0:\n",
    "                output[x, y] = 90\n",
    "            else:\n",
    "                output[x, y] = np.around(\n",
    "                    np.arctan((y - offset) / (offset - x)) / pi * 180, 2)\n",
    "    output[offset, offset] = 0\n",
    "    return output"
   ]
  },
  {
   "cell_type": "code",
   "execution_count": 43,
   "metadata": {
    "ExecuteTime": {
     "end_time": "2019-07-18T14:26:53.075877Z",
     "start_time": "2019-07-18T14:26:53.066061Z"
    }
   },
   "outputs": [],
   "source": [
    "@jit(nopython=True, parallel=True)\n",
    "def sigmoidActivationFctN1(activationVector):\n",
    "    lDenom = (1 + np.exp(0.1 * (np.abs(np.std(activationVector)) - 30)))\n",
    "    return 255 / lDenom"
   ]
  },
  {
   "cell_type": "code",
   "execution_count": 59,
   "metadata": {
    "ExecuteTime": {
     "end_time": "2019-07-18T14:26:55.020516Z",
     "start_time": "2019-07-18T14:26:54.975827Z"
    }
   },
   "outputs": [],
   "source": [
    "#@jit(nopython=True, parallel=True)\n",
    "def getNeuronActivationList(idxX, idxY, size, frameE, nbPixelPts, layer=1):\n",
    "    #commencer par créer le tableau de neurones\n",
    "    lNeuronType = np.dtype([('longueur', 'u1'), ('angle', 'f4'),\n",
    "                            ('weight', 'f4'), ('precision', 'f4'),\n",
    "                            ('xPos', 'u1'), ('yPos', 'u2'), ('group', 'u1')])\n",
    "\n",
    "    lCriterion = nbPixelPts > size\n",
    "\n",
    "    nbNeurons = sum(lCriterion)\n",
    "    lNeurons = np.zeros(nbNeurons, dtype=lNeuronType)\n",
    "    lpNeurons = pd.DataFrame(lNeurons)\n",
    "    lpNeurons['longueur'] = size\n",
    "    lpNeurons['layer'] = layer\n",
    "\n",
    "    offsetField = int(np.floor(size / 2))\n",
    "    lAngleMat = fillAngleMat(size)\n",
    "\n",
    "    newX = idxX[lCriterion]\n",
    "    newY = idxY[lCriterion]\n",
    "    print(\"size :\" + str(len(newX)))\n",
    "\n",
    "    print(\"newX\")\n",
    "    print(np.min(newX))\n",
    "    print(np.max(newX))\n",
    "    print(\"newY\")\n",
    "    print(np.min(newY))\n",
    "    print(np.max(newY))\n",
    "    print()\n",
    "    pos = 0\n",
    "    lnPos = 0\n",
    "    for lintX in newX:\n",
    "        lintY = newY[pos]\n",
    "\n",
    "        lNeuronFieldFrame = frameE[\n",
    "            int(lintX - offsetField):int(lintX + offsetField + 1),\n",
    "            int(lintY - offsetField):int(lintY + offsetField + 1)] / 255\n",
    "\n",
    "        tmp = np.multiply(lAngleMat, lNeuronFieldFrame)\n",
    "\n",
    "        lNeuronFieldValues = tmp[np.nonzero(tmp)]\n",
    "        if (lNeuronFieldValues.size > 0):\n",
    "            lpNeurons.loc[pos, ['angle']] = np.mean(lNeuronFieldValues)\n",
    "            lpNeurons.loc[pos, ['weight']] = sigmoidActivationFctN1(\n",
    "                lNeuronFieldValues)\n",
    "            lpNeurons.loc[pos, ['precision']] = np.std(lNeuronFieldValues)\n",
    "            lpNeurons.loc[pos, ['xPos']] = lintX\n",
    "            lpNeurons.loc[pos, ['yPos']] = lintY\n",
    "\n",
    "            lnPos += 1\n",
    "        else:\n",
    "            True  #print (\"error it shouldn't be zero\")\n",
    "        pos += 1\n",
    "    print(\"nb de positions couvertes : \" + str(lnPos) + \" sur \" + str(pos))\n",
    "\n",
    "    return lpNeurons\n",
    "    #return idxY"
   ]
  },
  {
   "cell_type": "code",
   "execution_count": 28,
   "metadata": {
    "ExecuteTime": {
     "end_time": "2019-07-18T14:26:50.594606Z",
     "start_time": "2019-07-18T14:26:50.347403Z"
    }
   },
   "outputs": [],
   "source": [
    "@jit(nopython=True, parallel=True)\n",
    "def nbPixelField(tableX, tableY, frameEdge, tailleField=3):\n",
    "    idx = 0\n",
    "    results = np.zeros(tableX.size)\n",
    "    rayon = np.floor(tailleField / 2)\n",
    "    tailleMaxX = frameEdge.shape[0]\n",
    "    tailleMaxY = frameEdge.shape[1]\n",
    "    halfX = tailleMaxX / 2\n",
    "    #[::tailleField]\n",
    "    for posX in tableX:\n",
    "        posY = tableY[idx]\n",
    "        if posX > halfX and posX >= rayon and (posX + rayon) < tailleMaxX:\n",
    "            results[idx] = np.sum(\n",
    "                frameEdge[int(posX - rayon):int(posX + rayon + 1),\n",
    "                          int(posY - rayon):int(posY + rayon + 1)] / 255)\n",
    "        idx += 1  #tailleField\n",
    "    return results"
   ]
  },
  {
   "cell_type": "code",
   "execution_count": 20,
   "metadata": {
    "ExecuteTime": {
     "end_time": "2019-07-18T14:26:46.680393Z",
     "start_time": "2019-07-18T14:26:46.667736Z"
    }
   },
   "outputs": [],
   "source": [
    "#@jit(nopython=True, parallel=True)\n",
    "def getNonZero(img):\n",
    "    return np.where(img != [0])"
   ]
  },
  {
   "cell_type": "code",
   "execution_count": null,
   "metadata": {
    "ExecuteTime": {
     "end_time": "2019-07-18T14:27:09.291899Z",
     "start_time": "2019-07-18T14:25:19.027Z"
    }
   },
   "outputs": [],
   "source": [
    "def getNFCoordinate(lNeurone):\n",
    "    try:\n",
    "        lintDist = int(np.floor(lNeurone.longueur / 2))\n",
    "    except:\n",
    "        P1 = (0, 0)\n",
    "        P2 = (0, 0)\n",
    "        return (P1, P2)\n",
    "    if np.abs(lNeurone.angle / 180 * np.pi) < 45:\n",
    "        lAlpha = lNeurone.angle / 180 * pi\n",
    "        lintX1 = np.around(lNeurone.xPos - lintDist * np.tan(lAlpha))\n",
    "        lintY1 = lNeurone.yPos + lintDist\n",
    "        lintX2 = np.around(lNeurone.xPos + lintDist * np.tan(lAlpha))\n",
    "        lintY2 = lNeurone.yPos - lintDist\n",
    "    else:\n",
    "        lAlpha = 90 - lNeurone.angle / 180 * pi\n",
    "        lintY1 = np.around(lNeurone.yPos - lintDist * np.tan(lAlpha))\n",
    "        lintX1 = lNeurone.xPos - lintDist\n",
    "        lintY2 = np.around(lNeurone.yPos + lintDist * np.tan(lAlpha))\n",
    "        lintX1 = lNeurone.xPos + lintDist\n",
    "    P1 = (int(lintY1), int(lintX1))\n",
    "    P2 = (int(lintY2), int(lintX2))\n",
    "    return P1, P2"
   ]
  },
  {
   "cell_type": "code",
   "execution_count": null,
   "metadata": {
    "ExecuteTime": {
     "end_time": "2019-07-18T14:27:09.215609Z",
     "start_time": "2019-07-18T14:25:18.769Z"
    }
   },
   "outputs": [],
   "source": [
    "def getDistance(x1, y1, x2, y2):\n",
    "    return np.sqrt(np.power(np.abs(x1 - x2), 2) + np.power(np.abs(y1 - y2), 2))"
   ]
  },
  {
   "cell_type": "code",
   "execution_count": null,
   "metadata": {
    "ExecuteTime": {
     "end_time": "2019-07-18T14:27:09.206355Z",
     "start_time": "2019-07-18T14:25:18.744Z"
    }
   },
   "outputs": [],
   "source": [
    "def closestFieldNeurons(neuronList, posX, posY, distance):\n",
    "    return neuronList[(neuronList.xPos > posX - distance)\n",
    "                      & (neuronList.xPos < posX + distance) &\n",
    "                      (neuronList.yPos > posY - distance) &\n",
    "                      (neuronList.yPos < posY + distance)]"
   ]
  },
  {
   "cell_type": "code",
   "execution_count": null,
   "metadata": {
    "ExecuteTime": {
     "end_time": "2019-07-18T14:27:09.329138Z",
     "start_time": "2019-07-18T14:25:19.050Z"
    }
   },
   "outputs": [],
   "source": [
    "def drawFieldNeurons(lNeuronList, lBitmap):\n",
    "    for index, lNeuron in lNeuronList.iterrows():\n",
    "        #for lNeuron in lNeuronList:\n",
    "        lCoord = getNFCoordinate(lNeuron)\n",
    "        #print(lNeuron)\n",
    "        try:\n",
    "            cv2.line(lBitmap, lCoord[0], lCoord[1], (int(\n",
    "                lNeuron.weight), int(lNeuron.weight), int(lNeuron.weight)), 3)\n",
    "        except:\n",
    "            True\n",
    "    return lBitmap"
   ]
  },
  {
   "cell_type": "code",
   "execution_count": null,
   "metadata": {
    "ExecuteTime": {
     "end_time": "2019-07-18T14:27:09.200079Z",
     "start_time": "2019-07-18T14:25:18.721Z"
    }
   },
   "outputs": [],
   "source": [
    "#@jit(nopython=True, parallel=True)\n",
    "def moveCoordDeg(angle, startX, startY, distance):\n",
    "    tipX = startX + distance * np.sin(angle / 180 * pi)\n",
    "    tipY = startY - distance * np.cos(angle / 180 * pi)\n",
    "    return tipX, tipY"
   ]
  },
  {
   "cell_type": "code",
   "execution_count": null,
   "metadata": {
    "ExecuteTime": {
     "end_time": "2019-07-18T14:27:09.248409Z",
     "start_time": "2019-07-18T14:25:18.858Z"
    }
   },
   "outputs": [],
   "source": [
    "def getNextPosition(neuroneMoyen):\n",
    "    return moveCoordDeg(float(neuroneMoyen.angle), int(neuroneMoyen.xPos),\n",
    "                        int(neuroneMoyen.yPos), int(neuroneMoyen.longueur))"
   ]
  },
  {
   "cell_type": "code",
   "execution_count": null,
   "metadata": {
    "ExecuteTime": {
     "end_time": "2019-07-18T14:27:09.256355Z",
     "start_time": "2019-07-18T14:25:18.880Z"
    }
   },
   "outputs": [],
   "source": [
    "def findGroups(neuronList):\n",
    "    # Sélection d'un nouveau numéro de Groupe (GroupID)\n",
    "    lintCurrentGroupID = 0\n",
    "    lintNbGroups = 0\n",
    "    lIndex = 0\n",
    "\n",
    "    # liste des neurones sans groupe\n",
    "    lNoGroupList = neuronList[neuronList.group == 0]\n",
    "\n",
    "    while lNoGroupList.shape[0] > 0:\n",
    "\n",
    "        #Sélection d'un neurone dans la liste (ceux sans groupID ou groupID=0)\n",
    "        lMoyenNeuron = lNoGroupList.iloc[0]\n",
    "        lIndex = lNoGroupList.head().index.values[0]\n",
    "\n",
    "        while True:\n",
    "            #Assignation d'un nouveau numéro de GroupID en cours\n",
    "            lintNbGroups += 1\n",
    "            lintCurrentGroupID += 1\n",
    "            if neuronList[neuronList.group ==\n",
    "                          lintCurrentGroupID].shape[0] == 0:\n",
    "                break\n",
    "\n",
    "        neuronList.loc[lIndex, ['group']] = lintCurrentGroupID\n",
    "\n",
    "        #déplacement\n",
    "        lnPos = getNextPosition(lMoyenNeuron)\n",
    "\n",
    "        #recherche de neurones proches\n",
    "        lClosestNeurons = closestFieldNeurons(\n",
    "            neuronList, lnPos[0], lnPos[1],\n",
    "            int(np.floor(lMoyenNeuron.longueur / 2)))\n",
    "\n",
    "        #Oui ==> retour étape 1\n",
    "        while lClosestNeurons.shape[0] != 0:\n",
    "            #recherche des groupID dans cette sous-sélection\n",
    "            if lClosestNeurons[lClosestNeurons.group > 0].shape[0] == 0:\n",
    "                #Non => Assigner à tous les neurones de la sous-sélection le groupID en cours => aller directement à l'étape 7\n",
    "                for lintIdx in lClosestNeurons.head().index.values:\n",
    "                    neuronList.loc[lintIdx, ['group']] = lintCurrentGroupID\n",
    "            else:\n",
    "                #Oui\n",
    "                #Récupération de la liste de tous les groupID utilisés\n",
    "                #Sélection du groupID le plus petit (en comparant aussi avec le groupID en cours)\n",
    "                lintPreviousGroupID = lintCurrentGroupID\n",
    "                lintCurrentGroupID = np.min(\n",
    "                    lClosestNeurons[lClosestNeurons.group > 0].group)\n",
    "                #Assigner à tous les neurones de la sous-sélection ce nouveau groupID\n",
    "                for lintIdx in lClosestNeurons.head().index.values:\n",
    "                    neuronList.loc[lintIdx, ['group']] = lintCurrentGroupID\n",
    "                    #remplacer dans la liste globale, pour chaque groupID présent dans la liste par le nouveau groupID\n",
    "                    for lintGroupID in lClosestNeurons[\n",
    "                            lClosestNeurons.group > 0].group:\n",
    "                        neuronList.loc[neuronList.group == lintGroupID,\n",
    "                                       'group'] = lintCurrentGroupID\n",
    "                if lintPreviousGroupID == lintCurrentGroupID:\n",
    "                    #si tous les neurones\n",
    "                    if lClosestNeurons[lClosestNeurons.group >\n",
    "                                       0].shape[0] == lClosestNeurons[\n",
    "                                           lClosestNeurons.group ==\n",
    "                                           lintPreviousGroupID].shape[0]:\n",
    "                        break  # sortie de la boucle while\n",
    "            #Calcul du neurone Field moyen\n",
    "            lMoyenNeuron = getAvgFieldNeuron(lClosestNeurons)\n",
    "            #déplacement\n",
    "            lnPos = getNextPosition(lMoyenNeuron)\n",
    "\n",
    "            #recherche de neurones proches\n",
    "            lClosestNeurons = closestFieldNeurons(\n",
    "                neuronList, lnPos[0], lnPos[1],\n",
    "                int(np.floor(lMoyenNeuron.longueur / 2)))\n",
    "\n",
    "        lNoGroupList = neuronList[neuronList.group == 0]\n",
    "    return neuronList"
   ]
  },
  {
   "cell_type": "code",
   "execution_count": 9,
   "metadata": {
    "ExecuteTime": {
     "end_time": "2019-07-18T14:26:46.386838Z",
     "start_time": "2019-07-18T14:26:28.640068Z"
    }
   },
   "outputs": [],
   "source": [
    "kernelSize=21   # Kernel Bluring size \n",
    "\n",
    "# Edge Detection Parameter\n",
    "parameter1=20\n",
    "parameter2=40\n",
    "intApertureSize=1\n",
    "\n",
    "#cap = cv2.VideoCapture(0)\n",
    "cap = cv2.VideoCapture(fileName)\n",
    "lCounter=0\n",
    "while(cap.isOpened()):\n",
    "    # Capture frame-by-frame\n",
    "    ret, frame = cap.read()    \n",
    "    if ret==True:\n",
    "        # Our operations on the frame come here\n",
    "        if lCounter==1:\n",
    "            frame = cv2.GaussianBlur(frame, (kernelSize,kernelSize), 0, 0)\n",
    "            frame = cv2.Canny(frame,parameter1,parameter2,intApertureSize)  # Canny edge detection\n",
    "            lCounter = 0\n",
    "        lCounter += 1;\n",
    "        #frame = cv2.Laplacian(frame,cv2.CV_64F) # Laplacian edge detection\n",
    "        #frame = cv2.Sobel(frame,cv2.CV_64F,1,0,ksize=kernelSize) # X-direction Sobel edge detection\n",
    "        #frame = cv2.Sobel(frame,cv2.CV_64F,0,1,ksize=kernelSize) # Y-direction Sobel edge detection\n",
    "        #frame[0:10,10]=255\n",
    "        indices = np.where(frame != [0])\n",
    "        # Display the resulting frame\n",
    "        cv2.imshow('Canny',frame)\n",
    "        if cv2.waitKey(1) & 0xFF == ord('q'):  # press q to quit\n",
    "            break\n",
    "    else:\n",
    "        break\n",
    "# When everything done, release the capture\n",
    "cap.release()\n",
    "cv2.destroyAllWindows()"
   ]
  },
  {
   "cell_type": "code",
   "execution_count": 10,
   "metadata": {
    "ExecuteTime": {
     "end_time": "2019-07-18T14:26:46.422843Z",
     "start_time": "2019-07-18T14:26:46.395218Z"
    }
   },
   "outputs": [
    {
     "data": {
      "text/plain": [
       "array([[0, 0, 0, ..., 0, 0, 0],\n",
       "       [0, 0, 0, ..., 0, 0, 0],\n",
       "       [0, 0, 0, ..., 0, 0, 0],\n",
       "       ...,\n",
       "       [0, 0, 0, ..., 0, 0, 0],\n",
       "       [0, 0, 0, ..., 0, 0, 0],\n",
       "       [0, 0, 0, ..., 0, 0, 0]], dtype=uint8)"
      ]
     },
     "execution_count": 10,
     "metadata": {},
     "output_type": "execute_result"
    }
   ],
   "source": [
    "frame"
   ]
  },
  {
   "cell_type": "code",
   "execution_count": 11,
   "metadata": {
    "ExecuteTime": {
     "end_time": "2019-07-18T14:26:46.439062Z",
     "start_time": "2019-07-18T14:26:46.425492Z"
    }
   },
   "outputs": [
    {
     "data": {
      "text/plain": [
       "1024000"
      ]
     },
     "execution_count": 11,
     "metadata": {},
     "output_type": "execute_result"
    }
   ],
   "source": [
    "frame.size"
   ]
  },
  {
   "cell_type": "code",
   "execution_count": 12,
   "metadata": {
    "ExecuteTime": {
     "end_time": "2019-07-18T14:26:46.455544Z",
     "start_time": "2019-07-18T14:26:46.443662Z"
    }
   },
   "outputs": [
    {
     "data": {
      "text/plain": [
       "2"
      ]
     },
     "execution_count": 12,
     "metadata": {},
     "output_type": "execute_result"
    }
   ],
   "source": [
    "frame.ndim"
   ]
  },
  {
   "cell_type": "code",
   "execution_count": 13,
   "metadata": {
    "ExecuteTime": {
     "end_time": "2019-07-18T14:26:46.469659Z",
     "start_time": "2019-07-18T14:26:46.459990Z"
    }
   },
   "outputs": [
    {
     "data": {
      "text/plain": [
       "1"
      ]
     },
     "execution_count": 13,
     "metadata": {},
     "output_type": "execute_result"
    }
   ],
   "source": [
    "frame.itemsize"
   ]
  },
  {
   "cell_type": "code",
   "execution_count": 14,
   "metadata": {
    "ExecuteTime": {
     "end_time": "2019-07-18T14:26:46.488789Z",
     "start_time": "2019-07-18T14:26:46.474292Z"
    }
   },
   "outputs": [
    {
     "data": {
      "text/plain": [
       "1024000"
      ]
     },
     "execution_count": 14,
     "metadata": {},
     "output_type": "execute_result"
    }
   ],
   "source": [
    "frame.nbytes"
   ]
  },
  {
   "cell_type": "code",
   "execution_count": 15,
   "metadata": {
    "ExecuteTime": {
     "end_time": "2019-07-18T14:26:46.521798Z",
     "start_time": "2019-07-18T14:26:46.496792Z"
    }
   },
   "outputs": [
    {
     "data": {
      "text/plain": [
       "(800, 1280)"
      ]
     },
     "execution_count": 15,
     "metadata": {},
     "output_type": "execute_result"
    }
   ],
   "source": [
    "frame.shape"
   ]
  },
  {
   "cell_type": "code",
   "execution_count": 16,
   "metadata": {
    "ExecuteTime": {
     "end_time": "2019-07-18T14:26:46.567318Z",
     "start_time": "2019-07-18T14:26:46.531904Z"
    }
   },
   "outputs": [
    {
     "data": {
      "text/plain": [
       "255"
      ]
     },
     "execution_count": 16,
     "metadata": {},
     "output_type": "execute_result"
    }
   ],
   "source": [
    "frame.max()"
   ]
  },
  {
   "cell_type": "code",
   "execution_count": 17,
   "metadata": {
    "ExecuteTime": {
     "end_time": "2019-07-18T14:26:46.596868Z",
     "start_time": "2019-07-18T14:26:46.580735Z"
    }
   },
   "outputs": [],
   "source": [
    "frame[0:10,1]=1"
   ]
  },
  {
   "cell_type": "code",
   "execution_count": 18,
   "metadata": {
    "ExecuteTime": {
     "end_time": "2019-07-18T14:26:46.618922Z",
     "start_time": "2019-07-18T14:26:46.607102Z"
    }
   },
   "outputs": [
    {
     "data": {
      "text/plain": [
       "array([1, 1, 1, 1, 1, 1, 1, 1, 1, 1], dtype=uint8)"
      ]
     },
     "execution_count": 18,
     "metadata": {},
     "output_type": "execute_result"
    }
   ],
   "source": [
    "frame[0:10,1]"
   ]
  },
  {
   "cell_type": "code",
   "execution_count": 19,
   "metadata": {
    "ExecuteTime": {
     "end_time": "2019-07-18T14:26:46.657480Z",
     "start_time": "2019-07-18T14:26:46.642123Z"
    }
   },
   "outputs": [],
   "source": [
    "indices = np.where(frame != [0])"
   ]
  },
  {
   "cell_type": "code",
   "execution_count": 21,
   "metadata": {
    "ExecuteTime": {
     "end_time": "2019-07-18T14:26:46.780912Z",
     "start_time": "2019-07-18T14:26:46.750329Z"
    }
   },
   "outputs": [],
   "source": [
    "tata =  getNonZero(frame)"
   ]
  },
  {
   "cell_type": "code",
   "execution_count": 22,
   "metadata": {
    "ExecuteTime": {
     "end_time": "2019-07-18T14:26:46.793794Z",
     "start_time": "2019-07-18T14:26:46.786108Z"
    }
   },
   "outputs": [],
   "source": [
    "coordinates = zip(indices[0], indices[1])"
   ]
  },
  {
   "cell_type": "code",
   "execution_count": 23,
   "metadata": {
    "ExecuteTime": {
     "end_time": "2019-07-18T14:26:46.812541Z",
     "start_time": "2019-07-18T14:26:46.804974Z"
    }
   },
   "outputs": [
    {
     "data": {
      "text/plain": [
       "9251"
      ]
     },
     "execution_count": 23,
     "metadata": {},
     "output_type": "execute_result"
    }
   ],
   "source": [
    "indices[1].size"
   ]
  },
  {
   "cell_type": "code",
   "execution_count": 24,
   "metadata": {
    "ExecuteTime": {
     "end_time": "2019-07-18T14:26:46.830404Z",
     "start_time": "2019-07-18T14:26:46.820098Z"
    }
   },
   "outputs": [
    {
     "data": {
      "text/plain": [
       "array([  1,   1,   1,   1,   1,   1,   1,   1,   1,   1, 146, 147, 144,\n",
       "       145, 151, 140, 141, 142, 143, 148, 149, 151, 152, 138, 139, 137,\n",
       "       151, 134, 135, 136, 137, 151, 134, 151, 153, 133, 134, 153, 132,\n",
       "       152, 131, 152, 131, 152, 131, 151, 131, 151, 130, 151, 130, 151,\n",
       "       129, 151, 129, 151, 129, 151, 129, 152, 129, 150, 128, 151, 128,\n",
       "       152, 128, 152, 129, 151, 129, 151, 129, 151, 129, 130, 130, 151,\n",
       "       152, 130, 131, 144, 150, 151, 131, 143, 149, 150, 131, 132, 140,\n",
       "       141, 142, 144, 145, 148, 149, 132, 133, 134])"
      ]
     },
     "execution_count": 24,
     "metadata": {},
     "output_type": "execute_result"
    }
   ],
   "source": [
    "indices[1][0:100]"
   ]
  },
  {
   "cell_type": "code",
   "execution_count": 25,
   "metadata": {
    "ExecuteTime": {
     "end_time": "2019-07-18T14:26:48.758265Z",
     "start_time": "2019-07-18T14:26:46.833362Z"
    }
   },
   "outputs": [
    {
     "data": {
      "text/plain": [
       "<Figure size 640x480 with 1 Axes>"
      ]
     },
     "metadata": {},
     "output_type": "display_data"
    }
   ],
   "source": [
    "fig, ax = plt.subplots()\n",
    "#s = pow(0.75,t)\n",
    "ax.plot(indices[1][0:300],indices[0][0:300])\n",
    "#ax.set(xlabel='time (s)', ylabel='voltage (mV)',\n",
    "#       title='About as simple as it gets, folks')\n",
    "ax.grid()\n",
    "\n",
    "#fig.savefig(\"test.png\")\n",
    "plt.show()"
   ]
  },
  {
   "cell_type": "code",
   "execution_count": 26,
   "metadata": {
    "ExecuteTime": {
     "end_time": "2019-07-18T14:26:48.775775Z",
     "start_time": "2019-07-18T14:26:48.764769Z"
    }
   },
   "outputs": [
    {
     "name": "stdout",
     "output_type": "stream",
     "text": [
      "[ 0  1  2  3  4  5  6  7  8  9 78 78 79 79 79 80 80 80 80 80 80 80 80 81\n",
      " 81 82 82 83 83 83],[  1   1   1   1   1   1   1   1   1   1 146 147 144 145 151 140 141 142\n",
      " 143 148 149 151 152 138 139 137 151 134 135 136]\n"
     ]
    }
   ],
   "source": [
    "print(str(indices[0][0:30])+','+str(indices[1][0:30]))"
   ]
  },
  {
   "cell_type": "code",
   "execution_count": 29,
   "metadata": {
    "ExecuteTime": {
     "end_time": "2019-07-18T14:26:52.181192Z",
     "start_time": "2019-07-18T14:26:50.597392Z"
    }
   },
   "outputs": [
    {
     "data": {
      "text/plain": [
       "949"
      ]
     },
     "execution_count": 29,
     "metadata": {},
     "output_type": "execute_result"
    }
   ],
   "source": [
    "tailleField = 3;#must be odd\n",
    "nbPixelsAll = nbPixelField(indices[0], indices[1], frame, tailleField);\n",
    "toto = nbPixelsAll > tailleField\n",
    "sum(toto)"
   ]
  },
  {
   "cell_type": "code",
   "execution_count": 30,
   "metadata": {
    "ExecuteTime": {
     "end_time": "2019-07-18T14:26:52.194672Z",
     "start_time": "2019-07-18T14:26:52.183715Z"
    }
   },
   "outputs": [
    {
     "data": {
      "text/plain": [
       "array([0., 0., 0., ..., 3., 3., 2.])"
      ]
     },
     "execution_count": 30,
     "metadata": {},
     "output_type": "execute_result"
    }
   ],
   "source": [
    "nbPixelsAll"
   ]
  },
  {
   "cell_type": "code",
   "execution_count": 31,
   "metadata": {
    "ExecuteTime": {
     "end_time": "2019-07-18T14:26:52.209819Z",
     "start_time": "2019-07-18T14:26:52.199463Z"
    }
   },
   "outputs": [
    {
     "data": {
      "text/plain": [
       "17.0"
      ]
     },
     "execution_count": 31,
     "metadata": {},
     "output_type": "execute_result"
    }
   ],
   "source": [
    "from numpy import pi\n",
    "5-4*np.tan(np.arctan(-3/1))"
   ]
  },
  {
   "cell_type": "code",
   "execution_count": 32,
   "metadata": {
    "ExecuteTime": {
     "end_time": "2019-07-18T14:26:52.221323Z",
     "start_time": "2019-07-18T14:26:52.212749Z"
    }
   },
   "outputs": [
    {
     "data": {
      "text/plain": [
       "15.666666666666666"
      ]
     },
     "execution_count": 32,
     "metadata": {},
     "output_type": "execute_result"
    }
   ],
   "source": [
    "13-4*np.tan(np.arctan(-2/3))"
   ]
  },
  {
   "cell_type": "code",
   "execution_count": 33,
   "metadata": {
    "ExecuteTime": {
     "end_time": "2019-07-18T14:26:52.232696Z",
     "start_time": "2019-07-18T14:26:52.224808Z"
    }
   },
   "outputs": [
    {
     "name": "stdout",
     "output_type": "stream",
     "text": [
      "[[0. 0. 0.]\n",
      " [0. 0. 0.]\n",
      " [0. 0. 0.]]\n"
     ]
    }
   ],
   "source": [
    "M = np.zeros((3,3))\n",
    "print(M)"
   ]
  },
  {
   "cell_type": "code",
   "execution_count": 35,
   "metadata": {
    "ExecuteTime": {
     "end_time": "2019-07-18T14:26:52.965197Z",
     "start_time": "2019-07-18T14:26:52.256410Z"
    }
   },
   "outputs": [],
   "source": [
    "angleMat = fillAngleMat(7)"
   ]
  },
  {
   "cell_type": "code",
   "execution_count": 37,
   "metadata": {
    "ExecuteTime": {
     "end_time": "2019-07-18T14:26:52.991767Z",
     "start_time": "2019-07-18T14:26:52.982353Z"
    }
   },
   "outputs": [
    {
     "data": {
      "text/plain": [
       "array([[-45., -34., -18.,   0.,  18.,  34.,  45.],\n",
       "       [-56., -45., -27.,   0.,  27.,  45.,  56.],\n",
       "       [-72., -63., -45.,   0.,  45.,  63.,  72.],\n",
       "       [ 90.,  90.,  90.,   0.,  90.,  90.,  90.],\n",
       "       [ 72.,  63.,  45.,  -0., -45., -63., -72.],\n",
       "       [ 56.,  45.,  27.,  -0., -27., -45., -56.],\n",
       "       [ 45.,  34.,  18.,  -0., -18., -34., -45.]])"
      ]
     },
     "execution_count": 37,
     "metadata": {},
     "output_type": "execute_result"
    }
   ],
   "source": [
    "np.around(angleMat)"
   ]
  },
  {
   "cell_type": "code",
   "execution_count": 38,
   "metadata": {
    "ExecuteTime": {
     "end_time": "2019-07-18T14:26:53.005187Z",
     "start_time": "2019-07-18T14:26:52.995172Z"
    }
   },
   "outputs": [],
   "source": [
    "posX=indices[0][257]\n",
    "posY=indices[1][257]\n",
    "titi = frame[int(posX - tailleField):int(posX + tailleField + 1),\n",
    "                        int(posY - tailleField):int(posY + tailleField + 1)]/255"
   ]
  },
  {
   "cell_type": "code",
   "execution_count": 39,
   "metadata": {
    "ExecuteTime": {
     "end_time": "2019-07-18T14:26:53.021654Z",
     "start_time": "2019-07-18T14:26:53.008954Z"
    }
   },
   "outputs": [
    {
     "data": {
      "text/plain": [
       "-15.065"
      ]
     },
     "execution_count": 39,
     "metadata": {},
     "output_type": "execute_result"
    }
   ],
   "source": [
    "test = np.multiply(angleMat,titi)\n",
    "test2 = test[np.nonzero(test)]\n",
    "np.mean(test2)"
   ]
  },
  {
   "cell_type": "code",
   "execution_count": 40,
   "metadata": {
    "ExecuteTime": {
     "end_time": "2019-07-18T14:26:53.033335Z",
     "start_time": "2019-07-18T14:26:53.024589Z"
    }
   },
   "outputs": [
    {
     "data": {
      "text/plain": [
       "array([[ -0.  ,  -0.  ,  -0.  ,   0.  ,   0.  ,   0.  ,   0.  ],\n",
       "       [ -0.  ,  -0.  ,  -0.  ,   0.  ,   0.  ,  45.  ,   0.  ],\n",
       "       [ -0.  ,  -0.  , -45.  ,   0.  ,   0.  ,   0.  ,   0.  ],\n",
       "       [  0.  ,   0.  ,   0.  ,   0.  ,   0.  ,   0.  ,   0.  ],\n",
       "       [  0.  ,   0.  ,   0.  ,  -0.  ,  -0.  ,  -0.  ,  -0.  ],\n",
       "       [  0.  ,   0.  ,   0.  ,  -0.  , -26.57,  -0.  ,  -0.  ],\n",
       "       [  0.  ,   0.  ,   0.  ,  -0.  ,  -0.  , -33.69,  -0.  ]])"
      ]
     },
     "execution_count": 40,
     "metadata": {},
     "output_type": "execute_result"
    }
   ],
   "source": [
    "test"
   ]
  },
  {
   "cell_type": "code",
   "execution_count": 41,
   "metadata": {
    "ExecuteTime": {
     "end_time": "2019-07-18T14:26:53.048966Z",
     "start_time": "2019-07-18T14:26:53.038829Z"
    }
   },
   "outputs": [
    {
     "data": {
      "text/plain": [
       "array([[0., 0., 0., 0., 0., 0., 0.],\n",
       "       [0., 0., 0., 0., 0., 1., 0.],\n",
       "       [0., 0., 1., 0., 0., 0., 0.],\n",
       "       [0., 0., 0., 1., 0., 0., 0.],\n",
       "       [0., 0., 0., 1., 0., 0., 0.],\n",
       "       [0., 0., 0., 1., 1., 0., 0.],\n",
       "       [0., 0., 0., 0., 0., 1., 0.]])"
      ]
     },
     "execution_count": 41,
     "metadata": {},
     "output_type": "execute_result"
    }
   ],
   "source": [
    "titi"
   ]
  },
  {
   "cell_type": "code",
   "execution_count": 42,
   "metadata": {
    "ExecuteTime": {
     "end_time": "2019-07-18T14:26:53.062441Z",
     "start_time": "2019-07-18T14:26:53.052874Z"
    }
   },
   "outputs": [
    {
     "data": {
      "text/plain": [
       "94.5069955283693"
      ]
     },
     "execution_count": 42,
     "metadata": {},
     "output_type": "execute_result"
    }
   ],
   "source": [
    "255/(1+np.exp(0.1*(np.abs(np.std(test2))-30)))"
   ]
  },
  {
   "cell_type": "code",
   "execution_count": 44,
   "metadata": {
    "ExecuteTime": {
     "end_time": "2019-07-18T14:26:53.966320Z",
     "start_time": "2019-07-18T14:26:53.079610Z"
    }
   },
   "outputs": [
    {
     "data": {
      "text/plain": [
       "94.5069955283693"
      ]
     },
     "execution_count": 44,
     "metadata": {},
     "output_type": "execute_result"
    }
   ],
   "source": [
    "sigmoidActivationFctN1(test2)"
   ]
  },
  {
   "cell_type": "code",
   "execution_count": 45,
   "metadata": {
    "ExecuteTime": {
     "end_time": "2019-07-18T14:26:53.978996Z",
     "start_time": "2019-07-18T14:26:53.969640Z"
    }
   },
   "outputs": [
    {
     "data": {
      "text/plain": [
       "35.295764972585594"
      ]
     },
     "execution_count": 45,
     "metadata": {},
     "output_type": "execute_result"
    }
   ],
   "source": [
    "np.std(test2)"
   ]
  },
  {
   "cell_type": "code",
   "execution_count": 47,
   "metadata": {
    "ExecuteTime": {
     "end_time": "2019-07-18T14:26:53.999080Z",
     "start_time": "2019-07-18T14:26:53.993640Z"
    }
   },
   "outputs": [],
   "source": [
    "neuronList = np.zeros(1144,dtype=NeuronType)"
   ]
  },
  {
   "cell_type": "code",
   "execution_count": 48,
   "metadata": {
    "ExecuteTime": {
     "end_time": "2019-07-18T14:26:54.019522Z",
     "start_time": "2019-07-18T14:26:54.007705Z"
    }
   },
   "outputs": [
    {
     "data": {
      "text/plain": [
       "array([(0, 0., 0., 0., 0, 0, 0), (0, 0., 0., 0., 0, 0, 0),\n",
       "       (0, 0., 0., 0., 0, 0, 0), ..., (0, 0., 0., 0., 0, 0, 0),\n",
       "       (0, 0., 0., 0., 0, 0, 0), (0, 0., 0., 0., 0, 0, 0)],\n",
       "      dtype=[('longueur', 'u1'), ('angle', '<f4'), ('weight', '<f4'), ('std', '<f4'), ('xPos', 'u1'), ('yPos', '<u2'), ('layer', 'u1')])"
      ]
     },
     "execution_count": 48,
     "metadata": {},
     "output_type": "execute_result"
    }
   ],
   "source": [
    "neuronList"
   ]
  },
  {
   "cell_type": "code",
   "execution_count": 49,
   "metadata": {
    "ExecuteTime": {
     "end_time": "2019-07-18T14:26:54.031127Z",
     "start_time": "2019-07-18T14:26:54.023041Z"
    }
   },
   "outputs": [
    {
     "data": {
      "text/plain": [
       "1144"
      ]
     },
     "execution_count": 49,
     "metadata": {},
     "output_type": "execute_result"
    }
   ],
   "source": [
    "neuronList.size"
   ]
  },
  {
   "cell_type": "code",
   "execution_count": 50,
   "metadata": {
    "ExecuteTime": {
     "end_time": "2019-07-18T14:26:54.045320Z",
     "start_time": "2019-07-18T14:26:54.034562Z"
    }
   },
   "outputs": [
    {
     "data": {
      "text/plain": [
       "()"
      ]
     },
     "execution_count": 50,
     "metadata": {},
     "output_type": "execute_result"
    }
   ],
   "source": [
    "neuronList[0].shape"
   ]
  },
  {
   "cell_type": "code",
   "execution_count": 51,
   "metadata": {
    "ExecuteTime": {
     "end_time": "2019-07-18T14:26:54.778652Z",
     "start_time": "2019-07-18T14:26:54.048765Z"
    }
   },
   "outputs": [],
   "source": [
    "import pandas as pd\n",
    "#import xarray as xr"
   ]
  },
  {
   "cell_type": "code",
   "execution_count": 52,
   "metadata": {
    "ExecuteTime": {
     "end_time": "2019-07-18T14:26:54.800381Z",
     "start_time": "2019-07-18T14:26:54.781555Z"
    }
   },
   "outputs": [],
   "source": [
    "pNeurons = pd.DataFrame(neuronList)"
   ]
  },
  {
   "cell_type": "code",
   "execution_count": 53,
   "metadata": {
    "ExecuteTime": {
     "end_time": "2019-07-18T14:26:54.841021Z",
     "start_time": "2019-07-18T14:26:54.805112Z"
    }
   },
   "outputs": [
    {
     "data": {
      "text/html": [
       "<div>\n",
       "<style scoped>\n",
       "    .dataframe tbody tr th:only-of-type {\n",
       "        vertical-align: middle;\n",
       "    }\n",
       "\n",
       "    .dataframe tbody tr th {\n",
       "        vertical-align: top;\n",
       "    }\n",
       "\n",
       "    .dataframe thead th {\n",
       "        text-align: right;\n",
       "    }\n",
       "</style>\n",
       "<table border=\"1\" class=\"dataframe\">\n",
       "  <thead>\n",
       "    <tr style=\"text-align: right;\">\n",
       "      <th></th>\n",
       "      <th>longueur</th>\n",
       "      <th>angle</th>\n",
       "      <th>weight</th>\n",
       "      <th>std</th>\n",
       "      <th>xPos</th>\n",
       "      <th>yPos</th>\n",
       "      <th>layer</th>\n",
       "    </tr>\n",
       "  </thead>\n",
       "  <tbody>\n",
       "    <tr>\n",
       "      <th>0</th>\n",
       "      <td>0</td>\n",
       "      <td>0.0</td>\n",
       "      <td>0.0</td>\n",
       "      <td>0.0</td>\n",
       "      <td>0</td>\n",
       "      <td>0</td>\n",
       "      <td>0</td>\n",
       "    </tr>\n",
       "    <tr>\n",
       "      <th>1</th>\n",
       "      <td>0</td>\n",
       "      <td>0.0</td>\n",
       "      <td>0.0</td>\n",
       "      <td>0.0</td>\n",
       "      <td>0</td>\n",
       "      <td>0</td>\n",
       "      <td>0</td>\n",
       "    </tr>\n",
       "    <tr>\n",
       "      <th>2</th>\n",
       "      <td>0</td>\n",
       "      <td>0.0</td>\n",
       "      <td>0.0</td>\n",
       "      <td>0.0</td>\n",
       "      <td>0</td>\n",
       "      <td>0</td>\n",
       "      <td>0</td>\n",
       "    </tr>\n",
       "    <tr>\n",
       "      <th>3</th>\n",
       "      <td>0</td>\n",
       "      <td>0.0</td>\n",
       "      <td>0.0</td>\n",
       "      <td>0.0</td>\n",
       "      <td>0</td>\n",
       "      <td>0</td>\n",
       "      <td>0</td>\n",
       "    </tr>\n",
       "    <tr>\n",
       "      <th>4</th>\n",
       "      <td>0</td>\n",
       "      <td>0.0</td>\n",
       "      <td>0.0</td>\n",
       "      <td>0.0</td>\n",
       "      <td>0</td>\n",
       "      <td>0</td>\n",
       "      <td>0</td>\n",
       "    </tr>\n",
       "  </tbody>\n",
       "</table>\n",
       "</div>"
      ],
      "text/plain": [
       "   longueur  angle  weight  std  xPos  yPos  layer\n",
       "0         0    0.0     0.0  0.0     0     0      0\n",
       "1         0    0.0     0.0  0.0     0     0      0\n",
       "2         0    0.0     0.0  0.0     0     0      0\n",
       "3         0    0.0     0.0  0.0     0     0      0\n",
       "4         0    0.0     0.0  0.0     0     0      0"
      ]
     },
     "execution_count": 53,
     "metadata": {},
     "output_type": "execute_result"
    }
   ],
   "source": [
    "pNeurons.head()"
   ]
  },
  {
   "cell_type": "code",
   "execution_count": 54,
   "metadata": {
    "ExecuteTime": {
     "end_time": "2019-07-18T14:26:54.855874Z",
     "start_time": "2019-07-18T14:26:54.844739Z"
    }
   },
   "outputs": [
    {
     "data": {
      "text/plain": [
       "0    0\n",
       "1    0\n",
       "2    0\n",
       "3    0\n",
       "4    0\n",
       "Name: longueur, dtype: uint8"
      ]
     },
     "execution_count": 54,
     "metadata": {},
     "output_type": "execute_result"
    }
   ],
   "source": [
    "pNeurons['longueur'].head()"
   ]
  },
  {
   "cell_type": "code",
   "execution_count": 55,
   "metadata": {
    "ExecuteTime": {
     "end_time": "2019-07-18T14:26:54.910353Z",
     "start_time": "2019-07-18T14:26:54.865060Z"
    }
   },
   "outputs": [
    {
     "data": {
      "text/html": [
       "<div>\n",
       "<style scoped>\n",
       "    .dataframe tbody tr th:only-of-type {\n",
       "        vertical-align: middle;\n",
       "    }\n",
       "\n",
       "    .dataframe tbody tr th {\n",
       "        vertical-align: top;\n",
       "    }\n",
       "\n",
       "    .dataframe thead th {\n",
       "        text-align: right;\n",
       "    }\n",
       "</style>\n",
       "<table border=\"1\" class=\"dataframe\">\n",
       "  <thead>\n",
       "    <tr style=\"text-align: right;\">\n",
       "      <th></th>\n",
       "      <th>angle</th>\n",
       "      <th>weight</th>\n",
       "    </tr>\n",
       "  </thead>\n",
       "  <tbody>\n",
       "    <tr>\n",
       "      <th>1</th>\n",
       "      <td>0.0</td>\n",
       "      <td>0.0</td>\n",
       "    </tr>\n",
       "    <tr>\n",
       "      <th>2</th>\n",
       "      <td>0.0</td>\n",
       "      <td>0.0</td>\n",
       "    </tr>\n",
       "    <tr>\n",
       "      <th>3</th>\n",
       "      <td>0.0</td>\n",
       "      <td>0.0</td>\n",
       "    </tr>\n",
       "  </tbody>\n",
       "</table>\n",
       "</div>"
      ],
      "text/plain": [
       "   angle  weight\n",
       "1    0.0     0.0\n",
       "2    0.0     0.0\n",
       "3    0.0     0.0"
      ]
     },
     "execution_count": 55,
     "metadata": {},
     "output_type": "execute_result"
    }
   ],
   "source": [
    "pNeurons.loc[1:3,['angle','weight']]"
   ]
  },
  {
   "cell_type": "code",
   "execution_count": 56,
   "metadata": {
    "ExecuteTime": {
     "end_time": "2019-07-18T14:26:54.930202Z",
     "start_time": "2019-07-18T14:26:54.914357Z"
    }
   },
   "outputs": [],
   "source": [
    "pNeurons.loc[1,['angle']]=28.34"
   ]
  },
  {
   "cell_type": "code",
   "execution_count": 57,
   "metadata": {
    "ExecuteTime": {
     "end_time": "2019-07-18T14:26:54.940121Z",
     "start_time": "2019-07-18T14:26:54.933606Z"
    }
   },
   "outputs": [],
   "source": [
    "pNeurons['longueur'] = tailleField"
   ]
  },
  {
   "cell_type": "code",
   "execution_count": 58,
   "metadata": {
    "ExecuteTime": {
     "end_time": "2019-07-18T14:26:54.971090Z",
     "start_time": "2019-07-18T14:26:54.944200Z"
    }
   },
   "outputs": [
    {
     "data": {
      "text/html": [
       "<div>\n",
       "<style scoped>\n",
       "    .dataframe tbody tr th:only-of-type {\n",
       "        vertical-align: middle;\n",
       "    }\n",
       "\n",
       "    .dataframe tbody tr th {\n",
       "        vertical-align: top;\n",
       "    }\n",
       "\n",
       "    .dataframe thead th {\n",
       "        text-align: right;\n",
       "    }\n",
       "</style>\n",
       "<table border=\"1\" class=\"dataframe\">\n",
       "  <thead>\n",
       "    <tr style=\"text-align: right;\">\n",
       "      <th></th>\n",
       "      <th>longueur</th>\n",
       "      <th>angle</th>\n",
       "      <th>weight</th>\n",
       "      <th>std</th>\n",
       "      <th>xPos</th>\n",
       "      <th>yPos</th>\n",
       "      <th>layer</th>\n",
       "    </tr>\n",
       "  </thead>\n",
       "  <tbody>\n",
       "    <tr>\n",
       "      <th>0</th>\n",
       "      <td>3</td>\n",
       "      <td>0.00</td>\n",
       "      <td>0.0</td>\n",
       "      <td>0.0</td>\n",
       "      <td>0</td>\n",
       "      <td>0</td>\n",
       "      <td>0</td>\n",
       "    </tr>\n",
       "    <tr>\n",
       "      <th>1</th>\n",
       "      <td>3</td>\n",
       "      <td>28.34</td>\n",
       "      <td>0.0</td>\n",
       "      <td>0.0</td>\n",
       "      <td>0</td>\n",
       "      <td>0</td>\n",
       "      <td>0</td>\n",
       "    </tr>\n",
       "    <tr>\n",
       "      <th>2</th>\n",
       "      <td>3</td>\n",
       "      <td>0.00</td>\n",
       "      <td>0.0</td>\n",
       "      <td>0.0</td>\n",
       "      <td>0</td>\n",
       "      <td>0</td>\n",
       "      <td>0</td>\n",
       "    </tr>\n",
       "    <tr>\n",
       "      <th>3</th>\n",
       "      <td>3</td>\n",
       "      <td>0.00</td>\n",
       "      <td>0.0</td>\n",
       "      <td>0.0</td>\n",
       "      <td>0</td>\n",
       "      <td>0</td>\n",
       "      <td>0</td>\n",
       "    </tr>\n",
       "    <tr>\n",
       "      <th>4</th>\n",
       "      <td>3</td>\n",
       "      <td>0.00</td>\n",
       "      <td>0.0</td>\n",
       "      <td>0.0</td>\n",
       "      <td>0</td>\n",
       "      <td>0</td>\n",
       "      <td>0</td>\n",
       "    </tr>\n",
       "  </tbody>\n",
       "</table>\n",
       "</div>"
      ],
      "text/plain": [
       "   longueur  angle  weight  std  xPos  yPos  layer\n",
       "0         3   0.00     0.0  0.0     0     0      0\n",
       "1         3  28.34     0.0  0.0     0     0      0\n",
       "2         3   0.00     0.0  0.0     0     0      0\n",
       "3         3   0.00     0.0  0.0     0     0      0\n",
       "4         3   0.00     0.0  0.0     0     0      0"
      ]
     },
     "execution_count": 58,
     "metadata": {},
     "output_type": "execute_result"
    }
   ],
   "source": [
    "pNeurons.head()"
   ]
  },
  {
   "cell_type": "code",
   "execution_count": 60,
   "metadata": {
    "ExecuteTime": {
     "end_time": "2019-07-18T14:26:55.358547Z",
     "start_time": "2019-07-18T14:26:55.023594Z"
    }
   },
   "outputs": [
    {
     "name": "stdout",
     "output_type": "stream",
     "text": [
      "(9251,)\n",
      "9251\n",
      "1475\n",
      "1475\n",
      "1475\n",
      "result0 :\n",
      "401\n",
      "786\n",
      "result1 :\n",
      "55\n",
      "1227\n"
     ]
    }
   ],
   "source": [
    "tailleField = 7\n",
    "nbPixelsAll = nbPixelField(indices[0], indices[1], frame, tailleField);\n",
    "lCriterion = nbPixelsAll > tailleField\n",
    "print(lCriterion.shape)\n",
    "print(len(indices[0]))\n",
    "print(np.sum(lCriterion))\n",
    "resultIndicesCriterionO = indices[0][lCriterion]\n",
    "print(len(resultIndicesCriterionO))\n",
    "resultIndicesCriterion1 = indices[1][lCriterion]\n",
    "print(len(resultIndicesCriterion1))\n",
    "print(\"result0 :\")\n",
    "print(np.min(resultIndicesCriterionO))\n",
    "print(np.max(resultIndicesCriterionO))\n",
    "print(\"result1 :\")\n",
    "print(np.min(resultIndicesCriterion1))\n",
    "print(np.max(resultIndicesCriterion1))"
   ]
  },
  {
   "cell_type": "code",
   "execution_count": 61,
   "metadata": {
    "ExecuteTime": {
     "end_time": "2019-07-18T14:26:55.370350Z",
     "start_time": "2019-07-18T14:26:55.361950Z"
    }
   },
   "outputs": [
    {
     "name": "stdout",
     "output_type": "stream",
     "text": [
      "[[0 0 0 0 0 0 0]\n",
      " [0 0 0 0 0 0 0]\n",
      " [0 0 0 0 0 0 0]\n",
      " [0 0 0 0 0 0 0]\n",
      " [0 0 0 0 0 0 0]\n",
      " [0 0 0 0 0 0 0]\n",
      " [0 0 0 0 0 0 0]]\n"
     ]
    }
   ],
   "source": [
    "print(frame[(778-3):(778+3+1),(1246-3):(1246+3+1)])"
   ]
  },
  {
   "cell_type": "code",
   "execution_count": 62,
   "metadata": {
    "ExecuteTime": {
     "end_time": "2019-07-18T14:27:08.758617Z",
     "start_time": "2019-07-18T14:26:55.373722Z"
    }
   },
   "outputs": [
    {
     "name": "stdout",
     "output_type": "stream",
     "text": [
      "indice 0\n",
      "0\n",
      "787\n",
      "indice 1\n",
      "1\n",
      "1248\n",
      "size :1475\n",
      "newX\n",
      "401\n",
      "786\n",
      "newY\n",
      "55\n",
      "1227\n",
      "\n",
      "nb de positions couvertes : 1475 sur 1475\n"
     ]
    },
    {
     "data": {
      "text/html": [
       "<div>\n",
       "<style scoped>\n",
       "    .dataframe tbody tr th:only-of-type {\n",
       "        vertical-align: middle;\n",
       "    }\n",
       "\n",
       "    .dataframe tbody tr th {\n",
       "        vertical-align: top;\n",
       "    }\n",
       "\n",
       "    .dataframe thead th {\n",
       "        text-align: right;\n",
       "    }\n",
       "</style>\n",
       "<table border=\"1\" class=\"dataframe\">\n",
       "  <thead>\n",
       "    <tr style=\"text-align: right;\">\n",
       "      <th></th>\n",
       "      <th>longueur</th>\n",
       "      <th>angle</th>\n",
       "      <th>weight</th>\n",
       "      <th>precision</th>\n",
       "      <th>xPos</th>\n",
       "      <th>yPos</th>\n",
       "      <th>group</th>\n",
       "      <th>layer</th>\n",
       "    </tr>\n",
       "  </thead>\n",
       "  <tbody>\n",
       "    <tr>\n",
       "      <th>count</th>\n",
       "      <td>1475.0</td>\n",
       "      <td>1475.000000</td>\n",
       "      <td>1475.000000</td>\n",
       "      <td>1475.000000</td>\n",
       "      <td>1475.000000</td>\n",
       "      <td>1475.000000</td>\n",
       "      <td>1475.0</td>\n",
       "      <td>1475.0</td>\n",
       "    </tr>\n",
       "    <tr>\n",
       "      <th>mean</th>\n",
       "      <td>7.0</td>\n",
       "      <td>27.876873</td>\n",
       "      <td>130.657623</td>\n",
       "      <td>31.634167</td>\n",
       "      <td>590.920000</td>\n",
       "      <td>597.884746</td>\n",
       "      <td>0.0</td>\n",
       "      <td>1.0</td>\n",
       "    </tr>\n",
       "    <tr>\n",
       "      <th>std</th>\n",
       "      <td>0.0</td>\n",
       "      <td>34.140312</td>\n",
       "      <td>86.724281</td>\n",
       "      <td>20.221708</td>\n",
       "      <td>125.610743</td>\n",
       "      <td>275.909054</td>\n",
       "      <td>0.0</td>\n",
       "      <td>0.0</td>\n",
       "    </tr>\n",
       "    <tr>\n",
       "      <th>min</th>\n",
       "      <td>7.0</td>\n",
       "      <td>-57.456665</td>\n",
       "      <td>1.950733</td>\n",
       "      <td>0.000000</td>\n",
       "      <td>401.000000</td>\n",
       "      <td>55.000000</td>\n",
       "      <td>0.0</td>\n",
       "      <td>1.0</td>\n",
       "    </tr>\n",
       "    <tr>\n",
       "      <th>25%</th>\n",
       "      <td>7.0</td>\n",
       "      <td>-1.441875</td>\n",
       "      <td>30.697733</td>\n",
       "      <td>15.075912</td>\n",
       "      <td>464.000000</td>\n",
       "      <td>452.500000</td>\n",
       "      <td>0.0</td>\n",
       "      <td>1.0</td>\n",
       "    </tr>\n",
       "    <tr>\n",
       "      <th>50%</th>\n",
       "      <td>7.0</td>\n",
       "      <td>39.135715</td>\n",
       "      <td>176.797028</td>\n",
       "      <td>21.843052</td>\n",
       "      <td>607.000000</td>\n",
       "      <td>634.000000</td>\n",
       "      <td>0.0</td>\n",
       "      <td>1.0</td>\n",
       "    </tr>\n",
       "    <tr>\n",
       "      <th>75%</th>\n",
       "      <td>7.0</td>\n",
       "      <td>56.608891</td>\n",
       "      <td>208.192078</td>\n",
       "      <td>49.888214</td>\n",
       "      <td>711.000000</td>\n",
       "      <td>750.000000</td>\n",
       "      <td>0.0</td>\n",
       "      <td>1.0</td>\n",
       "    </tr>\n",
       "    <tr>\n",
       "      <th>max</th>\n",
       "      <td>7.0</td>\n",
       "      <td>90.000000</td>\n",
       "      <td>242.906403</td>\n",
       "      <td>78.653786</td>\n",
       "      <td>786.000000</td>\n",
       "      <td>1227.000000</td>\n",
       "      <td>0.0</td>\n",
       "      <td>1.0</td>\n",
       "    </tr>\n",
       "  </tbody>\n",
       "</table>\n",
       "</div>"
      ],
      "text/plain": [
       "       longueur        angle       weight    precision         xPos  \\\n",
       "count    1475.0  1475.000000  1475.000000  1475.000000  1475.000000   \n",
       "mean        7.0    27.876873   130.657623    31.634167   590.920000   \n",
       "std         0.0    34.140312    86.724281    20.221708   125.610743   \n",
       "min         7.0   -57.456665     1.950733     0.000000   401.000000   \n",
       "25%         7.0    -1.441875    30.697733    15.075912   464.000000   \n",
       "50%         7.0    39.135715   176.797028    21.843052   607.000000   \n",
       "75%         7.0    56.608891   208.192078    49.888214   711.000000   \n",
       "max         7.0    90.000000   242.906403    78.653786   786.000000   \n",
       "\n",
       "              yPos   group   layer  \n",
       "count  1475.000000  1475.0  1475.0  \n",
       "mean    597.884746     0.0     1.0  \n",
       "std     275.909054     0.0     0.0  \n",
       "min      55.000000     0.0     1.0  \n",
       "25%     452.500000     0.0     1.0  \n",
       "50%     634.000000     0.0     1.0  \n",
       "75%     750.000000     0.0     1.0  \n",
       "max    1227.000000     0.0     1.0  "
      ]
     },
     "execution_count": 62,
     "metadata": {},
     "output_type": "execute_result"
    }
   ],
   "source": [
    "tailleField = 7\n",
    "indices = np.where(frame != [0])\n",
    "nbPixelsAll = nbPixelField(indices[0], indices[1], frame, tailleField);\n",
    "print(\"indice 0\")\n",
    "print(np.min(indices[0]))\n",
    "print(np.max(indices[0]))\n",
    "print(\"indice 1\")\n",
    "print(np.min(indices[1]))\n",
    "print(np.max(indices[1]))\n",
    "titi = getNeuronActivationList(indices[0], indices[1], tailleField, frame,\n",
    "                        nbPixelsAll)\n",
    "titi.describe()"
   ]
  },
  {
   "cell_type": "code",
   "execution_count": 63,
   "metadata": {
    "ExecuteTime": {
     "end_time": "2019-07-18T14:27:09.120718Z",
     "start_time": "2019-07-18T14:27:08.762306Z"
    }
   },
   "outputs": [
    {
     "ename": "NameError",
     "evalue": "name 'drawFieldNeurons' is not defined",
     "output_type": "error",
     "traceback": [
      "\u001b[0;31m---------------------------------------------------------------------------\u001b[0m",
      "\u001b[0;31mNameError\u001b[0m                                 Traceback (most recent call last)",
      "\u001b[0;32m<ipython-input-63-bd66786a45d1>\u001b[0m in \u001b[0;36m<module>\u001b[0;34m\u001b[0m\n\u001b[1;32m      1\u001b[0m \u001b[0mtestBitmap\u001b[0m \u001b[0;34m=\u001b[0m \u001b[0mnp\u001b[0m\u001b[0;34m.\u001b[0m\u001b[0mzeros\u001b[0m\u001b[0;34m(\u001b[0m\u001b[0mframe\u001b[0m\u001b[0;34m.\u001b[0m\u001b[0mshape\u001b[0m\u001b[0;34m)\u001b[0m\u001b[0;34m\u001b[0m\u001b[0;34m\u001b[0m\u001b[0m\n\u001b[0;32m----> 2\u001b[0;31m \u001b[0mtestBitmap\u001b[0m \u001b[0;34m=\u001b[0m \u001b[0mdrawFieldNeurons\u001b[0m\u001b[0;34m(\u001b[0m\u001b[0mtiti\u001b[0m\u001b[0;34m,\u001b[0m\u001b[0mtestBitmap\u001b[0m\u001b[0;34m)\u001b[0m\u001b[0;34m\u001b[0m\u001b[0;34m\u001b[0m\u001b[0m\n\u001b[0m\u001b[1;32m      3\u001b[0m \u001b[0mimgplot\u001b[0m \u001b[0;34m=\u001b[0m \u001b[0mplt\u001b[0m\u001b[0;34m.\u001b[0m\u001b[0mimshow\u001b[0m\u001b[0;34m(\u001b[0m\u001b[0mtestBitmap\u001b[0m\u001b[0;34m)\u001b[0m\u001b[0;34m\u001b[0m\u001b[0;34m\u001b[0m\u001b[0m\n",
      "\u001b[0;31mNameError\u001b[0m: name 'drawFieldNeurons' is not defined"
     ]
    }
   ],
   "source": [
    "testBitmap = np.zeros(frame.shape)\n",
    "testBitmap = drawFieldNeurons(titi,testBitmap)\n",
    "imgplot = plt.imshow(testBitmap)"
   ]
  },
  {
   "cell_type": "code",
   "execution_count": null,
   "metadata": {
    "ExecuteTime": {
     "end_time": "2019-07-18T14:27:09.183568Z",
     "start_time": "2019-07-18T14:25:18.685Z"
    }
   },
   "outputs": [],
   "source": [
    "titi = titi[np.nonzero(titi.angle)]\n",
    "titi.describe()"
   ]
  },
  {
   "cell_type": "code",
   "execution_count": null,
   "metadata": {
    "ExecuteTime": {
     "end_time": "2019-07-18T14:27:09.185788Z",
     "start_time": "2019-07-18T14:25:18.689Z"
    }
   },
   "outputs": [],
   "source": [
    "while(1):\n",
    "    cv2.imshow('Canny',frame)\n",
    "    if cv2.waitKey(1) & 0xFF == ord('q'):  # press q to quit\n",
    "            break"
   ]
  },
  {
   "cell_type": "code",
   "execution_count": null,
   "metadata": {
    "ExecuteTime": {
     "end_time": "2019-07-18T14:27:09.188512Z",
     "start_time": "2019-07-18T14:25:18.699Z"
    }
   },
   "outputs": [],
   "source": [
    "imgplot = plt.imshow(frame)"
   ]
  },
  {
   "cell_type": "code",
   "execution_count": null,
   "metadata": {
    "ExecuteTime": {
     "end_time": "2019-07-18T14:27:09.194463Z",
     "start_time": "2019-07-18T14:25:18.704Z"
    }
   },
   "outputs": [],
   "source": [
    "np.max(indices[0])"
   ]
  },
  {
   "cell_type": "code",
   "execution_count": null,
   "metadata": {
    "ExecuteTime": {
     "end_time": "2019-07-18T14:27:09.196376Z",
     "start_time": "2019-07-18T14:25:18.708Z"
    }
   },
   "outputs": [],
   "source": [
    "np.max(nbPixelsAll)"
   ]
  },
  {
   "cell_type": "code",
   "execution_count": null,
   "metadata": {
    "ExecuteTime": {
     "end_time": "2019-07-18T14:27:09.198216Z",
     "start_time": "2019-07-18T14:25:18.715Z"
    }
   },
   "outputs": [],
   "source": [
    "titi[0:4]"
   ]
  },
  {
   "cell_type": "code",
   "execution_count": null,
   "metadata": {
    "ExecuteTime": {
     "end_time": "2019-07-18T14:27:09.202145Z",
     "start_time": "2019-07-18T14:25:18.729Z"
    }
   },
   "outputs": [],
   "source": [
    "moveCoordDeg(45,10,10,5)"
   ]
  },
  {
   "cell_type": "code",
   "execution_count": null,
   "metadata": {
    "ExecuteTime": {
     "end_time": "2019-07-18T14:27:09.204263Z",
     "start_time": "2019-07-18T14:25:18.738Z"
    }
   },
   "outputs": [],
   "source": [
    "titi[(titi.xPos>779-3)&(titi.xPos<779+3)&(titi.yPos>799-3)&(titi.yPos<799+3)]"
   ]
  },
  {
   "cell_type": "code",
   "execution_count": null,
   "metadata": {
    "ExecuteTime": {
     "end_time": "2019-07-18T14:27:09.208339Z",
     "start_time": "2019-07-18T14:25:18.758Z"
    }
   },
   "outputs": [],
   "source": [
    "closestFieldNeurons(titi, 779, 799, 3)"
   ]
  },
  {
   "cell_type": "code",
   "execution_count": null,
   "metadata": {
    "ExecuteTime": {
     "end_time": "2019-07-18T14:27:09.210247Z",
     "start_time": "2019-07-18T14:25:18.764Z"
    }
   },
   "outputs": [],
   "source": [
    "np.sqrt(np.power(np.abs(779-777),2)+np.power(np.abs(799-801),2))"
   ]
  },
  {
   "cell_type": "code",
   "execution_count": null,
   "metadata": {
    "ExecuteTime": {
     "end_time": "2019-07-18T14:27:09.217590Z",
     "start_time": "2019-07-18T14:25:18.773Z"
    }
   },
   "outputs": [],
   "source": [
    "getDistance(779,799,777,801)"
   ]
  },
  {
   "cell_type": "code",
   "execution_count": null,
   "metadata": {
    "ExecuteTime": {
     "end_time": "2019-07-18T14:27:09.219782Z",
     "start_time": "2019-07-18T14:25:18.777Z"
    }
   },
   "outputs": [],
   "source": [
    "closest = closestFieldNeurons(titi, 779, 799, 3)\n",
    "distNeurons = getDistance(779,799,closest.xPos,closest.yPos)"
   ]
  },
  {
   "cell_type": "code",
   "execution_count": null,
   "metadata": {
    "ExecuteTime": {
     "end_time": "2019-07-18T14:27:09.221800Z",
     "start_time": "2019-07-18T14:25:18.782Z"
    }
   },
   "outputs": [],
   "source": [
    "distNeurons[0:1]"
   ]
  },
  {
   "cell_type": "code",
   "execution_count": null,
   "metadata": {
    "ExecuteTime": {
     "end_time": "2019-07-18T14:27:09.223712Z",
     "start_time": "2019-07-18T14:25:18.789Z"
    }
   },
   "outputs": [],
   "source": [
    "distNeurons"
   ]
  },
  {
   "cell_type": "code",
   "execution_count": null,
   "metadata": {
    "ExecuteTime": {
     "end_time": "2019-07-18T14:27:09.225836Z",
     "start_time": "2019-07-18T14:25:18.796Z"
    }
   },
   "outputs": [],
   "source": [
    "closest#.longueur[0:1]"
   ]
  },
  {
   "cell_type": "code",
   "execution_count": null,
   "metadata": {
    "ExecuteTime": {
     "end_time": "2019-07-18T14:27:09.229651Z",
     "start_time": "2019-07-18T14:25:18.807Z"
    }
   },
   "outputs": [],
   "source": [
    "moyenNeuron = getAvgFieldNeuron(closest)"
   ]
  },
  {
   "cell_type": "code",
   "execution_count": null,
   "metadata": {
    "ExecuteTime": {
     "end_time": "2019-07-18T14:27:09.231529Z",
     "start_time": "2019-07-18T14:25:18.814Z"
    }
   },
   "outputs": [],
   "source": [
    "closest.angle * closest.weight"
   ]
  },
  {
   "cell_type": "code",
   "execution_count": null,
   "metadata": {
    "ExecuteTime": {
     "end_time": "2019-07-18T14:27:09.233706Z",
     "start_time": "2019-07-18T14:25:18.820Z"
    }
   },
   "outputs": [],
   "source": [
    "np.sum(closest.weight)"
   ]
  },
  {
   "cell_type": "code",
   "execution_count": null,
   "metadata": {
    "ExecuteTime": {
     "end_time": "2019-07-18T14:27:09.235894Z",
     "start_time": "2019-07-18T14:25:18.824Z"
    }
   },
   "outputs": [],
   "source": [
    "np.sum((closest.angle * closest.weight)/np.sum(closest.weight))"
   ]
  },
  {
   "cell_type": "code",
   "execution_count": null,
   "metadata": {
    "ExecuteTime": {
     "end_time": "2019-07-18T14:27:09.237997Z",
     "start_time": "2019-07-18T14:25:18.828Z"
    }
   },
   "outputs": [],
   "source": [
    "np.average(closest.angle)"
   ]
  },
  {
   "cell_type": "code",
   "execution_count": null,
   "metadata": {
    "ExecuteTime": {
     "end_time": "2019-07-18T14:27:09.239823Z",
     "start_time": "2019-07-18T14:25:18.832Z"
    }
   },
   "outputs": [],
   "source": [
    "np.sum((closest.weight * closest.weight)/np.sum(closest.weight))"
   ]
  },
  {
   "cell_type": "code",
   "execution_count": null,
   "metadata": {
    "ExecuteTime": {
     "end_time": "2019-07-18T14:27:09.242387Z",
     "start_time": "2019-07-18T14:25:18.838Z"
    }
   },
   "outputs": [],
   "source": [
    "np.average(closest.weight)"
   ]
  },
  {
   "cell_type": "code",
   "execution_count": null,
   "metadata": {
    "ExecuteTime": {
     "end_time": "2019-07-18T14:27:09.244308Z",
     "start_time": "2019-07-18T14:25:18.848Z"
    }
   },
   "outputs": [],
   "source": [
    "moyenNeuron"
   ]
  },
  {
   "cell_type": "code",
   "execution_count": null,
   "metadata": {
    "ExecuteTime": {
     "end_time": "2019-07-18T14:27:09.246377Z",
     "start_time": "2019-07-18T14:25:18.852Z"
    }
   },
   "outputs": [],
   "source": [
    "moveCoordDeg(float(moyenNeuron.angle),)\n"
   ]
  },
  {
   "cell_type": "code",
   "execution_count": null,
   "metadata": {
    "ExecuteTime": {
     "end_time": "2019-07-18T14:27:09.250339Z",
     "start_time": "2019-07-18T14:25:18.863Z"
    }
   },
   "outputs": [],
   "source": [
    "npos  = getNextPosition(moyenNeuron)"
   ]
  },
  {
   "cell_type": "code",
   "execution_count": null,
   "metadata": {
    "ExecuteTime": {
     "end_time": "2019-07-18T14:27:09.252235Z",
     "start_time": "2019-07-18T14:25:18.868Z"
    }
   },
   "outputs": [],
   "source": [
    "closestFieldNeurons(titi, npos[0], npos[1], 3).shape[0]"
   ]
  },
  {
   "cell_type": "code",
   "execution_count": null,
   "metadata": {
    "ExecuteTime": {
     "end_time": "2019-07-18T14:27:09.254323Z",
     "start_time": "2019-07-18T14:25:18.874Z"
    }
   },
   "outputs": [],
   "source": [
    "titi.head()"
   ]
  },
  {
   "cell_type": "code",
   "execution_count": null,
   "metadata": {
    "ExecuteTime": {
     "end_time": "2019-07-18T14:27:09.258202Z",
     "start_time": "2019-07-18T14:25:18.887Z"
    }
   },
   "outputs": [],
   "source": [
    "noGroupList = titi[titi.group==0]"
   ]
  },
  {
   "cell_type": "code",
   "execution_count": null,
   "metadata": {
    "ExecuteTime": {
     "end_time": "2019-07-18T14:27:09.259399Z",
     "start_time": "2019-07-18T14:25:18.895Z"
    }
   },
   "outputs": [],
   "source": [
    "moyenNeuron = noGroupList.loc[0]"
   ]
  },
  {
   "cell_type": "code",
   "execution_count": null,
   "metadata": {
    "ExecuteTime": {
     "end_time": "2019-07-18T14:27:09.260482Z",
     "start_time": "2019-07-18T14:25:18.902Z"
    }
   },
   "outputs": [],
   "source": [
    "noGroupList.head().index.values[0]"
   ]
  },
  {
   "cell_type": "code",
   "execution_count": null,
   "metadata": {
    "ExecuteTime": {
     "end_time": "2019-07-18T14:27:09.261549Z",
     "start_time": "2019-07-18T14:25:18.909Z"
    }
   },
   "outputs": [],
   "source": [
    "noGroupList = titi[titi.xPos>400]"
   ]
  },
  {
   "cell_type": "code",
   "execution_count": null,
   "metadata": {
    "ExecuteTime": {
     "end_time": "2019-07-18T14:27:09.262609Z",
     "start_time": "2019-07-18T14:25:18.918Z"
    }
   },
   "outputs": [],
   "source": [
    "np.min(noGroupList.group)"
   ]
  },
  {
   "cell_type": "code",
   "execution_count": null,
   "metadata": {
    "ExecuteTime": {
     "end_time": "2019-07-18T14:27:09.263676Z",
     "start_time": "2019-07-18T14:25:18.923Z"
    }
   },
   "outputs": [],
   "source": [
    "noGroupList.head().index.values[0]"
   ]
  },
  {
   "cell_type": "code",
   "execution_count": null,
   "metadata": {
    "ExecuteTime": {
     "end_time": "2019-07-18T14:27:09.264696Z",
     "start_time": "2019-07-18T14:25:18.929Z"
    }
   },
   "outputs": [],
   "source": [
    "moyenNeuron.longueur"
   ]
  },
  {
   "cell_type": "code",
   "execution_count": null,
   "metadata": {
    "ExecuteTime": {
     "end_time": "2019-07-18T14:27:09.265705Z",
     "start_time": "2019-07-18T14:25:18.936Z"
    }
   },
   "outputs": [],
   "source": [
    "testToto = titi"
   ]
  },
  {
   "cell_type": "code",
   "execution_count": null,
   "metadata": {
    "ExecuteTime": {
     "end_time": "2019-07-18T14:27:09.266676Z",
     "start_time": "2019-07-18T14:25:18.944Z"
    }
   },
   "outputs": [],
   "source": [
    "titi[titi.xPos==407]"
   ]
  },
  {
   "cell_type": "code",
   "execution_count": null,
   "metadata": {
    "ExecuteTime": {
     "end_time": "2019-07-18T14:27:09.267654Z",
     "start_time": "2019-07-18T14:25:18.954Z"
    }
   },
   "outputs": [],
   "source": [
    "testToto.loc[testToto.xPos==407,'xPos']=408"
   ]
  },
  {
   "cell_type": "code",
   "execution_count": null,
   "metadata": {
    "ExecuteTime": {
     "end_time": "2019-07-18T14:27:09.269109Z",
     "start_time": "2019-07-18T14:25:18.972Z"
    }
   },
   "outputs": [],
   "source": [
    "findGroups(titi)"
   ]
  },
  {
   "cell_type": "code",
   "execution_count": null,
   "metadata": {
    "ExecuteTime": {
     "end_time": "2019-07-18T14:27:09.271036Z",
     "start_time": "2019-07-18T14:25:18.989Z"
    }
   },
   "outputs": [],
   "source": [
    "titi.groupby('group').agg(['mean', 'count'])"
   ]
  },
  {
   "cell_type": "code",
   "execution_count": null,
   "metadata": {
    "ExecuteTime": {
     "end_time": "2019-07-18T14:27:09.272951Z",
     "start_time": "2019-07-18T14:25:19.000Z"
    }
   },
   "outputs": [],
   "source": [
    "titi.groupby('group').size().hist()"
   ]
  },
  {
   "cell_type": "code",
   "execution_count": null,
   "metadata": {
    "ExecuteTime": {
     "end_time": "2019-07-18T14:27:09.279746Z",
     "start_time": "2019-07-18T14:25:19.006Z"
    }
   },
   "outputs": [],
   "source": [
    "xGroupList.iloc[0]"
   ]
  },
  {
   "cell_type": "code",
   "execution_count": null,
   "metadata": {
    "ExecuteTime": {
     "end_time": "2019-07-18T14:27:09.281862Z",
     "start_time": "2019-07-18T14:25:19.011Z"
    }
   },
   "outputs": [],
   "source": [
    "resultGroup = titi.groupby('group').size()"
   ]
  },
  {
   "cell_type": "code",
   "execution_count": null,
   "metadata": {
    "ExecuteTime": {
     "end_time": "2019-07-18T14:27:09.283604Z",
     "start_time": "2019-07-18T14:25:19.016Z"
    }
   },
   "outputs": [],
   "source": [
    "resultGroup[resultGroup>10]"
   ]
  },
  {
   "cell_type": "code",
   "execution_count": null,
   "metadata": {},
   "outputs": [],
   "source": []
  },
  {
   "cell_type": "code",
   "execution_count": null,
   "metadata": {
    "ExecuteTime": {
     "end_time": "2019-07-18T14:27:09.317530Z",
     "start_time": "2019-07-18T14:25:19.031Z"
    }
   },
   "outputs": [],
   "source": [
    "neuronTest = titi.iloc[490]"
   ]
  },
  {
   "cell_type": "code",
   "execution_count": null,
   "metadata": {
    "ExecuteTime": {
     "end_time": "2019-07-18T14:27:09.319961Z",
     "start_time": "2019-07-18T14:25:19.035Z"
    }
   },
   "outputs": [],
   "source": [
    "neuronTest"
   ]
  },
  {
   "cell_type": "code",
   "execution_count": null,
   "metadata": {
    "ExecuteTime": {
     "end_time": "2019-07-18T14:27:09.324207Z",
     "start_time": "2019-07-18T14:25:19.040Z"
    }
   },
   "outputs": [],
   "source": [
    "ttt = getNFCoordinate(neuronTest)"
   ]
  },
  {
   "cell_type": "code",
   "execution_count": null,
   "metadata": {
    "ExecuteTime": {
     "end_time": "2019-07-18T14:27:09.326786Z",
     "start_time": "2019-07-18T14:25:19.045Z"
    }
   },
   "outputs": [],
   "source": [
    "ttt[0]"
   ]
  },
  {
   "cell_type": "code",
   "execution_count": null,
   "metadata": {
    "ExecuteTime": {
     "end_time": "2019-07-18T14:27:09.332127Z",
     "start_time": "2019-07-18T14:25:19.054Z"
    }
   },
   "outputs": [],
   "source": [
    "testBitmap = np.zeros(frame.shape)"
   ]
  },
  {
   "cell_type": "code",
   "execution_count": null,
   "metadata": {
    "ExecuteTime": {
     "end_time": "2019-07-18T14:27:09.335333Z",
     "start_time": "2019-07-18T14:25:19.062Z"
    }
   },
   "outputs": [],
   "source": [
    "testBitmap.shape"
   ]
  },
  {
   "cell_type": "code",
   "execution_count": null,
   "metadata": {
    "ExecuteTime": {
     "end_time": "2019-07-18T14:27:09.338626Z",
     "start_time": "2019-07-18T14:25:19.067Z"
    }
   },
   "outputs": [],
   "source": [
    "titi.head()"
   ]
  },
  {
   "cell_type": "code",
   "execution_count": null,
   "metadata": {
    "ExecuteTime": {
     "end_time": "2019-07-18T14:27:09.341295Z",
     "start_time": "2019-07-18T14:25:19.073Z"
    }
   },
   "outputs": [],
   "source": [
    "testBitmap = np.zeros(frame.shape)\n",
    "testBitmap = drawFieldNeurons(titi,testBitmap)\n",
    "imgplot = plt.imshow(testBitmap)"
   ]
  },
  {
   "cell_type": "code",
   "execution_count": null,
   "metadata": {
    "ExecuteTime": {
     "end_time": "2019-07-18T14:27:09.344347Z",
     "start_time": "2019-07-18T14:25:19.078Z"
    }
   },
   "outputs": [],
   "source": [
    "imgplot = plt.imshow(testBitmap)"
   ]
  },
  {
   "cell_type": "code",
   "execution_count": null,
   "metadata": {
    "ExecuteTime": {
     "end_time": "2019-07-18T14:27:09.347513Z",
     "start_time": "2019-07-18T14:25:19.084Z"
    }
   },
   "outputs": [],
   "source": [
    "while(1):\n",
    "    cv2.imshow('Canny',testBitmap)\n",
    "    if cv2.waitKey(1) & 0xFF == ord('q'):  # press q to quit\n",
    "            break"
   ]
  },
  {
   "cell_type": "code",
   "execution_count": null,
   "metadata": {
    "ExecuteTime": {
     "end_time": "2019-07-18T14:27:09.350277Z",
     "start_time": "2019-07-18T14:25:19.091Z"
    }
   },
   "outputs": [],
   "source": [
    "titi.describe()"
   ]
  },
  {
   "cell_type": "code",
   "execution_count": null,
   "metadata": {
    "ExecuteTime": {
     "end_time": "2019-07-18T14:27:09.352815Z",
     "start_time": "2019-07-18T14:25:19.095Z"
    }
   },
   "outputs": [],
   "source": [
    "frame.describe"
   ]
  },
  {
   "cell_type": "code",
   "execution_count": null,
   "metadata": {},
   "outputs": [],
   "source": []
  }
 ],
 "metadata": {
  "kernelspec": {
   "display_name": "Python 3",
   "language": "python",
   "name": "python3"
  },
  "language_info": {
   "codemirror_mode": {
    "name": "ipython",
    "version": 3
   },
   "file_extension": ".py",
   "mimetype": "text/x-python",
   "name": "python",
   "nbconvert_exporter": "python",
   "pygments_lexer": "ipython3",
   "version": "3.7.3"
  },
  "toc": {
   "base_numbering": 1,
   "nav_menu": {},
   "number_sections": true,
   "sideBar": true,
   "skip_h1_title": false,
   "title_cell": "Table of Contents",
   "title_sidebar": "Contents",
   "toc_cell": false,
   "toc_position": {},
   "toc_section_display": true,
   "toc_window_display": false
  },
  "varInspector": {
   "cols": {
    "lenName": 16,
    "lenType": 16,
    "lenVar": 40
   },
   "kernels_config": {
    "python": {
     "delete_cmd_postfix": "",
     "delete_cmd_prefix": "del ",
     "library": "var_list.py",
     "varRefreshCmd": "print(var_dic_list())"
    },
    "r": {
     "delete_cmd_postfix": ") ",
     "delete_cmd_prefix": "rm(",
     "library": "var_list.r",
     "varRefreshCmd": "cat(var_dic_list()) "
    }
   },
   "types_to_exclude": [
    "module",
    "function",
    "builtin_function_or_method",
    "instance",
    "_Feature"
   ],
   "window_display": false
  }
 },
 "nbformat": 4,
 "nbformat_minor": 2
}
