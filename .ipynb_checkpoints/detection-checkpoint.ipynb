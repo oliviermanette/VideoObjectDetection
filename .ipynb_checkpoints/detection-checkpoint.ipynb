{
 "cells": [
  {
   "cell_type": "code",
   "execution_count": 1,
   "metadata": {
    "ExecuteTime": {
     "end_time": "2019-07-18T08:23:51.259024Z",
     "start_time": "2019-07-18T08:23:50.947608Z"
    }
   },
   "outputs": [],
   "source": [
    "import cv2"
   ]
  },
  {
   "cell_type": "code",
   "execution_count": 2,
   "metadata": {
    "ExecuteTime": {
     "end_time": "2019-07-18T08:23:56.980882Z",
     "start_time": "2019-07-18T08:23:56.972704Z"
    }
   },
   "outputs": [
    {
     "name": "stdout",
     "output_type": "stream",
     "text": [
      "4.1.0\n"
     ]
    }
   ],
   "source": [
    "print(cv2.__version__)"
   ]
  },
  {
   "cell_type": "code",
   "execution_count": 3,
   "metadata": {
    "ExecuteTime": {
     "end_time": "2019-07-18T08:24:08.528395Z",
     "start_time": "2019-07-18T08:24:08.521871Z"
    }
   },
   "outputs": [],
   "source": [
    "import numpy as np"
   ]
  },
  {
   "cell_type": "code",
   "execution_count": 4,
   "metadata": {
    "ExecuteTime": {
     "end_time": "2019-07-18T08:24:10.006476Z",
     "start_time": "2019-07-18T08:24:09.999668Z"
    }
   },
   "outputs": [],
   "source": [
    "import os\n",
    "path = \"/Users/oliviermanette/Desktop/trailer detection challenge/data/P473_Arizona_Day_Asphalt_Close_To_Sunset_dry_Nominal_8300lx\"\n",
    "os.chdir(path)\n",
    "#cd \"/Users/oliviermanette/OneDrive\\ -\\ FLod.aero/challenge_9934207_training/P473_Arizona_Day_Asphalt_Close_To_Sunset_dry_Nominal_8300lx\"\n",
    "#cd \"\\Users\\oliviermanette\\\""
   ]
  },
  {
   "cell_type": "code",
   "execution_count": 5,
   "metadata": {
    "ExecuteTime": {
     "end_time": "2019-07-18T08:24:17.759874Z",
     "start_time": "2019-07-18T08:24:17.725386Z"
    }
   },
   "outputs": [
    {
     "data": {
      "text/plain": [
       "'/Users/oliviermanette/Desktop/trailer detection challenge/data/P473_Arizona_Day_Asphalt_Close_To_Sunset_dry_Nominal_8300lx'"
      ]
     },
     "execution_count": 5,
     "metadata": {},
     "output_type": "execute_result"
    }
   ],
   "source": [
    "pwd"
   ]
  },
  {
   "cell_type": "code",
   "execution_count": 6,
   "metadata": {
    "ExecuteTime": {
     "end_time": "2019-07-18T08:24:23.510637Z",
     "start_time": "2019-07-18T08:24:23.349374Z"
    }
   },
   "outputs": [
    {
     "name": "stdout",
     "output_type": "stream",
     "text": [
      "\u001b[1m\u001b[32mP473_Arizona_Day_Asphalt_Close_To_Sunset_dry_Nominal_8300lx.avi\u001b[m\u001b[m*\r\n",
      "\u001b[1m\u001b[32mP473_Arizona_Day_Asphalt_Close_To_Sunset_dry_Nominal_8300lx.dat_GT.csv\u001b[m\u001b[m*\r\n"
     ]
    }
   ],
   "source": [
    "ls"
   ]
  },
  {
   "cell_type": "code",
   "execution_count": 7,
   "metadata": {
    "ExecuteTime": {
     "end_time": "2019-07-18T08:24:24.713543Z",
     "start_time": "2019-07-18T08:24:24.707651Z"
    }
   },
   "outputs": [],
   "source": [
    "#fileName='W420_ES_Hi_Snow_Slush_Asphalt_28klux.avi'\n",
    "fileName='P473_Arizona_Day_Asphalt_Close_To_Sunset_dry_Nominal_8300lx.avi'"
   ]
  },
  {
   "cell_type": "code",
   "execution_count": null,
   "metadata": {
    "ExecuteTime": {
     "start_time": "2019-07-18T08:24:29.212Z"
    }
   },
   "outputs": [],
   "source": [
    "cap = cv2.VideoCapture(fileName)          # load the video\n",
    "while(cap.isOpened()):                    # play the video by reading frame by frame\n",
    "    ret, frame = cap.read()\n",
    "    if ret==True:\n",
    "        # optional: do some image processing here \n",
    "        cv2.imshow('frame',frame)     \n",
    "        # show the video\n",
    "        if cv2.waitKey(1) & 0xFF == ord('q'):\n",
    "        #if 0xFF == ord('q'):\n",
    "            break\n",
    "    else:\n",
    "        break\n",
    "cap.release()\n",
    "cv2.destroyAllWindows()"
   ]
  },
  {
   "cell_type": "code",
   "execution_count": 307,
   "metadata": {
    "ExecuteTime": {
     "end_time": "2019-07-16T19:11:36.511700Z",
     "start_time": "2019-07-16T19:11:25.934470Z"
    }
   },
   "outputs": [],
   "source": [
    "kernelSize=21   # Kernel Bluring size \n",
    "\n",
    "# Edge Detection Parameter\n",
    "parameter1=20\n",
    "parameter2=40\n",
    "intApertureSize=1\n",
    "\n",
    "#cap = cv2.VideoCapture(0)\n",
    "cap = cv2.VideoCapture(fileName)\n",
    "lCounter=0\n",
    "while(cap.isOpened()):\n",
    "    # Capture frame-by-frame\n",
    "    ret, frame = cap.read()    \n",
    "    if ret==True:\n",
    "        # Our operations on the frame come here\n",
    "        if lCounter==1:\n",
    "            frame = cv2.GaussianBlur(frame, (kernelSize,kernelSize), 0, 0)\n",
    "            frame = cv2.Canny(frame,parameter1,parameter2,intApertureSize)  # Canny edge detection\n",
    "            lCounter = 0\n",
    "        lCounter += 1;\n",
    "        #frame = cv2.Laplacian(frame,cv2.CV_64F) # Laplacian edge detection\n",
    "        #frame = cv2.Sobel(frame,cv2.CV_64F,1,0,ksize=kernelSize) # X-direction Sobel edge detection\n",
    "        #frame = cv2.Sobel(frame,cv2.CV_64F,0,1,ksize=kernelSize) # Y-direction Sobel edge detection\n",
    "        #frame[0:10,10]=255\n",
    "        indices = np.where(frame != [0])\n",
    "        # Display the resulting frame\n",
    "        cv2.imshow('Canny',frame)\n",
    "        if cv2.waitKey(1) & 0xFF == ord('q'):  # press q to quit\n",
    "            break\n",
    "    else:\n",
    "        break\n",
    "# When everything done, release the capture\n",
    "cap.release()\n",
    "cv2.destroyAllWindows()"
   ]
  },
  {
   "cell_type": "code",
   "execution_count": 10,
   "metadata": {
    "ExecuteTime": {
     "end_time": "2019-07-15T21:25:54.102370Z",
     "start_time": "2019-07-15T21:25:54.094292Z"
    }
   },
   "outputs": [
    {
     "data": {
      "text/plain": [
       "array([[0, 0, 0, ..., 0, 0, 0],\n",
       "       [0, 0, 0, ..., 0, 0, 0],\n",
       "       [0, 0, 0, ..., 0, 0, 0],\n",
       "       ...,\n",
       "       [0, 0, 0, ..., 0, 0, 0],\n",
       "       [0, 0, 0, ..., 0, 0, 0],\n",
       "       [0, 0, 0, ..., 0, 0, 0]], dtype=uint8)"
      ]
     },
     "execution_count": 10,
     "metadata": {},
     "output_type": "execute_result"
    }
   ],
   "source": [
    "frame"
   ]
  },
  {
   "cell_type": "code",
   "execution_count": 11,
   "metadata": {
    "ExecuteTime": {
     "end_time": "2019-07-15T21:25:54.113402Z",
     "start_time": "2019-07-15T21:25:54.105858Z"
    }
   },
   "outputs": [
    {
     "data": {
      "text/plain": [
       "1024000"
      ]
     },
     "execution_count": 11,
     "metadata": {},
     "output_type": "execute_result"
    }
   ],
   "source": [
    "frame.size"
   ]
  },
  {
   "cell_type": "code",
   "execution_count": 12,
   "metadata": {
    "ExecuteTime": {
     "end_time": "2019-07-15T21:25:54.124979Z",
     "start_time": "2019-07-15T21:25:54.116715Z"
    }
   },
   "outputs": [
    {
     "data": {
      "text/plain": [
       "2"
      ]
     },
     "execution_count": 12,
     "metadata": {},
     "output_type": "execute_result"
    }
   ],
   "source": [
    "frame.ndim"
   ]
  },
  {
   "cell_type": "code",
   "execution_count": 13,
   "metadata": {
    "ExecuteTime": {
     "end_time": "2019-07-15T21:25:54.139840Z",
     "start_time": "2019-07-15T21:25:54.128097Z"
    }
   },
   "outputs": [
    {
     "data": {
      "text/plain": [
       "1"
      ]
     },
     "execution_count": 13,
     "metadata": {},
     "output_type": "execute_result"
    }
   ],
   "source": [
    "frame.itemsize"
   ]
  },
  {
   "cell_type": "code",
   "execution_count": 14,
   "metadata": {
    "ExecuteTime": {
     "end_time": "2019-07-15T21:25:54.152418Z",
     "start_time": "2019-07-15T21:25:54.143635Z"
    }
   },
   "outputs": [
    {
     "data": {
      "text/plain": [
       "1024000"
      ]
     },
     "execution_count": 14,
     "metadata": {},
     "output_type": "execute_result"
    }
   ],
   "source": [
    "frame.nbytes"
   ]
  },
  {
   "cell_type": "code",
   "execution_count": 15,
   "metadata": {
    "ExecuteTime": {
     "end_time": "2019-07-15T21:25:54.168755Z",
     "start_time": "2019-07-15T21:25:54.157753Z"
    }
   },
   "outputs": [
    {
     "data": {
      "text/plain": [
       "(800, 1280)"
      ]
     },
     "execution_count": 15,
     "metadata": {},
     "output_type": "execute_result"
    }
   ],
   "source": [
    "frame.shape"
   ]
  },
  {
   "cell_type": "code",
   "execution_count": 16,
   "metadata": {
    "ExecuteTime": {
     "end_time": "2019-07-15T21:25:54.180172Z",
     "start_time": "2019-07-15T21:25:54.172374Z"
    }
   },
   "outputs": [
    {
     "data": {
      "text/plain": [
       "255"
      ]
     },
     "execution_count": 16,
     "metadata": {},
     "output_type": "execute_result"
    }
   ],
   "source": [
    "frame.max()"
   ]
  },
  {
   "cell_type": "code",
   "execution_count": 17,
   "metadata": {
    "ExecuteTime": {
     "end_time": "2019-07-15T21:25:54.189538Z",
     "start_time": "2019-07-15T21:25:54.182863Z"
    }
   },
   "outputs": [],
   "source": [
    "frame[0:10,1]=1"
   ]
  },
  {
   "cell_type": "code",
   "execution_count": 18,
   "metadata": {
    "ExecuteTime": {
     "end_time": "2019-07-15T21:25:54.202261Z",
     "start_time": "2019-07-15T21:25:54.193660Z"
    }
   },
   "outputs": [
    {
     "data": {
      "text/plain": [
       "array([1, 1, 1, 1, 1, 1, 1, 1, 1, 1], dtype=uint8)"
      ]
     },
     "execution_count": 18,
     "metadata": {},
     "output_type": "execute_result"
    }
   ],
   "source": [
    "frame[0:10,1]"
   ]
  },
  {
   "cell_type": "code",
   "execution_count": 72,
   "metadata": {
    "ExecuteTime": {
     "end_time": "2019-07-15T21:28:43.790362Z",
     "start_time": "2019-07-15T21:28:43.780072Z"
    }
   },
   "outputs": [],
   "source": [
    "indices = np.where(frame != [0])"
   ]
  },
  {
   "cell_type": "code",
   "execution_count": 88,
   "metadata": {
    "ExecuteTime": {
     "end_time": "2019-07-15T21:32:25.377658Z",
     "start_time": "2019-07-15T21:32:25.370689Z"
    }
   },
   "outputs": [],
   "source": [
    "#@jit(nopython=True, parallel=True)\n",
    "def getNonZero(img):\n",
    "    return np.where(img != [0])"
   ]
  },
  {
   "cell_type": "code",
   "execution_count": 94,
   "metadata": {
    "ExecuteTime": {
     "end_time": "2019-07-15T21:32:42.803850Z",
     "start_time": "2019-07-15T21:32:42.794439Z"
    }
   },
   "outputs": [],
   "source": [
    "tata =  getNonZero(frame)"
   ]
  },
  {
   "cell_type": "code",
   "execution_count": null,
   "metadata": {},
   "outputs": [],
   "source": []
  },
  {
   "cell_type": "code",
   "execution_count": 20,
   "metadata": {
    "ExecuteTime": {
     "end_time": "2019-07-15T21:25:54.225996Z",
     "start_time": "2019-07-15T21:25:54.221490Z"
    }
   },
   "outputs": [],
   "source": [
    "coordinates = zip(indices[0], indices[1])"
   ]
  },
  {
   "cell_type": "code",
   "execution_count": 66,
   "metadata": {
    "ExecuteTime": {
     "end_time": "2019-07-15T21:27:05.834829Z",
     "start_time": "2019-07-15T21:27:05.827750Z"
    }
   },
   "outputs": [
    {
     "data": {
      "text/plain": [
       "9282"
      ]
     },
     "execution_count": 66,
     "metadata": {},
     "output_type": "execute_result"
    }
   ],
   "source": [
    "indices[1].size"
   ]
  },
  {
   "cell_type": "code",
   "execution_count": 22,
   "metadata": {
    "ExecuteTime": {
     "end_time": "2019-07-15T21:25:54.255302Z",
     "start_time": "2019-07-15T21:25:54.244606Z"
    }
   },
   "outputs": [
    {
     "data": {
      "text/plain": [
       "array([  1,   1,   1,   1,   1,   1,   1,   1,   1,   1, 145, 146, 147,\n",
       "       148, 144, 149, 139, 140, 141, 142, 143, 150, 137, 138, 139, 140,\n",
       "       152, 134, 135, 150, 152, 134, 150, 132, 133, 152, 132, 152, 131,\n",
       "       132, 152, 131, 152, 131, 151, 131, 151, 130, 151, 130, 151, 130,\n",
       "       151, 129, 151, 129, 151, 129, 151, 129, 151, 128, 151, 129, 152,\n",
       "       129, 152, 129, 150, 153, 128, 150, 153, 128, 152, 129, 152, 129,\n",
       "       130, 151, 152, 130, 144, 150, 151, 130, 149, 150, 131, 132, 141,\n",
       "       142, 143, 144, 145, 148, 149, 132, 134, 135])"
      ]
     },
     "execution_count": 22,
     "metadata": {},
     "output_type": "execute_result"
    }
   ],
   "source": [
    "indices[1][0:100]"
   ]
  },
  {
   "cell_type": "code",
   "execution_count": 65,
   "metadata": {
    "ExecuteTime": {
     "end_time": "2019-07-15T21:26:28.261777Z",
     "start_time": "2019-07-15T21:26:28.041211Z"
    }
   },
   "outputs": [
    {
     "data": {
      "image/png": "[encoded data removed]",
      "text/plain": [
       "<Figure size 432x288 with 1 Axes>"
      ]
     },
     "metadata": {
      "needs_background": "light"
     },
     "output_type": "display_data"
    }
   ],
   "source": [
    "import matplotlib\n",
    "import matplotlib.pyplot as plt\n",
    "fig, ax = plt.subplots()\n",
    "#s = pow(0.75,t)\n",
    "ax.plot(indices[1][0:300],indices[0][0:300])\n",
    "#ax.set(xlabel='time (s)', ylabel='voltage (mV)',\n",
    "#       title='About as simple as it gets, folks')\n",
    "ax.grid()\n",
    "\n",
    "#fig.savefig(\"test.png\")\n",
    "plt.show()"
   ]
  },
  {
   "cell_type": "code",
   "execution_count": 24,
   "metadata": {
    "ExecuteTime": {
     "end_time": "2019-07-15T21:25:54.717892Z",
     "start_time": "2019-07-15T21:25:54.711115Z"
    }
   },
   "outputs": [
    {
     "name": "stdout",
     "output_type": "stream",
     "text": [
      "[ 0  1  2  3  4  5  6  7  8  9 78 78 78 78 79 79 80 80 80 80 80 80 82 82\n",
      " 82 82 82 83 83 83],[  1   1   1   1   1   1   1   1   1   1 145 146 147 148 144 149 139 140\n",
      " 141 142 143 150 137 138 139 140 152 134 135 150]\n"
     ]
    }
   ],
   "source": [
    "print(str(indices[0][0:30])+','+str(indices[1][0:30]))"
   ]
  },
  {
   "cell_type": "code",
   "execution_count": 25,
   "metadata": {
    "ExecuteTime": {
     "end_time": "2019-07-15T21:25:55.181974Z",
     "start_time": "2019-07-15T21:25:54.721672Z"
    }
   },
   "outputs": [],
   "source": [
    "from numba import jit"
   ]
  },
  {
   "cell_type": "code",
   "execution_count": 524,
   "metadata": {
    "ExecuteTime": {
     "end_time": "2019-07-17T13:23:50.410704Z",
     "start_time": "2019-07-17T13:23:50.292885Z"
    }
   },
   "outputs": [],
   "source": [
    "@jit(nopython=True, parallel=True)\n",
    "def nbPixelField(tableX, tableY, frameEdge, tailleField=3):\n",
    "    idx = 0\n",
    "    results = np.zeros(tableX.size)\n",
    "    rayon = np.floor(tailleField / 2)\n",
    "    tailleMaxX = frameEdge.shape[0]\n",
    "    tailleMaxY = frameEdge.shape[1]\n",
    "    halfX = tailleMaxX/2;\n",
    "    #[::tailleField]\n",
    "    for posX in tableX:\n",
    "        posY = tableY[idx]\n",
    "        if posX>halfX and posX >= rayon and (posX + rayon) < tailleMaxX:\n",
    "            results[idx] = np.sum(\n",
    "                frameEdge[int(posX - rayon):int(posX + rayon + 1),\n",
    "                        int(posY - rayon):int(posY + rayon + 1)] / 255)\n",
    "        idx += 1#tailleField\n",
    "    return results"
   ]
  },
  {
   "cell_type": "code",
   "execution_count": 27,
   "metadata": {
    "ExecuteTime": {
     "end_time": "2019-07-15T21:25:56.655478Z",
     "start_time": "2019-07-15T21:25:55.317186Z"
    }
   },
   "outputs": [
    {
     "data": {
      "text/plain": [
       "1199"
      ]
     },
     "execution_count": 27,
     "metadata": {},
     "output_type": "execute_result"
    }
   ],
   "source": [
    "tailleField = 3;#must be odd\n",
    "nbPixelsAll = nbPixelField(indices[0], indices[1], frame, tailleField);\n",
    "toto = nbPixelsAll > tailleField\n",
    "sum(toto)"
   ]
  },
  {
   "cell_type": "code",
   "execution_count": 28,
   "metadata": {
    "ExecuteTime": {
     "end_time": "2019-07-15T21:25:56.666770Z",
     "start_time": "2019-07-15T21:25:56.658192Z"
    }
   },
   "outputs": [
    {
     "data": {
      "text/plain": [
       "array([0., 0., 0., ..., 3., 3., 2.])"
      ]
     },
     "execution_count": 28,
     "metadata": {},
     "output_type": "execute_result"
    }
   ],
   "source": [
    "nbPixelsAll"
   ]
  },
  {
   "cell_type": "code",
   "execution_count": 29,
   "metadata": {
    "ExecuteTime": {
     "end_time": "2019-07-15T21:25:56.680611Z",
     "start_time": "2019-07-15T21:25:56.670828Z"
    }
   },
   "outputs": [
    {
     "data": {
      "text/plain": [
       "17.0"
      ]
     },
     "execution_count": 29,
     "metadata": {},
     "output_type": "execute_result"
    }
   ],
   "source": [
    "from numpy import pi\n",
    "5-4*np.tan(np.arctan(-3/1))"
   ]
  },
  {
   "cell_type": "code",
   "execution_count": 30,
   "metadata": {
    "ExecuteTime": {
     "end_time": "2019-07-15T21:25:56.693493Z",
     "start_time": "2019-07-15T21:25:56.683936Z"
    }
   },
   "outputs": [
    {
     "data": {
      "text/plain": [
       "15.666666666666666"
      ]
     },
     "execution_count": 30,
     "metadata": {},
     "output_type": "execute_result"
    }
   ],
   "source": [
    "13-4*np.tan(np.arctan(-2/3))"
   ]
  },
  {
   "cell_type": "code",
   "execution_count": 31,
   "metadata": {
    "ExecuteTime": {
     "end_time": "2019-07-15T21:25:56.706077Z",
     "start_time": "2019-07-15T21:25:56.696889Z"
    }
   },
   "outputs": [
    {
     "name": "stdout",
     "output_type": "stream",
     "text": [
      "[[0. 0. 0.]\n",
      " [0. 0. 0.]\n",
      " [0. 0. 0.]]\n"
     ]
    }
   ],
   "source": [
    "M = np.zeros((3,3))\n",
    "print(M)"
   ]
  },
  {
   "cell_type": "code",
   "execution_count": 32,
   "metadata": {
    "ExecuteTime": {
     "end_time": "2019-07-15T21:25:56.723021Z",
     "start_time": "2019-07-15T21:25:56.710342Z"
    }
   },
   "outputs": [],
   "source": [
    "@jit(nopython=True, parallel=True)\n",
    "def fillAngleMat(size):\n",
    "    output = np.zeros((size, size))\n",
    "    offset = int(np.floor(size / 2))\n",
    "    for x in range(0, size):\n",
    "        for y in range(0, size):\n",
    "            if (x - offset) == 0:\n",
    "                output[x, y] = 90\n",
    "            else:\n",
    "                output[x, y] = np.around(\n",
    "                    np.arctan((y - offset) / (offset - x)) / pi * 180,\n",
    "                    2)\n",
    "    output[offset, offset] = 0\n",
    "    return output"
   ]
  },
  {
   "cell_type": "code",
   "execution_count": 33,
   "metadata": {
    "ExecuteTime": {
     "end_time": "2019-07-15T21:25:57.566460Z",
     "start_time": "2019-07-15T21:25:56.726158Z"
    }
   },
   "outputs": [],
   "source": [
    "angleMat = fillAngleMat(7)"
   ]
  },
  {
   "cell_type": "code",
   "execution_count": 34,
   "metadata": {
    "ExecuteTime": {
     "end_time": "2019-07-15T21:25:57.581522Z",
     "start_time": "2019-07-15T21:25:57.569818Z"
    }
   },
   "outputs": [
    {
     "data": {
      "text/plain": [
       "(array([ 213,  214,  219, ..., 9249, 9250, 9267]),)"
      ]
     },
     "execution_count": 34,
     "metadata": {},
     "output_type": "execute_result"
    }
   ],
   "source": [
    "np.where(toto==1)"
   ]
  },
  {
   "cell_type": "code",
   "execution_count": 35,
   "metadata": {
    "ExecuteTime": {
     "end_time": "2019-07-15T21:25:57.598857Z",
     "start_time": "2019-07-15T21:25:57.587140Z"
    }
   },
   "outputs": [
    {
     "data": {
      "text/plain": [
       "array([[-45., -34., -18.,   0.,  18.,  34.,  45.],\n",
       "       [-56., -45., -27.,   0.,  27.,  45.,  56.],\n",
       "       [-72., -63., -45.,   0.,  45.,  63.,  72.],\n",
       "       [ 90.,  90.,  90.,   0.,  90.,  90.,  90.],\n",
       "       [ 72.,  63.,  45.,  -0., -45., -63., -72.],\n",
       "       [ 56.,  45.,  27.,  -0., -27., -45., -56.],\n",
       "       [ 45.,  34.,  18.,  -0., -18., -34., -45.]])"
      ]
     },
     "execution_count": 35,
     "metadata": {},
     "output_type": "execute_result"
    }
   ],
   "source": [
    "np.around(angleMat)"
   ]
  },
  {
   "cell_type": "code",
   "execution_count": 36,
   "metadata": {
    "ExecuteTime": {
     "end_time": "2019-07-15T21:25:57.613813Z",
     "start_time": "2019-07-15T21:25:57.601995Z"
    }
   },
   "outputs": [],
   "source": [
    "posX=indices[0][257]\n",
    "posY=indices[1][257]\n",
    "titi = frame[int(posX - tailleField):int(posX + tailleField + 1),\n",
    "                        int(posY - tailleField):int(posY + tailleField + 1)]/255"
   ]
  },
  {
   "cell_type": "code",
   "execution_count": 37,
   "metadata": {
    "ExecuteTime": {
     "end_time": "2019-07-15T21:25:57.632116Z",
     "start_time": "2019-07-15T21:25:57.617147Z"
    }
   },
   "outputs": [
    {
     "data": {
      "text/plain": [
       "-25.576"
      ]
     },
     "execution_count": 37,
     "metadata": {},
     "output_type": "execute_result"
    }
   ],
   "source": [
    "test = np.multiply(angleMat,titi)\n",
    "test2 = test[np.nonzero(test)]\n",
    "np.mean(test2)"
   ]
  },
  {
   "cell_type": "code",
   "execution_count": 38,
   "metadata": {
    "ExecuteTime": {
     "end_time": "2019-07-15T21:25:57.644270Z",
     "start_time": "2019-07-15T21:25:57.635776Z"
    }
   },
   "outputs": [
    {
     "data": {
      "text/plain": [
       "array([[ -0.  ,  -0.  ,  -0.  ,   0.  ,   0.  ,   0.  ,   0.  ],\n",
       "       [ -0.  ,  -0.  ,  -0.  ,   0.  ,   0.  ,   0.  ,   0.  ],\n",
       "       [ -0.  ,  -0.  ,  -0.  ,   0.  ,   0.  ,   0.  ,   0.  ],\n",
       "       [  0.  ,   0.  ,   0.  ,   0.  ,   0.  ,   0.  ,   0.  ],\n",
       "       [  0.  ,   0.  ,   0.  ,  -0.  ,  -0.  ,  -0.  , -71.57],\n",
       "       [  0.  ,   0.  ,  26.57,  -0.  ,  -0.  , -45.  , -56.31],\n",
       "       [  0.  ,   0.  ,  18.43,  -0.  ,  -0.  ,  -0.  ,  -0.  ]])"
      ]
     },
     "execution_count": 38,
     "metadata": {},
     "output_type": "execute_result"
    }
   ],
   "source": [
    "test"
   ]
  },
  {
   "cell_type": "code",
   "execution_count": 39,
   "metadata": {
    "ExecuteTime": {
     "end_time": "2019-07-15T21:25:57.659864Z",
     "start_time": "2019-07-15T21:25:57.647945Z"
    }
   },
   "outputs": [
    {
     "data": {
      "text/plain": [
       "array([[0., 0., 0., 0., 0., 0., 0.],\n",
       "       [0., 0., 0., 0., 0., 0., 0.],\n",
       "       [0., 0., 0., 0., 0., 0., 0.],\n",
       "       [0., 0., 0., 1., 0., 0., 0.],\n",
       "       [0., 0., 0., 1., 0., 0., 1.],\n",
       "       [0., 0., 1., 0., 0., 1., 1.],\n",
       "       [0., 0., 1., 0., 0., 0., 0.]])"
      ]
     },
     "execution_count": 39,
     "metadata": {},
     "output_type": "execute_result"
    }
   ],
   "source": [
    "titi"
   ]
  },
  {
   "cell_type": "code",
   "execution_count": 40,
   "metadata": {
    "ExecuteTime": {
     "end_time": "2019-07-15T21:25:57.674455Z",
     "start_time": "2019-07-15T21:25:57.665316Z"
    }
   },
   "outputs": [
    {
     "data": {
      "text/plain": [
       "67.42337182183026"
      ]
     },
     "execution_count": 40,
     "metadata": {},
     "output_type": "execute_result"
    }
   ],
   "source": [
    "255/(1+np.exp(0.1*(np.abs(np.std(test2))-30)))"
   ]
  },
  {
   "cell_type": "code",
   "execution_count": 41,
   "metadata": {
    "ExecuteTime": {
     "end_time": "2019-07-15T21:25:57.686154Z",
     "start_time": "2019-07-15T21:25:57.678761Z"
    }
   },
   "outputs": [],
   "source": [
    "@jit(nopython=True, parallel=True)\n",
    "def sigmoidActivationFctN1(activationVector):\n",
    "    lDenom = (1+np.exp(0.1*(np.abs(np.std(activationVector))-30)))\n",
    "    return 255/lDenom"
   ]
  },
  {
   "cell_type": "code",
   "execution_count": 42,
   "metadata": {
    "ExecuteTime": {
     "end_time": "2019-07-15T21:25:58.842166Z",
     "start_time": "2019-07-15T21:25:57.689710Z"
    }
   },
   "outputs": [
    {
     "data": {
      "text/plain": [
       "67.42337182183026"
      ]
     },
     "execution_count": 42,
     "metadata": {},
     "output_type": "execute_result"
    }
   ],
   "source": [
    "sigmoidActivationFctN1(test2)"
   ]
  },
  {
   "cell_type": "code",
   "execution_count": 43,
   "metadata": {
    "ExecuteTime": {
     "end_time": "2019-07-15T21:25:58.858568Z",
     "start_time": "2019-07-15T21:25:58.846350Z"
    }
   },
   "outputs": [
    {
     "data": {
      "text/plain": [
       "40.23195724793911"
      ]
     },
     "execution_count": 43,
     "metadata": {},
     "output_type": "execute_result"
    }
   ],
   "source": [
    "np.std(test2)"
   ]
  },
  {
   "cell_type": "code",
   "execution_count": 44,
   "metadata": {
    "ExecuteTime": {
     "end_time": "2019-07-15T21:25:58.872050Z",
     "start_time": "2019-07-15T21:25:58.861988Z"
    }
   },
   "outputs": [],
   "source": [
    "posType = np.dtype([('x', 'u1'), ('y', 'u2')])\n",
    "NeuronType = np.dtype([('longueur', 'u1'), \n",
    "          ('angle', 'f4'), \n",
    "          ('weight', 'f4'), \n",
    "          ('std', 'f4'),\n",
    "          ('xPos', 'u1'),\n",
    "          ('yPos', 'u2'),('layer','u1')])"
   ]
  },
  {
   "cell_type": "code",
   "execution_count": 45,
   "metadata": {
    "ExecuteTime": {
     "end_time": "2019-07-15T21:25:58.883204Z",
     "start_time": "2019-07-15T21:25:58.876116Z"
    }
   },
   "outputs": [],
   "source": [
    "neuronList = np.zeros(1144,dtype=NeuronType)"
   ]
  },
  {
   "cell_type": "code",
   "execution_count": 46,
   "metadata": {
    "ExecuteTime": {
     "end_time": "2019-07-15T21:25:58.898819Z",
     "start_time": "2019-07-15T21:25:58.887725Z"
    }
   },
   "outputs": [
    {
     "data": {
      "text/plain": [
       "array([(0, 0., 0., 0., 0, 0, 0), (0, 0., 0., 0., 0, 0, 0),\n",
       "       (0, 0., 0., 0., 0, 0, 0), ..., (0, 0., 0., 0., 0, 0, 0),\n",
       "       (0, 0., 0., 0., 0, 0, 0), (0, 0., 0., 0., 0, 0, 0)],\n",
       "      dtype=[('longueur', 'u1'), ('angle', '<f4'), ('weight', '<f4'), ('std', '<f4'), ('xPos', 'u1'), ('yPos', '<u2'), ('layer', 'u1')])"
      ]
     },
     "execution_count": 46,
     "metadata": {},
     "output_type": "execute_result"
    }
   ],
   "source": [
    "neuronList"
   ]
  },
  {
   "cell_type": "code",
   "execution_count": 47,
   "metadata": {
    "ExecuteTime": {
     "end_time": "2019-07-15T21:25:58.916375Z",
     "start_time": "2019-07-15T21:25:58.904258Z"
    }
   },
   "outputs": [
    {
     "data": {
      "text/plain": [
       "1144"
      ]
     },
     "execution_count": 47,
     "metadata": {},
     "output_type": "execute_result"
    }
   ],
   "source": [
    "neuronList.size"
   ]
  },
  {
   "cell_type": "code",
   "execution_count": 48,
   "metadata": {
    "ExecuteTime": {
     "end_time": "2019-07-15T21:25:58.931944Z",
     "start_time": "2019-07-15T21:25:58.923899Z"
    }
   },
   "outputs": [
    {
     "data": {
      "text/plain": [
       "()"
      ]
     },
     "execution_count": 48,
     "metadata": {},
     "output_type": "execute_result"
    }
   ],
   "source": [
    "neuronList[0].shape"
   ]
  },
  {
   "cell_type": "code",
   "execution_count": 49,
   "metadata": {
    "ExecuteTime": {
     "end_time": "2019-07-15T21:25:59.624827Z",
     "start_time": "2019-07-15T21:25:58.935695Z"
    }
   },
   "outputs": [],
   "source": [
    "import pandas as pd\n",
    "#import xarray as xr"
   ]
  },
  {
   "cell_type": "code",
   "execution_count": 50,
   "metadata": {
    "ExecuteTime": {
     "end_time": "2019-07-15T21:25:59.645918Z",
     "start_time": "2019-07-15T21:25:59.628380Z"
    }
   },
   "outputs": [],
   "source": [
    "pNeurons = pd.DataFrame(neuronList)"
   ]
  },
  {
   "cell_type": "code",
   "execution_count": 51,
   "metadata": {
    "ExecuteTime": {
     "end_time": "2019-07-15T21:25:59.687893Z",
     "start_time": "2019-07-15T21:25:59.649738Z"
    }
   },
   "outputs": [
    {
     "data": {
      "text/html": [
       "<div>\n",
       "<style scoped>\n",
       "    .dataframe tbody tr th:only-of-type {\n",
       "        vertical-align: middle;\n",
       "    }\n",
       "\n",
       "    .dataframe tbody tr th {\n",
       "        vertical-align: top;\n",
       "    }\n",
       "\n",
       "    .dataframe thead th {\n",
       "        text-align: right;\n",
       "    }\n",
       "</style>\n",
       "<table border=\"1\" class=\"dataframe\">\n",
       "  <thead>\n",
       "    <tr style=\"text-align: right;\">\n",
       "      <th></th>\n",
       "      <th>longueur</th>\n",
       "      <th>angle</th>\n",
       "      <th>weight</th>\n",
       "      <th>std</th>\n",
       "      <th>xPos</th>\n",
       "      <th>yPos</th>\n",
       "      <th>layer</th>\n",
       "    </tr>\n",
       "  </thead>\n",
       "  <tbody>\n",
       "    <tr>\n",
       "      <th>0</th>\n",
       "      <td>0</td>\n",
       "      <td>0.0</td>\n",
       "      <td>0.0</td>\n",
       "      <td>0.0</td>\n",
       "      <td>0</td>\n",
       "      <td>0</td>\n",
       "      <td>0</td>\n",
       "    </tr>\n",
       "    <tr>\n",
       "      <th>1</th>\n",
       "      <td>0</td>\n",
       "      <td>0.0</td>\n",
       "      <td>0.0</td>\n",
       "      <td>0.0</td>\n",
       "      <td>0</td>\n",
       "      <td>0</td>\n",
       "      <td>0</td>\n",
       "    </tr>\n",
       "    <tr>\n",
       "      <th>2</th>\n",
       "      <td>0</td>\n",
       "      <td>0.0</td>\n",
       "      <td>0.0</td>\n",
       "      <td>0.0</td>\n",
       "      <td>0</td>\n",
       "      <td>0</td>\n",
       "      <td>0</td>\n",
       "    </tr>\n",
       "    <tr>\n",
       "      <th>3</th>\n",
       "      <td>0</td>\n",
       "      <td>0.0</td>\n",
       "      <td>0.0</td>\n",
       "      <td>0.0</td>\n",
       "      <td>0</td>\n",
       "      <td>0</td>\n",
       "      <td>0</td>\n",
       "    </tr>\n",
       "    <tr>\n",
       "      <th>4</th>\n",
       "      <td>0</td>\n",
       "      <td>0.0</td>\n",
       "      <td>0.0</td>\n",
       "      <td>0.0</td>\n",
       "      <td>0</td>\n",
       "      <td>0</td>\n",
       "      <td>0</td>\n",
       "    </tr>\n",
       "  </tbody>\n",
       "</table>\n",
       "</div>"
      ],
      "text/plain": [
       "   longueur  angle  weight  std  xPos  yPos  layer\n",
       "0         0    0.0     0.0  0.0     0     0      0\n",
       "1         0    0.0     0.0  0.0     0     0      0\n",
       "2         0    0.0     0.0  0.0     0     0      0\n",
       "3         0    0.0     0.0  0.0     0     0      0\n",
       "4         0    0.0     0.0  0.0     0     0      0"
      ]
     },
     "execution_count": 51,
     "metadata": {},
     "output_type": "execute_result"
    }
   ],
   "source": [
    "pNeurons.head()"
   ]
  },
  {
   "cell_type": "code",
   "execution_count": 52,
   "metadata": {
    "ExecuteTime": {
     "end_time": "2019-07-15T21:25:59.703407Z",
     "start_time": "2019-07-15T21:25:59.690564Z"
    }
   },
   "outputs": [
    {
     "data": {
      "text/plain": [
       "0    0\n",
       "1    0\n",
       "2    0\n",
       "3    0\n",
       "4    0\n",
       "Name: longueur, dtype: uint8"
      ]
     },
     "execution_count": 52,
     "metadata": {},
     "output_type": "execute_result"
    }
   ],
   "source": [
    "pNeurons['longueur'].head()"
   ]
  },
  {
   "cell_type": "code",
   "execution_count": 53,
   "metadata": {
    "ExecuteTime": {
     "end_time": "2019-07-15T21:25:59.727503Z",
     "start_time": "2019-07-15T21:25:59.709582Z"
    }
   },
   "outputs": [
    {
     "data": {
      "text/html": [
       "<div>\n",
       "<style scoped>\n",
       "    .dataframe tbody tr th:only-of-type {\n",
       "        vertical-align: middle;\n",
       "    }\n",
       "\n",
       "    .dataframe tbody tr th {\n",
       "        vertical-align: top;\n",
       "    }\n",
       "\n",
       "    .dataframe thead th {\n",
       "        text-align: right;\n",
       "    }\n",
       "</style>\n",
       "<table border=\"1\" class=\"dataframe\">\n",
       "  <thead>\n",
       "    <tr style=\"text-align: right;\">\n",
       "      <th></th>\n",
       "      <th>angle</th>\n",
       "      <th>weight</th>\n",
       "    </tr>\n",
       "  </thead>\n",
       "  <tbody>\n",
       "    <tr>\n",
       "      <th>1</th>\n",
       "      <td>0.0</td>\n",
       "      <td>0.0</td>\n",
       "    </tr>\n",
       "    <tr>\n",
       "      <th>2</th>\n",
       "      <td>0.0</td>\n",
       "      <td>0.0</td>\n",
       "    </tr>\n",
       "    <tr>\n",
       "      <th>3</th>\n",
       "      <td>0.0</td>\n",
       "      <td>0.0</td>\n",
       "    </tr>\n",
       "  </tbody>\n",
       "</table>\n",
       "</div>"
      ],
      "text/plain": [
       "   angle  weight\n",
       "1    0.0     0.0\n",
       "2    0.0     0.0\n",
       "3    0.0     0.0"
      ]
     },
     "execution_count": 53,
     "metadata": {},
     "output_type": "execute_result"
    }
   ],
   "source": [
    "pNeurons.loc[1:3,['angle','weight']]"
   ]
  },
  {
   "cell_type": "code",
   "execution_count": 54,
   "metadata": {
    "ExecuteTime": {
     "end_time": "2019-07-15T21:25:59.740199Z",
     "start_time": "2019-07-15T21:25:59.731037Z"
    }
   },
   "outputs": [],
   "source": [
    "pNeurons.loc[1,['angle']]=28.34"
   ]
  },
  {
   "cell_type": "code",
   "execution_count": 55,
   "metadata": {
    "ExecuteTime": {
     "end_time": "2019-07-15T21:25:59.749443Z",
     "start_time": "2019-07-15T21:25:59.743824Z"
    }
   },
   "outputs": [],
   "source": [
    "pNeurons['longueur'] = tailleField"
   ]
  },
  {
   "cell_type": "code",
   "execution_count": 56,
   "metadata": {
    "ExecuteTime": {
     "end_time": "2019-07-15T21:25:59.774129Z",
     "start_time": "2019-07-15T21:25:59.753615Z"
    }
   },
   "outputs": [
    {
     "data": {
      "text/html": [
       "<div>\n",
       "<style scoped>\n",
       "    .dataframe tbody tr th:only-of-type {\n",
       "        vertical-align: middle;\n",
       "    }\n",
       "\n",
       "    .dataframe tbody tr th {\n",
       "        vertical-align: top;\n",
       "    }\n",
       "\n",
       "    .dataframe thead th {\n",
       "        text-align: right;\n",
       "    }\n",
       "</style>\n",
       "<table border=\"1\" class=\"dataframe\">\n",
       "  <thead>\n",
       "    <tr style=\"text-align: right;\">\n",
       "      <th></th>\n",
       "      <th>longueur</th>\n",
       "      <th>angle</th>\n",
       "      <th>weight</th>\n",
       "      <th>std</th>\n",
       "      <th>xPos</th>\n",
       "      <th>yPos</th>\n",
       "      <th>layer</th>\n",
       "    </tr>\n",
       "  </thead>\n",
       "  <tbody>\n",
       "    <tr>\n",
       "      <th>0</th>\n",
       "      <td>3</td>\n",
       "      <td>0.00</td>\n",
       "      <td>0.0</td>\n",
       "      <td>0.0</td>\n",
       "      <td>0</td>\n",
       "      <td>0</td>\n",
       "      <td>0</td>\n",
       "    </tr>\n",
       "    <tr>\n",
       "      <th>1</th>\n",
       "      <td>3</td>\n",
       "      <td>28.34</td>\n",
       "      <td>0.0</td>\n",
       "      <td>0.0</td>\n",
       "      <td>0</td>\n",
       "      <td>0</td>\n",
       "      <td>0</td>\n",
       "    </tr>\n",
       "    <tr>\n",
       "      <th>2</th>\n",
       "      <td>3</td>\n",
       "      <td>0.00</td>\n",
       "      <td>0.0</td>\n",
       "      <td>0.0</td>\n",
       "      <td>0</td>\n",
       "      <td>0</td>\n",
       "      <td>0</td>\n",
       "    </tr>\n",
       "    <tr>\n",
       "      <th>3</th>\n",
       "      <td>3</td>\n",
       "      <td>0.00</td>\n",
       "      <td>0.0</td>\n",
       "      <td>0.0</td>\n",
       "      <td>0</td>\n",
       "      <td>0</td>\n",
       "      <td>0</td>\n",
       "    </tr>\n",
       "    <tr>\n",
       "      <th>4</th>\n",
       "      <td>3</td>\n",
       "      <td>0.00</td>\n",
       "      <td>0.0</td>\n",
       "      <td>0.0</td>\n",
       "      <td>0</td>\n",
       "      <td>0</td>\n",
       "      <td>0</td>\n",
       "    </tr>\n",
       "  </tbody>\n",
       "</table>\n",
       "</div>"
      ],
      "text/plain": [
       "   longueur  angle  weight  std  xPos  yPos  layer\n",
       "0         3   0.00     0.0  0.0     0     0      0\n",
       "1         3  28.34     0.0  0.0     0     0      0\n",
       "2         3   0.00     0.0  0.0     0     0      0\n",
       "3         3   0.00     0.0  0.0     0     0      0\n",
       "4         3   0.00     0.0  0.0     0     0      0"
      ]
     },
     "execution_count": 56,
     "metadata": {},
     "output_type": "execute_result"
    }
   ],
   "source": [
    "pNeurons.head()"
   ]
  },
  {
   "cell_type": "code",
   "execution_count": 521,
   "metadata": {
    "ExecuteTime": {
     "end_time": "2019-07-17T13:17:34.640004Z",
     "start_time": "2019-07-17T13:17:34.610549Z"
    }
   },
   "outputs": [],
   "source": [
    "#@jit(nopython=True, parallel=True)\n",
    "def getNeuronActivationList(idxX, idxY, size, frameE, nbPixelPts,layer = 1):\n",
    "    #commencer par créer le tableau de neurones\n",
    "    lNeuronType = np.dtype([('longueur', 'u1'), \n",
    "                            ('angle', 'f4'),\n",
    "                            ('weight', 'f4'), \n",
    "                            ('precision', 'f4'), \n",
    "                            ('xPos', 'u1'),('yPos', 'u2'), \n",
    "                            ('group', 'u1')])\n",
    "\n",
    "    lCriterion = nbPixelPts > size\n",
    "\n",
    "    nbNeurons = sum(lCriterion)\n",
    "    lNeurons = np.zeros(nbNeurons, dtype=lNeuronType)\n",
    "    lpNeurons = pd.DataFrame(lNeurons)\n",
    "    lpNeurons['longueur'] = size\n",
    "    lpNeurons['layer'] = layer\n",
    "\n",
    "    offsetField = int(np.floor(size/2));\n",
    "    lAngleMat = fillAngleMat(size)\n",
    "    \n",
    "    newX = idxX[lCriterion]\n",
    "    newY = idxY[lCriterion]\n",
    "    print(\"size :\" + str(len(newX)))\n",
    "    \n",
    "    print(\"newX\")\n",
    "    print(np.min(newX))\n",
    "    print(np.max(newX))\n",
    "    print(\"newY\")\n",
    "    print(np.min(newY))\n",
    "    print(np.max(newY))\n",
    "    print()\n",
    "    pos=0;\n",
    "    lnPos = 0;\n",
    "    for lintX in newX:\n",
    "        lintY = newY[pos];\n",
    "\n",
    "        lNeuronFieldFrame = frameE[int(lintX - offsetField):int(lintX + offsetField + 1),\n",
    "                        int(lintY - offsetField):int(lintY + offsetField + 1)]/255\n",
    "\n",
    "        tmp = np.multiply(lAngleMat,lNeuronFieldFrame)\n",
    "\n",
    "        lNeuronFieldValues = tmp[np.nonzero(tmp)]\n",
    "        if (lNeuronFieldValues.size>0):\n",
    "            lpNeurons.loc[pos,['angle']] = np.mean(lNeuronFieldValues)\n",
    "            lpNeurons.loc[pos,['weight']] = sigmoidActivationFctN1(lNeuronFieldValues)\n",
    "            lpNeurons.loc[pos,['precision']] = np.std(lNeuronFieldValues)\n",
    "            lpNeurons.loc[pos,['xPos']] = lintX\n",
    "            lpNeurons.loc[pos,['yPos']] = lintY\n",
    "\n",
    "            lnPos += 1;\n",
    "        else:\n",
    "            True #print (\"error it shouldn't be zero\")\n",
    "        pos +=1\n",
    "    print(\"nb de positions couvertes : \" + str(lnPos) + \" sur \"+str(pos))\n",
    "    \n",
    "    return lpNeurons    \n",
    "    #return idxY"
   ]
  },
  {
   "cell_type": "code",
   "execution_count": 511,
   "metadata": {
    "ExecuteTime": {
     "end_time": "2019-07-17T13:07:36.016032Z",
     "start_time": "2019-07-17T13:07:35.137330Z"
    }
   },
   "outputs": [
    {
     "name": "stdout",
     "output_type": "stream",
     "text": [
      "(9387,)\n",
      "9387\n",
      "2180\n",
      "2180\n",
      "2180\n",
      "result0 :\n",
      "187\n",
      "778\n",
      "result1 :\n",
      "641\n",
      "1246\n"
     ]
    }
   ],
   "source": [
    "tailleField = 7\n",
    "nbPixelsAll = nbPixelField(indices[0], indices[1], frame, tailleField);\n",
    "lCriterion = nbPixelsAll > tailleField\n",
    "print(lCriterion.shape)\n",
    "print(len(indices[0]))\n",
    "print(np.sum(lCriterion))\n",
    "resultIndicesCriterionO = indices[0][lCriterion]\n",
    "print(len(resultIndicesCriterionO))\n",
    "resultIndicesCriterion1 = indices[1][lCriterion]\n",
    "print(len(resultIndicesCriterion1))\n",
    "print(\"result0 :\")\n",
    "print(np.min(resultIndicesCriterionO))\n",
    "print(np.max(resultIndicesCriterionO))\n",
    "print(\"result1 :\")\n",
    "print(np.min(resultIndicesCriterion1))\n",
    "print(np.max(resultIndicesCriterion1))"
   ]
  },
  {
   "cell_type": "code",
   "execution_count": 512,
   "metadata": {
    "ExecuteTime": {
     "end_time": "2019-07-17T13:07:39.276053Z",
     "start_time": "2019-07-17T13:07:39.268023Z"
    }
   },
   "outputs": [
    {
     "name": "stdout",
     "output_type": "stream",
     "text": [
      "[[0 0 0 0 0 0 0]\n",
      " [0 0 0 0 0 0 0]\n",
      " [0 0 0 0 0 0 0]\n",
      " [0 0 0 0 0 0 0]\n",
      " [0 0 0 0 0 0 0]\n",
      " [0 0 0 0 0 0 0]\n",
      " [0 0 0 0 0 0 0]]\n"
     ]
    }
   ],
   "source": [
    "print(frame[(778-3):(778+3+1),(1246-3):(1246+3+1)])"
   ]
  },
  {
   "cell_type": "code",
   "execution_count": 525,
   "metadata": {
    "ExecuteTime": {
     "end_time": "2019-07-17T13:24:19.989667Z",
     "start_time": "2019-07-17T13:24:03.427916Z"
    }
   },
   "outputs": [
    {
     "name": "stdout",
     "output_type": "stream",
     "text": [
      "indice 0\n",
      "78\n",
      "784\n",
      "indice 1\n",
      "15\n",
      "1250\n",
      "size :1493\n",
      "newX\n",
      "401\n",
      "778\n",
      "newY\n",
      "56\n",
      "1230\n",
      "\n",
      "nb de positions couvertes : 1493 sur 1493\n"
     ]
    },
    {
     "data": {
      "text/html": [
       "<div>\n",
       "<style scoped>\n",
       "    .dataframe tbody tr th:only-of-type {\n",
       "        vertical-align: middle;\n",
       "    }\n",
       "\n",
       "    .dataframe tbody tr th {\n",
       "        vertical-align: top;\n",
       "    }\n",
       "\n",
       "    .dataframe thead th {\n",
       "        text-align: right;\n",
       "    }\n",
       "</style>\n",
       "<table border=\"1\" class=\"dataframe\">\n",
       "  <thead>\n",
       "    <tr style=\"text-align: right;\">\n",
       "      <th></th>\n",
       "      <th>longueur</th>\n",
       "      <th>angle</th>\n",
       "      <th>weight</th>\n",
       "      <th>precision</th>\n",
       "      <th>xPos</th>\n",
       "      <th>yPos</th>\n",
       "      <th>group</th>\n",
       "      <th>layer</th>\n",
       "    </tr>\n",
       "  </thead>\n",
       "  <tbody>\n",
       "    <tr>\n",
       "      <th>count</th>\n",
       "      <td>1493.0</td>\n",
       "      <td>1.493000e+03</td>\n",
       "      <td>1493.000000</td>\n",
       "      <td>1493.000000</td>\n",
       "      <td>1493.000000</td>\n",
       "      <td>1493.000000</td>\n",
       "      <td>1493.0</td>\n",
       "      <td>1493.0</td>\n",
       "    </tr>\n",
       "    <tr>\n",
       "      <th>mean</th>\n",
       "      <td>7.0</td>\n",
       "      <td>2.830117e+01</td>\n",
       "      <td>139.426422</td>\n",
       "      <td>29.439062</td>\n",
       "      <td>586.865372</td>\n",
       "      <td>620.396517</td>\n",
       "      <td>0.0</td>\n",
       "      <td>1.0</td>\n",
       "    </tr>\n",
       "    <tr>\n",
       "      <th>std</th>\n",
       "      <td>0.0</td>\n",
       "      <td>3.414868e+01</td>\n",
       "      <td>84.595146</td>\n",
       "      <td>19.386049</td>\n",
       "      <td>126.120894</td>\n",
       "      <td>296.761065</td>\n",
       "      <td>0.0</td>\n",
       "      <td>0.0</td>\n",
       "    </tr>\n",
       "    <tr>\n",
       "      <th>min</th>\n",
       "      <td>7.0</td>\n",
       "      <td>-5.907750e+01</td>\n",
       "      <td>2.250682</td>\n",
       "      <td>0.000000</td>\n",
       "      <td>401.000000</td>\n",
       "      <td>56.000000</td>\n",
       "      <td>0.0</td>\n",
       "      <td>1.0</td>\n",
       "    </tr>\n",
       "    <tr>\n",
       "      <th>25%</th>\n",
       "      <td>7.0</td>\n",
       "      <td>7.105427e-16</td>\n",
       "      <td>40.626087</td>\n",
       "      <td>14.589490</td>\n",
       "      <td>467.000000</td>\n",
       "      <td>464.000000</td>\n",
       "      <td>0.0</td>\n",
       "      <td>1.0</td>\n",
       "    </tr>\n",
       "    <tr>\n",
       "      <th>50%</th>\n",
       "      <td>7.0</td>\n",
       "      <td>4.004333e+01</td>\n",
       "      <td>182.858383</td>\n",
       "      <td>20.699192</td>\n",
       "      <td>594.000000</td>\n",
       "      <td>641.000000</td>\n",
       "      <td>0.0</td>\n",
       "      <td>1.0</td>\n",
       "    </tr>\n",
       "    <tr>\n",
       "      <th>75%</th>\n",
       "      <td>7.0</td>\n",
       "      <td>5.660889e+01</td>\n",
       "      <td>210.022446</td>\n",
       "      <td>46.633114</td>\n",
       "      <td>710.000000</td>\n",
       "      <td>783.000000</td>\n",
       "      <td>0.0</td>\n",
       "      <td>1.0</td>\n",
       "    </tr>\n",
       "    <tr>\n",
       "      <th>max</th>\n",
       "      <td>7.0</td>\n",
       "      <td>9.000000e+01</td>\n",
       "      <td>242.906403</td>\n",
       "      <td>77.211647</td>\n",
       "      <td>778.000000</td>\n",
       "      <td>1230.000000</td>\n",
       "      <td>0.0</td>\n",
       "      <td>1.0</td>\n",
       "    </tr>\n",
       "  </tbody>\n",
       "</table>\n",
       "</div>"
      ],
      "text/plain": [
       "       longueur         angle       weight    precision         xPos  \\\n",
       "count    1493.0  1.493000e+03  1493.000000  1493.000000  1493.000000   \n",
       "mean        7.0  2.830117e+01   139.426422    29.439062   586.865372   \n",
       "std         0.0  3.414868e+01    84.595146    19.386049   126.120894   \n",
       "min         7.0 -5.907750e+01     2.250682     0.000000   401.000000   \n",
       "25%         7.0  7.105427e-16    40.626087    14.589490   467.000000   \n",
       "50%         7.0  4.004333e+01   182.858383    20.699192   594.000000   \n",
       "75%         7.0  5.660889e+01   210.022446    46.633114   710.000000   \n",
       "max         7.0  9.000000e+01   242.906403    77.211647   778.000000   \n",
       "\n",
       "              yPos   group   layer  \n",
       "count  1493.000000  1493.0  1493.0  \n",
       "mean    620.396517     0.0     1.0  \n",
       "std     296.761065     0.0     0.0  \n",
       "min      56.000000     0.0     1.0  \n",
       "25%     464.000000     0.0     1.0  \n",
       "50%     641.000000     0.0     1.0  \n",
       "75%     783.000000     0.0     1.0  \n",
       "max    1230.000000     0.0     1.0  "
      ]
     },
     "execution_count": 525,
     "metadata": {},
     "output_type": "execute_result"
    }
   ],
   "source": [
    "tailleField = 7\n",
    "indices = np.where(frame != [0])\n",
    "nbPixelsAll = nbPixelField(indices[0], indices[1], frame, tailleField);\n",
    "print(\"indice 0\")\n",
    "print(np.min(indices[0]))\n",
    "print(np.max(indices[0]))\n",
    "print(\"indice 1\")\n",
    "print(np.min(indices[1]))\n",
    "print(np.max(indices[1]))\n",
    "titi = getNeuronActivationList(indices[0], indices[1], tailleField, frame,\n",
    "                        nbPixelsAll)\n",
    "titi.describe()"
   ]
  },
  {
   "cell_type": "code",
   "execution_count": 526,
   "metadata": {
    "ExecuteTime": {
     "end_time": "2019-07-17T13:26:32.050439Z",
     "start_time": "2019-07-17T13:26:31.119178Z"
    }
   },
   "outputs": [
    {
     "data": {
      "image/png": "[encoded data removed]",
      "text/plain": [
       "<Figure size 432x288 with 1 Axes>"
      ]
     },
     "metadata": {
      "needs_background": "light"
     },
     "output_type": "display_data"
    }
   ],
   "source": [
    "testBitmap = np.zeros(frame.shape)\n",
    "testBitmap = drawFieldNeurons(titi,testBitmap)\n",
    "imgplot = plt.imshow(testBitmap)"
   ]
  },
  {
   "cell_type": "code",
   "execution_count": 499,
   "metadata": {
    "ExecuteTime": {
     "end_time": "2019-07-17T13:02:35.343774Z",
     "start_time": "2019-07-17T13:02:35.268383Z"
    }
   },
   "outputs": [
    {
     "name": "stderr",
     "output_type": "stream",
     "text": [
      "/anaconda3/lib/python3.7/site-packages/numpy/core/fromnumeric.py:56: FutureWarning: Series.nonzero() is deprecated and will be removed in a future version.Use Series.to_numpy().nonzero() instead\n",
      "  return getattr(obj, method)(*args, **kwds)\n"
     ]
    },
    {
     "ename": "TypeError",
     "evalue": "'(array([  0,   1,   2,   3,   4,   5,   6,   7,   8,   9,  10,  11,  12,\n        13,  14,  15,  16,  17,  18,  19,  20,  21,  22,  23,  24,  25,\n        26,  27,  28,  30,  31,  32,  33,  34,  35,  36,  37,  38,  39,\n        40,  41,  42,  43,  44,  45,  46,  47,  48,  49,  50,  51,  52,\n        53,  54,  55,  56,  57,  58,  59,  60,  61,  62,  63,  64,  65,\n        66,  67,  68,  69,  70,  71,  72,  73,  74,  75,  76,  77,  78,\n        79,  80,  81,  83,  84,  85,  86,  87,  88,  89,  90,  91,  92,\n        93,  94,  95,  96,  97,  98,  99, 100, 101, 102, 103, 104, 105,\n       106, 107, 108, 109, 110, 111, 112, 113, 114, 115, 116, 117, 118,\n       119, 120, 121, 122, 123, 124, 125, 126, 127, 128, 129, 130, 131,\n       132, 133, 134, 135, 136, 137, 138, 139, 140, 141, 142, 143, 144,\n       145, 146, 147, 148, 149, 150, 151, 152, 153, 154, 155, 156, 157,\n       158, 159, 160, 161, 162, 163, 164, 165, 166, 167, 168, 169, 170,\n       171, 172, 173, 174, 175, 176, 177, 179, 180, 181, 182, 183, 185,\n       186, 188, 189, 190, 191, 192, 193, 194, 195, 196, 197, 198]),)' is an invalid key",
     "output_type": "error",
     "traceback": [
      "\u001b[0;31m---------------------------------------------------------------------------\u001b[0m",
      "\u001b[0;31mTypeError\u001b[0m                                 Traceback (most recent call last)",
      "\u001b[0;32m<ipython-input-499-223f6a095cdb>\u001b[0m in \u001b[0;36m<module>\u001b[0;34m\u001b[0m\n\u001b[0;32m----> 1\u001b[0;31m \u001b[0mtiti\u001b[0m \u001b[0;34m=\u001b[0m \u001b[0mtiti\u001b[0m\u001b[0;34m[\u001b[0m\u001b[0mnp\u001b[0m\u001b[0;34m.\u001b[0m\u001b[0mnonzero\u001b[0m\u001b[0;34m(\u001b[0m\u001b[0mtiti\u001b[0m\u001b[0;34m.\u001b[0m\u001b[0mangle\u001b[0m\u001b[0;34m)\u001b[0m\u001b[0;34m]\u001b[0m\u001b[0;34m\u001b[0m\u001b[0;34m\u001b[0m\u001b[0m\n\u001b[0m\u001b[1;32m      2\u001b[0m \u001b[0mtiti\u001b[0m\u001b[0;34m.\u001b[0m\u001b[0mdescribe\u001b[0m\u001b[0;34m(\u001b[0m\u001b[0;34m)\u001b[0m\u001b[0;34m\u001b[0m\u001b[0;34m\u001b[0m\u001b[0m\n",
      "\u001b[0;32m/anaconda3/lib/python3.7/site-packages/pandas/core/frame.py\u001b[0m in \u001b[0;36m__getitem__\u001b[0;34m(self, key)\u001b[0m\n\u001b[1;32m   2925\u001b[0m             \u001b[0;32mif\u001b[0m \u001b[0mself\u001b[0m\u001b[0;34m.\u001b[0m\u001b[0mcolumns\u001b[0m\u001b[0;34m.\u001b[0m\u001b[0mnlevels\u001b[0m \u001b[0;34m>\u001b[0m \u001b[0;36m1\u001b[0m\u001b[0;34m:\u001b[0m\u001b[0;34m\u001b[0m\u001b[0;34m\u001b[0m\u001b[0m\n\u001b[1;32m   2926\u001b[0m                 \u001b[0;32mreturn\u001b[0m \u001b[0mself\u001b[0m\u001b[0;34m.\u001b[0m\u001b[0m_getitem_multilevel\u001b[0m\u001b[0;34m(\u001b[0m\u001b[0mkey\u001b[0m\u001b[0;34m)\u001b[0m\u001b[0;34m\u001b[0m\u001b[0;34m\u001b[0m\u001b[0m\n\u001b[0;32m-> 2927\u001b[0;31m             \u001b[0mindexer\u001b[0m \u001b[0;34m=\u001b[0m \u001b[0mself\u001b[0m\u001b[0;34m.\u001b[0m\u001b[0mcolumns\u001b[0m\u001b[0;34m.\u001b[0m\u001b[0mget_loc\u001b[0m\u001b[0;34m(\u001b[0m\u001b[0mkey\u001b[0m\u001b[0;34m)\u001b[0m\u001b[0;34m\u001b[0m\u001b[0;34m\u001b[0m\u001b[0m\n\u001b[0m\u001b[1;32m   2928\u001b[0m             \u001b[0;32mif\u001b[0m \u001b[0mis_integer\u001b[0m\u001b[0;34m(\u001b[0m\u001b[0mindexer\u001b[0m\u001b[0;34m)\u001b[0m\u001b[0;34m:\u001b[0m\u001b[0;34m\u001b[0m\u001b[0;34m\u001b[0m\u001b[0m\n\u001b[1;32m   2929\u001b[0m                 \u001b[0mindexer\u001b[0m \u001b[0;34m=\u001b[0m \u001b[0;34m[\u001b[0m\u001b[0mindexer\u001b[0m\u001b[0;34m]\u001b[0m\u001b[0;34m\u001b[0m\u001b[0;34m\u001b[0m\u001b[0m\n",
      "\u001b[0;32m/anaconda3/lib/python3.7/site-packages/pandas/core/indexes/base.py\u001b[0m in \u001b[0;36mget_loc\u001b[0;34m(self, key, method, tolerance)\u001b[0m\n\u001b[1;32m   2655\u001b[0m                                  'backfill or nearest lookups')\n\u001b[1;32m   2656\u001b[0m             \u001b[0;32mtry\u001b[0m\u001b[0;34m:\u001b[0m\u001b[0;34m\u001b[0m\u001b[0;34m\u001b[0m\u001b[0m\n\u001b[0;32m-> 2657\u001b[0;31m                 \u001b[0;32mreturn\u001b[0m \u001b[0mself\u001b[0m\u001b[0;34m.\u001b[0m\u001b[0m_engine\u001b[0m\u001b[0;34m.\u001b[0m\u001b[0mget_loc\u001b[0m\u001b[0;34m(\u001b[0m\u001b[0mkey\u001b[0m\u001b[0;34m)\u001b[0m\u001b[0;34m\u001b[0m\u001b[0;34m\u001b[0m\u001b[0m\n\u001b[0m\u001b[1;32m   2658\u001b[0m             \u001b[0;32mexcept\u001b[0m \u001b[0mKeyError\u001b[0m\u001b[0;34m:\u001b[0m\u001b[0;34m\u001b[0m\u001b[0;34m\u001b[0m\u001b[0m\n\u001b[1;32m   2659\u001b[0m                 \u001b[0;32mreturn\u001b[0m \u001b[0mself\u001b[0m\u001b[0;34m.\u001b[0m\u001b[0m_engine\u001b[0m\u001b[0;34m.\u001b[0m\u001b[0mget_loc\u001b[0m\u001b[0;34m(\u001b[0m\u001b[0mself\u001b[0m\u001b[0;34m.\u001b[0m\u001b[0m_maybe_cast_indexer\u001b[0m\u001b[0;34m(\u001b[0m\u001b[0mkey\u001b[0m\u001b[0;34m)\u001b[0m\u001b[0;34m)\u001b[0m\u001b[0;34m\u001b[0m\u001b[0;34m\u001b[0m\u001b[0m\n",
      "\u001b[0;32mpandas/_libs/index.pyx\u001b[0m in \u001b[0;36mpandas._libs.index.IndexEngine.get_loc\u001b[0;34m()\u001b[0m\n",
      "\u001b[0;32mpandas/_libs/index.pyx\u001b[0m in \u001b[0;36mpandas._libs.index.IndexEngine.get_loc\u001b[0;34m()\u001b[0m\n",
      "\u001b[0;31mTypeError\u001b[0m: '(array([  0,   1,   2,   3,   4,   5,   6,   7,   8,   9,  10,  11,  12,\n        13,  14,  15,  16,  17,  18,  19,  20,  21,  22,  23,  24,  25,\n        26,  27,  28,  30,  31,  32,  33,  34,  35,  36,  37,  38,  39,\n        40,  41,  42,  43,  44,  45,  46,  47,  48,  49,  50,  51,  52,\n        53,  54,  55,  56,  57,  58,  59,  60,  61,  62,  63,  64,  65,\n        66,  67,  68,  69,  70,  71,  72,  73,  74,  75,  76,  77,  78,\n        79,  80,  81,  83,  84,  85,  86,  87,  88,  89,  90,  91,  92,\n        93,  94,  95,  96,  97,  98,  99, 100, 101, 102, 103, 104, 105,\n       106, 107, 108, 109, 110, 111, 112, 113, 114, 115, 116, 117, 118,\n       119, 120, 121, 122, 123, 124, 125, 126, 127, 128, 129, 130, 131,\n       132, 133, 134, 135, 136, 137, 138, 139, 140, 141, 142, 143, 144,\n       145, 146, 147, 148, 149, 150, 151, 152, 153, 154, 155, 156, 157,\n       158, 159, 160, 161, 162, 163, 164, 165, 166, 167, 168, 169, 170,\n       171, 172, 173, 174, 175, 176, 177, 179, 180, 181, 182, 183, 185,\n       186, 188, 189, 190, 191, 192, 193, 194, 195, 196, 197, 198]),)' is an invalid key"
     ]
    }
   ],
   "source": [
    "titi = titi[np.nonzero(titi.angle)]\n",
    "titi.describe()"
   ]
  },
  {
   "cell_type": "code",
   "execution_count": 97,
   "metadata": {
    "ExecuteTime": {
     "end_time": "2019-07-15T22:21:41.108087Z",
     "start_time": "2019-07-15T22:21:41.052258Z"
    }
   },
   "outputs": [],
   "source": [
    "while(1):\n",
    "    cv2.imshow('Canny',frame)\n",
    "    if cv2.waitKey(1) & 0xFF == ord('q'):  # press q to quit\n",
    "            break"
   ]
  },
  {
   "cell_type": "code",
   "execution_count": 411,
   "metadata": {
    "ExecuteTime": {
     "end_time": "2019-07-17T07:26:06.660705Z",
     "start_time": "2019-07-17T07:26:06.338718Z"
    }
   },
   "outputs": [
    {
     "data": {
      "image/png": "[encoded data removed]",
      "text/plain": [
       "<Figure size 432x288 with 1 Axes>"
      ]
     },
     "metadata": {
      "needs_background": "light"
     },
     "output_type": "display_data"
    }
   ],
   "source": [
    "imgplot = plt.imshow(frame)"
   ]
  },
  {
   "cell_type": "code",
   "execution_count": 419,
   "metadata": {
    "ExecuteTime": {
     "end_time": "2019-07-17T07:36:30.710588Z",
     "start_time": "2019-07-17T07:36:30.700146Z"
    }
   },
   "outputs": [
    {
     "data": {
      "text/plain": [
       "784"
      ]
     },
     "execution_count": 419,
     "metadata": {},
     "output_type": "execute_result"
    }
   ],
   "source": [
    "np.max(indices[0])"
   ]
  },
  {
   "cell_type": "code",
   "execution_count": 421,
   "metadata": {
    "ExecuteTime": {
     "end_time": "2019-07-17T07:38:18.065295Z",
     "start_time": "2019-07-17T07:38:18.058356Z"
    }
   },
   "outputs": [
    {
     "data": {
      "text/plain": [
       "16.0"
      ]
     },
     "execution_count": 421,
     "metadata": {},
     "output_type": "execute_result"
    }
   ],
   "source": [
    "np.max(nbPixelsAll)"
   ]
  },
  {
   "cell_type": "code",
   "execution_count": 134,
   "metadata": {
    "ExecuteTime": {
     "end_time": "2019-07-16T07:07:42.425489Z",
     "start_time": "2019-07-16T07:07:42.411776Z"
    }
   },
   "outputs": [
    {
     "data": {
      "text/html": [
       "<div>\n",
       "<style scoped>\n",
       "    .dataframe tbody tr th:only-of-type {\n",
       "        vertical-align: middle;\n",
       "    }\n",
       "\n",
       "    .dataframe tbody tr th {\n",
       "        vertical-align: top;\n",
       "    }\n",
       "\n",
       "    .dataframe thead th {\n",
       "        text-align: right;\n",
       "    }\n",
       "</style>\n",
       "<table border=\"1\" class=\"dataframe\">\n",
       "  <thead>\n",
       "    <tr style=\"text-align: right;\">\n",
       "      <th></th>\n",
       "      <th>longueur</th>\n",
       "      <th>angle</th>\n",
       "      <th>weight</th>\n",
       "      <th>std</th>\n",
       "      <th>xPos</th>\n",
       "      <th>yPos</th>\n",
       "      <th>layer</th>\n",
       "    </tr>\n",
       "  </thead>\n",
       "  <tbody>\n",
       "    <tr>\n",
       "      <th>0</th>\n",
       "      <td>7</td>\n",
       "      <td>-18.721428</td>\n",
       "      <td>5.095261</td>\n",
       "      <td>68.927689</td>\n",
       "      <td>189</td>\n",
       "      <td>1001</td>\n",
       "      <td>1</td>\n",
       "    </tr>\n",
       "    <tr>\n",
       "      <th>1</th>\n",
       "      <td>7</td>\n",
       "      <td>-31.186666</td>\n",
       "      <td>18.183504</td>\n",
       "      <td>55.667706</td>\n",
       "      <td>190</td>\n",
       "      <td>1003</td>\n",
       "      <td>1</td>\n",
       "    </tr>\n",
       "    <tr>\n",
       "      <th>2</th>\n",
       "      <td>7</td>\n",
       "      <td>-13.813334</td>\n",
       "      <td>35.751305</td>\n",
       "      <td>48.136200</td>\n",
       "      <td>191</td>\n",
       "      <td>1004</td>\n",
       "      <td>1</td>\n",
       "    </tr>\n",
       "    <tr>\n",
       "      <th>3</th>\n",
       "      <td>7</td>\n",
       "      <td>-15.065000</td>\n",
       "      <td>186.028503</td>\n",
       "      <td>20.077934</td>\n",
       "      <td>193</td>\n",
       "      <td>1005</td>\n",
       "      <td>1</td>\n",
       "    </tr>\n",
       "  </tbody>\n",
       "</table>\n",
       "</div>"
      ],
      "text/plain": [
       "   longueur      angle      weight        std  xPos  yPos  layer\n",
       "0         7 -18.721428    5.095261  68.927689   189  1001      1\n",
       "1         7 -31.186666   18.183504  55.667706   190  1003      1\n",
       "2         7 -13.813334   35.751305  48.136200   191  1004      1\n",
       "3         7 -15.065000  186.028503  20.077934   193  1005      1"
      ]
     },
     "execution_count": 134,
     "metadata": {},
     "output_type": "execute_result"
    }
   ],
   "source": [
    "titi[0:4]"
   ]
  },
  {
   "cell_type": "code",
   "execution_count": 123,
   "metadata": {
    "ExecuteTime": {
     "end_time": "2019-07-16T07:00:50.676689Z",
     "start_time": "2019-07-16T07:00:50.671550Z"
    }
   },
   "outputs": [],
   "source": [
    "#@jit(nopython=True, parallel=True)\n",
    "def moveCoordDeg(angle, startX, startY, distance):\n",
    "    tipX = startX+ distance * np.sin(angle/180*pi);\n",
    "    tipY = startY- distance * np.cos(angle/180*pi);\n",
    "    return tipX,tipY"
   ]
  },
  {
   "cell_type": "code",
   "execution_count": 125,
   "metadata": {
    "ExecuteTime": {
     "end_time": "2019-07-16T07:00:57.473490Z",
     "start_time": "2019-07-16T07:00:57.466274Z"
    }
   },
   "outputs": [
    {
     "data": {
      "text/plain": [
       "(13.535533905932738, 6.464466094067262)"
      ]
     },
     "execution_count": 125,
     "metadata": {},
     "output_type": "execute_result"
    }
   ],
   "source": [
    "moveCoordDeg(45,10,10,5)"
   ]
  },
  {
   "cell_type": "code",
   "execution_count": 139,
   "metadata": {
    "ExecuteTime": {
     "end_time": "2019-07-16T07:15:06.085078Z",
     "start_time": "2019-07-16T07:15:06.066465Z"
    }
   },
   "outputs": [
    {
     "data": {
      "text/html": [
       "<div>\n",
       "<style scoped>\n",
       "    .dataframe tbody tr th:only-of-type {\n",
       "        vertical-align: middle;\n",
       "    }\n",
       "\n",
       "    .dataframe tbody tr th {\n",
       "        vertical-align: top;\n",
       "    }\n",
       "\n",
       "    .dataframe thead th {\n",
       "        text-align: right;\n",
       "    }\n",
       "</style>\n",
       "<table border=\"1\" class=\"dataframe\">\n",
       "  <thead>\n",
       "    <tr style=\"text-align: right;\">\n",
       "      <th></th>\n",
       "      <th>longueur</th>\n",
       "      <th>angle</th>\n",
       "      <th>weight</th>\n",
       "      <th>std</th>\n",
       "      <th>xPos</th>\n",
       "      <th>yPos</th>\n",
       "      <th>layer</th>\n",
       "    </tr>\n",
       "  </thead>\n",
       "  <tbody>\n",
       "    <tr>\n",
       "      <th>2101</th>\n",
       "      <td>7</td>\n",
       "      <td>68.534286</td>\n",
       "      <td>188.829575</td>\n",
       "      <td>19.513887</td>\n",
       "      <td>777</td>\n",
       "      <td>801</td>\n",
       "      <td>1</td>\n",
       "    </tr>\n",
       "    <tr>\n",
       "      <th>2103</th>\n",
       "      <td>7</td>\n",
       "      <td>63.071667</td>\n",
       "      <td>206.353729</td>\n",
       "      <td>15.549833</td>\n",
       "      <td>778</td>\n",
       "      <td>799</td>\n",
       "      <td>1</td>\n",
       "    </tr>\n",
       "    <tr>\n",
       "      <th>2104</th>\n",
       "      <td>7</td>\n",
       "      <td>63.288750</td>\n",
       "      <td>212.159134</td>\n",
       "      <td>14.001556</td>\n",
       "      <td>778</td>\n",
       "      <td>800</td>\n",
       "      <td>1</td>\n",
       "    </tr>\n",
       "    <tr>\n",
       "      <th>2105</th>\n",
       "      <td>7</td>\n",
       "      <td>79.428337</td>\n",
       "      <td>222.068848</td>\n",
       "      <td>10.914317</td>\n",
       "      <td>779</td>\n",
       "      <td>797</td>\n",
       "      <td>1</td>\n",
       "    </tr>\n",
       "    <tr>\n",
       "      <th>2106</th>\n",
       "      <td>7</td>\n",
       "      <td>68.534286</td>\n",
       "      <td>188.829575</td>\n",
       "      <td>19.513887</td>\n",
       "      <td>779</td>\n",
       "      <td>798</td>\n",
       "      <td>1</td>\n",
       "    </tr>\n",
       "    <tr>\n",
       "      <th>2107</th>\n",
       "      <td>7</td>\n",
       "      <td>64.956665</td>\n",
       "      <td>192.113449</td>\n",
       "      <td>18.832462</td>\n",
       "      <td>779</td>\n",
       "      <td>799</td>\n",
       "      <td>1</td>\n",
       "    </tr>\n",
       "    <tr>\n",
       "      <th>2108</th>\n",
       "      <td>7</td>\n",
       "      <td>39.384998</td>\n",
       "      <td>34.921524</td>\n",
       "      <td>48.408810</td>\n",
       "      <td>780</td>\n",
       "      <td>797</td>\n",
       "      <td>1</td>\n",
       "    </tr>\n",
       "  </tbody>\n",
       "</table>\n",
       "</div>"
      ],
      "text/plain": [
       "      longueur      angle      weight        std  xPos  yPos  layer\n",
       "2101         7  68.534286  188.829575  19.513887   777   801      1\n",
       "2103         7  63.071667  206.353729  15.549833   778   799      1\n",
       "2104         7  63.288750  212.159134  14.001556   778   800      1\n",
       "2105         7  79.428337  222.068848  10.914317   779   797      1\n",
       "2106         7  68.534286  188.829575  19.513887   779   798      1\n",
       "2107         7  64.956665  192.113449  18.832462   779   799      1\n",
       "2108         7  39.384998   34.921524  48.408810   780   797      1"
      ]
     },
     "execution_count": 139,
     "metadata": {},
     "output_type": "execute_result"
    }
   ],
   "source": [
    "titi[(titi.xPos>779-3)&(titi.xPos<779+3)&(titi.yPos>799-3)&(titi.yPos<799+3)]"
   ]
  },
  {
   "cell_type": "code",
   "execution_count": 140,
   "metadata": {
    "ExecuteTime": {
     "end_time": "2019-07-16T07:22:54.838328Z",
     "start_time": "2019-07-16T07:22:54.829833Z"
    }
   },
   "outputs": [],
   "source": [
    "def closestFieldNeurons(neuronList, posX, posY, distance):\n",
    "    return neuronList[(neuronList.xPos > posX - distance)\n",
    "               & (neuronList.xPos < posX + distance) &\n",
    "               (neuronList.yPos > posY - distance) &\n",
    "               (neuronList.yPos < posY + distance)]"
   ]
  },
  {
   "cell_type": "code",
   "execution_count": 141,
   "metadata": {
    "ExecuteTime": {
     "end_time": "2019-07-16T07:23:31.229317Z",
     "start_time": "2019-07-16T07:23:31.210688Z"
    }
   },
   "outputs": [
    {
     "data": {
      "text/html": [
       "<div>\n",
       "<style scoped>\n",
       "    .dataframe tbody tr th:only-of-type {\n",
       "        vertical-align: middle;\n",
       "    }\n",
       "\n",
       "    .dataframe tbody tr th {\n",
       "        vertical-align: top;\n",
       "    }\n",
       "\n",
       "    .dataframe thead th {\n",
       "        text-align: right;\n",
       "    }\n",
       "</style>\n",
       "<table border=\"1\" class=\"dataframe\">\n",
       "  <thead>\n",
       "    <tr style=\"text-align: right;\">\n",
       "      <th></th>\n",
       "      <th>longueur</th>\n",
       "      <th>angle</th>\n",
       "      <th>weight</th>\n",
       "      <th>std</th>\n",
       "      <th>xPos</th>\n",
       "      <th>yPos</th>\n",
       "      <th>layer</th>\n",
       "    </tr>\n",
       "  </thead>\n",
       "  <tbody>\n",
       "    <tr>\n",
       "      <th>2101</th>\n",
       "      <td>7</td>\n",
       "      <td>68.534286</td>\n",
       "      <td>188.829575</td>\n",
       "      <td>19.513887</td>\n",
       "      <td>777</td>\n",
       "      <td>801</td>\n",
       "      <td>1</td>\n",
       "    </tr>\n",
       "    <tr>\n",
       "      <th>2103</th>\n",
       "      <td>7</td>\n",
       "      <td>63.071667</td>\n",
       "      <td>206.353729</td>\n",
       "      <td>15.549833</td>\n",
       "      <td>778</td>\n",
       "      <td>799</td>\n",
       "      <td>1</td>\n",
       "    </tr>\n",
       "    <tr>\n",
       "      <th>2104</th>\n",
       "      <td>7</td>\n",
       "      <td>63.288750</td>\n",
       "      <td>212.159134</td>\n",
       "      <td>14.001556</td>\n",
       "      <td>778</td>\n",
       "      <td>800</td>\n",
       "      <td>1</td>\n",
       "    </tr>\n",
       "    <tr>\n",
       "      <th>2105</th>\n",
       "      <td>7</td>\n",
       "      <td>79.428337</td>\n",
       "      <td>222.068848</td>\n",
       "      <td>10.914317</td>\n",
       "      <td>779</td>\n",
       "      <td>797</td>\n",
       "      <td>1</td>\n",
       "    </tr>\n",
       "    <tr>\n",
       "      <th>2106</th>\n",
       "      <td>7</td>\n",
       "      <td>68.534286</td>\n",
       "      <td>188.829575</td>\n",
       "      <td>19.513887</td>\n",
       "      <td>779</td>\n",
       "      <td>798</td>\n",
       "      <td>1</td>\n",
       "    </tr>\n",
       "    <tr>\n",
       "      <th>2107</th>\n",
       "      <td>7</td>\n",
       "      <td>64.956665</td>\n",
       "      <td>192.113449</td>\n",
       "      <td>18.832462</td>\n",
       "      <td>779</td>\n",
       "      <td>799</td>\n",
       "      <td>1</td>\n",
       "    </tr>\n",
       "    <tr>\n",
       "      <th>2108</th>\n",
       "      <td>7</td>\n",
       "      <td>39.384998</td>\n",
       "      <td>34.921524</td>\n",
       "      <td>48.408810</td>\n",
       "      <td>780</td>\n",
       "      <td>797</td>\n",
       "      <td>1</td>\n",
       "    </tr>\n",
       "  </tbody>\n",
       "</table>\n",
       "</div>"
      ],
      "text/plain": [
       "      longueur      angle      weight        std  xPos  yPos  layer\n",
       "2101         7  68.534286  188.829575  19.513887   777   801      1\n",
       "2103         7  63.071667  206.353729  15.549833   778   799      1\n",
       "2104         7  63.288750  212.159134  14.001556   778   800      1\n",
       "2105         7  79.428337  222.068848  10.914317   779   797      1\n",
       "2106         7  68.534286  188.829575  19.513887   779   798      1\n",
       "2107         7  64.956665  192.113449  18.832462   779   799      1\n",
       "2108         7  39.384998   34.921524  48.408810   780   797      1"
      ]
     },
     "execution_count": 141,
     "metadata": {},
     "output_type": "execute_result"
    }
   ],
   "source": [
    "closestFieldNeurons(titi, 779, 799, 3)"
   ]
  },
  {
   "cell_type": "code",
   "execution_count": 144,
   "metadata": {
    "ExecuteTime": {
     "end_time": "2019-07-16T07:31:35.158461Z",
     "start_time": "2019-07-16T07:31:35.150989Z"
    }
   },
   "outputs": [
    {
     "data": {
      "text/plain": [
       "2.8284271247461903"
      ]
     },
     "execution_count": 144,
     "metadata": {},
     "output_type": "execute_result"
    }
   ],
   "source": [
    "np.sqrt(np.power(np.abs(779-777),2)+np.power(np.abs(799-801),2))"
   ]
  },
  {
   "cell_type": "code",
   "execution_count": 145,
   "metadata": {
    "ExecuteTime": {
     "end_time": "2019-07-16T07:32:22.599125Z",
     "start_time": "2019-07-16T07:32:22.591879Z"
    }
   },
   "outputs": [],
   "source": [
    "def getDistance(x1,y1,x2,y2):\n",
    "    return np.sqrt(np.power(np.abs(x1-x2),2)+np.power(np.abs(y1-y2),2))"
   ]
  },
  {
   "cell_type": "code",
   "execution_count": 146,
   "metadata": {
    "ExecuteTime": {
     "end_time": "2019-07-16T07:32:52.460856Z",
     "start_time": "2019-07-16T07:32:52.450635Z"
    }
   },
   "outputs": [
    {
     "data": {
      "text/plain": [
       "2.8284271247461903"
      ]
     },
     "execution_count": 146,
     "metadata": {},
     "output_type": "execute_result"
    }
   ],
   "source": [
    "getDistance(779,799,777,801)"
   ]
  },
  {
   "cell_type": "code",
   "execution_count": 200,
   "metadata": {
    "ExecuteTime": {
     "end_time": "2019-07-16T08:39:34.229588Z",
     "start_time": "2019-07-16T08:39:34.214552Z"
    }
   },
   "outputs": [],
   "source": [
    "closest = closestFieldNeurons(titi, 779, 799, 3)\n",
    "distNeurons = getDistance(779,799,closest.xPos,closest.yPos)"
   ]
  },
  {
   "cell_type": "code",
   "execution_count": 156,
   "metadata": {
    "ExecuteTime": {
     "end_time": "2019-07-16T07:39:58.827512Z",
     "start_time": "2019-07-16T07:39:58.794528Z"
    }
   },
   "outputs": [
    {
     "data": {
      "text/plain": [
       "2101    2.828427\n",
       "dtype: float64"
      ]
     },
     "execution_count": 156,
     "metadata": {},
     "output_type": "execute_result"
    }
   ],
   "source": [
    "distNeurons[0:1]"
   ]
  },
  {
   "cell_type": "code",
   "execution_count": 157,
   "metadata": {
    "ExecuteTime": {
     "end_time": "2019-07-16T07:54:09.981375Z",
     "start_time": "2019-07-16T07:54:09.899229Z"
    }
   },
   "outputs": [
    {
     "data": {
      "text/plain": [
       "2101    2.828427\n",
       "2103    1.000000\n",
       "2104    1.414214\n",
       "2105    2.000000\n",
       "2106    1.000000\n",
       "2107    0.000000\n",
       "2108    2.236068\n",
       "dtype: float64"
      ]
     },
     "execution_count": 157,
     "metadata": {},
     "output_type": "execute_result"
    }
   ],
   "source": [
    "distNeurons"
   ]
  },
  {
   "cell_type": "code",
   "execution_count": 201,
   "metadata": {
    "ExecuteTime": {
     "end_time": "2019-07-16T08:39:41.860878Z",
     "start_time": "2019-07-16T08:39:41.843823Z"
    }
   },
   "outputs": [
    {
     "data": {
      "text/html": [
       "<div>\n",
       "<style scoped>\n",
       "    .dataframe tbody tr th:only-of-type {\n",
       "        vertical-align: middle;\n",
       "    }\n",
       "\n",
       "    .dataframe tbody tr th {\n",
       "        vertical-align: top;\n",
       "    }\n",
       "\n",
       "    .dataframe thead th {\n",
       "        text-align: right;\n",
       "    }\n",
       "</style>\n",
       "<table border=\"1\" class=\"dataframe\">\n",
       "  <thead>\n",
       "    <tr style=\"text-align: right;\">\n",
       "      <th></th>\n",
       "      <th>longueur</th>\n",
       "      <th>angle</th>\n",
       "      <th>weight</th>\n",
       "      <th>precision</th>\n",
       "      <th>xPos</th>\n",
       "      <th>yPos</th>\n",
       "      <th>layer</th>\n",
       "    </tr>\n",
       "  </thead>\n",
       "  <tbody>\n",
       "    <tr>\n",
       "      <th>2101</th>\n",
       "      <td>7</td>\n",
       "      <td>68.534286</td>\n",
       "      <td>188.829575</td>\n",
       "      <td>19.513887</td>\n",
       "      <td>777</td>\n",
       "      <td>801</td>\n",
       "      <td>1</td>\n",
       "    </tr>\n",
       "    <tr>\n",
       "      <th>2103</th>\n",
       "      <td>7</td>\n",
       "      <td>63.071667</td>\n",
       "      <td>206.353729</td>\n",
       "      <td>15.549833</td>\n",
       "      <td>778</td>\n",
       "      <td>799</td>\n",
       "      <td>1</td>\n",
       "    </tr>\n",
       "    <tr>\n",
       "      <th>2104</th>\n",
       "      <td>7</td>\n",
       "      <td>63.288750</td>\n",
       "      <td>212.159134</td>\n",
       "      <td>14.001556</td>\n",
       "      <td>778</td>\n",
       "      <td>800</td>\n",
       "      <td>1</td>\n",
       "    </tr>\n",
       "    <tr>\n",
       "      <th>2105</th>\n",
       "      <td>7</td>\n",
       "      <td>79.428337</td>\n",
       "      <td>222.068848</td>\n",
       "      <td>10.914317</td>\n",
       "      <td>779</td>\n",
       "      <td>797</td>\n",
       "      <td>1</td>\n",
       "    </tr>\n",
       "    <tr>\n",
       "      <th>2106</th>\n",
       "      <td>7</td>\n",
       "      <td>68.534286</td>\n",
       "      <td>188.829575</td>\n",
       "      <td>19.513887</td>\n",
       "      <td>779</td>\n",
       "      <td>798</td>\n",
       "      <td>1</td>\n",
       "    </tr>\n",
       "    <tr>\n",
       "      <th>2107</th>\n",
       "      <td>7</td>\n",
       "      <td>64.956665</td>\n",
       "      <td>192.113449</td>\n",
       "      <td>18.832462</td>\n",
       "      <td>779</td>\n",
       "      <td>799</td>\n",
       "      <td>1</td>\n",
       "    </tr>\n",
       "    <tr>\n",
       "      <th>2108</th>\n",
       "      <td>7</td>\n",
       "      <td>39.384998</td>\n",
       "      <td>34.921524</td>\n",
       "      <td>48.408810</td>\n",
       "      <td>780</td>\n",
       "      <td>797</td>\n",
       "      <td>1</td>\n",
       "    </tr>\n",
       "  </tbody>\n",
       "</table>\n",
       "</div>"
      ],
      "text/plain": [
       "      longueur      angle      weight  precision  xPos  yPos  layer\n",
       "2101         7  68.534286  188.829575  19.513887   777   801      1\n",
       "2103         7  63.071667  206.353729  15.549833   778   799      1\n",
       "2104         7  63.288750  212.159134  14.001556   778   800      1\n",
       "2105         7  79.428337  222.068848  10.914317   779   797      1\n",
       "2106         7  68.534286  188.829575  19.513887   779   798      1\n",
       "2107         7  64.956665  192.113449  18.832462   779   799      1\n",
       "2108         7  39.384998   34.921524  48.408810   780   797      1"
      ]
     },
     "execution_count": 201,
     "metadata": {},
     "output_type": "execute_result"
    }
   ],
   "source": [
    "closest#.longueur[0:1]"
   ]
  },
  {
   "cell_type": "code",
   "execution_count": 204,
   "metadata": {
    "ExecuteTime": {
     "end_time": "2019-07-16T08:42:25.636649Z",
     "start_time": "2019-07-16T08:42:25.620239Z"
    }
   },
   "outputs": [],
   "source": [
    "lNeuronType = np.dtype([('longueur', 'u1'), \n",
    "                            ('angle', 'f4'),\n",
    "                            ('weight', 'f4'), \n",
    "                            ('precision', 'f4'), \n",
    "                            ('xPos', 'u1'),('yPos', 'u2'), \n",
    "                            ('group', 'u1')])\n",
    "def getAvgFieldNeuron(neuronList,typeList=lNeuronType):\n",
    "    lNeurons = np.zeros(1, dtype=typeList);\n",
    "    lpNeurons = pd.DataFrame(lNeurons);\n",
    "    lpNeurons['longueur'] = int(neuronList.longueur[0:1]);\n",
    "    lpNeurons['angle'] = float(np.sum((closest.angle * closest.weight)/np.sum(closest.weight)))\n",
    "    lpNeurons['weight'] = float(np.sum((closest.weight * closest.weight)/np.sum(closest.weight)))\n",
    "    lpNeurons['precision'] = float(np.sum((closest.precision * closest.weight)/np.sum(closest.weight)))\n",
    "    lpNeurons['xPos'] = int(np.sum((closest.xPos * closest.weight)/np.sum(closest.weight)))\n",
    "    lpNeurons['yPos'] = int(np.sum((closest.yPos * closest.weight)/np.sum(closest.weight)))\n",
    "    return lpNeurons;"
   ]
  },
  {
   "cell_type": "code",
   "execution_count": 206,
   "metadata": {
    "ExecuteTime": {
     "end_time": "2019-07-16T09:10:29.375584Z",
     "start_time": "2019-07-16T09:10:29.244522Z"
    }
   },
   "outputs": [],
   "source": [
    "moyenNeuron = getAvgFieldNeuron(closest)"
   ]
  },
  {
   "cell_type": "code",
   "execution_count": 167,
   "metadata": {
    "ExecuteTime": {
     "end_time": "2019-07-16T08:25:16.410236Z",
     "start_time": "2019-07-16T08:25:16.397753Z"
    }
   },
   "outputs": [
    {
     "data": {
      "text/plain": [
       "2101    12941.299805\n",
       "2103    13015.073242\n",
       "2104    13427.286133\n",
       "2105    17638.558594\n",
       "2106    12941.299805\n",
       "2107    12479.048828\n",
       "2108     1375.384155\n",
       "dtype: float32"
      ]
     },
     "execution_count": 167,
     "metadata": {},
     "output_type": "execute_result"
    }
   ],
   "source": [
    "closest.angle * closest.weight"
   ]
  },
  {
   "cell_type": "code",
   "execution_count": 168,
   "metadata": {
    "ExecuteTime": {
     "end_time": "2019-07-16T08:25:28.824419Z",
     "start_time": "2019-07-16T08:25:28.813154Z"
    }
   },
   "outputs": [
    {
     "data": {
      "text/plain": [
       "1245.2758"
      ]
     },
     "execution_count": 168,
     "metadata": {},
     "output_type": "execute_result"
    }
   ],
   "source": [
    "np.sum(closest.weight)"
   ]
  },
  {
   "cell_type": "code",
   "execution_count": 170,
   "metadata": {
    "ExecuteTime": {
     "end_time": "2019-07-16T08:26:28.931940Z",
     "start_time": "2019-07-16T08:26:28.921618Z"
    }
   },
   "outputs": [
    {
     "data": {
      "text/plain": [
       "67.30875"
      ]
     },
     "execution_count": 170,
     "metadata": {},
     "output_type": "execute_result"
    }
   ],
   "source": [
    "np.sum((closest.angle * closest.weight)/np.sum(closest.weight))"
   ]
  },
  {
   "cell_type": "code",
   "execution_count": 171,
   "metadata": {
    "ExecuteTime": {
     "end_time": "2019-07-16T08:27:11.198502Z",
     "start_time": "2019-07-16T08:27:11.188345Z"
    }
   },
   "outputs": [
    {
     "data": {
      "text/plain": [
       "63.88558"
      ]
     },
     "execution_count": 171,
     "metadata": {},
     "output_type": "execute_result"
    }
   ],
   "source": [
    "np.average(closest.angle)"
   ]
  },
  {
   "cell_type": "code",
   "execution_count": 172,
   "metadata": {
    "ExecuteTime": {
     "end_time": "2019-07-16T08:27:50.604013Z",
     "start_time": "2019-07-16T08:27:50.593784Z"
    }
   },
   "outputs": [
    {
     "data": {
      "text/plain": [
       "197.82626"
      ]
     },
     "execution_count": 172,
     "metadata": {},
     "output_type": "execute_result"
    }
   ],
   "source": [
    "np.sum((closest.weight * closest.weight)/np.sum(closest.weight))"
   ]
  },
  {
   "cell_type": "code",
   "execution_count": 173,
   "metadata": {
    "ExecuteTime": {
     "end_time": "2019-07-16T08:28:02.438465Z",
     "start_time": "2019-07-16T08:28:02.431476Z"
    }
   },
   "outputs": [
    {
     "data": {
      "text/plain": [
       "177.89653"
      ]
     },
     "execution_count": 173,
     "metadata": {},
     "output_type": "execute_result"
    }
   ],
   "source": [
    "np.average(closest.weight)"
   ]
  },
  {
   "cell_type": "code",
   "execution_count": 213,
   "metadata": {
    "ExecuteTime": {
     "end_time": "2019-07-16T09:13:35.539026Z",
     "start_time": "2019-07-16T09:13:35.508143Z"
    }
   },
   "outputs": [
    {
     "data": {
      "text/html": [
       "<div>\n",
       "<style scoped>\n",
       "    .dataframe tbody tr th:only-of-type {\n",
       "        vertical-align: middle;\n",
       "    }\n",
       "\n",
       "    .dataframe tbody tr th {\n",
       "        vertical-align: top;\n",
       "    }\n",
       "\n",
       "    .dataframe thead th {\n",
       "        text-align: right;\n",
       "    }\n",
       "</style>\n",
       "<table border=\"1\" class=\"dataframe\">\n",
       "  <thead>\n",
       "    <tr style=\"text-align: right;\">\n",
       "      <th></th>\n",
       "      <th>longueur</th>\n",
       "      <th>angle</th>\n",
       "      <th>weight</th>\n",
       "      <th>precision</th>\n",
       "      <th>xPos</th>\n",
       "      <th>yPos</th>\n",
       "      <th>group</th>\n",
       "    </tr>\n",
       "  </thead>\n",
       "  <tbody>\n",
       "    <tr>\n",
       "      <th>0</th>\n",
       "      <td>7</td>\n",
       "      <td>67.308746</td>\n",
       "      <td>197.826263</td>\n",
       "      <td>17.089493</td>\n",
       "      <td>778</td>\n",
       "      <td>798</td>\n",
       "      <td>0</td>\n",
       "    </tr>\n",
       "  </tbody>\n",
       "</table>\n",
       "</div>"
      ],
      "text/plain": [
       "   longueur      angle      weight  precision  xPos  yPos  group\n",
       "0         7  67.308746  197.826263  17.089493   778   798      0"
      ]
     },
     "execution_count": 213,
     "metadata": {},
     "output_type": "execute_result"
    }
   ],
   "source": [
    "moyenNeuron"
   ]
  },
  {
   "cell_type": "code",
   "execution_count": 211,
   "metadata": {
    "ExecuteTime": {
     "end_time": "2019-07-16T09:12:25.539362Z",
     "start_time": "2019-07-16T09:12:25.428406Z"
    }
   },
   "outputs": [
    {
     "ename": "TypeError",
     "evalue": "moveCoordDeg() missing 3 required positional arguments: 'startX', 'startY', and 'distance'",
     "output_type": "error",
     "traceback": [
      "\u001b[0;31m---------------------------------------------------------------------------\u001b[0m",
      "\u001b[0;31mTypeError\u001b[0m                                 Traceback (most recent call last)",
      "\u001b[0;32m<ipython-input-211-d5bc759afa3d>\u001b[0m in \u001b[0;36m<module>\u001b[0;34m\u001b[0m\n\u001b[0;32m----> 1\u001b[0;31m \u001b[0mmoveCoordDeg\u001b[0m\u001b[0;34m(\u001b[0m\u001b[0mfloat\u001b[0m\u001b[0;34m(\u001b[0m\u001b[0mmoyenNeuron\u001b[0m\u001b[0;34m.\u001b[0m\u001b[0mangle\u001b[0m\u001b[0;34m)\u001b[0m\u001b[0;34m,\u001b[0m\u001b[0;34m)\u001b[0m\u001b[0;34m\u001b[0m\u001b[0;34m\u001b[0m\u001b[0m\n\u001b[0m",
      "\u001b[0;31mTypeError\u001b[0m: moveCoordDeg() missing 3 required positional arguments: 'startX', 'startY', and 'distance'"
     ]
    }
   ],
   "source": [
    "moveCoordDeg(float(moyenNeuron.angle),)\n"
   ]
  },
  {
   "cell_type": "code",
   "execution_count": 217,
   "metadata": {
    "ExecuteTime": {
     "end_time": "2019-07-16T09:16:23.895859Z",
     "start_time": "2019-07-16T09:16:23.891336Z"
    }
   },
   "outputs": [],
   "source": [
    "def getNextPosition(neuroneMoyen):\n",
    "    return moveCoordDeg(float(neuroneMoyen.angle),int(neuroneMoyen.xPos),int(neuroneMoyen.yPos),int(neuroneMoyen.longueur))"
   ]
  },
  {
   "cell_type": "code",
   "execution_count": 220,
   "metadata": {
    "ExecuteTime": {
     "end_time": "2019-07-16T09:18:41.339018Z",
     "start_time": "2019-07-16T09:18:41.333634Z"
    }
   },
   "outputs": [],
   "source": [
    "npos  = getNextPosition(moyenNeuron)"
   ]
  },
  {
   "cell_type": "code",
   "execution_count": 268,
   "metadata": {
    "ExecuteTime": {
     "end_time": "2019-07-16T15:54:15.261225Z",
     "start_time": "2019-07-16T15:54:15.250191Z"
    }
   },
   "outputs": [
    {
     "data": {
      "text/plain": [
       "0"
      ]
     },
     "execution_count": 268,
     "metadata": {},
     "output_type": "execute_result"
    }
   ],
   "source": [
    "closestFieldNeurons(titi, npos[0], npos[1], 3).shape[0]"
   ]
  },
  {
   "cell_type": "code",
   "execution_count": 235,
   "metadata": {
    "ExecuteTime": {
     "end_time": "2019-07-16T12:18:22.027975Z",
     "start_time": "2019-07-16T12:18:22.005123Z"
    }
   },
   "outputs": [
    {
     "data": {
      "text/html": [
       "<div>\n",
       "<style scoped>\n",
       "    .dataframe tbody tr th:only-of-type {\n",
       "        vertical-align: middle;\n",
       "    }\n",
       "\n",
       "    .dataframe tbody tr th {\n",
       "        vertical-align: top;\n",
       "    }\n",
       "\n",
       "    .dataframe thead th {\n",
       "        text-align: right;\n",
       "    }\n",
       "</style>\n",
       "<table border=\"1\" class=\"dataframe\">\n",
       "  <thead>\n",
       "    <tr style=\"text-align: right;\">\n",
       "      <th></th>\n",
       "      <th>longueur</th>\n",
       "      <th>angle</th>\n",
       "      <th>weight</th>\n",
       "      <th>precision</th>\n",
       "      <th>xPos</th>\n",
       "      <th>yPos</th>\n",
       "      <th>group</th>\n",
       "      <th>layer</th>\n",
       "    </tr>\n",
       "  </thead>\n",
       "  <tbody>\n",
       "    <tr>\n",
       "      <th>0</th>\n",
       "      <td>7</td>\n",
       "      <td>-18.721428</td>\n",
       "      <td>5.095261</td>\n",
       "      <td>68.927689</td>\n",
       "      <td>189</td>\n",
       "      <td>1001</td>\n",
       "      <td>0</td>\n",
       "      <td>1</td>\n",
       "    </tr>\n",
       "    <tr>\n",
       "      <th>1</th>\n",
       "      <td>7</td>\n",
       "      <td>-31.186666</td>\n",
       "      <td>18.183504</td>\n",
       "      <td>55.667706</td>\n",
       "      <td>190</td>\n",
       "      <td>1003</td>\n",
       "      <td>0</td>\n",
       "      <td>1</td>\n",
       "    </tr>\n",
       "    <tr>\n",
       "      <th>2</th>\n",
       "      <td>7</td>\n",
       "      <td>-13.813334</td>\n",
       "      <td>35.751305</td>\n",
       "      <td>48.136200</td>\n",
       "      <td>191</td>\n",
       "      <td>1004</td>\n",
       "      <td>0</td>\n",
       "      <td>1</td>\n",
       "    </tr>\n",
       "    <tr>\n",
       "      <th>3</th>\n",
       "      <td>7</td>\n",
       "      <td>-15.065000</td>\n",
       "      <td>186.028503</td>\n",
       "      <td>20.077934</td>\n",
       "      <td>193</td>\n",
       "      <td>1005</td>\n",
       "      <td>0</td>\n",
       "      <td>1</td>\n",
       "    </tr>\n",
       "    <tr>\n",
       "      <th>4</th>\n",
       "      <td>7</td>\n",
       "      <td>-10.741667</td>\n",
       "      <td>88.303673</td>\n",
       "      <td>36.353920</td>\n",
       "      <td>195</td>\n",
       "      <td>992</td>\n",
       "      <td>0</td>\n",
       "      <td>1</td>\n",
       "    </tr>\n",
       "  </tbody>\n",
       "</table>\n",
       "</div>"
      ],
      "text/plain": [
       "   longueur      angle      weight  precision  xPos  yPos  group  layer\n",
       "0         7 -18.721428    5.095261  68.927689   189  1001      0      1\n",
       "1         7 -31.186666   18.183504  55.667706   190  1003      0      1\n",
       "2         7 -13.813334   35.751305  48.136200   191  1004      0      1\n",
       "3         7 -15.065000  186.028503  20.077934   193  1005      0      1\n",
       "4         7 -10.741667   88.303673  36.353920   195   992      0      1"
      ]
     },
     "execution_count": 235,
     "metadata": {},
     "output_type": "execute_result"
    }
   ],
   "source": [
    "titi.head()"
   ]
  },
  {
   "cell_type": "code",
   "execution_count": 317,
   "metadata": {
    "ExecuteTime": {
     "end_time": "2019-07-16T19:23:39.797825Z",
     "start_time": "2019-07-16T19:23:39.770863Z"
    }
   },
   "outputs": [],
   "source": [
    "def findGroups(neuronList):\n",
    "\n",
    "    # Sélection d'un nouveau numéro de Groupe (GroupID)\n",
    "    lintCurrentGroupID = 0\n",
    "    lintNbGroups = 0\n",
    "    lIndex = 0\n",
    "\n",
    "    # liste des neurones sans groupe\n",
    "    lNoGroupList = neuronList[neuronList.group == 0]\n",
    "    \n",
    "    while lNoGroupList.shape[0]>0:\n",
    "\n",
    "        #Sélection d'un neurone dans la liste (ceux sans groupID ou groupID=0)\n",
    "        lMoyenNeuron = lNoGroupList.iloc[0]\n",
    "        lIndex = lNoGroupList.head().index.values[0]\n",
    "        \n",
    "        while True:\n",
    "            #Assignation d'un nouveau numéro de GroupID en cours\n",
    "            lintNbGroups += 1\n",
    "            lintCurrentGroupID += 1\n",
    "            if neuronList[neuronList.group == lintCurrentGroupID].shape[0] == 0:\n",
    "                break\n",
    "        \n",
    "        neuronList.loc[lIndex, ['group']] = lintCurrentGroupID\n",
    "\n",
    "        #déplacement\n",
    "        lnPos = getNextPosition(lMoyenNeuron)\n",
    "\n",
    "        #recherche de neurones proches\n",
    "        lClosestNeurons = closestFieldNeurons(neuronList, lnPos[0], lnPos[1],\n",
    "                                              int(np.floor(lMoyenNeuron.longueur / 2)))\n",
    "\n",
    "        #Oui ==> retour étape 1\n",
    "        while lClosestNeurons.shape[0] != 0:\n",
    "            #recherche des groupID dans cette sous-sélection\n",
    "            if lClosestNeurons[lClosestNeurons.group > 0].shape[0] == 0:\n",
    "                #Non => Assigner à tous les neurones de la sous-sélection le groupID en cours => aller directement à l'étape 7\n",
    "                for lintIdx in lClosestNeurons.head().index.values:\n",
    "                    neuronList.loc[lintIdx, ['group']] = lintCurrentGroupID\n",
    "            else:\n",
    "                #Oui\n",
    "                #Récupération de la liste de tous les groupID utilisés\n",
    "                #Sélection du groupID le plus petit (en comparant aussi avec le groupID en cours)\n",
    "                lintPreviousGroupID = lintCurrentGroupID\n",
    "                lintCurrentGroupID = np.min(\n",
    "                    lClosestNeurons[lClosestNeurons.group > 0].group)\n",
    "                #Assigner à tous les neurones de la sous-sélection ce nouveau groupID\n",
    "                for lintIdx in lClosestNeurons.head().index.values:\n",
    "                    neuronList.loc[lintIdx, ['group']] = lintCurrentGroupID\n",
    "                    #remplacer dans la liste globale, pour chaque groupID présent dans la liste par le nouveau groupID\n",
    "                    for lintGroupID in lClosestNeurons[\n",
    "                            lClosestNeurons.group > 0].group:\n",
    "                        neuronList.loc[neuronList.group ==\n",
    "                                       lintGroupID, 'group'] = lintCurrentGroupID\n",
    "                if lintPreviousGroupID == lintCurrentGroupID:\n",
    "                    #si tous les neurones\n",
    "                    if lClosestNeurons[\n",
    "                            lClosestNeurons.group > 0].shape[0] == lClosestNeurons[\n",
    "                                lClosestNeurons.group ==\n",
    "                                lintPreviousGroupID].shape[0]:\n",
    "                        break  # sortie de la boucle while\n",
    "            #Calcul du neurone Field moyen\n",
    "            lMoyenNeuron = getAvgFieldNeuron(lClosestNeurons)\n",
    "            #déplacement\n",
    "            lnPos = getNextPosition(lMoyenNeuron)\n",
    "\n",
    "            #recherche de neurones proches\n",
    "            lClosestNeurons = closestFieldNeurons(\n",
    "                neuronList, lnPos[0], lnPos[1],\n",
    "                int(np.floor(lMoyenNeuron.longueur / 2)))\n",
    "            \n",
    "        lNoGroupList = neuronList[neuronList.group == 0]\n",
    "    return neuronList"
   ]
  },
  {
   "cell_type": "code",
   "execution_count": 241,
   "metadata": {
    "ExecuteTime": {
     "end_time": "2019-07-16T15:18:54.525939Z",
     "start_time": "2019-07-16T15:18:54.462462Z"
    }
   },
   "outputs": [],
   "source": [
    "noGroupList = titi[titi.group==0]"
   ]
  },
  {
   "cell_type": "code",
   "execution_count": 242,
   "metadata": {
    "ExecuteTime": {
     "end_time": "2019-07-16T15:19:10.396008Z",
     "start_time": "2019-07-16T15:19:10.389147Z"
    }
   },
   "outputs": [],
   "source": [
    "moyenNeuron = noGroupList.loc[0]"
   ]
  },
  {
   "cell_type": "code",
   "execution_count": 258,
   "metadata": {
    "ExecuteTime": {
     "end_time": "2019-07-16T15:28:30.123124Z",
     "start_time": "2019-07-16T15:28:30.116086Z"
    }
   },
   "outputs": [
    {
     "data": {
      "text/plain": [
       "0"
      ]
     },
     "execution_count": 258,
     "metadata": {},
     "output_type": "execute_result"
    }
   ],
   "source": [
    "noGroupList.head().index.values[0]"
   ]
  },
  {
   "cell_type": "code",
   "execution_count": 259,
   "metadata": {
    "ExecuteTime": {
     "end_time": "2019-07-16T15:30:04.326808Z",
     "start_time": "2019-07-16T15:30:04.314164Z"
    }
   },
   "outputs": [],
   "source": [
    "noGroupList = titi[titi.xPos>400]"
   ]
  },
  {
   "cell_type": "code",
   "execution_count": 270,
   "metadata": {
    "ExecuteTime": {
     "end_time": "2019-07-16T17:22:39.983448Z",
     "start_time": "2019-07-16T17:22:39.963200Z"
    }
   },
   "outputs": [
    {
     "data": {
      "text/plain": [
       "0"
      ]
     },
     "execution_count": 270,
     "metadata": {},
     "output_type": "execute_result"
    }
   ],
   "source": [
    "np.min(noGroupList.group)"
   ]
  },
  {
   "cell_type": "code",
   "execution_count": 261,
   "metadata": {
    "ExecuteTime": {
     "end_time": "2019-07-16T15:30:20.063199Z",
     "start_time": "2019-07-16T15:30:20.055773Z"
    }
   },
   "outputs": [
    {
     "data": {
      "text/plain": [
       "1490"
      ]
     },
     "execution_count": 261,
     "metadata": {},
     "output_type": "execute_result"
    }
   ],
   "source": [
    "noGroupList.head().index.values[0]"
   ]
  },
  {
   "cell_type": "code",
   "execution_count": 266,
   "metadata": {
    "ExecuteTime": {
     "end_time": "2019-07-16T15:51:18.297885Z",
     "start_time": "2019-07-16T15:51:18.290421Z"
    }
   },
   "outputs": [
    {
     "data": {
      "text/plain": [
       "7.0"
      ]
     },
     "execution_count": 266,
     "metadata": {},
     "output_type": "execute_result"
    }
   ],
   "source": [
    "moyenNeuron.longueur"
   ]
  },
  {
   "cell_type": "code",
   "execution_count": 284,
   "metadata": {
    "ExecuteTime": {
     "end_time": "2019-07-16T17:46:29.223915Z",
     "start_time": "2019-07-16T17:46:29.219894Z"
    }
   },
   "outputs": [],
   "source": [
    "testToto = titi"
   ]
  },
  {
   "cell_type": "code",
   "execution_count": 287,
   "metadata": {
    "ExecuteTime": {
     "end_time": "2019-07-16T17:46:49.975159Z",
     "start_time": "2019-07-16T17:46:49.962804Z"
    }
   },
   "outputs": [
    {
     "data": {
      "text/html": [
       "<div>\n",
       "<style scoped>\n",
       "    .dataframe tbody tr th:only-of-type {\n",
       "        vertical-align: middle;\n",
       "    }\n",
       "\n",
       "    .dataframe tbody tr th {\n",
       "        vertical-align: top;\n",
       "    }\n",
       "\n",
       "    .dataframe thead th {\n",
       "        text-align: right;\n",
       "    }\n",
       "</style>\n",
       "<table border=\"1\" class=\"dataframe\">\n",
       "  <thead>\n",
       "    <tr style=\"text-align: right;\">\n",
       "      <th></th>\n",
       "      <th>longueur</th>\n",
       "      <th>angle</th>\n",
       "      <th>weight</th>\n",
       "      <th>precision</th>\n",
       "      <th>xPos</th>\n",
       "      <th>yPos</th>\n",
       "      <th>group</th>\n",
       "      <th>layer</th>\n",
       "    </tr>\n",
       "  </thead>\n",
       "  <tbody>\n",
       "  </tbody>\n",
       "</table>\n",
       "</div>"
      ],
      "text/plain": [
       "Empty DataFrame\n",
       "Columns: [longueur, angle, weight, precision, xPos, yPos, group, layer]\n",
       "Index: []"
      ]
     },
     "execution_count": 287,
     "metadata": {},
     "output_type": "execute_result"
    }
   ],
   "source": [
    "titi[titi.xPos==407]"
   ]
  },
  {
   "cell_type": "code",
   "execution_count": 280,
   "metadata": {
    "ExecuteTime": {
     "end_time": "2019-07-16T17:42:53.684451Z",
     "start_time": "2019-07-16T17:42:53.668660Z"
    }
   },
   "outputs": [],
   "source": [
    "testToto.loc[testToto.xPos==407,'xPos']=408"
   ]
  },
  {
   "cell_type": "code",
   "execution_count": 318,
   "metadata": {
    "ExecuteTime": {
     "end_time": "2019-07-16T19:25:15.000796Z",
     "start_time": "2019-07-16T19:23:50.192388Z"
    }
   },
   "outputs": [
    {
     "data": {
      "text/html": [
       "<div>\n",
       "<style scoped>\n",
       "    .dataframe tbody tr th:only-of-type {\n",
       "        vertical-align: middle;\n",
       "    }\n",
       "\n",
       "    .dataframe tbody tr th {\n",
       "        vertical-align: top;\n",
       "    }\n",
       "\n",
       "    .dataframe thead th {\n",
       "        text-align: right;\n",
       "    }\n",
       "</style>\n",
       "<table border=\"1\" class=\"dataframe\">\n",
       "  <thead>\n",
       "    <tr style=\"text-align: right;\">\n",
       "      <th></th>\n",
       "      <th>longueur</th>\n",
       "      <th>angle</th>\n",
       "      <th>weight</th>\n",
       "      <th>precision</th>\n",
       "      <th>xPos</th>\n",
       "      <th>yPos</th>\n",
       "      <th>group</th>\n",
       "      <th>layer</th>\n",
       "    </tr>\n",
       "  </thead>\n",
       "  <tbody>\n",
       "    <tr>\n",
       "      <th>0</th>\n",
       "      <td>7</td>\n",
       "      <td>11.743750</td>\n",
       "      <td>23.299953</td>\n",
       "      <td>52.969921</td>\n",
       "      <td>187</td>\n",
       "      <td>998</td>\n",
       "      <td>1</td>\n",
       "      <td>1</td>\n",
       "    </tr>\n",
       "    <tr>\n",
       "      <th>1</th>\n",
       "      <td>7</td>\n",
       "      <td>42.820000</td>\n",
       "      <td>24.022297</td>\n",
       "      <td>52.633389</td>\n",
       "      <td>188</td>\n",
       "      <td>994</td>\n",
       "      <td>1</td>\n",
       "      <td>1</td>\n",
       "    </tr>\n",
       "    <tr>\n",
       "      <th>2</th>\n",
       "      <td>7</td>\n",
       "      <td>61.884998</td>\n",
       "      <td>61.446175</td>\n",
       "      <td>41.473942</td>\n",
       "      <td>188</td>\n",
       "      <td>995</td>\n",
       "      <td>1</td>\n",
       "      <td>1</td>\n",
       "    </tr>\n",
       "    <tr>\n",
       "      <th>3</th>\n",
       "      <td>7</td>\n",
       "      <td>75.000000</td>\n",
       "      <td>166.198013</td>\n",
       "      <td>23.732290</td>\n",
       "      <td>188</td>\n",
       "      <td>996</td>\n",
       "      <td>1</td>\n",
       "      <td>1</td>\n",
       "    </tr>\n",
       "    <tr>\n",
       "      <th>4</th>\n",
       "      <td>7</td>\n",
       "      <td>70.821251</td>\n",
       "      <td>156.773056</td>\n",
       "      <td>25.324814</td>\n",
       "      <td>188</td>\n",
       "      <td>997</td>\n",
       "      <td>1</td>\n",
       "      <td>1</td>\n",
       "    </tr>\n",
       "    <tr>\n",
       "      <th>5</th>\n",
       "      <td>7</td>\n",
       "      <td>20.901428</td>\n",
       "      <td>4.037204</td>\n",
       "      <td>71.297523</td>\n",
       "      <td>188</td>\n",
       "      <td>999</td>\n",
       "      <td>1</td>\n",
       "      <td>1</td>\n",
       "    </tr>\n",
       "    <tr>\n",
       "      <th>6</th>\n",
       "      <td>7</td>\n",
       "      <td>-38.007141</td>\n",
       "      <td>23.636238</td>\n",
       "      <td>52.812103</td>\n",
       "      <td>189</td>\n",
       "      <td>1001</td>\n",
       "      <td>1</td>\n",
       "      <td>1</td>\n",
       "    </tr>\n",
       "    <tr>\n",
       "      <th>7</th>\n",
       "      <td>7</td>\n",
       "      <td>-37.467499</td>\n",
       "      <td>32.898060</td>\n",
       "      <td>49.097229</td>\n",
       "      <td>189</td>\n",
       "      <td>1002</td>\n",
       "      <td>1</td>\n",
       "      <td>1</td>\n",
       "    </tr>\n",
       "    <tr>\n",
       "      <th>8</th>\n",
       "      <td>7</td>\n",
       "      <td>42.696251</td>\n",
       "      <td>36.254013</td>\n",
       "      <td>47.973610</td>\n",
       "      <td>190</td>\n",
       "      <td>991</td>\n",
       "      <td>1</td>\n",
       "      <td>1</td>\n",
       "    </tr>\n",
       "    <tr>\n",
       "      <th>9</th>\n",
       "      <td>7</td>\n",
       "      <td>58.770000</td>\n",
       "      <td>80.298119</td>\n",
       "      <td>37.773346</td>\n",
       "      <td>190</td>\n",
       "      <td>992</td>\n",
       "      <td>1</td>\n",
       "      <td>1</td>\n",
       "    </tr>\n",
       "    <tr>\n",
       "      <th>10</th>\n",
       "      <td>7</td>\n",
       "      <td>41.678749</td>\n",
       "      <td>92.800262</td>\n",
       "      <td>35.583790</td>\n",
       "      <td>190</td>\n",
       "      <td>995</td>\n",
       "      <td>1</td>\n",
       "      <td>1</td>\n",
       "    </tr>\n",
       "    <tr>\n",
       "      <th>11</th>\n",
       "      <td>7</td>\n",
       "      <td>24.098572</td>\n",
       "      <td>54.829311</td>\n",
       "      <td>42.949455</td>\n",
       "      <td>190</td>\n",
       "      <td>996</td>\n",
       "      <td>1</td>\n",
       "      <td>1</td>\n",
       "    </tr>\n",
       "    <tr>\n",
       "      <th>12</th>\n",
       "      <td>7</td>\n",
       "      <td>-32.732498</td>\n",
       "      <td>38.151115</td>\n",
       "      <td>47.376457</td>\n",
       "      <td>190</td>\n",
       "      <td>1003</td>\n",
       "      <td>8</td>\n",
       "      <td>1</td>\n",
       "    </tr>\n",
       "    <tr>\n",
       "      <th>13</th>\n",
       "      <td>7</td>\n",
       "      <td>-22.500000</td>\n",
       "      <td>21.872196</td>\n",
       "      <td>53.663704</td>\n",
       "      <td>190</td>\n",
       "      <td>1004</td>\n",
       "      <td>3</td>\n",
       "      <td>1</td>\n",
       "    </tr>\n",
       "    <tr>\n",
       "      <th>14</th>\n",
       "      <td>7</td>\n",
       "      <td>-20.901428</td>\n",
       "      <td>40.050697</td>\n",
       "      <td>46.802559</td>\n",
       "      <td>191</td>\n",
       "      <td>1004</td>\n",
       "      <td>4</td>\n",
       "      <td>1</td>\n",
       "    </tr>\n",
       "    <tr>\n",
       "      <th>15</th>\n",
       "      <td>7</td>\n",
       "      <td>-18.684999</td>\n",
       "      <td>8.990064</td>\n",
       "      <td>63.092518</td>\n",
       "      <td>191</td>\n",
       "      <td>1005</td>\n",
       "      <td>5</td>\n",
       "      <td>1</td>\n",
       "    </tr>\n",
       "    <tr>\n",
       "      <th>16</th>\n",
       "      <td>7</td>\n",
       "      <td>-0.658333</td>\n",
       "      <td>41.774940</td>\n",
       "      <td>46.300514</td>\n",
       "      <td>192</td>\n",
       "      <td>989</td>\n",
       "      <td>1</td>\n",
       "      <td>1</td>\n",
       "    </tr>\n",
       "    <tr>\n",
       "      <th>17</th>\n",
       "      <td>7</td>\n",
       "      <td>-40.392502</td>\n",
       "      <td>229.608414</td>\n",
       "      <td>7.980424</td>\n",
       "      <td>192</td>\n",
       "      <td>1005</td>\n",
       "      <td>2</td>\n",
       "      <td>1</td>\n",
       "    </tr>\n",
       "    <tr>\n",
       "      <th>18</th>\n",
       "      <td>7</td>\n",
       "      <td>7.445714</td>\n",
       "      <td>31.224993</td>\n",
       "      <td>49.694221</td>\n",
       "      <td>193</td>\n",
       "      <td>989</td>\n",
       "      <td>1</td>\n",
       "      <td>1</td>\n",
       "    </tr>\n",
       "    <tr>\n",
       "      <th>19</th>\n",
       "      <td>7</td>\n",
       "      <td>7.534545</td>\n",
       "      <td>19.282665</td>\n",
       "      <td>55.034267</td>\n",
       "      <td>193</td>\n",
       "      <td>992</td>\n",
       "      <td>1</td>\n",
       "      <td>1</td>\n",
       "    </tr>\n",
       "    <tr>\n",
       "      <th>20</th>\n",
       "      <td>7</td>\n",
       "      <td>24.095556</td>\n",
       "      <td>70.129944</td>\n",
       "      <td>39.693035</td>\n",
       "      <td>193</td>\n",
       "      <td>994</td>\n",
       "      <td>1</td>\n",
       "      <td>1</td>\n",
       "    </tr>\n",
       "    <tr>\n",
       "      <th>21</th>\n",
       "      <td>7</td>\n",
       "      <td>-26.230000</td>\n",
       "      <td>233.330490</td>\n",
       "      <td>6.234506</td>\n",
       "      <td>193</td>\n",
       "      <td>1005</td>\n",
       "      <td>6</td>\n",
       "      <td>1</td>\n",
       "    </tr>\n",
       "    <tr>\n",
       "      <th>22</th>\n",
       "      <td>7</td>\n",
       "      <td>-9.207143</td>\n",
       "      <td>18.646090</td>\n",
       "      <td>55.396938</td>\n",
       "      <td>194</td>\n",
       "      <td>990</td>\n",
       "      <td>1</td>\n",
       "      <td>1</td>\n",
       "    </tr>\n",
       "    <tr>\n",
       "      <th>23</th>\n",
       "      <td>7</td>\n",
       "      <td>26.928333</td>\n",
       "      <td>41.738762</td>\n",
       "      <td>46.310875</td>\n",
       "      <td>194</td>\n",
       "      <td>993</td>\n",
       "      <td>1</td>\n",
       "      <td>1</td>\n",
       "    </tr>\n",
       "    <tr>\n",
       "      <th>24</th>\n",
       "      <td>7</td>\n",
       "      <td>0.000000</td>\n",
       "      <td>194.000732</td>\n",
       "      <td>18.430000</td>\n",
       "      <td>194</td>\n",
       "      <td>1005</td>\n",
       "      <td>7</td>\n",
       "      <td>1</td>\n",
       "    </tr>\n",
       "    <tr>\n",
       "      <th>25</th>\n",
       "      <td>7</td>\n",
       "      <td>-18.712000</td>\n",
       "      <td>44.142288</td>\n",
       "      <td>45.637653</td>\n",
       "      <td>195</td>\n",
       "      <td>991</td>\n",
       "      <td>1</td>\n",
       "      <td>1</td>\n",
       "    </tr>\n",
       "    <tr>\n",
       "      <th>26</th>\n",
       "      <td>7</td>\n",
       "      <td>26.230000</td>\n",
       "      <td>233.330490</td>\n",
       "      <td>6.234506</td>\n",
       "      <td>195</td>\n",
       "      <td>1005</td>\n",
       "      <td>10</td>\n",
       "      <td>1</td>\n",
       "    </tr>\n",
       "    <tr>\n",
       "      <th>27</th>\n",
       "      <td>7</td>\n",
       "      <td>-19.448000</td>\n",
       "      <td>34.785500</td>\n",
       "      <td>48.454014</td>\n",
       "      <td>196</td>\n",
       "      <td>992</td>\n",
       "      <td>1</td>\n",
       "      <td>1</td>\n",
       "    </tr>\n",
       "    <tr>\n",
       "      <th>28</th>\n",
       "      <td>7</td>\n",
       "      <td>-22.500000</td>\n",
       "      <td>52.956669</td>\n",
       "      <td>43.390083</td>\n",
       "      <td>196</td>\n",
       "      <td>993</td>\n",
       "      <td>1</td>\n",
       "      <td>1</td>\n",
       "    </tr>\n",
       "    <tr>\n",
       "      <th>29</th>\n",
       "      <td>7</td>\n",
       "      <td>40.392502</td>\n",
       "      <td>229.608414</td>\n",
       "      <td>7.980424</td>\n",
       "      <td>196</td>\n",
       "      <td>1005</td>\n",
       "      <td>11</td>\n",
       "      <td>1</td>\n",
       "    </tr>\n",
       "    <tr>\n",
       "      <th>...</th>\n",
       "      <td>...</td>\n",
       "      <td>...</td>\n",
       "      <td>...</td>\n",
       "      <td>...</td>\n",
       "      <td>...</td>\n",
       "      <td>...</td>\n",
       "      <td>...</td>\n",
       "      <td>...</td>\n",
       "    </tr>\n",
       "    <tr>\n",
       "      <th>2150</th>\n",
       "      <td>7</td>\n",
       "      <td>53.044285</td>\n",
       "      <td>29.101870</td>\n",
       "      <td>50.492817</td>\n",
       "      <td>760</td>\n",
       "      <td>866</td>\n",
       "      <td>1203</td>\n",
       "      <td>1</td>\n",
       "    </tr>\n",
       "    <tr>\n",
       "      <th>2151</th>\n",
       "      <td>7</td>\n",
       "      <td>61.652859</td>\n",
       "      <td>47.678165</td>\n",
       "      <td>44.697987</td>\n",
       "      <td>760</td>\n",
       "      <td>867</td>\n",
       "      <td>1204</td>\n",
       "      <td>1</td>\n",
       "    </tr>\n",
       "    <tr>\n",
       "      <th>2152</th>\n",
       "      <td>7</td>\n",
       "      <td>79.428337</td>\n",
       "      <td>222.068848</td>\n",
       "      <td>10.914317</td>\n",
       "      <td>760</td>\n",
       "      <td>868</td>\n",
       "      <td>1205</td>\n",
       "      <td>1</td>\n",
       "    </tr>\n",
       "    <tr>\n",
       "      <th>2153</th>\n",
       "      <td>7</td>\n",
       "      <td>68.534286</td>\n",
       "      <td>188.829575</td>\n",
       "      <td>19.513887</td>\n",
       "      <td>760</td>\n",
       "      <td>869</td>\n",
       "      <td>1206</td>\n",
       "      <td>1</td>\n",
       "    </tr>\n",
       "    <tr>\n",
       "      <th>2154</th>\n",
       "      <td>7</td>\n",
       "      <td>54.207142</td>\n",
       "      <td>189.913208</td>\n",
       "      <td>19.291544</td>\n",
       "      <td>761</td>\n",
       "      <td>778</td>\n",
       "      <td>1207</td>\n",
       "      <td>1</td>\n",
       "    </tr>\n",
       "    <tr>\n",
       "      <th>2155</th>\n",
       "      <td>7</td>\n",
       "      <td>61.381248</td>\n",
       "      <td>212.938950</td>\n",
       "      <td>13.781165</td>\n",
       "      <td>761</td>\n",
       "      <td>779</td>\n",
       "      <td>1195</td>\n",
       "      <td>1</td>\n",
       "    </tr>\n",
       "    <tr>\n",
       "      <th>2156</th>\n",
       "      <td>7</td>\n",
       "      <td>73.347145</td>\n",
       "      <td>203.773560</td>\n",
       "      <td>16.192463</td>\n",
       "      <td>761</td>\n",
       "      <td>865</td>\n",
       "      <td>1208</td>\n",
       "      <td>1</td>\n",
       "    </tr>\n",
       "    <tr>\n",
       "      <th>2157</th>\n",
       "      <td>7</td>\n",
       "      <td>21.313334</td>\n",
       "      <td>18.056919</td>\n",
       "      <td>55.742908</td>\n",
       "      <td>761</td>\n",
       "      <td>868</td>\n",
       "      <td>1209</td>\n",
       "      <td>1</td>\n",
       "    </tr>\n",
       "    <tr>\n",
       "      <th>2158</th>\n",
       "      <td>7</td>\n",
       "      <td>58.310001</td>\n",
       "      <td>208.170868</td>\n",
       "      <td>15.081461</td>\n",
       "      <td>762</td>\n",
       "      <td>777</td>\n",
       "      <td>1210</td>\n",
       "      <td>1</td>\n",
       "    </tr>\n",
       "    <tr>\n",
       "      <th>2159</th>\n",
       "      <td>7</td>\n",
       "      <td>61.088570</td>\n",
       "      <td>209.576492</td>\n",
       "      <td>14.709410</td>\n",
       "      <td>762</td>\n",
       "      <td>778</td>\n",
       "      <td>1211</td>\n",
       "      <td>1</td>\n",
       "    </tr>\n",
       "    <tr>\n",
       "      <th>2160</th>\n",
       "      <td>7</td>\n",
       "      <td>21.086250</td>\n",
       "      <td>34.638577</td>\n",
       "      <td>48.503010</td>\n",
       "      <td>762</td>\n",
       "      <td>792</td>\n",
       "      <td>1212</td>\n",
       "      <td>1</td>\n",
       "    </tr>\n",
       "    <tr>\n",
       "      <th>2161</th>\n",
       "      <td>7</td>\n",
       "      <td>56.262001</td>\n",
       "      <td>198.526703</td>\n",
       "      <td>17.428442</td>\n",
       "      <td>762</td>\n",
       "      <td>794</td>\n",
       "      <td>1213</td>\n",
       "      <td>1</td>\n",
       "    </tr>\n",
       "    <tr>\n",
       "      <th>2162</th>\n",
       "      <td>7</td>\n",
       "      <td>69.385002</td>\n",
       "      <td>202.034058</td>\n",
       "      <td>16.612127</td>\n",
       "      <td>763</td>\n",
       "      <td>775</td>\n",
       "      <td>1214</td>\n",
       "      <td>1</td>\n",
       "    </tr>\n",
       "    <tr>\n",
       "      <th>2163</th>\n",
       "      <td>7</td>\n",
       "      <td>62.271252</td>\n",
       "      <td>197.882355</td>\n",
       "      <td>17.574404</td>\n",
       "      <td>763</td>\n",
       "      <td>776</td>\n",
       "      <td>1215</td>\n",
       "      <td>1</td>\n",
       "    </tr>\n",
       "    <tr>\n",
       "      <th>2164</th>\n",
       "      <td>7</td>\n",
       "      <td>61.652859</td>\n",
       "      <td>174.067444</td>\n",
       "      <td>22.341732</td>\n",
       "      <td>763</td>\n",
       "      <td>777</td>\n",
       "      <td>1216</td>\n",
       "      <td>1</td>\n",
       "    </tr>\n",
       "    <tr>\n",
       "      <th>2165</th>\n",
       "      <td>7</td>\n",
       "      <td>40.788750</td>\n",
       "      <td>86.168533</td>\n",
       "      <td>36.725960</td>\n",
       "      <td>763</td>\n",
       "      <td>793</td>\n",
       "      <td>1217</td>\n",
       "      <td>1</td>\n",
       "    </tr>\n",
       "    <tr>\n",
       "      <th>2166</th>\n",
       "      <td>7</td>\n",
       "      <td>43.576000</td>\n",
       "      <td>19.937279</td>\n",
       "      <td>54.672611</td>\n",
       "      <td>763</td>\n",
       "      <td>794</td>\n",
       "      <td>1218</td>\n",
       "      <td>1</td>\n",
       "    </tr>\n",
       "    <tr>\n",
       "      <th>2167</th>\n",
       "      <td>7</td>\n",
       "      <td>57.456665</td>\n",
       "      <td>204.018066</td>\n",
       "      <td>16.132626</td>\n",
       "      <td>764</td>\n",
       "      <td>775</td>\n",
       "      <td>1207</td>\n",
       "      <td>1</td>\n",
       "    </tr>\n",
       "    <tr>\n",
       "      <th>2168</th>\n",
       "      <td>7</td>\n",
       "      <td>56.262001</td>\n",
       "      <td>202.314011</td>\n",
       "      <td>16.545288</td>\n",
       "      <td>764</td>\n",
       "      <td>791</td>\n",
       "      <td>1219</td>\n",
       "      <td>1</td>\n",
       "    </tr>\n",
       "    <tr>\n",
       "      <th>2169</th>\n",
       "      <td>7</td>\n",
       "      <td>57.047779</td>\n",
       "      <td>203.773239</td>\n",
       "      <td>16.192545</td>\n",
       "      <td>764</td>\n",
       "      <td>792</td>\n",
       "      <td>1220</td>\n",
       "      <td>1</td>\n",
       "    </tr>\n",
       "    <tr>\n",
       "      <th>2170</th>\n",
       "      <td>7</td>\n",
       "      <td>65.592499</td>\n",
       "      <td>202.616714</td>\n",
       "      <td>16.472713</td>\n",
       "      <td>765</td>\n",
       "      <td>789</td>\n",
       "      <td>1212</td>\n",
       "      <td>1</td>\n",
       "    </tr>\n",
       "    <tr>\n",
       "      <th>2171</th>\n",
       "      <td>7</td>\n",
       "      <td>62.047779</td>\n",
       "      <td>193.741913</td>\n",
       "      <td>18.485689</td>\n",
       "      <td>765</td>\n",
       "      <td>790</td>\n",
       "      <td>1212</td>\n",
       "      <td>1</td>\n",
       "    </tr>\n",
       "    <tr>\n",
       "      <th>2172</th>\n",
       "      <td>7</td>\n",
       "      <td>58.304443</td>\n",
       "      <td>176.213013</td>\n",
       "      <td>21.950542</td>\n",
       "      <td>765</td>\n",
       "      <td>791</td>\n",
       "      <td>1212</td>\n",
       "      <td>1</td>\n",
       "    </tr>\n",
       "    <tr>\n",
       "      <th>2173</th>\n",
       "      <td>7</td>\n",
       "      <td>65.901428</td>\n",
       "      <td>197.820389</td>\n",
       "      <td>17.588381</td>\n",
       "      <td>766</td>\n",
       "      <td>787</td>\n",
       "      <td>1212</td>\n",
       "      <td>1</td>\n",
       "    </tr>\n",
       "    <tr>\n",
       "      <th>2174</th>\n",
       "      <td>7</td>\n",
       "      <td>67.006248</td>\n",
       "      <td>208.213287</td>\n",
       "      <td>15.070362</td>\n",
       "      <td>766</td>\n",
       "      <td>788</td>\n",
       "      <td>1212</td>\n",
       "      <td>1</td>\n",
       "    </tr>\n",
       "    <tr>\n",
       "      <th>2175</th>\n",
       "      <td>7</td>\n",
       "      <td>65.901428</td>\n",
       "      <td>197.820389</td>\n",
       "      <td>17.588381</td>\n",
       "      <td>766</td>\n",
       "      <td>789</td>\n",
       "      <td>1212</td>\n",
       "      <td>1</td>\n",
       "    </tr>\n",
       "    <tr>\n",
       "      <th>2176</th>\n",
       "      <td>7</td>\n",
       "      <td>59.472858</td>\n",
       "      <td>223.595337</td>\n",
       "      <td>10.371186</td>\n",
       "      <td>767</td>\n",
       "      <td>786</td>\n",
       "      <td>1212</td>\n",
       "      <td>1</td>\n",
       "    </tr>\n",
       "    <tr>\n",
       "      <th>2177</th>\n",
       "      <td>7</td>\n",
       "      <td>72.330002</td>\n",
       "      <td>200.441238</td>\n",
       "      <td>16.987574</td>\n",
       "      <td>778</td>\n",
       "      <td>800</td>\n",
       "      <td>1221</td>\n",
       "      <td>1</td>\n",
       "    </tr>\n",
       "    <tr>\n",
       "      <th>2178</th>\n",
       "      <td>7</td>\n",
       "      <td>77.142860</td>\n",
       "      <td>220.196884</td>\n",
       "      <td>11.551850</td>\n",
       "      <td>778</td>\n",
       "      <td>801</td>\n",
       "      <td>1222</td>\n",
       "      <td>1</td>\n",
       "    </tr>\n",
       "    <tr>\n",
       "      <th>2179</th>\n",
       "      <td>7</td>\n",
       "      <td>74.510002</td>\n",
       "      <td>205.664322</td>\n",
       "      <td>15.724022</td>\n",
       "      <td>778</td>\n",
       "      <td>802</td>\n",
       "      <td>1223</td>\n",
       "      <td>1</td>\n",
       "    </tr>\n",
       "  </tbody>\n",
       "</table>\n",
       "<p>2180 rows × 8 columns</p>\n",
       "</div>"
      ],
      "text/plain": [
       "      longueur      angle      weight  precision  xPos  yPos  group  layer\n",
       "0            7  11.743750   23.299953  52.969921   187   998      1      1\n",
       "1            7  42.820000   24.022297  52.633389   188   994      1      1\n",
       "2            7  61.884998   61.446175  41.473942   188   995      1      1\n",
       "3            7  75.000000  166.198013  23.732290   188   996      1      1\n",
       "4            7  70.821251  156.773056  25.324814   188   997      1      1\n",
       "5            7  20.901428    4.037204  71.297523   188   999      1      1\n",
       "6            7 -38.007141   23.636238  52.812103   189  1001      1      1\n",
       "7            7 -37.467499   32.898060  49.097229   189  1002      1      1\n",
       "8            7  42.696251   36.254013  47.973610   190   991      1      1\n",
       "9            7  58.770000   80.298119  37.773346   190   992      1      1\n",
       "10           7  41.678749   92.800262  35.583790   190   995      1      1\n",
       "11           7  24.098572   54.829311  42.949455   190   996      1      1\n",
       "12           7 -32.732498   38.151115  47.376457   190  1003      8      1\n",
       "13           7 -22.500000   21.872196  53.663704   190  1004      3      1\n",
       "14           7 -20.901428   40.050697  46.802559   191  1004      4      1\n",
       "15           7 -18.684999    8.990064  63.092518   191  1005      5      1\n",
       "16           7  -0.658333   41.774940  46.300514   192   989      1      1\n",
       "17           7 -40.392502  229.608414   7.980424   192  1005      2      1\n",
       "18           7   7.445714   31.224993  49.694221   193   989      1      1\n",
       "19           7   7.534545   19.282665  55.034267   193   992      1      1\n",
       "20           7  24.095556   70.129944  39.693035   193   994      1      1\n",
       "21           7 -26.230000  233.330490   6.234506   193  1005      6      1\n",
       "22           7  -9.207143   18.646090  55.396938   194   990      1      1\n",
       "23           7  26.928333   41.738762  46.310875   194   993      1      1\n",
       "24           7   0.000000  194.000732  18.430000   194  1005      7      1\n",
       "25           7 -18.712000   44.142288  45.637653   195   991      1      1\n",
       "26           7  26.230000  233.330490   6.234506   195  1005     10      1\n",
       "27           7 -19.448000   34.785500  48.454014   196   992      1      1\n",
       "28           7 -22.500000   52.956669  43.390083   196   993      1      1\n",
       "29           7  40.392502  229.608414   7.980424   196  1005     11      1\n",
       "...        ...        ...         ...        ...   ...   ...    ...    ...\n",
       "2150         7  53.044285   29.101870  50.492817   760   866   1203      1\n",
       "2151         7  61.652859   47.678165  44.697987   760   867   1204      1\n",
       "2152         7  79.428337  222.068848  10.914317   760   868   1205      1\n",
       "2153         7  68.534286  188.829575  19.513887   760   869   1206      1\n",
       "2154         7  54.207142  189.913208  19.291544   761   778   1207      1\n",
       "2155         7  61.381248  212.938950  13.781165   761   779   1195      1\n",
       "2156         7  73.347145  203.773560  16.192463   761   865   1208      1\n",
       "2157         7  21.313334   18.056919  55.742908   761   868   1209      1\n",
       "2158         7  58.310001  208.170868  15.081461   762   777   1210      1\n",
       "2159         7  61.088570  209.576492  14.709410   762   778   1211      1\n",
       "2160         7  21.086250   34.638577  48.503010   762   792   1212      1\n",
       "2161         7  56.262001  198.526703  17.428442   762   794   1213      1\n",
       "2162         7  69.385002  202.034058  16.612127   763   775   1214      1\n",
       "2163         7  62.271252  197.882355  17.574404   763   776   1215      1\n",
       "2164         7  61.652859  174.067444  22.341732   763   777   1216      1\n",
       "2165         7  40.788750   86.168533  36.725960   763   793   1217      1\n",
       "2166         7  43.576000   19.937279  54.672611   763   794   1218      1\n",
       "2167         7  57.456665  204.018066  16.132626   764   775   1207      1\n",
       "2168         7  56.262001  202.314011  16.545288   764   791   1219      1\n",
       "2169         7  57.047779  203.773239  16.192545   764   792   1220      1\n",
       "2170         7  65.592499  202.616714  16.472713   765   789   1212      1\n",
       "2171         7  62.047779  193.741913  18.485689   765   790   1212      1\n",
       "2172         7  58.304443  176.213013  21.950542   765   791   1212      1\n",
       "2173         7  65.901428  197.820389  17.588381   766   787   1212      1\n",
       "2174         7  67.006248  208.213287  15.070362   766   788   1212      1\n",
       "2175         7  65.901428  197.820389  17.588381   766   789   1212      1\n",
       "2176         7  59.472858  223.595337  10.371186   767   786   1212      1\n",
       "2177         7  72.330002  200.441238  16.987574   778   800   1221      1\n",
       "2178         7  77.142860  220.196884  11.551850   778   801   1222      1\n",
       "2179         7  74.510002  205.664322  15.724022   778   802   1223      1\n",
       "\n",
       "[2180 rows x 8 columns]"
      ]
     },
     "execution_count": 318,
     "metadata": {},
     "output_type": "execute_result"
    }
   ],
   "source": [
    "findGroups(titi)"
   ]
  },
  {
   "cell_type": "code",
   "execution_count": 320,
   "metadata": {
    "ExecuteTime": {
     "end_time": "2019-07-16T19:29:35.999684Z",
     "start_time": "2019-07-16T19:29:35.633151Z"
    }
   },
   "outputs": [
    {
     "data": {
      "text/html": [
       "<div>\n",
       "<style scoped>\n",
       "    .dataframe tbody tr th:only-of-type {\n",
       "        vertical-align: middle;\n",
       "    }\n",
       "\n",
       "    .dataframe tbody tr th {\n",
       "        vertical-align: top;\n",
       "    }\n",
       "\n",
       "    .dataframe thead tr th {\n",
       "        text-align: left;\n",
       "    }\n",
       "\n",
       "    .dataframe thead tr:last-of-type th {\n",
       "        text-align: right;\n",
       "    }\n",
       "</style>\n",
       "<table border=\"1\" class=\"dataframe\">\n",
       "  <thead>\n",
       "    <tr>\n",
       "      <th></th>\n",
       "      <th colspan=\"2\" halign=\"left\">longueur</th>\n",
       "      <th colspan=\"2\" halign=\"left\">angle</th>\n",
       "      <th colspan=\"2\" halign=\"left\">weight</th>\n",
       "      <th colspan=\"2\" halign=\"left\">precision</th>\n",
       "      <th colspan=\"2\" halign=\"left\">xPos</th>\n",
       "      <th colspan=\"2\" halign=\"left\">yPos</th>\n",
       "      <th colspan=\"2\" halign=\"left\">layer</th>\n",
       "    </tr>\n",
       "    <tr>\n",
       "      <th></th>\n",
       "      <th>mean</th>\n",
       "      <th>count</th>\n",
       "      <th>mean</th>\n",
       "      <th>count</th>\n",
       "      <th>mean</th>\n",
       "      <th>count</th>\n",
       "      <th>mean</th>\n",
       "      <th>count</th>\n",
       "      <th>mean</th>\n",
       "      <th>count</th>\n",
       "      <th>mean</th>\n",
       "      <th>count</th>\n",
       "      <th>mean</th>\n",
       "      <th>count</th>\n",
       "    </tr>\n",
       "    <tr>\n",
       "      <th>group</th>\n",
       "      <th></th>\n",
       "      <th></th>\n",
       "      <th></th>\n",
       "      <th></th>\n",
       "      <th></th>\n",
       "      <th></th>\n",
       "      <th></th>\n",
       "      <th></th>\n",
       "      <th></th>\n",
       "      <th></th>\n",
       "      <th></th>\n",
       "      <th></th>\n",
       "      <th></th>\n",
       "      <th></th>\n",
       "    </tr>\n",
       "  </thead>\n",
       "  <tbody>\n",
       "    <tr>\n",
       "      <th>1</th>\n",
       "      <td>7</td>\n",
       "      <td>21</td>\n",
       "      <td>17.639002</td>\n",
       "      <td>21</td>\n",
       "      <td>52.913074</td>\n",
       "      <td>21</td>\n",
       "      <td>45.882523</td>\n",
       "      <td>21</td>\n",
       "      <td>191.00</td>\n",
       "      <td>21</td>\n",
       "      <td>994.238095</td>\n",
       "      <td>21</td>\n",
       "      <td>1</td>\n",
       "      <td>21</td>\n",
       "    </tr>\n",
       "    <tr>\n",
       "      <th>2</th>\n",
       "      <td>7</td>\n",
       "      <td>1</td>\n",
       "      <td>-40.392502</td>\n",
       "      <td>1</td>\n",
       "      <td>229.608414</td>\n",
       "      <td>1</td>\n",
       "      <td>7.980424</td>\n",
       "      <td>1</td>\n",
       "      <td>192.00</td>\n",
       "      <td>1</td>\n",
       "      <td>1005.000000</td>\n",
       "      <td>1</td>\n",
       "      <td>1</td>\n",
       "      <td>1</td>\n",
       "    </tr>\n",
       "    <tr>\n",
       "      <th>3</th>\n",
       "      <td>7</td>\n",
       "      <td>1</td>\n",
       "      <td>-22.500000</td>\n",
       "      <td>1</td>\n",
       "      <td>21.872196</td>\n",
       "      <td>1</td>\n",
       "      <td>53.663704</td>\n",
       "      <td>1</td>\n",
       "      <td>190.00</td>\n",
       "      <td>1</td>\n",
       "      <td>1004.000000</td>\n",
       "      <td>1</td>\n",
       "      <td>1</td>\n",
       "      <td>1</td>\n",
       "    </tr>\n",
       "    <tr>\n",
       "      <th>4</th>\n",
       "      <td>7</td>\n",
       "      <td>1</td>\n",
       "      <td>-20.901428</td>\n",
       "      <td>1</td>\n",
       "      <td>40.050697</td>\n",
       "      <td>1</td>\n",
       "      <td>46.802559</td>\n",
       "      <td>1</td>\n",
       "      <td>191.00</td>\n",
       "      <td>1</td>\n",
       "      <td>1004.000000</td>\n",
       "      <td>1</td>\n",
       "      <td>1</td>\n",
       "      <td>1</td>\n",
       "    </tr>\n",
       "    <tr>\n",
       "      <th>5</th>\n",
       "      <td>7</td>\n",
       "      <td>1</td>\n",
       "      <td>-18.684999</td>\n",
       "      <td>1</td>\n",
       "      <td>8.990064</td>\n",
       "      <td>1</td>\n",
       "      <td>63.092518</td>\n",
       "      <td>1</td>\n",
       "      <td>191.00</td>\n",
       "      <td>1</td>\n",
       "      <td>1005.000000</td>\n",
       "      <td>1</td>\n",
       "      <td>1</td>\n",
       "      <td>1</td>\n",
       "    </tr>\n",
       "    <tr>\n",
       "      <th>6</th>\n",
       "      <td>7</td>\n",
       "      <td>1</td>\n",
       "      <td>-26.230000</td>\n",
       "      <td>1</td>\n",
       "      <td>233.330490</td>\n",
       "      <td>1</td>\n",
       "      <td>6.234506</td>\n",
       "      <td>1</td>\n",
       "      <td>193.00</td>\n",
       "      <td>1</td>\n",
       "      <td>1005.000000</td>\n",
       "      <td>1</td>\n",
       "      <td>1</td>\n",
       "      <td>1</td>\n",
       "    </tr>\n",
       "    <tr>\n",
       "      <th>7</th>\n",
       "      <td>7</td>\n",
       "      <td>1</td>\n",
       "      <td>0.000000</td>\n",
       "      <td>1</td>\n",
       "      <td>194.000732</td>\n",
       "      <td>1</td>\n",
       "      <td>18.430000</td>\n",
       "      <td>1</td>\n",
       "      <td>194.00</td>\n",
       "      <td>1</td>\n",
       "      <td>1005.000000</td>\n",
       "      <td>1</td>\n",
       "      <td>1</td>\n",
       "      <td>1</td>\n",
       "    </tr>\n",
       "    <tr>\n",
       "      <th>8</th>\n",
       "      <td>7</td>\n",
       "      <td>1</td>\n",
       "      <td>-32.732498</td>\n",
       "      <td>1</td>\n",
       "      <td>38.151115</td>\n",
       "      <td>1</td>\n",
       "      <td>47.376457</td>\n",
       "      <td>1</td>\n",
       "      <td>190.00</td>\n",
       "      <td>1</td>\n",
       "      <td>1003.000000</td>\n",
       "      <td>1</td>\n",
       "      <td>1</td>\n",
       "      <td>1</td>\n",
       "    </tr>\n",
       "    <tr>\n",
       "      <th>9</th>\n",
       "      <td>7</td>\n",
       "      <td>1</td>\n",
       "      <td>46.615715</td>\n",
       "      <td>1</td>\n",
       "      <td>179.631119</td>\n",
       "      <td>1</td>\n",
       "      <td>21.314892</td>\n",
       "      <td>1</td>\n",
       "      <td>197.00</td>\n",
       "      <td>1</td>\n",
       "      <td>1004.000000</td>\n",
       "      <td>1</td>\n",
       "      <td>1</td>\n",
       "      <td>1</td>\n",
       "    </tr>\n",
       "    <tr>\n",
       "      <th>10</th>\n",
       "      <td>7</td>\n",
       "      <td>6</td>\n",
       "      <td>22.889465</td>\n",
       "      <td>6</td>\n",
       "      <td>111.028107</td>\n",
       "      <td>6</td>\n",
       "      <td>40.016800</td>\n",
       "      <td>6</td>\n",
       "      <td>198.50</td>\n",
       "      <td>6</td>\n",
       "      <td>999.833333</td>\n",
       "      <td>6</td>\n",
       "      <td>1</td>\n",
       "      <td>6</td>\n",
       "    </tr>\n",
       "    <tr>\n",
       "      <th>11</th>\n",
       "      <td>7</td>\n",
       "      <td>1</td>\n",
       "      <td>40.392502</td>\n",
       "      <td>1</td>\n",
       "      <td>229.608414</td>\n",
       "      <td>1</td>\n",
       "      <td>7.980424</td>\n",
       "      <td>1</td>\n",
       "      <td>196.00</td>\n",
       "      <td>1</td>\n",
       "      <td>1005.000000</td>\n",
       "      <td>1</td>\n",
       "      <td>1</td>\n",
       "      <td>1</td>\n",
       "    </tr>\n",
       "    <tr>\n",
       "      <th>12</th>\n",
       "      <td>7</td>\n",
       "      <td>1</td>\n",
       "      <td>-44.506248</td>\n",
       "      <td>1</td>\n",
       "      <td>211.033081</td>\n",
       "      <td>1</td>\n",
       "      <td>14.314226</td>\n",
       "      <td>1</td>\n",
       "      <td>197.00</td>\n",
       "      <td>1</td>\n",
       "      <td>994.000000</td>\n",
       "      <td>1</td>\n",
       "      <td>1</td>\n",
       "      <td>1</td>\n",
       "    </tr>\n",
       "    <tr>\n",
       "      <th>13</th>\n",
       "      <td>7</td>\n",
       "      <td>1</td>\n",
       "      <td>63.685001</td>\n",
       "      <td>1</td>\n",
       "      <td>202.279968</td>\n",
       "      <td>1</td>\n",
       "      <td>16.553429</td>\n",
       "      <td>1</td>\n",
       "      <td>197.00</td>\n",
       "      <td>1</td>\n",
       "      <td>1005.000000</td>\n",
       "      <td>1</td>\n",
       "      <td>1</td>\n",
       "      <td>1</td>\n",
       "    </tr>\n",
       "    <tr>\n",
       "      <th>14</th>\n",
       "      <td>7</td>\n",
       "      <td>1</td>\n",
       "      <td>-29.510000</td>\n",
       "      <td>1</td>\n",
       "      <td>28.797129</td>\n",
       "      <td>1</td>\n",
       "      <td>50.611565</td>\n",
       "      <td>1</td>\n",
       "      <td>198.00</td>\n",
       "      <td>1</td>\n",
       "      <td>994.000000</td>\n",
       "      <td>1</td>\n",
       "      <td>1</td>\n",
       "      <td>1</td>\n",
       "    </tr>\n",
       "    <tr>\n",
       "      <th>15</th>\n",
       "      <td>7</td>\n",
       "      <td>1</td>\n",
       "      <td>-31.578571</td>\n",
       "      <td>1</td>\n",
       "      <td>30.169895</td>\n",
       "      <td>1</td>\n",
       "      <td>50.085003</td>\n",
       "      <td>1</td>\n",
       "      <td>198.00</td>\n",
       "      <td>1</td>\n",
       "      <td>995.000000</td>\n",
       "      <td>1</td>\n",
       "      <td>1</td>\n",
       "      <td>1</td>\n",
       "    </tr>\n",
       "    <tr>\n",
       "      <th>16</th>\n",
       "      <td>7</td>\n",
       "      <td>1</td>\n",
       "      <td>57.139999</td>\n",
       "      <td>1</td>\n",
       "      <td>199.643723</td>\n",
       "      <td>1</td>\n",
       "      <td>17.172558</td>\n",
       "      <td>1</td>\n",
       "      <td>198.00</td>\n",
       "      <td>1</td>\n",
       "      <td>1003.000000</td>\n",
       "      <td>1</td>\n",
       "      <td>1</td>\n",
       "      <td>1</td>\n",
       "    </tr>\n",
       "    <tr>\n",
       "      <th>17</th>\n",
       "      <td>7</td>\n",
       "      <td>1</td>\n",
       "      <td>52.500000</td>\n",
       "      <td>1</td>\n",
       "      <td>158.153076</td>\n",
       "      <td>1</td>\n",
       "      <td>25.095682</td>\n",
       "      <td>1</td>\n",
       "      <td>198.00</td>\n",
       "      <td>1</td>\n",
       "      <td>1004.000000</td>\n",
       "      <td>1</td>\n",
       "      <td>1</td>\n",
       "      <td>1</td>\n",
       "    </tr>\n",
       "    <tr>\n",
       "      <th>18</th>\n",
       "      <td>7</td>\n",
       "      <td>1</td>\n",
       "      <td>-5.975714</td>\n",
       "      <td>1</td>\n",
       "      <td>9.926353</td>\n",
       "      <td>1</td>\n",
       "      <td>62.063656</td>\n",
       "      <td>1</td>\n",
       "      <td>199.00</td>\n",
       "      <td>1</td>\n",
       "      <td>995.000000</td>\n",
       "      <td>1</td>\n",
       "      <td>1</td>\n",
       "      <td>1</td>\n",
       "    </tr>\n",
       "    <tr>\n",
       "      <th>19</th>\n",
       "      <td>7</td>\n",
       "      <td>1</td>\n",
       "      <td>-19.285715</td>\n",
       "      <td>1</td>\n",
       "      <td>42.362766</td>\n",
       "      <td>1</td>\n",
       "      <td>46.133179</td>\n",
       "      <td>1</td>\n",
       "      <td>212.00</td>\n",
       "      <td>1</td>\n",
       "      <td>741.000000</td>\n",
       "      <td>1</td>\n",
       "      <td>1</td>\n",
       "      <td>1</td>\n",
       "    </tr>\n",
       "    <tr>\n",
       "      <th>20</th>\n",
       "      <td>7</td>\n",
       "      <td>3</td>\n",
       "      <td>4.021309</td>\n",
       "      <td>3</td>\n",
       "      <td>3.724773</td>\n",
       "      <td>3</td>\n",
       "      <td>72.233383</td>\n",
       "      <td>3</td>\n",
       "      <td>212.00</td>\n",
       "      <td>3</td>\n",
       "      <td>1094.000000</td>\n",
       "      <td>3</td>\n",
       "      <td>1</td>\n",
       "      <td>3</td>\n",
       "    </tr>\n",
       "    <tr>\n",
       "      <th>21</th>\n",
       "      <td>7</td>\n",
       "      <td>1</td>\n",
       "      <td>-4.812857</td>\n",
       "      <td>1</td>\n",
       "      <td>23.965324</td>\n",
       "      <td>1</td>\n",
       "      <td>52.659599</td>\n",
       "      <td>1</td>\n",
       "      <td>214.00</td>\n",
       "      <td>1</td>\n",
       "      <td>716.000000</td>\n",
       "      <td>1</td>\n",
       "      <td>1</td>\n",
       "      <td>1</td>\n",
       "    </tr>\n",
       "    <tr>\n",
       "      <th>22</th>\n",
       "      <td>7</td>\n",
       "      <td>1</td>\n",
       "      <td>0.658333</td>\n",
       "      <td>1</td>\n",
       "      <td>14.051043</td>\n",
       "      <td>1</td>\n",
       "      <td>58.418884</td>\n",
       "      <td>1</td>\n",
       "      <td>215.00</td>\n",
       "      <td>1</td>\n",
       "      <td>1100.000000</td>\n",
       "      <td>1</td>\n",
       "      <td>1</td>\n",
       "      <td>1</td>\n",
       "    </tr>\n",
       "    <tr>\n",
       "      <th>23</th>\n",
       "      <td>7</td>\n",
       "      <td>1</td>\n",
       "      <td>10.224286</td>\n",
       "      <td>1</td>\n",
       "      <td>4.888278</td>\n",
       "      <td>1</td>\n",
       "      <td>69.350677</td>\n",
       "      <td>1</td>\n",
       "      <td>212.00</td>\n",
       "      <td>1</td>\n",
       "      <td>1096.000000</td>\n",
       "      <td>1</td>\n",
       "      <td>1</td>\n",
       "      <td>1</td>\n",
       "    </tr>\n",
       "    <tr>\n",
       "      <th>24</th>\n",
       "      <td>7</td>\n",
       "      <td>1</td>\n",
       "      <td>6.313334</td>\n",
       "      <td>1</td>\n",
       "      <td>28.801847</td>\n",
       "      <td>1</td>\n",
       "      <td>50.609718</td>\n",
       "      <td>1</td>\n",
       "      <td>213.00</td>\n",
       "      <td>1</td>\n",
       "      <td>718.000000</td>\n",
       "      <td>1</td>\n",
       "      <td>1</td>\n",
       "      <td>1</td>\n",
       "    </tr>\n",
       "    <tr>\n",
       "      <th>25</th>\n",
       "      <td>7</td>\n",
       "      <td>1</td>\n",
       "      <td>-17.105715</td>\n",
       "      <td>1</td>\n",
       "      <td>5.495279</td>\n",
       "      <td>1</td>\n",
       "      <td>68.155884</td>\n",
       "      <td>1</td>\n",
       "      <td>213.00</td>\n",
       "      <td>1</td>\n",
       "      <td>1096.000000</td>\n",
       "      <td>1</td>\n",
       "      <td>1</td>\n",
       "      <td>1</td>\n",
       "    </tr>\n",
       "    <tr>\n",
       "      <th>26</th>\n",
       "      <td>7</td>\n",
       "      <td>1</td>\n",
       "      <td>-18.288750</td>\n",
       "      <td>1</td>\n",
       "      <td>8.929901</td>\n",
       "      <td>1</td>\n",
       "      <td>63.162113</td>\n",
       "      <td>1</td>\n",
       "      <td>213.00</td>\n",
       "      <td>1</td>\n",
       "      <td>1097.000000</td>\n",
       "      <td>1</td>\n",
       "      <td>1</td>\n",
       "      <td>1</td>\n",
       "    </tr>\n",
       "    <tr>\n",
       "      <th>27</th>\n",
       "      <td>7</td>\n",
       "      <td>1</td>\n",
       "      <td>-4.428333</td>\n",
       "      <td>1</td>\n",
       "      <td>5.438037</td>\n",
       "      <td>1</td>\n",
       "      <td>68.262894</td>\n",
       "      <td>1</td>\n",
       "      <td>213.00</td>\n",
       "      <td>1</td>\n",
       "      <td>1098.000000</td>\n",
       "      <td>1</td>\n",
       "      <td>1</td>\n",
       "      <td>1</td>\n",
       "    </tr>\n",
       "    <tr>\n",
       "      <th>28</th>\n",
       "      <td>7</td>\n",
       "      <td>1</td>\n",
       "      <td>-30.052000</td>\n",
       "      <td>1</td>\n",
       "      <td>227.428650</td>\n",
       "      <td>1</td>\n",
       "      <td>8.899407</td>\n",
       "      <td>1</td>\n",
       "      <td>214.00</td>\n",
       "      <td>1</td>\n",
       "      <td>742.000000</td>\n",
       "      <td>1</td>\n",
       "      <td>1</td>\n",
       "      <td>1</td>\n",
       "    </tr>\n",
       "    <tr>\n",
       "      <th>29</th>\n",
       "      <td>7</td>\n",
       "      <td>1</td>\n",
       "      <td>-50.265713</td>\n",
       "      <td>1</td>\n",
       "      <td>223.820511</td>\n",
       "      <td>1</td>\n",
       "      <td>10.289161</td>\n",
       "      <td>1</td>\n",
       "      <td>214.00</td>\n",
       "      <td>1</td>\n",
       "      <td>1098.000000</td>\n",
       "      <td>1</td>\n",
       "      <td>1</td>\n",
       "      <td>1</td>\n",
       "    </tr>\n",
       "    <tr>\n",
       "      <th>30</th>\n",
       "      <td>7</td>\n",
       "      <td>1</td>\n",
       "      <td>32.543335</td>\n",
       "      <td>1</td>\n",
       "      <td>225.001129</td>\n",
       "      <td>1</td>\n",
       "      <td>9.850546</td>\n",
       "      <td>1</td>\n",
       "      <td>215.00</td>\n",
       "      <td>1</td>\n",
       "      <td>690.000000</td>\n",
       "      <td>1</td>\n",
       "      <td>1</td>\n",
       "      <td>1</td>\n",
       "    </tr>\n",
       "    <tr>\n",
       "      <th>...</th>\n",
       "      <td>...</td>\n",
       "      <td>...</td>\n",
       "      <td>...</td>\n",
       "      <td>...</td>\n",
       "      <td>...</td>\n",
       "      <td>...</td>\n",
       "      <td>...</td>\n",
       "      <td>...</td>\n",
       "      <td>...</td>\n",
       "      <td>...</td>\n",
       "      <td>...</td>\n",
       "      <td>...</td>\n",
       "      <td>...</td>\n",
       "      <td>...</td>\n",
       "    </tr>\n",
       "    <tr>\n",
       "      <th>1194</th>\n",
       "      <td>7</td>\n",
       "      <td>1</td>\n",
       "      <td>40.788750</td>\n",
       "      <td>1</td>\n",
       "      <td>24.548407</td>\n",
       "      <td>1</td>\n",
       "      <td>52.393940</td>\n",
       "      <td>1</td>\n",
       "      <td>751.00</td>\n",
       "      <td>1</td>\n",
       "      <td>893.000000</td>\n",
       "      <td>1</td>\n",
       "      <td>1</td>\n",
       "      <td>1</td>\n",
       "    </tr>\n",
       "    <tr>\n",
       "      <th>1195</th>\n",
       "      <td>7</td>\n",
       "      <td>8</td>\n",
       "      <td>51.905468</td>\n",
       "      <td>8</td>\n",
       "      <td>208.988052</td>\n",
       "      <td>8</td>\n",
       "      <td>14.226195</td>\n",
       "      <td>8</td>\n",
       "      <td>757.50</td>\n",
       "      <td>8</td>\n",
       "      <td>784.125000</td>\n",
       "      <td>8</td>\n",
       "      <td>1</td>\n",
       "      <td>8</td>\n",
       "    </tr>\n",
       "    <tr>\n",
       "      <th>1196</th>\n",
       "      <td>7</td>\n",
       "      <td>1</td>\n",
       "      <td>34.243752</td>\n",
       "      <td>1</td>\n",
       "      <td>226.026016</td>\n",
       "      <td>1</td>\n",
       "      <td>9.457481</td>\n",
       "      <td>1</td>\n",
       "      <td>753.00</td>\n",
       "      <td>1</td>\n",
       "      <td>788.000000</td>\n",
       "      <td>1</td>\n",
       "      <td>1</td>\n",
       "      <td>1</td>\n",
       "    </tr>\n",
       "    <tr>\n",
       "      <th>1197</th>\n",
       "      <td>7</td>\n",
       "      <td>1</td>\n",
       "      <td>42.172501</td>\n",
       "      <td>1</td>\n",
       "      <td>185.441025</td>\n",
       "      <td>1</td>\n",
       "      <td>20.194380</td>\n",
       "      <td>1</td>\n",
       "      <td>754.00</td>\n",
       "      <td>1</td>\n",
       "      <td>787.000000</td>\n",
       "      <td>1</td>\n",
       "      <td>1</td>\n",
       "      <td>1</td>\n",
       "    </tr>\n",
       "    <tr>\n",
       "      <th>1198</th>\n",
       "      <td>7</td>\n",
       "      <td>1</td>\n",
       "      <td>40.438889</td>\n",
       "      <td>1</td>\n",
       "      <td>188.107590</td>\n",
       "      <td>1</td>\n",
       "      <td>19.660715</td>\n",
       "      <td>1</td>\n",
       "      <td>754.00</td>\n",
       "      <td>1</td>\n",
       "      <td>788.000000</td>\n",
       "      <td>1</td>\n",
       "      <td>1</td>\n",
       "      <td>1</td>\n",
       "    </tr>\n",
       "    <tr>\n",
       "      <th>1199</th>\n",
       "      <td>7</td>\n",
       "      <td>1</td>\n",
       "      <td>38.118572</td>\n",
       "      <td>1</td>\n",
       "      <td>228.998947</td>\n",
       "      <td>1</td>\n",
       "      <td>8.244197</td>\n",
       "      <td>1</td>\n",
       "      <td>755.00</td>\n",
       "      <td>1</td>\n",
       "      <td>787.000000</td>\n",
       "      <td>1</td>\n",
       "      <td>1</td>\n",
       "      <td>1</td>\n",
       "    </tr>\n",
       "    <tr>\n",
       "      <th>1200</th>\n",
       "      <td>7</td>\n",
       "      <td>1</td>\n",
       "      <td>49.956665</td>\n",
       "      <td>1</td>\n",
       "      <td>165.964966</td>\n",
       "      <td>1</td>\n",
       "      <td>23.772532</td>\n",
       "      <td>1</td>\n",
       "      <td>756.00</td>\n",
       "      <td>1</td>\n",
       "      <td>787.000000</td>\n",
       "      <td>1</td>\n",
       "      <td>1</td>\n",
       "      <td>1</td>\n",
       "    </tr>\n",
       "    <tr>\n",
       "      <th>1201</th>\n",
       "      <td>7</td>\n",
       "      <td>1</td>\n",
       "      <td>64.285713</td>\n",
       "      <td>1</td>\n",
       "      <td>209.610550</td>\n",
       "      <td>1</td>\n",
       "      <td>14.700283</td>\n",
       "      <td>1</td>\n",
       "      <td>759.00</td>\n",
       "      <td>1</td>\n",
       "      <td>870.000000</td>\n",
       "      <td>1</td>\n",
       "      <td>1</td>\n",
       "      <td>1</td>\n",
       "    </tr>\n",
       "    <tr>\n",
       "      <th>1202</th>\n",
       "      <td>7</td>\n",
       "      <td>1</td>\n",
       "      <td>65.901428</td>\n",
       "      <td>1</td>\n",
       "      <td>215.554855</td>\n",
       "      <td>1</td>\n",
       "      <td>13.016954</td>\n",
       "      <td>1</td>\n",
       "      <td>759.00</td>\n",
       "      <td>1</td>\n",
       "      <td>871.000000</td>\n",
       "      <td>1</td>\n",
       "      <td>1</td>\n",
       "      <td>1</td>\n",
       "    </tr>\n",
       "    <tr>\n",
       "      <th>1203</th>\n",
       "      <td>7</td>\n",
       "      <td>1</td>\n",
       "      <td>53.044285</td>\n",
       "      <td>1</td>\n",
       "      <td>29.101870</td>\n",
       "      <td>1</td>\n",
       "      <td>50.492817</td>\n",
       "      <td>1</td>\n",
       "      <td>760.00</td>\n",
       "      <td>1</td>\n",
       "      <td>866.000000</td>\n",
       "      <td>1</td>\n",
       "      <td>1</td>\n",
       "      <td>1</td>\n",
       "    </tr>\n",
       "    <tr>\n",
       "      <th>1204</th>\n",
       "      <td>7</td>\n",
       "      <td>1</td>\n",
       "      <td>61.652859</td>\n",
       "      <td>1</td>\n",
       "      <td>47.678165</td>\n",
       "      <td>1</td>\n",
       "      <td>44.697987</td>\n",
       "      <td>1</td>\n",
       "      <td>760.00</td>\n",
       "      <td>1</td>\n",
       "      <td>867.000000</td>\n",
       "      <td>1</td>\n",
       "      <td>1</td>\n",
       "      <td>1</td>\n",
       "    </tr>\n",
       "    <tr>\n",
       "      <th>1205</th>\n",
       "      <td>7</td>\n",
       "      <td>1</td>\n",
       "      <td>79.428337</td>\n",
       "      <td>1</td>\n",
       "      <td>222.068848</td>\n",
       "      <td>1</td>\n",
       "      <td>10.914317</td>\n",
       "      <td>1</td>\n",
       "      <td>760.00</td>\n",
       "      <td>1</td>\n",
       "      <td>868.000000</td>\n",
       "      <td>1</td>\n",
       "      <td>1</td>\n",
       "      <td>1</td>\n",
       "    </tr>\n",
       "    <tr>\n",
       "      <th>1206</th>\n",
       "      <td>7</td>\n",
       "      <td>1</td>\n",
       "      <td>68.534286</td>\n",
       "      <td>1</td>\n",
       "      <td>188.829575</td>\n",
       "      <td>1</td>\n",
       "      <td>19.513887</td>\n",
       "      <td>1</td>\n",
       "      <td>760.00</td>\n",
       "      <td>1</td>\n",
       "      <td>869.000000</td>\n",
       "      <td>1</td>\n",
       "      <td>1</td>\n",
       "      <td>1</td>\n",
       "    </tr>\n",
       "    <tr>\n",
       "      <th>1207</th>\n",
       "      <td>7</td>\n",
       "      <td>2</td>\n",
       "      <td>55.831902</td>\n",
       "      <td>2</td>\n",
       "      <td>196.965637</td>\n",
       "      <td>2</td>\n",
       "      <td>17.712086</td>\n",
       "      <td>2</td>\n",
       "      <td>762.50</td>\n",
       "      <td>2</td>\n",
       "      <td>776.500000</td>\n",
       "      <td>2</td>\n",
       "      <td>1</td>\n",
       "      <td>2</td>\n",
       "    </tr>\n",
       "    <tr>\n",
       "      <th>1208</th>\n",
       "      <td>7</td>\n",
       "      <td>1</td>\n",
       "      <td>73.347145</td>\n",
       "      <td>1</td>\n",
       "      <td>203.773560</td>\n",
       "      <td>1</td>\n",
       "      <td>16.192463</td>\n",
       "      <td>1</td>\n",
       "      <td>761.00</td>\n",
       "      <td>1</td>\n",
       "      <td>865.000000</td>\n",
       "      <td>1</td>\n",
       "      <td>1</td>\n",
       "      <td>1</td>\n",
       "    </tr>\n",
       "    <tr>\n",
       "      <th>1209</th>\n",
       "      <td>7</td>\n",
       "      <td>1</td>\n",
       "      <td>21.313334</td>\n",
       "      <td>1</td>\n",
       "      <td>18.056919</td>\n",
       "      <td>1</td>\n",
       "      <td>55.742908</td>\n",
       "      <td>1</td>\n",
       "      <td>761.00</td>\n",
       "      <td>1</td>\n",
       "      <td>868.000000</td>\n",
       "      <td>1</td>\n",
       "      <td>1</td>\n",
       "      <td>1</td>\n",
       "    </tr>\n",
       "    <tr>\n",
       "      <th>1210</th>\n",
       "      <td>7</td>\n",
       "      <td>1</td>\n",
       "      <td>58.310001</td>\n",
       "      <td>1</td>\n",
       "      <td>208.170868</td>\n",
       "      <td>1</td>\n",
       "      <td>15.081461</td>\n",
       "      <td>1</td>\n",
       "      <td>762.00</td>\n",
       "      <td>1</td>\n",
       "      <td>777.000000</td>\n",
       "      <td>1</td>\n",
       "      <td>1</td>\n",
       "      <td>1</td>\n",
       "    </tr>\n",
       "    <tr>\n",
       "      <th>1211</th>\n",
       "      <td>7</td>\n",
       "      <td>1</td>\n",
       "      <td>61.088570</td>\n",
       "      <td>1</td>\n",
       "      <td>209.576492</td>\n",
       "      <td>1</td>\n",
       "      <td>14.709410</td>\n",
       "      <td>1</td>\n",
       "      <td>762.00</td>\n",
       "      <td>1</td>\n",
       "      <td>778.000000</td>\n",
       "      <td>1</td>\n",
       "      <td>1</td>\n",
       "      <td>1</td>\n",
       "    </tr>\n",
       "    <tr>\n",
       "      <th>1212</th>\n",
       "      <td>7</td>\n",
       "      <td>8</td>\n",
       "      <td>58.164116</td>\n",
       "      <td>8</td>\n",
       "      <td>179.332458</td>\n",
       "      <td>8</td>\n",
       "      <td>20.753782</td>\n",
       "      <td>8</td>\n",
       "      <td>765.25</td>\n",
       "      <td>8</td>\n",
       "      <td>789.000000</td>\n",
       "      <td>8</td>\n",
       "      <td>1</td>\n",
       "      <td>8</td>\n",
       "    </tr>\n",
       "    <tr>\n",
       "      <th>1213</th>\n",
       "      <td>7</td>\n",
       "      <td>1</td>\n",
       "      <td>56.262001</td>\n",
       "      <td>1</td>\n",
       "      <td>198.526703</td>\n",
       "      <td>1</td>\n",
       "      <td>17.428442</td>\n",
       "      <td>1</td>\n",
       "      <td>762.00</td>\n",
       "      <td>1</td>\n",
       "      <td>794.000000</td>\n",
       "      <td>1</td>\n",
       "      <td>1</td>\n",
       "      <td>1</td>\n",
       "    </tr>\n",
       "    <tr>\n",
       "      <th>1214</th>\n",
       "      <td>7</td>\n",
       "      <td>1</td>\n",
       "      <td>69.385002</td>\n",
       "      <td>1</td>\n",
       "      <td>202.034058</td>\n",
       "      <td>1</td>\n",
       "      <td>16.612127</td>\n",
       "      <td>1</td>\n",
       "      <td>763.00</td>\n",
       "      <td>1</td>\n",
       "      <td>775.000000</td>\n",
       "      <td>1</td>\n",
       "      <td>1</td>\n",
       "      <td>1</td>\n",
       "    </tr>\n",
       "    <tr>\n",
       "      <th>1215</th>\n",
       "      <td>7</td>\n",
       "      <td>1</td>\n",
       "      <td>62.271252</td>\n",
       "      <td>1</td>\n",
       "      <td>197.882355</td>\n",
       "      <td>1</td>\n",
       "      <td>17.574404</td>\n",
       "      <td>1</td>\n",
       "      <td>763.00</td>\n",
       "      <td>1</td>\n",
       "      <td>776.000000</td>\n",
       "      <td>1</td>\n",
       "      <td>1</td>\n",
       "      <td>1</td>\n",
       "    </tr>\n",
       "    <tr>\n",
       "      <th>1216</th>\n",
       "      <td>7</td>\n",
       "      <td>1</td>\n",
       "      <td>61.652859</td>\n",
       "      <td>1</td>\n",
       "      <td>174.067444</td>\n",
       "      <td>1</td>\n",
       "      <td>22.341732</td>\n",
       "      <td>1</td>\n",
       "      <td>763.00</td>\n",
       "      <td>1</td>\n",
       "      <td>777.000000</td>\n",
       "      <td>1</td>\n",
       "      <td>1</td>\n",
       "      <td>1</td>\n",
       "    </tr>\n",
       "    <tr>\n",
       "      <th>1217</th>\n",
       "      <td>7</td>\n",
       "      <td>1</td>\n",
       "      <td>40.788750</td>\n",
       "      <td>1</td>\n",
       "      <td>86.168533</td>\n",
       "      <td>1</td>\n",
       "      <td>36.725960</td>\n",
       "      <td>1</td>\n",
       "      <td>763.00</td>\n",
       "      <td>1</td>\n",
       "      <td>793.000000</td>\n",
       "      <td>1</td>\n",
       "      <td>1</td>\n",
       "      <td>1</td>\n",
       "    </tr>\n",
       "    <tr>\n",
       "      <th>1218</th>\n",
       "      <td>7</td>\n",
       "      <td>1</td>\n",
       "      <td>43.576000</td>\n",
       "      <td>1</td>\n",
       "      <td>19.937279</td>\n",
       "      <td>1</td>\n",
       "      <td>54.672611</td>\n",
       "      <td>1</td>\n",
       "      <td>763.00</td>\n",
       "      <td>1</td>\n",
       "      <td>794.000000</td>\n",
       "      <td>1</td>\n",
       "      <td>1</td>\n",
       "      <td>1</td>\n",
       "    </tr>\n",
       "    <tr>\n",
       "      <th>1219</th>\n",
       "      <td>7</td>\n",
       "      <td>1</td>\n",
       "      <td>56.262001</td>\n",
       "      <td>1</td>\n",
       "      <td>202.314011</td>\n",
       "      <td>1</td>\n",
       "      <td>16.545288</td>\n",
       "      <td>1</td>\n",
       "      <td>764.00</td>\n",
       "      <td>1</td>\n",
       "      <td>791.000000</td>\n",
       "      <td>1</td>\n",
       "      <td>1</td>\n",
       "      <td>1</td>\n",
       "    </tr>\n",
       "    <tr>\n",
       "      <th>1220</th>\n",
       "      <td>7</td>\n",
       "      <td>1</td>\n",
       "      <td>57.047779</td>\n",
       "      <td>1</td>\n",
       "      <td>203.773239</td>\n",
       "      <td>1</td>\n",
       "      <td>16.192545</td>\n",
       "      <td>1</td>\n",
       "      <td>764.00</td>\n",
       "      <td>1</td>\n",
       "      <td>792.000000</td>\n",
       "      <td>1</td>\n",
       "      <td>1</td>\n",
       "      <td>1</td>\n",
       "    </tr>\n",
       "    <tr>\n",
       "      <th>1221</th>\n",
       "      <td>7</td>\n",
       "      <td>1</td>\n",
       "      <td>72.330002</td>\n",
       "      <td>1</td>\n",
       "      <td>200.441238</td>\n",
       "      <td>1</td>\n",
       "      <td>16.987574</td>\n",
       "      <td>1</td>\n",
       "      <td>778.00</td>\n",
       "      <td>1</td>\n",
       "      <td>800.000000</td>\n",
       "      <td>1</td>\n",
       "      <td>1</td>\n",
       "      <td>1</td>\n",
       "    </tr>\n",
       "    <tr>\n",
       "      <th>1222</th>\n",
       "      <td>7</td>\n",
       "      <td>1</td>\n",
       "      <td>77.142860</td>\n",
       "      <td>1</td>\n",
       "      <td>220.196884</td>\n",
       "      <td>1</td>\n",
       "      <td>11.551850</td>\n",
       "      <td>1</td>\n",
       "      <td>778.00</td>\n",
       "      <td>1</td>\n",
       "      <td>801.000000</td>\n",
       "      <td>1</td>\n",
       "      <td>1</td>\n",
       "      <td>1</td>\n",
       "    </tr>\n",
       "    <tr>\n",
       "      <th>1223</th>\n",
       "      <td>7</td>\n",
       "      <td>1</td>\n",
       "      <td>74.510002</td>\n",
       "      <td>1</td>\n",
       "      <td>205.664322</td>\n",
       "      <td>1</td>\n",
       "      <td>15.724022</td>\n",
       "      <td>1</td>\n",
       "      <td>778.00</td>\n",
       "      <td>1</td>\n",
       "      <td>802.000000</td>\n",
       "      <td>1</td>\n",
       "      <td>1</td>\n",
       "      <td>1</td>\n",
       "    </tr>\n",
       "  </tbody>\n",
       "</table>\n",
       "<p>1223 rows × 14 columns</p>\n",
       "</div>"
      ],
      "text/plain": [
       "      longueur            angle            weight        precision        \\\n",
       "          mean count       mean count        mean count       mean count   \n",
       "group                                                                      \n",
       "1            7    21  17.639002    21   52.913074    21  45.882523    21   \n",
       "2            7     1 -40.392502     1  229.608414     1   7.980424     1   \n",
       "3            7     1 -22.500000     1   21.872196     1  53.663704     1   \n",
       "4            7     1 -20.901428     1   40.050697     1  46.802559     1   \n",
       "5            7     1 -18.684999     1    8.990064     1  63.092518     1   \n",
       "6            7     1 -26.230000     1  233.330490     1   6.234506     1   \n",
       "7            7     1   0.000000     1  194.000732     1  18.430000     1   \n",
       "8            7     1 -32.732498     1   38.151115     1  47.376457     1   \n",
       "9            7     1  46.615715     1  179.631119     1  21.314892     1   \n",
       "10           7     6  22.889465     6  111.028107     6  40.016800     6   \n",
       "11           7     1  40.392502     1  229.608414     1   7.980424     1   \n",
       "12           7     1 -44.506248     1  211.033081     1  14.314226     1   \n",
       "13           7     1  63.685001     1  202.279968     1  16.553429     1   \n",
       "14           7     1 -29.510000     1   28.797129     1  50.611565     1   \n",
       "15           7     1 -31.578571     1   30.169895     1  50.085003     1   \n",
       "16           7     1  57.139999     1  199.643723     1  17.172558     1   \n",
       "17           7     1  52.500000     1  158.153076     1  25.095682     1   \n",
       "18           7     1  -5.975714     1    9.926353     1  62.063656     1   \n",
       "19           7     1 -19.285715     1   42.362766     1  46.133179     1   \n",
       "20           7     3   4.021309     3    3.724773     3  72.233383     3   \n",
       "21           7     1  -4.812857     1   23.965324     1  52.659599     1   \n",
       "22           7     1   0.658333     1   14.051043     1  58.418884     1   \n",
       "23           7     1  10.224286     1    4.888278     1  69.350677     1   \n",
       "24           7     1   6.313334     1   28.801847     1  50.609718     1   \n",
       "25           7     1 -17.105715     1    5.495279     1  68.155884     1   \n",
       "26           7     1 -18.288750     1    8.929901     1  63.162113     1   \n",
       "27           7     1  -4.428333     1    5.438037     1  68.262894     1   \n",
       "28           7     1 -30.052000     1  227.428650     1   8.899407     1   \n",
       "29           7     1 -50.265713     1  223.820511     1  10.289161     1   \n",
       "30           7     1  32.543335     1  225.001129     1   9.850546     1   \n",
       "...        ...   ...        ...   ...         ...   ...        ...   ...   \n",
       "1194         7     1  40.788750     1   24.548407     1  52.393940     1   \n",
       "1195         7     8  51.905468     8  208.988052     8  14.226195     8   \n",
       "1196         7     1  34.243752     1  226.026016     1   9.457481     1   \n",
       "1197         7     1  42.172501     1  185.441025     1  20.194380     1   \n",
       "1198         7     1  40.438889     1  188.107590     1  19.660715     1   \n",
       "1199         7     1  38.118572     1  228.998947     1   8.244197     1   \n",
       "1200         7     1  49.956665     1  165.964966     1  23.772532     1   \n",
       "1201         7     1  64.285713     1  209.610550     1  14.700283     1   \n",
       "1202         7     1  65.901428     1  215.554855     1  13.016954     1   \n",
       "1203         7     1  53.044285     1   29.101870     1  50.492817     1   \n",
       "1204         7     1  61.652859     1   47.678165     1  44.697987     1   \n",
       "1205         7     1  79.428337     1  222.068848     1  10.914317     1   \n",
       "1206         7     1  68.534286     1  188.829575     1  19.513887     1   \n",
       "1207         7     2  55.831902     2  196.965637     2  17.712086     2   \n",
       "1208         7     1  73.347145     1  203.773560     1  16.192463     1   \n",
       "1209         7     1  21.313334     1   18.056919     1  55.742908     1   \n",
       "1210         7     1  58.310001     1  208.170868     1  15.081461     1   \n",
       "1211         7     1  61.088570     1  209.576492     1  14.709410     1   \n",
       "1212         7     8  58.164116     8  179.332458     8  20.753782     8   \n",
       "1213         7     1  56.262001     1  198.526703     1  17.428442     1   \n",
       "1214         7     1  69.385002     1  202.034058     1  16.612127     1   \n",
       "1215         7     1  62.271252     1  197.882355     1  17.574404     1   \n",
       "1216         7     1  61.652859     1  174.067444     1  22.341732     1   \n",
       "1217         7     1  40.788750     1   86.168533     1  36.725960     1   \n",
       "1218         7     1  43.576000     1   19.937279     1  54.672611     1   \n",
       "1219         7     1  56.262001     1  202.314011     1  16.545288     1   \n",
       "1220         7     1  57.047779     1  203.773239     1  16.192545     1   \n",
       "1221         7     1  72.330002     1  200.441238     1  16.987574     1   \n",
       "1222         7     1  77.142860     1  220.196884     1  11.551850     1   \n",
       "1223         7     1  74.510002     1  205.664322     1  15.724022     1   \n",
       "\n",
       "         xPos               yPos       layer        \n",
       "         mean count         mean count  mean count  \n",
       "group                                               \n",
       "1      191.00    21   994.238095    21     1    21  \n",
       "2      192.00     1  1005.000000     1     1     1  \n",
       "3      190.00     1  1004.000000     1     1     1  \n",
       "4      191.00     1  1004.000000     1     1     1  \n",
       "5      191.00     1  1005.000000     1     1     1  \n",
       "6      193.00     1  1005.000000     1     1     1  \n",
       "7      194.00     1  1005.000000     1     1     1  \n",
       "8      190.00     1  1003.000000     1     1     1  \n",
       "9      197.00     1  1004.000000     1     1     1  \n",
       "10     198.50     6   999.833333     6     1     6  \n",
       "11     196.00     1  1005.000000     1     1     1  \n",
       "12     197.00     1   994.000000     1     1     1  \n",
       "13     197.00     1  1005.000000     1     1     1  \n",
       "14     198.00     1   994.000000     1     1     1  \n",
       "15     198.00     1   995.000000     1     1     1  \n",
       "16     198.00     1  1003.000000     1     1     1  \n",
       "17     198.00     1  1004.000000     1     1     1  \n",
       "18     199.00     1   995.000000     1     1     1  \n",
       "19     212.00     1   741.000000     1     1     1  \n",
       "20     212.00     3  1094.000000     3     1     3  \n",
       "21     214.00     1   716.000000     1     1     1  \n",
       "22     215.00     1  1100.000000     1     1     1  \n",
       "23     212.00     1  1096.000000     1     1     1  \n",
       "24     213.00     1   718.000000     1     1     1  \n",
       "25     213.00     1  1096.000000     1     1     1  \n",
       "26     213.00     1  1097.000000     1     1     1  \n",
       "27     213.00     1  1098.000000     1     1     1  \n",
       "28     214.00     1   742.000000     1     1     1  \n",
       "29     214.00     1  1098.000000     1     1     1  \n",
       "30     215.00     1   690.000000     1     1     1  \n",
       "...       ...   ...          ...   ...   ...   ...  \n",
       "1194   751.00     1   893.000000     1     1     1  \n",
       "1195   757.50     8   784.125000     8     1     8  \n",
       "1196   753.00     1   788.000000     1     1     1  \n",
       "1197   754.00     1   787.000000     1     1     1  \n",
       "1198   754.00     1   788.000000     1     1     1  \n",
       "1199   755.00     1   787.000000     1     1     1  \n",
       "1200   756.00     1   787.000000     1     1     1  \n",
       "1201   759.00     1   870.000000     1     1     1  \n",
       "1202   759.00     1   871.000000     1     1     1  \n",
       "1203   760.00     1   866.000000     1     1     1  \n",
       "1204   760.00     1   867.000000     1     1     1  \n",
       "1205   760.00     1   868.000000     1     1     1  \n",
       "1206   760.00     1   869.000000     1     1     1  \n",
       "1207   762.50     2   776.500000     2     1     2  \n",
       "1208   761.00     1   865.000000     1     1     1  \n",
       "1209   761.00     1   868.000000     1     1     1  \n",
       "1210   762.00     1   777.000000     1     1     1  \n",
       "1211   762.00     1   778.000000     1     1     1  \n",
       "1212   765.25     8   789.000000     8     1     8  \n",
       "1213   762.00     1   794.000000     1     1     1  \n",
       "1214   763.00     1   775.000000     1     1     1  \n",
       "1215   763.00     1   776.000000     1     1     1  \n",
       "1216   763.00     1   777.000000     1     1     1  \n",
       "1217   763.00     1   793.000000     1     1     1  \n",
       "1218   763.00     1   794.000000     1     1     1  \n",
       "1219   764.00     1   791.000000     1     1     1  \n",
       "1220   764.00     1   792.000000     1     1     1  \n",
       "1221   778.00     1   800.000000     1     1     1  \n",
       "1222   778.00     1   801.000000     1     1     1  \n",
       "1223   778.00     1   802.000000     1     1     1  \n",
       "\n",
       "[1223 rows x 14 columns]"
      ]
     },
     "execution_count": 320,
     "metadata": {},
     "output_type": "execute_result"
    }
   ],
   "source": [
    "titi.groupby('group').agg(['mean', 'count'])"
   ]
  },
  {
   "cell_type": "code",
   "execution_count": 324,
   "metadata": {
    "ExecuteTime": {
     "end_time": "2019-07-16T19:35:29.130537Z",
     "start_time": "2019-07-16T19:35:28.645383Z"
    }
   },
   "outputs": [
    {
     "data": {
      "text/plain": [
       "<matplotlib.axes._subplots.AxesSubplot at 0x131539240>"
      ]
     },
     "execution_count": 324,
     "metadata": {},
     "output_type": "execute_result"
    },
    {
     "data": {
      "image/png": "[encoded data removed]",
      "text/plain": [
       "<Figure size 432x288 with 1 Axes>"
      ]
     },
     "metadata": {
      "needs_background": "light"
     },
     "output_type": "display_data"
    }
   ],
   "source": [
    "titi.groupby('group').size().hist()"
   ]
  },
  {
   "cell_type": "code",
   "execution_count": 298,
   "metadata": {
    "ExecuteTime": {
     "end_time": "2019-07-16T18:55:38.148317Z",
     "start_time": "2019-07-16T18:55:38.108720Z"
    }
   },
   "outputs": [
    {
     "data": {
      "text/plain": [
       "longueur        7.000000\n",
       "angle         -31.186666\n",
       "weight         18.183504\n",
       "precision      55.667706\n",
       "xPos          190.000000\n",
       "yPos         1003.000000\n",
       "group           0.000000\n",
       "layer           1.000000\n",
       "Name: 1, dtype: float64"
      ]
     },
     "execution_count": 298,
     "metadata": {},
     "output_type": "execute_result"
    }
   ],
   "source": [
    "xGroupList.iloc[0]"
   ]
  },
  {
   "cell_type": "code",
   "execution_count": 325,
   "metadata": {
    "ExecuteTime": {
     "end_time": "2019-07-16T19:36:32.175875Z",
     "start_time": "2019-07-16T19:36:32.169007Z"
    }
   },
   "outputs": [],
   "source": [
    "resultGroup = titi.groupby('group').size()"
   ]
  },
  {
   "cell_type": "code",
   "execution_count": 326,
   "metadata": {
    "ExecuteTime": {
     "end_time": "2019-07-16T19:36:56.975348Z",
     "start_time": "2019-07-16T19:36:56.915036Z"
    }
   },
   "outputs": [
    {
     "data": {
      "text/plain": [
       "group\n",
       "1       21\n",
       "90      13\n",
       "147     14\n",
       "239     11\n",
       "252     16\n",
       "268     13\n",
       "289     11\n",
       "314     13\n",
       "362     14\n",
       "395     16\n",
       "413     51\n",
       "487     11\n",
       "490     66\n",
       "494     16\n",
       "597     14\n",
       "615     12\n",
       "632     22\n",
       "667     14\n",
       "699     28\n",
       "909     19\n",
       "933     16\n",
       "956     15\n",
       "971     11\n",
       "984     11\n",
       "1081    21\n",
       "1127    17\n",
       "1167    13\n",
       "dtype: int64"
      ]
     },
     "execution_count": 326,
     "metadata": {},
     "output_type": "execute_result"
    }
   ],
   "source": [
    "resultGroup[resultGroup>10]"
   ]
  },
  {
   "cell_type": "code",
   "execution_count": null,
   "metadata": {},
   "outputs": [],
   "source": []
  },
  {
   "cell_type": "code",
   "execution_count": 519,
   "metadata": {
    "ExecuteTime": {
     "end_time": "2019-07-17T13:16:35.930744Z",
     "start_time": "2019-07-17T13:16:35.900707Z"
    }
   },
   "outputs": [],
   "source": [
    "def getNFCoordinate(lNeurone):\n",
    "    try:\n",
    "        lintDist = int(np.floor(lNeurone.longueur/2))\n",
    "    except:\n",
    "        P1 = (0,0)\n",
    "        P2 = (0,0)\n",
    "        return (P1, P2)\n",
    "    if np.abs(lNeurone.angle/180*np.pi)<45:\n",
    "        lAlpha = lNeurone.angle/180*pi\n",
    "        lintX1 = np.around(lNeurone.xPos - lintDist * np.tan(lAlpha));\n",
    "        lintY1 = lNeurone.yPos + lintDist;\n",
    "        lintX2 = np.around(lNeurone.xPos + lintDist * np.tan(lAlpha));\n",
    "        lintY2 = lNeurone.yPos - lintDist;\n",
    "    else:\n",
    "        lAlpha = 90 - lNeurone.angle/180*pi\n",
    "        lintY1 = np.around(lNeurone.yPos - lintDist * np.tan(lAlpha));\n",
    "        lintX1 = lNeurone.xPos - lintDist;\n",
    "        lintY2 = np.around(lNeurone.yPos + lintDist * np.tan(lAlpha));\n",
    "        lintX1 = lNeurone.xPos + lintDist\n",
    "    P1 = (int(lintY1), int(lintX1))\n",
    "    P2 = (int(lintY2), int(lintX2))\n",
    "    return P1,P2"
   ]
  },
  {
   "cell_type": "code",
   "execution_count": 332,
   "metadata": {
    "ExecuteTime": {
     "end_time": "2019-07-16T20:36:52.442436Z",
     "start_time": "2019-07-16T20:36:52.436549Z"
    }
   },
   "outputs": [],
   "source": [
    "neuronTest = titi.iloc[490]"
   ]
  },
  {
   "cell_type": "code",
   "execution_count": 333,
   "metadata": {
    "ExecuteTime": {
     "end_time": "2019-07-16T20:37:01.947083Z",
     "start_time": "2019-07-16T20:37:01.936469Z"
    }
   },
   "outputs": [
    {
     "data": {
      "text/plain": [
       "longueur       7.000000\n",
       "angle        -14.471666\n",
       "weight        38.304390\n",
       "precision     47.329292\n",
       "xPos         275.000000\n",
       "yPos         917.000000\n",
       "group        314.000000\n",
       "layer          1.000000\n",
       "Name: 490, dtype: float64"
      ]
     },
     "execution_count": 333,
     "metadata": {},
     "output_type": "execute_result"
    }
   ],
   "source": [
    "neuronTest"
   ]
  },
  {
   "cell_type": "code",
   "execution_count": 349,
   "metadata": {
    "ExecuteTime": {
     "end_time": "2019-07-16T21:20:47.188977Z",
     "start_time": "2019-07-16T21:20:47.172194Z"
    }
   },
   "outputs": [],
   "source": [
    "ttt = getNFCoordinate(neuronTest)"
   ]
  },
  {
   "cell_type": "code",
   "execution_count": 351,
   "metadata": {
    "ExecuteTime": {
     "end_time": "2019-07-16T21:21:04.926691Z",
     "start_time": "2019-07-16T21:21:04.914534Z"
    }
   },
   "outputs": [
    {
     "data": {
      "text/plain": [
       "(276.0, 920.0)"
      ]
     },
     "execution_count": 351,
     "metadata": {},
     "output_type": "execute_result"
    }
   ],
   "source": [
    "ttt[0]"
   ]
  },
  {
   "cell_type": "code",
   "execution_count": 381,
   "metadata": {
    "ExecuteTime": {
     "end_time": "2019-07-16T21:43:24.682402Z",
     "start_time": "2019-07-16T21:43:24.669628Z"
    }
   },
   "outputs": [],
   "source": [
    "def drawFieldNeurons(lNeuronList, lBitmap):\n",
    "    for index, lNeuron in lNeuronList.iterrows():\n",
    "    #for lNeuron in lNeuronList:\n",
    "        lCoord = getNFCoordinate(lNeuron)\n",
    "        #print(lNeuron)\n",
    "        try:\n",
    "            cv2.line(lBitmap,lCoord[0],lCoord[1],(int(lNeuron.weight),int(lNeuron.weight),int(lNeuron.weight)), 3)\n",
    "        except:\n",
    "            True\n",
    "    return lBitmap"
   ]
  },
  {
   "cell_type": "code",
   "execution_count": 383,
   "metadata": {
    "ExecuteTime": {
     "end_time": "2019-07-16T21:43:45.797083Z",
     "start_time": "2019-07-16T21:43:45.789741Z"
    }
   },
   "outputs": [],
   "source": [
    "testBitmap = np.zeros(frame.shape)"
   ]
  },
  {
   "cell_type": "code",
   "execution_count": 359,
   "metadata": {
    "ExecuteTime": {
     "end_time": "2019-07-16T21:25:41.037667Z",
     "start_time": "2019-07-16T21:25:41.024024Z"
    }
   },
   "outputs": [
    {
     "data": {
      "text/plain": [
       "(800, 1280)"
      ]
     },
     "execution_count": 359,
     "metadata": {},
     "output_type": "execute_result"
    }
   ],
   "source": [
    "testBitmap.shape"
   ]
  },
  {
   "cell_type": "code",
   "execution_count": 405,
   "metadata": {
    "ExecuteTime": {
     "end_time": "2019-07-17T07:16:41.838082Z",
     "start_time": "2019-07-17T07:16:41.815413Z"
    }
   },
   "outputs": [
    {
     "data": {
      "text/html": [
       "<div>\n",
       "<style scoped>\n",
       "    .dataframe tbody tr th:only-of-type {\n",
       "        vertical-align: middle;\n",
       "    }\n",
       "\n",
       "    .dataframe tbody tr th {\n",
       "        vertical-align: top;\n",
       "    }\n",
       "\n",
       "    .dataframe thead th {\n",
       "        text-align: right;\n",
       "    }\n",
       "</style>\n",
       "<table border=\"1\" class=\"dataframe\">\n",
       "  <thead>\n",
       "    <tr style=\"text-align: right;\">\n",
       "      <th></th>\n",
       "      <th>longueur</th>\n",
       "      <th>angle</th>\n",
       "      <th>weight</th>\n",
       "      <th>precision</th>\n",
       "      <th>xPos</th>\n",
       "      <th>yPos</th>\n",
       "      <th>group</th>\n",
       "      <th>layer</th>\n",
       "    </tr>\n",
       "  </thead>\n",
       "  <tbody>\n",
       "    <tr>\n",
       "      <th>0</th>\n",
       "      <td>7</td>\n",
       "      <td>36.391430</td>\n",
       "      <td>32.866127</td>\n",
       "      <td>49.108376</td>\n",
       "      <td>78</td>\n",
       "      <td>147</td>\n",
       "      <td>0</td>\n",
       "      <td>1</td>\n",
       "    </tr>\n",
       "    <tr>\n",
       "      <th>1</th>\n",
       "      <td>7</td>\n",
       "      <td>42.942001</td>\n",
       "      <td>14.590329</td>\n",
       "      <td>58.019855</td>\n",
       "      <td>78</td>\n",
       "      <td>149</td>\n",
       "      <td>0</td>\n",
       "      <td>1</td>\n",
       "    </tr>\n",
       "    <tr>\n",
       "      <th>2</th>\n",
       "      <td>7</td>\n",
       "      <td>41.313999</td>\n",
       "      <td>30.819016</td>\n",
       "      <td>49.843220</td>\n",
       "      <td>78</td>\n",
       "      <td>150</td>\n",
       "      <td>0</td>\n",
       "      <td>1</td>\n",
       "    </tr>\n",
       "    <tr>\n",
       "      <th>3</th>\n",
       "      <td>7</td>\n",
       "      <td>21.313334</td>\n",
       "      <td>18.056919</td>\n",
       "      <td>55.742908</td>\n",
       "      <td>79</td>\n",
       "      <td>143</td>\n",
       "      <td>0</td>\n",
       "      <td>1</td>\n",
       "    </tr>\n",
       "    <tr>\n",
       "      <th>4</th>\n",
       "      <td>7</td>\n",
       "      <td>25.714285</td>\n",
       "      <td>11.285259</td>\n",
       "      <td>60.725010</td>\n",
       "      <td>79</td>\n",
       "      <td>146</td>\n",
       "      <td>0</td>\n",
       "      <td>1</td>\n",
       "    </tr>\n",
       "  </tbody>\n",
       "</table>\n",
       "</div>"
      ],
      "text/plain": [
       "   longueur      angle     weight  precision  xPos  yPos  group  layer\n",
       "0         7  36.391430  32.866127  49.108376    78   147      0      1\n",
       "1         7  42.942001  14.590329  58.019855    78   149      0      1\n",
       "2         7  41.313999  30.819016  49.843220    78   150      0      1\n",
       "3         7  21.313334  18.056919  55.742908    79   143      0      1\n",
       "4         7  25.714285  11.285259  60.725010    79   146      0      1"
      ]
     },
     "execution_count": 405,
     "metadata": {},
     "output_type": "execute_result"
    }
   ],
   "source": [
    "titi.head()"
   ]
  },
  {
   "cell_type": "code",
   "execution_count": 424,
   "metadata": {
    "ExecuteTime": {
     "end_time": "2019-07-17T07:41:03.088940Z",
     "start_time": "2019-07-17T07:41:03.041011Z"
    }
   },
   "outputs": [
    {
     "ename": "ValueError",
     "evalue": "cannot convert float NaN to integer",
     "output_type": "error",
     "traceback": [
      "\u001b[0;31m---------------------------------------------------------------------------\u001b[0m",
      "\u001b[0;31mValueError\u001b[0m                                Traceback (most recent call last)",
      "\u001b[0;32m<ipython-input-424-45f6164ea4c8>\u001b[0m in \u001b[0;36m<module>\u001b[0;34m\u001b[0m\n\u001b[1;32m      1\u001b[0m \u001b[0mtestBitmap\u001b[0m \u001b[0;34m=\u001b[0m \u001b[0mnp\u001b[0m\u001b[0;34m.\u001b[0m\u001b[0mzeros\u001b[0m\u001b[0;34m(\u001b[0m\u001b[0mframe\u001b[0m\u001b[0;34m.\u001b[0m\u001b[0mshape\u001b[0m\u001b[0;34m)\u001b[0m\u001b[0;34m\u001b[0m\u001b[0;34m\u001b[0m\u001b[0m\n\u001b[0;32m----> 2\u001b[0;31m \u001b[0mtestBitmap\u001b[0m \u001b[0;34m=\u001b[0m \u001b[0mdrawFieldNeurons\u001b[0m\u001b[0;34m(\u001b[0m\u001b[0mtiti\u001b[0m\u001b[0;34m,\u001b[0m\u001b[0mtestBitmap\u001b[0m\u001b[0;34m)\u001b[0m\u001b[0;34m\u001b[0m\u001b[0;34m\u001b[0m\u001b[0m\n\u001b[0m",
      "\u001b[0;32m<ipython-input-381-eb9844629519>\u001b[0m in \u001b[0;36mdrawFieldNeurons\u001b[0;34m(lNeuronList, lBitmap)\u001b[0m\n\u001b[1;32m      2\u001b[0m     \u001b[0;32mfor\u001b[0m \u001b[0mindex\u001b[0m\u001b[0;34m,\u001b[0m \u001b[0mlNeuron\u001b[0m \u001b[0;32min\u001b[0m \u001b[0mlNeuronList\u001b[0m\u001b[0;34m.\u001b[0m\u001b[0miterrows\u001b[0m\u001b[0;34m(\u001b[0m\u001b[0;34m)\u001b[0m\u001b[0;34m:\u001b[0m\u001b[0;34m\u001b[0m\u001b[0;34m\u001b[0m\u001b[0m\n\u001b[1;32m      3\u001b[0m     \u001b[0;31m#for lNeuron in lNeuronList:\u001b[0m\u001b[0;34m\u001b[0m\u001b[0;34m\u001b[0m\u001b[0;34m\u001b[0m\u001b[0m\n\u001b[0;32m----> 4\u001b[0;31m         \u001b[0mlCoord\u001b[0m \u001b[0;34m=\u001b[0m \u001b[0mgetNFCoordinate\u001b[0m\u001b[0;34m(\u001b[0m\u001b[0mlNeuron\u001b[0m\u001b[0;34m)\u001b[0m\u001b[0;34m\u001b[0m\u001b[0;34m\u001b[0m\u001b[0m\n\u001b[0m\u001b[1;32m      5\u001b[0m         \u001b[0;31m#print(lNeuron)\u001b[0m\u001b[0;34m\u001b[0m\u001b[0;34m\u001b[0m\u001b[0;34m\u001b[0m\u001b[0m\n\u001b[1;32m      6\u001b[0m         \u001b[0;32mtry\u001b[0m\u001b[0;34m:\u001b[0m\u001b[0;34m\u001b[0m\u001b[0;34m\u001b[0m\u001b[0m\n",
      "\u001b[0;32m<ipython-input-372-6c6a8623d95d>\u001b[0m in \u001b[0;36mgetNFCoordinate\u001b[0;34m(lNeurone)\u001b[0m\n\u001b[1;32m      1\u001b[0m \u001b[0;32mdef\u001b[0m \u001b[0mgetNFCoordinate\u001b[0m\u001b[0;34m(\u001b[0m\u001b[0mlNeurone\u001b[0m\u001b[0;34m)\u001b[0m\u001b[0;34m:\u001b[0m\u001b[0;34m\u001b[0m\u001b[0;34m\u001b[0m\u001b[0m\n\u001b[0;32m----> 2\u001b[0;31m     \u001b[0mlintDist\u001b[0m \u001b[0;34m=\u001b[0m \u001b[0mint\u001b[0m\u001b[0;34m(\u001b[0m\u001b[0mnp\u001b[0m\u001b[0;34m.\u001b[0m\u001b[0mfloor\u001b[0m\u001b[0;34m(\u001b[0m\u001b[0mlNeurone\u001b[0m\u001b[0;34m.\u001b[0m\u001b[0mlongueur\u001b[0m\u001b[0;34m/\u001b[0m\u001b[0;36m2\u001b[0m\u001b[0;34m)\u001b[0m\u001b[0;34m)\u001b[0m\u001b[0;34m\u001b[0m\u001b[0;34m\u001b[0m\u001b[0m\n\u001b[0m\u001b[1;32m      3\u001b[0m     \u001b[0;32mif\u001b[0m \u001b[0mnp\u001b[0m\u001b[0;34m.\u001b[0m\u001b[0mabs\u001b[0m\u001b[0;34m(\u001b[0m\u001b[0mlNeurone\u001b[0m\u001b[0;34m.\u001b[0m\u001b[0mangle\u001b[0m\u001b[0;34m/\u001b[0m\u001b[0;36m180\u001b[0m\u001b[0;34m*\u001b[0m\u001b[0mnp\u001b[0m\u001b[0;34m.\u001b[0m\u001b[0mpi\u001b[0m\u001b[0;34m)\u001b[0m\u001b[0;34m<\u001b[0m\u001b[0;36m45\u001b[0m\u001b[0;34m:\u001b[0m\u001b[0;34m\u001b[0m\u001b[0;34m\u001b[0m\u001b[0m\n\u001b[1;32m      4\u001b[0m         \u001b[0mlAlpha\u001b[0m \u001b[0;34m=\u001b[0m \u001b[0mlNeurone\u001b[0m\u001b[0;34m.\u001b[0m\u001b[0mangle\u001b[0m\u001b[0;34m/\u001b[0m\u001b[0;36m180\u001b[0m\u001b[0;34m*\u001b[0m\u001b[0mpi\u001b[0m\u001b[0;34m\u001b[0m\u001b[0;34m\u001b[0m\u001b[0m\n\u001b[1;32m      5\u001b[0m         \u001b[0mlintX1\u001b[0m \u001b[0;34m=\u001b[0m \u001b[0mnp\u001b[0m\u001b[0;34m.\u001b[0m\u001b[0maround\u001b[0m\u001b[0;34m(\u001b[0m\u001b[0mlNeurone\u001b[0m\u001b[0;34m.\u001b[0m\u001b[0mxPos\u001b[0m \u001b[0;34m-\u001b[0m \u001b[0mlintDist\u001b[0m \u001b[0;34m*\u001b[0m \u001b[0mnp\u001b[0m\u001b[0;34m.\u001b[0m\u001b[0mtan\u001b[0m\u001b[0;34m(\u001b[0m\u001b[0mlAlpha\u001b[0m\u001b[0;34m)\u001b[0m\u001b[0;34m)\u001b[0m\u001b[0;34m;\u001b[0m\u001b[0;34m\u001b[0m\u001b[0;34m\u001b[0m\u001b[0m\n",
      "\u001b[0;31mValueError\u001b[0m: cannot convert float NaN to integer"
     ]
    }
   ],
   "source": [
    "testBitmap = np.zeros(frame.shape)\n",
    "testBitmap = drawFieldNeurons(titi,testBitmap)\n",
    "imgplot = plt.imshow(testBitmap)"
   ]
  },
  {
   "cell_type": "code",
   "execution_count": 415,
   "metadata": {
    "ExecuteTime": {
     "end_time": "2019-07-17T07:35:02.227114Z",
     "start_time": "2019-07-17T07:35:01.901806Z"
    }
   },
   "outputs": [
    {
     "data": {
      "image/png": "[encoded data removed]",
      "text/plain": [
       "<Figure size 432x288 with 1 Axes>"
      ]
     },
     "metadata": {
      "needs_background": "light"
     },
     "output_type": "display_data"
    }
   ],
   "source": [
    "imgplot = plt.imshow(testBitmap)"
   ]
  },
  {
   "cell_type": "code",
   "execution_count": 386,
   "metadata": {
    "ExecuteTime": {
     "end_time": "2019-07-16T21:45:00.034802Z",
     "start_time": "2019-07-16T21:43:57.467118Z"
    }
   },
   "outputs": [],
   "source": [
    "while(1):\n",
    "    cv2.imshow('Canny',testBitmap)\n",
    "    if cv2.waitKey(1) & 0xFF == ord('q'):  # press q to quit\n",
    "            break"
   ]
  },
  {
   "cell_type": "code",
   "execution_count": 426,
   "metadata": {
    "ExecuteTime": {
     "end_time": "2019-07-17T07:43:54.822490Z",
     "start_time": "2019-07-17T07:43:54.695369Z"
    }
   },
   "outputs": [
    {
     "data": {
      "text/html": [
       "<div>\n",
       "<style scoped>\n",
       "    .dataframe tbody tr th:only-of-type {\n",
       "        vertical-align: middle;\n",
       "    }\n",
       "\n",
       "    .dataframe tbody tr th {\n",
       "        vertical-align: top;\n",
       "    }\n",
       "\n",
       "    .dataframe thead th {\n",
       "        text-align: right;\n",
       "    }\n",
       "</style>\n",
       "<table border=\"1\" class=\"dataframe\">\n",
       "  <thead>\n",
       "    <tr style=\"text-align: right;\">\n",
       "      <th></th>\n",
       "      <th>longueur</th>\n",
       "      <th>angle</th>\n",
       "      <th>weight</th>\n",
       "      <th>precision</th>\n",
       "      <th>xPos</th>\n",
       "      <th>yPos</th>\n",
       "      <th>group</th>\n",
       "      <th>layer</th>\n",
       "    </tr>\n",
       "  </thead>\n",
       "  <tbody>\n",
       "    <tr>\n",
       "      <th>count</th>\n",
       "      <td>0.0</td>\n",
       "      <td>9387.000000</td>\n",
       "      <td>9387.000000</td>\n",
       "      <td>9387.000000</td>\n",
       "      <td>9387.0</td>\n",
       "      <td>9387.0</td>\n",
       "      <td>0.0</td>\n",
       "      <td>0.0</td>\n",
       "    </tr>\n",
       "    <tr>\n",
       "      <th>mean</th>\n",
       "      <td>NaN</td>\n",
       "      <td>3.052211</td>\n",
       "      <td>38.397591</td>\n",
       "      <td>47.303852</td>\n",
       "      <td>78.0</td>\n",
       "      <td>147.0</td>\n",
       "      <td>NaN</td>\n",
       "      <td>NaN</td>\n",
       "    </tr>\n",
       "    <tr>\n",
       "      <th>std</th>\n",
       "      <td>NaN</td>\n",
       "      <td>0.000211</td>\n",
       "      <td>0.000221</td>\n",
       "      <td>0.003098</td>\n",
       "      <td>0.0</td>\n",
       "      <td>0.0</td>\n",
       "      <td>NaN</td>\n",
       "      <td>NaN</td>\n",
       "    </tr>\n",
       "    <tr>\n",
       "      <th>min</th>\n",
       "      <td>NaN</td>\n",
       "      <td>3.052000</td>\n",
       "      <td>38.397369</td>\n",
       "      <td>47.300755</td>\n",
       "      <td>78.0</td>\n",
       "      <td>147.0</td>\n",
       "      <td>NaN</td>\n",
       "      <td>NaN</td>\n",
       "    </tr>\n",
       "    <tr>\n",
       "      <th>25%</th>\n",
       "      <td>NaN</td>\n",
       "      <td>3.052000</td>\n",
       "      <td>38.397369</td>\n",
       "      <td>47.300755</td>\n",
       "      <td>78.0</td>\n",
       "      <td>147.0</td>\n",
       "      <td>NaN</td>\n",
       "      <td>NaN</td>\n",
       "    </tr>\n",
       "    <tr>\n",
       "      <th>50%</th>\n",
       "      <td>NaN</td>\n",
       "      <td>3.052000</td>\n",
       "      <td>38.397369</td>\n",
       "      <td>47.300755</td>\n",
       "      <td>78.0</td>\n",
       "      <td>147.0</td>\n",
       "      <td>NaN</td>\n",
       "      <td>NaN</td>\n",
       "    </tr>\n",
       "    <tr>\n",
       "      <th>75%</th>\n",
       "      <td>NaN</td>\n",
       "      <td>3.052000</td>\n",
       "      <td>38.397369</td>\n",
       "      <td>47.300755</td>\n",
       "      <td>78.0</td>\n",
       "      <td>147.0</td>\n",
       "      <td>NaN</td>\n",
       "      <td>NaN</td>\n",
       "    </tr>\n",
       "    <tr>\n",
       "      <th>max</th>\n",
       "      <td>NaN</td>\n",
       "      <td>3.052000</td>\n",
       "      <td>38.397369</td>\n",
       "      <td>47.300755</td>\n",
       "      <td>78.0</td>\n",
       "      <td>147.0</td>\n",
       "      <td>NaN</td>\n",
       "      <td>NaN</td>\n",
       "    </tr>\n",
       "  </tbody>\n",
       "</table>\n",
       "</div>"
      ],
      "text/plain": [
       "       longueur        angle       weight    precision    xPos    yPos  group  \\\n",
       "count       0.0  9387.000000  9387.000000  9387.000000  9387.0  9387.0    0.0   \n",
       "mean        NaN     3.052211    38.397591    47.303852    78.0   147.0    NaN   \n",
       "std         NaN     0.000211     0.000221     0.003098     0.0     0.0    NaN   \n",
       "min         NaN     3.052000    38.397369    47.300755    78.0   147.0    NaN   \n",
       "25%         NaN     3.052000    38.397369    47.300755    78.0   147.0    NaN   \n",
       "50%         NaN     3.052000    38.397369    47.300755    78.0   147.0    NaN   \n",
       "75%         NaN     3.052000    38.397369    47.300755    78.0   147.0    NaN   \n",
       "max         NaN     3.052000    38.397369    47.300755    78.0   147.0    NaN   \n",
       "\n",
       "       layer  \n",
       "count    0.0  \n",
       "mean     NaN  \n",
       "std      NaN  \n",
       "min      NaN  \n",
       "25%      NaN  \n",
       "50%      NaN  \n",
       "75%      NaN  \n",
       "max      NaN  "
      ]
     },
     "execution_count": 426,
     "metadata": {},
     "output_type": "execute_result"
    }
   ],
   "source": [
    "titi.describe()"
   ]
  },
  {
   "cell_type": "code",
   "execution_count": 389,
   "metadata": {
    "ExecuteTime": {
     "end_time": "2019-07-16T21:45:55.259330Z",
     "start_time": "2019-07-16T21:45:55.195421Z"
    }
   },
   "outputs": [
    {
     "ename": "AttributeError",
     "evalue": "'numpy.ndarray' object has no attribute 'describe'",
     "output_type": "error",
     "traceback": [
      "\u001b[0;31m---------------------------------------------------------------------------\u001b[0m",
      "\u001b[0;31mAttributeError\u001b[0m                            Traceback (most recent call last)",
      "\u001b[0;32m<ipython-input-389-8d29178480ca>\u001b[0m in \u001b[0;36m<module>\u001b[0;34m\u001b[0m\n\u001b[0;32m----> 1\u001b[0;31m \u001b[0mframe\u001b[0m\u001b[0;34m.\u001b[0m\u001b[0mdescribe\u001b[0m\u001b[0;34m\u001b[0m\u001b[0;34m\u001b[0m\u001b[0m\n\u001b[0m",
      "\u001b[0;31mAttributeError\u001b[0m: 'numpy.ndarray' object has no attribute 'describe'"
     ]
    }
   ],
   "source": [
    "frame.describe"
   ]
  },
  {
   "cell_type": "code",
   "execution_count": null,
   "metadata": {},
   "outputs": [],
   "source": []
  }
 ],
 "metadata": {
  "kernelspec": {
   "display_name": "Python 3",
   "language": "python",
   "name": "python3"
  },
  "language_info": {
   "codemirror_mode": {
    "name": "ipython",
    "version": 3
   },
   "file_extension": ".py",
   "mimetype": "text/x-python",
   "name": "python",
   "nbconvert_exporter": "python",
   "pygments_lexer": "ipython3",
   "version": "3.7.3"
  },
  "toc": {
   "base_numbering": 1,
   "nav_menu": {},
   "number_sections": true,
   "sideBar": true,
   "skip_h1_title": false,
   "title_cell": "Table of Contents",
   "title_sidebar": "Contents",
   "toc_cell": false,
   "toc_position": {},
   "toc_section_display": true,
   "toc_window_display": false
  },
  "varInspector": {
   "cols": {
    "lenName": 16,
    "lenType": 16,
    "lenVar": 40
   },
   "kernels_config": {
    "python": {
     "delete_cmd_postfix": "",
     "delete_cmd_prefix": "del ",
     "library": "var_list.py",
     "varRefreshCmd": "print(var_dic_list())"
    },
    "r": {
     "delete_cmd_postfix": ") ",
     "delete_cmd_prefix": "rm(",
     "library": "var_list.r",
     "varRefreshCmd": "cat(var_dic_list()) "
    }
   },
   "types_to_exclude": [
    "module",
    "function",
    "builtin_function_or_method",
    "instance",
    "_Feature"
   ],
   "window_display": false
  }
 },
 "nbformat": 4,
 "nbformat_minor": 2
}
