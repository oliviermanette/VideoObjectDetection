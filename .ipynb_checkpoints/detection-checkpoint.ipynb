{
 "cells": [
  {
   "cell_type": "markdown",
   "metadata": {},
   "source": [
    "% Video Object Detection #\n",
    "# import"
   ]
  },
  {
   "cell_type": "code",
   "execution_count": 1,
   "metadata": {
    "ExecuteTime": {
     "end_time": "2019-07-18T20:31:59.750888Z",
     "start_time": "2019-07-18T20:31:57.218303Z"
    }
   },
   "outputs": [
    {
     "name": "stdout",
     "output_type": "stream",
     "text": [
      "4.1.0\n"
     ]
    }
   ],
   "source": [
    "import cv2\n",
    "print(cv2.__version__)\n",
    "import matplotlib\n",
    "import matplotlib.pyplot as plt\n",
    "import numpy as np\n",
    "import pandas as pd\n",
    "import os\n",
    "from numba import jit"
   ]
  },
  {
   "cell_type": "markdown",
   "metadata": {},
   "source": [
    "# File selection"
   ]
  },
  {
   "cell_type": "code",
   "execution_count": 2,
   "metadata": {
    "ExecuteTime": {
     "end_time": "2019-07-18T20:31:59.758355Z",
     "start_time": "2019-07-18T20:31:59.754685Z"
    }
   },
   "outputs": [],
   "source": [
    "path = \"/Users/oliviermanette/Desktop/trailer detection challenge/data/P473_Arizona_Day_Asphalt_Close_To_Sunset_dry_Nominal_8300lx\"\n",
    "os.chdir(path)"
   ]
  },
  {
   "cell_type": "code",
   "execution_count": 3,
   "metadata": {
    "ExecuteTime": {
     "end_time": "2019-07-18T20:31:59.772221Z",
     "start_time": "2019-07-18T20:31:59.761985Z"
    }
   },
   "outputs": [
    {
     "data": {
      "text/plain": [
       "'/Users/oliviermanette/Desktop/trailer detection challenge/data/P473_Arizona_Day_Asphalt_Close_To_Sunset_dry_Nominal_8300lx'"
      ]
     },
     "execution_count": 3,
     "metadata": {},
     "output_type": "execute_result"
    }
   ],
   "source": [
    "pwd"
   ]
  },
  {
   "cell_type": "code",
   "execution_count": 4,
   "metadata": {
    "ExecuteTime": {
     "end_time": "2019-07-18T20:31:59.912411Z",
     "start_time": "2019-07-18T20:31:59.775496Z"
    }
   },
   "outputs": [
    {
     "name": "stdout",
     "output_type": "stream",
     "text": [
      "\u001b[1m\u001b[32mP473_Arizona_Day_Asphalt_Close_To_Sunset_dry_Nominal_8300lx.avi\u001b[m\u001b[m*\r\n",
      "\u001b[1m\u001b[32mP473_Arizona_Day_Asphalt_Close_To_Sunset_dry_Nominal_8300lx.dat_GT.csv\u001b[m\u001b[m*\r\n"
     ]
    }
   ],
   "source": [
    "ls"
   ]
  },
  {
   "cell_type": "code",
   "execution_count": 5,
   "metadata": {
    "ExecuteTime": {
     "end_time": "2019-07-18T20:31:59.922200Z",
     "start_time": "2019-07-18T20:31:59.917422Z"
    }
   },
   "outputs": [],
   "source": [
    "#fileName='W420_ES_Hi_Snow_Slush_Asphalt_28klux.avi'\n",
    "fileName = 'P473_Arizona_Day_Asphalt_Close_To_Sunset_dry_Nominal_8300lx.avi'"
   ]
  },
  {
   "cell_type": "markdown",
   "metadata": {},
   "source": [
    "# Test Video Loop"
   ]
  },
  {
   "cell_type": "code",
   "execution_count": 6,
   "metadata": {
    "ExecuteTime": {
     "end_time": "2019-07-18T20:32:06.538879Z",
     "start_time": "2019-07-18T20:31:59.925426Z"
    }
   },
   "outputs": [],
   "source": [
    "cap = cv2.VideoCapture(fileName)  # load the video\n",
    "while (cap.isOpened()):  # play the video by reading frame by frame\n",
    "    ret, frame = cap.read()\n",
    "    if ret == True:\n",
    "        # optional: do some image processing here\n",
    "        cv2.imshow('frame', frame)\n",
    "        # show the video\n",
    "        if cv2.waitKey(1) & 0xFF == ord('q'):\n",
    "            #if 0xFF == ord('q'):\n",
    "            break\n",
    "    else:\n",
    "        break\n",
    "cap.release()\n",
    "cv2.destroyAllWindows()"
   ]
  },
  {
   "cell_type": "markdown",
   "metadata": {},
   "source": [
    "# Variables globales\n",
    "Pour des raisons de lisibilité du code, l'ensemble des variables locales seront précédés du préfixe 'l' afin de les différencier des variables globales qui n'ont pas de préfixe.\n",
    "## Type de données de position"
   ]
  },
  {
   "cell_type": "code",
   "execution_count": 7,
   "metadata": {
    "ExecuteTime": {
     "end_time": "2019-07-18T20:32:06.549391Z",
     "start_time": "2019-07-18T20:32:06.543390Z"
    }
   },
   "outputs": [],
   "source": [
    "posType = np.dtype([('x', 'u1'), ('y', 'u2')])"
   ]
  },
  {
   "cell_type": "markdown",
   "metadata": {},
   "source": [
    "## Type de données de Neurones"
   ]
  },
  {
   "cell_type": "code",
   "execution_count": 8,
   "metadata": {
    "ExecuteTime": {
     "end_time": "2019-07-18T20:32:06.563876Z",
     "start_time": "2019-07-18T20:32:06.555556Z"
    }
   },
   "outputs": [],
   "source": [
    "NeuronType = np.dtype([('longueur', 'u1'), ('angle', 'f4'), ('weight', 'f4'),\n",
    "                       ('precision', 'f4'), ('xPos', 'u1'), ('yPos', 'u2'),\n",
    "                       ('group', 'u1'), ('layer', 'u1')])"
   ]
  },
  {
   "cell_type": "markdown",
   "metadata": {},
   "source": [
    "## Taille des champs récepteurs neuronaux"
   ]
  },
  {
   "cell_type": "code",
   "execution_count": 9,
   "metadata": {
    "ExecuteTime": {
     "end_time": "2019-07-18T20:32:06.572570Z",
     "start_time": "2019-07-18T20:32:06.568160Z"
    }
   },
   "outputs": [],
   "source": [
    "tailleField = 7"
   ]
  },
  {
   "cell_type": "markdown",
   "metadata": {},
   "source": [
    "# Fonctions\n",
    "## Calcul d'un neurone champ moyen\n",
    "A partir d'une liste de neurones, il retourne le neurone moyen"
   ]
  },
  {
   "cell_type": "code",
   "execution_count": 10,
   "metadata": {
    "ExecuteTime": {
     "end_time": "2019-07-18T20:32:06.597782Z",
     "start_time": "2019-07-18T20:32:06.580121Z"
    }
   },
   "outputs": [],
   "source": [
    "def getAvgFieldNeuron(lNeuronList, typeList=NeuronType):\n",
    "    lNeurons = np.zeros(1, dtype=typeList)\n",
    "    lpNeurons = pd.DataFrame(lNeurons)\n",
    "    lpNeurons['longueur'] = int(lNeuronList.longueur[0:1])\n",
    "    lpNeurons['angle'] = float(\n",
    "        np.sum((lNeuronList.angle * lNeuronList.weight) /\n",
    "               np.sum(lNeuronList.weight)))\n",
    "    lpNeurons['weight'] = float(\n",
    "        np.sum((lNeuronList.weight * lNeuronList.weight) /\n",
    "               np.sum(lNeuronList.weight)))\n",
    "    lpNeurons['precision'] = float(\n",
    "        np.sum((lNeuronList.precision * lNeuronList.weight) /\n",
    "               np.sum(lNeuronList.weight)))\n",
    "    lpNeurons['xPos'] = int(\n",
    "        np.sum((lNeuronList.xPos * lNeuronList.weight) /\n",
    "               np.sum(lNeuronList.weight)))\n",
    "    lpNeurons['yPos'] = int(\n",
    "        np.sum((lNeuronList.yPos * lNeuronList.weight) /\n",
    "               np.sum(lNeuronList.weight)))\n",
    "    return lpNeurons"
   ]
  },
  {
   "cell_type": "markdown",
   "metadata": {},
   "source": [
    "## Matrice des directions\n",
    "Afin de faciliter le calcul des angles des pixels, une matrice de poids est générée afin d'appliquer à chaque pixel centré sur un champs récepteur un poids correspondant à l'angle d'une ligne passant par ce centre.\n",
    "Voici comment les angles sont représentés <br> <b>IMAGE</b>"
   ]
  },
  {
   "cell_type": "code",
   "execution_count": 11,
   "metadata": {
    "ExecuteTime": {
     "end_time": "2019-07-18T20:32:06.686555Z",
     "start_time": "2019-07-18T20:32:06.609054Z"
    }
   },
   "outputs": [],
   "source": [
    "@jit(nopython=True, parallel=True)\n",
    "def fillAngleMat(lSize):\n",
    "    lOutput = np.zeros((lSize, lSize))\n",
    "    lOffset = int(np.floor(lSize / 2))\n",
    "    for lX in range(0, lSize):\n",
    "        for lY in range(0, lSize):\n",
    "            if (lX - lOffset) == 0:\n",
    "                lOutput[lX, lY] = 90\n",
    "            else:\n",
    "                lOutput[lX, lY] = 0.01 + np.around(\n",
    "                    np.arctan((lY - lOffset) / (lOffset - lX)) / pi * 180, 2)\n",
    "    lOutput[lOffset, lOffset] = 0\n",
    "    return lOutput"
   ]
  },
  {
   "cell_type": "markdown",
   "metadata": {},
   "source": [
    "## Fonction d'activation des neurones\n",
    "Chaque neurone retourne une valeur comprise entre 0 et 255 qui reflète son niveau d'activation. Cette activation reflète le niveau de confiance que le neurone a sur le lien existant entre sa fonction de base et les pixels reçus dans son champs récepteur. Plus les pixels sont organisés de façon à former une ligne avec l'angle correspondant à la fonction de base du neurone et plus ce dernier sera activé. Comme on ne souhaite pas obtenir une activation de valeur infinie, on utilise donc une fonction sigmoide qui s'applique à l'écart-type des angles supposés. "
   ]
  },
  {
   "cell_type": "code",
   "execution_count": 12,
   "metadata": {
    "ExecuteTime": {
     "end_time": "2019-07-18T20:32:06.700477Z",
     "start_time": "2019-07-18T20:32:06.690164Z"
    }
   },
   "outputs": [],
   "source": [
    "@jit(nopython=True, parallel=True)\n",
    "def sigmoidActivationFctN1(lActivationVector):\n",
    "    lDenom = (1 + np.exp(0.1 * (np.abs(np.std(lActivationVector)) - 30)))\n",
    "    return 255 / lDenom"
   ]
  },
  {
   "cell_type": "markdown",
   "metadata": {},
   "source": [
    "## Création d'une liste de neurones à champs récepteurs"
   ]
  },
  {
   "cell_type": "code",
   "execution_count": 13,
   "metadata": {
    "ExecuteTime": {
     "end_time": "2019-07-18T20:32:06.736713Z",
     "start_time": "2019-07-18T20:32:06.704853Z"
    }
   },
   "outputs": [],
   "source": [
    "#@jit(nopython=True, parallel=True)\n",
    "def getNeuronActivationList(idxX, idxY, size, frameE, nbPixelPts, layer=1):\n",
    "    #commencer par créer le tableau de neurones\n",
    "    lNeuronType = np.dtype([('longueur', 'u1'), ('angle', 'f4'),\n",
    "                            ('weight', 'f4'), ('precision', 'f4'),\n",
    "                            ('xPos', 'u1'), ('yPos', 'u2'), ('group', 'u1')])\n",
    "\n",
    "    lCriterion = nbPixelPts > size\n",
    "\n",
    "    nbNeurons = sum(lCriterion)\n",
    "    lNeurons = np.zeros(nbNeurons, dtype=lNeuronType)\n",
    "    lpNeurons = pd.DataFrame(lNeurons)\n",
    "    lpNeurons['longueur'] = size\n",
    "    lpNeurons['layer'] = layer\n",
    "\n",
    "    offsetField = int(np.floor(size / 2))\n",
    "    lAngleMat = fillAngleMat(size)\n",
    "\n",
    "    newX = idxX[lCriterion]\n",
    "    newY = idxY[lCriterion]\n",
    "    print(\"size :\" + str(len(newX)))\n",
    "\n",
    "    print(\"newX\")\n",
    "    print(np.min(newX))\n",
    "    print(np.max(newX))\n",
    "    print(\"newY\")\n",
    "    print(np.min(newY))\n",
    "    print(np.max(newY))\n",
    "    print()\n",
    "    pos = 0\n",
    "    lnPos = 0\n",
    "    for lintX in newX:\n",
    "        lintY = newY[pos]\n",
    "\n",
    "        lNeuronFieldFrame = frameE[\n",
    "            int(lintX - offsetField):int(lintX + offsetField + 1),\n",
    "            int(lintY - offsetField):int(lintY + offsetField + 1)] / 255\n",
    "\n",
    "        tmp = np.multiply(lAngleMat, lNeuronFieldFrame)\n",
    "\n",
    "        lNeuronFieldValues = tmp[np.nonzero(tmp)]\n",
    "        if (lNeuronFieldValues.size > 0):\n",
    "            lpNeurons.loc[pos, ['angle']] = np.mean(lNeuronFieldValues)\n",
    "            lpNeurons.loc[pos, ['weight']] = sigmoidActivationFctN1(\n",
    "                lNeuronFieldValues)\n",
    "            lpNeurons.loc[pos, ['precision']] = np.std(lNeuronFieldValues)\n",
    "            lpNeurons.loc[pos, ['xPos']] = lintX\n",
    "            lpNeurons.loc[pos, ['yPos']] = lintY\n",
    "\n",
    "            lnPos += 1\n",
    "        else:\n",
    "            True  #print (\"error it shouldn't be zero\")\n",
    "        pos += 1\n",
    "    print(\"nb de positions couvertes : \" + str(lnPos) + \" sur \" + str(pos))\n",
    "\n",
    "    return lpNeurons\n",
    "    #return idxY"
   ]
  },
  {
   "cell_type": "markdown",
   "metadata": {},
   "source": [
    "## Nombre de pixels actifs dans chaque champs récepteur\n",
    "A partir des coordonnées des centres supposés de chaque champs récepteurs et de la taille du champs récepteur, recherche sur la frame bitmap passée en paramètres, retourne un tableau contenant le nombre de pixels allumés à l'intérieur de chacun de ces champs."
   ]
  },
  {
   "cell_type": "code",
   "execution_count": 14,
   "metadata": {
    "ExecuteTime": {
     "end_time": "2019-07-18T20:32:06.758771Z",
     "start_time": "2019-07-18T20:32:06.742871Z"
    }
   },
   "outputs": [],
   "source": [
    "@jit(nopython=True, parallel=True)\n",
    "def nbPixelField(lTableX, lTableY, lFrameEdge, lintTailleField=3):\n",
    "    lIdx = 0\n",
    "    lResults = np.zeros(lTableX.size)\n",
    "    lRayon = np.floor(lintTailleField / 2)\n",
    "    lTailleMaxX = lFrameEdge.shape[0]\n",
    "    #lTailleMaxY = lFrameEdge.shape[1]\n",
    "    lHalfX = lTailleMaxX / 3\n",
    "\n",
    "    for lPosX in lTableX:\n",
    "        lPosY = lTableY[lIdx]\n",
    "        if lPosX > lHalfX and lPosX >= lRayon and (lPosX +\n",
    "                                                   lRayon) < lTailleMaxX:\n",
    "            lResults[lIdx] = np.sum(\n",
    "                lFrameEdge[int(lPosX - lRayon):int(lPosX + lRayon + 1),\n",
    "                           int(lPosY - lRayon):int(lPosY + lRayon + 1)] / 255)\n",
    "        lIdx += 1\n",
    "    return lResults"
   ]
  },
  {
   "cell_type": "code",
   "execution_count": 15,
   "metadata": {
    "ExecuteTime": {
     "end_time": "2019-07-18T20:32:06.772696Z",
     "start_time": "2019-07-18T20:32:06.762139Z"
    }
   },
   "outputs": [],
   "source": [
    "#@jit(nopython=True, parallel=True)\n",
    "def getNonZero(LImg):\n",
    "    return np.where(LImg != [0])"
   ]
  },
  {
   "cell_type": "markdown",
   "metadata": {},
   "source": [
    "## Retourne les coordonnées du centre d'un champs récepteur neuronal"
   ]
  },
  {
   "cell_type": "code",
   "execution_count": 16,
   "metadata": {
    "ExecuteTime": {
     "end_time": "2019-07-18T20:32:06.798795Z",
     "start_time": "2019-07-18T20:32:06.776862Z"
    }
   },
   "outputs": [],
   "source": [
    "def getNFCoordinate(lNeurone):\n",
    "    try:\n",
    "        lintDist = int(np.floor(lNeurone.longueur / 2))\n",
    "    except:\n",
    "        lP1 = (0, 0)\n",
    "        lP2 = (0, 0)\n",
    "        return (lP1, lP2)\n",
    "    if np.abs(lNeurone.angle / 180 * np.pi) < 45:\n",
    "        lAlpha = lNeurone.angle / 180 * pi\n",
    "        lintX1 = np.around(lNeurone.xPos - lintDist * np.tan(lAlpha))\n",
    "        lintY1 = lNeurone.yPos + lintDist\n",
    "        lintX2 = np.around(lNeurone.xPos + lintDist * np.tan(lAlpha))\n",
    "        lintY2 = lNeurone.yPos - lintDist\n",
    "    else:\n",
    "        lAlpha = 90 - lNeurone.angle / 180 * pi\n",
    "        lintY1 = np.around(lNeurone.yPos - lintDist * np.tan(lAlpha))\n",
    "        lintX1 = lNeurone.xPos - lintDist\n",
    "        lintY2 = np.around(lNeurone.yPos + lintDist * np.tan(lAlpha))\n",
    "        lintX1 = lNeurone.xPos + lintDist\n",
    "    lP1 = (int(lintY1), int(lintX1))\n",
    "    lP2 = (int(lintY2), int(lintX2))\n",
    "    return lP1, lP2"
   ]
  },
  {
   "cell_type": "markdown",
   "metadata": {},
   "source": [
    "## Calcule la distance entre deux points"
   ]
  },
  {
   "cell_type": "code",
   "execution_count": 17,
   "metadata": {
    "ExecuteTime": {
     "end_time": "2019-07-18T20:32:06.812207Z",
     "start_time": "2019-07-18T20:32:06.802081Z"
    }
   },
   "outputs": [],
   "source": [
    "def getDistance(lx1, ly1, lx2, ly2):\n",
    "    return np.sqrt(\n",
    "        np.power(np.abs(lx1 - lx2), 2) + np.power(np.abs(ly1 - ly2), 2))"
   ]
  },
  {
   "cell_type": "markdown",
   "metadata": {},
   "source": [
    "## Retourne les neurones les plus proches d'un point"
   ]
  },
  {
   "cell_type": "code",
   "execution_count": 18,
   "metadata": {
    "ExecuteTime": {
     "end_time": "2019-07-18T20:32:06.825428Z",
     "start_time": "2019-07-18T20:32:06.815646Z"
    }
   },
   "outputs": [],
   "source": [
    "def closestFieldNeurons(lneuronList, lposX, lposY, ldistance):\n",
    "    return lneuronList[(lneuronList.xPos > lposX - ldistance)\n",
    "                       & (lneuronList.xPos < lposX + ldistance) &\n",
    "                       (lneuronList.yPos > lposY - ldistance) &\n",
    "                       (lneuronList.yPos < lposY + ldistance)]"
   ]
  },
  {
   "cell_type": "markdown",
   "metadata": {},
   "source": [
    "## Dessine les fonctions de base des neurones sur un bitmap"
   ]
  },
  {
   "cell_type": "code",
   "execution_count": 19,
   "metadata": {
    "ExecuteTime": {
     "end_time": "2019-07-18T20:32:06.839400Z",
     "start_time": "2019-07-18T20:32:06.829962Z"
    }
   },
   "outputs": [],
   "source": [
    "def drawFieldNeurons(lNeuronList, lBitmap):\n",
    "    for index, lNeuron in lNeuronList.iterrows():\n",
    "        #for lNeuron in lNeuronList:\n",
    "        lCoord = getNFCoordinate(lNeuron)\n",
    "        #print(lNeuron)\n",
    "        try:\n",
    "            cv2.line(lBitmap, lCoord[0], lCoord[1], (int(\n",
    "                lNeuron.weight), int(lNeuron.weight), int(lNeuron.weight)), 1)\n",
    "        except:\n",
    "            True\n",
    "    return lBitmap"
   ]
  },
  {
   "cell_type": "markdown",
   "metadata": {
    "ExecuteTime": {
     "end_time": "2019-07-18T17:53:27.662094Z",
     "start_time": "2019-07-18T17:53:27.647097Z"
    }
   },
   "source": [
    "## Find neuronal groups\n",
    "Un groupe neuronal est un ensemble de neurone dont les champs récepteurs sont complémentaires les uns des autres. Pour faire  partie d'un champs récepteur, deux conditions doivent être réunies.\n",
    "<b>(A compléter)</b>\n",
    "### Translation\n",
    "Retourne les coordonnées d'un point translaté d'une certaine distance avec un certain angle. Cette fonction demande un angle, une distance et les coordonnées d'un point de départ. Il retourne ensuite les coordonnées après translation."
   ]
  },
  {
   "cell_type": "code",
   "execution_count": 20,
   "metadata": {
    "ExecuteTime": {
     "end_time": "2019-07-18T20:32:06.850576Z",
     "start_time": "2019-07-18T20:32:06.842449Z"
    }
   },
   "outputs": [],
   "source": [
    "#@jit(nopython=True, parallel=True)\n",
    "def moveCoordDeg(langle, lstartX, lstartY, ldistance):\n",
    "    ltipX = lstartX + ldistance * np.sin(langle / 180 * pi)\n",
    "    ltipY = lstartY - ldistance * np.cos(langle / 180 * pi)\n",
    "    return ltipX, ltipY"
   ]
  },
  {
   "cell_type": "markdown",
   "metadata": {},
   "source": [
    "Effectue le même calcul que la fonction <i>moveCoordDeg </i>  mais prend comme paramètre un neurone. Il effectue la translation en prenant comme point de départ le centre du champs récepteur et effectue un déplacement de la taille de ce champs dans la direction de la fonction de base. "
   ]
  },
  {
   "cell_type": "code",
   "execution_count": 21,
   "metadata": {
    "ExecuteTime": {
     "end_time": "2019-07-18T20:32:06.860123Z",
     "start_time": "2019-07-18T20:32:06.853461Z"
    }
   },
   "outputs": [],
   "source": [
    "def getNextPosition(lneuroneMoyen):\n",
    "    return moveCoordDeg(float(lneuroneMoyen.angle), int(lneuroneMoyen.xPos),\n",
    "                        int(lneuroneMoyen.yPos), int(lneuroneMoyen.longueur))"
   ]
  },
  {
   "cell_type": "markdown",
   "metadata": {},
   "source": [
    "### Calcul des  groupes à partir d'une liste de neurones à champs récepteurs"
   ]
  },
  {
   "cell_type": "code",
   "execution_count": 22,
   "metadata": {
    "ExecuteTime": {
     "end_time": "2019-07-18T20:32:06.892698Z",
     "start_time": "2019-07-18T20:32:06.868192Z"
    }
   },
   "outputs": [],
   "source": [
    "def findGroups(lneuronList):\n",
    "    # Sélection d'un nouveau numéro de Groupe (GroupID)\n",
    "    lintCurrentGroupID = 0\n",
    "    lintNbGroups = 0\n",
    "    lIndex = 0\n",
    "\n",
    "    # liste des neurones sans groupe\n",
    "    lNoGroupList = lneuronList[lneuronList.group == 0]\n",
    "\n",
    "    while lNoGroupList.shape[0] > 0:\n",
    "\n",
    "        #Sélection d'un neurone dans la liste (ceux sans groupID ou groupID=0)\n",
    "        lMoyenNeuron = lNoGroupList.iloc[0]\n",
    "        lIndex = lNoGroupList.head().index.values[0]\n",
    "\n",
    "        while True:\n",
    "            #Assignation d'un nouveau numéro de GroupID en cours\n",
    "            lintNbGroups += 1\n",
    "            lintCurrentGroupID += 1\n",
    "            if lneuronList[lneuronList.group ==\n",
    "                           lintCurrentGroupID].shape[0] == 0:\n",
    "                break\n",
    "\n",
    "        lneuronList.loc[lIndex, ['group']] = lintCurrentGroupID\n",
    "\n",
    "        #déplacement\n",
    "        lnPos = getNextPosition(lMoyenNeuron)\n",
    "\n",
    "        #recherche de neurones proches\n",
    "        lClosestNeurons = closestFieldNeurons(\n",
    "            lneuronList, lnPos[0], lnPos[1],\n",
    "            int(np.floor(lMoyenNeuron.longueur / 2)))\n",
    "\n",
    "        #Oui ==> retour étape 1\n",
    "        while lClosestNeurons.shape[0] != 0:\n",
    "            #recherche des groupID dans cette sous-sélection\n",
    "            if lClosestNeurons[lClosestNeurons.group > 0].shape[0] == 0:\n",
    "                #Non => Assigner à tous les neurones de la sous-sélection\n",
    "                #le groupID en cours => aller directement à l'étape 7\n",
    "                for lintIdx in lClosestNeurons.head().index.values:\n",
    "                    lneuronList.loc[lintIdx, ['group']] = lintCurrentGroupID\n",
    "            else:\n",
    "                #Oui\n",
    "                #Récupération de la liste de tous les groupID utilisés\n",
    "                #Sélection du groupID le plus petit\n",
    "                #(en comparant aussi avec le groupID en cours)\n",
    "                lintPreviousGroupID = lintCurrentGroupID\n",
    "                lintCurrentGroupID = np.min(\n",
    "                    lClosestNeurons[lClosestNeurons.group > 0].group)\n",
    "                #Assigner à tous les neurones de la sous-sélection ce nouveau groupID\n",
    "                for lintIdx in lClosestNeurons.head().index.values:\n",
    "                    lneuronList.loc[lintIdx, ['group']] = lintCurrentGroupID\n",
    "                    #remplacer dans la liste globale,\n",
    "                    #pour chaque groupID présent dans la liste par le nouveau groupID\n",
    "                    for lintGroupID in lClosestNeurons[\n",
    "                            lClosestNeurons.group > 0].group:\n",
    "                        lneuronList.loc[lneuronList.group == lintGroupID,\n",
    "                                        'group'] = lintCurrentGroupID\n",
    "                if lintPreviousGroupID == lintCurrentGroupID:\n",
    "                    #si tous les neurones\n",
    "                    if lClosestNeurons[lClosestNeurons.group >\n",
    "                                       0].shape[0] == lClosestNeurons[\n",
    "                                           lClosestNeurons.group ==\n",
    "                                           lintPreviousGroupID].shape[0]:\n",
    "                        break  # sortie de la boucle while\n",
    "            #Calcul du neurone Field moyen\n",
    "            lMoyenNeuron = getAvgFieldNeuron(lClosestNeurons)\n",
    "            #déplacement\n",
    "            lnPos = getNextPosition(lMoyenNeuron)\n",
    "\n",
    "            #recherche de neurones proches\n",
    "            lClosestNeurons = closestFieldNeurons(\n",
    "                lneuronList, lnPos[0], lnPos[1],\n",
    "                int(np.floor(lMoyenNeuron.longueur / 2)))\n",
    "\n",
    "        lNoGroupList = lneuronList[lneuronList.group == 0]\n",
    "    return lneuronList"
   ]
  },
  {
   "cell_type": "markdown",
   "metadata": {},
   "source": [
    "# Video Loop"
   ]
  },
  {
   "cell_type": "code",
   "execution_count": 23,
   "metadata": {
    "ExecuteTime": {
     "end_time": "2019-07-18T20:32:11.947619Z",
     "start_time": "2019-07-18T20:32:06.897765Z"
    }
   },
   "outputs": [],
   "source": [
    "kernelSize = 21  # Kernel Bluring size\n",
    "\n",
    "# Edge Detection Parameter\n",
    "parameter1 = 20\n",
    "parameter2 = 40\n",
    "intApertureSize = 1\n",
    "\n",
    "#cap = cv2.VideoCapture(0)\n",
    "cap = cv2.VideoCapture(fileName)\n",
    "lCounter = 0\n",
    "while (cap.isOpened()):\n",
    "    # Capture frame-by-frame\n",
    "    ret, frame = cap.read()\n",
    "    if ret == True:\n",
    "        # Our operations on the frame come here\n",
    "        if lCounter == 1:\n",
    "            frame = cv2.GaussianBlur(frame, (kernelSize, kernelSize), 0, 0)\n",
    "            frame = cv2.Canny(frame, parameter1, parameter2,\n",
    "                              intApertureSize)  # Canny edge detection\n",
    "            lCounter = 0\n",
    "        lCounter += 1\n",
    "\n",
    "        indices = np.where(frame != [0])\n",
    "        # Display the resulting frame\n",
    "        cv2.imshow('Edges Video', frame)\n",
    "        if cv2.waitKey(1) & 0xFF == ord('q'):  # press q to quit\n",
    "            break\n",
    "    else:\n",
    "        break\n",
    "# When everything done, release the capture\n",
    "cap.release()\n",
    "cv2.destroyAllWindows()"
   ]
  },
  {
   "cell_type": "markdown",
   "metadata": {},
   "source": [
    "# Sandbox\n",
    "## Generate Toy data"
   ]
  },
  {
   "cell_type": "code",
   "execution_count": 172,
   "metadata": {
    "ExecuteTime": {
     "end_time": "2019-07-19T09:23:31.625436Z",
     "start_time": "2019-07-19T09:23:31.599572Z"
    }
   },
   "outputs": [
    {
     "ename": "IndentationError",
     "evalue": "unindent does not match any outer indentation level (<tokenize>, line 29)",
     "output_type": "error",
     "traceback": [
      "\u001b[0;36m  File \u001b[0;32m\"<tokenize>\"\u001b[0;36m, line \u001b[0;32m29\u001b[0m\n\u001b[0;31m    (int(lLargeur / 128 * 107), int(lHauteur / 80 * 40)),\u001b[0m\n\u001b[0m    ^\u001b[0m\n\u001b[0;31mIndentationError\u001b[0m\u001b[0;31m:\u001b[0m unindent does not match any outer indentation level\n"
     ]
    }
   ],
   "source": [
    "def generateToy(lType=1, lHauteur=80, lLargeur=128,lepaisseur=1):\n",
    "    lFrame = 0\n",
    "    if lType == 1:\n",
    "        lFrame = np.zeros((lHauteur, lLargeur))\n",
    "        lFrame[:, int((lLargeur-lepaisseur) / 2):int((lLargeur+lepaisseur) / 2)] = 255\n",
    "    elif lType == 2:\n",
    "        lFrame = np.zeros((lHauteur, lLargeur))\n",
    "        lFrame[int((lHauteur-lepaisseur) / 2):int((lHauteur+lepaisseur)/2), :] = 255\n",
    "    elif lType == 3:\n",
    "        lFrame = np.zeros((lHauteur, lLargeur))\n",
    "        cv2.line(lFrame, (int(lLargeur / 3), lHauteur),\n",
    "                 (int(2 * lLargeur / 3), 0), (255, 255, 255), lepaisseur)\n",
    "    elif lType == 4:\n",
    "        lFrame = np.zeros((lHauteur, lLargeur))\n",
    "        cv2.rectangle(lFrame,\n",
    "                      (int(lLargeur / 128 * 10), int(lHauteur / 80 * 30)),\n",
    "                      (int(lLargeur / 128 * 30), int(lHauteur / 80 * 50)),\n",
    "                      (255, 255, 255), lepaisseur)\n",
    "        pts = np.array([[int(lLargeur / 128 *64),\n",
    "                         int(lHauteur / 80 * 30)],\n",
    "                        [int(lLargeur / 128 * 76),\n",
    "                         int(lHauteur / 80 * 50)],\n",
    "                        [int(lLargeur / 128 * 53),\n",
    "                         int(lHauteur / 80 *50)]], np.int32)\n",
    "        ts = pts.reshape((-1, 1, 2))\n",
    "        cv2.polylines(lFrame, [pts], True, (255, 255, 255), lepaisseur)\n",
    "        cv2.circle(lFrame,\n",
    "                   (int(lLargeur / 128 * 107), int(lHauteur / 80 * 40)),\n",
    "                   int(lHauteur / 80 * 10), (255, 255, 255), lepaisseur)\n",
    "    else:\n",
    "        lFrame = np.zeros((lHauteur, lLargeur))\n",
    "    return lFrame"
   ]
  },
  {
   "cell_type": "code",
   "execution_count": 170,
   "metadata": {
    "ExecuteTime": {
     "end_time": "2019-07-19T09:22:56.322579Z",
     "start_time": "2019-07-19T09:22:56.115242Z"
    }
   },
   "outputs": [
    {
     "data": {
      "image/png": "[encoded data removed]",
      "text/plain": [
       "<Figure size 432x288 with 1 Axes>"
      ]
     },
     "metadata": {
      "needs_background": "light"
     },
     "output_type": "display_data"
    }
   ],
   "source": [
    "frame = generateToy(2,80,128,1)\n",
    "imgplot = plt.imshow(frame)"
   ]
  },
  {
   "cell_type": "markdown",
   "metadata": {},
   "source": [
    "## Playground"
   ]
  },
  {
   "cell_type": "code",
   "execution_count": 96,
   "metadata": {
    "ExecuteTime": {
     "end_time": "2019-07-19T08:43:22.133789Z",
     "start_time": "2019-07-19T08:43:22.125010Z"
    }
   },
   "outputs": [
    {
     "data": {
      "text/plain": [
       "42.666666666666664"
      ]
     },
     "execution_count": 96,
     "metadata": {},
     "output_type": "execute_result"
    }
   ],
   "source": [
    "128/3"
   ]
  },
  {
   "cell_type": "code",
   "execution_count": 80,
   "metadata": {
    "ExecuteTime": {
     "end_time": "2019-07-19T08:33:57.780048Z",
     "start_time": "2019-07-19T08:33:57.765253Z"
    }
   },
   "outputs": [
    {
     "data": {
      "text/plain": [
       "(80, 128)"
      ]
     },
     "execution_count": 80,
     "metadata": {},
     "output_type": "execute_result"
    }
   ],
   "source": [
    "frame.shape"
   ]
  },
  {
   "cell_type": "code",
   "execution_count": 25,
   "metadata": {
    "ExecuteTime": {
     "end_time": "2019-07-18T20:32:11.994801Z",
     "start_time": "2019-07-18T20:32:11.971195Z"
    }
   },
   "outputs": [
    {
     "data": {
      "text/plain": [
       "255"
      ]
     },
     "execution_count": 25,
     "metadata": {},
     "output_type": "execute_result"
    }
   ],
   "source": [
    "frame.max()"
   ]
  },
  {
   "cell_type": "code",
   "execution_count": 26,
   "metadata": {
    "ExecuteTime": {
     "end_time": "2019-07-18T20:32:12.019855Z",
     "start_time": "2019-07-18T20:32:11.998263Z"
    }
   },
   "outputs": [],
   "source": [
    "indices = np.where(frame != [0])"
   ]
  },
  {
   "cell_type": "code",
   "execution_count": 27,
   "metadata": {
    "ExecuteTime": {
     "end_time": "2019-07-18T20:32:12.036905Z",
     "start_time": "2019-07-18T20:32:12.025243Z"
    }
   },
   "outputs": [],
   "source": [
    "tata =  getNonZero(frame)"
   ]
  },
  {
   "cell_type": "code",
   "execution_count": 28,
   "metadata": {
    "ExecuteTime": {
     "end_time": "2019-07-18T20:32:12.047065Z",
     "start_time": "2019-07-18T20:32:12.040944Z"
    }
   },
   "outputs": [],
   "source": [
    "coordinates = zip(indices[0], indices[1])"
   ]
  },
  {
   "cell_type": "code",
   "execution_count": 29,
   "metadata": {
    "ExecuteTime": {
     "end_time": "2019-07-18T20:32:12.059767Z",
     "start_time": "2019-07-18T20:32:12.050447Z"
    }
   },
   "outputs": [
    {
     "data": {
      "text/plain": [
       "9517"
      ]
     },
     "execution_count": 29,
     "metadata": {},
     "output_type": "execute_result"
    }
   ],
   "source": [
    "indices[1].size"
   ]
  },
  {
   "cell_type": "code",
   "execution_count": 30,
   "metadata": {
    "ExecuteTime": {
     "end_time": "2019-07-18T20:32:12.070838Z",
     "start_time": "2019-07-18T20:32:12.062837Z"
    }
   },
   "outputs": [
    {
     "data": {
      "text/plain": [
       "array([145, 146, 147, 148, 149, 150, 141, 142, 143, 144, 151, 140, 136,\n",
       "       137, 138, 139, 152, 135, 136, 150, 152, 134, 135, 150, 153, 152,\n",
       "       132, 133, 152, 132, 152, 131, 151, 131, 152, 130, 152, 130, 151,\n",
       "       129, 150, 129, 150, 129, 151, 129, 151, 128, 152, 128, 152, 128,\n",
       "       151, 128, 151, 129, 151, 129, 151, 129, 129, 130, 151, 152, 130,\n",
       "       150, 151, 130, 131, 149, 150, 131, 145, 148, 149, 131, 132, 139,\n",
       "       140, 141, 142, 143, 144, 147, 132, 133, 134, 138, 147, 133, 135,\n",
       "       136, 137, 149, 149, 149, 149, 149, 149, 148])"
      ]
     },
     "execution_count": 30,
     "metadata": {},
     "output_type": "execute_result"
    }
   ],
   "source": [
    "indices[1][0:100]"
   ]
  },
  {
   "cell_type": "code",
   "execution_count": 31,
   "metadata": {
    "ExecuteTime": {
     "end_time": "2019-07-18T20:32:12.309388Z",
     "start_time": "2019-07-18T20:32:12.075162Z"
    }
   },
   "outputs": [
    {
     "data": {
      "image/png": "[encoded data removed]",
      "text/plain": [
       "<Figure size 432x288 with 1 Axes>"
      ]
     },
     "metadata": {
      "needs_background": "light"
     },
     "output_type": "display_data"
    }
   ],
   "source": [
    "fig, ax = plt.subplots()\n",
    "#s = pow(0.75,t)\n",
    "ax.plot(indices[1][0:300],indices[0][0:300])\n",
    "#ax.set(xlabel='time (s)', ylabel='voltage (mV)',\n",
    "#       title='About as simple as it gets, folks')\n",
    "ax.grid()\n",
    "\n",
    "#fig.savefig(\"test.png\")\n",
    "plt.show()"
   ]
  },
  {
   "cell_type": "code",
   "execution_count": 32,
   "metadata": {
    "ExecuteTime": {
     "end_time": "2019-07-18T20:32:12.319937Z",
     "start_time": "2019-07-18T20:32:12.312699Z"
    }
   },
   "outputs": [
    {
     "name": "stdout",
     "output_type": "stream",
     "text": [
      "[78 78 78 78 79 79 80 80 80 80 80 81 82 82 82 82 82 83 83 83 83 84 84 84\n",
      " 85 86 87 87 87 88],[145 146 147 148 149 150 141 142 143 144 151 140 136 137 138 139 152 135\n",
      " 136 150 152 134 135 150 153 152 132 133 152 132]\n"
     ]
    }
   ],
   "source": [
    "print(str(indices[0][0:30])+','+str(indices[1][0:30]))"
   ]
  },
  {
   "cell_type": "code",
   "execution_count": 33,
   "metadata": {
    "ExecuteTime": {
     "end_time": "2019-07-18T20:32:14.032791Z",
     "start_time": "2019-07-18T20:32:12.324575Z"
    }
   },
   "outputs": [
    {
     "data": {
      "text/plain": [
       "2008"
      ]
     },
     "execution_count": 33,
     "metadata": {},
     "output_type": "execute_result"
    }
   ],
   "source": [
    "tailleField = 3;#must be odd\n",
    "nbPixelsAll = nbPixelField(indices[0], indices[1], frame, tailleField);\n",
    "toto = nbPixelsAll > tailleField\n",
    "sum(toto)"
   ]
  },
  {
   "cell_type": "code",
   "execution_count": 34,
   "metadata": {
    "ExecuteTime": {
     "end_time": "2019-07-18T20:32:14.047200Z",
     "start_time": "2019-07-18T20:32:14.036945Z"
    }
   },
   "outputs": [
    {
     "data": {
      "text/plain": [
       "array([0., 0., 0., ..., 4., 4., 3.])"
      ]
     },
     "execution_count": 34,
     "metadata": {},
     "output_type": "execute_result"
    }
   ],
   "source": [
    "nbPixelsAll"
   ]
  },
  {
   "cell_type": "code",
   "execution_count": 35,
   "metadata": {
    "ExecuteTime": {
     "end_time": "2019-07-18T20:32:14.063047Z",
     "start_time": "2019-07-18T20:32:14.051293Z"
    }
   },
   "outputs": [
    {
     "data": {
      "text/plain": [
       "17.0"
      ]
     },
     "execution_count": 35,
     "metadata": {},
     "output_type": "execute_result"
    }
   ],
   "source": [
    "from numpy import pi\n",
    "5-4*np.tan(np.arctan(-3/1))"
   ]
  },
  {
   "cell_type": "code",
   "execution_count": 36,
   "metadata": {
    "ExecuteTime": {
     "end_time": "2019-07-18T20:32:14.078619Z",
     "start_time": "2019-07-18T20:32:14.067856Z"
    }
   },
   "outputs": [
    {
     "data": {
      "text/plain": [
       "15.666666666666666"
      ]
     },
     "execution_count": 36,
     "metadata": {},
     "output_type": "execute_result"
    }
   ],
   "source": [
    "13-4*np.tan(np.arctan(-2/3))"
   ]
  },
  {
   "cell_type": "code",
   "execution_count": 37,
   "metadata": {
    "ExecuteTime": {
     "end_time": "2019-07-18T20:32:14.802125Z",
     "start_time": "2019-07-18T20:32:14.083181Z"
    }
   },
   "outputs": [],
   "source": [
    "angleMat = fillAngleMat(7)"
   ]
  },
  {
   "cell_type": "code",
   "execution_count": 38,
   "metadata": {
    "ExecuteTime": {
     "end_time": "2019-07-18T20:32:14.818558Z",
     "start_time": "2019-07-18T20:32:14.804944Z"
    }
   },
   "outputs": [
    {
     "data": {
      "text/plain": [
       "array([[-45., -34., -18.,   0.,  18.,  34.,  45.],\n",
       "       [-56., -45., -27.,   0.,  27.,  45.,  56.],\n",
       "       [-72., -63., -45.,   0.,  45.,  63.,  72.],\n",
       "       [ 90.,  90.,  90.,   0.,  90.,  90.,  90.],\n",
       "       [ 72.,  63.,  45.,   0., -45., -63., -72.],\n",
       "       [ 56.,  45.,  27.,   0., -27., -45., -56.],\n",
       "       [ 45.,  34.,  18.,   0., -18., -34., -45.]])"
      ]
     },
     "execution_count": 38,
     "metadata": {},
     "output_type": "execute_result"
    }
   ],
   "source": [
    "np.around(angleMat)"
   ]
  },
  {
   "cell_type": "code",
   "execution_count": 39,
   "metadata": {
    "ExecuteTime": {
     "end_time": "2019-07-18T20:32:14.845710Z",
     "start_time": "2019-07-18T20:32:14.827109Z"
    }
   },
   "outputs": [],
   "source": [
    "posX=indices[0][257]\n",
    "posY=indices[1][257]\n",
    "titi = frame[int(posX - tailleField):int(posX + tailleField + 1),\n",
    "                        int(posY - tailleField):int(posY + tailleField + 1)]/255"
   ]
  },
  {
   "cell_type": "code",
   "execution_count": 40,
   "metadata": {
    "ExecuteTime": {
     "end_time": "2019-07-18T20:32:14.873581Z",
     "start_time": "2019-07-18T20:32:14.848268Z"
    }
   },
   "outputs": [
    {
     "data": {
      "text/plain": [
       "20.311428571428568"
      ]
     },
     "execution_count": 40,
     "metadata": {},
     "output_type": "execute_result"
    }
   ],
   "source": [
    "test = np.multiply(angleMat,titi)\n",
    "test2 = test[np.nonzero(test)]\n",
    "np.mean(test2)"
   ]
  },
  {
   "cell_type": "code",
   "execution_count": 41,
   "metadata": {
    "ExecuteTime": {
     "end_time": "2019-07-18T20:32:14.898004Z",
     "start_time": "2019-07-18T20:32:14.877588Z"
    }
   },
   "outputs": [
    {
     "data": {
      "text/plain": [
       "array([[ -0.  ,  -0.  ,  -0.  ,   0.  ,   0.  ,  33.7 ,   0.  ],\n",
       "       [ -0.  ,  -0.  ,  -0.  ,   0.  ,   0.  ,  45.01,   0.  ],\n",
       "       [ -0.  ,  -0.  ,  -0.  ,   0.  ,   0.  ,  63.44,   0.  ],\n",
       "       [  0.  ,   0.  ,   0.  ,   0.  ,   0.  ,  90.  ,   0.  ],\n",
       "       [  0.  ,   0.  ,   0.  ,   0.  , -44.99,  -0.  ,  -0.  ],\n",
       "       [  0.  ,   0.  ,   0.  ,   0.  , -26.56,  -0.  ,  -0.  ],\n",
       "       [  0.  ,   0.  ,   0.  ,   0.  , -18.42,  -0.  ,  -0.  ]])"
      ]
     },
     "execution_count": 41,
     "metadata": {},
     "output_type": "execute_result"
    }
   ],
   "source": [
    "test"
   ]
  },
  {
   "cell_type": "code",
   "execution_count": 42,
   "metadata": {
    "ExecuteTime": {
     "end_time": "2019-07-18T20:32:14.921439Z",
     "start_time": "2019-07-18T20:32:14.903172Z"
    }
   },
   "outputs": [
    {
     "data": {
      "text/plain": [
       "array([[0., 0., 0., 0., 0., 1., 0.],\n",
       "       [0., 0., 0., 0., 0., 1., 0.],\n",
       "       [0., 0., 0., 0., 0., 1., 0.],\n",
       "       [0., 0., 0., 1., 0., 1., 0.],\n",
       "       [0., 0., 0., 0., 1., 0., 0.],\n",
       "       [0., 0., 0., 0., 1., 0., 0.],\n",
       "       [0., 0., 0., 0., 1., 0., 0.]])"
      ]
     },
     "execution_count": 42,
     "metadata": {},
     "output_type": "execute_result"
    }
   ],
   "source": [
    "titi"
   ]
  },
  {
   "cell_type": "code",
   "execution_count": 43,
   "metadata": {
    "ExecuteTime": {
     "end_time": "2019-07-18T20:32:14.936628Z",
     "start_time": "2019-07-18T20:32:14.924663Z"
    }
   },
   "outputs": [
    {
     "data": {
      "text/plain": [
       "39.36751759987621"
      ]
     },
     "execution_count": 43,
     "metadata": {},
     "output_type": "execute_result"
    }
   ],
   "source": [
    "255/(1+np.exp(0.1*(np.abs(np.std(test2))-30)))"
   ]
  },
  {
   "cell_type": "code",
   "execution_count": 44,
   "metadata": {
    "ExecuteTime": {
     "end_time": "2019-07-18T20:32:15.858242Z",
     "start_time": "2019-07-18T20:32:14.939539Z"
    }
   },
   "outputs": [
    {
     "data": {
      "text/plain": [
       "39.36751759987621"
      ]
     },
     "execution_count": 44,
     "metadata": {},
     "output_type": "execute_result"
    }
   ],
   "source": [
    "sigmoidActivationFctN1(test2)"
   ]
  },
  {
   "cell_type": "code",
   "execution_count": 45,
   "metadata": {
    "ExecuteTime": {
     "end_time": "2019-07-18T20:32:15.884112Z",
     "start_time": "2019-07-18T20:32:15.861029Z"
    }
   },
   "outputs": [
    {
     "data": {
      "text/plain": [
       "47.00634438291174"
      ]
     },
     "execution_count": 45,
     "metadata": {},
     "output_type": "execute_result"
    }
   ],
   "source": [
    "np.std(test2)"
   ]
  },
  {
   "cell_type": "code",
   "execution_count": 46,
   "metadata": {
    "ExecuteTime": {
     "end_time": "2019-07-18T20:32:15.893134Z",
     "start_time": "2019-07-18T20:32:15.886797Z"
    }
   },
   "outputs": [],
   "source": [
    "neuronList = np.zeros(1144,dtype=NeuronType)"
   ]
  },
  {
   "cell_type": "code",
   "execution_count": 47,
   "metadata": {
    "ExecuteTime": {
     "end_time": "2019-07-18T20:32:15.930957Z",
     "start_time": "2019-07-18T20:32:15.904836Z"
    }
   },
   "outputs": [
    {
     "data": {
      "text/plain": [
       "array([(0, 0., 0., 0., 0, 0, 0, 0), (0, 0., 0., 0., 0, 0, 0, 0),\n",
       "       (0, 0., 0., 0., 0, 0, 0, 0), ..., (0, 0., 0., 0., 0, 0, 0, 0),\n",
       "       (0, 0., 0., 0., 0, 0, 0, 0), (0, 0., 0., 0., 0, 0, 0, 0)],\n",
       "      dtype=[('longueur', 'u1'), ('angle', '<f4'), ('weight', '<f4'), ('precision', '<f4'), ('xPos', 'u1'), ('yPos', '<u2'), ('group', 'u1'), ('layer', 'u1')])"
      ]
     },
     "execution_count": 47,
     "metadata": {},
     "output_type": "execute_result"
    }
   ],
   "source": [
    "neuronList"
   ]
  },
  {
   "cell_type": "code",
   "execution_count": 48,
   "metadata": {
    "ExecuteTime": {
     "end_time": "2019-07-18T20:32:15.944096Z",
     "start_time": "2019-07-18T20:32:15.935749Z"
    }
   },
   "outputs": [
    {
     "data": {
      "text/plain": [
       "1144"
      ]
     },
     "execution_count": 48,
     "metadata": {},
     "output_type": "execute_result"
    }
   ],
   "source": [
    "neuronList.size"
   ]
  },
  {
   "cell_type": "code",
   "execution_count": 49,
   "metadata": {
    "ExecuteTime": {
     "end_time": "2019-07-18T20:32:15.956370Z",
     "start_time": "2019-07-18T20:32:15.946889Z"
    }
   },
   "outputs": [
    {
     "data": {
      "text/plain": [
       "()"
      ]
     },
     "execution_count": 49,
     "metadata": {},
     "output_type": "execute_result"
    }
   ],
   "source": [
    "neuronList[0].shape"
   ]
  },
  {
   "cell_type": "code",
   "execution_count": 50,
   "metadata": {
    "ExecuteTime": {
     "end_time": "2019-07-18T20:32:15.974380Z",
     "start_time": "2019-07-18T20:32:15.960810Z"
    }
   },
   "outputs": [],
   "source": [
    "pNeurons = pd.DataFrame(neuronList)"
   ]
  },
  {
   "cell_type": "code",
   "execution_count": 51,
   "metadata": {
    "ExecuteTime": {
     "end_time": "2019-07-18T20:32:16.011029Z",
     "start_time": "2019-07-18T20:32:15.978525Z"
    }
   },
   "outputs": [
    {
     "data": {
      "text/html": [
       "<div>\n",
       "<style scoped>\n",
       "    .dataframe tbody tr th:only-of-type {\n",
       "        vertical-align: middle;\n",
       "    }\n",
       "\n",
       "    .dataframe tbody tr th {\n",
       "        vertical-align: top;\n",
       "    }\n",
       "\n",
       "    .dataframe thead th {\n",
       "        text-align: right;\n",
       "    }\n",
       "</style>\n",
       "<table border=\"1\" class=\"dataframe\">\n",
       "  <thead>\n",
       "    <tr style=\"text-align: right;\">\n",
       "      <th></th>\n",
       "      <th>longueur</th>\n",
       "      <th>angle</th>\n",
       "      <th>weight</th>\n",
       "      <th>precision</th>\n",
       "      <th>xPos</th>\n",
       "      <th>yPos</th>\n",
       "      <th>group</th>\n",
       "      <th>layer</th>\n",
       "    </tr>\n",
       "  </thead>\n",
       "  <tbody>\n",
       "    <tr>\n",
       "      <th>0</th>\n",
       "      <td>0</td>\n",
       "      <td>0.0</td>\n",
       "      <td>0.0</td>\n",
       "      <td>0.0</td>\n",
       "      <td>0</td>\n",
       "      <td>0</td>\n",
       "      <td>0</td>\n",
       "      <td>0</td>\n",
       "    </tr>\n",
       "    <tr>\n",
       "      <th>1</th>\n",
       "      <td>0</td>\n",
       "      <td>0.0</td>\n",
       "      <td>0.0</td>\n",
       "      <td>0.0</td>\n",
       "      <td>0</td>\n",
       "      <td>0</td>\n",
       "      <td>0</td>\n",
       "      <td>0</td>\n",
       "    </tr>\n",
       "    <tr>\n",
       "      <th>2</th>\n",
       "      <td>0</td>\n",
       "      <td>0.0</td>\n",
       "      <td>0.0</td>\n",
       "      <td>0.0</td>\n",
       "      <td>0</td>\n",
       "      <td>0</td>\n",
       "      <td>0</td>\n",
       "      <td>0</td>\n",
       "    </tr>\n",
       "    <tr>\n",
       "      <th>3</th>\n",
       "      <td>0</td>\n",
       "      <td>0.0</td>\n",
       "      <td>0.0</td>\n",
       "      <td>0.0</td>\n",
       "      <td>0</td>\n",
       "      <td>0</td>\n",
       "      <td>0</td>\n",
       "      <td>0</td>\n",
       "    </tr>\n",
       "    <tr>\n",
       "      <th>4</th>\n",
       "      <td>0</td>\n",
       "      <td>0.0</td>\n",
       "      <td>0.0</td>\n",
       "      <td>0.0</td>\n",
       "      <td>0</td>\n",
       "      <td>0</td>\n",
       "      <td>0</td>\n",
       "      <td>0</td>\n",
       "    </tr>\n",
       "  </tbody>\n",
       "</table>\n",
       "</div>"
      ],
      "text/plain": [
       "   longueur  angle  weight  precision  xPos  yPos  group  layer\n",
       "0         0    0.0     0.0        0.0     0     0      0      0\n",
       "1         0    0.0     0.0        0.0     0     0      0      0\n",
       "2         0    0.0     0.0        0.0     0     0      0      0\n",
       "3         0    0.0     0.0        0.0     0     0      0      0\n",
       "4         0    0.0     0.0        0.0     0     0      0      0"
      ]
     },
     "execution_count": 51,
     "metadata": {},
     "output_type": "execute_result"
    }
   ],
   "source": [
    "pNeurons.head()"
   ]
  },
  {
   "cell_type": "code",
   "execution_count": 52,
   "metadata": {
    "ExecuteTime": {
     "end_time": "2019-07-18T20:32:16.022205Z",
     "start_time": "2019-07-18T20:32:16.014441Z"
    }
   },
   "outputs": [
    {
     "data": {
      "text/plain": [
       "0    0\n",
       "1    0\n",
       "2    0\n",
       "3    0\n",
       "4    0\n",
       "Name: longueur, dtype: uint8"
      ]
     },
     "execution_count": 52,
     "metadata": {},
     "output_type": "execute_result"
    }
   ],
   "source": [
    "pNeurons['longueur'].head()"
   ]
  },
  {
   "cell_type": "code",
   "execution_count": 53,
   "metadata": {
    "ExecuteTime": {
     "end_time": "2019-07-18T20:32:16.044859Z",
     "start_time": "2019-07-18T20:32:16.027666Z"
    }
   },
   "outputs": [
    {
     "data": {
      "text/html": [
       "<div>\n",
       "<style scoped>\n",
       "    .dataframe tbody tr th:only-of-type {\n",
       "        vertical-align: middle;\n",
       "    }\n",
       "\n",
       "    .dataframe tbody tr th {\n",
       "        vertical-align: top;\n",
       "    }\n",
       "\n",
       "    .dataframe thead th {\n",
       "        text-align: right;\n",
       "    }\n",
       "</style>\n",
       "<table border=\"1\" class=\"dataframe\">\n",
       "  <thead>\n",
       "    <tr style=\"text-align: right;\">\n",
       "      <th></th>\n",
       "      <th>angle</th>\n",
       "      <th>weight</th>\n",
       "    </tr>\n",
       "  </thead>\n",
       "  <tbody>\n",
       "    <tr>\n",
       "      <th>1</th>\n",
       "      <td>0.0</td>\n",
       "      <td>0.0</td>\n",
       "    </tr>\n",
       "    <tr>\n",
       "      <th>2</th>\n",
       "      <td>0.0</td>\n",
       "      <td>0.0</td>\n",
       "    </tr>\n",
       "    <tr>\n",
       "      <th>3</th>\n",
       "      <td>0.0</td>\n",
       "      <td>0.0</td>\n",
       "    </tr>\n",
       "  </tbody>\n",
       "</table>\n",
       "</div>"
      ],
      "text/plain": [
       "   angle  weight\n",
       "1    0.0     0.0\n",
       "2    0.0     0.0\n",
       "3    0.0     0.0"
      ]
     },
     "execution_count": 53,
     "metadata": {},
     "output_type": "execute_result"
    }
   ],
   "source": [
    "pNeurons.loc[1:3,['angle','weight']]"
   ]
  },
  {
   "cell_type": "code",
   "execution_count": 54,
   "metadata": {
    "ExecuteTime": {
     "end_time": "2019-07-18T20:32:16.056839Z",
     "start_time": "2019-07-18T20:32:16.048017Z"
    }
   },
   "outputs": [],
   "source": [
    "pNeurons.loc[1,['angle']]=28.34"
   ]
  },
  {
   "cell_type": "code",
   "execution_count": 55,
   "metadata": {
    "ExecuteTime": {
     "end_time": "2019-07-18T20:32:16.065914Z",
     "start_time": "2019-07-18T20:32:16.059124Z"
    }
   },
   "outputs": [],
   "source": [
    "pNeurons['longueur'] = tailleField"
   ]
  },
  {
   "cell_type": "code",
   "execution_count": 56,
   "metadata": {
    "ExecuteTime": {
     "end_time": "2019-07-18T20:32:16.091992Z",
     "start_time": "2019-07-18T20:32:16.069035Z"
    }
   },
   "outputs": [
    {
     "data": {
      "text/html": [
       "<div>\n",
       "<style scoped>\n",
       "    .dataframe tbody tr th:only-of-type {\n",
       "        vertical-align: middle;\n",
       "    }\n",
       "\n",
       "    .dataframe tbody tr th {\n",
       "        vertical-align: top;\n",
       "    }\n",
       "\n",
       "    .dataframe thead th {\n",
       "        text-align: right;\n",
       "    }\n",
       "</style>\n",
       "<table border=\"1\" class=\"dataframe\">\n",
       "  <thead>\n",
       "    <tr style=\"text-align: right;\">\n",
       "      <th></th>\n",
       "      <th>longueur</th>\n",
       "      <th>angle</th>\n",
       "      <th>weight</th>\n",
       "      <th>precision</th>\n",
       "      <th>xPos</th>\n",
       "      <th>yPos</th>\n",
       "      <th>group</th>\n",
       "      <th>layer</th>\n",
       "    </tr>\n",
       "  </thead>\n",
       "  <tbody>\n",
       "    <tr>\n",
       "      <th>0</th>\n",
       "      <td>3</td>\n",
       "      <td>0.00</td>\n",
       "      <td>0.0</td>\n",
       "      <td>0.0</td>\n",
       "      <td>0</td>\n",
       "      <td>0</td>\n",
       "      <td>0</td>\n",
       "      <td>0</td>\n",
       "    </tr>\n",
       "    <tr>\n",
       "      <th>1</th>\n",
       "      <td>3</td>\n",
       "      <td>28.34</td>\n",
       "      <td>0.0</td>\n",
       "      <td>0.0</td>\n",
       "      <td>0</td>\n",
       "      <td>0</td>\n",
       "      <td>0</td>\n",
       "      <td>0</td>\n",
       "    </tr>\n",
       "    <tr>\n",
       "      <th>2</th>\n",
       "      <td>3</td>\n",
       "      <td>0.00</td>\n",
       "      <td>0.0</td>\n",
       "      <td>0.0</td>\n",
       "      <td>0</td>\n",
       "      <td>0</td>\n",
       "      <td>0</td>\n",
       "      <td>0</td>\n",
       "    </tr>\n",
       "    <tr>\n",
       "      <th>3</th>\n",
       "      <td>3</td>\n",
       "      <td>0.00</td>\n",
       "      <td>0.0</td>\n",
       "      <td>0.0</td>\n",
       "      <td>0</td>\n",
       "      <td>0</td>\n",
       "      <td>0</td>\n",
       "      <td>0</td>\n",
       "    </tr>\n",
       "    <tr>\n",
       "      <th>4</th>\n",
       "      <td>3</td>\n",
       "      <td>0.00</td>\n",
       "      <td>0.0</td>\n",
       "      <td>0.0</td>\n",
       "      <td>0</td>\n",
       "      <td>0</td>\n",
       "      <td>0</td>\n",
       "      <td>0</td>\n",
       "    </tr>\n",
       "  </tbody>\n",
       "</table>\n",
       "</div>"
      ],
      "text/plain": [
       "   longueur  angle  weight  precision  xPos  yPos  group  layer\n",
       "0         3   0.00     0.0        0.0     0     0      0      0\n",
       "1         3  28.34     0.0        0.0     0     0      0      0\n",
       "2         3   0.00     0.0        0.0     0     0      0      0\n",
       "3         3   0.00     0.0        0.0     0     0      0      0\n",
       "4         3   0.00     0.0        0.0     0     0      0      0"
      ]
     },
     "execution_count": 56,
     "metadata": {},
     "output_type": "execute_result"
    }
   ],
   "source": [
    "pNeurons.head()"
   ]
  },
  {
   "cell_type": "code",
   "execution_count": 57,
   "metadata": {
    "ExecuteTime": {
     "end_time": "2019-07-18T20:32:16.994281Z",
     "start_time": "2019-07-18T20:32:16.094554Z"
    }
   },
   "outputs": [
    {
     "name": "stdout",
     "output_type": "stream",
     "text": [
      "(9517,)\n",
      "9517\n",
      "2008\n",
      "2008\n",
      "2008\n",
      "result0 :\n",
      "267\n",
      "780\n",
      "result1 :\n",
      "39\n",
      "1245\n"
     ]
    }
   ],
   "source": [
    "nbPixelsAll = nbPixelField(indices[0], indices[1], frame, tailleField)\n",
    "lCriterion = nbPixelsAll > tailleField\n",
    "print(lCriterion.shape)\n",
    "print(len(indices[0]))\n",
    "print(np.sum(lCriterion))\n",
    "resultIndicesCriterionO = indices[0][lCriterion]\n",
    "print(len(resultIndicesCriterionO))\n",
    "resultIndicesCriterion1 = indices[1][lCriterion]\n",
    "print(len(resultIndicesCriterion1))\n",
    "print(\"result0 :\")\n",
    "print(np.min(resultIndicesCriterionO))\n",
    "print(np.max(resultIndicesCriterionO))\n",
    "print(\"result1 :\")\n",
    "print(np.min(resultIndicesCriterion1))\n",
    "print(np.max(resultIndicesCriterion1))"
   ]
  },
  {
   "cell_type": "code",
   "execution_count": 58,
   "metadata": {
    "ExecuteTime": {
     "end_time": "2019-07-18T20:32:45.613025Z",
     "start_time": "2019-07-18T20:32:16.997100Z"
    }
   },
   "outputs": [
    {
     "name": "stdout",
     "output_type": "stream",
     "text": [
      "indice 0\n",
      "78\n",
      "781\n",
      "indice 1\n",
      "39\n",
      "1246\n",
      "size :3326\n",
      "newX\n",
      "267\n",
      "781\n",
      "newY\n",
      "39\n",
      "1246\n",
      "\n",
      "nb de positions couvertes : 3326 sur 3326\n"
     ]
    }
   ],
   "source": [
    "tailleField = 7\n",
    "indices = np.where(frame != [0])\n",
    "nbPixelsAll = nbPixelField(indices[0], indices[1], frame, tailleField)\n",
    "print(\"indice 0\")\n",
    "print(np.min(indices[0]))\n",
    "print(np.max(indices[0]))\n",
    "print(\"indice 1\")\n",
    "print(np.min(indices[1]))\n",
    "print(np.max(indices[1]))\n",
    "titi = getNeuronActivationList(indices[0], indices[1], tailleField, frame,\n",
    "                               nbPixelsAll)"
   ]
  },
  {
   "cell_type": "code",
   "execution_count": 59,
   "metadata": {
    "ExecuteTime": {
     "end_time": "2019-07-18T20:32:45.762084Z",
     "start_time": "2019-07-18T20:32:45.616951Z"
    }
   },
   "outputs": [
    {
     "data": {
      "text/html": [
       "<div>\n",
       "<style scoped>\n",
       "    .dataframe tbody tr th:only-of-type {\n",
       "        vertical-align: middle;\n",
       "    }\n",
       "\n",
       "    .dataframe tbody tr th {\n",
       "        vertical-align: top;\n",
       "    }\n",
       "\n",
       "    .dataframe thead th {\n",
       "        text-align: right;\n",
       "    }\n",
       "</style>\n",
       "<table border=\"1\" class=\"dataframe\">\n",
       "  <thead>\n",
       "    <tr style=\"text-align: right;\">\n",
       "      <th></th>\n",
       "      <th>longueur</th>\n",
       "      <th>angle</th>\n",
       "      <th>weight</th>\n",
       "      <th>precision</th>\n",
       "      <th>xPos</th>\n",
       "      <th>yPos</th>\n",
       "      <th>group</th>\n",
       "      <th>layer</th>\n",
       "    </tr>\n",
       "  </thead>\n",
       "  <tbody>\n",
       "    <tr>\n",
       "      <th>count</th>\n",
       "      <td>3326.0</td>\n",
       "      <td>3326.000000</td>\n",
       "      <td>3326.000000</td>\n",
       "      <td>3326.000000</td>\n",
       "      <td>3326.000000</td>\n",
       "      <td>3326.000000</td>\n",
       "      <td>3326.0</td>\n",
       "      <td>3326.0</td>\n",
       "    </tr>\n",
       "    <tr>\n",
       "      <th>mean</th>\n",
       "      <td>7.0</td>\n",
       "      <td>19.488890</td>\n",
       "      <td>109.363945</td>\n",
       "      <td>35.894573</td>\n",
       "      <td>433.093806</td>\n",
       "      <td>638.244438</td>\n",
       "      <td>0.0</td>\n",
       "      <td>1.0</td>\n",
       "    </tr>\n",
       "    <tr>\n",
       "      <th>std</th>\n",
       "      <td>0.0</td>\n",
       "      <td>31.130045</td>\n",
       "      <td>76.902733</td>\n",
       "      <td>17.694260</td>\n",
       "      <td>150.171602</td>\n",
       "      <td>320.629240</td>\n",
       "      <td>0.0</td>\n",
       "      <td>0.0</td>\n",
       "    </tr>\n",
       "    <tr>\n",
       "      <th>min</th>\n",
       "      <td>7.0</td>\n",
       "      <td>-59.462856</td>\n",
       "      <td>1.923095</td>\n",
       "      <td>3.957675</td>\n",
       "      <td>267.000000</td>\n",
       "      <td>39.000000</td>\n",
       "      <td>0.0</td>\n",
       "      <td>1.0</td>\n",
       "    </tr>\n",
       "    <tr>\n",
       "      <th>25%</th>\n",
       "      <td>7.0</td>\n",
       "      <td>-7.911136</td>\n",
       "      <td>29.776712</td>\n",
       "      <td>20.879581</td>\n",
       "      <td>319.000000</td>\n",
       "      <td>485.000000</td>\n",
       "      <td>0.0</td>\n",
       "      <td>1.0</td>\n",
       "    </tr>\n",
       "    <tr>\n",
       "      <th>50%</th>\n",
       "      <td>7.0</td>\n",
       "      <td>22.329545</td>\n",
       "      <td>122.240669</td>\n",
       "      <td>30.825462</td>\n",
       "      <td>373.000000</td>\n",
       "      <td>642.000000</td>\n",
       "      <td>0.0</td>\n",
       "      <td>1.0</td>\n",
       "    </tr>\n",
       "    <tr>\n",
       "      <th>75%</th>\n",
       "      <td>7.0</td>\n",
       "      <td>47.299562</td>\n",
       "      <td>181.921539</td>\n",
       "      <td>50.233661</td>\n",
       "      <td>526.000000</td>\n",
       "      <td>838.000000</td>\n",
       "      <td>0.0</td>\n",
       "      <td>1.0</td>\n",
       "    </tr>\n",
       "    <tr>\n",
       "      <th>max</th>\n",
       "      <td>7.0</td>\n",
       "      <td>87.368568</td>\n",
       "      <td>237.439041</td>\n",
       "      <td>78.797569</td>\n",
       "      <td>781.000000</td>\n",
       "      <td>1246.000000</td>\n",
       "      <td>0.0</td>\n",
       "      <td>1.0</td>\n",
       "    </tr>\n",
       "  </tbody>\n",
       "</table>\n",
       "</div>"
      ],
      "text/plain": [
       "       longueur        angle       weight    precision         xPos  \\\n",
       "count    3326.0  3326.000000  3326.000000  3326.000000  3326.000000   \n",
       "mean        7.0    19.488890   109.363945    35.894573   433.093806   \n",
       "std         0.0    31.130045    76.902733    17.694260   150.171602   \n",
       "min         7.0   -59.462856     1.923095     3.957675   267.000000   \n",
       "25%         7.0    -7.911136    29.776712    20.879581   319.000000   \n",
       "50%         7.0    22.329545   122.240669    30.825462   373.000000   \n",
       "75%         7.0    47.299562   181.921539    50.233661   526.000000   \n",
       "max         7.0    87.368568   237.439041    78.797569   781.000000   \n",
       "\n",
       "              yPos   group   layer  \n",
       "count  3326.000000  3326.0  3326.0  \n",
       "mean    638.244438     0.0     1.0  \n",
       "std     320.629240     0.0     0.0  \n",
       "min      39.000000     0.0     1.0  \n",
       "25%     485.000000     0.0     1.0  \n",
       "50%     642.000000     0.0     1.0  \n",
       "75%     838.000000     0.0     1.0  \n",
       "max    1246.000000     0.0     1.0  "
      ]
     },
     "execution_count": 59,
     "metadata": {},
     "output_type": "execute_result"
    }
   ],
   "source": [
    "titi.describe()"
   ]
  },
  {
   "cell_type": "code",
   "execution_count": 60,
   "metadata": {
    "ExecuteTime": {
     "end_time": "2019-07-18T20:32:47.431053Z",
     "start_time": "2019-07-18T20:32:45.892747Z"
    }
   },
   "outputs": [
    {
     "data": {
      "image/png": "[encoded data removed]",
      "text/plain": [
       "<Figure size 432x288 with 1 Axes>"
      ]
     },
     "metadata": {
      "needs_background": "light"
     },
     "output_type": "display_data"
    }
   ],
   "source": [
    "testBitmap = np.zeros(frame.shape)\n",
    "testBitmap = drawFieldNeurons(titi, testBitmap)\n",
    "imgplot = plt.imshow(testBitmap)"
   ]
  },
  {
   "cell_type": "code",
   "execution_count": 61,
   "metadata": {
    "ExecuteTime": {
     "end_time": "2019-07-18T20:32:47.627812Z",
     "start_time": "2019-07-18T20:32:47.434101Z"
    }
   },
   "outputs": [],
   "source": [
    "lintI = 0\n",
    "while (lintI < 10):\n",
    "    cv2.imshow('FRAME', frame)\n",
    "    if cv2.waitKey(1) & 0xFF == ord('q'):  # press q to quit\n",
    "        break\n",
    "    lintI += 1"
   ]
  },
  {
   "cell_type": "code",
   "execution_count": 62,
   "metadata": {
    "ExecuteTime": {
     "end_time": "2019-07-18T20:32:47.909323Z",
     "start_time": "2019-07-18T20:32:47.629894Z"
    }
   },
   "outputs": [
    {
     "data": {
      "image/png": "[encoded data removed]",
      "text/plain": [
       "<Figure size 432x288 with 1 Axes>"
      ]
     },
     "metadata": {
      "needs_background": "light"
     },
     "output_type": "display_data"
    }
   ],
   "source": [
    "imgplot = plt.imshow(frame)"
   ]
  },
  {
   "cell_type": "code",
   "execution_count": 63,
   "metadata": {
    "ExecuteTime": {
     "end_time": "2019-07-18T20:32:47.932738Z",
     "start_time": "2019-07-18T20:32:47.912442Z"
    }
   },
   "outputs": [
    {
     "data": {
      "text/plain": [
       "781"
      ]
     },
     "execution_count": 63,
     "metadata": {},
     "output_type": "execute_result"
    }
   ],
   "source": [
    "np.max(indices[0])"
   ]
  },
  {
   "cell_type": "code",
   "execution_count": 64,
   "metadata": {
    "ExecuteTime": {
     "end_time": "2019-07-18T20:32:47.959762Z",
     "start_time": "2019-07-18T20:32:47.939116Z"
    }
   },
   "outputs": [
    {
     "data": {
      "text/plain": [
       "17.0"
      ]
     },
     "execution_count": 64,
     "metadata": {},
     "output_type": "execute_result"
    }
   ],
   "source": [
    "np.max(nbPixelsAll)"
   ]
  },
  {
   "cell_type": "code",
   "execution_count": 65,
   "metadata": {
    "ExecuteTime": {
     "end_time": "2019-07-18T20:32:47.982955Z",
     "start_time": "2019-07-18T20:32:47.962760Z"
    }
   },
   "outputs": [
    {
     "data": {
      "text/html": [
       "<div>\n",
       "<style scoped>\n",
       "    .dataframe tbody tr th:only-of-type {\n",
       "        vertical-align: middle;\n",
       "    }\n",
       "\n",
       "    .dataframe tbody tr th {\n",
       "        vertical-align: top;\n",
       "    }\n",
       "\n",
       "    .dataframe thead th {\n",
       "        text-align: right;\n",
       "    }\n",
       "</style>\n",
       "<table border=\"1\" class=\"dataframe\">\n",
       "  <thead>\n",
       "    <tr style=\"text-align: right;\">\n",
       "      <th></th>\n",
       "      <th>longueur</th>\n",
       "      <th>angle</th>\n",
       "      <th>weight</th>\n",
       "      <th>precision</th>\n",
       "      <th>xPos</th>\n",
       "      <th>yPos</th>\n",
       "      <th>group</th>\n",
       "      <th>layer</th>\n",
       "    </tr>\n",
       "  </thead>\n",
       "  <tbody>\n",
       "    <tr>\n",
       "      <th>0</th>\n",
       "      <td>7</td>\n",
       "      <td>12.960000</td>\n",
       "      <td>44.296825</td>\n",
       "      <td>45.595375</td>\n",
       "      <td>267</td>\n",
       "      <td>180</td>\n",
       "      <td>0</td>\n",
       "      <td>1</td>\n",
       "    </tr>\n",
       "    <tr>\n",
       "      <th>1</th>\n",
       "      <td>7</td>\n",
       "      <td>30.319092</td>\n",
       "      <td>20.402163</td>\n",
       "      <td>54.422318</td>\n",
       "      <td>267</td>\n",
       "      <td>182</td>\n",
       "      <td>0</td>\n",
       "      <td>1</td>\n",
       "    </tr>\n",
       "    <tr>\n",
       "      <th>2</th>\n",
       "      <td>7</td>\n",
       "      <td>32.734547</td>\n",
       "      <td>14.406747</td>\n",
       "      <td>58.154110</td>\n",
       "      <td>267</td>\n",
       "      <td>183</td>\n",
       "      <td>0</td>\n",
       "      <td>1</td>\n",
       "    </tr>\n",
       "    <tr>\n",
       "      <th>3</th>\n",
       "      <td>7</td>\n",
       "      <td>46.915001</td>\n",
       "      <td>118.135620</td>\n",
       "      <td>31.471573</td>\n",
       "      <td>267</td>\n",
       "      <td>833</td>\n",
       "      <td>0</td>\n",
       "      <td>1</td>\n",
       "    </tr>\n",
       "  </tbody>\n",
       "</table>\n",
       "</div>"
      ],
      "text/plain": [
       "   longueur      angle      weight  precision  xPos  yPos  group  layer\n",
       "0         7  12.960000   44.296825  45.595375   267   180      0      1\n",
       "1         7  30.319092   20.402163  54.422318   267   182      0      1\n",
       "2         7  32.734547   14.406747  58.154110   267   183      0      1\n",
       "3         7  46.915001  118.135620  31.471573   267   833      0      1"
      ]
     },
     "execution_count": 65,
     "metadata": {},
     "output_type": "execute_result"
    }
   ],
   "source": [
    "titi[0:4]"
   ]
  },
  {
   "cell_type": "code",
   "execution_count": 66,
   "metadata": {
    "ExecuteTime": {
     "end_time": "2019-07-18T20:32:47.994239Z",
     "start_time": "2019-07-18T20:32:47.986257Z"
    }
   },
   "outputs": [
    {
     "data": {
      "text/plain": [
       "(13.535533905932738, 6.464466094067262)"
      ]
     },
     "execution_count": 66,
     "metadata": {},
     "output_type": "execute_result"
    }
   ],
   "source": [
    "moveCoordDeg(45,10,10,5)"
   ]
  },
  {
   "cell_type": "code",
   "execution_count": 67,
   "metadata": {
    "ExecuteTime": {
     "end_time": "2019-07-18T20:35:14.270963Z",
     "start_time": "2019-07-18T20:32:48.007293Z"
    }
   },
   "outputs": [],
   "source": [
    "findGroups(titi);"
   ]
  },
  {
   "cell_type": "code",
   "execution_count": 68,
   "metadata": {
    "ExecuteTime": {
     "end_time": "2019-07-18T20:35:14.301483Z",
     "start_time": "2019-07-18T20:35:14.280391Z"
    }
   },
   "outputs": [
    {
     "data": {
      "text/html": [
       "<div>\n",
       "<style scoped>\n",
       "    .dataframe tbody tr th:only-of-type {\n",
       "        vertical-align: middle;\n",
       "    }\n",
       "\n",
       "    .dataframe tbody tr th {\n",
       "        vertical-align: top;\n",
       "    }\n",
       "\n",
       "    .dataframe thead th {\n",
       "        text-align: right;\n",
       "    }\n",
       "</style>\n",
       "<table border=\"1\" class=\"dataframe\">\n",
       "  <thead>\n",
       "    <tr style=\"text-align: right;\">\n",
       "      <th></th>\n",
       "      <th>longueur</th>\n",
       "      <th>angle</th>\n",
       "      <th>weight</th>\n",
       "      <th>precision</th>\n",
       "      <th>xPos</th>\n",
       "      <th>yPos</th>\n",
       "      <th>group</th>\n",
       "      <th>layer</th>\n",
       "    </tr>\n",
       "  </thead>\n",
       "  <tbody>\n",
       "    <tr>\n",
       "      <th>3315</th>\n",
       "      <td>7</td>\n",
       "      <td>34.775002</td>\n",
       "      <td>40.926121</td>\n",
       "      <td>46.545525</td>\n",
       "      <td>777</td>\n",
       "      <td>800</td>\n",
       "      <td>1611</td>\n",
       "      <td>1</td>\n",
       "    </tr>\n",
       "    <tr>\n",
       "      <th>3316</th>\n",
       "      <td>7</td>\n",
       "      <td>54.348751</td>\n",
       "      <td>60.183807</td>\n",
       "      <td>41.746532</td>\n",
       "      <td>777</td>\n",
       "      <td>801</td>\n",
       "      <td>1612</td>\n",
       "      <td>1</td>\n",
       "    </tr>\n",
       "    <tr>\n",
       "      <th>3318</th>\n",
       "      <td>7</td>\n",
       "      <td>53.312222</td>\n",
       "      <td>154.813461</td>\n",
       "      <td>25.648130</td>\n",
       "      <td>778</td>\n",
       "      <td>799</td>\n",
       "      <td>1614</td>\n",
       "      <td>1</td>\n",
       "    </tr>\n",
       "    <tr>\n",
       "      <th>3319</th>\n",
       "      <td>7</td>\n",
       "      <td>57.671249</td>\n",
       "      <td>144.580490</td>\n",
       "      <td>27.304504</td>\n",
       "      <td>778</td>\n",
       "      <td>800</td>\n",
       "      <td>1615</td>\n",
       "      <td>1</td>\n",
       "    </tr>\n",
       "    <tr>\n",
       "      <th>3321</th>\n",
       "      <td>7</td>\n",
       "      <td>60.360001</td>\n",
       "      <td>198.511459</td>\n",
       "      <td>17.431911</td>\n",
       "      <td>779</td>\n",
       "      <td>798</td>\n",
       "      <td>1617</td>\n",
       "      <td>1</td>\n",
       "    </tr>\n",
       "    <tr>\n",
       "      <th>3322</th>\n",
       "      <td>7</td>\n",
       "      <td>52.169998</td>\n",
       "      <td>156.312729</td>\n",
       "      <td>25.400974</td>\n",
       "      <td>779</td>\n",
       "      <td>799</td>\n",
       "      <td>1618</td>\n",
       "      <td>1</td>\n",
       "    </tr>\n",
       "    <tr>\n",
       "      <th>3324</th>\n",
       "      <td>7</td>\n",
       "      <td>28.313334</td>\n",
       "      <td>23.131901</td>\n",
       "      <td>53.049561</td>\n",
       "      <td>780</td>\n",
       "      <td>797</td>\n",
       "      <td>1611</td>\n",
       "      <td>1</td>\n",
       "    </tr>\n",
       "  </tbody>\n",
       "</table>\n",
       "</div>"
      ],
      "text/plain": [
       "      longueur      angle      weight  precision  xPos  yPos  group  layer\n",
       "3315         7  34.775002   40.926121  46.545525   777   800   1611      1\n",
       "3316         7  54.348751   60.183807  41.746532   777   801   1612      1\n",
       "3318         7  53.312222  154.813461  25.648130   778   799   1614      1\n",
       "3319         7  57.671249  144.580490  27.304504   778   800   1615      1\n",
       "3321         7  60.360001  198.511459  17.431911   779   798   1617      1\n",
       "3322         7  52.169998  156.312729  25.400974   779   799   1618      1\n",
       "3324         7  28.313334   23.131901  53.049561   780   797   1611      1"
      ]
     },
     "execution_count": 68,
     "metadata": {},
     "output_type": "execute_result"
    }
   ],
   "source": [
    "titi[(titi.xPos > 779 - 3) & (titi.xPos < 779 + 3) & (titi.yPos > 799 - 3) &\n",
    "     (titi.yPos < 799 + 3)]"
   ]
  },
  {
   "cell_type": "code",
   "execution_count": 69,
   "metadata": {
    "ExecuteTime": {
     "end_time": "2019-07-18T20:35:14.362375Z",
     "start_time": "2019-07-18T20:35:14.303854Z"
    }
   },
   "outputs": [
    {
     "data": {
      "text/html": [
       "<div>\n",
       "<style scoped>\n",
       "    .dataframe tbody tr th:only-of-type {\n",
       "        vertical-align: middle;\n",
       "    }\n",
       "\n",
       "    .dataframe tbody tr th {\n",
       "        vertical-align: top;\n",
       "    }\n",
       "\n",
       "    .dataframe thead tr th {\n",
       "        text-align: left;\n",
       "    }\n",
       "\n",
       "    .dataframe thead tr:last-of-type th {\n",
       "        text-align: right;\n",
       "    }\n",
       "</style>\n",
       "<table border=\"1\" class=\"dataframe\">\n",
       "  <thead>\n",
       "    <tr>\n",
       "      <th></th>\n",
       "      <th colspan=\"2\" halign=\"left\">longueur</th>\n",
       "      <th colspan=\"2\" halign=\"left\">angle</th>\n",
       "      <th colspan=\"2\" halign=\"left\">weight</th>\n",
       "      <th colspan=\"2\" halign=\"left\">precision</th>\n",
       "      <th colspan=\"2\" halign=\"left\">xPos</th>\n",
       "      <th colspan=\"2\" halign=\"left\">yPos</th>\n",
       "      <th colspan=\"2\" halign=\"left\">layer</th>\n",
       "    </tr>\n",
       "    <tr>\n",
       "      <th></th>\n",
       "      <th>mean</th>\n",
       "      <th>count</th>\n",
       "      <th>mean</th>\n",
       "      <th>count</th>\n",
       "      <th>mean</th>\n",
       "      <th>count</th>\n",
       "      <th>mean</th>\n",
       "      <th>count</th>\n",
       "      <th>mean</th>\n",
       "      <th>count</th>\n",
       "      <th>mean</th>\n",
       "      <th>count</th>\n",
       "      <th>mean</th>\n",
       "      <th>count</th>\n",
       "    </tr>\n",
       "    <tr>\n",
       "      <th>group</th>\n",
       "      <th></th>\n",
       "      <th></th>\n",
       "      <th></th>\n",
       "      <th></th>\n",
       "      <th></th>\n",
       "      <th></th>\n",
       "      <th></th>\n",
       "      <th></th>\n",
       "      <th></th>\n",
       "      <th></th>\n",
       "      <th></th>\n",
       "      <th></th>\n",
       "      <th></th>\n",
       "      <th></th>\n",
       "    </tr>\n",
       "  </thead>\n",
       "  <tbody>\n",
       "    <tr>\n",
       "      <th>1</th>\n",
       "      <td>7</td>\n",
       "      <td>1</td>\n",
       "      <td>12.960000</td>\n",
       "      <td>1</td>\n",
       "      <td>44.296825</td>\n",
       "      <td>1</td>\n",
       "      <td>45.595375</td>\n",
       "      <td>1</td>\n",
       "      <td>267.000000</td>\n",
       "      <td>1</td>\n",
       "      <td>180.00</td>\n",
       "      <td>1</td>\n",
       "      <td>1</td>\n",
       "      <td>1</td>\n",
       "    </tr>\n",
       "    <tr>\n",
       "      <th>2</th>\n",
       "      <td>7</td>\n",
       "      <td>1</td>\n",
       "      <td>30.319092</td>\n",
       "      <td>1</td>\n",
       "      <td>20.402163</td>\n",
       "      <td>1</td>\n",
       "      <td>54.422318</td>\n",
       "      <td>1</td>\n",
       "      <td>267.000000</td>\n",
       "      <td>1</td>\n",
       "      <td>182.00</td>\n",
       "      <td>1</td>\n",
       "      <td>1</td>\n",
       "      <td>1</td>\n",
       "    </tr>\n",
       "    <tr>\n",
       "      <th>3</th>\n",
       "      <td>7</td>\n",
       "      <td>4</td>\n",
       "      <td>18.702803</td>\n",
       "      <td>4</td>\n",
       "      <td>87.221573</td>\n",
       "      <td>4</td>\n",
       "      <td>39.014107</td>\n",
       "      <td>4</td>\n",
       "      <td>268.500000</td>\n",
       "      <td>4</td>\n",
       "      <td>180.75</td>\n",
       "      <td>4</td>\n",
       "      <td>1</td>\n",
       "      <td>4</td>\n",
       "    </tr>\n",
       "    <tr>\n",
       "      <th>4</th>\n",
       "      <td>7</td>\n",
       "      <td>11</td>\n",
       "      <td>37.874920</td>\n",
       "      <td>11</td>\n",
       "      <td>173.663605</td>\n",
       "      <td>11</td>\n",
       "      <td>21.911745</td>\n",
       "      <td>11</td>\n",
       "      <td>269.272727</td>\n",
       "      <td>11</td>\n",
       "      <td>832.00</td>\n",
       "      <td>11</td>\n",
       "      <td>1</td>\n",
       "      <td>11</td>\n",
       "    </tr>\n",
       "    <tr>\n",
       "      <th>5</th>\n",
       "      <td>7</td>\n",
       "      <td>1</td>\n",
       "      <td>6.438571</td>\n",
       "      <td>1</td>\n",
       "      <td>151.416443</td>\n",
       "      <td>1</td>\n",
       "      <td>26.203445</td>\n",
       "      <td>1</td>\n",
       "      <td>269.000000</td>\n",
       "      <td>1</td>\n",
       "      <td>279.00</td>\n",
       "      <td>1</td>\n",
       "      <td>1</td>\n",
       "      <td>1</td>\n",
       "    </tr>\n",
       "  </tbody>\n",
       "</table>\n",
       "</div>"
      ],
      "text/plain": [
       "      longueur            angle            weight        precision        \\\n",
       "          mean count       mean count        mean count       mean count   \n",
       "group                                                                      \n",
       "1            7     1  12.960000     1   44.296825     1  45.595375     1   \n",
       "2            7     1  30.319092     1   20.402163     1  54.422318     1   \n",
       "3            7     4  18.702803     4   87.221573     4  39.014107     4   \n",
       "4            7    11  37.874920    11  173.663605    11  21.911745    11   \n",
       "5            7     1   6.438571     1  151.416443     1  26.203445     1   \n",
       "\n",
       "             xPos          yPos       layer        \n",
       "             mean count    mean count  mean count  \n",
       "group                                              \n",
       "1      267.000000     1  180.00     1     1     1  \n",
       "2      267.000000     1  182.00     1     1     1  \n",
       "3      268.500000     4  180.75     4     1     4  \n",
       "4      269.272727    11  832.00    11     1    11  \n",
       "5      269.000000     1  279.00     1     1     1  "
      ]
     },
     "execution_count": 69,
     "metadata": {},
     "output_type": "execute_result"
    }
   ],
   "source": [
    "titi.groupby('group').agg(['mean', 'count'])[0:5]"
   ]
  },
  {
   "cell_type": "code",
   "execution_count": 70,
   "metadata": {
    "ExecuteTime": {
     "end_time": "2019-07-18T20:35:14.385597Z",
     "start_time": "2019-07-18T20:35:14.364576Z"
    }
   },
   "outputs": [
    {
     "data": {
      "text/html": [
       "<div>\n",
       "<style scoped>\n",
       "    .dataframe tbody tr th:only-of-type {\n",
       "        vertical-align: middle;\n",
       "    }\n",
       "\n",
       "    .dataframe tbody tr th {\n",
       "        vertical-align: top;\n",
       "    }\n",
       "\n",
       "    .dataframe thead th {\n",
       "        text-align: right;\n",
       "    }\n",
       "</style>\n",
       "<table border=\"1\" class=\"dataframe\">\n",
       "  <thead>\n",
       "    <tr style=\"text-align: right;\">\n",
       "      <th></th>\n",
       "      <th>longueur</th>\n",
       "      <th>angle</th>\n",
       "      <th>weight</th>\n",
       "      <th>precision</th>\n",
       "      <th>xPos</th>\n",
       "      <th>yPos</th>\n",
       "      <th>group</th>\n",
       "      <th>layer</th>\n",
       "    </tr>\n",
       "  </thead>\n",
       "  <tbody>\n",
       "    <tr>\n",
       "      <th>3315</th>\n",
       "      <td>7</td>\n",
       "      <td>34.775002</td>\n",
       "      <td>40.926121</td>\n",
       "      <td>46.545525</td>\n",
       "      <td>777</td>\n",
       "      <td>800</td>\n",
       "      <td>1611</td>\n",
       "      <td>1</td>\n",
       "    </tr>\n",
       "    <tr>\n",
       "      <th>3316</th>\n",
       "      <td>7</td>\n",
       "      <td>54.348751</td>\n",
       "      <td>60.183807</td>\n",
       "      <td>41.746532</td>\n",
       "      <td>777</td>\n",
       "      <td>801</td>\n",
       "      <td>1612</td>\n",
       "      <td>1</td>\n",
       "    </tr>\n",
       "    <tr>\n",
       "      <th>3318</th>\n",
       "      <td>7</td>\n",
       "      <td>53.312222</td>\n",
       "      <td>154.813461</td>\n",
       "      <td>25.648130</td>\n",
       "      <td>778</td>\n",
       "      <td>799</td>\n",
       "      <td>1614</td>\n",
       "      <td>1</td>\n",
       "    </tr>\n",
       "    <tr>\n",
       "      <th>3319</th>\n",
       "      <td>7</td>\n",
       "      <td>57.671249</td>\n",
       "      <td>144.580490</td>\n",
       "      <td>27.304504</td>\n",
       "      <td>778</td>\n",
       "      <td>800</td>\n",
       "      <td>1615</td>\n",
       "      <td>1</td>\n",
       "    </tr>\n",
       "    <tr>\n",
       "      <th>3321</th>\n",
       "      <td>7</td>\n",
       "      <td>60.360001</td>\n",
       "      <td>198.511459</td>\n",
       "      <td>17.431911</td>\n",
       "      <td>779</td>\n",
       "      <td>798</td>\n",
       "      <td>1617</td>\n",
       "      <td>1</td>\n",
       "    </tr>\n",
       "    <tr>\n",
       "      <th>3322</th>\n",
       "      <td>7</td>\n",
       "      <td>52.169998</td>\n",
       "      <td>156.312729</td>\n",
       "      <td>25.400974</td>\n",
       "      <td>779</td>\n",
       "      <td>799</td>\n",
       "      <td>1618</td>\n",
       "      <td>1</td>\n",
       "    </tr>\n",
       "    <tr>\n",
       "      <th>3324</th>\n",
       "      <td>7</td>\n",
       "      <td>28.313334</td>\n",
       "      <td>23.131901</td>\n",
       "      <td>53.049561</td>\n",
       "      <td>780</td>\n",
       "      <td>797</td>\n",
       "      <td>1611</td>\n",
       "      <td>1</td>\n",
       "    </tr>\n",
       "  </tbody>\n",
       "</table>\n",
       "</div>"
      ],
      "text/plain": [
       "      longueur      angle      weight  precision  xPos  yPos  group  layer\n",
       "3315         7  34.775002   40.926121  46.545525   777   800   1611      1\n",
       "3316         7  54.348751   60.183807  41.746532   777   801   1612      1\n",
       "3318         7  53.312222  154.813461  25.648130   778   799   1614      1\n",
       "3319         7  57.671249  144.580490  27.304504   778   800   1615      1\n",
       "3321         7  60.360001  198.511459  17.431911   779   798   1617      1\n",
       "3322         7  52.169998  156.312729  25.400974   779   799   1618      1\n",
       "3324         7  28.313334   23.131901  53.049561   780   797   1611      1"
      ]
     },
     "execution_count": 70,
     "metadata": {},
     "output_type": "execute_result"
    }
   ],
   "source": [
    "closestFieldNeurons(titi, 779, 799, 3)"
   ]
  },
  {
   "cell_type": "code",
   "execution_count": 71,
   "metadata": {
    "ExecuteTime": {
     "end_time": "2019-07-18T20:35:14.615791Z",
     "start_time": "2019-07-18T20:35:14.389681Z"
    }
   },
   "outputs": [
    {
     "data": {
      "text/plain": [
       "<matplotlib.axes._subplots.AxesSubplot at 0x122aafcc0>"
      ]
     },
     "execution_count": 71,
     "metadata": {},
     "output_type": "execute_result"
    },
    {
     "data": {
      "image/png": "[encoded data removed]",
      "text/plain": [
       "<Figure size 432x288 with 1 Axes>"
      ]
     },
     "metadata": {
      "needs_background": "light"
     },
     "output_type": "display_data"
    }
   ],
   "source": [
    "titi.groupby('group').size().hist()"
   ]
  },
  {
   "cell_type": "code",
   "execution_count": 72,
   "metadata": {
    "ExecuteTime": {
     "end_time": "2019-07-18T20:35:14.623362Z",
     "start_time": "2019-07-18T20:35:14.617954Z"
    }
   },
   "outputs": [],
   "source": [
    "resultGroup = titi.groupby('group').size()"
   ]
  },
  {
   "cell_type": "code",
   "execution_count": 73,
   "metadata": {
    "ExecuteTime": {
     "end_time": "2019-07-18T20:35:14.845551Z",
     "start_time": "2019-07-18T20:35:14.626673Z"
    }
   },
   "outputs": [
    {
     "data": {
      "text/plain": [
       "<matplotlib.axes._subplots.AxesSubplot at 0x1224167b8>"
      ]
     },
     "execution_count": 73,
     "metadata": {},
     "output_type": "execute_result"
    },
    {
     "data": {
      "image/png": "[encoded data removed]",
      "text/plain": [
       "<Figure size 432x288 with 1 Axes>"
      ]
     },
     "metadata": {
      "needs_background": "light"
     },
     "output_type": "display_data"
    }
   ],
   "source": [
    "resultGroup[resultGroup>10].hist()"
   ]
  },
  {
   "cell_type": "code",
   "execution_count": 74,
   "metadata": {
    "ExecuteTime": {
     "end_time": "2019-07-18T20:35:16.091505Z",
     "start_time": "2019-07-18T20:35:14.847796Z"
    }
   },
   "outputs": [
    {
     "data": {
      "image/png": "[encoded data removed]",
      "text/plain": [
       "<Figure size 432x288 with 1 Axes>"
      ]
     },
     "metadata": {
      "needs_background": "light"
     },
     "output_type": "display_data"
    }
   ],
   "source": [
    "testBitmap = np.zeros(frame.shape)\n",
    "testBitmap = drawFieldNeurons(titi, testBitmap)\n",
    "imgplot = plt.imshow(testBitmap)"
   ]
  },
  {
   "cell_type": "code",
   "execution_count": 75,
   "metadata": {
    "ExecuteTime": {
     "end_time": "2019-07-18T20:35:16.354532Z",
     "start_time": "2019-07-18T20:35:16.094114Z"
    }
   },
   "outputs": [],
   "source": [
    "lintI = 0\n",
    "while (lintI < 10):\n",
    "    cv2.imshow('TEST BITMAP', testBitmap)\n",
    "    if cv2.waitKey(1) & 0xFF == ord('q'):  # press q to quit\n",
    "        break\n",
    "    lintI += 1"
   ]
  },
  {
   "cell_type": "code",
   "execution_count": 76,
   "metadata": {
    "ExecuteTime": {
     "end_time": "2019-07-18T20:35:16.404396Z",
     "start_time": "2019-07-18T20:35:16.359013Z"
    }
   },
   "outputs": [
    {
     "data": {
      "text/html": [
       "<div>\n",
       "<style scoped>\n",
       "    .dataframe tbody tr th:only-of-type {\n",
       "        vertical-align: middle;\n",
       "    }\n",
       "\n",
       "    .dataframe tbody tr th {\n",
       "        vertical-align: top;\n",
       "    }\n",
       "\n",
       "    .dataframe thead th {\n",
       "        text-align: right;\n",
       "    }\n",
       "</style>\n",
       "<table border=\"1\" class=\"dataframe\">\n",
       "  <thead>\n",
       "    <tr style=\"text-align: right;\">\n",
       "      <th></th>\n",
       "      <th>longueur</th>\n",
       "      <th>angle</th>\n",
       "      <th>weight</th>\n",
       "      <th>precision</th>\n",
       "      <th>xPos</th>\n",
       "      <th>yPos</th>\n",
       "      <th>group</th>\n",
       "      <th>layer</th>\n",
       "    </tr>\n",
       "  </thead>\n",
       "  <tbody>\n",
       "    <tr>\n",
       "      <th>count</th>\n",
       "      <td>3326.0</td>\n",
       "      <td>3326.000000</td>\n",
       "      <td>3326.000000</td>\n",
       "      <td>3326.000000</td>\n",
       "      <td>3326.000000</td>\n",
       "      <td>3326.000000</td>\n",
       "      <td>3326.000000</td>\n",
       "      <td>3326.0</td>\n",
       "    </tr>\n",
       "    <tr>\n",
       "      <th>mean</th>\n",
       "      <td>7.0</td>\n",
       "      <td>19.488890</td>\n",
       "      <td>109.363945</td>\n",
       "      <td>35.894573</td>\n",
       "      <td>433.093806</td>\n",
       "      <td>638.244438</td>\n",
       "      <td>771.323512</td>\n",
       "      <td>1.0</td>\n",
       "    </tr>\n",
       "    <tr>\n",
       "      <th>std</th>\n",
       "      <td>0.0</td>\n",
       "      <td>31.130045</td>\n",
       "      <td>76.902733</td>\n",
       "      <td>17.694260</td>\n",
       "      <td>150.171602</td>\n",
       "      <td>320.629240</td>\n",
       "      <td>473.648036</td>\n",
       "      <td>0.0</td>\n",
       "    </tr>\n",
       "    <tr>\n",
       "      <th>min</th>\n",
       "      <td>7.0</td>\n",
       "      <td>-59.462856</td>\n",
       "      <td>1.923095</td>\n",
       "      <td>3.957675</td>\n",
       "      <td>267.000000</td>\n",
       "      <td>39.000000</td>\n",
       "      <td>1.000000</td>\n",
       "      <td>1.0</td>\n",
       "    </tr>\n",
       "    <tr>\n",
       "      <th>25%</th>\n",
       "      <td>7.0</td>\n",
       "      <td>-7.911136</td>\n",
       "      <td>29.776712</td>\n",
       "      <td>20.879581</td>\n",
       "      <td>319.000000</td>\n",
       "      <td>485.000000</td>\n",
       "      <td>354.250000</td>\n",
       "      <td>1.0</td>\n",
       "    </tr>\n",
       "    <tr>\n",
       "      <th>50%</th>\n",
       "      <td>7.0</td>\n",
       "      <td>22.329545</td>\n",
       "      <td>122.240669</td>\n",
       "      <td>30.825462</td>\n",
       "      <td>373.000000</td>\n",
       "      <td>642.000000</td>\n",
       "      <td>753.000000</td>\n",
       "      <td>1.0</td>\n",
       "    </tr>\n",
       "    <tr>\n",
       "      <th>75%</th>\n",
       "      <td>7.0</td>\n",
       "      <td>47.299562</td>\n",
       "      <td>181.921539</td>\n",
       "      <td>50.233661</td>\n",
       "      <td>526.000000</td>\n",
       "      <td>838.000000</td>\n",
       "      <td>1175.750000</td>\n",
       "      <td>1.0</td>\n",
       "    </tr>\n",
       "    <tr>\n",
       "      <th>max</th>\n",
       "      <td>7.0</td>\n",
       "      <td>87.368568</td>\n",
       "      <td>237.439041</td>\n",
       "      <td>78.797569</td>\n",
       "      <td>781.000000</td>\n",
       "      <td>1246.000000</td>\n",
       "      <td>1618.000000</td>\n",
       "      <td>1.0</td>\n",
       "    </tr>\n",
       "  </tbody>\n",
       "</table>\n",
       "</div>"
      ],
      "text/plain": [
       "       longueur        angle       weight    precision         xPos  \\\n",
       "count    3326.0  3326.000000  3326.000000  3326.000000  3326.000000   \n",
       "mean        7.0    19.488890   109.363945    35.894573   433.093806   \n",
       "std         0.0    31.130045    76.902733    17.694260   150.171602   \n",
       "min         7.0   -59.462856     1.923095     3.957675   267.000000   \n",
       "25%         7.0    -7.911136    29.776712    20.879581   319.000000   \n",
       "50%         7.0    22.329545   122.240669    30.825462   373.000000   \n",
       "75%         7.0    47.299562   181.921539    50.233661   526.000000   \n",
       "max         7.0    87.368568   237.439041    78.797569   781.000000   \n",
       "\n",
       "              yPos        group   layer  \n",
       "count  3326.000000  3326.000000  3326.0  \n",
       "mean    638.244438   771.323512     1.0  \n",
       "std     320.629240   473.648036     0.0  \n",
       "min      39.000000     1.000000     1.0  \n",
       "25%     485.000000   354.250000     1.0  \n",
       "50%     642.000000   753.000000     1.0  \n",
       "75%     838.000000  1175.750000     1.0  \n",
       "max    1246.000000  1618.000000     1.0  "
      ]
     },
     "execution_count": 76,
     "metadata": {},
     "output_type": "execute_result"
    }
   ],
   "source": [
    "titi.describe()"
   ]
  },
  {
   "cell_type": "code",
   "execution_count": null,
   "metadata": {},
   "outputs": [],
   "source": []
  }
 ],
 "metadata": {
  "kernelspec": {
   "display_name": "Python 3",
   "language": "python",
   "name": "python3"
  },
  "language_info": {
   "codemirror_mode": {
    "name": "ipython",
    "version": 3
   },
   "file_extension": ".py",
   "mimetype": "text/x-python",
   "name": "python",
   "nbconvert_exporter": "python",
   "pygments_lexer": "ipython3",
   "version": "3.7.3"
  },
  "toc": {
   "base_numbering": 1,
   "nav_menu": {},
   "number_sections": true,
   "sideBar": true,
   "skip_h1_title": false,
   "title_cell": "Table of Contents",
   "title_sidebar": "Contents",
   "toc_cell": false,
   "toc_position": {},
   "toc_section_display": true,
   "toc_window_display": true
  },
  "varInspector": {
   "cols": {
    "lenName": 16,
    "lenType": 16,
    "lenVar": 40
   },
   "kernels_config": {
    "python": {
     "delete_cmd_postfix": "",
     "delete_cmd_prefix": "del ",
     "library": "var_list.py",
     "varRefreshCmd": "print(var_dic_list())"
    },
    "r": {
     "delete_cmd_postfix": ") ",
     "delete_cmd_prefix": "rm(",
     "library": "var_list.r",
     "varRefreshCmd": "cat(var_dic_list()) "
    }
   },
   "types_to_exclude": [
    "module",
    "function",
    "builtin_function_or_method",
    "instance",
    "_Feature"
   ],
   "window_display": false
  }
 },
 "nbformat": 4,
 "nbformat_minor": 2
}
