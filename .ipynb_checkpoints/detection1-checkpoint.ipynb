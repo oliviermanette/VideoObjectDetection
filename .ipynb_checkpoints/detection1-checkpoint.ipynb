{
 "cells": [
  {
   "cell_type": "code",
   "execution_count": 1,
   "metadata": {
    "ExecuteTime": {
     "end_time": "2019-07-18T07:21:09.938844Z",
     "start_time": "2019-07-18T07:21:07.912417Z"
    }
   },
   "outputs": [],
   "source": [
    "import cv2\n",
    "import numpy as np\n",
    "import os\n",
    "import matplotlib\n",
    "import matplotlib.pyplot as plt\n",
    "from numba import jit\n",
    "#from numpy import pi\n",
    "import pandas as pd"
   ]
  },
  {
   "cell_type": "code",
   "execution_count": 2,
   "metadata": {
    "ExecuteTime": {
     "end_time": "2019-07-18T07:21:09.949103Z",
     "start_time": "2019-07-18T07:21:09.942168Z"
    }
   },
   "outputs": [],
   "source": [
    "path = \"/Users/oliviermanette/Desktop/trailer detection challenge/data/P473_Arizona_Day_Asphalt_Close_To_Sunset_dry_Nominal_8300lx\"\n",
    "os.chdir(path)\n",
    "fileName='P473_Arizona_Day_Asphalt_Close_To_Sunset_dry_Nominal_8300lx.avi'"
   ]
  },
  {
   "cell_type": "code",
   "execution_count": 3,
   "metadata": {
    "ExecuteTime": {
     "end_time": "2019-07-18T07:21:09.961555Z",
     "start_time": "2019-07-18T07:21:09.953527Z"
    }
   },
   "outputs": [],
   "source": [
    "lNeuronType = np.dtype([('longueur', 'u1'), \n",
    "                            ('angle', 'f4'),\n",
    "                            ('weight', 'f4'), \n",
    "                            ('precision', 'f4'), \n",
    "                            ('xPos', 'u1'),('yPos', 'u2'), \n",
    "                            ('group', 'u1')])"
   ]
  },
  {
   "cell_type": "code",
   "execution_count": 4,
   "metadata": {
    "ExecuteTime": {
     "end_time": "2019-07-18T07:21:10.164461Z",
     "start_time": "2019-07-18T07:21:09.968279Z"
    }
   },
   "outputs": [],
   "source": [
    "@jit(nopython=True, parallel=True)\n",
    "def nbPixelField(tableX, tableY, frameEdge, tailleField=3):\n",
    "    idx = 0\n",
    "    results = np.zeros(tableX.size)\n",
    "    rayon = np.floor(tailleField / 2)\n",
    "    tailleMaxX = frameEdge.shape[0]\n",
    "    tailleMaxY = frameEdge.shape[1]\n",
    "    halfY = tailleMaxY/2;\n",
    "    #[::tailleField]\n",
    "    for posX in tableX:\n",
    "        posY = tableY[idx]\n",
    "        if posY>halfY and posX >= rayon and (posX + rayon) < tailleMaxX:\n",
    "            results[idx] = np.sum(\n",
    "                frameEdge[int(posX - rayon):int(posX + rayon + 1),\n",
    "                        int(posY - rayon):int(posY + rayon + 1)] / 255)\n",
    "        idx += 1#tailleField\n",
    "    return results"
   ]
  },
  {
   "cell_type": "code",
   "execution_count": 5,
   "metadata": {
    "ExecuteTime": {
     "end_time": "2019-07-18T07:21:10.180981Z",
     "start_time": "2019-07-18T07:21:10.167416Z"
    }
   },
   "outputs": [],
   "source": [
    "@jit(nopython=True, parallel=True)\n",
    "def fillAngleMat(size):\n",
    "    output = np.zeros((size, size))\n",
    "    offset = int(np.floor(size / 2))\n",
    "    for x in range(0, size):\n",
    "        for y in range(0, size):\n",
    "            if (x - offset) == 0:\n",
    "                output[x, y] = 90\n",
    "            else:\n",
    "                output[x, y] = np.around(\n",
    "                    np.arctan((y - offset) / (offset - x)) / pi * 180,\n",
    "                    2)\n",
    "    output[offset, offset] = 0\n",
    "    return output"
   ]
  },
  {
   "cell_type": "code",
   "execution_count": 6,
   "metadata": {
    "ExecuteTime": {
     "end_time": "2019-07-18T07:21:10.194561Z",
     "start_time": "2019-07-18T07:21:10.184357Z"
    }
   },
   "outputs": [],
   "source": [
    "@jit(nopython=True, parallel=True)\n",
    "def sigmoidActivationFctN1(activationVector):\n",
    "    lDenom = (1+np.exp(0.1*(np.abs(np.std(activationVector))-30)))\n",
    "    return 255/lDenom"
   ]
  },
  {
   "cell_type": "code",
   "execution_count": 7,
   "metadata": {
    "ExecuteTime": {
     "end_time": "2019-07-18T07:21:10.207448Z",
     "start_time": "2019-07-18T07:21:10.198684Z"
    }
   },
   "outputs": [],
   "source": [
    "def moveCoordDeg(angle, startX, startY, distance):\n",
    "    tipX = startX+ distance * np.sin(angle/180*pi);\n",
    "    tipY = startY- distance * np.cos(angle/180*pi);\n",
    "    return tipX,tipY"
   ]
  },
  {
   "cell_type": "code",
   "execution_count": 8,
   "metadata": {
    "ExecuteTime": {
     "end_time": "2019-07-18T07:21:10.239035Z",
     "start_time": "2019-07-18T07:21:10.215131Z"
    }
   },
   "outputs": [],
   "source": [
    "def getNFCoordinate(lNeurone):\n",
    "    lintDist = int(np.floor(lNeurone.longueur/2))\n",
    "    if np.abs(lNeurone.angle/180*np.pi)<45:\n",
    "        lAlpha = lNeurone.angle/180*pi\n",
    "        lintX1 = np.around(lNeurone.xPos - lintDist * np.tan(lAlpha));\n",
    "        lintY1 = lNeurone.yPos + lintDist;\n",
    "        lintX2 = np.around(lNeurone.xPos + lintDist * np.tan(lAlpha));\n",
    "        lintY2 = lNeurone.yPos - lintDist;\n",
    "    else:\n",
    "        lAlpha = 90 - lNeurone.angle/180*pi\n",
    "        lintY1 = np.around(lNeurone.yPos - lintDist * np.tan(lAlpha));\n",
    "        lintX1 = lNeurone.xPos - lintDist;\n",
    "        lintY2 = np.around(lNeurone.yPos + lintDist * np.tan(lAlpha));\n",
    "        lintX1 = lNeurone.xPos + lintDist\n",
    "    lP1 = (lintX1, lintY1)\n",
    "    lP2 = (lintX2, lintY2)\n",
    "    return lP1,lP2"
   ]
  },
  {
   "cell_type": "code",
   "execution_count": null,
   "metadata": {
    "ExecuteTime": {
     "end_time": "2019-07-18T07:22:41.705553Z",
     "start_time": "2019-07-18T07:21:42.150Z"
    }
   },
   "outputs": [],
   "source": [
    "def getNextPosition(neuroneMoyen):\n",
    "    return moveCoordDeg(float(neuroneMoyen.angle),int(neuroneMoyen.xPos),int(neuroneMoyen.yPos),int(neuroneMoyen.longueur))"
   ]
  },
  {
   "cell_type": "code",
   "execution_count": 10,
   "metadata": {
    "ExecuteTime": {
     "end_time": "2019-07-18T07:21:10.283164Z",
     "start_time": "2019-07-18T07:21:10.266951Z"
    }
   },
   "outputs": [],
   "source": [
    "def getAvgFieldNeuron(neuronList,typeList=lNeuronType):\n",
    "    lNeurons = np.zeros(1, dtype=typeList);\n",
    "    lpNeurons = pd.DataFrame(lNeurons);\n",
    "    lpNeurons['longueur'] = int(neuronList.longueur[0:1]);\n",
    "    lpNeurons['angle'] = float(np.sum((closest.angle * closest.weight)/np.sum(closest.weight)))\n",
    "    lpNeurons['weight'] = float(np.sum((closest.weight * closest.weight)/np.sum(closest.weight)))\n",
    "    lpNeurons['precision'] = float(np.sum((closest.precision * closest.weight)/np.sum(closest.weight)))\n",
    "    lpNeurons['xPos'] = int(np.sum((closest.xPos * closest.weight)/np.sum(closest.weight)))\n",
    "    lpNeurons['yPos'] = int(np.sum((closest.yPos * closest.weight)/np.sum(closest.weight)))\n",
    "    return lpNeurons;"
   ]
  },
  {
   "cell_type": "code",
   "execution_count": 11,
   "metadata": {
    "ExecuteTime": {
     "end_time": "2019-07-18T07:21:10.314707Z",
     "start_time": "2019-07-18T07:21:10.288024Z"
    }
   },
   "outputs": [],
   "source": [
    "def getNeuronActivationList(idxX, idxY, size, frameE, nbPixelPts,layer = 1):\n",
    "    #commencer par créer le tableau de neurones\n",
    "    lNeuronType = np.dtype([('longueur', 'u1'), \n",
    "                            ('angle', 'f4'),\n",
    "                            ('weight', 'f4'), \n",
    "                            ('precision', 'f4'), \n",
    "                            ('xPos', 'u1'),('yPos', 'u2'), \n",
    "                            ('group', 'u1')])\n",
    "\n",
    "    lCriterion = nbPixelPts > size\n",
    "\n",
    "    nbNeurons = sum(lCriterion)\n",
    "    lNeurons = np.zeros(nbNeurons, dtype=lNeuronType)\n",
    "    lpNeurons = pd.DataFrame(lNeurons)\n",
    "    lpNeurons['longueur'] = size\n",
    "    lpNeurons['layer'] = layer\n",
    "\n",
    "    offsetField = int(np.floor(size/2));\n",
    "    lAngleMat = fillAngleMat(size)\n",
    "    \n",
    "    newX = idxX[lCriterion]\n",
    "    newY = idxY[lCriterion]\n",
    "\n",
    "    pos=0;\n",
    "    lnPos = 0;\n",
    "    for lintX in newX:\n",
    "        lintY = newY[pos];\n",
    "\n",
    "        lNeuronFieldFrame = frameE[int(lintX - offsetField):int(lintX + offsetField + 1),\n",
    "                        int(lintY - offsetField):int(lintY + offsetField + 1)]/255\n",
    "\n",
    "        tmp = np.multiply(lAngleMat,lNeuronFieldFrame)\n",
    "\n",
    "        lNeuronFieldValues = tmp[np.nonzero(tmp)]\n",
    "        if (lNeuronFieldValues.size>0):\n",
    "            lpNeurons.loc[pos,['angle']] = np.mean(lNeuronFieldValues)\n",
    "            lpNeurons.loc[pos,['weight']] = sigmoidActivationFctN1(lNeuronFieldValues)\n",
    "            lpNeurons.loc[pos,['precision']] = np.std(lNeuronFieldValues)\n",
    "            lpNeurons.loc[pos,['xPos']] = lintX\n",
    "            lpNeurons.loc[pos,['yPos']] = lintY\n",
    "\n",
    "            lnPos += 1;\n",
    "        else:\n",
    "            True #print (\"error it shouldn't be zero\")\n",
    "        pos +=1 \n",
    "    return lpNeurons"
   ]
  },
  {
   "cell_type": "code",
   "execution_count": 12,
   "metadata": {
    "ExecuteTime": {
     "end_time": "2019-07-18T07:21:10.330162Z",
     "start_time": "2019-07-18T07:21:10.320492Z"
    }
   },
   "outputs": [],
   "source": [
    "def closestFieldNeurons(neuronList, posX, posY, distance):\n",
    "    return neuronList[(neuronList.xPos > posX - distance)\n",
    "               & (neuronList.xPos < posX + distance) &\n",
    "               (neuronList.yPos > posY - distance) &\n",
    "               (neuronList.yPos < posY + distance)]"
   ]
  },
  {
   "cell_type": "code",
   "execution_count": 13,
   "metadata": {
    "ExecuteTime": {
     "end_time": "2019-07-18T07:21:10.366322Z",
     "start_time": "2019-07-18T07:21:10.336424Z"
    }
   },
   "outputs": [],
   "source": [
    "def findGroups(neuronList):\n",
    "\n",
    "    # Sélection d'un nouveau numéro de Groupe (GroupID)\n",
    "    lintCurrentGroupID = 0\n",
    "    lintNbGroups = 0\n",
    "    lIndex = 0\n",
    "\n",
    "    # liste des neurones sans groupe\n",
    "    lNoGroupList = neuronList[neuronList.group == 0]\n",
    "    \n",
    "    while lNoGroupList.shape[0]>0:\n",
    "\n",
    "        #Sélection d'un neurone dans la liste (ceux sans groupID ou groupID=0)\n",
    "        lMoyenNeuron = lNoGroupList.iloc[0]\n",
    "        lIndex = lNoGroupList.head().index.values[0]\n",
    "        \n",
    "        while True:\n",
    "            #Assignation d'un nouveau numéro de GroupID en cours\n",
    "            lintNbGroups += 1\n",
    "            lintCurrentGroupID += 1\n",
    "            if neuronList[neuronList.group == lintCurrentGroupID].shape[0] == 0:\n",
    "                break\n",
    "        \n",
    "        neuronList.loc[lIndex, ['group']] = lintCurrentGroupID\n",
    "\n",
    "        #déplacement\n",
    "        lnPos = getNextPosition(lMoyenNeuron)\n",
    "\n",
    "        #recherche de neurones proches\n",
    "        lClosestNeurons = closestFieldNeurons(neuronList, lnPos[0], lnPos[1],\n",
    "                                              int(np.floor(lMoyenNeuron.longueur / 2)))\n",
    "\n",
    "        #Oui ==> retour étape 1\n",
    "        while lClosestNeurons.shape[0] != 0:\n",
    "            #recherche des groupID dans cette sous-sélection\n",
    "            if lClosestNeurons[lClosestNeurons.group > 0].shape[0] == 0:\n",
    "                #Non => Assigner à tous les neurones de la sous-sélection le groupID en cours => aller directement à l'étape 7\n",
    "                for lintIdx in lClosestNeurons.head().index.values:\n",
    "                    neuronList.loc[lintIdx, ['group']] = lintCurrentGroupID\n",
    "            else:\n",
    "                #Oui\n",
    "                #Récupération de la liste de tous les groupID utilisés\n",
    "                #Sélection du groupID le plus petit (en comparant aussi avec le groupID en cours)\n",
    "                lintPreviousGroupID = lintCurrentGroupID\n",
    "                lintCurrentGroupID = np.min(\n",
    "                    lClosestNeurons[lClosestNeurons.group > 0].group)\n",
    "                #Assigner à tous les neurones de la sous-sélection ce nouveau groupID\n",
    "                for lintIdx in lClosestNeurons.head().index.values:\n",
    "                    neuronList.loc[lintIdx, ['group']] = lintCurrentGroupID\n",
    "                    #remplacer dans la liste globale, pour chaque groupID présent dans la liste par le nouveau groupID\n",
    "                    for lintGroupID in lClosestNeurons[\n",
    "                            lClosestNeurons.group > 0].group:\n",
    "                        neuronList.loc[neuronList.group ==\n",
    "                                       lintGroupID, 'group'] = lintCurrentGroupID\n",
    "                if lintPreviousGroupID == lintCurrentGroupID:\n",
    "                    #si tous les neurones\n",
    "                    if lClosestNeurons[\n",
    "                            lClosestNeurons.group > 0].shape[0] == lClosestNeurons[\n",
    "                                lClosestNeurons.group ==\n",
    "                                lintPreviousGroupID].shape[0]:\n",
    "                        break  # sortie de la boucle while\n",
    "            #Calcul du neurone Field moyen\n",
    "            lMoyenNeuron = getAvgFieldNeuron(lClosestNeurons)\n",
    "            #déplacement\n",
    "            lnPos = getNextPosition(lMoyenNeuron)\n",
    "\n",
    "            #recherche de neurones proches\n",
    "            lClosestNeurons = closestFieldNeurons(\n",
    "                neuronList, lnPos[0], lnPos[1],\n",
    "                int(np.floor(lMoyenNeuron.longueur / 2)))\n",
    "            \n",
    "        lNoGroupList = neuronList[neuronList.group == 0]\n",
    "    return neuronList"
   ]
  },
  {
   "cell_type": "code",
   "execution_count": 14,
   "metadata": {
    "ExecuteTime": {
     "end_time": "2019-07-18T07:21:10.383847Z",
     "start_time": "2019-07-18T07:21:10.370726Z"
    }
   },
   "outputs": [],
   "source": [
    "def drawFieldNeurons(lNeuronList, lBitmap):\n",
    "    for index, lNeuron in lNeuronList.iterrows():\n",
    "    #for lNeuron in lNeuronList:\n",
    "        lCoord = getNFCoordinate(lNeuron)\n",
    "        #print(lNeuron)\n",
    "        try:\n",
    "            cv2.line(lBitmap,lCoord[0],lCoord[1],(int(lNeuron.weight),int(lNeuron.weight),int(lNeuron.weight)), 3)\n",
    "        except:\n",
    "            True\n",
    "    return lBitmap"
   ]
  },
  {
   "cell_type": "code",
   "execution_count": 15,
   "metadata": {
    "ExecuteTime": {
     "end_time": "2019-07-18T07:22:41.213812Z",
     "start_time": "2019-07-18T07:21:10.387572Z"
    }
   },
   "outputs": [],
   "source": [
    "kernelSize=19   # Kernel Bluring size \n",
    "\n",
    "# Edge Detection Parameter\n",
    "parameter1=20\n",
    "parameter2=40\n",
    "intApertureSize=1\n",
    "\n",
    "#cap = cv2.VideoCapture(0)\n",
    "cap = cv2.VideoCapture(fileName)\n",
    "lCounter=0\n",
    "while(cap.isOpened()):\n",
    "    # Capture frame-by-frame\n",
    "    ret, frame = cap.read()    \n",
    "    if ret==True:\n",
    "        # Our operations on the frame come here\n",
    "        #frame = cv2.normalize(frame,  frame, 0, 255, cv2.NORM_MINMAX)\n",
    "        if lCounter==0:\n",
    "            frame = cv2.GaussianBlur(frame, (kernelSize,kernelSize), 0, 0)\n",
    "            frame = cv2.Canny(frame,parameter1,parameter2,intApertureSize)  # Canny edge detection\n",
    "            indices = np.where(frame != [0])\n",
    "            lCounter = 10\n",
    "        lCounter -= 1;\n",
    "        # Display the resulting frame\n",
    "        cv2.imshow('Canny',frame)\n",
    "        if cv2.waitKey(1) & 0xFF == ord('q'):  # press q to quit\n",
    "            break\n",
    "    else:\n",
    "        break\n",
    "# When everything done, release the capture\n",
    "cap.release()\n",
    "cv2.destroyAllWindows()"
   ]
  },
  {
   "cell_type": "code",
   "execution_count": null,
   "metadata": {},
   "outputs": [],
   "source": []
  }
 ],
 "metadata": {
  "kernelspec": {
   "display_name": "Python 3",
   "language": "python",
   "name": "python3"
  },
  "language_info": {
   "codemirror_mode": {
    "name": "ipython",
    "version": 3
   },
   "file_extension": ".py",
   "mimetype": "text/x-python",
   "name": "python",
   "nbconvert_exporter": "python",
   "pygments_lexer": "ipython3",
   "version": "3.7.3"
  },
  "toc": {
   "base_numbering": 1,
   "nav_menu": {},
   "number_sections": true,
   "sideBar": true,
   "skip_h1_title": false,
   "title_cell": "Table of Contents",
   "title_sidebar": "Contents",
   "toc_cell": false,
   "toc_position": {},
   "toc_section_display": true,
   "toc_window_display": false
  },
  "varInspector": {
   "cols": {
    "lenName": 16,
    "lenType": 16,
    "lenVar": 40
   },
   "kernels_config": {
    "python": {
     "delete_cmd_postfix": "",
     "delete_cmd_prefix": "del ",
     "library": "var_list.py",
     "varRefreshCmd": "print(var_dic_list())"
    },
    "r": {
     "delete_cmd_postfix": ") ",
     "delete_cmd_prefix": "rm(",
     "library": "var_list.r",
     "varRefreshCmd": "cat(var_dic_list()) "
    }
   },
   "types_to_exclude": [
    "module",
    "function",
    "builtin_function_or_method",
    "instance",
    "_Feature"
   ],
   "window_display": false
  }
 },
 "nbformat": 4,
 "nbformat_minor": 2
}
