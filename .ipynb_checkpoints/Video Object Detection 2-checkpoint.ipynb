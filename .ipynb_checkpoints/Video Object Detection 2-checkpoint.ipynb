{
 "cells": [
  {
   "cell_type": "markdown",
   "metadata": {},
   "source": [
    "# Preamble \n",
    "L'objectif de ce document est de présenter un algorithme de détermination de l'angle d'une remorque à l'arrière d'un véhicule équipé d'une caméra vidéo.\n"
   ]
  },
  {
   "cell_type": "markdown",
   "metadata": {},
   "source": [
    "# import\n",
    "Le programme écrit en python s'appuie sur plusieurs bibliothèques existantes standard."
   ]
  },
  {
   "cell_type": "code",
   "execution_count": 67,
   "metadata": {
    "ExecuteTime": {
     "end_time": "2019-07-22T22:59:16.480761Z",
     "start_time": "2019-07-22T22:59:16.472363Z"
    }
   },
   "outputs": [
    {
     "name": "stdout",
     "output_type": "stream",
     "text": [
      "4.1.0\n"
     ]
    }
   ],
   "source": [
    "import cv2\n",
    "print(cv2.__version__)\n",
    "import matplotlib\n",
    "import matplotlib.pyplot as plt\n",
    "import numpy as np\n",
    "from numpy import pi\n",
    "import pandas as pd\n",
    "import os\n",
    "from numba import jit\n",
    "from scipy.signal import find_peaks"
   ]
  },
  {
   "cell_type": "markdown",
   "metadata": {},
   "source": [
    "# File selection"
   ]
  },
  {
   "cell_type": "code",
   "execution_count": 68,
   "metadata": {
    "ExecuteTime": {
     "end_time": "2019-07-22T22:59:16.492173Z",
     "start_time": "2019-07-22T22:59:16.486157Z"
    }
   },
   "outputs": [],
   "source": [
    "path = \"/Users/oliviermanette/Desktop/trailer detection challenge/data/P473_Arizona_Day_Asphalt_Close_To_Sunset_dry_Nominal_8300lx\"\n",
    "os.chdir(path)"
   ]
  },
  {
   "cell_type": "code",
   "execution_count": 69,
   "metadata": {
    "ExecuteTime": {
     "end_time": "2019-07-22T22:59:16.507066Z",
     "start_time": "2019-07-22T22:59:16.497319Z"
    }
   },
   "outputs": [
    {
     "data": {
      "text/plain": [
       "'/Users/oliviermanette/Desktop/trailer detection challenge/data/P473_Arizona_Day_Asphalt_Close_To_Sunset_dry_Nominal_8300lx'"
      ]
     },
     "execution_count": 69,
     "metadata": {},
     "output_type": "execute_result"
    }
   ],
   "source": [
    "pwd"
   ]
  },
  {
   "cell_type": "code",
   "execution_count": 70,
   "metadata": {
    "ExecuteTime": {
     "end_time": "2019-07-22T22:59:16.657971Z",
     "start_time": "2019-07-22T22:59:16.511418Z"
    }
   },
   "outputs": [
    {
     "name": "stdout",
     "output_type": "stream",
     "text": [
      "\u001b[1m\u001b[32mP473_Arizona_Day_Asphalt_Close_To_Sunset_dry_Nominal_8300lx.avi\u001b[m\u001b[m*\r\n",
      "\u001b[1m\u001b[32mP473_Arizona_Day_Asphalt_Close_To_Sunset_dry_Nominal_8300lx.dat_GT.csv\u001b[m\u001b[m*\r\n"
     ]
    }
   ],
   "source": [
    "ls"
   ]
  },
  {
   "cell_type": "code",
   "execution_count": 71,
   "metadata": {
    "ExecuteTime": {
     "end_time": "2019-07-22T22:59:16.668641Z",
     "start_time": "2019-07-22T22:59:16.662175Z"
    }
   },
   "outputs": [],
   "source": [
    "#fileName='W420_ES_Hi_Snow_Slush_Asphalt_28klux.avi'\n",
    "fileName = 'P473_Arizona_Day_Asphalt_Close_To_Sunset_dry_Nominal_8300lx.avi'"
   ]
  },
  {
   "cell_type": "markdown",
   "metadata": {},
   "source": [
    "# Test Video Loop"
   ]
  },
  {
   "cell_type": "code",
   "execution_count": 72,
   "metadata": {
    "ExecuteTime": {
     "end_time": "2019-07-22T22:59:30.005047Z",
     "start_time": "2019-07-22T22:59:16.672954Z"
    }
   },
   "outputs": [],
   "source": [
    "cap = cv2.VideoCapture(fileName)  # load the video\n",
    "while (cap.isOpened()):  # play the video by reading frame by frame\n",
    "    ret, frame = cap.read()\n",
    "    if ret == True:\n",
    "        # optional: do some image processing here\n",
    "        cv2.imshow('frame', frame)\n",
    "        # show the video\n",
    "        if cv2.waitKey(1) & 0xFF == ord('q'):\n",
    "            #if 0xFF == ord('q'):\n",
    "            break\n",
    "    else:\n",
    "        break\n",
    "cap.release()\n",
    "cv2.destroyAllWindows()"
   ]
  },
  {
   "cell_type": "markdown",
   "metadata": {},
   "source": [
    "# Variables globales\n",
    "Pour des raisons de lisibilité du code, l'ensemble des variables locales seront précédés du préfixe 'l' afin de les différencier des variables globales qui n'ont pas de préfixe.\n",
    "## Type de données de position"
   ]
  },
  {
   "cell_type": "code",
   "execution_count": 73,
   "metadata": {
    "ExecuteTime": {
     "end_time": "2019-07-22T22:59:30.014167Z",
     "start_time": "2019-07-22T22:59:30.007575Z"
    }
   },
   "outputs": [],
   "source": [
    "posType = np.dtype([('x', 'u1'), ('y', 'u2')])"
   ]
  },
  {
   "cell_type": "markdown",
   "metadata": {},
   "source": [
    "## Type de données de Neurones\n",
    "### Neurone sensoriel à champs récepteur"
   ]
  },
  {
   "cell_type": "code",
   "execution_count": 74,
   "metadata": {
    "ExecuteTime": {
     "end_time": "2019-07-22T22:59:30.027601Z",
     "start_time": "2019-07-22T22:59:30.019942Z"
    }
   },
   "outputs": [],
   "source": [
    "NeuronType = np.dtype([('longueur', 'u1'), ('angle', 'f4'), ('weight', 'f4'),\n",
    "                       ('precision', 'f4'), ('xPos', 'u1'), ('yPos', 'u2'),\n",
    "                       ('groupID', 'u1'), ('layer', 'f4')])"
   ]
  },
  {
   "cell_type": "code",
   "execution_count": 75,
   "metadata": {
    "ExecuteTime": {
     "end_time": "2019-07-22T22:59:30.039951Z",
     "start_time": "2019-07-22T22:59:30.031298Z"
    }
   },
   "outputs": [],
   "source": [
    "moveType = np.dtype([('longueur', 'u1'), ('angle', 'f4'), ('weight', 'f4'),\n",
    "                        ('xPos', 'u1'), ('yPos', 'u2')])"
   ]
  },
  {
   "cell_type": "markdown",
   "metadata": {},
   "source": [
    "## Taille des champs récepteurs neuronaux"
   ]
  },
  {
   "cell_type": "code",
   "execution_count": 76,
   "metadata": {
    "ExecuteTime": {
     "end_time": "2019-07-22T22:59:30.050029Z",
     "start_time": "2019-07-22T22:59:30.043713Z"
    }
   },
   "outputs": [],
   "source": [
    "tailleField = 9"
   ]
  },
  {
   "cell_type": "code",
   "execution_count": 77,
   "metadata": {
    "ExecuteTime": {
     "end_time": "2019-07-22T22:59:30.060239Z",
     "start_time": "2019-07-22T22:59:30.053439Z"
    }
   },
   "outputs": [],
   "source": [
    "NOPIXELVALUE = 999\n",
    "DEFAULT_BIN_SIZE = 256;\n",
    "ANGLE_BIN_SIZE = 45\n",
    "BINWIDTH_SELECT = 5"
   ]
  },
  {
   "cell_type": "markdown",
   "metadata": {},
   "source": [
    "# Fonctions\n",
    "## Calcul d'un neurone champ moyen\n",
    "A partir d'une liste de neurones, il retourne le neurone moyen"
   ]
  },
  {
   "cell_type": "code",
   "execution_count": 78,
   "metadata": {
    "ExecuteTime": {
     "end_time": "2019-07-22T22:59:30.078601Z",
     "start_time": "2019-07-22T22:59:30.063103Z"
    }
   },
   "outputs": [],
   "source": [
    "#@jit(nopython=True, parallel=True)\n",
    "def getAvgFieldNeuron(lNeuronList, typeList=NeuronType):\n",
    "    lNeurons = np.zeros(1, dtype=typeList)\n",
    "    lpNeurons = pd.DataFrame(lNeurons)\n",
    "    lpNeurons['longueur'] = int(lNeuronList.longueur[0:1])\n",
    "    lpNeurons['angle'] = float(\n",
    "        np.sum((lNeuronList.angle * lNeuronList.weight) /\n",
    "               np.sum(lNeuronList.weight)))\n",
    "    lpNeurons['weight'] = float(\n",
    "        np.sum((lNeuronList.weight * lNeuronList.weight) /\n",
    "               np.sum(lNeuronList.weight)))\n",
    "    lpNeurons['precision'] = float(\n",
    "        np.sum((lNeuronList.precision * lNeuronList.weight) /\n",
    "               np.sum(lNeuronList.weight)))\n",
    "    lpNeurons['xPos'] = np.around(\n",
    "        np.sum((lNeuronList.xPos * lNeuronList.weight)) /\n",
    "               np.sum(lNeuronList.weight))\n",
    "    lpNeurons['yPos'] = np.around(\n",
    "        np.sum((lNeuronList.yPos * lNeuronList.weight)) /\n",
    "               np.sum(lNeuronList.weight))\n",
    "    return lpNeurons"
   ]
  },
  {
   "cell_type": "markdown",
   "metadata": {},
   "source": [
    "## Matrice des directions\n",
    "Afin de faciliter le calcul des angles des pixels, une matrice de poids est générée afin d'appliquer à chaque pixel centré sur un champs récepteur un poids correspondant à l'angle d'une ligne passant par ce centre.\n",
    "Voici comment les angles sont représentés <br> <b>IMAGE</b>"
   ]
  },
  {
   "cell_type": "code",
   "execution_count": 79,
   "metadata": {
    "ExecuteTime": {
     "end_time": "2019-07-22T22:59:30.096174Z",
     "start_time": "2019-07-22T22:59:30.082541Z"
    }
   },
   "outputs": [],
   "source": [
    "@jit(nopython=True, parallel=True)\n",
    "def fillAngleMat(lSize):\n",
    "    lOutput = np.zeros((lSize, lSize))\n",
    "    lOffset = int(np.floor(lSize / 2))\n",
    "    for lX in range(0, lSize):\n",
    "        for lY in range(0, lSize):\n",
    "            if (lX - lOffset) == 0:\n",
    "                lOutput[lX, lY] = 90\n",
    "            else:\n",
    "                lOutput[lX, lY] = 0.01 + np.around(\n",
    "                    np.arctan((lY - lOffset) / (lOffset - lX)) / pi * 180, 2)\n",
    "    lOutput[lOffset, lOffset] = 0\n",
    "    return lOutput"
   ]
  },
  {
   "cell_type": "markdown",
   "metadata": {},
   "source": [
    "## Fonction d'activation des neurones\n",
    "Chaque neurone retourne une valeur comprise entre 0 et 255 qui reflète son niveau d'activation. Cette activation reflète le niveau de confiance que le neurone a sur le lien existant entre sa fonction de base et les pixels reçus dans son champs récepteur. Plus les pixels sont organisés de façon à former une ligne avec l'angle correspondant à la fonction de base du neurone et plus ce dernier sera activé. Comme on ne souhaite pas obtenir une activation de valeur infinie, on utilise donc une fonction sigmoide qui s'applique à l'écart-type des angles supposés. "
   ]
  },
  {
   "cell_type": "code",
   "execution_count": 80,
   "metadata": {
    "ExecuteTime": {
     "end_time": "2019-07-22T22:59:30.109409Z",
     "start_time": "2019-07-22T22:59:30.101243Z"
    }
   },
   "outputs": [],
   "source": [
    "@jit(nopython=True, parallel=True)\n",
    "def sigmoidActivationFctN1(lActivationVector):\n",
    "    lDenom = (1 + np.exp(0.1 * (np.abs(np.std(lActivationVector)) - 30)))\n",
    "    return 255 / lDenom"
   ]
  },
  {
   "cell_type": "markdown",
   "metadata": {},
   "source": [
    "## Création d'une liste de neurones à champs récepteurs"
   ]
  },
  {
   "cell_type": "code",
   "execution_count": 81,
   "metadata": {
    "ExecuteTime": {
     "end_time": "2019-07-22T22:59:30.147335Z",
     "start_time": "2019-07-22T22:59:30.115513Z"
    }
   },
   "outputs": [],
   "source": [
    "#@jit(nopython=True, parallel=True)\n",
    "def getNeuronActivationList(idxX,\n",
    "                            idxY,\n",
    "                            size,\n",
    "                            frameE,\n",
    "                            nbPixelPts,\n",
    "                            lNeuronType=NeuronType,\n",
    "                            lVerbose=False):\n",
    "    # Il doit y avoir un nombre minimal de pixels\n",
    "    # dans le champs récepteur du neurone\n",
    "    lCriterion = nbPixelPts >= size\n",
    "    \n",
    "    # Création d'un tableau panda de neurones\n",
    "    nbNeurons = sum(lCriterion) # taille du tableau\n",
    "    lNeurons = np.zeros(nbNeurons, dtype=lNeuronType)\n",
    "    lpNeurons = pd.DataFrame(lNeurons)\n",
    "    lpNeurons['longueur'] = size\n",
    "    \n",
    "\n",
    "    # Variable correspondant à un demi field\n",
    "    lHalfL = int(np.floor(size / 2))\n",
    "    \n",
    "    # Matrice de détermination des angles\n",
    "    lAngleMat = fillAngleMat(size)\n",
    "\n",
    "    #indices X,Y de positions des pixels entourés de pixels\n",
    "    newX = idxX[lCriterion]\n",
    "    newY = idxY[lCriterion]\n",
    "    \n",
    "    # Affichage d'Informations facilitant le debugage\n",
    "    if lVerbose:\n",
    "        print(\"size :\" + str(len(newX)))\n",
    "        print(\"newX\")\n",
    "        print(np.min(newX))\n",
    "        print(np.max(newX))\n",
    "        print(\"newY\")\n",
    "        print(np.min(newY))\n",
    "        print(np.max(newY))\n",
    "        print()\n",
    "        \n",
    "    pos = 0\n",
    "    lnPos = 0\n",
    "    for lintX in newX:\n",
    "        lintY = newY[pos]\n",
    "        if (lintX - lHalfL) < 0 or (lintY - lHalfL) < 0:\n",
    "            if lVerbose:\n",
    "                print(\"WARNING 80 : exceed the limit of the matrix\")\n",
    "            pos += 1\n",
    "            continue\n",
    "\n",
    "        # récupération de pixels à l'intérieur d'un champs récepteur\n",
    "        lNeuronFieldFrame = frameE[int(lintX - lHalfL):int(lintX + lHalfL + 1),\n",
    "                                   int(lintY - lHalfL):int(lintY + lHalfL +\n",
    "                                                           1)] / 255\n",
    "\n",
    "        try:\n",
    "            # Calcul de l'angle à l'aide de la Matrice de détermination\n",
    "            tmp = np.multiply(lAngleMat, lNeuronFieldFrame)\n",
    "        except:            \n",
    "            if lVerbose:\n",
    "                print(\"WARNING 10\")\n",
    "                print(\"lAngleMat\")\n",
    "                print(lAngleMat)\n",
    "                print(\"lNeuronFieldFrame\")\n",
    "                print(lNeuronFieldFrame)\n",
    "                print(\"lintX\")\n",
    "                print(lintX)\n",
    "                print(\"lintY\")\n",
    "                print(lintY)\n",
    "                print(\"lHalfL\")\n",
    "                print(lHalfL)\n",
    "            continue\n",
    "\n",
    "        lNeuronFieldValues = tmp[np.nonzero(tmp)]\n",
    "        if lVerbose:\n",
    "            print(\"lNeuronFieldFrame :\")\n",
    "            print(lNeuronFieldFrame)\n",
    "            print(\"np.multiply(lAngleMat, lNeuronFieldFrame)\")\n",
    "            print(tmp)\n",
    "            print(\"lNeuronFieldValues\")\n",
    "            print(lNeuronFieldValues)\n",
    "        if (np.mean(lNeuronFieldValues)) < 0:\n",
    "            lNeuronFieldValues[lNeuronFieldValues > 89] = -90\n",
    "        elif np.std(lNeuronFieldValues) > 45:\n",
    "            lNeuronFieldValues[lNeuronFieldValues > 89] = -90\n",
    "        if (lNeuronFieldValues.size > 0):\n",
    "            lpNeurons.loc[pos, ['angle']] = np.mean(lNeuronFieldValues)\n",
    "            lpNeurons.loc[pos, ['weight']] = sigmoidActivationFctN1(\n",
    "                lNeuronFieldValues)\n",
    "            lpNeurons.loc[pos, ['precision']] = np.std(lNeuronFieldValues)\n",
    "            lpNeurons.loc[pos, ['xPos']] = lintX\n",
    "            lpNeurons.loc[pos, ['yPos']] = lintY\n",
    "            if (np.abs(np.mean(lNeuronFieldValues)) < 90):\n",
    "                lpNeurons.loc[pos, ['layer']] = np.around(lintY +\n",
    "                    np.sin(np.around(np.mean(lNeuronFieldValues)) / 180 * np.pi) *\n",
    "                    lintX);\n",
    "            else:\n",
    "                lpNeurons.loc[pos, ['layer']] = frameE.shape[0] + lintX;\n",
    "            lnPos += 1\n",
    "        else:\n",
    "            True  #print (\"error it shouldn't be zero\")\n",
    "        pos += 1\n",
    "    if lVerbose:\n",
    "        print(\"nb de positions couvertes : \" + str(lnPos) + \" sur \" + str(pos))\n",
    "\n",
    "    return lpNeurons"
   ]
  },
  {
   "cell_type": "code",
   "execution_count": 82,
   "metadata": {
    "ExecuteTime": {
     "end_time": "2019-07-22T22:59:30.159701Z",
     "start_time": "2019-07-22T22:59:30.150828Z"
    }
   },
   "outputs": [],
   "source": [
    "#@jit(nopython=True, parallel=True)\n",
    "def getFieldNeuronPopulation(lframe,\n",
    "                             lintTailleField=tailleField,\n",
    "                             typeList=NeuronType,\n",
    "                             lVerbose=False):\n",
    "\n",
    "    indices = np.where(lframe != [0])\n",
    "\n",
    "    lTmpNbPixels = nbPixelField(indices[0], indices[1], lframe,\n",
    "                                lintTailleField)\n",
    "\n",
    "    return getNeuronActivationList(indices[0], indices[1], lintTailleField,\n",
    "                                   lframe, lTmpNbPixels, typeList, lVerbose)"
   ]
  },
  {
   "cell_type": "markdown",
   "metadata": {},
   "source": [
    "## Nombre de pixels actifs dans chaque champs récepteur\n",
    "A partir des coordonnées des centres supposés de chaque champs récepteurs et de la taille du champs récepteur, recherche sur la frame bitmap passée en paramètres, retourne un tableau contenant le nombre de pixels allumés à l'intérieur de chacun de ces champs."
   ]
  },
  {
   "cell_type": "code",
   "execution_count": 83,
   "metadata": {
    "ExecuteTime": {
     "end_time": "2019-07-22T22:59:30.184897Z",
     "start_time": "2019-07-22T22:59:30.169300Z"
    }
   },
   "outputs": [],
   "source": [
    "@jit(nopython=True, parallel=True)\n",
    "def nbPixelField(lTableX, lTableY, lFrameEdge, lintTailleField=tailleField):\n",
    "    lIdx = 0\n",
    "    lResults = np.zeros(lTableX.size)\n",
    "    lRayon = np.floor(lintTailleField / 2)\n",
    "    lTailleMaxX = lFrameEdge.shape[0]\n",
    "    #lTailleMaxY = lFrameEdge.shape[1]\n",
    "    lHalfX = lTailleMaxX / 3\n",
    "\n",
    "    for lPosX in lTableX:\n",
    "        lPosY = lTableY[lIdx]\n",
    "        if lPosX > lHalfX and lPosX >= lRayon and (lPosX +\n",
    "                                                   lRayon) < lTailleMaxX:\n",
    "            lResults[lIdx] = np.sum(\n",
    "                lFrameEdge[int(lPosX - lRayon):int(lPosX + lRayon + 1),\n",
    "                           int(lPosY - lRayon):int(lPosY + lRayon + 1)] / 255)\n",
    "        lIdx += 1\n",
    "    return lResults"
   ]
  },
  {
   "cell_type": "code",
   "execution_count": 84,
   "metadata": {
    "ExecuteTime": {
     "end_time": "2019-07-22T22:59:30.196205Z",
     "start_time": "2019-07-22T22:59:30.190548Z"
    }
   },
   "outputs": [],
   "source": [
    "@jit(nopython=True, parallel=True)\n",
    "def getNonZero(LImg):\n",
    "    return np.where(LImg != [0])"
   ]
  },
  {
   "cell_type": "markdown",
   "metadata": {},
   "source": [
    "## Coordonnées de la fonction de base (ligne)"
   ]
  },
  {
   "cell_type": "code",
   "execution_count": 85,
   "metadata": {
    "ExecuteTime": {
     "end_time": "2019-07-22T22:59:30.219034Z",
     "start_time": "2019-07-22T22:59:30.199540Z"
    }
   },
   "outputs": [],
   "source": [
    "#@jit(nopython=True, parallel=True)\n",
    "def getNFCoordinate(lNeurone,lVerbose=False):\n",
    "    try:\n",
    "        lintDist = int(np.floor(lNeurone.longueur / 2))\n",
    "    except:\n",
    "        lP1 = (0, 0)\n",
    "        lP2 = (0, 0)\n",
    "        return (lP1, lP2)\n",
    "    if np.abs(lNeurone.angle) < 45:\n",
    "        lAlpha = lNeurone.angle / 180 * pi\n",
    "        lintY1 = np.around(lNeurone.yPos - lintDist * np.tan(lAlpha))\n",
    "        lintX1 = lNeurone.xPos + lintDist\n",
    "        lintY2 = np.around(lNeurone.yPos + lintDist * np.tan(lAlpha))\n",
    "        lintX2 = lNeurone.xPos - lintDist\n",
    "    else:\n",
    "        lAlpha = (90 - lNeurone.angle) / 180 * pi\n",
    "        if lVerbose:\n",
    "            print(\"Angle : \"+str(lNeurone.angle))\n",
    "            print(\"yPos = \"+str(lNeurone.yPos)+\"xPos = \"+str(lNeurone.xPos))\n",
    "        lintX1 = np.around(lNeurone.xPos - lintDist * np.tan(lAlpha))\n",
    "        lintY1 = lNeurone.yPos + lintDist\n",
    "        lintX2 = np.around(lNeurone.xPos + lintDist * np.tan(lAlpha))\n",
    "        lintY2 = lNeurone.yPos - lintDist\n",
    "    lP1 = (int(lintY1), int(lintX1))\n",
    "    lP2 = (int(lintY2), int(lintX2))\n",
    "    if lVerbose:\n",
    "        print(\"point 1: \"+str(lP1))\n",
    "        print(\"point 2: \"+str(lP2))\n",
    "        print(\"\")\n",
    "    return lP1, lP2"
   ]
  },
  {
   "cell_type": "markdown",
   "metadata": {},
   "source": [
    "## Calcule la distance entre deux points"
   ]
  },
  {
   "cell_type": "code",
   "execution_count": 86,
   "metadata": {
    "ExecuteTime": {
     "end_time": "2019-07-22T22:59:30.231052Z",
     "start_time": "2019-07-22T22:59:30.222515Z"
    }
   },
   "outputs": [],
   "source": [
    "@jit(nopython=True, parallel=True)\n",
    "def getDistance(lx1, ly1, lx2, ly2):\n",
    "    return np.sqrt(\n",
    "        np.power(np.abs(lx1 - lx2), 2) + np.power(np.abs(ly1 - ly2), 2))"
   ]
  },
  {
   "cell_type": "markdown",
   "metadata": {},
   "source": [
    "## Retourne les neurones les plus proches d'un point"
   ]
  },
  {
   "cell_type": "code",
   "execution_count": 87,
   "metadata": {
    "ExecuteTime": {
     "end_time": "2019-07-22T22:59:30.241920Z",
     "start_time": "2019-07-22T22:59:30.234278Z"
    }
   },
   "outputs": [],
   "source": [
    "#@jit(nopython=True, parallel=True)\n",
    "def closestFieldNeurons(lneuronList, lposX, lposY, ldistance):\n",
    "    return lneuronList[(lneuronList.xPos >= lposX - ldistance)\n",
    "                       & (lneuronList.xPos <= lposX + ldistance) &\n",
    "                       (lneuronList.yPos >= lposY - ldistance) &\n",
    "                       (lneuronList.yPos <= lposY + ldistance)]"
   ]
  },
  {
   "cell_type": "markdown",
   "metadata": {},
   "source": [
    "## Crée un neurone avec les paramètres passés"
   ]
  },
  {
   "cell_type": "code",
   "execution_count": 88,
   "metadata": {
    "ExecuteTime": {
     "end_time": "2019-07-22T22:59:30.255989Z",
     "start_time": "2019-07-22T22:59:30.245378Z"
    }
   },
   "outputs": [],
   "source": [
    "#@jit(nopython=True, parallel=True)\n",
    "def createNeuron(llong, langle, lXpos, lYpos, lweight=255, lprecis=0, lGroup=0, llayer=0, lNType=NeuronType):\n",
    "    lNeurons = np.zeros(1, dtype=lNType);\n",
    "    lpNeurons = pd.DataFrame(lNeurons);\n",
    "    lpNeurons['longueur'] = llong;\n",
    "    lpNeurons['angle'] = langle;\n",
    "    lpNeurons['weight'] = lweight;\n",
    "    lpNeurons['precision'] = lprecis;\n",
    "    lpNeurons['xPos'] = lXpos;\n",
    "    lpNeurons['yPos'] = lYpos;\n",
    "    lpNeurons['groupID'] = lGroup;\n",
    "    lpNeurons['layer'] = llayer;\n",
    "    return lpNeurons;"
   ]
  },
  {
   "cell_type": "markdown",
   "metadata": {},
   "source": [
    "## Dessine les fonctions de base des neurones sur un bitmap"
   ]
  },
  {
   "cell_type": "code",
   "execution_count": 89,
   "metadata": {
    "ExecuteTime": {
     "end_time": "2019-07-22T22:59:30.275988Z",
     "start_time": "2019-07-22T22:59:30.259950Z"
    }
   },
   "outputs": [],
   "source": [
    "#@jit(nopython=True, parallel=True)\n",
    "def drawFieldNeurons(lNeuronList,\n",
    "                     lBitmap,\n",
    "                     lVerbose=False,\n",
    "                     lGroupMember=0,\n",
    "                     lLayer=0,\n",
    "                     lLayerRange=0,\n",
    "                     lAngle=0,\n",
    "                     lAngleRange=0):\n",
    "    lInitShow = 8\n",
    "    if lVerbose:\n",
    "        print (\"WARNING 50 : In Verbose Mode all data are not displayed on frame!\");\n",
    "        lInitShow = 0\n",
    "    lIndexPassOver = lInitShow\n",
    "    for _, lNeuron in lNeuronList.iterrows():\n",
    "        if lGroupMember > 0:\n",
    "            if lNeuron.groupID != lGroupMember:\n",
    "                continue\n",
    "        if lLayer != 0:\n",
    "            if (lNeuron.layer < lLayer - lLayerRange) or (\n",
    "                    lNeuron.layer > lLayer + lLayerRange):\n",
    "                continue\n",
    "        if lAngle != 0:\n",
    "            if (lNeuron.angle < lAngle - lAngleRange) or (\n",
    "                    lNeuron.angle > lAngle + lAngleRange):\n",
    "                continue\n",
    "        lCoord = getNFCoordinate(lNeuron, lVerbose)\n",
    "        if lVerbose:\n",
    "            print(\"Neuron : \"+str(lNeuron));\n",
    "            print(\"Coordonnées : \"+str(lCoord));\n",
    "        if lIndexPassOver > 7:\n",
    "            lIndexPassOver = lInitShow\n",
    "            try:\n",
    "                cv2.line(\n",
    "                    lBitmap,\n",
    "                    lCoord[0],\n",
    "                    lCoord[1],\n",
    "                    #        (255, 255, 255), 1)\n",
    "                    (int(lNeuron.weight), int(\n",
    "                        lNeuron.weight), int(lNeuron.weight)),\n",
    "                    1)\n",
    "            except:\n",
    "                True\n",
    "        if lVerbose:\n",
    "            lIndexPassOver += 1\n",
    "    return lBitmap"
   ]
  },
  {
   "cell_type": "markdown",
   "metadata": {
    "ExecuteTime": {
     "end_time": "2019-07-18T17:53:27.662094Z",
     "start_time": "2019-07-18T17:53:27.647097Z"
    }
   },
   "source": [
    "## Find neuronal groups\n",
    "Un groupe neuronal est un ensemble de neurone dont les champs récepteurs sont complémentaires les uns des autres. Pour faire  partie d'un champs récepteur, deux conditions doivent être réunies.\n",
    "<b>(A compléter)</b>\n",
    "### Translation\n",
    "Retourne les coordonnées d'un point translaté d'une certaine distance avec un certain angle. Cette fonction demande un angle, une distance et les coordonnées d'un point de départ. Il retourne ensuite les coordonnées après translation."
   ]
  },
  {
   "cell_type": "code",
   "execution_count": 90,
   "metadata": {
    "ExecuteTime": {
     "end_time": "2019-07-22T22:59:30.289697Z",
     "start_time": "2019-07-22T22:59:30.279727Z"
    }
   },
   "outputs": [],
   "source": [
    "#@jit(nopython=True, parallel=True)\n",
    "def moveCoordDeg(langle, lstartX, lstartY, ldistance, lVerbose=False):\n",
    "    if lVerbose:\n",
    "        ##DEBUG\n",
    "        print(\"* moveCoordDeg(\" + str(float(langle)) + \",\" +\n",
    "              str(int(lstartX)) + \",\" + str(int(lstartY)) +\n",
    "              \",\" + str(int(ldistance))+\")\")\n",
    "        ##DEBUG\n",
    "    ltipX = lstartX + ldistance * np.cos(langle / 180 * pi)\n",
    "    ltipY = lstartY - ldistance * np.sin(langle / 180 * pi)\n",
    "    if lVerbose:\n",
    "        print (\"* coord ==> (\"+str(ltipX)+\",\"+str(ltipY))\n",
    "    return ltipX, ltipY"
   ]
  },
  {
   "cell_type": "markdown",
   "metadata": {},
   "source": [
    "Effectue le même calcul que la fonction <i>moveCoordDeg </i>  mais prend comme paramètre un neurone. Il effectue la translation en prenant comme point de départ le centre du champs récepteur et effectue un déplacement de la taille de ce champs dans la direction de la fonction de base. "
   ]
  },
  {
   "cell_type": "code",
   "execution_count": 91,
   "metadata": {
    "ExecuteTime": {
     "end_time": "2019-07-22T22:59:30.299593Z",
     "start_time": "2019-07-22T22:59:30.292947Z"
    }
   },
   "outputs": [],
   "source": [
    "#@jit(nopython=True, parallel=True)\n",
    "def getNextPosition(lneuroneMoyen, lVerbose): \n",
    "    return moveCoordDeg(float(lneuroneMoyen.angle), int(lneuroneMoyen.xPos),\n",
    "                        int(lneuroneMoyen.yPos), int(lneuroneMoyen.longueur), lVerbose)"
   ]
  },
  {
   "cell_type": "markdown",
   "metadata": {},
   "source": [
    "### Calcul des  groupes à partir d'une liste de neurones à champs récepteurs"
   ]
  },
  {
   "cell_type": "code",
   "execution_count": 92,
   "metadata": {
    "ExecuteTime": {
     "end_time": "2019-07-22T22:59:30.334450Z",
     "start_time": "2019-07-22T22:59:30.303478Z"
    }
   },
   "outputs": [],
   "source": [
    "#@jit(nopython=True, parallel=True)\n",
    "def findGroups(lneuronList, lVerbose=False):\n",
    "    # Sélection d'un nouveau numéro de Groupe (GroupID)\n",
    "    lintCurrentGroupID = 0\n",
    "    lintNbGroups = 0\n",
    "    lIndex = 0\n",
    "\n",
    "    ##DEBUG\n",
    "    lnbNeuron = 0\n",
    "    ##DEBUG\n",
    "    # liste des neurones sans groupe\n",
    "    lNoGroupList = lneuronList[lneuronList.groupID == 0]\n",
    "\n",
    "    while lNoGroupList.shape[0] > 0:\n",
    "\n",
    "        #Sélection d'un neurone dans la liste (ceux sans groupID ou groupID=0)\n",
    "        lMoyenNeuron = lNoGroupList.iloc[0]\n",
    "        lIndex = lNoGroupList.head().index.values[0]\n",
    "\n",
    "        while True:\n",
    "            #Assignation d'un nouveau numéro de GroupID en cours\n",
    "            lintNbGroups += 1\n",
    "            lintCurrentGroupID += 1\n",
    "            if lneuronList[lneuronList.groupID ==\n",
    "                           lintCurrentGroupID].shape[0] == 0:\n",
    "                break\n",
    "\n",
    "        lneuronList.loc[lIndex, ['groupID']] = lintCurrentGroupID\n",
    "\n",
    "        #déplacement\n",
    "        lnPos = getNextPosition(lMoyenNeuron, lVerbose)\n",
    "\n",
    "        #recherche de neurones proches\n",
    "        lClosestNeurons = closestFieldNeurons(\n",
    "            lneuronList, lnPos[0], lnPos[1],\n",
    "            int(np.floor(lMoyenNeuron.longueur / 2)))\n",
    "        if lVerbose:\n",
    "            print(\"\")\n",
    "            print(\"\")\n",
    "            print(\"Coordonnées en cours : (\" + str(lnPos[0]) + \",\" +\n",
    "                  str(lnPos[1]) + \")\")\n",
    "\n",
    "            lnbNeuron += 1\n",
    "            if lClosestNeurons.shape[0] == 0:\n",
    "                print(\"Aucun neurone a proximité pour le neurone #\" +\n",
    "                      str(lnbNeuron) + \" aux coordonnées : (\" + str(lnPos[0]) +\n",
    "                      \",\" + str(lnPos[1]) + str(\") a la distance :\") +\n",
    "                      str(int(np.floor(lMoyenNeuron.longueur / 2))))\n",
    "\n",
    "            #Oui ==> retour étape 1\n",
    "            lNbFindGroup = 0\n",
    "\n",
    "        while lClosestNeurons.shape[0] != 0:\n",
    "            #recherche des groupID dans cette sous-sélection\n",
    "            if lClosestNeurons[lClosestNeurons.groupID> 0].shape[0] == 0:\n",
    "                #Non => Assigner à tous les neurones de la sous-sélection\n",
    "                #le groupID en cours => aller directement à l'étape 7\n",
    "                if lVerbose:\n",
    "                    print(\"Aucun neurone dans le groupe : \" +\n",
    "                          str(lintCurrentGroupID))\n",
    "\n",
    "                for lintIdx in lClosestNeurons.head().index.values:\n",
    "                    lneuronList.loc[lintIdx, ['groupID']] = lintCurrentGroupID\n",
    "            else:\n",
    "                #Oui\n",
    "                if lVerbose:\n",
    "                    ##DEBUG\n",
    "                    #lNbFindGroup += 1\n",
    "                    print(\"Trouvé \" + str(lClosestNeurons[\n",
    "                        lClosestNeurons.groupID > 0].shape[0]) +\n",
    "                          \" neurone(s) déja dans des groupes :\")\n",
    "                    print(\"Groupe en cours : \" + str(lintCurrentGroupID))\n",
    "\n",
    "                #Récupération de la liste de tous les groupID utilisés\n",
    "                #Sélection du groupID le plus petit\n",
    "                #(en comparant aussi avec le groupID en cours)\n",
    "                lintPreviousGroupID = lintCurrentGroupID\n",
    "                lintCurrentGroupID = np.min(\n",
    "                    lClosestNeurons[lClosestNeurons.groupID > 0].groupID)\n",
    "                if lVerbose:\n",
    "                    print(\"Change pour le groupe #\" + str(lintCurrentGroupID))\n",
    "                    print(\"-\")\n",
    "                #Assigner au neurone en cours le nouveau groupe\n",
    "                lneuronList.loc[lIndex, ['groupID']] = lintCurrentGroupID\n",
    "                #Assigner à tous les neurones de la sous-sélection ce nouveau groupID\n",
    "                for lintIdx in lClosestNeurons.head().index.values:\n",
    "                    lneuronList.loc[lintIdx, ['groupID']] = lintCurrentGroupID\n",
    "                    #remplacer dans la liste globale,\n",
    "                    #pour chaque groupID présent dans la liste par le nouveau groupID\n",
    "                    for lintGroupID in lClosestNeurons[\n",
    "                            lClosestNeurons.groupID > 0].groupID:\n",
    "                        lneuronList.loc[lneuronList.groupID == lintGroupID,\n",
    "                                        'groupID'] = lintCurrentGroupID\n",
    "                if lintPreviousGroupID == lintCurrentGroupID:\n",
    "                    #si tous les neurones\n",
    "                    if lClosestNeurons[lClosestNeurons.groupID >\n",
    "                                       0].shape[0] == lClosestNeurons[\n",
    "                                           lClosestNeurons.groupID ==\n",
    "                                           lintPreviousGroupID].shape[0]:\n",
    "                        break  # sortie de la boucle while\n",
    "            if lVerbose:\n",
    "                #Calcul du neurone Field moyen\n",
    "                print(\"Neurones trouvé :\")\n",
    "                print(lClosestNeurons)\n",
    "            lMoyenNeuron = getAvgFieldNeuron(lClosestNeurons)\n",
    "            if lVerbose:\n",
    "                print(\"neurone Moyen\")\n",
    "                print(lMoyenNeuron)\n",
    "            #déplacement\n",
    "            lnPos = getNextPosition(lMoyenNeuron, lVerbose)\n",
    "\n",
    "            #recherche de neurones proches\n",
    "            lClosestNeurons = closestFieldNeurons(\n",
    "                lneuronList, lnPos[0], lnPos[1],\n",
    "                int(np.floor(lMoyenNeuron.longueur / 2)))\n",
    "\n",
    "        lNoGroupList = lneuronList[lneuronList.groupID == 0]\n",
    "    return lneuronList"
   ]
  },
  {
   "cell_type": "markdown",
   "metadata": {},
   "source": [
    "## Get the Weighted Average of the group Angle (WAGA)"
   ]
  },
  {
   "cell_type": "code",
   "execution_count": 93,
   "metadata": {
    "ExecuteTime": {
     "end_time": "2019-07-22T22:59:30.345181Z",
     "start_time": "2019-07-22T22:59:30.337671Z"
    }
   },
   "outputs": [],
   "source": [
    "#@jit(nopython=True, parallel=True)\n",
    "def getWAGA(lNeuronList, lGroupID):\n",
    "    lnl = lNeuronList[lNeuronList.groupID==lGroupID]\n",
    "    return float(np.sum((lnl.angle * lnl.weight) /\n",
    "               np.sum(lnl.weight)))"
   ]
  },
  {
   "cell_type": "markdown",
   "metadata": {},
   "source": [
    "## Another Better way to form a group : Line Neurons\n",
    "### Get main neurons forming a group"
   ]
  },
  {
   "cell_type": "code",
   "execution_count": 94,
   "metadata": {
    "ExecuteTime": {
     "end_time": "2019-07-22T22:59:30.418101Z",
     "start_time": "2019-07-22T22:59:30.349137Z"
    }
   },
   "outputs": [],
   "source": [
    "#@jit(nopython=True, parallel=True)\n",
    "# LTMPNeurons, 0, lVerbose,binSizeLayer,binSizeAngle\n",
    "def getMainNeurons(lNeuronList,\n",
    "                   Order=0,\n",
    "                   lVerbose=False,\n",
    "                   binSizeLayer=DEFAULT_BIN_SIZE,\n",
    "                   binSizeAngle=ANGLE_BIN_SIZE,\n",
    "                   lLargeurSeuil=BINWIDTH_SELECT):\n",
    "    \n",
    "    lMargin = pd.Series([0, 0])\n",
    "\n",
    "    ######## Histogramme des Layers dans la population de neurones ####\n",
    "    lLayerHist = (lNeuronList['layer'].pipe(lambda s: pd.Series(\n",
    "        np.histogram(s, bins=binSizeLayer))).pipe(lambda s: pd.Series(\n",
    "            s[0], index=s[1][:-1])))\n",
    "\n",
    "    lLayerHist = lLayerHist.append(lMargin)\n",
    "    lLayerHist = lMargin.append(lLayerHist)\n",
    "\n",
    "    ######## Détection des pics des Layers les plus fréquents ########\n",
    "    peaks, ldict = find_peaks(lLayerHist, height=tailleField / 2)\n",
    "\n",
    "    if lVerbose:\n",
    "        ser = lLayerHist.to_numpy()\n",
    "        plt.plot(ser)\n",
    "        plt.plot(peaks, ser[peaks], \"x\")\n",
    "        plt.plot(np.zeros_like(ser), \"--\", color=\"gray\")\n",
    "        plt.ylabel('frequency')\n",
    "        plt.show()\n",
    "        print(\"number of group found : \" + str(len(peaks)))\n",
    "\n",
    "    lidx2 = 0\n",
    "    lCurrentOrder = 0\n",
    "    while lCurrentOrder <= Order:\n",
    "        if (np.sum(ldict['peak_heights']) == 0):\n",
    "            print(\"ERROR 40 : exceed number of group found\")\n",
    "            return lNeuronList, lNeuronList\n",
    "        try:\n",
    "            lidx2 = peaks[np.argmax(ldict['peak_heights'])]\n",
    "        except:\n",
    "            print(\"ERROR 30 : no neuron found\")\n",
    "            continue\n",
    "        lidx1 = np.argmax(ldict['peak_heights'])\n",
    "        if lVerbose:\n",
    "            print(\"Order = \" + str(Order) + \" & CurrentOrder =  \" +\n",
    "                  str(lCurrentOrder))\n",
    "            print(\"np.argmax(ldict['peak_heights']) -> \" + str(lidx1))\n",
    "            print(\"list of peaks : \" + str(peaks))\n",
    "            print(\"height of peaks : \" + str(ldict['peak_heights']))\n",
    "        ldict['peak_heights'][lidx1] = 0\n",
    "        lCurrentOrder += 1\n",
    "\n",
    "    ######### Récupération de la valeur de layer correspondant au pic ##\n",
    "    lLayerPic = lLayerHist.index.values[lidx2:lidx2 + 1][0]\n",
    "    if lVerbose:\n",
    "        print(\"Layer = \" + str(lLayerPic))\n",
    "\n",
    "    ######### Récupération de la sous-population dans une certaine Layer\n",
    "    lNeuronTopLayer = lNeuronList[\n",
    "        (lNeuronList.layer >= (lLayerPic - lLargeurSeuil))\n",
    "        & (lNeuronList.layer <= (lLayerPic + lLargeurSeuil))]\n",
    "    lAngleHist = lNeuronTopLayer['angle'].pipe(lambda s: pd.Series(\n",
    "        np.histogram(s, bins=binSizeAngle))).pipe(lambda s: pd.Series(\n",
    "            s[0], index=s[1][:-1]))\n",
    "\n",
    "    lAngleHist = lAngleHist.append(lMargin)\n",
    "    lAngleHist = lMargin.append(lAngleHist)\n",
    "\n",
    "    ######### Detection de l'angle le plus fréquent ###################\n",
    "    peaks, ldictAngle = find_peaks(lAngleHist, height=tailleField / 2)\n",
    "    if lVerbose:\n",
    "        print(\"number of ANGLE found : \" + str(len(peaks)))\n",
    "    try:\n",
    "        lidx2 = peaks[np.argmax(ldictAngle['peak_heights'])]\n",
    "    except:\n",
    "        if lVerbose:\n",
    "            print(\"ERROR 20 : no neuron found\")\n",
    "        return lNeuronTopLayer\n",
    "    lAnglePic = lAngleHist.index.values[lidx2:lidx2 + 1][0]\n",
    "\n",
    "    if lVerbose:\n",
    "        print(\"Angle = \" + str(lAnglePic))\n",
    "\n",
    "    lNeuronTopLayer = lNeuronList[\n",
    "        (lNeuronList.layer >= (lLayerPic - lLargeurSeuil))\n",
    "        & (lNeuronList.layer <= (lLayerPic + lLargeurSeuil))\n",
    "        & (lNeuronList.angle >= (lAnglePic - lLargeurSeuil))\n",
    "        & (lNeuronList.angle <= (lAnglePic + lLargeurSeuil))]\n",
    "    LNLIndex = lNeuronList[(lNeuronList.layer >= (lLayerPic - lLargeurSeuil))\n",
    "                           & (lNeuronList.layer <= (lLayerPic + lLargeurSeuil))\n",
    "                           & (lNeuronList.angle >= (lAnglePic - lLargeurSeuil))\n",
    "                           & (lNeuronList.angle <=\n",
    "                              (lAnglePic + lLargeurSeuil))].index\n",
    "    LNL2 = lNeuronList.drop(LNLIndex)\n",
    "\n",
    "    if lVerbose:\n",
    "        print(\"Number of neurons in this group : \" + str(len(lNeuronTopLayer)))\n",
    "\n",
    "    return lNeuronTopLayer, LNL2"
   ]
  },
  {
   "cell_type": "markdown",
   "metadata": {},
   "source": [
    "### Get Line Neuron \n",
    "In order to replace a list of smaller Field Neuron"
   ]
  },
  {
   "cell_type": "code",
   "execution_count": 95,
   "metadata": {
    "ExecuteTime": {
     "end_time": "2019-07-22T22:59:30.456119Z",
     "start_time": "2019-07-22T22:59:30.445975Z"
    }
   },
   "outputs": [],
   "source": [
    "#@jit(nopython=True, parallel=True)\n",
    "def getLineNeuron(lNeuronList, lGroupID=0, typeList=NeuronType):\n",
    "    lNeurons = getAvgFieldNeuron(lNeuronList, typeList)\n",
    "    lTMPx1 = np.max(lNeuronList.xPos)\n",
    "    lTMPx2 = np.min(lNeuronList.xPos)\n",
    "    lTMPy1 = np.max(lNeuronList.yPos)\n",
    "    lTMPy2 = np.min(lNeuronList.yPos)\n",
    "    lNeurons.groupID = lGroupID;\n",
    "    lNeurons.longueur = np.ceil(getDistance(lTMPx1,lTMPy1,lTMPx2,lTMPy2))\n",
    "    return lNeurons"
   ]
  },
  {
   "cell_type": "markdown",
   "metadata": {},
   "source": [
    "## Get a population of Line Number\n",
    "### Get Group Number in Field Neurons List\n",
    "Pour faire une boucle sur l'ensemble des neurones Field, il faut connaitre le nombre de groupes principaux il est possible de former."
   ]
  },
  {
   "cell_type": "code",
   "execution_count": 96,
   "metadata": {
    "ExecuteTime": {
     "end_time": "2019-07-22T22:59:30.482631Z",
     "start_time": "2019-07-22T22:59:30.468566Z"
    }
   },
   "outputs": [],
   "source": [
    "#@jit(nopython=True, parallel=True)\n",
    "def getGroupNumber(lNeuronList,\n",
    "                   lVerbose=False,\n",
    "                   binSizeLayer=DEFAULT_BIN_SIZE):   \n",
    "    \n",
    "    lMargin = pd.Series([0, 0])\n",
    "    \n",
    "    ######## Histogramme des Layers dans la population de neurones ####\n",
    "    lLayerHist = (lNeuronList['layer'].pipe(lambda s: pd.Series(\n",
    "        np.histogram(s, bins=binSizeLayer))).pipe(lambda s: pd.Series(\n",
    "            s[0], index=s[1][:-1])))\n",
    "    \n",
    "    lLayerHist = lLayerHist.append(lMargin)\n",
    "    lLayerHist = lMargin.append(lLayerHist)\n",
    "    \n",
    "    ######## Détection des pics des Layers les plus fréquent ############\n",
    "    peaks, _ = find_peaks(lLayerHist, height=tailleField/2);\n",
    "    if lVerbose:\n",
    "        print(\"Looking for \"+str(len(peaks))+ \" peaks in a loop\");\n",
    "    return len(peaks)"
   ]
  },
  {
   "cell_type": "markdown",
   "metadata": {},
   "source": [
    "### get whole population of List Neurons"
   ]
  },
  {
   "cell_type": "code",
   "execution_count": 97,
   "metadata": {
    "ExecuteTime": {
     "end_time": "2019-07-22T22:59:30.505472Z",
     "start_time": "2019-07-22T22:59:30.488258Z"
    }
   },
   "outputs": [],
   "source": [
    "#@jit(nopython=True, parallel=True)\n",
    "import copy\n",
    "def getLineNeuronList(lNeuronList,\n",
    "                      MaxNbNeurons=0,\n",
    "                      lVerbose=False,\n",
    "                      binSizeLayer=DEFAULT_BIN_SIZE,\n",
    "                      binSizeAngle=ANGLE_BIN_SIZE,\n",
    "                      lNeuronType=NeuronType):\n",
    "    \n",
    "    lblOK = 0;\n",
    "    if MaxNbNeurons == 0:\n",
    "        nbNeurons = getGroupNumber(lNeuronList, lVerbose, binSizeLayer)\n",
    "        print(\"nb neurons : \"+str(nbNeurons))\n",
    "    else:\n",
    "        nbNeurons = MaxNbNeurons\n",
    "        \n",
    "    lNeurons = np.zeros(nbNeurons, dtype=lNeuronType)\n",
    "    lpNeurons = pd.DataFrame(lNeurons)\n",
    "\n",
    "    LTMPNeurons = lNeuronList\n",
    "    \n",
    "    \n",
    "    for lTmpI in range(0, nbNeurons):\n",
    "        try:\n",
    "            lTMPNeuronLIST, LTMPNeurons = getMainNeurons(LTMPNeurons)#, 0, lVerbose,binSizeLayer,binSizeAngle);\n",
    "            #lSave = copy.deepcopy(LTMPNeurons)\n",
    "            #lSave = LTMPNeurons\n",
    "            if lblOK:\n",
    "                print(\"the data below is ok :\")\n",
    "                print(LTMPNeurons)\n",
    "                print(\"\")\n",
    "                return lpNeurons\n",
    "        except:\n",
    "            if lblOK== False:\n",
    "                #print(\"the data below is ok :\")\n",
    "                #print(lSave)\n",
    "                print(\"Warning 70 : ValueError: too many values to unpack (expected 2)\")\n",
    "                #print(LTMPNeurons)\n",
    "            lblOK = True\n",
    "            continue\n",
    "        lTmpNeuron = getLineNeuron(lTMPNeuronLIST, lTmpI, lNeuronType)\n",
    "        lTmpNeuron = pd.DataFrame(lTmpNeuron)\n",
    "        \n",
    "        if lVerbose:\n",
    "            print(getWAGA(lTMPNeuronLIST, 0))\n",
    "        lpNeurons.loc[lTmpI, ['longueur']] = lTmpNeuron.longueur[0]\n",
    "        lpNeurons.loc[lTmpI, ['angle']] = lTmpNeuron.angle[0]\n",
    "        lpNeurons.loc[lTmpI, ['weight']] = lTmpNeuron.weight[0]\n",
    "        lpNeurons.loc[lTmpI, ['precision']] = lTmpNeuron.precision[0]\n",
    "        lpNeurons.loc[lTmpI, ['xPos']] = lTmpNeuron.xPos[0]\n",
    "        lpNeurons.loc[lTmpI, ['yPos']] = lTmpNeuron.yPos[0]\n",
    "        lpNeurons.loc[lTmpI, ['groupID']] = lTmpNeuron.groupID[0]\n",
    "        lpNeurons.loc[lTmpI, ['layer']] = len(\n",
    "            lTMPNeuronLIST)  #lTmpNeuron.layer[0]\n",
    "\n",
    "    return lpNeurons"
   ]
  },
  {
   "cell_type": "markdown",
   "metadata": {},
   "source": [
    "## Masque pour les frames\n",
    "\n",
    "Permet d'ignorer les neurones fields ou pixels non directement impliqués, le masque est utile car du fait de la réalisation des matrices dans l'architecture d'un ordinateur, il est complexe de créer des matrices obliques pour regarder un rectangle oblique. Ce n'est pas impossible, mais nécessite des calculs de rotation et de translation afin de déterminer les correspondances. Une alternative moins couteuse sur le plan computationnel est de conserver l'orientation d'origine. L'inconvénient c'est que se retrouvent inclus des pixels qui ne devraient pas l'être au niveau des coins. Or ces coins peuvent avoir une taille plus importante que la zone réellement utile. Surtout dans des angles aux alentours de 45°. La manière la plus simple est donc d'utiliser un masque qui ne va conserver que la zone utile et supprimer les pixels indésirables."
   ]
  },
  {
   "cell_type": "code",
   "execution_count": 176,
   "metadata": {
    "ExecuteTime": {
     "end_time": "2019-07-23T06:44:53.754021Z",
     "start_time": "2019-07-23T06:44:53.655274Z"
    }
   },
   "outputs": [],
   "source": [
    "#@jit(nopython=True, parallel=True)\n",
    "def getMask(lFrame, lMargin, lVerbose=False):\n",
    "    lBitMapMask = np.zeros((lFrame.shape[0],lFrame.shape[1]))\n",
    "    lTmpIdx = np.where(lFrame != [0])\n",
    "    if lVerbose:\n",
    "        print(\"taille de l'index : \"+str(len(lTmpIdx[0])))\n",
    "    for i in range(0, len(lTmpIdx[0])):\n",
    "        if lVerbose:\n",
    "            print(\n",
    "                str(lTmpIdx[0][i] - lMargin) + \":\" + str(lTmpIdx[0][i] + lMargin))\n",
    "            print(\n",
    "                str(lTmpIdx[1][i] - lMargin) + \":\" + str(lTmpIdx[1][i] + lMargin))\n",
    "        try:\n",
    "            if lVerbose:\n",
    "                print(lBitMapMask[lTmpIdx[0][i] - lMargin:lTmpIdx[0][i] +\n",
    "                            lMargin, lTmpIdx[1][i] - lMargin:lTmpIdx[1][i] +\n",
    "                            lMargin])\n",
    "            lBitMapMask[lTmpIdx[0][i] - lMargin:lTmpIdx[0][i] +\n",
    "                        lMargin, lTmpIdx[1][i] - lMargin:lTmpIdx[1][i] +\n",
    "                        lMargin] = 1\n",
    "        except:\n",
    "            continue\n",
    "    return lBitMapMask"
   ]
  },
  {
   "cell_type": "markdown",
   "metadata": {},
   "source": [
    "## Get smaller frame from Line Neuron"
   ]
  },
  {
   "cell_type": "code",
   "execution_count": 98,
   "metadata": {
    "ExecuteTime": {
     "end_time": "2019-07-22T22:59:30.525990Z",
     "start_time": "2019-07-22T22:59:30.509460Z"
    }
   },
   "outputs": [],
   "source": [
    "#@jit(nopython=True, parallel=True)\n",
    "def getSmallerFrame(lLineNeuron, lTmpFrame, lRessert= False, lVerbose=False):\n",
    "    ((lTMPx1,lTMPy1),(lTMPx2,lTMPy2)) = getNFCoordinate(lLineNeuron)\n",
    "    if lVerbose:\n",
    "        print (\"lTMPx1 = \"+str(lTMPx1))\n",
    "        print (\"lTMPy1 = \"+str(lTMPy1))\n",
    "        print (\"lTMPx2 = \"+str(lTMPx2))\n",
    "        print (\"lTMPy2 = \"+str(lTMPy2))\n",
    "        print (((lTMPx1,lTMPy1),(lTMPx2,lTMPy2)))\n",
    "    if lRessert:\n",
    "        lMargin = 0.5;\n",
    "    else:\n",
    "        lMargin = 2 * tailleField\n",
    "    if (lTMPx1 - lMargin)<(lTMPx2 + lMargin):\n",
    "        lTMPx1 = int(lTMPx1 - lMargin)\n",
    "        lTMPx2 = int(lTMPx2 + lMargin)\n",
    "    else:\n",
    "        lTMPx1 = int(lTMPx2 - lMargin)\n",
    "        lTMPx2 = int(lTMPx1 + lMargin)\n",
    "    if (lTMPy2 - lMargin) <(lTMPy1 + lMargin):\n",
    "        lTMPy1 = int(lTMPy2 - lMargin)    \n",
    "        lTMPy2 = int(lTMPy1 + lMargin)\n",
    "    else:\n",
    "        lTMPy1 = int(lTMPy1 - lMargin)    \n",
    "        lTMPy2 = int(lTMPy2 - lMargin)\n",
    "    if lVerbose:\n",
    "        print (\"lTMPx1 = \"+str(lTMPx1))\n",
    "        print (\"lTMPy1 = \"+str(lTMPy1))\n",
    "        print (\"lTMPx2 = \"+str(lTMPx2))\n",
    "        print (\"lTMPy2 = \"+str(lTMPy2))\n",
    "        print (((lTMPx1,lTMPy1),(lTMPx2,lTMPy2)))\n",
    "    return lTmpFrame[lTMPy1:lTMPy2,lTMPx1:lTMPx2]"
   ]
  },
  {
   "cell_type": "markdown",
   "metadata": {},
   "source": [
    "## Get the errors\n",
    "\n",
    "Une erreur est l'écart existant entre une frame originale et sa reconstruction à partir de neurones Field ou Line. Afin de calculer l'erreur, il faut faire la différence entre la frame originale et la frame reconstruite. La somme des neurones restants constituent l'erreur brut. Mais cette erreur est encore plus pertinente si elle est relative au nombre total de pixels que la frame possédait initialement. On obtient ainsi une valeur flottante comprise entre 0 et 1 si l'erreur est inférieur à la frame originale voire supérieure à 1 si la reconstruction empire la situation.\n"
   ]
  },
  {
   "cell_type": "code",
   "execution_count": 99,
   "metadata": {
    "ExecuteTime": {
     "end_time": "2019-07-22T22:59:30.535945Z",
     "start_time": "2019-07-22T22:59:30.529588Z"
    }
   },
   "outputs": [],
   "source": [
    "#@jit(nopython=True, parallel=True)\n",
    "def getNeuroneReceptiveField(lmnFrame, lNeuron, lVerbose=False):\n",
    "    lBitmapNN = np.zeros((lmnFrame.shape[0],lmnFrame.shape[1]))\n",
    "    \n",
    "    lTMPNeuronMini = lNeuron;\n",
    "    lTMPNeuronMini.xPos = int(np.floor(lmnFrame.shape[0]/2))\n",
    "    lTMPNeuronMini.yPos = int(np.floor(lmnFrame.shape[1]/2))\n",
    "    \n",
    "    lBitmapNN = drawFieldNeurons(lTMPNeuronMini, lBitmapNN,0,0)\n",
    "    lBitmapNN[lBitmapNN>0]=1\n",
    "    return lBitmapNN"
   ]
  },
  {
   "cell_type": "code",
   "execution_count": 100,
   "metadata": {
    "ExecuteTime": {
     "end_time": "2019-07-22T22:59:30.550477Z",
     "start_time": "2019-07-22T22:59:30.540109Z"
    }
   },
   "outputs": [],
   "source": [
    "#@jit(nopython=True, parallel=True)\n",
    "def getError(frameBase, frameTest, lVerbose=False):\n",
    "    lOrigBase = np.sum(frameBase)\n",
    "    lBrutError = np.sum(np.abs(frameBase - frameTest))\n",
    "\n",
    "    if lOrigBase != 0:\n",
    "        lRelativeError = lBrutError / lOrigBase\n",
    "    else:\n",
    "        lRelativeError = NOPIXELVALUE\n",
    "        if lVerbose:\n",
    "            print(\n",
    "            \"WARNING 60 : No pixel in the original frame at these coordinates\"\n",
    "            )\n",
    "\n",
    "    if lVerbose:\n",
    "        print(lOrigBase)\n",
    "        print(np.sum(frameTest))\n",
    "        print(lBrutError)\n",
    "        print(lRelativeError)\n",
    "    return lRelativeError"
   ]
  },
  {
   "cell_type": "markdown",
   "metadata": {},
   "source": [
    "### Get Mini Error\n",
    "L'erreur mini est celle entre la reconstruction donnée par <b>un neurone unique </b> et une mini frame originale, correspondant juste au field de ce neurone. Le field d'un neurone field est carré de dimension impaire pour avoir un pixel au centre. Tandis que le champs de perception d'un neurone ligne est rectangulaire car il correspond à la combinaison des champs de plusieurs neurones fields alignés."
   ]
  },
  {
   "cell_type": "code",
   "execution_count": 101,
   "metadata": {
    "ExecuteTime": {
     "end_time": "2019-07-22T22:59:30.560993Z",
     "start_time": "2019-07-22T22:59:30.554972Z"
    }
   },
   "outputs": [],
   "source": [
    "#@jit(nopython=True, parallel=True)\n",
    "def getMiniError(lmnFrame, lNeuron, lVerbose=False):\n",
    "\n",
    "    lBitmapNN = getNeuroneReceptiveField(lmnFrame, lNeuron, lVerbose)\n",
    "    lmnFrame[lmnFrame > 0] = 1\n",
    "\n",
    "    return getError(lmnFrame, lBitmapNN, lVerbose)"
   ]
  },
  {
   "cell_type": "markdown",
   "metadata": {},
   "source": [
    "## Raffinage des neurones Lignes\n",
    "\n",
    "L'algorithme de détermination des neurones lignes est rapide et efficace. La contrepartie c'est qu'il peut faire des erreurs. Pour réduire ce problème, un algorithme de vérification est proposé. Cette vérification est plus approfondie mais elle profite de l'avantage du faible nombre de neurones lignes par rapport au nombre de neurones field pour être plus efficace.\n"
   ]
  },
  {
   "cell_type": "code",
   "execution_count": 102,
   "metadata": {
    "ExecuteTime": {
     "end_time": "2019-07-22T22:59:30.583114Z",
     "start_time": "2019-07-22T22:59:30.564444Z"
    }
   },
   "outputs": [],
   "source": [
    "#@jit(nopython=True, parallel=True)\n",
    "def checkNeuronLineList(lNeuronLineList, OriginalFrame, lVerbose=False):\n",
    "    lTmpNList = lNeuronLineList\n",
    "    for index, lLNeuron in lTmpNList.iterrows():\n",
    "        lMiniFrame = getSmallerFrame(lLNeuron, OriginalFrame,0,lVerbose)\n",
    "        \n",
    "        lLNeuron = pd.DataFrame(lLNeuron).T;\n",
    "        lRError1 = getMiniError(lMiniFrame, lLNeuron, lVerbose);\n",
    "        \n",
    "        if lVerbose:\n",
    "            print(index);\n",
    "            print(lLNeuron);\n",
    "            print(lRError1);\n",
    "        if (lRError1==NOPIXELVALUE):\n",
    "            lTmpNList = lTmpNList.drop(index);\n",
    "            continue\n",
    "\n",
    "        lTmpIdx = np.where(lMiniFrame != [0])\n",
    "        lnbPixels = nbPixelField(lTmpIdx[0], lTmpIdx[1], lMiniFrame,\n",
    "                                   tailleField)\n",
    "        lTmpFieldNeuronList = getNeuronActivationList(lTmpIdx[0], lTmpIdx[1],\n",
    "                                                      tailleField, lMiniFrame,\n",
    "                                                      lnbPixels)\n",
    "        lNewAngle = getWAGA(lTmpFieldNeuronList,0)\n",
    "        \n",
    "        lLNeuron.angle = lNewAngle        \n",
    "        lRError2 = getMiniError(lMiniFrame, lLNeuron, lVerbose)\n",
    "        \n",
    "        if lVerbose:\n",
    "            print(lLNeuron)\n",
    "            print(lRError2)\n",
    "        if (lRError1>lRError2):\n",
    "            \n",
    "            if lRError2 > 1.5:\n",
    "                print(\"Erreur relative : \"+str(lRError2))\n",
    "                lTmpNList = lTmpNList.drop(index);\n",
    "                continue\n",
    "            lTmpNList.loc[index, ['angle']] = lNewAngle\n",
    "    lTmpNList = lTmpNList.reset_index(drop=True)\n",
    "    return lTmpNList"
   ]
  },
  {
   "cell_type": "markdown",
   "metadata": {},
   "source": [
    "## Tableau des déplacements"
   ]
  },
  {
   "cell_type": "code",
   "execution_count": 104,
   "metadata": {
    "ExecuteTime": {
     "end_time": "2019-07-22T22:59:30.618793Z",
     "start_time": "2019-07-22T22:59:30.605208Z"
    }
   },
   "outputs": [],
   "source": [
    "#@jit(nopython=True, parallel=True)\n",
    "def getVariation(lnewFrame,\n",
    "                 lLineNeuronList,\n",
    "                 lMoveTable,\n",
    "                 lVerbose=False,\n",
    "                 lMargin=tailleField\n",
    "                 ):\n",
    "\n",
    "    for i in range(0, len(lLineNeuronList)):\n",
    "\n",
    "        # 0 : modifier le neurone pour\n",
    "        # obtenir la nouvelle position et orientation\n",
    "        # à partir du tableau des déplacements lMoveTable\n",
    "        # ++++> TODO\n",
    "        \n",
    "        # 1 : obtenir une mini Frame\n",
    "        lMiniFrame0 = getSmallerFrame(lLineNeuronList.loc[i], lnewFrame,0,lVerbose)\n",
    "\n",
    "        # 2 : le champs récepteur du neurone Ligne en cours\n",
    "        currentLineNeuron = pd.DataFrame(lLineNeuronList.loc[i]).T\n",
    "        lNeuronRF = getNeuroneReceptiveField(lMiniFrame0, currentLineNeuron)\n",
    "\n",
    "        # 3 : Calculer le masque à partir du champs récepteur\n",
    "        lCurrentMask = getMask(lNeuronRF, lMargin)\n",
    "\n",
    "        # 4 : Appliquer le masque\n",
    "        lMiniFrame0 = np.multiply(lMiniFrame0, lMiniFrame0)\n",
    "        # rationaliser les données\n",
    "        lMiniFrame0[lMiniFrame0 > 0] = 255\n",
    "\n",
    "        # 5 : Obtenir une population de neurones Field Points à l'intérieur du Field Ligne\n",
    "        lCurrentFNPop = getFieldNeuronPopulation(lMiniFrame0)\n",
    "        #print()\n",
    "        \n",
    "        if (len(lCurrentFNPop)>0):\n",
    "            # 6 : Obtenir le neurone field moyen\n",
    "            # qui nous donne les orientations et positions\n",
    "            lCurrentAfN = getAvgFieldNeuron(lCurrentFNPop)\n",
    "            lMoveTable.loc[i, 'angle'] += lCurrentAfN.angle.to_numpy(\n",
    "            ) - currentLineNeuron.angle.to_numpy()\n",
    "\n",
    "            lMoveTable.loc[i, 'weight'] += lCurrentAfN.weight.to_numpy(\n",
    "            ) - currentLineNeuron.weight.to_numpy()\n",
    "\n",
    "            lMoveTable.loc[i, 'xPos'] += lCurrentAfN.xPos.to_numpy(\n",
    "            ) - currentLineNeuron.xPos.to_numpy()\n",
    "\n",
    "            lMoveTable.loc[i, 'yPos'] += lCurrentAfN.yPos.to_numpy(\n",
    "            ) - currentLineNeuron.yPos.to_numpy()\n",
    "\n",
    "    return lMoveTable"
   ]
  },
  {
   "cell_type": "markdown",
   "metadata": {},
   "source": [
    "# Video Loop"
   ]
  },
  {
   "cell_type": "code",
   "execution_count": 105,
   "metadata": {
    "ExecuteTime": {
     "end_time": "2019-07-22T22:59:31.095144Z",
     "start_time": "2019-07-22T22:59:30.622422Z"
    }
   },
   "outputs": [],
   "source": [
    "kernelSize = 17  # Kernel Bluring size\n",
    "\n",
    "# Edge Detection Parameter\n",
    "parameter1 = 20\n",
    "parameter2 = 40\n",
    "intApertureSize = 1\n",
    "\n",
    "#cap = cv2.VideoCapture(0)\n",
    "cap = cv2.VideoCapture(fileName)\n",
    "lCounter = 0\n",
    "while (cap.isOpened()):\n",
    "    # Capture frame-by-frame\n",
    "    ret, Cannyframe = cap.read()\n",
    "    if ret == True:\n",
    "        # Our operations on the frame come here\n",
    "        if lCounter == 10:\n",
    "            Cannyframe = cv2.GaussianBlur(Cannyframe, (kernelSize, kernelSize), 0, 0)\n",
    "            Cannyframe = cv2.Canny(Cannyframe, parameter1, parameter2,\n",
    "                              intApertureSize)  # Canny edge detection\n",
    "            lCounter = 0\n",
    "            break\n",
    "        lCounter += 1\n",
    "\n",
    "        # Display the resulting frame\n",
    "        cv2.imshow('Edges Video', Cannyframe)\n",
    "        if cv2.waitKey(1) & 0xFF == ord('q'):  # press q to quit\n",
    "            break\n",
    "    else:\n",
    "        break\n",
    "# When everything done, release the capture\n",
    "cap.release()\n",
    "cv2.destroyAllWindows()"
   ]
  },
  {
   "cell_type": "markdown",
   "metadata": {},
   "source": [
    "# Sandbox\n",
    "## Toy data Generator"
   ]
  },
  {
   "cell_type": "code",
   "execution_count": 106,
   "metadata": {
    "ExecuteTime": {
     "end_time": "2019-07-22T22:59:31.134497Z",
     "start_time": "2019-07-22T22:59:31.097658Z"
    }
   },
   "outputs": [],
   "source": [
    "def generateToy(lType=1, lHauteur=80, lLargeur=128,lepaisseur=1):\n",
    "    lFrame = 0\n",
    "    if lType == 1:\n",
    "        lFrame = np.zeros((lHauteur, lLargeur))\n",
    "        lFrame[:, int((lLargeur-lepaisseur) / 2):int((lLargeur+lepaisseur) / 2)] = 255\n",
    "    elif lType == 2:\n",
    "        lFrame = np.zeros((lHauteur, lLargeur))\n",
    "        lFrame[int((lHauteur-lepaisseur) / 2):int((lHauteur+lepaisseur)/2), :] = 255\n",
    "    elif lType == 3:\n",
    "        lFrame = np.zeros((lHauteur, lLargeur))\n",
    "        cv2.line(lFrame, (int(lLargeur / 3), lHauteur),\n",
    "                 (int(2 * lLargeur / 3), 0), (255, 255, 255), lepaisseur)\n",
    "    elif lType == 4:\n",
    "        lFrame = np.zeros((lHauteur, lLargeur))\n",
    "        cv2.rectangle(lFrame,\n",
    "                      (int(lLargeur / 128 * 10), int(lHauteur / 80 * 30)),\n",
    "                      (int(lLargeur / 128 * 30), int(lHauteur / 80 * 50)),\n",
    "                      (255, 255, 255), lepaisseur)\n",
    "        pts = np.array([[int(lLargeur / 128 *64),\n",
    "                         int(lHauteur / 80 * 30)],\n",
    "                        [int(lLargeur / 128 * 76),\n",
    "                         int(lHauteur / 80 * 50)],\n",
    "                        [int(lLargeur / 128 * 53),\n",
    "                         int(lHauteur / 80 *50)]], np.int32)\n",
    "        ts = pts.reshape((-1, 1, 2))\n",
    "        cv2.polylines(lFrame, [pts], True, (255, 255, 255), lepaisseur)\n",
    "        cv2.circle(lFrame,\n",
    "                   (int(lLargeur / 128 * 107), int(lHauteur / 80 * 40)),\n",
    "                   int(lHauteur / 80 * 10), (255, 255, 255), lepaisseur)\n",
    "    elif lType == 5:\n",
    "        lFrame = np.zeros((lHauteur, lLargeur))\n",
    "        #createNeuron(llong, langle, lXpos, lYpos,\n",
    "        llN = int(lLargeur / 256 * 50)\n",
    "        llXTmp = int(lHauteur / 160 * 100)\n",
    "        lNeuronTest2 = createNeuron(llN, -75, llXTmp, int(lLargeur / 256 * 25))\n",
    "        drawFieldNeurons(lNeuronTest2, lFrame)\n",
    "        lNeuronTest2 = createNeuron(llN, -60, llXTmp, int(lLargeur / 256 * 75))\n",
    "        drawFieldNeurons(lNeuronTest2, lFrame) \n",
    "        lNeuronTest2 = createNeuron(llN, 0, llXTmp, int(lLargeur / 256 * 125))\n",
    "        drawFieldNeurons(lNeuronTest2, lFrame)\n",
    "        lNeuronTest2 = createNeuron(llN, 60, llXTmp, int(lLargeur / 256 * 175))\n",
    "        drawFieldNeurons(lNeuronTest2, lFrame)\n",
    "        lNeuronTest2 = createNeuron(llN, 75, llXTmp, int(lLargeur / 256 * 225))\n",
    "        drawFieldNeurons(lNeuronTest2, lFrame)\n",
    "    elif lType == 6:\n",
    "        lFrame = np.zeros((lHauteur, lLargeur))\n",
    "        #createNeuron(llong, langle, lXpos, lYpos,\n",
    "        llN = int(lLargeur / 256 * 50)\n",
    "        llXTmp = int(lHauteur / 160 * 100)\n",
    "        lNeuronTest2 = createNeuron(llN, 0, llXTmp, int(lLargeur / 256 * 25))\n",
    "        drawFieldNeurons(lNeuronTest2, lFrame)\n",
    "        lNeuronTest2 = createNeuron(llN, 0, llXTmp, int(lLargeur / 256 * 75))\n",
    "        drawFieldNeurons(lNeuronTest2, lFrame) \n",
    "        lNeuronTest2 = createNeuron(llN, 0, llXTmp, int(lLargeur / 256 * 125))\n",
    "        drawFieldNeurons(lNeuronTest2, lFrame)\n",
    "        lNeuronTest2 = createNeuron(llN, 0, llXTmp, int(lLargeur / 256 * 175))\n",
    "        drawFieldNeurons(lNeuronTest2, lFrame)\n",
    "        lNeuronTest2 = createNeuron(llN, 0, llXTmp, int(lLargeur / 256 * 225))\n",
    "        drawFieldNeurons(lNeuronTest2, lFrame)\n",
    "    elif lType == 7:\n",
    "        lFrame = np.zeros((lHauteur, lLargeur))\n",
    "        #createNeuron(llong, langle, lXpos, lYpos,\n",
    "        llN = int(lLargeur / 256 * 50)\n",
    "        llXTmp = int(lHauteur / 160 * 100)\n",
    "        lNeuronTest2 = createNeuron(llN, 5, llXTmp, int(lLargeur / 256 * 25))\n",
    "        drawFieldNeurons(lNeuronTest2, lFrame)\n",
    "        lNeuronTest2 = createNeuron(llN, 5, llXTmp, int(lLargeur / 256 * 75))\n",
    "        drawFieldNeurons(lNeuronTest2, lFrame) \n",
    "        lNeuronTest2 = createNeuron(llN, 0, llXTmp+2, int(lLargeur / 256 * 125))\n",
    "        drawFieldNeurons(lNeuronTest2, lFrame)\n",
    "        lNeuronTest2 = createNeuron(llN, 0, llXTmp+2, int(lLargeur / 256 * 175))\n",
    "        drawFieldNeurons(lNeuronTest2, lFrame)\n",
    "        lNeuronTest2 = createNeuron(llN, 0, llXTmp+2, int(lLargeur / 256 * 225))\n",
    "        drawFieldNeurons(lNeuronTest2, lFrame)\n",
    "    else:\n",
    "        lFrame = np.zeros((lHauteur, lLargeur))\n",
    "        print(\"First parameter should be between 1 to 7\")\n",
    "    return lFrame"
   ]
  },
  {
   "cell_type": "markdown",
   "metadata": {},
   "source": [
    "## Playground\n",
    "### Test Final on real world data 1"
   ]
  },
  {
   "cell_type": "code",
   "execution_count": 107,
   "metadata": {
    "ExecuteTime": {
     "end_time": "2019-07-22T22:59:31.418303Z",
     "start_time": "2019-07-22T22:59:31.138747Z"
    }
   },
   "outputs": [
    {
     "data": {
      "image/png": "[encoded data removed]",
      "text/plain": [
       "<Figure size 432x288 with 1 Axes>"
      ]
     },
     "metadata": {
      "needs_background": "light"
     },
     "output_type": "display_data"
    }
   ],
   "source": [
    "frame = Cannyframe\n",
    "imgplot = plt.imshow(frame)"
   ]
  },
  {
   "cell_type": "markdown",
   "metadata": {},
   "source": [
    "#### Génération des neurones à champs récepteur"
   ]
  },
  {
   "cell_type": "code",
   "execution_count": 108,
   "metadata": {
    "ExecuteTime": {
     "end_time": "2019-07-22T23:01:20.196049Z",
     "start_time": "2019-07-22T22:59:31.423230Z"
    }
   },
   "outputs": [],
   "source": [
    "indices = np.where(frame != [0])\n",
    "nbPixelsAll = nbPixelField(indices[0], indices[1], frame, tailleField)\n",
    "titi = getNeuronActivationList(indices[0], indices[1], tailleField, frame,\n",
    "                               nbPixelsAll)"
   ]
  },
  {
   "cell_type": "code",
   "execution_count": 109,
   "metadata": {
    "ExecuteTime": {
     "end_time": "2019-07-22T23:01:20.279748Z",
     "start_time": "2019-07-22T23:01:20.198814Z"
    }
   },
   "outputs": [
    {
     "data": {
      "text/html": [
       "<div>\n",
       "<style scoped>\n",
       "    .dataframe tbody tr th:only-of-type {\n",
       "        vertical-align: middle;\n",
       "    }\n",
       "\n",
       "    .dataframe tbody tr th {\n",
       "        vertical-align: top;\n",
       "    }\n",
       "\n",
       "    .dataframe thead th {\n",
       "        text-align: right;\n",
       "    }\n",
       "</style>\n",
       "<table border=\"1\" class=\"dataframe\">\n",
       "  <thead>\n",
       "    <tr style=\"text-align: right;\">\n",
       "      <th></th>\n",
       "      <th>longueur</th>\n",
       "      <th>angle</th>\n",
       "      <th>weight</th>\n",
       "      <th>precision</th>\n",
       "      <th>xPos</th>\n",
       "      <th>yPos</th>\n",
       "      <th>groupID</th>\n",
       "      <th>layer</th>\n",
       "    </tr>\n",
       "  </thead>\n",
       "  <tbody>\n",
       "    <tr>\n",
       "      <th>count</th>\n",
       "      <td>10254.0</td>\n",
       "      <td>10254.000000</td>\n",
       "      <td>10254.000000</td>\n",
       "      <td>10254.000000</td>\n",
       "      <td>10254.000000</td>\n",
       "      <td>10254.000000</td>\n",
       "      <td>10254.0</td>\n",
       "      <td>10254.000000</td>\n",
       "    </tr>\n",
       "    <tr>\n",
       "      <th>mean</th>\n",
       "      <td>9.0</td>\n",
       "      <td>2.985854</td>\n",
       "      <td>162.100189</td>\n",
       "      <td>23.920141</td>\n",
       "      <td>449.764385</td>\n",
       "      <td>630.681198</td>\n",
       "      <td>0.0</td>\n",
       "      <td>664.697876</td>\n",
       "    </tr>\n",
       "    <tr>\n",
       "      <th>std</th>\n",
       "      <td>0.0</td>\n",
       "      <td>47.667320</td>\n",
       "      <td>70.112183</td>\n",
       "      <td>16.056784</td>\n",
       "      <td>157.237674</td>\n",
       "      <td>323.411516</td>\n",
       "      <td>0.0</td>\n",
       "      <td>467.409271</td>\n",
       "    </tr>\n",
       "    <tr>\n",
       "      <th>min</th>\n",
       "      <td>9.0</td>\n",
       "      <td>-88.438889</td>\n",
       "      <td>1.749403</td>\n",
       "      <td>0.000000</td>\n",
       "      <td>267.000000</td>\n",
       "      <td>19.000000</td>\n",
       "      <td>0.0</td>\n",
       "      <td>-352.000000</td>\n",
       "    </tr>\n",
       "    <tr>\n",
       "      <th>25%</th>\n",
       "      <td>9.0</td>\n",
       "      <td>-34.880163</td>\n",
       "      <td>129.493996</td>\n",
       "      <td>13.579237</td>\n",
       "      <td>321.000000</td>\n",
       "      <td>420.250000</td>\n",
       "      <td>0.0</td>\n",
       "      <td>334.000000</td>\n",
       "    </tr>\n",
       "    <tr>\n",
       "      <th>50%</th>\n",
       "      <td>9.0</td>\n",
       "      <td>0.010000</td>\n",
       "      <td>187.248589</td>\n",
       "      <td>19.834084</td>\n",
       "      <td>391.000000</td>\n",
       "      <td>643.000000</td>\n",
       "      <td>0.0</td>\n",
       "      <td>650.000000</td>\n",
       "    </tr>\n",
       "    <tr>\n",
       "      <th>75%</th>\n",
       "      <td>9.0</td>\n",
       "      <td>43.112144</td>\n",
       "      <td>213.643402</td>\n",
       "      <td>29.687190</td>\n",
       "      <td>591.000000</td>\n",
       "      <td>816.000000</td>\n",
       "      <td>0.0</td>\n",
       "      <td>1034.000000</td>\n",
       "    </tr>\n",
       "    <tr>\n",
       "      <th>max</th>\n",
       "      <td>9.0</td>\n",
       "      <td>90.000000</td>\n",
       "      <td>242.906403</td>\n",
       "      <td>79.751053</td>\n",
       "      <td>788.000000</td>\n",
       "      <td>1247.000000</td>\n",
       "      <td>0.0</td>\n",
       "      <td>1656.000000</td>\n",
       "    </tr>\n",
       "  </tbody>\n",
       "</table>\n",
       "</div>"
      ],
      "text/plain": [
       "       longueur         angle        weight     precision          xPos  \\\n",
       "count   10254.0  10254.000000  10254.000000  10254.000000  10254.000000   \n",
       "mean        9.0      2.985854    162.100189     23.920141    449.764385   \n",
       "std         0.0     47.667320     70.112183     16.056784    157.237674   \n",
       "min         9.0    -88.438889      1.749403      0.000000    267.000000   \n",
       "25%         9.0    -34.880163    129.493996     13.579237    321.000000   \n",
       "50%         9.0      0.010000    187.248589     19.834084    391.000000   \n",
       "75%         9.0     43.112144    213.643402     29.687190    591.000000   \n",
       "max         9.0     90.000000    242.906403     79.751053    788.000000   \n",
       "\n",
       "               yPos  groupID         layer  \n",
       "count  10254.000000  10254.0  10254.000000  \n",
       "mean     630.681198      0.0    664.697876  \n",
       "std      323.411516      0.0    467.409271  \n",
       "min       19.000000      0.0   -352.000000  \n",
       "25%      420.250000      0.0    334.000000  \n",
       "50%      643.000000      0.0    650.000000  \n",
       "75%      816.000000      0.0   1034.000000  \n",
       "max     1247.000000      0.0   1656.000000  "
      ]
     },
     "execution_count": 109,
     "metadata": {},
     "output_type": "execute_result"
    }
   ],
   "source": [
    "titi.describe()"
   ]
  },
  {
   "cell_type": "code",
   "execution_count": 110,
   "metadata": {
    "ExecuteTime": {
     "end_time": "2019-07-22T23:01:20.316688Z",
     "start_time": "2019-07-22T23:01:20.289110Z"
    }
   },
   "outputs": [
    {
     "data": {
      "text/html": [
       "<div>\n",
       "<style scoped>\n",
       "    .dataframe tbody tr th:only-of-type {\n",
       "        vertical-align: middle;\n",
       "    }\n",
       "\n",
       "    .dataframe tbody tr th {\n",
       "        vertical-align: top;\n",
       "    }\n",
       "\n",
       "    .dataframe thead th {\n",
       "        text-align: right;\n",
       "    }\n",
       "</style>\n",
       "<table border=\"1\" class=\"dataframe\">\n",
       "  <thead>\n",
       "    <tr style=\"text-align: right;\">\n",
       "      <th></th>\n",
       "      <th>longueur</th>\n",
       "      <th>angle</th>\n",
       "      <th>weight</th>\n",
       "      <th>precision</th>\n",
       "      <th>xPos</th>\n",
       "      <th>yPos</th>\n",
       "      <th>groupID</th>\n",
       "      <th>layer</th>\n",
       "    </tr>\n",
       "  </thead>\n",
       "  <tbody>\n",
       "    <tr>\n",
       "      <th>0</th>\n",
       "      <td>9</td>\n",
       "      <td>-4.04875</td>\n",
       "      <td>231.519394</td>\n",
       "      <td>7.115115</td>\n",
       "      <td>267</td>\n",
       "      <td>19</td>\n",
       "      <td>0</td>\n",
       "      <td>0.0</td>\n",
       "    </tr>\n",
       "    <tr>\n",
       "      <th>1</th>\n",
       "      <td>9</td>\n",
       "      <td>-3.43000</td>\n",
       "      <td>146.006378</td>\n",
       "      <td>27.076391</td>\n",
       "      <td>267</td>\n",
       "      <td>81</td>\n",
       "      <td>0</td>\n",
       "      <td>67.0</td>\n",
       "    </tr>\n",
       "    <tr>\n",
       "      <th>2</th>\n",
       "      <td>9</td>\n",
       "      <td>-3.43000</td>\n",
       "      <td>221.134964</td>\n",
       "      <td>11.236097</td>\n",
       "      <td>267</td>\n",
       "      <td>120</td>\n",
       "      <td>0</td>\n",
       "      <td>106.0</td>\n",
       "    </tr>\n",
       "    <tr>\n",
       "      <th>3</th>\n",
       "      <td>9</td>\n",
       "      <td>-1.74500</td>\n",
       "      <td>236.284256</td>\n",
       "      <td>4.643293</td>\n",
       "      <td>267</td>\n",
       "      <td>150</td>\n",
       "      <td>0</td>\n",
       "      <td>141.0</td>\n",
       "    </tr>\n",
       "  </tbody>\n",
       "</table>\n",
       "</div>"
      ],
      "text/plain": [
       "   longueur    angle      weight  precision  xPos  yPos  groupID  layer\n",
       "0         9 -4.04875  231.519394   7.115115   267    19        0    0.0\n",
       "1         9 -3.43000  146.006378  27.076391   267    81        0   67.0\n",
       "2         9 -3.43000  221.134964  11.236097   267   120        0  106.0\n",
       "3         9 -1.74500  236.284256   4.643293   267   150        0  141.0"
      ]
     },
     "execution_count": 110,
     "metadata": {},
     "output_type": "execute_result"
    }
   ],
   "source": [
    "titi[0:4]"
   ]
  },
  {
   "cell_type": "markdown",
   "metadata": {},
   "source": [
    "\n",
    "#### Affichage graphique du champs récepteur des neurones"
   ]
  },
  {
   "cell_type": "code",
   "execution_count": 111,
   "metadata": {
    "ExecuteTime": {
     "end_time": "2019-07-22T23:01:23.890003Z",
     "start_time": "2019-07-22T23:01:20.326408Z"
    }
   },
   "outputs": [
    {
     "data": {
      "image/png": "[encoded data removed]",
      "text/plain": [
       "<Figure size 432x288 with 1 Axes>"
      ]
     },
     "metadata": {
      "needs_background": "light"
     },
     "output_type": "display_data"
    }
   ],
   "source": [
    "testBitmap = np.zeros((frame.shape[0],frame.shape[1],3), np.uint8)\n",
    "testBitmap = drawFieldNeurons(titi, testBitmap)\n",
    "imgplot = plt.imshow(testBitmap)"
   ]
  },
  {
   "cell_type": "code",
   "execution_count": 112,
   "metadata": {
    "ExecuteTime": {
     "end_time": "2019-07-22T23:01:24.028847Z",
     "start_time": "2019-07-22T23:01:23.893019Z"
    }
   },
   "outputs": [],
   "source": [
    "lintI = 0\n",
    "while (lintI < 10):\n",
    "    cv2.imshow('Field Neurons', testBitmap)\n",
    "    if cv2.waitKey(1) & 0xFF == ord('q'): # press q to quit\n",
    "        break\n",
    "    lintI += 1"
   ]
  },
  {
   "cell_type": "code",
   "execution_count": 113,
   "metadata": {
    "ExecuteTime": {
     "end_time": "2019-07-22T23:01:25.732808Z",
     "start_time": "2019-07-22T23:01:24.031020Z"
    }
   },
   "outputs": [
    {
     "name": "stdout",
     "output_type": "stream",
     "text": [
      "nb neurons : 78\n",
      "Warning 70 : ValueError: too many values to unpack (expected 2)\n",
      "78\n"
     ]
    }
   ],
   "source": [
    "lTMPNeuronList = getLineNeuronList(titi,0)\n",
    "print(len(lTMPNeuronList))"
   ]
  },
  {
   "cell_type": "code",
   "execution_count": 114,
   "metadata": {
    "ExecuteTime": {
     "end_time": "2019-07-22T23:01:26.060054Z",
     "start_time": "2019-07-22T23:01:25.735232Z"
    }
   },
   "outputs": [
    {
     "data": {
      "image/png": "[encoded data removed]",
      "text/plain": [
       "<Figure size 432x288 with 1 Axes>"
      ]
     },
     "metadata": {
      "needs_background": "light"
     },
     "output_type": "display_data"
    }
   ],
   "source": [
    "testBitmap = np.zeros((frame.shape[0],frame.shape[1],3), np.uint8)\n",
    "testBitmap = drawFieldNeurons(lTMPNeuronList, testBitmap,0,0)\n",
    "imgplot = plt.imshow(testBitmap)"
   ]
  },
  {
   "cell_type": "code",
   "execution_count": 115,
   "metadata": {
    "ExecuteTime": {
     "end_time": "2019-07-22T23:01:26.185575Z",
     "start_time": "2019-07-22T23:01:26.063399Z"
    }
   },
   "outputs": [],
   "source": [
    "lintI = 0\n",
    "while (lintI < 10):\n",
    "    cv2.imshow('Line Neurons', testBitmap)\n",
    "    if cv2.waitKey(1) & 0xFF == ord('q'): # press q to quit\n",
    "        break\n",
    "    lintI += 1"
   ]
  },
  {
   "cell_type": "markdown",
   "metadata": {},
   "source": [
    "#### Raffinage des neurones Lignes"
   ]
  },
  {
   "cell_type": "code",
   "execution_count": 116,
   "metadata": {
    "ExecuteTime": {
     "end_time": "2019-07-22T23:01:27.807027Z",
     "start_time": "2019-07-22T23:01:26.187840Z"
    }
   },
   "outputs": [
    {
     "name": "stdout",
     "output_type": "stream",
     "text": [
      "Erreur relative : 1.8888888888888888\n",
      "30\n"
     ]
    }
   ],
   "source": [
    "LineNeuronPop =  checkNeuronLineList(lTMPNeuronList, frame)\n",
    "print(len(LineNeuronPop))"
   ]
  },
  {
   "cell_type": "code",
   "execution_count": 128,
   "metadata": {
    "ExecuteTime": {
     "end_time": "2019-07-22T23:02:27.252168Z",
     "start_time": "2019-07-22T23:02:26.946986Z"
    }
   },
   "outputs": [
    {
     "data": {
      "image/png": "[encoded data removed]",
      "text/plain": [
       "<Figure size 432x288 with 1 Axes>"
      ]
     },
     "metadata": {
      "needs_background": "light"
     },
     "output_type": "display_data"
    }
   ],
   "source": [
    "testBitmap = np.zeros((frame.shape[0],frame.shape[1],3), np.uint8)\n",
    "testBitmap = drawFieldNeurons(LineNeuronPop, testBitmap,0,0)\n",
    "imgplot = plt.imshow(testBitmap)"
   ]
  },
  {
   "cell_type": "code",
   "execution_count": 129,
   "metadata": {
    "ExecuteTime": {
     "end_time": "2019-07-22T23:02:33.447212Z",
     "start_time": "2019-07-22T23:02:33.341517Z"
    }
   },
   "outputs": [],
   "source": [
    "lintI = 0\n",
    "while (lintI < 10):\n",
    "    cv2.imshow('Lignes raffinées', testBitmap)\n",
    "    if cv2.waitKey(1) & 0xFF == ord('q'): # press q to quit\n",
    "        break\n",
    "    lintI += 1"
   ]
  },
  {
   "cell_type": "markdown",
   "metadata": {},
   "source": [
    "#### Video Loop"
   ]
  },
  {
   "cell_type": "code",
   "execution_count": 174,
   "metadata": {
    "ExecuteTime": {
     "end_time": "2019-07-22T23:42:44.592260Z",
     "start_time": "2019-07-22T23:42:34.040350Z"
    }
   },
   "outputs": [],
   "source": [
    "kernelSize = 17  # Kernel Bluring size\n",
    "\n",
    "# Edge Detection Parameter\n",
    "parameter1 = 20\n",
    "parameter2 = 40\n",
    "intApertureSize = 1\n",
    "\n",
    "LTmpFirst = 0\n",
    "lMoves = np.zeros(len(LineNeuronPop), dtype=moveType)\n",
    "lpMoves = pd.DataFrame(lMoves)\n",
    "#cap = cv2.VideoCapture(0)\n",
    "cap = cv2.VideoCapture(fileName)\n",
    "lCounter = 0\n",
    "while (cap.isOpened()):\n",
    "    # Capture frame-by-frame\n",
    "    ret, Cannyframe = cap.read()\n",
    "    if ret == True:\n",
    "        # Our operations on the frame come here\n",
    "        if lCounter == 1200:\n",
    "            LTmpFirst +=1;\n",
    "            Cannyframe = cv2.GaussianBlur(Cannyframe, (kernelSize, kernelSize), 0, 0)\n",
    "            Cannyframe = cv2.Canny(Cannyframe, parameter1, parameter2,\n",
    "                              intApertureSize)  # Canny edge detection\n",
    "            if LTmpFirst>0:                \n",
    "            #    print(getVariation(Cannyframe,LineNeuronPop,lpMoves))\n",
    "                break\n",
    "            lCounter = 0\n",
    "            #break\n",
    "        lCounter += 1\n",
    "\n",
    "        # Display the resulting frame\n",
    "        #cv2.imshow('Edges Video', Cannyframe)\n",
    "        #if cv2.waitKey(1) & 0xFF == ord('q'):  # press q to quit\n",
    "        #    break\n",
    "    else:\n",
    "        break\n",
    "# When everything done, release the capture\n",
    "cap.release()\n",
    "cv2.destroyAllWindows()"
   ]
  },
  {
   "cell_type": "code",
   "execution_count": 175,
   "metadata": {
    "ExecuteTime": {
     "end_time": "2019-07-22T23:42:45.771779Z",
     "start_time": "2019-07-22T23:42:45.388459Z"
    }
   },
   "outputs": [
    {
     "data": {
      "text/html": [
       "<div>\n",
       "<style scoped>\n",
       "    .dataframe tbody tr th:only-of-type {\n",
       "        vertical-align: middle;\n",
       "    }\n",
       "\n",
       "    .dataframe tbody tr th {\n",
       "        vertical-align: top;\n",
       "    }\n",
       "\n",
       "    .dataframe thead th {\n",
       "        text-align: right;\n",
       "    }\n",
       "</style>\n",
       "<table border=\"1\" class=\"dataframe\">\n",
       "  <thead>\n",
       "    <tr style=\"text-align: right;\">\n",
       "      <th></th>\n",
       "      <th>longueur</th>\n",
       "      <th>angle</th>\n",
       "      <th>weight</th>\n",
       "      <th>xPos</th>\n",
       "      <th>yPos</th>\n",
       "    </tr>\n",
       "  </thead>\n",
       "  <tbody>\n",
       "    <tr>\n",
       "      <th>0</th>\n",
       "      <td>0</td>\n",
       "      <td>-57.125771</td>\n",
       "      <td>-79.666336</td>\n",
       "      <td>0.0</td>\n",
       "      <td>-3.0</td>\n",
       "    </tr>\n",
       "    <tr>\n",
       "      <th>1</th>\n",
       "      <td>0</td>\n",
       "      <td>0.000000</td>\n",
       "      <td>0.000000</td>\n",
       "      <td>0.0</td>\n",
       "      <td>0.0</td>\n",
       "    </tr>\n",
       "    <tr>\n",
       "      <th>2</th>\n",
       "      <td>0</td>\n",
       "      <td>0.000000</td>\n",
       "      <td>0.000000</td>\n",
       "      <td>0.0</td>\n",
       "      <td>0.0</td>\n",
       "    </tr>\n",
       "    <tr>\n",
       "      <th>3</th>\n",
       "      <td>0</td>\n",
       "      <td>0.000000</td>\n",
       "      <td>0.000000</td>\n",
       "      <td>0.0</td>\n",
       "      <td>0.0</td>\n",
       "    </tr>\n",
       "    <tr>\n",
       "      <th>4</th>\n",
       "      <td>0</td>\n",
       "      <td>-92.973854</td>\n",
       "      <td>-11.266083</td>\n",
       "      <td>-33.0</td>\n",
       "      <td>2.0</td>\n",
       "    </tr>\n",
       "    <tr>\n",
       "      <th>5</th>\n",
       "      <td>0</td>\n",
       "      <td>0.000000</td>\n",
       "      <td>0.000000</td>\n",
       "      <td>0.0</td>\n",
       "      <td>0.0</td>\n",
       "    </tr>\n",
       "    <tr>\n",
       "      <th>6</th>\n",
       "      <td>0</td>\n",
       "      <td>-76.630508</td>\n",
       "      <td>-32.370651</td>\n",
       "      <td>3.0</td>\n",
       "      <td>10.0</td>\n",
       "    </tr>\n",
       "    <tr>\n",
       "      <th>7</th>\n",
       "      <td>0</td>\n",
       "      <td>0.000000</td>\n",
       "      <td>0.000000</td>\n",
       "      <td>0.0</td>\n",
       "      <td>0.0</td>\n",
       "    </tr>\n",
       "  </tbody>\n",
       "</table>\n",
       "</div>"
      ],
      "text/plain": [
       "   longueur      angle     weight  xPos  yPos\n",
       "0         0 -57.125771 -79.666336   0.0  -3.0\n",
       "1         0   0.000000   0.000000   0.0   0.0\n",
       "2         0   0.000000   0.000000   0.0   0.0\n",
       "3         0   0.000000   0.000000   0.0   0.0\n",
       "4         0 -92.973854 -11.266083 -33.0   2.0\n",
       "5         0   0.000000   0.000000   0.0   0.0\n",
       "6         0 -76.630508 -32.370651   3.0  10.0\n",
       "7         0   0.000000   0.000000   0.0   0.0"
      ]
     },
     "execution_count": 175,
     "metadata": {},
     "output_type": "execute_result"
    }
   ],
   "source": [
    "getVariation(Cannyframe,LineNeuronPop,lpMoves)"
   ]
  },
  {
   "cell_type": "code",
   "execution_count": 150,
   "metadata": {
    "ExecuteTime": {
     "end_time": "2019-07-22T23:35:10.920214Z",
     "start_time": "2019-07-22T23:35:10.822577Z"
    }
   },
   "outputs": [
    {
     "data": {
      "text/html": [
       "<div>\n",
       "<style scoped>\n",
       "    .dataframe tbody tr th:only-of-type {\n",
       "        vertical-align: middle;\n",
       "    }\n",
       "\n",
       "    .dataframe tbody tr th {\n",
       "        vertical-align: top;\n",
       "    }\n",
       "\n",
       "    .dataframe thead th {\n",
       "        text-align: right;\n",
       "    }\n",
       "</style>\n",
       "<table border=\"1\" class=\"dataframe\">\n",
       "  <thead>\n",
       "    <tr style=\"text-align: right;\">\n",
       "      <th></th>\n",
       "      <th>longueur</th>\n",
       "      <th>angle</th>\n",
       "      <th>weight</th>\n",
       "      <th>precision</th>\n",
       "      <th>xPos</th>\n",
       "      <th>yPos</th>\n",
       "      <th>groupID</th>\n",
       "      <th>layer</th>\n",
       "    </tr>\n",
       "  </thead>\n",
       "  <tbody>\n",
       "    <tr>\n",
       "      <th>0</th>\n",
       "      <td>299.0</td>\n",
       "      <td>89.968964</td>\n",
       "      <td>242.817657</td>\n",
       "      <td>0.049711</td>\n",
       "      <td>354.0</td>\n",
       "      <td>645.0</td>\n",
       "      <td>0</td>\n",
       "      <td>177.0</td>\n",
       "    </tr>\n",
       "    <tr>\n",
       "      <th>1</th>\n",
       "      <td>87.0</td>\n",
       "      <td>0.000000</td>\n",
       "      <td>181.732483</td>\n",
       "      <td>20.223509</td>\n",
       "      <td>334.0</td>\n",
       "      <td>783.0</td>\n",
       "      <td>5</td>\n",
       "      <td>23.0</td>\n",
       "    </tr>\n",
       "    <tr>\n",
       "      <th>2</th>\n",
       "      <td>44.0</td>\n",
       "      <td>0.000000</td>\n",
       "      <td>184.875198</td>\n",
       "      <td>19.954096</td>\n",
       "      <td>336.0</td>\n",
       "      <td>787.0</td>\n",
       "      <td>6</td>\n",
       "      <td>22.0</td>\n",
       "    </tr>\n",
       "    <tr>\n",
       "      <th>3</th>\n",
       "      <td>60.0</td>\n",
       "      <td>0.000000</td>\n",
       "      <td>206.266861</td>\n",
       "      <td>14.879881</td>\n",
       "      <td>323.0</td>\n",
       "      <td>762.0</td>\n",
       "      <td>10</td>\n",
       "      <td>15.0</td>\n",
       "    </tr>\n",
       "    <tr>\n",
       "      <th>4</th>\n",
       "      <td>265.0</td>\n",
       "      <td>51.675179</td>\n",
       "      <td>178.873459</td>\n",
       "      <td>21.223179</td>\n",
       "      <td>426.0</td>\n",
       "      <td>176.0</td>\n",
       "      <td>14</td>\n",
       "      <td>31.0</td>\n",
       "    </tr>\n",
       "    <tr>\n",
       "      <th>5</th>\n",
       "      <td>56.0</td>\n",
       "      <td>45.831512</td>\n",
       "      <td>174.768768</td>\n",
       "      <td>21.567673</td>\n",
       "      <td>374.0</td>\n",
       "      <td>93.0</td>\n",
       "      <td>20</td>\n",
       "      <td>15.0</td>\n",
       "    </tr>\n",
       "    <tr>\n",
       "      <th>6</th>\n",
       "      <td>236.0</td>\n",
       "      <td>0.000000</td>\n",
       "      <td>242.906387</td>\n",
       "      <td>0.000000</td>\n",
       "      <td>403.0</td>\n",
       "      <td>637.0</td>\n",
       "      <td>24</td>\n",
       "      <td>55.0</td>\n",
       "    </tr>\n",
       "    <tr>\n",
       "      <th>7</th>\n",
       "      <td>46.0</td>\n",
       "      <td>18.708279</td>\n",
       "      <td>201.291901</td>\n",
       "      <td>16.194710</td>\n",
       "      <td>604.0</td>\n",
       "      <td>258.0</td>\n",
       "      <td>25</td>\n",
       "      <td>8.0</td>\n",
       "    </tr>\n",
       "    <tr>\n",
       "      <th>8</th>\n",
       "      <td>239.0</td>\n",
       "      <td>45.457848</td>\n",
       "      <td>176.629044</td>\n",
       "      <td>21.644506</td>\n",
       "      <td>439.0</td>\n",
       "      <td>159.0</td>\n",
       "      <td>36</td>\n",
       "      <td>12.0</td>\n",
       "    </tr>\n",
       "    <tr>\n",
       "      <th>9</th>\n",
       "      <td>62.0</td>\n",
       "      <td>-56.915001</td>\n",
       "      <td>192.168274</td>\n",
       "      <td>18.213085</td>\n",
       "      <td>326.0</td>\n",
       "      <td>767.0</td>\n",
       "      <td>41</td>\n",
       "      <td>25.0</td>\n",
       "    </tr>\n",
       "  </tbody>\n",
       "</table>\n",
       "</div>"
      ],
      "text/plain": [
       "   longueur      angle      weight  precision   xPos   yPos  groupID  layer\n",
       "0     299.0  89.968964  242.817657   0.049711  354.0  645.0        0  177.0\n",
       "1      87.0   0.000000  181.732483  20.223509  334.0  783.0        5   23.0\n",
       "2      44.0   0.000000  184.875198  19.954096  336.0  787.0        6   22.0\n",
       "3      60.0   0.000000  206.266861  14.879881  323.0  762.0       10   15.0\n",
       "4     265.0  51.675179  178.873459  21.223179  426.0  176.0       14   31.0\n",
       "5      56.0  45.831512  174.768768  21.567673  374.0   93.0       20   15.0\n",
       "6     236.0   0.000000  242.906387   0.000000  403.0  637.0       24   55.0\n",
       "7      46.0  18.708279  201.291901  16.194710  604.0  258.0       25    8.0\n",
       "8     239.0  45.457848  176.629044  21.644506  439.0  159.0       36   12.0\n",
       "9      62.0 -56.915001  192.168274  18.213085  326.0  767.0       41   25.0"
      ]
     },
     "execution_count": 150,
     "metadata": {},
     "output_type": "execute_result"
    }
   ],
   "source": [
    "LineNeuronPop"
   ]
  },
  {
   "cell_type": "code",
   "execution_count": 122,
   "metadata": {
    "ExecuteTime": {
     "end_time": "2019-07-22T23:01:34.485110Z",
     "start_time": "2019-07-22T23:01:34.479849Z"
    }
   },
   "outputs": [],
   "source": [
    "LineNeuronPop = LineNeuronPop.reset_index(drop=True)"
   ]
  },
  {
   "cell_type": "code",
   "execution_count": 123,
   "metadata": {
    "ExecuteTime": {
     "end_time": "2019-07-22T23:01:34.526808Z",
     "start_time": "2019-07-22T23:01:34.488302Z"
    }
   },
   "outputs": [
    {
     "data": {
      "text/html": [
       "<div>\n",
       "<style scoped>\n",
       "    .dataframe tbody tr th:only-of-type {\n",
       "        vertical-align: middle;\n",
       "    }\n",
       "\n",
       "    .dataframe tbody tr th {\n",
       "        vertical-align: top;\n",
       "    }\n",
       "\n",
       "    .dataframe thead th {\n",
       "        text-align: right;\n",
       "    }\n",
       "</style>\n",
       "<table border=\"1\" class=\"dataframe\">\n",
       "  <thead>\n",
       "    <tr style=\"text-align: right;\">\n",
       "      <th></th>\n",
       "      <th>longueur</th>\n",
       "      <th>angle</th>\n",
       "      <th>weight</th>\n",
       "      <th>precision</th>\n",
       "      <th>xPos</th>\n",
       "      <th>yPos</th>\n",
       "      <th>groupID</th>\n",
       "      <th>layer</th>\n",
       "    </tr>\n",
       "  </thead>\n",
       "  <tbody>\n",
       "    <tr>\n",
       "      <th>0</th>\n",
       "      <td>299.0</td>\n",
       "      <td>89.968964</td>\n",
       "      <td>242.817657</td>\n",
       "      <td>0.049711</td>\n",
       "      <td>354.0</td>\n",
       "      <td>645.0</td>\n",
       "      <td>0</td>\n",
       "      <td>177.0</td>\n",
       "    </tr>\n",
       "    <tr>\n",
       "      <th>1</th>\n",
       "      <td>393.0</td>\n",
       "      <td>0.333435</td>\n",
       "      <td>228.166260</td>\n",
       "      <td>4.724359</td>\n",
       "      <td>414.0</td>\n",
       "      <td>650.0</td>\n",
       "      <td>2</td>\n",
       "      <td>49.0</td>\n",
       "    </tr>\n",
       "    <tr>\n",
       "      <th>2</th>\n",
       "      <td>144.0</td>\n",
       "      <td>52.484070</td>\n",
       "      <td>188.254654</td>\n",
       "      <td>19.467165</td>\n",
       "      <td>419.0</td>\n",
       "      <td>195.0</td>\n",
       "      <td>3</td>\n",
       "      <td>34.0</td>\n",
       "    </tr>\n",
       "    <tr>\n",
       "      <th>3</th>\n",
       "      <td>88.0</td>\n",
       "      <td>-57.607601</td>\n",
       "      <td>188.234344</td>\n",
       "      <td>18.926777</td>\n",
       "      <td>323.0</td>\n",
       "      <td>761.0</td>\n",
       "      <td>4</td>\n",
       "      <td>27.0</td>\n",
       "    </tr>\n",
       "    <tr>\n",
       "      <th>4</th>\n",
       "      <td>87.0</td>\n",
       "      <td>0.000000</td>\n",
       "      <td>181.732483</td>\n",
       "      <td>20.223509</td>\n",
       "      <td>334.0</td>\n",
       "      <td>783.0</td>\n",
       "      <td>5</td>\n",
       "      <td>23.0</td>\n",
       "    </tr>\n",
       "    <tr>\n",
       "      <th>5</th>\n",
       "      <td>44.0</td>\n",
       "      <td>0.000000</td>\n",
       "      <td>184.875198</td>\n",
       "      <td>19.954096</td>\n",
       "      <td>336.0</td>\n",
       "      <td>787.0</td>\n",
       "      <td>6</td>\n",
       "      <td>22.0</td>\n",
       "    </tr>\n",
       "    <tr>\n",
       "      <th>6</th>\n",
       "      <td>366.0</td>\n",
       "      <td>0.196360</td>\n",
       "      <td>218.793945</td>\n",
       "      <td>8.218024</td>\n",
       "      <td>502.0</td>\n",
       "      <td>635.0</td>\n",
       "      <td>8</td>\n",
       "      <td>48.0</td>\n",
       "    </tr>\n",
       "    <tr>\n",
       "      <th>7</th>\n",
       "      <td>120.0</td>\n",
       "      <td>46.034271</td>\n",
       "      <td>182.725845</td>\n",
       "      <td>20.411085</td>\n",
       "      <td>336.0</td>\n",
       "      <td>552.0</td>\n",
       "      <td>9</td>\n",
       "      <td>20.0</td>\n",
       "    </tr>\n",
       "    <tr>\n",
       "      <th>8</th>\n",
       "      <td>60.0</td>\n",
       "      <td>0.000000</td>\n",
       "      <td>206.266861</td>\n",
       "      <td>14.879881</td>\n",
       "      <td>323.0</td>\n",
       "      <td>762.0</td>\n",
       "      <td>10</td>\n",
       "      <td>15.0</td>\n",
       "    </tr>\n",
       "    <tr>\n",
       "      <th>9</th>\n",
       "      <td>265.0</td>\n",
       "      <td>51.675179</td>\n",
       "      <td>178.873459</td>\n",
       "      <td>21.223179</td>\n",
       "      <td>426.0</td>\n",
       "      <td>176.0</td>\n",
       "      <td>14</td>\n",
       "      <td>31.0</td>\n",
       "    </tr>\n",
       "    <tr>\n",
       "      <th>10</th>\n",
       "      <td>262.0</td>\n",
       "      <td>18.600788</td>\n",
       "      <td>198.644073</td>\n",
       "      <td>16.406616</td>\n",
       "      <td>415.0</td>\n",
       "      <td>677.0</td>\n",
       "      <td>15</td>\n",
       "      <td>22.0</td>\n",
       "    </tr>\n",
       "    <tr>\n",
       "      <th>11</th>\n",
       "      <td>400.0</td>\n",
       "      <td>5.294816</td>\n",
       "      <td>215.252930</td>\n",
       "      <td>10.588344</td>\n",
       "      <td>459.0</td>\n",
       "      <td>807.0</td>\n",
       "      <td>16</td>\n",
       "      <td>10.0</td>\n",
       "    </tr>\n",
       "    <tr>\n",
       "      <th>12</th>\n",
       "      <td>355.0</td>\n",
       "      <td>2.843837</td>\n",
       "      <td>212.952438</td>\n",
       "      <td>11.818579</td>\n",
       "      <td>535.0</td>\n",
       "      <td>633.0</td>\n",
       "      <td>19</td>\n",
       "      <td>18.0</td>\n",
       "    </tr>\n",
       "    <tr>\n",
       "      <th>13</th>\n",
       "      <td>56.0</td>\n",
       "      <td>45.831512</td>\n",
       "      <td>174.768768</td>\n",
       "      <td>21.567673</td>\n",
       "      <td>374.0</td>\n",
       "      <td>93.0</td>\n",
       "      <td>20</td>\n",
       "      <td>15.0</td>\n",
       "    </tr>\n",
       "    <tr>\n",
       "      <th>14</th>\n",
       "      <td>105.0</td>\n",
       "      <td>-54.017818</td>\n",
       "      <td>174.222656</td>\n",
       "      <td>21.568506</td>\n",
       "      <td>338.0</td>\n",
       "      <td>1117.0</td>\n",
       "      <td>23</td>\n",
       "      <td>8.0</td>\n",
       "    </tr>\n",
       "    <tr>\n",
       "      <th>15</th>\n",
       "      <td>236.0</td>\n",
       "      <td>0.000000</td>\n",
       "      <td>242.906387</td>\n",
       "      <td>0.000000</td>\n",
       "      <td>403.0</td>\n",
       "      <td>637.0</td>\n",
       "      <td>24</td>\n",
       "      <td>55.0</td>\n",
       "    </tr>\n",
       "    <tr>\n",
       "      <th>16</th>\n",
       "      <td>46.0</td>\n",
       "      <td>18.708279</td>\n",
       "      <td>201.291901</td>\n",
       "      <td>16.194710</td>\n",
       "      <td>604.0</td>\n",
       "      <td>258.0</td>\n",
       "      <td>25</td>\n",
       "      <td>8.0</td>\n",
       "    </tr>\n",
       "    <tr>\n",
       "      <th>17</th>\n",
       "      <td>230.0</td>\n",
       "      <td>52.297348</td>\n",
       "      <td>179.833893</td>\n",
       "      <td>20.938587</td>\n",
       "      <td>423.0</td>\n",
       "      <td>184.0</td>\n",
       "      <td>26</td>\n",
       "      <td>32.0</td>\n",
       "    </tr>\n",
       "    <tr>\n",
       "      <th>18</th>\n",
       "      <td>112.0</td>\n",
       "      <td>43.962185</td>\n",
       "      <td>170.159805</td>\n",
       "      <td>22.145370</td>\n",
       "      <td>364.0</td>\n",
       "      <td>93.0</td>\n",
       "      <td>29</td>\n",
       "      <td>10.0</td>\n",
       "    </tr>\n",
       "    <tr>\n",
       "      <th>19</th>\n",
       "      <td>297.0</td>\n",
       "      <td>0.000000</td>\n",
       "      <td>168.030472</td>\n",
       "      <td>22.335354</td>\n",
       "      <td>427.0</td>\n",
       "      <td>196.0</td>\n",
       "      <td>31</td>\n",
       "      <td>15.0</td>\n",
       "    </tr>\n",
       "    <tr>\n",
       "      <th>20</th>\n",
       "      <td>324.0</td>\n",
       "      <td>36.529499</td>\n",
       "      <td>177.385406</td>\n",
       "      <td>21.068829</td>\n",
       "      <td>469.0</td>\n",
       "      <td>209.0</td>\n",
       "      <td>32</td>\n",
       "      <td>11.0</td>\n",
       "    </tr>\n",
       "    <tr>\n",
       "      <th>21</th>\n",
       "      <td>110.0</td>\n",
       "      <td>56.879818</td>\n",
       "      <td>201.345474</td>\n",
       "      <td>16.366838</td>\n",
       "      <td>423.0</td>\n",
       "      <td>188.0</td>\n",
       "      <td>33</td>\n",
       "      <td>27.0</td>\n",
       "    </tr>\n",
       "    <tr>\n",
       "      <th>22</th>\n",
       "      <td>329.0</td>\n",
       "      <td>17.956818</td>\n",
       "      <td>197.885101</td>\n",
       "      <td>17.196012</td>\n",
       "      <td>460.0</td>\n",
       "      <td>685.0</td>\n",
       "      <td>34</td>\n",
       "      <td>20.0</td>\n",
       "    </tr>\n",
       "    <tr>\n",
       "      <th>23</th>\n",
       "      <td>239.0</td>\n",
       "      <td>45.457848</td>\n",
       "      <td>176.629044</td>\n",
       "      <td>21.644506</td>\n",
       "      <td>439.0</td>\n",
       "      <td>159.0</td>\n",
       "      <td>36</td>\n",
       "      <td>12.0</td>\n",
       "    </tr>\n",
       "    <tr>\n",
       "      <th>24</th>\n",
       "      <td>12.0</td>\n",
       "      <td>0.000000</td>\n",
       "      <td>226.732712</td>\n",
       "      <td>9.133533</td>\n",
       "      <td>269.0</td>\n",
       "      <td>1107.0</td>\n",
       "      <td>37</td>\n",
       "      <td>6.0</td>\n",
       "    </tr>\n",
       "    <tr>\n",
       "      <th>25</th>\n",
       "      <td>312.0</td>\n",
       "      <td>4.802206</td>\n",
       "      <td>204.016037</td>\n",
       "      <td>13.896892</td>\n",
       "      <td>536.0</td>\n",
       "      <td>638.0</td>\n",
       "      <td>39</td>\n",
       "      <td>23.0</td>\n",
       "    </tr>\n",
       "    <tr>\n",
       "      <th>26</th>\n",
       "      <td>9.0</td>\n",
       "      <td>0.000000</td>\n",
       "      <td>215.359924</td>\n",
       "      <td>12.854068</td>\n",
       "      <td>269.0</td>\n",
       "      <td>1103.0</td>\n",
       "      <td>40</td>\n",
       "      <td>6.0</td>\n",
       "    </tr>\n",
       "    <tr>\n",
       "      <th>27</th>\n",
       "      <td>62.0</td>\n",
       "      <td>-56.915001</td>\n",
       "      <td>192.168274</td>\n",
       "      <td>18.213085</td>\n",
       "      <td>326.0</td>\n",
       "      <td>767.0</td>\n",
       "      <td>41</td>\n",
       "      <td>25.0</td>\n",
       "    </tr>\n",
       "    <tr>\n",
       "      <th>28</th>\n",
       "      <td>174.0</td>\n",
       "      <td>70.658531</td>\n",
       "      <td>198.351791</td>\n",
       "      <td>17.035284</td>\n",
       "      <td>337.0</td>\n",
       "      <td>665.0</td>\n",
       "      <td>43</td>\n",
       "      <td>11.0</td>\n",
       "    </tr>\n",
       "    <tr>\n",
       "      <th>29</th>\n",
       "      <td>21.0</td>\n",
       "      <td>3.989743</td>\n",
       "      <td>231.824127</td>\n",
       "      <td>6.966011</td>\n",
       "      <td>630.0</td>\n",
       "      <td>349.0</td>\n",
       "      <td>44</td>\n",
       "      <td>7.0</td>\n",
       "    </tr>\n",
       "  </tbody>\n",
       "</table>\n",
       "</div>"
      ],
      "text/plain": [
       "    longueur      angle      weight  precision   xPos    yPos  groupID  layer\n",
       "0      299.0  89.968964  242.817657   0.049711  354.0   645.0        0  177.0\n",
       "1      393.0   0.333435  228.166260   4.724359  414.0   650.0        2   49.0\n",
       "2      144.0  52.484070  188.254654  19.467165  419.0   195.0        3   34.0\n",
       "3       88.0 -57.607601  188.234344  18.926777  323.0   761.0        4   27.0\n",
       "4       87.0   0.000000  181.732483  20.223509  334.0   783.0        5   23.0\n",
       "5       44.0   0.000000  184.875198  19.954096  336.0   787.0        6   22.0\n",
       "6      366.0   0.196360  218.793945   8.218024  502.0   635.0        8   48.0\n",
       "7      120.0  46.034271  182.725845  20.411085  336.0   552.0        9   20.0\n",
       "8       60.0   0.000000  206.266861  14.879881  323.0   762.0       10   15.0\n",
       "9      265.0  51.675179  178.873459  21.223179  426.0   176.0       14   31.0\n",
       "10     262.0  18.600788  198.644073  16.406616  415.0   677.0       15   22.0\n",
       "11     400.0   5.294816  215.252930  10.588344  459.0   807.0       16   10.0\n",
       "12     355.0   2.843837  212.952438  11.818579  535.0   633.0       19   18.0\n",
       "13      56.0  45.831512  174.768768  21.567673  374.0    93.0       20   15.0\n",
       "14     105.0 -54.017818  174.222656  21.568506  338.0  1117.0       23    8.0\n",
       "15     236.0   0.000000  242.906387   0.000000  403.0   637.0       24   55.0\n",
       "16      46.0  18.708279  201.291901  16.194710  604.0   258.0       25    8.0\n",
       "17     230.0  52.297348  179.833893  20.938587  423.0   184.0       26   32.0\n",
       "18     112.0  43.962185  170.159805  22.145370  364.0    93.0       29   10.0\n",
       "19     297.0   0.000000  168.030472  22.335354  427.0   196.0       31   15.0\n",
       "20     324.0  36.529499  177.385406  21.068829  469.0   209.0       32   11.0\n",
       "21     110.0  56.879818  201.345474  16.366838  423.0   188.0       33   27.0\n",
       "22     329.0  17.956818  197.885101  17.196012  460.0   685.0       34   20.0\n",
       "23     239.0  45.457848  176.629044  21.644506  439.0   159.0       36   12.0\n",
       "24      12.0   0.000000  226.732712   9.133533  269.0  1107.0       37    6.0\n",
       "25     312.0   4.802206  204.016037  13.896892  536.0   638.0       39   23.0\n",
       "26       9.0   0.000000  215.359924  12.854068  269.0  1103.0       40    6.0\n",
       "27      62.0 -56.915001  192.168274  18.213085  326.0   767.0       41   25.0\n",
       "28     174.0  70.658531  198.351791  17.035284  337.0   665.0       43   11.0\n",
       "29      21.0   3.989743  231.824127   6.966011  630.0   349.0       44    7.0"
      ]
     },
     "execution_count": 123,
     "metadata": {},
     "output_type": "execute_result"
    }
   ],
   "source": [
    "LineNeuronPop"
   ]
  },
  {
   "cell_type": "markdown",
   "metadata": {},
   "source": [
    "#### Recherche de meilleurs paramètres pour la détection des lignes"
   ]
  },
  {
   "cell_type": "code",
   "execution_count": 124,
   "metadata": {
    "ExecuteTime": {
     "end_time": "2019-07-22T23:01:34.762725Z",
     "start_time": "2019-07-22T23:01:34.531997Z"
    }
   },
   "outputs": [
    {
     "data": {
      "image/png": "[encoded data removed]",
      "text/plain": [
       "<Figure size 432x288 with 1 Axes>"
      ]
     },
     "metadata": {
      "needs_background": "light"
     },
     "output_type": "display_data"
    }
   ],
   "source": [
    "lvhist = (titi['layer']\n",
    " .pipe(lambda s: pd.Series(np.histogram(s,  bins=512)))\n",
    " .pipe(lambda s: pd.Series(s[0], index=s[1][:-1]))\n",
    ")\n",
    "peaks,ldict = find_peaks(lvhist, height=7)\n",
    "ser = lvhist.to_numpy()\n",
    "plt.plot(ser)\n",
    "plt.plot(peaks, ser[peaks], \"x\")\n",
    "plt.plot(np.zeros_like(ser), \"--\", color=\"gray\")\n",
    "plt.ylabel('frequency')\n",
    "plt.show()"
   ]
  },
  {
   "cell_type": "code",
   "execution_count": 125,
   "metadata": {
    "ExecuteTime": {
     "end_time": "2019-07-22T23:01:34.978870Z",
     "start_time": "2019-07-22T23:01:34.765959Z"
    }
   },
   "outputs": [
    {
     "data": {
      "image/png": "[encoded data removed]",
      "text/plain": [
       "<Figure size 432x288 with 1 Axes>"
      ]
     },
     "metadata": {
      "needs_background": "light"
     },
     "output_type": "display_data"
    }
   ],
   "source": [
    "lvhist = (titi['layer']\n",
    " .pipe(lambda s: pd.Series(np.histogram(s,  bins=256)))\n",
    " .pipe(lambda s: pd.Series(s[0], index=s[1][:-1]))\n",
    ")\n",
    "peaks,ldict = find_peaks(lvhist, height=7)\n",
    "ser = lvhist.to_numpy()\n",
    "plt.plot(ser)\n",
    "plt.plot(peaks, ser[peaks], \"x\")\n",
    "plt.plot(np.zeros_like(ser), \"--\", color=\"gray\")\n",
    "plt.ylabel('frequency')\n",
    "plt.show()"
   ]
  },
  {
   "cell_type": "code",
   "execution_count": 126,
   "metadata": {
    "ExecuteTime": {
     "end_time": "2019-07-22T23:01:35.195027Z",
     "start_time": "2019-07-22T23:01:34.983106Z"
    }
   },
   "outputs": [
    {
     "data": {
      "image/png": "[encoded data removed]",
      "text/plain": [
       "<Figure size 432x288 with 1 Axes>"
      ]
     },
     "metadata": {
      "needs_background": "light"
     },
     "output_type": "display_data"
    }
   ],
   "source": [
    "lvhist = (titi['layer']\n",
    " .pipe(lambda s: pd.Series(np.histogram(s,  bins=128)))\n",
    " .pipe(lambda s: pd.Series(s[0], index=s[1][:-1]))\n",
    ")\n",
    "peaks,ldict = find_peaks(lvhist, height=7)\n",
    "ser = lvhist.to_numpy()\n",
    "plt.plot(ser)\n",
    "plt.plot(peaks, ser[peaks], \"x\")\n",
    "plt.plot(np.zeros_like(ser), \"--\", color=\"gray\")\n",
    "plt.ylabel('frequency')\n",
    "plt.show()"
   ]
  },
  {
   "cell_type": "code",
   "execution_count": 127,
   "metadata": {
    "ExecuteTime": {
     "end_time": "2019-07-22T23:01:35.508033Z",
     "start_time": "2019-07-22T23:01:35.197971Z"
    }
   },
   "outputs": [
    {
     "data": {
      "image/png": "[encoded data removed]",
      "text/plain": [
       "<Figure size 432x288 with 1 Axes>"
      ]
     },
     "metadata": {
      "needs_background": "light"
     },
     "output_type": "display_data"
    }
   ],
   "source": [
    "lvhist = (titi['layer']\n",
    " .pipe(lambda s: pd.Series(np.histogram(s,  bins=96)))\n",
    " .pipe(lambda s: pd.Series(s[0], index=s[1][:-1]))\n",
    ")\n",
    "peaks,ldict = find_peaks(lvhist, height=7)\n",
    "ser = lvhist.to_numpy()\n",
    "plt.plot(ser)\n",
    "plt.plot(peaks, ser[peaks], \"x\")\n",
    "plt.plot(np.zeros_like(ser), \"--\", color=\"gray\")\n",
    "plt.ylabel('frequency')\n",
    "plt.show()"
   ]
  },
  {
   "cell_type": "code",
   "execution_count": 168,
   "metadata": {
    "ExecuteTime": {
     "end_time": "2019-07-22T23:41:24.556849Z",
     "start_time": "2019-07-22T23:41:24.547196Z"
    }
   },
   "outputs": [],
   "source": [
    "LineNeuronPop = LineNeuronPop.drop(lpMoves[np.abs(lpMoves.angle)>5].index)"
   ]
  },
  {
   "cell_type": "code",
   "execution_count": 169,
   "metadata": {
    "ExecuteTime": {
     "end_time": "2019-07-22T23:41:27.621902Z",
     "start_time": "2019-07-22T23:41:27.617729Z"
    }
   },
   "outputs": [],
   "source": [
    "LineNeuronPop = LineNeuronPop.reset_index(drop=True)"
   ]
  },
  {
   "cell_type": "code",
   "execution_count": 170,
   "metadata": {
    "ExecuteTime": {
     "end_time": "2019-07-22T23:41:31.041960Z",
     "start_time": "2019-07-22T23:41:30.305628Z"
    }
   },
   "outputs": [
    {
     "data": {
      "image/png": "[encoded data removed]",
      "text/plain": [
       "<Figure size 432x288 with 1 Axes>"
      ]
     },
     "metadata": {
      "needs_background": "light"
     },
     "output_type": "display_data"
    }
   ],
   "source": [
    "testBitmap = np.zeros((frame.shape[0],frame.shape[1],3), np.uint8)\n",
    "testBitmap = drawFieldNeurons(LineNeuronPop, testBitmap,0,0)\n",
    "imgplot = plt.imshow(testBitmap)"
   ]
  },
  {
   "cell_type": "code",
   "execution_count": 171,
   "metadata": {
    "ExecuteTime": {
     "end_time": "2019-07-22T23:41:32.784127Z",
     "start_time": "2019-07-22T23:41:32.644779Z"
    }
   },
   "outputs": [],
   "source": [
    "lintI = 0\n",
    "while (lintI < 10):\n",
    "    cv2.imshow('Lignes raffinées', testBitmap)\n",
    "    if cv2.waitKey(1) & 0xFF == ord('q'): # press q to quit\n",
    "        break\n",
    "    lintI += 1"
   ]
  },
  {
   "cell_type": "code",
   "execution_count": 140,
   "metadata": {
    "ExecuteTime": {
     "end_time": "2019-07-22T23:20:03.254189Z",
     "start_time": "2019-07-22T23:20:03.226098Z"
    }
   },
   "outputs": [
    {
     "data": {
      "text/html": [
       "<div>\n",
       "<style scoped>\n",
       "    .dataframe tbody tr th:only-of-type {\n",
       "        vertical-align: middle;\n",
       "    }\n",
       "\n",
       "    .dataframe tbody tr th {\n",
       "        vertical-align: top;\n",
       "    }\n",
       "\n",
       "    .dataframe thead th {\n",
       "        text-align: right;\n",
       "    }\n",
       "</style>\n",
       "<table border=\"1\" class=\"dataframe\">\n",
       "  <thead>\n",
       "    <tr style=\"text-align: right;\">\n",
       "      <th></th>\n",
       "      <th>longueur</th>\n",
       "      <th>angle</th>\n",
       "      <th>weight</th>\n",
       "      <th>precision</th>\n",
       "      <th>xPos</th>\n",
       "      <th>yPos</th>\n",
       "      <th>groupID</th>\n",
       "      <th>layer</th>\n",
       "    </tr>\n",
       "  </thead>\n",
       "  <tbody>\n",
       "    <tr>\n",
       "      <th>0</th>\n",
       "      <td>299.0</td>\n",
       "      <td>89.968964</td>\n",
       "      <td>242.817657</td>\n",
       "      <td>0.049711</td>\n",
       "      <td>354.0</td>\n",
       "      <td>645.0</td>\n",
       "      <td>0</td>\n",
       "      <td>177.0</td>\n",
       "    </tr>\n",
       "    <tr>\n",
       "      <th>1</th>\n",
       "      <td>87.0</td>\n",
       "      <td>0.000000</td>\n",
       "      <td>181.732483</td>\n",
       "      <td>20.223509</td>\n",
       "      <td>334.0</td>\n",
       "      <td>783.0</td>\n",
       "      <td>5</td>\n",
       "      <td>23.0</td>\n",
       "    </tr>\n",
       "    <tr>\n",
       "      <th>2</th>\n",
       "      <td>44.0</td>\n",
       "      <td>0.000000</td>\n",
       "      <td>184.875198</td>\n",
       "      <td>19.954096</td>\n",
       "      <td>336.0</td>\n",
       "      <td>787.0</td>\n",
       "      <td>6</td>\n",
       "      <td>22.0</td>\n",
       "    </tr>\n",
       "    <tr>\n",
       "      <th>3</th>\n",
       "      <td>60.0</td>\n",
       "      <td>0.000000</td>\n",
       "      <td>206.266861</td>\n",
       "      <td>14.879881</td>\n",
       "      <td>323.0</td>\n",
       "      <td>762.0</td>\n",
       "      <td>10</td>\n",
       "      <td>15.0</td>\n",
       "    </tr>\n",
       "    <tr>\n",
       "      <th>4</th>\n",
       "      <td>265.0</td>\n",
       "      <td>51.675179</td>\n",
       "      <td>178.873459</td>\n",
       "      <td>21.223179</td>\n",
       "      <td>426.0</td>\n",
       "      <td>176.0</td>\n",
       "      <td>14</td>\n",
       "      <td>31.0</td>\n",
       "    </tr>\n",
       "    <tr>\n",
       "      <th>5</th>\n",
       "      <td>400.0</td>\n",
       "      <td>5.294816</td>\n",
       "      <td>215.252930</td>\n",
       "      <td>10.588344</td>\n",
       "      <td>459.0</td>\n",
       "      <td>807.0</td>\n",
       "      <td>16</td>\n",
       "      <td>10.0</td>\n",
       "    </tr>\n",
       "    <tr>\n",
       "      <th>6</th>\n",
       "      <td>355.0</td>\n",
       "      <td>2.843837</td>\n",
       "      <td>212.952438</td>\n",
       "      <td>11.818579</td>\n",
       "      <td>535.0</td>\n",
       "      <td>633.0</td>\n",
       "      <td>19</td>\n",
       "      <td>18.0</td>\n",
       "    </tr>\n",
       "    <tr>\n",
       "      <th>7</th>\n",
       "      <td>56.0</td>\n",
       "      <td>45.831512</td>\n",
       "      <td>174.768768</td>\n",
       "      <td>21.567673</td>\n",
       "      <td>374.0</td>\n",
       "      <td>93.0</td>\n",
       "      <td>20</td>\n",
       "      <td>15.0</td>\n",
       "    </tr>\n",
       "    <tr>\n",
       "      <th>8</th>\n",
       "      <td>236.0</td>\n",
       "      <td>0.000000</td>\n",
       "      <td>242.906387</td>\n",
       "      <td>0.000000</td>\n",
       "      <td>403.0</td>\n",
       "      <td>637.0</td>\n",
       "      <td>24</td>\n",
       "      <td>55.0</td>\n",
       "    </tr>\n",
       "    <tr>\n",
       "      <th>9</th>\n",
       "      <td>46.0</td>\n",
       "      <td>18.708279</td>\n",
       "      <td>201.291901</td>\n",
       "      <td>16.194710</td>\n",
       "      <td>604.0</td>\n",
       "      <td>258.0</td>\n",
       "      <td>25</td>\n",
       "      <td>8.0</td>\n",
       "    </tr>\n",
       "    <tr>\n",
       "      <th>10</th>\n",
       "      <td>112.0</td>\n",
       "      <td>43.962185</td>\n",
       "      <td>170.159805</td>\n",
       "      <td>22.145370</td>\n",
       "      <td>364.0</td>\n",
       "      <td>93.0</td>\n",
       "      <td>29</td>\n",
       "      <td>10.0</td>\n",
       "    </tr>\n",
       "    <tr>\n",
       "      <th>11</th>\n",
       "      <td>329.0</td>\n",
       "      <td>17.956818</td>\n",
       "      <td>197.885101</td>\n",
       "      <td>17.196012</td>\n",
       "      <td>460.0</td>\n",
       "      <td>685.0</td>\n",
       "      <td>34</td>\n",
       "      <td>20.0</td>\n",
       "    </tr>\n",
       "    <tr>\n",
       "      <th>12</th>\n",
       "      <td>239.0</td>\n",
       "      <td>45.457848</td>\n",
       "      <td>176.629044</td>\n",
       "      <td>21.644506</td>\n",
       "      <td>439.0</td>\n",
       "      <td>159.0</td>\n",
       "      <td>36</td>\n",
       "      <td>12.0</td>\n",
       "    </tr>\n",
       "    <tr>\n",
       "      <th>13</th>\n",
       "      <td>312.0</td>\n",
       "      <td>4.802206</td>\n",
       "      <td>204.016037</td>\n",
       "      <td>13.896892</td>\n",
       "      <td>536.0</td>\n",
       "      <td>638.0</td>\n",
       "      <td>39</td>\n",
       "      <td>23.0</td>\n",
       "    </tr>\n",
       "    <tr>\n",
       "      <th>14</th>\n",
       "      <td>62.0</td>\n",
       "      <td>-56.915001</td>\n",
       "      <td>192.168274</td>\n",
       "      <td>18.213085</td>\n",
       "      <td>326.0</td>\n",
       "      <td>767.0</td>\n",
       "      <td>41</td>\n",
       "      <td>25.0</td>\n",
       "    </tr>\n",
       "  </tbody>\n",
       "</table>\n",
       "</div>"
      ],
      "text/plain": [
       "    longueur      angle      weight  precision   xPos   yPos  groupID  layer\n",
       "0      299.0  89.968964  242.817657   0.049711  354.0  645.0        0  177.0\n",
       "1       87.0   0.000000  181.732483  20.223509  334.0  783.0        5   23.0\n",
       "2       44.0   0.000000  184.875198  19.954096  336.0  787.0        6   22.0\n",
       "3       60.0   0.000000  206.266861  14.879881  323.0  762.0       10   15.0\n",
       "4      265.0  51.675179  178.873459  21.223179  426.0  176.0       14   31.0\n",
       "5      400.0   5.294816  215.252930  10.588344  459.0  807.0       16   10.0\n",
       "6      355.0   2.843837  212.952438  11.818579  535.0  633.0       19   18.0\n",
       "7       56.0  45.831512  174.768768  21.567673  374.0   93.0       20   15.0\n",
       "8      236.0   0.000000  242.906387   0.000000  403.0  637.0       24   55.0\n",
       "9       46.0  18.708279  201.291901  16.194710  604.0  258.0       25    8.0\n",
       "10     112.0  43.962185  170.159805  22.145370  364.0   93.0       29   10.0\n",
       "11     329.0  17.956818  197.885101  17.196012  460.0  685.0       34   20.0\n",
       "12     239.0  45.457848  176.629044  21.644506  439.0  159.0       36   12.0\n",
       "13     312.0   4.802206  204.016037  13.896892  536.0  638.0       39   23.0\n",
       "14      62.0 -56.915001  192.168274  18.213085  326.0  767.0       41   25.0"
      ]
     },
     "execution_count": 140,
     "metadata": {},
     "output_type": "execute_result"
    }
   ],
   "source": [
    "LineNeuronPop"
   ]
  },
  {
   "cell_type": "code",
   "execution_count": null,
   "metadata": {},
   "outputs": [],
   "source": []
  }
 ],
 "metadata": {
  "kernelspec": {
   "display_name": "Python 3",
   "language": "python",
   "name": "python3"
  },
  "language_info": {
   "codemirror_mode": {
    "name": "ipython",
    "version": 3
   },
   "file_extension": ".py",
   "mimetype": "text/x-python",
   "name": "python",
   "nbconvert_exporter": "python",
   "pygments_lexer": "ipython3",
   "version": "3.7.3"
  },
  "toc": {
   "base_numbering": 1,
   "nav_menu": {},
   "number_sections": true,
   "sideBar": true,
   "skip_h1_title": false,
   "title_cell": "Table of Contents",
   "title_sidebar": "Contents",
   "toc_cell": false,
   "toc_position": {
    "height": "calc(100% - 180px)",
    "left": "10px",
    "top": "150px",
    "width": "448px"
   },
   "toc_section_display": true,
   "toc_window_display": true
  },
  "varInspector": {
   "cols": {
    "lenName": 16,
    "lenType": 16,
    "lenVar": 40
   },
   "kernels_config": {
    "python": {
     "delete_cmd_postfix": "",
     "delete_cmd_prefix": "del ",
     "library": "var_list.py",
     "varRefreshCmd": "print(var_dic_list())"
    },
    "r": {
     "delete_cmd_postfix": ") ",
     "delete_cmd_prefix": "rm(",
     "library": "var_list.r",
     "varRefreshCmd": "cat(var_dic_list()) "
    }
   },
   "types_to_exclude": [
    "module",
    "function",
    "builtin_function_or_method",
    "instance",
    "_Feature"
   ],
   "window_display": false
  }
 },
 "nbformat": 4,
 "nbformat_minor": 2
}
